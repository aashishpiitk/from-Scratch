{
  "nbformat": 4,
  "nbformat_minor": 0,
  "metadata": {
    "colab": {
      "name": "CGAN_implementation_with_coursera_one_hot_logic.ipynb",
      "provenance": [],
      "collapsed_sections": [],
      "mount_file_id": "10ddqJq6uFJUPVQB5dVuvsZLKgtRzHx18",
      "authorship_tag": "ABX9TyOCZvAopnEsazDrFBZoceLR",
      "include_colab_link": true
    },
    "kernelspec": {
      "name": "python3",
      "display_name": "Python 3"
    },
    "language_info": {
      "name": "python"
    },
    "accelerator": "GPU",
    "widgets": {
      "application/vnd.jupyter.widget-state+json": {
        "ec0b3a094e7a44339d2bbde3bb89a9a7": {
          "model_module": "@jupyter-widgets/controls",
          "model_name": "HBoxModel",
          "state": {
            "_view_name": "HBoxView",
            "_dom_classes": [],
            "_model_name": "HBoxModel",
            "_view_module": "@jupyter-widgets/controls",
            "_model_module_version": "1.5.0",
            "_view_count": null,
            "_view_module_version": "1.5.0",
            "box_style": "",
            "layout": "IPY_MODEL_42bd1613120748099bc305f867d2f8f2",
            "_model_module": "@jupyter-widgets/controls",
            "children": [
              "IPY_MODEL_58b236a0d33747e8befb85acb0825494",
              "IPY_MODEL_3c1a389d3fc34ab6a180424333cef726"
            ]
          }
        },
        "42bd1613120748099bc305f867d2f8f2": {
          "model_module": "@jupyter-widgets/base",
          "model_name": "LayoutModel",
          "state": {
            "_view_name": "LayoutView",
            "grid_template_rows": null,
            "right": null,
            "justify_content": null,
            "_view_module": "@jupyter-widgets/base",
            "overflow": null,
            "_model_module_version": "1.2.0",
            "_view_count": null,
            "flex_flow": null,
            "width": null,
            "min_width": null,
            "border": null,
            "align_items": null,
            "bottom": null,
            "_model_module": "@jupyter-widgets/base",
            "top": null,
            "grid_column": null,
            "overflow_y": null,
            "overflow_x": null,
            "grid_auto_flow": null,
            "grid_area": null,
            "grid_template_columns": null,
            "flex": null,
            "_model_name": "LayoutModel",
            "justify_items": null,
            "grid_row": null,
            "max_height": null,
            "align_content": null,
            "visibility": null,
            "align_self": null,
            "height": null,
            "min_height": null,
            "padding": null,
            "grid_auto_rows": null,
            "grid_gap": null,
            "max_width": null,
            "order": null,
            "_view_module_version": "1.2.0",
            "grid_template_areas": null,
            "object_position": null,
            "object_fit": null,
            "grid_auto_columns": null,
            "margin": null,
            "display": null,
            "left": null
          }
        },
        "58b236a0d33747e8befb85acb0825494": {
          "model_module": "@jupyter-widgets/controls",
          "model_name": "FloatProgressModel",
          "state": {
            "_view_name": "ProgressView",
            "style": "IPY_MODEL_4df4ba9b0c5f4d6691a2de480ec283cb",
            "_dom_classes": [],
            "description": "",
            "_model_name": "FloatProgressModel",
            "bar_style": "success",
            "max": 9912422,
            "_view_module": "@jupyter-widgets/controls",
            "_model_module_version": "1.5.0",
            "value": 9912422,
            "_view_count": null,
            "_view_module_version": "1.5.0",
            "orientation": "horizontal",
            "min": 0,
            "description_tooltip": null,
            "_model_module": "@jupyter-widgets/controls",
            "layout": "IPY_MODEL_f4aae077cbb740ba8ee34c1081ada592"
          }
        },
        "3c1a389d3fc34ab6a180424333cef726": {
          "model_module": "@jupyter-widgets/controls",
          "model_name": "HTMLModel",
          "state": {
            "_view_name": "HTMLView",
            "style": "IPY_MODEL_307cef869c1f44e7929349fa171bc7fb",
            "_dom_classes": [],
            "description": "",
            "_model_name": "HTMLModel",
            "placeholder": "​",
            "_view_module": "@jupyter-widgets/controls",
            "_model_module_version": "1.5.0",
            "value": " 9913344/? [02:35&lt;00:00, 63850.14it/s]",
            "_view_count": null,
            "_view_module_version": "1.5.0",
            "description_tooltip": null,
            "_model_module": "@jupyter-widgets/controls",
            "layout": "IPY_MODEL_3face0492d68467398f77841341b19c4"
          }
        },
        "4df4ba9b0c5f4d6691a2de480ec283cb": {
          "model_module": "@jupyter-widgets/controls",
          "model_name": "ProgressStyleModel",
          "state": {
            "_view_name": "StyleView",
            "_model_name": "ProgressStyleModel",
            "description_width": "initial",
            "_view_module": "@jupyter-widgets/base",
            "_model_module_version": "1.5.0",
            "_view_count": null,
            "_view_module_version": "1.2.0",
            "bar_color": null,
            "_model_module": "@jupyter-widgets/controls"
          }
        },
        "f4aae077cbb740ba8ee34c1081ada592": {
          "model_module": "@jupyter-widgets/base",
          "model_name": "LayoutModel",
          "state": {
            "_view_name": "LayoutView",
            "grid_template_rows": null,
            "right": null,
            "justify_content": null,
            "_view_module": "@jupyter-widgets/base",
            "overflow": null,
            "_model_module_version": "1.2.0",
            "_view_count": null,
            "flex_flow": null,
            "width": null,
            "min_width": null,
            "border": null,
            "align_items": null,
            "bottom": null,
            "_model_module": "@jupyter-widgets/base",
            "top": null,
            "grid_column": null,
            "overflow_y": null,
            "overflow_x": null,
            "grid_auto_flow": null,
            "grid_area": null,
            "grid_template_columns": null,
            "flex": null,
            "_model_name": "LayoutModel",
            "justify_items": null,
            "grid_row": null,
            "max_height": null,
            "align_content": null,
            "visibility": null,
            "align_self": null,
            "height": null,
            "min_height": null,
            "padding": null,
            "grid_auto_rows": null,
            "grid_gap": null,
            "max_width": null,
            "order": null,
            "_view_module_version": "1.2.0",
            "grid_template_areas": null,
            "object_position": null,
            "object_fit": null,
            "grid_auto_columns": null,
            "margin": null,
            "display": null,
            "left": null
          }
        },
        "307cef869c1f44e7929349fa171bc7fb": {
          "model_module": "@jupyter-widgets/controls",
          "model_name": "DescriptionStyleModel",
          "state": {
            "_view_name": "StyleView",
            "_model_name": "DescriptionStyleModel",
            "description_width": "",
            "_view_module": "@jupyter-widgets/base",
            "_model_module_version": "1.5.0",
            "_view_count": null,
            "_view_module_version": "1.2.0",
            "_model_module": "@jupyter-widgets/controls"
          }
        },
        "3face0492d68467398f77841341b19c4": {
          "model_module": "@jupyter-widgets/base",
          "model_name": "LayoutModel",
          "state": {
            "_view_name": "LayoutView",
            "grid_template_rows": null,
            "right": null,
            "justify_content": null,
            "_view_module": "@jupyter-widgets/base",
            "overflow": null,
            "_model_module_version": "1.2.0",
            "_view_count": null,
            "flex_flow": null,
            "width": null,
            "min_width": null,
            "border": null,
            "align_items": null,
            "bottom": null,
            "_model_module": "@jupyter-widgets/base",
            "top": null,
            "grid_column": null,
            "overflow_y": null,
            "overflow_x": null,
            "grid_auto_flow": null,
            "grid_area": null,
            "grid_template_columns": null,
            "flex": null,
            "_model_name": "LayoutModel",
            "justify_items": null,
            "grid_row": null,
            "max_height": null,
            "align_content": null,
            "visibility": null,
            "align_self": null,
            "height": null,
            "min_height": null,
            "padding": null,
            "grid_auto_rows": null,
            "grid_gap": null,
            "max_width": null,
            "order": null,
            "_view_module_version": "1.2.0",
            "grid_template_areas": null,
            "object_position": null,
            "object_fit": null,
            "grid_auto_columns": null,
            "margin": null,
            "display": null,
            "left": null
          }
        },
        "e407fffdd8e84d7698f721b2928ea823": {
          "model_module": "@jupyter-widgets/controls",
          "model_name": "HBoxModel",
          "state": {
            "_view_name": "HBoxView",
            "_dom_classes": [],
            "_model_name": "HBoxModel",
            "_view_module": "@jupyter-widgets/controls",
            "_model_module_version": "1.5.0",
            "_view_count": null,
            "_view_module_version": "1.5.0",
            "box_style": "",
            "layout": "IPY_MODEL_4653240941db4867aec6c53c6a2c3ef6",
            "_model_module": "@jupyter-widgets/controls",
            "children": [
              "IPY_MODEL_6b38ca6ab088476ea400e891e9e97441",
              "IPY_MODEL_0bcfd03275ce4728b42684ba65193792"
            ]
          }
        },
        "4653240941db4867aec6c53c6a2c3ef6": {
          "model_module": "@jupyter-widgets/base",
          "model_name": "LayoutModel",
          "state": {
            "_view_name": "LayoutView",
            "grid_template_rows": null,
            "right": null,
            "justify_content": null,
            "_view_module": "@jupyter-widgets/base",
            "overflow": null,
            "_model_module_version": "1.2.0",
            "_view_count": null,
            "flex_flow": null,
            "width": null,
            "min_width": null,
            "border": null,
            "align_items": null,
            "bottom": null,
            "_model_module": "@jupyter-widgets/base",
            "top": null,
            "grid_column": null,
            "overflow_y": null,
            "overflow_x": null,
            "grid_auto_flow": null,
            "grid_area": null,
            "grid_template_columns": null,
            "flex": null,
            "_model_name": "LayoutModel",
            "justify_items": null,
            "grid_row": null,
            "max_height": null,
            "align_content": null,
            "visibility": null,
            "align_self": null,
            "height": null,
            "min_height": null,
            "padding": null,
            "grid_auto_rows": null,
            "grid_gap": null,
            "max_width": null,
            "order": null,
            "_view_module_version": "1.2.0",
            "grid_template_areas": null,
            "object_position": null,
            "object_fit": null,
            "grid_auto_columns": null,
            "margin": null,
            "display": null,
            "left": null
          }
        },
        "6b38ca6ab088476ea400e891e9e97441": {
          "model_module": "@jupyter-widgets/controls",
          "model_name": "FloatProgressModel",
          "state": {
            "_view_name": "ProgressView",
            "style": "IPY_MODEL_af148a8a92454841a4c6ab414c02c788",
            "_dom_classes": [],
            "description": "",
            "_model_name": "FloatProgressModel",
            "bar_style": "success",
            "max": 28881,
            "_view_module": "@jupyter-widgets/controls",
            "_model_module_version": "1.5.0",
            "value": 28881,
            "_view_count": null,
            "_view_module_version": "1.5.0",
            "orientation": "horizontal",
            "min": 0,
            "description_tooltip": null,
            "_model_module": "@jupyter-widgets/controls",
            "layout": "IPY_MODEL_e8291d3e71cc4209afb15d91d2648956"
          }
        },
        "0bcfd03275ce4728b42684ba65193792": {
          "model_module": "@jupyter-widgets/controls",
          "model_name": "HTMLModel",
          "state": {
            "_view_name": "HTMLView",
            "style": "IPY_MODEL_d79ac246f33047199614b9253e977d55",
            "_dom_classes": [],
            "description": "",
            "_model_name": "HTMLModel",
            "placeholder": "​",
            "_view_module": "@jupyter-widgets/controls",
            "_model_module_version": "1.5.0",
            "value": " 29696/? [00:16&lt;00:00, 1805.07it/s]",
            "_view_count": null,
            "_view_module_version": "1.5.0",
            "description_tooltip": null,
            "_model_module": "@jupyter-widgets/controls",
            "layout": "IPY_MODEL_2df72095417547b6b32d0492252c35f4"
          }
        },
        "af148a8a92454841a4c6ab414c02c788": {
          "model_module": "@jupyter-widgets/controls",
          "model_name": "ProgressStyleModel",
          "state": {
            "_view_name": "StyleView",
            "_model_name": "ProgressStyleModel",
            "description_width": "initial",
            "_view_module": "@jupyter-widgets/base",
            "_model_module_version": "1.5.0",
            "_view_count": null,
            "_view_module_version": "1.2.0",
            "bar_color": null,
            "_model_module": "@jupyter-widgets/controls"
          }
        },
        "e8291d3e71cc4209afb15d91d2648956": {
          "model_module": "@jupyter-widgets/base",
          "model_name": "LayoutModel",
          "state": {
            "_view_name": "LayoutView",
            "grid_template_rows": null,
            "right": null,
            "justify_content": null,
            "_view_module": "@jupyter-widgets/base",
            "overflow": null,
            "_model_module_version": "1.2.0",
            "_view_count": null,
            "flex_flow": null,
            "width": null,
            "min_width": null,
            "border": null,
            "align_items": null,
            "bottom": null,
            "_model_module": "@jupyter-widgets/base",
            "top": null,
            "grid_column": null,
            "overflow_y": null,
            "overflow_x": null,
            "grid_auto_flow": null,
            "grid_area": null,
            "grid_template_columns": null,
            "flex": null,
            "_model_name": "LayoutModel",
            "justify_items": null,
            "grid_row": null,
            "max_height": null,
            "align_content": null,
            "visibility": null,
            "align_self": null,
            "height": null,
            "min_height": null,
            "padding": null,
            "grid_auto_rows": null,
            "grid_gap": null,
            "max_width": null,
            "order": null,
            "_view_module_version": "1.2.0",
            "grid_template_areas": null,
            "object_position": null,
            "object_fit": null,
            "grid_auto_columns": null,
            "margin": null,
            "display": null,
            "left": null
          }
        },
        "d79ac246f33047199614b9253e977d55": {
          "model_module": "@jupyter-widgets/controls",
          "model_name": "DescriptionStyleModel",
          "state": {
            "_view_name": "StyleView",
            "_model_name": "DescriptionStyleModel",
            "description_width": "",
            "_view_module": "@jupyter-widgets/base",
            "_model_module_version": "1.5.0",
            "_view_count": null,
            "_view_module_version": "1.2.0",
            "_model_module": "@jupyter-widgets/controls"
          }
        },
        "2df72095417547b6b32d0492252c35f4": {
          "model_module": "@jupyter-widgets/base",
          "model_name": "LayoutModel",
          "state": {
            "_view_name": "LayoutView",
            "grid_template_rows": null,
            "right": null,
            "justify_content": null,
            "_view_module": "@jupyter-widgets/base",
            "overflow": null,
            "_model_module_version": "1.2.0",
            "_view_count": null,
            "flex_flow": null,
            "width": null,
            "min_width": null,
            "border": null,
            "align_items": null,
            "bottom": null,
            "_model_module": "@jupyter-widgets/base",
            "top": null,
            "grid_column": null,
            "overflow_y": null,
            "overflow_x": null,
            "grid_auto_flow": null,
            "grid_area": null,
            "grid_template_columns": null,
            "flex": null,
            "_model_name": "LayoutModel",
            "justify_items": null,
            "grid_row": null,
            "max_height": null,
            "align_content": null,
            "visibility": null,
            "align_self": null,
            "height": null,
            "min_height": null,
            "padding": null,
            "grid_auto_rows": null,
            "grid_gap": null,
            "max_width": null,
            "order": null,
            "_view_module_version": "1.2.0",
            "grid_template_areas": null,
            "object_position": null,
            "object_fit": null,
            "grid_auto_columns": null,
            "margin": null,
            "display": null,
            "left": null
          }
        },
        "94c132ed622f4d0893a2abb9c78d71b3": {
          "model_module": "@jupyter-widgets/controls",
          "model_name": "HBoxModel",
          "state": {
            "_view_name": "HBoxView",
            "_dom_classes": [],
            "_model_name": "HBoxModel",
            "_view_module": "@jupyter-widgets/controls",
            "_model_module_version": "1.5.0",
            "_view_count": null,
            "_view_module_version": "1.5.0",
            "box_style": "",
            "layout": "IPY_MODEL_5ec0540341b8471191baf1534b56cb66",
            "_model_module": "@jupyter-widgets/controls",
            "children": [
              "IPY_MODEL_a1785b0ab13e4a8bbd08a2c6c3ac40af",
              "IPY_MODEL_44bb833c9aa043a6a78fc5960bff97a6"
            ]
          }
        },
        "5ec0540341b8471191baf1534b56cb66": {
          "model_module": "@jupyter-widgets/base",
          "model_name": "LayoutModel",
          "state": {
            "_view_name": "LayoutView",
            "grid_template_rows": null,
            "right": null,
            "justify_content": null,
            "_view_module": "@jupyter-widgets/base",
            "overflow": null,
            "_model_module_version": "1.2.0",
            "_view_count": null,
            "flex_flow": null,
            "width": null,
            "min_width": null,
            "border": null,
            "align_items": null,
            "bottom": null,
            "_model_module": "@jupyter-widgets/base",
            "top": null,
            "grid_column": null,
            "overflow_y": null,
            "overflow_x": null,
            "grid_auto_flow": null,
            "grid_area": null,
            "grid_template_columns": null,
            "flex": null,
            "_model_name": "LayoutModel",
            "justify_items": null,
            "grid_row": null,
            "max_height": null,
            "align_content": null,
            "visibility": null,
            "align_self": null,
            "height": null,
            "min_height": null,
            "padding": null,
            "grid_auto_rows": null,
            "grid_gap": null,
            "max_width": null,
            "order": null,
            "_view_module_version": "1.2.0",
            "grid_template_areas": null,
            "object_position": null,
            "object_fit": null,
            "grid_auto_columns": null,
            "margin": null,
            "display": null,
            "left": null
          }
        },
        "a1785b0ab13e4a8bbd08a2c6c3ac40af": {
          "model_module": "@jupyter-widgets/controls",
          "model_name": "FloatProgressModel",
          "state": {
            "_view_name": "ProgressView",
            "style": "IPY_MODEL_38f6c5c295df455cbce9831e6e56ccdd",
            "_dom_classes": [],
            "description": "",
            "_model_name": "FloatProgressModel",
            "bar_style": "success",
            "max": 1648877,
            "_view_module": "@jupyter-widgets/controls",
            "_model_module_version": "1.5.0",
            "value": 1648877,
            "_view_count": null,
            "_view_module_version": "1.5.0",
            "orientation": "horizontal",
            "min": 0,
            "description_tooltip": null,
            "_model_module": "@jupyter-widgets/controls",
            "layout": "IPY_MODEL_9bd937d8499b426eb734f54242237671"
          }
        },
        "44bb833c9aa043a6a78fc5960bff97a6": {
          "model_module": "@jupyter-widgets/controls",
          "model_name": "HTMLModel",
          "state": {
            "_view_name": "HTMLView",
            "style": "IPY_MODEL_066c16bf09fa40ccab3c9842f1ff2439",
            "_dom_classes": [],
            "description": "",
            "_model_name": "HTMLModel",
            "placeholder": "​",
            "_view_module": "@jupyter-widgets/controls",
            "_model_module_version": "1.5.0",
            "value": " 1649664/? [00:16&lt;00:00, 101266.86it/s]",
            "_view_count": null,
            "_view_module_version": "1.5.0",
            "description_tooltip": null,
            "_model_module": "@jupyter-widgets/controls",
            "layout": "IPY_MODEL_545e9047d9a94515b4c5156e8a19292d"
          }
        },
        "38f6c5c295df455cbce9831e6e56ccdd": {
          "model_module": "@jupyter-widgets/controls",
          "model_name": "ProgressStyleModel",
          "state": {
            "_view_name": "StyleView",
            "_model_name": "ProgressStyleModel",
            "description_width": "initial",
            "_view_module": "@jupyter-widgets/base",
            "_model_module_version": "1.5.0",
            "_view_count": null,
            "_view_module_version": "1.2.0",
            "bar_color": null,
            "_model_module": "@jupyter-widgets/controls"
          }
        },
        "9bd937d8499b426eb734f54242237671": {
          "model_module": "@jupyter-widgets/base",
          "model_name": "LayoutModel",
          "state": {
            "_view_name": "LayoutView",
            "grid_template_rows": null,
            "right": null,
            "justify_content": null,
            "_view_module": "@jupyter-widgets/base",
            "overflow": null,
            "_model_module_version": "1.2.0",
            "_view_count": null,
            "flex_flow": null,
            "width": null,
            "min_width": null,
            "border": null,
            "align_items": null,
            "bottom": null,
            "_model_module": "@jupyter-widgets/base",
            "top": null,
            "grid_column": null,
            "overflow_y": null,
            "overflow_x": null,
            "grid_auto_flow": null,
            "grid_area": null,
            "grid_template_columns": null,
            "flex": null,
            "_model_name": "LayoutModel",
            "justify_items": null,
            "grid_row": null,
            "max_height": null,
            "align_content": null,
            "visibility": null,
            "align_self": null,
            "height": null,
            "min_height": null,
            "padding": null,
            "grid_auto_rows": null,
            "grid_gap": null,
            "max_width": null,
            "order": null,
            "_view_module_version": "1.2.0",
            "grid_template_areas": null,
            "object_position": null,
            "object_fit": null,
            "grid_auto_columns": null,
            "margin": null,
            "display": null,
            "left": null
          }
        },
        "066c16bf09fa40ccab3c9842f1ff2439": {
          "model_module": "@jupyter-widgets/controls",
          "model_name": "DescriptionStyleModel",
          "state": {
            "_view_name": "StyleView",
            "_model_name": "DescriptionStyleModel",
            "description_width": "",
            "_view_module": "@jupyter-widgets/base",
            "_model_module_version": "1.5.0",
            "_view_count": null,
            "_view_module_version": "1.2.0",
            "_model_module": "@jupyter-widgets/controls"
          }
        },
        "545e9047d9a94515b4c5156e8a19292d": {
          "model_module": "@jupyter-widgets/base",
          "model_name": "LayoutModel",
          "state": {
            "_view_name": "LayoutView",
            "grid_template_rows": null,
            "right": null,
            "justify_content": null,
            "_view_module": "@jupyter-widgets/base",
            "overflow": null,
            "_model_module_version": "1.2.0",
            "_view_count": null,
            "flex_flow": null,
            "width": null,
            "min_width": null,
            "border": null,
            "align_items": null,
            "bottom": null,
            "_model_module": "@jupyter-widgets/base",
            "top": null,
            "grid_column": null,
            "overflow_y": null,
            "overflow_x": null,
            "grid_auto_flow": null,
            "grid_area": null,
            "grid_template_columns": null,
            "flex": null,
            "_model_name": "LayoutModel",
            "justify_items": null,
            "grid_row": null,
            "max_height": null,
            "align_content": null,
            "visibility": null,
            "align_self": null,
            "height": null,
            "min_height": null,
            "padding": null,
            "grid_auto_rows": null,
            "grid_gap": null,
            "max_width": null,
            "order": null,
            "_view_module_version": "1.2.0",
            "grid_template_areas": null,
            "object_position": null,
            "object_fit": null,
            "grid_auto_columns": null,
            "margin": null,
            "display": null,
            "left": null
          }
        },
        "52c23ba639ed4861a3b9dc70e62b063c": {
          "model_module": "@jupyter-widgets/controls",
          "model_name": "HBoxModel",
          "state": {
            "_view_name": "HBoxView",
            "_dom_classes": [],
            "_model_name": "HBoxModel",
            "_view_module": "@jupyter-widgets/controls",
            "_model_module_version": "1.5.0",
            "_view_count": null,
            "_view_module_version": "1.5.0",
            "box_style": "",
            "layout": "IPY_MODEL_8e1b5f5eb13b43b0aaa619560df68a6b",
            "_model_module": "@jupyter-widgets/controls",
            "children": [
              "IPY_MODEL_bb0e4d09f5ad4af6b63531458575014d",
              "IPY_MODEL_f2773d965e1d4f859ec69a18d69c9c9d"
            ]
          }
        },
        "8e1b5f5eb13b43b0aaa619560df68a6b": {
          "model_module": "@jupyter-widgets/base",
          "model_name": "LayoutModel",
          "state": {
            "_view_name": "LayoutView",
            "grid_template_rows": null,
            "right": null,
            "justify_content": null,
            "_view_module": "@jupyter-widgets/base",
            "overflow": null,
            "_model_module_version": "1.2.0",
            "_view_count": null,
            "flex_flow": null,
            "width": null,
            "min_width": null,
            "border": null,
            "align_items": null,
            "bottom": null,
            "_model_module": "@jupyter-widgets/base",
            "top": null,
            "grid_column": null,
            "overflow_y": null,
            "overflow_x": null,
            "grid_auto_flow": null,
            "grid_area": null,
            "grid_template_columns": null,
            "flex": null,
            "_model_name": "LayoutModel",
            "justify_items": null,
            "grid_row": null,
            "max_height": null,
            "align_content": null,
            "visibility": null,
            "align_self": null,
            "height": null,
            "min_height": null,
            "padding": null,
            "grid_auto_rows": null,
            "grid_gap": null,
            "max_width": null,
            "order": null,
            "_view_module_version": "1.2.0",
            "grid_template_areas": null,
            "object_position": null,
            "object_fit": null,
            "grid_auto_columns": null,
            "margin": null,
            "display": null,
            "left": null
          }
        },
        "bb0e4d09f5ad4af6b63531458575014d": {
          "model_module": "@jupyter-widgets/controls",
          "model_name": "FloatProgressModel",
          "state": {
            "_view_name": "ProgressView",
            "style": "IPY_MODEL_f53318f414a84016ab70ae17a73f49af",
            "_dom_classes": [],
            "description": "",
            "_model_name": "FloatProgressModel",
            "bar_style": "success",
            "max": 4542,
            "_view_module": "@jupyter-widgets/controls",
            "_model_module_version": "1.5.0",
            "value": 4542,
            "_view_count": null,
            "_view_module_version": "1.5.0",
            "orientation": "horizontal",
            "min": 0,
            "description_tooltip": null,
            "_model_module": "@jupyter-widgets/controls",
            "layout": "IPY_MODEL_f6f8c893ec914712a0e372065d9c1ac9"
          }
        },
        "f2773d965e1d4f859ec69a18d69c9c9d": {
          "model_module": "@jupyter-widgets/controls",
          "model_name": "HTMLModel",
          "state": {
            "_view_name": "HTMLView",
            "style": "IPY_MODEL_93f5d0e7835e4302883d177b767413dd",
            "_dom_classes": [],
            "description": "",
            "_model_name": "HTMLModel",
            "placeholder": "​",
            "_view_module": "@jupyter-widgets/controls",
            "_model_module_version": "1.5.0",
            "value": " 5120/? [00:49&lt;00:00, 104.01it/s]",
            "_view_count": null,
            "_view_module_version": "1.5.0",
            "description_tooltip": null,
            "_model_module": "@jupyter-widgets/controls",
            "layout": "IPY_MODEL_c8d171967f0647ccb13aff621d128b29"
          }
        },
        "f53318f414a84016ab70ae17a73f49af": {
          "model_module": "@jupyter-widgets/controls",
          "model_name": "ProgressStyleModel",
          "state": {
            "_view_name": "StyleView",
            "_model_name": "ProgressStyleModel",
            "description_width": "initial",
            "_view_module": "@jupyter-widgets/base",
            "_model_module_version": "1.5.0",
            "_view_count": null,
            "_view_module_version": "1.2.0",
            "bar_color": null,
            "_model_module": "@jupyter-widgets/controls"
          }
        },
        "f6f8c893ec914712a0e372065d9c1ac9": {
          "model_module": "@jupyter-widgets/base",
          "model_name": "LayoutModel",
          "state": {
            "_view_name": "LayoutView",
            "grid_template_rows": null,
            "right": null,
            "justify_content": null,
            "_view_module": "@jupyter-widgets/base",
            "overflow": null,
            "_model_module_version": "1.2.0",
            "_view_count": null,
            "flex_flow": null,
            "width": null,
            "min_width": null,
            "border": null,
            "align_items": null,
            "bottom": null,
            "_model_module": "@jupyter-widgets/base",
            "top": null,
            "grid_column": null,
            "overflow_y": null,
            "overflow_x": null,
            "grid_auto_flow": null,
            "grid_area": null,
            "grid_template_columns": null,
            "flex": null,
            "_model_name": "LayoutModel",
            "justify_items": null,
            "grid_row": null,
            "max_height": null,
            "align_content": null,
            "visibility": null,
            "align_self": null,
            "height": null,
            "min_height": null,
            "padding": null,
            "grid_auto_rows": null,
            "grid_gap": null,
            "max_width": null,
            "order": null,
            "_view_module_version": "1.2.0",
            "grid_template_areas": null,
            "object_position": null,
            "object_fit": null,
            "grid_auto_columns": null,
            "margin": null,
            "display": null,
            "left": null
          }
        },
        "93f5d0e7835e4302883d177b767413dd": {
          "model_module": "@jupyter-widgets/controls",
          "model_name": "DescriptionStyleModel",
          "state": {
            "_view_name": "StyleView",
            "_model_name": "DescriptionStyleModel",
            "description_width": "",
            "_view_module": "@jupyter-widgets/base",
            "_model_module_version": "1.5.0",
            "_view_count": null,
            "_view_module_version": "1.2.0",
            "_model_module": "@jupyter-widgets/controls"
          }
        },
        "c8d171967f0647ccb13aff621d128b29": {
          "model_module": "@jupyter-widgets/base",
          "model_name": "LayoutModel",
          "state": {
            "_view_name": "LayoutView",
            "grid_template_rows": null,
            "right": null,
            "justify_content": null,
            "_view_module": "@jupyter-widgets/base",
            "overflow": null,
            "_model_module_version": "1.2.0",
            "_view_count": null,
            "flex_flow": null,
            "width": null,
            "min_width": null,
            "border": null,
            "align_items": null,
            "bottom": null,
            "_model_module": "@jupyter-widgets/base",
            "top": null,
            "grid_column": null,
            "overflow_y": null,
            "overflow_x": null,
            "grid_auto_flow": null,
            "grid_area": null,
            "grid_template_columns": null,
            "flex": null,
            "_model_name": "LayoutModel",
            "justify_items": null,
            "grid_row": null,
            "max_height": null,
            "align_content": null,
            "visibility": null,
            "align_self": null,
            "height": null,
            "min_height": null,
            "padding": null,
            "grid_auto_rows": null,
            "grid_gap": null,
            "max_width": null,
            "order": null,
            "_view_module_version": "1.2.0",
            "grid_template_areas": null,
            "object_position": null,
            "object_fit": null,
            "grid_auto_columns": null,
            "margin": null,
            "display": null,
            "left": null
          }
        },
        "a344046b94914d0496d96b2ba4ecad98": {
          "model_module": "@jupyter-widgets/controls",
          "model_name": "HBoxModel",
          "state": {
            "_view_name": "HBoxView",
            "_dom_classes": [],
            "_model_name": "HBoxModel",
            "_view_module": "@jupyter-widgets/controls",
            "_model_module_version": "1.5.0",
            "_view_count": null,
            "_view_module_version": "1.5.0",
            "box_style": "",
            "layout": "IPY_MODEL_0bd9c4a8b57c44719dc5eca6ea9ebc00",
            "_model_module": "@jupyter-widgets/controls",
            "children": [
              "IPY_MODEL_50265d5af9ed469d81115914a38307d3",
              "IPY_MODEL_3bba042a37e349659c30f5c8a7178848"
            ]
          }
        },
        "0bd9c4a8b57c44719dc5eca6ea9ebc00": {
          "model_module": "@jupyter-widgets/base",
          "model_name": "LayoutModel",
          "state": {
            "_view_name": "LayoutView",
            "grid_template_rows": null,
            "right": null,
            "justify_content": null,
            "_view_module": "@jupyter-widgets/base",
            "overflow": null,
            "_model_module_version": "1.2.0",
            "_view_count": null,
            "flex_flow": null,
            "width": null,
            "min_width": null,
            "border": null,
            "align_items": null,
            "bottom": null,
            "_model_module": "@jupyter-widgets/base",
            "top": null,
            "grid_column": null,
            "overflow_y": null,
            "overflow_x": null,
            "grid_auto_flow": null,
            "grid_area": null,
            "grid_template_columns": null,
            "flex": null,
            "_model_name": "LayoutModel",
            "justify_items": null,
            "grid_row": null,
            "max_height": null,
            "align_content": null,
            "visibility": null,
            "align_self": null,
            "height": null,
            "min_height": null,
            "padding": null,
            "grid_auto_rows": null,
            "grid_gap": null,
            "max_width": null,
            "order": null,
            "_view_module_version": "1.2.0",
            "grid_template_areas": null,
            "object_position": null,
            "object_fit": null,
            "grid_auto_columns": null,
            "margin": null,
            "display": null,
            "left": null
          }
        },
        "50265d5af9ed469d81115914a38307d3": {
          "model_module": "@jupyter-widgets/controls",
          "model_name": "FloatProgressModel",
          "state": {
            "_view_name": "ProgressView",
            "style": "IPY_MODEL_338ce163797349c3b5728cd326f3df49",
            "_dom_classes": [],
            "description": "Training Epoch 0: 100%",
            "_model_name": "FloatProgressModel",
            "bar_style": "success",
            "max": 469,
            "_view_module": "@jupyter-widgets/controls",
            "_model_module_version": "1.5.0",
            "value": 469,
            "_view_count": null,
            "_view_module_version": "1.5.0",
            "orientation": "horizontal",
            "min": 0,
            "description_tooltip": null,
            "_model_module": "@jupyter-widgets/controls",
            "layout": "IPY_MODEL_1111317cf03145d787e72471e022c13b"
          }
        },
        "3bba042a37e349659c30f5c8a7178848": {
          "model_module": "@jupyter-widgets/controls",
          "model_name": "HTMLModel",
          "state": {
            "_view_name": "HTMLView",
            "style": "IPY_MODEL_4571fc8c6d094a55a74ef38147e31a0e",
            "_dom_classes": [],
            "description": "",
            "_model_name": "HTMLModel",
            "placeholder": "​",
            "_view_module": "@jupyter-widgets/controls",
            "_model_module_version": "1.5.0",
            "value": " 469/469 [13:53&lt;00:00,  1.78s/it, disc_loss=0.645, gen_loss=1.71]",
            "_view_count": null,
            "_view_module_version": "1.5.0",
            "description_tooltip": null,
            "_model_module": "@jupyter-widgets/controls",
            "layout": "IPY_MODEL_be80b8ea8b2547449d4f8d37692f12e1"
          }
        },
        "338ce163797349c3b5728cd326f3df49": {
          "model_module": "@jupyter-widgets/controls",
          "model_name": "ProgressStyleModel",
          "state": {
            "_view_name": "StyleView",
            "_model_name": "ProgressStyleModel",
            "description_width": "initial",
            "_view_module": "@jupyter-widgets/base",
            "_model_module_version": "1.5.0",
            "_view_count": null,
            "_view_module_version": "1.2.0",
            "bar_color": null,
            "_model_module": "@jupyter-widgets/controls"
          }
        },
        "1111317cf03145d787e72471e022c13b": {
          "model_module": "@jupyter-widgets/base",
          "model_name": "LayoutModel",
          "state": {
            "_view_name": "LayoutView",
            "grid_template_rows": null,
            "right": null,
            "justify_content": null,
            "_view_module": "@jupyter-widgets/base",
            "overflow": null,
            "_model_module_version": "1.2.0",
            "_view_count": null,
            "flex_flow": null,
            "width": null,
            "min_width": null,
            "border": null,
            "align_items": null,
            "bottom": null,
            "_model_module": "@jupyter-widgets/base",
            "top": null,
            "grid_column": null,
            "overflow_y": null,
            "overflow_x": null,
            "grid_auto_flow": null,
            "grid_area": null,
            "grid_template_columns": null,
            "flex": null,
            "_model_name": "LayoutModel",
            "justify_items": null,
            "grid_row": null,
            "max_height": null,
            "align_content": null,
            "visibility": null,
            "align_self": null,
            "height": null,
            "min_height": null,
            "padding": null,
            "grid_auto_rows": null,
            "grid_gap": null,
            "max_width": null,
            "order": null,
            "_view_module_version": "1.2.0",
            "grid_template_areas": null,
            "object_position": null,
            "object_fit": null,
            "grid_auto_columns": null,
            "margin": null,
            "display": null,
            "left": null
          }
        },
        "4571fc8c6d094a55a74ef38147e31a0e": {
          "model_module": "@jupyter-widgets/controls",
          "model_name": "DescriptionStyleModel",
          "state": {
            "_view_name": "StyleView",
            "_model_name": "DescriptionStyleModel",
            "description_width": "",
            "_view_module": "@jupyter-widgets/base",
            "_model_module_version": "1.5.0",
            "_view_count": null,
            "_view_module_version": "1.2.0",
            "_model_module": "@jupyter-widgets/controls"
          }
        },
        "be80b8ea8b2547449d4f8d37692f12e1": {
          "model_module": "@jupyter-widgets/base",
          "model_name": "LayoutModel",
          "state": {
            "_view_name": "LayoutView",
            "grid_template_rows": null,
            "right": null,
            "justify_content": null,
            "_view_module": "@jupyter-widgets/base",
            "overflow": null,
            "_model_module_version": "1.2.0",
            "_view_count": null,
            "flex_flow": null,
            "width": null,
            "min_width": null,
            "border": null,
            "align_items": null,
            "bottom": null,
            "_model_module": "@jupyter-widgets/base",
            "top": null,
            "grid_column": null,
            "overflow_y": null,
            "overflow_x": null,
            "grid_auto_flow": null,
            "grid_area": null,
            "grid_template_columns": null,
            "flex": null,
            "_model_name": "LayoutModel",
            "justify_items": null,
            "grid_row": null,
            "max_height": null,
            "align_content": null,
            "visibility": null,
            "align_self": null,
            "height": null,
            "min_height": null,
            "padding": null,
            "grid_auto_rows": null,
            "grid_gap": null,
            "max_width": null,
            "order": null,
            "_view_module_version": "1.2.0",
            "grid_template_areas": null,
            "object_position": null,
            "object_fit": null,
            "grid_auto_columns": null,
            "margin": null,
            "display": null,
            "left": null
          }
        },
        "4ed83441f8a74a4996f9f888954bffb7": {
          "model_module": "@jupyter-widgets/controls",
          "model_name": "HBoxModel",
          "state": {
            "_view_name": "HBoxView",
            "_dom_classes": [],
            "_model_name": "HBoxModel",
            "_view_module": "@jupyter-widgets/controls",
            "_model_module_version": "1.5.0",
            "_view_count": null,
            "_view_module_version": "1.5.0",
            "box_style": "",
            "layout": "IPY_MODEL_d73023226d114e43ba067b77720edb69",
            "_model_module": "@jupyter-widgets/controls",
            "children": [
              "IPY_MODEL_83477d46ad6b41418bd82ecbb1f360df",
              "IPY_MODEL_5758e2b8a59941f98b828a34ec53656f"
            ]
          }
        },
        "d73023226d114e43ba067b77720edb69": {
          "model_module": "@jupyter-widgets/base",
          "model_name": "LayoutModel",
          "state": {
            "_view_name": "LayoutView",
            "grid_template_rows": null,
            "right": null,
            "justify_content": null,
            "_view_module": "@jupyter-widgets/base",
            "overflow": null,
            "_model_module_version": "1.2.0",
            "_view_count": null,
            "flex_flow": null,
            "width": null,
            "min_width": null,
            "border": null,
            "align_items": null,
            "bottom": null,
            "_model_module": "@jupyter-widgets/base",
            "top": null,
            "grid_column": null,
            "overflow_y": null,
            "overflow_x": null,
            "grid_auto_flow": null,
            "grid_area": null,
            "grid_template_columns": null,
            "flex": null,
            "_model_name": "LayoutModel",
            "justify_items": null,
            "grid_row": null,
            "max_height": null,
            "align_content": null,
            "visibility": null,
            "align_self": null,
            "height": null,
            "min_height": null,
            "padding": null,
            "grid_auto_rows": null,
            "grid_gap": null,
            "max_width": null,
            "order": null,
            "_view_module_version": "1.2.0",
            "grid_template_areas": null,
            "object_position": null,
            "object_fit": null,
            "grid_auto_columns": null,
            "margin": null,
            "display": null,
            "left": null
          }
        },
        "83477d46ad6b41418bd82ecbb1f360df": {
          "model_module": "@jupyter-widgets/controls",
          "model_name": "FloatProgressModel",
          "state": {
            "_view_name": "ProgressView",
            "style": "IPY_MODEL_4b230deed0144833a4497d5565380eca",
            "_dom_classes": [],
            "description": "Training Epoch 1: 100%",
            "_model_name": "FloatProgressModel",
            "bar_style": "success",
            "max": 469,
            "_view_module": "@jupyter-widgets/controls",
            "_model_module_version": "1.5.0",
            "value": 469,
            "_view_count": null,
            "_view_module_version": "1.5.0",
            "orientation": "horizontal",
            "min": 0,
            "description_tooltip": null,
            "_model_module": "@jupyter-widgets/controls",
            "layout": "IPY_MODEL_59df80ca47474ab39bfe665658eb8b79"
          }
        },
        "5758e2b8a59941f98b828a34ec53656f": {
          "model_module": "@jupyter-widgets/controls",
          "model_name": "HTMLModel",
          "state": {
            "_view_name": "HTMLView",
            "style": "IPY_MODEL_78c7d5787f594be4bf90fdf6a6e7dcbb",
            "_dom_classes": [],
            "description": "",
            "_model_name": "HTMLModel",
            "placeholder": "​",
            "_view_module": "@jupyter-widgets/controls",
            "_model_module_version": "1.5.0",
            "value": " 469/469 [07:02&lt;00:00,  1.11it/s, disc_loss=0.602, gen_loss=1.21]",
            "_view_count": null,
            "_view_module_version": "1.5.0",
            "description_tooltip": null,
            "_model_module": "@jupyter-widgets/controls",
            "layout": "IPY_MODEL_8a6b7627cbd746e28e3d69db426fe483"
          }
        },
        "4b230deed0144833a4497d5565380eca": {
          "model_module": "@jupyter-widgets/controls",
          "model_name": "ProgressStyleModel",
          "state": {
            "_view_name": "StyleView",
            "_model_name": "ProgressStyleModel",
            "description_width": "initial",
            "_view_module": "@jupyter-widgets/base",
            "_model_module_version": "1.5.0",
            "_view_count": null,
            "_view_module_version": "1.2.0",
            "bar_color": null,
            "_model_module": "@jupyter-widgets/controls"
          }
        },
        "59df80ca47474ab39bfe665658eb8b79": {
          "model_module": "@jupyter-widgets/base",
          "model_name": "LayoutModel",
          "state": {
            "_view_name": "LayoutView",
            "grid_template_rows": null,
            "right": null,
            "justify_content": null,
            "_view_module": "@jupyter-widgets/base",
            "overflow": null,
            "_model_module_version": "1.2.0",
            "_view_count": null,
            "flex_flow": null,
            "width": null,
            "min_width": null,
            "border": null,
            "align_items": null,
            "bottom": null,
            "_model_module": "@jupyter-widgets/base",
            "top": null,
            "grid_column": null,
            "overflow_y": null,
            "overflow_x": null,
            "grid_auto_flow": null,
            "grid_area": null,
            "grid_template_columns": null,
            "flex": null,
            "_model_name": "LayoutModel",
            "justify_items": null,
            "grid_row": null,
            "max_height": null,
            "align_content": null,
            "visibility": null,
            "align_self": null,
            "height": null,
            "min_height": null,
            "padding": null,
            "grid_auto_rows": null,
            "grid_gap": null,
            "max_width": null,
            "order": null,
            "_view_module_version": "1.2.0",
            "grid_template_areas": null,
            "object_position": null,
            "object_fit": null,
            "grid_auto_columns": null,
            "margin": null,
            "display": null,
            "left": null
          }
        },
        "78c7d5787f594be4bf90fdf6a6e7dcbb": {
          "model_module": "@jupyter-widgets/controls",
          "model_name": "DescriptionStyleModel",
          "state": {
            "_view_name": "StyleView",
            "_model_name": "DescriptionStyleModel",
            "description_width": "",
            "_view_module": "@jupyter-widgets/base",
            "_model_module_version": "1.5.0",
            "_view_count": null,
            "_view_module_version": "1.2.0",
            "_model_module": "@jupyter-widgets/controls"
          }
        },
        "8a6b7627cbd746e28e3d69db426fe483": {
          "model_module": "@jupyter-widgets/base",
          "model_name": "LayoutModel",
          "state": {
            "_view_name": "LayoutView",
            "grid_template_rows": null,
            "right": null,
            "justify_content": null,
            "_view_module": "@jupyter-widgets/base",
            "overflow": null,
            "_model_module_version": "1.2.0",
            "_view_count": null,
            "flex_flow": null,
            "width": null,
            "min_width": null,
            "border": null,
            "align_items": null,
            "bottom": null,
            "_model_module": "@jupyter-widgets/base",
            "top": null,
            "grid_column": null,
            "overflow_y": null,
            "overflow_x": null,
            "grid_auto_flow": null,
            "grid_area": null,
            "grid_template_columns": null,
            "flex": null,
            "_model_name": "LayoutModel",
            "justify_items": null,
            "grid_row": null,
            "max_height": null,
            "align_content": null,
            "visibility": null,
            "align_self": null,
            "height": null,
            "min_height": null,
            "padding": null,
            "grid_auto_rows": null,
            "grid_gap": null,
            "max_width": null,
            "order": null,
            "_view_module_version": "1.2.0",
            "grid_template_areas": null,
            "object_position": null,
            "object_fit": null,
            "grid_auto_columns": null,
            "margin": null,
            "display": null,
            "left": null
          }
        },
        "cfdd5e1610874b648c02d01649537400": {
          "model_module": "@jupyter-widgets/controls",
          "model_name": "HBoxModel",
          "state": {
            "_view_name": "HBoxView",
            "_dom_classes": [],
            "_model_name": "HBoxModel",
            "_view_module": "@jupyter-widgets/controls",
            "_model_module_version": "1.5.0",
            "_view_count": null,
            "_view_module_version": "1.5.0",
            "box_style": "",
            "layout": "IPY_MODEL_ee259c8cf31e47cebe25041bf5d6f3d5",
            "_model_module": "@jupyter-widgets/controls",
            "children": [
              "IPY_MODEL_f1f3f522cc334ba29785a25d2b685f92",
              "IPY_MODEL_384fea0063504552b979459b5880df19"
            ]
          }
        },
        "ee259c8cf31e47cebe25041bf5d6f3d5": {
          "model_module": "@jupyter-widgets/base",
          "model_name": "LayoutModel",
          "state": {
            "_view_name": "LayoutView",
            "grid_template_rows": null,
            "right": null,
            "justify_content": null,
            "_view_module": "@jupyter-widgets/base",
            "overflow": null,
            "_model_module_version": "1.2.0",
            "_view_count": null,
            "flex_flow": null,
            "width": null,
            "min_width": null,
            "border": null,
            "align_items": null,
            "bottom": null,
            "_model_module": "@jupyter-widgets/base",
            "top": null,
            "grid_column": null,
            "overflow_y": null,
            "overflow_x": null,
            "grid_auto_flow": null,
            "grid_area": null,
            "grid_template_columns": null,
            "flex": null,
            "_model_name": "LayoutModel",
            "justify_items": null,
            "grid_row": null,
            "max_height": null,
            "align_content": null,
            "visibility": null,
            "align_self": null,
            "height": null,
            "min_height": null,
            "padding": null,
            "grid_auto_rows": null,
            "grid_gap": null,
            "max_width": null,
            "order": null,
            "_view_module_version": "1.2.0",
            "grid_template_areas": null,
            "object_position": null,
            "object_fit": null,
            "grid_auto_columns": null,
            "margin": null,
            "display": null,
            "left": null
          }
        },
        "f1f3f522cc334ba29785a25d2b685f92": {
          "model_module": "@jupyter-widgets/controls",
          "model_name": "FloatProgressModel",
          "state": {
            "_view_name": "ProgressView",
            "style": "IPY_MODEL_08d4781ef959460e8a620b361c5a2021",
            "_dom_classes": [],
            "description": "Training Epoch 2: 100%",
            "_model_name": "FloatProgressModel",
            "bar_style": "success",
            "max": 469,
            "_view_module": "@jupyter-widgets/controls",
            "_model_module_version": "1.5.0",
            "value": 469,
            "_view_count": null,
            "_view_module_version": "1.5.0",
            "orientation": "horizontal",
            "min": 0,
            "description_tooltip": null,
            "_model_module": "@jupyter-widgets/controls",
            "layout": "IPY_MODEL_e863ee94e626495aaa9de55c405a3878"
          }
        },
        "384fea0063504552b979459b5880df19": {
          "model_module": "@jupyter-widgets/controls",
          "model_name": "HTMLModel",
          "state": {
            "_view_name": "HTMLView",
            "style": "IPY_MODEL_6fbd68d493274211a55b16feab0246c2",
            "_dom_classes": [],
            "description": "",
            "_model_name": "HTMLModel",
            "placeholder": "​",
            "_view_module": "@jupyter-widgets/controls",
            "_model_module_version": "1.5.0",
            "value": " 469/469 [29:57&lt;00:00,  3.83s/it, disc_loss=0.649, gen_loss=0.989]",
            "_view_count": null,
            "_view_module_version": "1.5.0",
            "description_tooltip": null,
            "_model_module": "@jupyter-widgets/controls",
            "layout": "IPY_MODEL_9793e9fe2a254f6fbd2e670f0f7d1bac"
          }
        },
        "08d4781ef959460e8a620b361c5a2021": {
          "model_module": "@jupyter-widgets/controls",
          "model_name": "ProgressStyleModel",
          "state": {
            "_view_name": "StyleView",
            "_model_name": "ProgressStyleModel",
            "description_width": "initial",
            "_view_module": "@jupyter-widgets/base",
            "_model_module_version": "1.5.0",
            "_view_count": null,
            "_view_module_version": "1.2.0",
            "bar_color": null,
            "_model_module": "@jupyter-widgets/controls"
          }
        },
        "e863ee94e626495aaa9de55c405a3878": {
          "model_module": "@jupyter-widgets/base",
          "model_name": "LayoutModel",
          "state": {
            "_view_name": "LayoutView",
            "grid_template_rows": null,
            "right": null,
            "justify_content": null,
            "_view_module": "@jupyter-widgets/base",
            "overflow": null,
            "_model_module_version": "1.2.0",
            "_view_count": null,
            "flex_flow": null,
            "width": null,
            "min_width": null,
            "border": null,
            "align_items": null,
            "bottom": null,
            "_model_module": "@jupyter-widgets/base",
            "top": null,
            "grid_column": null,
            "overflow_y": null,
            "overflow_x": null,
            "grid_auto_flow": null,
            "grid_area": null,
            "grid_template_columns": null,
            "flex": null,
            "_model_name": "LayoutModel",
            "justify_items": null,
            "grid_row": null,
            "max_height": null,
            "align_content": null,
            "visibility": null,
            "align_self": null,
            "height": null,
            "min_height": null,
            "padding": null,
            "grid_auto_rows": null,
            "grid_gap": null,
            "max_width": null,
            "order": null,
            "_view_module_version": "1.2.0",
            "grid_template_areas": null,
            "object_position": null,
            "object_fit": null,
            "grid_auto_columns": null,
            "margin": null,
            "display": null,
            "left": null
          }
        },
        "6fbd68d493274211a55b16feab0246c2": {
          "model_module": "@jupyter-widgets/controls",
          "model_name": "DescriptionStyleModel",
          "state": {
            "_view_name": "StyleView",
            "_model_name": "DescriptionStyleModel",
            "description_width": "",
            "_view_module": "@jupyter-widgets/base",
            "_model_module_version": "1.5.0",
            "_view_count": null,
            "_view_module_version": "1.2.0",
            "_model_module": "@jupyter-widgets/controls"
          }
        },
        "9793e9fe2a254f6fbd2e670f0f7d1bac": {
          "model_module": "@jupyter-widgets/base",
          "model_name": "LayoutModel",
          "state": {
            "_view_name": "LayoutView",
            "grid_template_rows": null,
            "right": null,
            "justify_content": null,
            "_view_module": "@jupyter-widgets/base",
            "overflow": null,
            "_model_module_version": "1.2.0",
            "_view_count": null,
            "flex_flow": null,
            "width": null,
            "min_width": null,
            "border": null,
            "align_items": null,
            "bottom": null,
            "_model_module": "@jupyter-widgets/base",
            "top": null,
            "grid_column": null,
            "overflow_y": null,
            "overflow_x": null,
            "grid_auto_flow": null,
            "grid_area": null,
            "grid_template_columns": null,
            "flex": null,
            "_model_name": "LayoutModel",
            "justify_items": null,
            "grid_row": null,
            "max_height": null,
            "align_content": null,
            "visibility": null,
            "align_self": null,
            "height": null,
            "min_height": null,
            "padding": null,
            "grid_auto_rows": null,
            "grid_gap": null,
            "max_width": null,
            "order": null,
            "_view_module_version": "1.2.0",
            "grid_template_areas": null,
            "object_position": null,
            "object_fit": null,
            "grid_auto_columns": null,
            "margin": null,
            "display": null,
            "left": null
          }
        },
        "a13ae0cb4bc4487fb4e2db2f5fb427f1": {
          "model_module": "@jupyter-widgets/controls",
          "model_name": "HBoxModel",
          "state": {
            "_view_name": "HBoxView",
            "_dom_classes": [],
            "_model_name": "HBoxModel",
            "_view_module": "@jupyter-widgets/controls",
            "_model_module_version": "1.5.0",
            "_view_count": null,
            "_view_module_version": "1.5.0",
            "box_style": "",
            "layout": "IPY_MODEL_c1b780aa371e4b7fb3e0bd486b21c22b",
            "_model_module": "@jupyter-widgets/controls",
            "children": [
              "IPY_MODEL_ff3065102cc947e58f5a53dcbce22699",
              "IPY_MODEL_3a10dc87d8e149ff8e110507104bdd8f"
            ]
          }
        },
        "c1b780aa371e4b7fb3e0bd486b21c22b": {
          "model_module": "@jupyter-widgets/base",
          "model_name": "LayoutModel",
          "state": {
            "_view_name": "LayoutView",
            "grid_template_rows": null,
            "right": null,
            "justify_content": null,
            "_view_module": "@jupyter-widgets/base",
            "overflow": null,
            "_model_module_version": "1.2.0",
            "_view_count": null,
            "flex_flow": null,
            "width": null,
            "min_width": null,
            "border": null,
            "align_items": null,
            "bottom": null,
            "_model_module": "@jupyter-widgets/base",
            "top": null,
            "grid_column": null,
            "overflow_y": null,
            "overflow_x": null,
            "grid_auto_flow": null,
            "grid_area": null,
            "grid_template_columns": null,
            "flex": null,
            "_model_name": "LayoutModel",
            "justify_items": null,
            "grid_row": null,
            "max_height": null,
            "align_content": null,
            "visibility": null,
            "align_self": null,
            "height": null,
            "min_height": null,
            "padding": null,
            "grid_auto_rows": null,
            "grid_gap": null,
            "max_width": null,
            "order": null,
            "_view_module_version": "1.2.0",
            "grid_template_areas": null,
            "object_position": null,
            "object_fit": null,
            "grid_auto_columns": null,
            "margin": null,
            "display": null,
            "left": null
          }
        },
        "ff3065102cc947e58f5a53dcbce22699": {
          "model_module": "@jupyter-widgets/controls",
          "model_name": "FloatProgressModel",
          "state": {
            "_view_name": "ProgressView",
            "style": "IPY_MODEL_2102fa8ef8a641bd88e528ff24edba35",
            "_dom_classes": [],
            "description": "Training Epoch 3: 100%",
            "_model_name": "FloatProgressModel",
            "bar_style": "success",
            "max": 469,
            "_view_module": "@jupyter-widgets/controls",
            "_model_module_version": "1.5.0",
            "value": 469,
            "_view_count": null,
            "_view_module_version": "1.5.0",
            "orientation": "horizontal",
            "min": 0,
            "description_tooltip": null,
            "_model_module": "@jupyter-widgets/controls",
            "layout": "IPY_MODEL_e50062fde1c749858c56f3b0bf72142e"
          }
        },
        "3a10dc87d8e149ff8e110507104bdd8f": {
          "model_module": "@jupyter-widgets/controls",
          "model_name": "HTMLModel",
          "state": {
            "_view_name": "HTMLView",
            "style": "IPY_MODEL_1d2eb3c573ab4a39af5993f45a254369",
            "_dom_classes": [],
            "description": "",
            "_model_name": "HTMLModel",
            "placeholder": "​",
            "_view_module": "@jupyter-widgets/controls",
            "_model_module_version": "1.5.0",
            "value": " 469/469 [07:16&lt;00:00,  1.07it/s, disc_loss=0.609, gen_loss=1.14]",
            "_view_count": null,
            "_view_module_version": "1.5.0",
            "description_tooltip": null,
            "_model_module": "@jupyter-widgets/controls",
            "layout": "IPY_MODEL_7be802172fd04326aef9d2fb50ec7cc8"
          }
        },
        "2102fa8ef8a641bd88e528ff24edba35": {
          "model_module": "@jupyter-widgets/controls",
          "model_name": "ProgressStyleModel",
          "state": {
            "_view_name": "StyleView",
            "_model_name": "ProgressStyleModel",
            "description_width": "initial",
            "_view_module": "@jupyter-widgets/base",
            "_model_module_version": "1.5.0",
            "_view_count": null,
            "_view_module_version": "1.2.0",
            "bar_color": null,
            "_model_module": "@jupyter-widgets/controls"
          }
        },
        "e50062fde1c749858c56f3b0bf72142e": {
          "model_module": "@jupyter-widgets/base",
          "model_name": "LayoutModel",
          "state": {
            "_view_name": "LayoutView",
            "grid_template_rows": null,
            "right": null,
            "justify_content": null,
            "_view_module": "@jupyter-widgets/base",
            "overflow": null,
            "_model_module_version": "1.2.0",
            "_view_count": null,
            "flex_flow": null,
            "width": null,
            "min_width": null,
            "border": null,
            "align_items": null,
            "bottom": null,
            "_model_module": "@jupyter-widgets/base",
            "top": null,
            "grid_column": null,
            "overflow_y": null,
            "overflow_x": null,
            "grid_auto_flow": null,
            "grid_area": null,
            "grid_template_columns": null,
            "flex": null,
            "_model_name": "LayoutModel",
            "justify_items": null,
            "grid_row": null,
            "max_height": null,
            "align_content": null,
            "visibility": null,
            "align_self": null,
            "height": null,
            "min_height": null,
            "padding": null,
            "grid_auto_rows": null,
            "grid_gap": null,
            "max_width": null,
            "order": null,
            "_view_module_version": "1.2.0",
            "grid_template_areas": null,
            "object_position": null,
            "object_fit": null,
            "grid_auto_columns": null,
            "margin": null,
            "display": null,
            "left": null
          }
        },
        "1d2eb3c573ab4a39af5993f45a254369": {
          "model_module": "@jupyter-widgets/controls",
          "model_name": "DescriptionStyleModel",
          "state": {
            "_view_name": "StyleView",
            "_model_name": "DescriptionStyleModel",
            "description_width": "",
            "_view_module": "@jupyter-widgets/base",
            "_model_module_version": "1.5.0",
            "_view_count": null,
            "_view_module_version": "1.2.0",
            "_model_module": "@jupyter-widgets/controls"
          }
        },
        "7be802172fd04326aef9d2fb50ec7cc8": {
          "model_module": "@jupyter-widgets/base",
          "model_name": "LayoutModel",
          "state": {
            "_view_name": "LayoutView",
            "grid_template_rows": null,
            "right": null,
            "justify_content": null,
            "_view_module": "@jupyter-widgets/base",
            "overflow": null,
            "_model_module_version": "1.2.0",
            "_view_count": null,
            "flex_flow": null,
            "width": null,
            "min_width": null,
            "border": null,
            "align_items": null,
            "bottom": null,
            "_model_module": "@jupyter-widgets/base",
            "top": null,
            "grid_column": null,
            "overflow_y": null,
            "overflow_x": null,
            "grid_auto_flow": null,
            "grid_area": null,
            "grid_template_columns": null,
            "flex": null,
            "_model_name": "LayoutModel",
            "justify_items": null,
            "grid_row": null,
            "max_height": null,
            "align_content": null,
            "visibility": null,
            "align_self": null,
            "height": null,
            "min_height": null,
            "padding": null,
            "grid_auto_rows": null,
            "grid_gap": null,
            "max_width": null,
            "order": null,
            "_view_module_version": "1.2.0",
            "grid_template_areas": null,
            "object_position": null,
            "object_fit": null,
            "grid_auto_columns": null,
            "margin": null,
            "display": null,
            "left": null
          }
        },
        "e3cf30d7ac1b408588a8ef757cf744b2": {
          "model_module": "@jupyter-widgets/controls",
          "model_name": "HBoxModel",
          "state": {
            "_view_name": "HBoxView",
            "_dom_classes": [],
            "_model_name": "HBoxModel",
            "_view_module": "@jupyter-widgets/controls",
            "_model_module_version": "1.5.0",
            "_view_count": null,
            "_view_module_version": "1.5.0",
            "box_style": "",
            "layout": "IPY_MODEL_b97b676507ef4d818804b346861eaa6a",
            "_model_module": "@jupyter-widgets/controls",
            "children": [
              "IPY_MODEL_a38c1e020fb6489eb43652738d53174e",
              "IPY_MODEL_24d41a61a97145d6b069e04ac49aae34"
            ]
          }
        },
        "b97b676507ef4d818804b346861eaa6a": {
          "model_module": "@jupyter-widgets/base",
          "model_name": "LayoutModel",
          "state": {
            "_view_name": "LayoutView",
            "grid_template_rows": null,
            "right": null,
            "justify_content": null,
            "_view_module": "@jupyter-widgets/base",
            "overflow": null,
            "_model_module_version": "1.2.0",
            "_view_count": null,
            "flex_flow": null,
            "width": null,
            "min_width": null,
            "border": null,
            "align_items": null,
            "bottom": null,
            "_model_module": "@jupyter-widgets/base",
            "top": null,
            "grid_column": null,
            "overflow_y": null,
            "overflow_x": null,
            "grid_auto_flow": null,
            "grid_area": null,
            "grid_template_columns": null,
            "flex": null,
            "_model_name": "LayoutModel",
            "justify_items": null,
            "grid_row": null,
            "max_height": null,
            "align_content": null,
            "visibility": null,
            "align_self": null,
            "height": null,
            "min_height": null,
            "padding": null,
            "grid_auto_rows": null,
            "grid_gap": null,
            "max_width": null,
            "order": null,
            "_view_module_version": "1.2.0",
            "grid_template_areas": null,
            "object_position": null,
            "object_fit": null,
            "grid_auto_columns": null,
            "margin": null,
            "display": null,
            "left": null
          }
        },
        "a38c1e020fb6489eb43652738d53174e": {
          "model_module": "@jupyter-widgets/controls",
          "model_name": "FloatProgressModel",
          "state": {
            "_view_name": "ProgressView",
            "style": "IPY_MODEL_e6a6ab25f6e44a999007619533875053",
            "_dom_classes": [],
            "description": "Training Epoch 4: 100%",
            "_model_name": "FloatProgressModel",
            "bar_style": "success",
            "max": 469,
            "_view_module": "@jupyter-widgets/controls",
            "_model_module_version": "1.5.0",
            "value": 469,
            "_view_count": null,
            "_view_module_version": "1.5.0",
            "orientation": "horizontal",
            "min": 0,
            "description_tooltip": null,
            "_model_module": "@jupyter-widgets/controls",
            "layout": "IPY_MODEL_0004927fc79a47dc8a99d85065954f7b"
          }
        },
        "24d41a61a97145d6b069e04ac49aae34": {
          "model_module": "@jupyter-widgets/controls",
          "model_name": "HTMLModel",
          "state": {
            "_view_name": "HTMLView",
            "style": "IPY_MODEL_772c37677cc747489e3da718491eeb96",
            "_dom_classes": [],
            "description": "",
            "_model_name": "HTMLModel",
            "placeholder": "​",
            "_view_module": "@jupyter-widgets/controls",
            "_model_module_version": "1.5.0",
            "value": " 469/469 [16:15&lt;00:00,  2.08s/it, disc_loss=0.518, gen_loss=1.48]",
            "_view_count": null,
            "_view_module_version": "1.5.0",
            "description_tooltip": null,
            "_model_module": "@jupyter-widgets/controls",
            "layout": "IPY_MODEL_3bcf9ee43fa3412a83b07e5a54e85d54"
          }
        },
        "e6a6ab25f6e44a999007619533875053": {
          "model_module": "@jupyter-widgets/controls",
          "model_name": "ProgressStyleModel",
          "state": {
            "_view_name": "StyleView",
            "_model_name": "ProgressStyleModel",
            "description_width": "initial",
            "_view_module": "@jupyter-widgets/base",
            "_model_module_version": "1.5.0",
            "_view_count": null,
            "_view_module_version": "1.2.0",
            "bar_color": null,
            "_model_module": "@jupyter-widgets/controls"
          }
        },
        "0004927fc79a47dc8a99d85065954f7b": {
          "model_module": "@jupyter-widgets/base",
          "model_name": "LayoutModel",
          "state": {
            "_view_name": "LayoutView",
            "grid_template_rows": null,
            "right": null,
            "justify_content": null,
            "_view_module": "@jupyter-widgets/base",
            "overflow": null,
            "_model_module_version": "1.2.0",
            "_view_count": null,
            "flex_flow": null,
            "width": null,
            "min_width": null,
            "border": null,
            "align_items": null,
            "bottom": null,
            "_model_module": "@jupyter-widgets/base",
            "top": null,
            "grid_column": null,
            "overflow_y": null,
            "overflow_x": null,
            "grid_auto_flow": null,
            "grid_area": null,
            "grid_template_columns": null,
            "flex": null,
            "_model_name": "LayoutModel",
            "justify_items": null,
            "grid_row": null,
            "max_height": null,
            "align_content": null,
            "visibility": null,
            "align_self": null,
            "height": null,
            "min_height": null,
            "padding": null,
            "grid_auto_rows": null,
            "grid_gap": null,
            "max_width": null,
            "order": null,
            "_view_module_version": "1.2.0",
            "grid_template_areas": null,
            "object_position": null,
            "object_fit": null,
            "grid_auto_columns": null,
            "margin": null,
            "display": null,
            "left": null
          }
        },
        "772c37677cc747489e3da718491eeb96": {
          "model_module": "@jupyter-widgets/controls",
          "model_name": "DescriptionStyleModel",
          "state": {
            "_view_name": "StyleView",
            "_model_name": "DescriptionStyleModel",
            "description_width": "",
            "_view_module": "@jupyter-widgets/base",
            "_model_module_version": "1.5.0",
            "_view_count": null,
            "_view_module_version": "1.2.0",
            "_model_module": "@jupyter-widgets/controls"
          }
        },
        "3bcf9ee43fa3412a83b07e5a54e85d54": {
          "model_module": "@jupyter-widgets/base",
          "model_name": "LayoutModel",
          "state": {
            "_view_name": "LayoutView",
            "grid_template_rows": null,
            "right": null,
            "justify_content": null,
            "_view_module": "@jupyter-widgets/base",
            "overflow": null,
            "_model_module_version": "1.2.0",
            "_view_count": null,
            "flex_flow": null,
            "width": null,
            "min_width": null,
            "border": null,
            "align_items": null,
            "bottom": null,
            "_model_module": "@jupyter-widgets/base",
            "top": null,
            "grid_column": null,
            "overflow_y": null,
            "overflow_x": null,
            "grid_auto_flow": null,
            "grid_area": null,
            "grid_template_columns": null,
            "flex": null,
            "_model_name": "LayoutModel",
            "justify_items": null,
            "grid_row": null,
            "max_height": null,
            "align_content": null,
            "visibility": null,
            "align_self": null,
            "height": null,
            "min_height": null,
            "padding": null,
            "grid_auto_rows": null,
            "grid_gap": null,
            "max_width": null,
            "order": null,
            "_view_module_version": "1.2.0",
            "grid_template_areas": null,
            "object_position": null,
            "object_fit": null,
            "grid_auto_columns": null,
            "margin": null,
            "display": null,
            "left": null
          }
        },
        "b320373e520e442c897a36844e32756a": {
          "model_module": "@jupyter-widgets/controls",
          "model_name": "HBoxModel",
          "state": {
            "_view_name": "HBoxView",
            "_dom_classes": [],
            "_model_name": "HBoxModel",
            "_view_module": "@jupyter-widgets/controls",
            "_model_module_version": "1.5.0",
            "_view_count": null,
            "_view_module_version": "1.5.0",
            "box_style": "",
            "layout": "IPY_MODEL_4c19dd2716714717933c4e6d3eba56c7",
            "_model_module": "@jupyter-widgets/controls",
            "children": [
              "IPY_MODEL_02237c41e07c4be8aa196655b8df686b",
              "IPY_MODEL_9d5d1821f51340ffa476910e2cb47f15"
            ]
          }
        },
        "4c19dd2716714717933c4e6d3eba56c7": {
          "model_module": "@jupyter-widgets/base",
          "model_name": "LayoutModel",
          "state": {
            "_view_name": "LayoutView",
            "grid_template_rows": null,
            "right": null,
            "justify_content": null,
            "_view_module": "@jupyter-widgets/base",
            "overflow": null,
            "_model_module_version": "1.2.0",
            "_view_count": null,
            "flex_flow": null,
            "width": null,
            "min_width": null,
            "border": null,
            "align_items": null,
            "bottom": null,
            "_model_module": "@jupyter-widgets/base",
            "top": null,
            "grid_column": null,
            "overflow_y": null,
            "overflow_x": null,
            "grid_auto_flow": null,
            "grid_area": null,
            "grid_template_columns": null,
            "flex": null,
            "_model_name": "LayoutModel",
            "justify_items": null,
            "grid_row": null,
            "max_height": null,
            "align_content": null,
            "visibility": null,
            "align_self": null,
            "height": null,
            "min_height": null,
            "padding": null,
            "grid_auto_rows": null,
            "grid_gap": null,
            "max_width": null,
            "order": null,
            "_view_module_version": "1.2.0",
            "grid_template_areas": null,
            "object_position": null,
            "object_fit": null,
            "grid_auto_columns": null,
            "margin": null,
            "display": null,
            "left": null
          }
        },
        "02237c41e07c4be8aa196655b8df686b": {
          "model_module": "@jupyter-widgets/controls",
          "model_name": "FloatProgressModel",
          "state": {
            "_view_name": "ProgressView",
            "style": "IPY_MODEL_6d60299fbb9642508ed32aed6dcd4d09",
            "_dom_classes": [],
            "description": "Training Epoch 5: 100%",
            "_model_name": "FloatProgressModel",
            "bar_style": "success",
            "max": 469,
            "_view_module": "@jupyter-widgets/controls",
            "_model_module_version": "1.5.0",
            "value": 469,
            "_view_count": null,
            "_view_module_version": "1.5.0",
            "orientation": "horizontal",
            "min": 0,
            "description_tooltip": null,
            "_model_module": "@jupyter-widgets/controls",
            "layout": "IPY_MODEL_bc6cd4bf951e45b59d056bfa4fc23005"
          }
        },
        "9d5d1821f51340ffa476910e2cb47f15": {
          "model_module": "@jupyter-widgets/controls",
          "model_name": "HTMLModel",
          "state": {
            "_view_name": "HTMLView",
            "style": "IPY_MODEL_eb4c2ca1a4b04a15b5aa69d1902d1d9d",
            "_dom_classes": [],
            "description": "",
            "_model_name": "HTMLModel",
            "placeholder": "​",
            "_view_module": "@jupyter-widgets/controls",
            "_model_module_version": "1.5.0",
            "value": " 469/469 [09:25&lt;00:00,  1.21s/it, disc_loss=0.488, gen_loss=1.6]",
            "_view_count": null,
            "_view_module_version": "1.5.0",
            "description_tooltip": null,
            "_model_module": "@jupyter-widgets/controls",
            "layout": "IPY_MODEL_6e69c8cea46647f588b6a9ff8a2e0a8d"
          }
        },
        "6d60299fbb9642508ed32aed6dcd4d09": {
          "model_module": "@jupyter-widgets/controls",
          "model_name": "ProgressStyleModel",
          "state": {
            "_view_name": "StyleView",
            "_model_name": "ProgressStyleModel",
            "description_width": "initial",
            "_view_module": "@jupyter-widgets/base",
            "_model_module_version": "1.5.0",
            "_view_count": null,
            "_view_module_version": "1.2.0",
            "bar_color": null,
            "_model_module": "@jupyter-widgets/controls"
          }
        },
        "bc6cd4bf951e45b59d056bfa4fc23005": {
          "model_module": "@jupyter-widgets/base",
          "model_name": "LayoutModel",
          "state": {
            "_view_name": "LayoutView",
            "grid_template_rows": null,
            "right": null,
            "justify_content": null,
            "_view_module": "@jupyter-widgets/base",
            "overflow": null,
            "_model_module_version": "1.2.0",
            "_view_count": null,
            "flex_flow": null,
            "width": null,
            "min_width": null,
            "border": null,
            "align_items": null,
            "bottom": null,
            "_model_module": "@jupyter-widgets/base",
            "top": null,
            "grid_column": null,
            "overflow_y": null,
            "overflow_x": null,
            "grid_auto_flow": null,
            "grid_area": null,
            "grid_template_columns": null,
            "flex": null,
            "_model_name": "LayoutModel",
            "justify_items": null,
            "grid_row": null,
            "max_height": null,
            "align_content": null,
            "visibility": null,
            "align_self": null,
            "height": null,
            "min_height": null,
            "padding": null,
            "grid_auto_rows": null,
            "grid_gap": null,
            "max_width": null,
            "order": null,
            "_view_module_version": "1.2.0",
            "grid_template_areas": null,
            "object_position": null,
            "object_fit": null,
            "grid_auto_columns": null,
            "margin": null,
            "display": null,
            "left": null
          }
        },
        "eb4c2ca1a4b04a15b5aa69d1902d1d9d": {
          "model_module": "@jupyter-widgets/controls",
          "model_name": "DescriptionStyleModel",
          "state": {
            "_view_name": "StyleView",
            "_model_name": "DescriptionStyleModel",
            "description_width": "",
            "_view_module": "@jupyter-widgets/base",
            "_model_module_version": "1.5.0",
            "_view_count": null,
            "_view_module_version": "1.2.0",
            "_model_module": "@jupyter-widgets/controls"
          }
        },
        "6e69c8cea46647f588b6a9ff8a2e0a8d": {
          "model_module": "@jupyter-widgets/base",
          "model_name": "LayoutModel",
          "state": {
            "_view_name": "LayoutView",
            "grid_template_rows": null,
            "right": null,
            "justify_content": null,
            "_view_module": "@jupyter-widgets/base",
            "overflow": null,
            "_model_module_version": "1.2.0",
            "_view_count": null,
            "flex_flow": null,
            "width": null,
            "min_width": null,
            "border": null,
            "align_items": null,
            "bottom": null,
            "_model_module": "@jupyter-widgets/base",
            "top": null,
            "grid_column": null,
            "overflow_y": null,
            "overflow_x": null,
            "grid_auto_flow": null,
            "grid_area": null,
            "grid_template_columns": null,
            "flex": null,
            "_model_name": "LayoutModel",
            "justify_items": null,
            "grid_row": null,
            "max_height": null,
            "align_content": null,
            "visibility": null,
            "align_self": null,
            "height": null,
            "min_height": null,
            "padding": null,
            "grid_auto_rows": null,
            "grid_gap": null,
            "max_width": null,
            "order": null,
            "_view_module_version": "1.2.0",
            "grid_template_areas": null,
            "object_position": null,
            "object_fit": null,
            "grid_auto_columns": null,
            "margin": null,
            "display": null,
            "left": null
          }
        },
        "6cede17bb10e44568e7b6fcae3e6e280": {
          "model_module": "@jupyter-widgets/controls",
          "model_name": "HBoxModel",
          "state": {
            "_view_name": "HBoxView",
            "_dom_classes": [],
            "_model_name": "HBoxModel",
            "_view_module": "@jupyter-widgets/controls",
            "_model_module_version": "1.5.0",
            "_view_count": null,
            "_view_module_version": "1.5.0",
            "box_style": "",
            "layout": "IPY_MODEL_c4f19c91fad7432d86bfbf75f3d6534a",
            "_model_module": "@jupyter-widgets/controls",
            "children": [
              "IPY_MODEL_a3fc5bec238146bd84c722ebfd5f8d85",
              "IPY_MODEL_4a22a2403d9c4d6bad5693b2e08b123c"
            ]
          }
        },
        "c4f19c91fad7432d86bfbf75f3d6534a": {
          "model_module": "@jupyter-widgets/base",
          "model_name": "LayoutModel",
          "state": {
            "_view_name": "LayoutView",
            "grid_template_rows": null,
            "right": null,
            "justify_content": null,
            "_view_module": "@jupyter-widgets/base",
            "overflow": null,
            "_model_module_version": "1.2.0",
            "_view_count": null,
            "flex_flow": null,
            "width": null,
            "min_width": null,
            "border": null,
            "align_items": null,
            "bottom": null,
            "_model_module": "@jupyter-widgets/base",
            "top": null,
            "grid_column": null,
            "overflow_y": null,
            "overflow_x": null,
            "grid_auto_flow": null,
            "grid_area": null,
            "grid_template_columns": null,
            "flex": null,
            "_model_name": "LayoutModel",
            "justify_items": null,
            "grid_row": null,
            "max_height": null,
            "align_content": null,
            "visibility": null,
            "align_self": null,
            "height": null,
            "min_height": null,
            "padding": null,
            "grid_auto_rows": null,
            "grid_gap": null,
            "max_width": null,
            "order": null,
            "_view_module_version": "1.2.0",
            "grid_template_areas": null,
            "object_position": null,
            "object_fit": null,
            "grid_auto_columns": null,
            "margin": null,
            "display": null,
            "left": null
          }
        },
        "a3fc5bec238146bd84c722ebfd5f8d85": {
          "model_module": "@jupyter-widgets/controls",
          "model_name": "FloatProgressModel",
          "state": {
            "_view_name": "ProgressView",
            "style": "IPY_MODEL_973ffc06ac3e4645b581ade1faacab07",
            "_dom_classes": [],
            "description": "Training Epoch 6:  37%",
            "_model_name": "FloatProgressModel",
            "bar_style": "danger",
            "max": 469,
            "_view_module": "@jupyter-widgets/controls",
            "_model_module_version": "1.5.0",
            "value": 173,
            "_view_count": null,
            "_view_module_version": "1.5.0",
            "orientation": "horizontal",
            "min": 0,
            "description_tooltip": null,
            "_model_module": "@jupyter-widgets/controls",
            "layout": "IPY_MODEL_227587a001b94e8aab96f7fe14ccaa8c"
          }
        },
        "4a22a2403d9c4d6bad5693b2e08b123c": {
          "model_module": "@jupyter-widgets/controls",
          "model_name": "HTMLModel",
          "state": {
            "_view_name": "HTMLView",
            "style": "IPY_MODEL_9c75fbe1c72246fdacf25a79358a2552",
            "_dom_classes": [],
            "description": "",
            "_model_name": "HTMLModel",
            "placeholder": "​",
            "_view_module": "@jupyter-widgets/controls",
            "_model_module_version": "1.5.0",
            "value": " 173/469 [02:31&lt;04:16,  1.15it/s, disc_loss=0.48, gen_loss=1.62]",
            "_view_count": null,
            "_view_module_version": "1.5.0",
            "description_tooltip": null,
            "_model_module": "@jupyter-widgets/controls",
            "layout": "IPY_MODEL_11558a444032498eab36b17c9d2aee72"
          }
        },
        "973ffc06ac3e4645b581ade1faacab07": {
          "model_module": "@jupyter-widgets/controls",
          "model_name": "ProgressStyleModel",
          "state": {
            "_view_name": "StyleView",
            "_model_name": "ProgressStyleModel",
            "description_width": "initial",
            "_view_module": "@jupyter-widgets/base",
            "_model_module_version": "1.5.0",
            "_view_count": null,
            "_view_module_version": "1.2.0",
            "bar_color": null,
            "_model_module": "@jupyter-widgets/controls"
          }
        },
        "227587a001b94e8aab96f7fe14ccaa8c": {
          "model_module": "@jupyter-widgets/base",
          "model_name": "LayoutModel",
          "state": {
            "_view_name": "LayoutView",
            "grid_template_rows": null,
            "right": null,
            "justify_content": null,
            "_view_module": "@jupyter-widgets/base",
            "overflow": null,
            "_model_module_version": "1.2.0",
            "_view_count": null,
            "flex_flow": null,
            "width": null,
            "min_width": null,
            "border": null,
            "align_items": null,
            "bottom": null,
            "_model_module": "@jupyter-widgets/base",
            "top": null,
            "grid_column": null,
            "overflow_y": null,
            "overflow_x": null,
            "grid_auto_flow": null,
            "grid_area": null,
            "grid_template_columns": null,
            "flex": null,
            "_model_name": "LayoutModel",
            "justify_items": null,
            "grid_row": null,
            "max_height": null,
            "align_content": null,
            "visibility": null,
            "align_self": null,
            "height": null,
            "min_height": null,
            "padding": null,
            "grid_auto_rows": null,
            "grid_gap": null,
            "max_width": null,
            "order": null,
            "_view_module_version": "1.2.0",
            "grid_template_areas": null,
            "object_position": null,
            "object_fit": null,
            "grid_auto_columns": null,
            "margin": null,
            "display": null,
            "left": null
          }
        },
        "9c75fbe1c72246fdacf25a79358a2552": {
          "model_module": "@jupyter-widgets/controls",
          "model_name": "DescriptionStyleModel",
          "state": {
            "_view_name": "StyleView",
            "_model_name": "DescriptionStyleModel",
            "description_width": "",
            "_view_module": "@jupyter-widgets/base",
            "_model_module_version": "1.5.0",
            "_view_count": null,
            "_view_module_version": "1.2.0",
            "_model_module": "@jupyter-widgets/controls"
          }
        },
        "11558a444032498eab36b17c9d2aee72": {
          "model_module": "@jupyter-widgets/base",
          "model_name": "LayoutModel",
          "state": {
            "_view_name": "LayoutView",
            "grid_template_rows": null,
            "right": null,
            "justify_content": null,
            "_view_module": "@jupyter-widgets/base",
            "overflow": null,
            "_model_module_version": "1.2.0",
            "_view_count": null,
            "flex_flow": null,
            "width": null,
            "min_width": null,
            "border": null,
            "align_items": null,
            "bottom": null,
            "_model_module": "@jupyter-widgets/base",
            "top": null,
            "grid_column": null,
            "overflow_y": null,
            "overflow_x": null,
            "grid_auto_flow": null,
            "grid_area": null,
            "grid_template_columns": null,
            "flex": null,
            "_model_name": "LayoutModel",
            "justify_items": null,
            "grid_row": null,
            "max_height": null,
            "align_content": null,
            "visibility": null,
            "align_self": null,
            "height": null,
            "min_height": null,
            "padding": null,
            "grid_auto_rows": null,
            "grid_gap": null,
            "max_width": null,
            "order": null,
            "_view_module_version": "1.2.0",
            "grid_template_areas": null,
            "object_position": null,
            "object_fit": null,
            "grid_auto_columns": null,
            "margin": null,
            "display": null,
            "left": null
          }
        }
      }
    }
  },
  "cells": [
    {
      "cell_type": "markdown",
      "metadata": {
        "id": "view-in-github",
        "colab_type": "text"
      },
      "source": [
        "<a href=\"https://colab.research.google.com/github/aashishpiitk/from-Scratch/blob/master/CGAN_implementation_with_coursera_one_hot_logic.ipynb\" target=\"_parent\"><img src=\"https://colab.research.google.com/assets/colab-badge.svg\" alt=\"Open In Colab\"/></a>"
      ]
    },
    {
      "cell_type": "code",
      "metadata": {
        "id": "L15PLVXyPaDo",
        "colab": {
          "base_uri": "https://localhost:8080/"
        },
        "outputId": "9c7faedb-0d56-4ca4-e8c2-7feab71057e7"
      },
      "source": [
        "import argparse\n",
        "import os\n",
        "import random\n",
        "import torch\n",
        "import torch.nn as nn\n",
        "import torch.nn.parallel\n",
        "import torch.backends.cudnn as cudnn\n",
        "import torch.optim as optim\n",
        "import torch.utils.data\n",
        "import torchvision.datasets as dset\n",
        "import torchvision.transforms as transforms\n",
        "import torchvision.utils as vutils\n",
        "import numpy as np\n",
        "import matplotlib.pyplot as plt\n",
        "import matplotlib.animation as animation\n",
        "from IPython.display import HTML\n",
        "import numpy as np\n",
        "import pandas as pd\n",
        "import os, math, sys\n",
        "import glob, itertools\n",
        "import argparse, random\n",
        "\n",
        "import torch\n",
        "import torch.nn as nn\n",
        "import torch.nn.functional as F\n",
        "from torch.autograd import Variable\n",
        "from torchvision.models import vgg19\n",
        "import torchvision.transforms as transforms\n",
        "from torch.utils.data import DataLoader, Dataset\n",
        "from torchvision.utils import save_image, make_grid\n",
        "\n",
        "import plotly\n",
        "import plotly.express as px\n",
        "import plotly.graph_objects as go\n",
        "import matplotlib.pyplot as plt\n",
        "\n",
        "from PIL import Image\n",
        "from tqdm import tqdm_notebook as tqdm\n",
        "from sklearn.model_selection import train_test_split\n",
        "import torchvision.datasets as datasets\n",
        "random.seed(42)\n",
        "import warnings\n",
        "warnings.filterwarnings(\"ignore\")\n",
        "\n",
        "import math\n",
        "\n",
        "manualSeed = 999\n",
        "#manualSeed = random.randint(1, 10000) # use if you want new results\n",
        "print(\"Random Seed: \", manualSeed)\n",
        "random.seed(manualSeed)\n",
        "torch.manual_seed(manualSeed)"
      ],
      "execution_count": null,
      "outputs": [
        {
          "output_type": "stream",
          "text": [
            "Random Seed:  999\n"
          ],
          "name": "stdout"
        },
        {
          "output_type": "execute_result",
          "data": {
            "text/plain": [
              "<torch._C.Generator at 0x7f64fdc29750>"
            ]
          },
          "metadata": {
            "tags": []
          },
          "execution_count": 1
        }
      ]
    },
    {
      "cell_type": "code",
      "metadata": {
        "id": "eZ_X5qWXHzEb"
      },
      "source": [
        "# Root directory for dataset\n",
        "dataset_path = \"/content/dataset/img_align_celeba\"\n",
        "\n",
        "# Number of workers for dataloader\n",
        "workers = 2\n",
        "\n",
        "# Batch size during training\n",
        "batch_size = 128\n",
        "\n",
        "# Spatial size of training images. All images will be resized to this\n",
        "#   size using a transformer.\n",
        "im_shape = (64,64)\n",
        "\n",
        "# Number of channels in the training images. For color images this is 3\n",
        "nc = 1\n",
        "\n",
        "# Size of z latent vector (i.e. size of generator input)\n",
        "nz = 100 ## nz denotes the number of channels\n",
        "\n",
        "# Size of feature maps in generator\n",
        "ngf = 128\n",
        "\n",
        "# Size of feature maps in discriminator\n",
        "ndf = 128\n",
        "\n",
        "# Num of labels in data\n",
        "num_labels = 10\n",
        "\n",
        "# Number of training epochs\n",
        "num_epochs = 10\n",
        "\n",
        "# Learning rate for optimizers\n",
        "lr = 0.0002\n",
        "\n",
        "# Beta1 hyperparam for Adam optimizers\n",
        "beta1 = 0.5\n",
        "\n",
        "# Number of GPUs available. Use 0 for CPU mode.\n",
        "ngpu = 1"
      ],
      "execution_count": null,
      "outputs": []
    },
    {
      "cell_type": "code",
      "metadata": {
        "colab": {
          "base_uri": "https://localhost:8080/",
          "height": 539,
          "referenced_widgets": [
            "ec0b3a094e7a44339d2bbde3bb89a9a7",
            "42bd1613120748099bc305f867d2f8f2",
            "58b236a0d33747e8befb85acb0825494",
            "3c1a389d3fc34ab6a180424333cef726",
            "4df4ba9b0c5f4d6691a2de480ec283cb",
            "f4aae077cbb740ba8ee34c1081ada592",
            "307cef869c1f44e7929349fa171bc7fb",
            "3face0492d68467398f77841341b19c4",
            "e407fffdd8e84d7698f721b2928ea823",
            "4653240941db4867aec6c53c6a2c3ef6",
            "6b38ca6ab088476ea400e891e9e97441",
            "0bcfd03275ce4728b42684ba65193792",
            "af148a8a92454841a4c6ab414c02c788",
            "e8291d3e71cc4209afb15d91d2648956",
            "d79ac246f33047199614b9253e977d55",
            "2df72095417547b6b32d0492252c35f4",
            "94c132ed622f4d0893a2abb9c78d71b3",
            "5ec0540341b8471191baf1534b56cb66",
            "a1785b0ab13e4a8bbd08a2c6c3ac40af",
            "44bb833c9aa043a6a78fc5960bff97a6",
            "38f6c5c295df455cbce9831e6e56ccdd",
            "9bd937d8499b426eb734f54242237671",
            "066c16bf09fa40ccab3c9842f1ff2439",
            "545e9047d9a94515b4c5156e8a19292d",
            "52c23ba639ed4861a3b9dc70e62b063c",
            "8e1b5f5eb13b43b0aaa619560df68a6b",
            "bb0e4d09f5ad4af6b63531458575014d",
            "f2773d965e1d4f859ec69a18d69c9c9d",
            "f53318f414a84016ab70ae17a73f49af",
            "f6f8c893ec914712a0e372065d9c1ac9",
            "93f5d0e7835e4302883d177b767413dd",
            "c8d171967f0647ccb13aff621d128b29"
          ]
        },
        "id": "s5DVuNO_jbiU",
        "outputId": "061ee2fa-570c-4f36-f319-e0a59055dcd0"
      },
      "source": [
        "my_transforms = transforms.Compose([\n",
        "    transforms.Resize((64,64)),\n",
        "    transforms.ToTensor(),\n",
        "    transforms.Normalize((0.5,),(0.5,)),\n",
        "    ])\n",
        "\n",
        "dataset = datasets.MNIST(root='/content/dataset', train=True, transform=my_transforms, download=True)\n",
        "dataloader = DataLoader(dataset, batch_size=batch_size, shuffle=True, num_workers=2)"
      ],
      "execution_count": null,
      "outputs": [
        {
          "output_type": "stream",
          "text": [
            "Downloading http://yann.lecun.com/exdb/mnist/train-images-idx3-ubyte.gz\n",
            "Downloading http://yann.lecun.com/exdb/mnist/train-images-idx3-ubyte.gz to /content/dataset/MNIST/raw/train-images-idx3-ubyte.gz\n"
          ],
          "name": "stdout"
        },
        {
          "output_type": "display_data",
          "data": {
            "application/vnd.jupyter.widget-view+json": {
              "model_id": "ec0b3a094e7a44339d2bbde3bb89a9a7",
              "version_minor": 0,
              "version_major": 2
            },
            "text/plain": [
              "HBox(children=(FloatProgress(value=0.0, max=9912422.0), HTML(value='')))"
            ]
          },
          "metadata": {
            "tags": []
          }
        },
        {
          "output_type": "stream",
          "text": [
            "\n",
            "Extracting /content/dataset/MNIST/raw/train-images-idx3-ubyte.gz to /content/dataset/MNIST/raw\n",
            "\n",
            "Downloading http://yann.lecun.com/exdb/mnist/train-labels-idx1-ubyte.gz\n",
            "Downloading http://yann.lecun.com/exdb/mnist/train-labels-idx1-ubyte.gz to /content/dataset/MNIST/raw/train-labels-idx1-ubyte.gz\n"
          ],
          "name": "stdout"
        },
        {
          "output_type": "display_data",
          "data": {
            "application/vnd.jupyter.widget-view+json": {
              "model_id": "e407fffdd8e84d7698f721b2928ea823",
              "version_minor": 0,
              "version_major": 2
            },
            "text/plain": [
              "HBox(children=(FloatProgress(value=0.0, max=28881.0), HTML(value='')))"
            ]
          },
          "metadata": {
            "tags": []
          }
        },
        {
          "output_type": "stream",
          "text": [
            "\n",
            "Extracting /content/dataset/MNIST/raw/train-labels-idx1-ubyte.gz to /content/dataset/MNIST/raw\n",
            "\n",
            "Downloading http://yann.lecun.com/exdb/mnist/t10k-images-idx3-ubyte.gz\n",
            "Downloading http://yann.lecun.com/exdb/mnist/t10k-images-idx3-ubyte.gz to /content/dataset/MNIST/raw/t10k-images-idx3-ubyte.gz\n"
          ],
          "name": "stdout"
        },
        {
          "output_type": "display_data",
          "data": {
            "application/vnd.jupyter.widget-view+json": {
              "model_id": "94c132ed622f4d0893a2abb9c78d71b3",
              "version_minor": 0,
              "version_major": 2
            },
            "text/plain": [
              "HBox(children=(FloatProgress(value=0.0, max=1648877.0), HTML(value='')))"
            ]
          },
          "metadata": {
            "tags": []
          }
        },
        {
          "output_type": "stream",
          "text": [
            "\n",
            "Extracting /content/dataset/MNIST/raw/t10k-images-idx3-ubyte.gz to /content/dataset/MNIST/raw\n",
            "\n",
            "Downloading http://yann.lecun.com/exdb/mnist/t10k-labels-idx1-ubyte.gz\n",
            "Downloading http://yann.lecun.com/exdb/mnist/t10k-labels-idx1-ubyte.gz to /content/dataset/MNIST/raw/t10k-labels-idx1-ubyte.gz\n"
          ],
          "name": "stdout"
        },
        {
          "output_type": "display_data",
          "data": {
            "application/vnd.jupyter.widget-view+json": {
              "model_id": "52c23ba639ed4861a3b9dc70e62b063c",
              "version_minor": 0,
              "version_major": 2
            },
            "text/plain": [
              "HBox(children=(FloatProgress(value=0.0, max=4542.0), HTML(value='')))"
            ]
          },
          "metadata": {
            "tags": []
          }
        },
        {
          "output_type": "stream",
          "text": [
            "\n",
            "Extracting /content/dataset/MNIST/raw/t10k-labels-idx1-ubyte.gz to /content/dataset/MNIST/raw\n",
            "\n",
            "Processing...\n",
            "Done!\n"
          ],
          "name": "stdout"
        }
      ]
    },
    {
      "cell_type": "code",
      "metadata": {
        "id": "srEk2VMJn_dl"
      },
      "source": [
        ""
      ],
      "execution_count": null,
      "outputs": []
    },
    {
      "cell_type": "code",
      "metadata": {
        "colab": {
          "base_uri": "https://localhost:8080/"
        },
        "id": "EVwZlcSewm3h",
        "outputId": "418e8ff6-e060-4481-c171-e585b450c0ea"
      },
      "source": [
        "len(dataloader)"
      ],
      "execution_count": null,
      "outputs": [
        {
          "output_type": "execute_result",
          "data": {
            "text/plain": [
              "469"
            ]
          },
          "metadata": {
            "tags": []
          },
          "execution_count": 4
        }
      ]
    },
    {
      "cell_type": "code",
      "metadata": {
        "id": "rJBWUaCrOZnF"
      },
      "source": [
        "# custom weights initialization called on netG and netD\n",
        "\n",
        "def weights_init(m):\n",
        "    classname = m.__class__.__name__\n",
        "    if classname.find('Conv') != -1:\n",
        "        nn.init.normal_(m.weight.data, 0.0, 0.02)\n",
        "    elif classname.find('BatchNorm') != -1:\n",
        "        nn.init.normal_(m.weight.data, 1.0, 0.02)\n",
        "        nn.init.constant_(m.bias.data, 0)"
      ],
      "execution_count": null,
      "outputs": []
    },
    {
      "cell_type": "code",
      "metadata": {
        "id": "u1TUD2OcWBOr"
      },
      "source": [
        "## Writing my first generator code\n",
        "\n",
        "class Generator(nn.Module):\n",
        "  def __init__(self, ngpu):\n",
        "    super(Generator, self).__init__()\n",
        "    self.ngpu = ngpu\n",
        "    self.net = nn.Sequential(\n",
        "        # input is Z (noise vector) going into a transpose convolution\n",
        "        nn.ConvTranspose2d(nz + num_labels, ngf*8, kernel_size=4, stride=1, padding=0,bias=False),\n",
        "        nn.BatchNorm2d(ngf*8),  # batchnorm on 4d input, with one dimension for number of images and one for channels, the first argument is the numner of features\n",
        "        nn.ReLU(inplace=True),\n",
        "\n",
        "        # state size ==== (ngf*8) x 4 x 4 ## think of it as applying a conv with kernel=(4x4) with stride 1 on (ngf*8) x 4 x4, then result would be (ngf*8)x1x1\n",
        "        nn.ConvTranspose2d(ngf*8, ngf*4, 4, stride=2, padding=1, bias=False),\n",
        "        nn.BatchNorm2d(ngf*4),\n",
        "        nn.ReLU(True),\n",
        "\n",
        "        # state size == (ngf*4) x 8 x 8\n",
        "        nn.ConvTranspose2d(ngf*4, ngf*2, 4, stride=2, padding=1, bias=False),\n",
        "        nn.BatchNorm2d(ngf*2),\n",
        "        nn.ReLU(True),\n",
        "\n",
        "        # state size == (ngf*2) x 16 x 16\n",
        "        nn.ConvTranspose2d(ngf*2, ngf, 4, stride=2, padding=1, bias=False),\n",
        "        nn.BatchNorm2d(ngf),\n",
        "        nn.ReLU(True),\n",
        "\n",
        "        # state size == (ngf) x 32 x 32\n",
        "        nn.ConvTranspose2d(ngf, nc, 4, 2, 1, bias=False),\n",
        "        nn.Tanh()\n",
        "    )\n",
        "\n",
        "  def forward(self, input):\n",
        "    return self.net(input)"
      ],
      "execution_count": null,
      "outputs": []
    },
    {
      "cell_type": "code",
      "metadata": {
        "id": "RE1LQfi0Oodi"
      },
      "source": [
        "# Decide which device we want to run on\n",
        "device = torch.device(\"cuda:0\" if (torch.cuda.is_available() and ngpu > 0) else \"cpu\")"
      ],
      "execution_count": null,
      "outputs": []
    },
    {
      "cell_type": "code",
      "metadata": {
        "id": "o0XWo-AqOa75"
      },
      "source": [
        "##### Writing my first disciminator\n",
        "class Discriminator(nn.Module):\n",
        "  def __init__(self, ngpu):\n",
        "    super(Discriminator, self).__init__()\n",
        "    self.ngpu = ngpu\n",
        "    self.net = nn.Sequential(\n",
        "        # input is (nc) x 64 x 64 with extra first dimension for number of images(batch_size)\n",
        "        nn.Conv2d(nc + num_labels, ndf, 4, 2, 1, bias=False),\n",
        "        nn.LeakyReLU(0.2, inplace=True),\n",
        "\n",
        "        # state size === (ndf) x 32 x 32\n",
        "       nn.Conv2d(ndf, ndf*2, 4, 2,1, bias=False),\n",
        "       nn.BatchNorm2d(ndf*2),\n",
        "       nn.LeakyReLU(0.2, inplace=True),\n",
        "      # state size. (ndf*2) x 16 x 16\n",
        "      nn.Conv2d(ndf * 2, ndf * 4, 4, 2, 1, bias=False),\n",
        "      nn.BatchNorm2d(ndf * 4),\n",
        "      nn.LeakyReLU(0.2, inplace=True),\n",
        "      # state size. (ndf*4) x 8 x 8\n",
        "      nn.Conv2d(ndf * 4, ndf * 8, 4, 2, 1, bias=False),\n",
        "      nn.BatchNorm2d(ndf * 8),\n",
        "      nn.LeakyReLU(0.2, inplace=True),\n",
        "      # state size. (ndf*8) x 4 x 4\n",
        "      nn.Conv2d(ndf * 8, 1, 4, 1, 0, bias=False),\n",
        "      # state size is (batch_size, 1, 1, 1)\n",
        "      nn.Sigmoid() ## as it is case of binary classification\n",
        "      # final state size is a sigle float value \n",
        "    )\n",
        "    self.output_shape = (1,1,1)\n",
        "\n",
        "  def forward(self, input):\n",
        "   return self.net(input)"
      ],
      "execution_count": null,
      "outputs": []
    },
    {
      "cell_type": "code",
      "metadata": {
        "colab": {
          "base_uri": "https://localhost:8080/"
        },
        "id": "vGdKT7iNRi_z",
        "outputId": "3ac7093d-1153-4e76-a7b8-745ad98145bb"
      },
      "source": [
        "# Create the Discriminator\n",
        "netD = Discriminator(ngpu).to(device)\n",
        "\n",
        "# Handle multi-gpu if desired\n",
        "if (device.type == 'cuda') and (ngpu > 1):\n",
        "    netD = nn.DataParallel(netD, list(range(ngpu)))\n",
        "\n",
        "# Apply the weights_init function to randomly initialize all weights\n",
        "#  to mean=0, stdev=0.2.\n",
        "netD.apply(weights_init)\n",
        "\n",
        "# Print the model\n",
        "print(netD)"
      ],
      "execution_count": null,
      "outputs": [
        {
          "output_type": "stream",
          "text": [
            "Discriminator(\n",
            "  (net): Sequential(\n",
            "    (0): Conv2d(11, 128, kernel_size=(4, 4), stride=(2, 2), padding=(1, 1), bias=False)\n",
            "    (1): LeakyReLU(negative_slope=0.2, inplace=True)\n",
            "    (2): Conv2d(128, 256, kernel_size=(4, 4), stride=(2, 2), padding=(1, 1), bias=False)\n",
            "    (3): BatchNorm2d(256, eps=1e-05, momentum=0.1, affine=True, track_running_stats=True)\n",
            "    (4): LeakyReLU(negative_slope=0.2, inplace=True)\n",
            "    (5): Conv2d(256, 512, kernel_size=(4, 4), stride=(2, 2), padding=(1, 1), bias=False)\n",
            "    (6): BatchNorm2d(512, eps=1e-05, momentum=0.1, affine=True, track_running_stats=True)\n",
            "    (7): LeakyReLU(negative_slope=0.2, inplace=True)\n",
            "    (8): Conv2d(512, 1024, kernel_size=(4, 4), stride=(2, 2), padding=(1, 1), bias=False)\n",
            "    (9): BatchNorm2d(1024, eps=1e-05, momentum=0.1, affine=True, track_running_stats=True)\n",
            "    (10): LeakyReLU(negative_slope=0.2, inplace=True)\n",
            "    (11): Conv2d(1024, 1, kernel_size=(4, 4), stride=(1, 1), bias=False)\n",
            "    (12): Sigmoid()\n",
            "  )\n",
            ")\n"
          ],
          "name": "stdout"
        }
      ]
    },
    {
      "cell_type": "code",
      "metadata": {
        "colab": {
          "base_uri": "https://localhost:8080/"
        },
        "id": "Pk_pi-7UNZUr",
        "outputId": "5a846f4f-69c1-4bb4-9754-39ce7cac8b45"
      },
      "source": [
        "# create a generator\n",
        "netG = Generator(ngpu).to(device)\n",
        "\n",
        "# Handle multi-gpu if desired\n",
        "if (device.type == 'cuda') and (ngpu > 1):\n",
        "    netG = nn.DataParallel(netG, list(range(ngpu)))\n",
        "\n",
        "# Apply the weights_init function to randomly initialize all weights\n",
        "#  to mean=0, stdev=0.2.\n",
        "netG.apply(weights_init)\n",
        "\n",
        "# Print the model\n",
        "print(netG)"
      ],
      "execution_count": null,
      "outputs": [
        {
          "output_type": "stream",
          "text": [
            "Generator(\n",
            "  (net): Sequential(\n",
            "    (0): ConvTranspose2d(110, 1024, kernel_size=(4, 4), stride=(1, 1), bias=False)\n",
            "    (1): BatchNorm2d(1024, eps=1e-05, momentum=0.1, affine=True, track_running_stats=True)\n",
            "    (2): ReLU(inplace=True)\n",
            "    (3): ConvTranspose2d(1024, 512, kernel_size=(4, 4), stride=(2, 2), padding=(1, 1), bias=False)\n",
            "    (4): BatchNorm2d(512, eps=1e-05, momentum=0.1, affine=True, track_running_stats=True)\n",
            "    (5): ReLU(inplace=True)\n",
            "    (6): ConvTranspose2d(512, 256, kernel_size=(4, 4), stride=(2, 2), padding=(1, 1), bias=False)\n",
            "    (7): BatchNorm2d(256, eps=1e-05, momentum=0.1, affine=True, track_running_stats=True)\n",
            "    (8): ReLU(inplace=True)\n",
            "    (9): ConvTranspose2d(256, 128, kernel_size=(4, 4), stride=(2, 2), padding=(1, 1), bias=False)\n",
            "    (10): BatchNorm2d(128, eps=1e-05, momentum=0.1, affine=True, track_running_stats=True)\n",
            "    (11): ReLU(inplace=True)\n",
            "    (12): ConvTranspose2d(128, 1, kernel_size=(4, 4), stride=(2, 2), padding=(1, 1), bias=False)\n",
            "    (13): Tanh()\n",
            "  )\n",
            ")\n"
          ],
          "name": "stdout"
        }
      ]
    },
    {
      "cell_type": "code",
      "metadata": {
        "id": "ahqFER-CRr92"
      },
      "source": [
        "######### Now we enter the training part\n",
        "\n",
        "\n",
        "# initialize BCE loss function\n",
        "criterion = nn.BCELoss()\n",
        "\n",
        "# Create batch of latent vectors that we will use to visualize\n",
        "#  the progression of the generator\n",
        "fixed_noise = torch.randn(64, nz, 1, 1, device=device)\n",
        "\n",
        "# Establish convention for real and fake labels during training\n",
        "real_label = 1.\n",
        "fake_label = 0.\n",
        "\n",
        "# Setup Adam optimizers for both G and D\n",
        "optimizerD = optim.Adam(netD.parameters(), lr=lr, betas=(beta1, 0.999))\n",
        "optimizerG = optim.Adam(netG.parameters(), lr=lr, betas=(beta1, 0.999))"
      ],
      "execution_count": null,
      "outputs": []
    },
    {
      "cell_type": "code",
      "metadata": {
        "id": "_VtC57cGM4E8"
      },
      "source": [
        ""
      ],
      "execution_count": null,
      "outputs": []
    },
    {
      "cell_type": "code",
      "metadata": {
        "id": "nF1LPWpZSasU"
      },
      "source": [
        "# ########## Training loop\n",
        "\n",
        "# # lists to keep track of the progress\n",
        "\n",
        "# img_list = []\n",
        "# G_losses = []\n",
        "# D_losses = []\n",
        "# iters = 0\n",
        "\n",
        "# print(\"Starting Training Loop\")\n",
        "# # For each epoch\n",
        "# for epoch in range(num_epochs):\n",
        "#   #for each batch in dataloader\n",
        "#   for i, data in enumerate(dataloader, 0):\n",
        "\n",
        "#   ############################\n",
        "#         # (1) Update D network: maximize log(D(x)) + log(1 - D(G(z))),as we want to detect fake images\n",
        "#         ###########################\n",
        "#     ## train with all real batch\n",
        "#     netD.zero_grad() # initialize all the gradients as zero\n",
        "#     # format batch\n",
        "#     real_cpu = data[0].to(device)\n",
        "#     b_size = real_cpu.size(0) ## batch size\n",
        "#     label = torch.full((b_size,), real_label, dtype=torch.float, device=device)\n",
        "#     # forward pass real batch through D\n",
        "#     output = netD(real_cpu).view(-1)\n",
        "#     # calculate loss on all real batch\n",
        "#     errD_real = criterion(output, label)\n",
        "#     # calculate gradients for D in backward pass\n",
        "#     errD_real.backward()\n",
        "#     D_x = output.mean().item()\n",
        "\n",
        "#     ## Train with all-fake batch\n",
        "#     # generate batch of latent vectors\n",
        "#     noise = torch.randn(b_size, nz, 1, 1, device=device)\n",
        "#     # generate fake image with Generator model by passing the random vector\n",
        "#     fake = netG(noise)\n",
        "#     label.fill_(fake_label)\n",
        "\n",
        "#     # classify all fake batch with D\n",
        "#     output = netD(fake.detach()).view(-1)\n"
      ],
      "execution_count": null,
      "outputs": []
    },
    {
      "cell_type": "code",
      "metadata": {
        "id": "m5TR3UH_vsXF"
      },
      "source": [
        "## output of generator would be (batch_size, 3, 218, 178) ---> (batch_size, 3, 64, 64)\n",
        "## input of generator wouuld be (batch_size, nz, 1, 1)\n",
        "## input of discriminator is = output of discriminator = (batch_size, 3, 218, 178) ---> (batch_size, 3, 64, 64)\n",
        "## output of discriminator is ()"
      ],
      "execution_count": null,
      "outputs": []
    },
    {
      "cell_type": "code",
      "metadata": {
        "id": "dUhmQHA1cK0D"
      },
      "source": [
        "gen_output = netG(torch.randn(64,110,1,1).to(device))"
      ],
      "execution_count": null,
      "outputs": []
    },
    {
      "cell_type": "code",
      "metadata": {
        "colab": {
          "base_uri": "https://localhost:8080/"
        },
        "id": "cFzr6OXCbNkF",
        "outputId": "9b8f2a67-0a1a-423b-cec6-9c87a4213d4e"
      },
      "source": [
        "print(gen_output.shape)"
      ],
      "execution_count": null,
      "outputs": [
        {
          "output_type": "stream",
          "text": [
            "torch.Size([64, 1, 64, 64])\n"
          ],
          "name": "stdout"
        }
      ]
    },
    {
      "cell_type": "code",
      "metadata": {
        "id": "6NMiDPVQcPFc",
        "colab": {
          "base_uri": "https://localhost:8080/",
          "height": 323
        },
        "outputId": "9e33e5a0-60e4-4004-b335-fdac6bb030a6"
      },
      "source": [
        "disc_output = netD(gen_output)"
      ],
      "execution_count": null,
      "outputs": [
        {
          "output_type": "error",
          "ename": "RuntimeError",
          "evalue": "ignored",
          "traceback": [
            "\u001b[0;31m---------------------------------------------------------------------------\u001b[0m",
            "\u001b[0;31mRuntimeError\u001b[0m                              Traceback (most recent call last)",
            "\u001b[0;32m<ipython-input-17-c9a3fb11aa7a>\u001b[0m in \u001b[0;36m<module>\u001b[0;34m()\u001b[0m\n\u001b[0;32m----> 1\u001b[0;31m \u001b[0mdisc_output\u001b[0m \u001b[0;34m=\u001b[0m \u001b[0mnetD\u001b[0m\u001b[0;34m(\u001b[0m\u001b[0mgen_output\u001b[0m\u001b[0;34m)\u001b[0m\u001b[0;34m\u001b[0m\u001b[0;34m\u001b[0m\u001b[0m\n\u001b[0m",
            "\u001b[0;32m/usr/local/lib/python3.7/dist-packages/torch/nn/modules/module.py\u001b[0m in \u001b[0;36m_call_impl\u001b[0;34m(self, *input, **kwargs)\u001b[0m\n\u001b[1;32m    887\u001b[0m             \u001b[0mresult\u001b[0m \u001b[0;34m=\u001b[0m \u001b[0mself\u001b[0m\u001b[0;34m.\u001b[0m\u001b[0m_slow_forward\u001b[0m\u001b[0;34m(\u001b[0m\u001b[0;34m*\u001b[0m\u001b[0minput\u001b[0m\u001b[0;34m,\u001b[0m \u001b[0;34m**\u001b[0m\u001b[0mkwargs\u001b[0m\u001b[0;34m)\u001b[0m\u001b[0;34m\u001b[0m\u001b[0;34m\u001b[0m\u001b[0m\n\u001b[1;32m    888\u001b[0m         \u001b[0;32melse\u001b[0m\u001b[0;34m:\u001b[0m\u001b[0;34m\u001b[0m\u001b[0;34m\u001b[0m\u001b[0m\n\u001b[0;32m--> 889\u001b[0;31m             \u001b[0mresult\u001b[0m \u001b[0;34m=\u001b[0m \u001b[0mself\u001b[0m\u001b[0;34m.\u001b[0m\u001b[0mforward\u001b[0m\u001b[0;34m(\u001b[0m\u001b[0;34m*\u001b[0m\u001b[0minput\u001b[0m\u001b[0;34m,\u001b[0m \u001b[0;34m**\u001b[0m\u001b[0mkwargs\u001b[0m\u001b[0;34m)\u001b[0m\u001b[0;34m\u001b[0m\u001b[0;34m\u001b[0m\u001b[0m\n\u001b[0m\u001b[1;32m    890\u001b[0m         for hook in itertools.chain(\n\u001b[1;32m    891\u001b[0m                 \u001b[0m_global_forward_hooks\u001b[0m\u001b[0;34m.\u001b[0m\u001b[0mvalues\u001b[0m\u001b[0;34m(\u001b[0m\u001b[0;34m)\u001b[0m\u001b[0;34m,\u001b[0m\u001b[0;34m\u001b[0m\u001b[0;34m\u001b[0m\u001b[0m\n",
            "\u001b[0;32m<ipython-input-8-2c461bc6465a>\u001b[0m in \u001b[0;36mforward\u001b[0;34m(self, input)\u001b[0m\n\u001b[1;32m     30\u001b[0m \u001b[0;34m\u001b[0m\u001b[0m\n\u001b[1;32m     31\u001b[0m   \u001b[0;32mdef\u001b[0m \u001b[0mforward\u001b[0m\u001b[0;34m(\u001b[0m\u001b[0mself\u001b[0m\u001b[0;34m,\u001b[0m \u001b[0minput\u001b[0m\u001b[0;34m)\u001b[0m\u001b[0;34m:\u001b[0m\u001b[0;34m\u001b[0m\u001b[0;34m\u001b[0m\u001b[0m\n\u001b[0;32m---> 32\u001b[0;31m    \u001b[0;32mreturn\u001b[0m \u001b[0mself\u001b[0m\u001b[0;34m.\u001b[0m\u001b[0mnet\u001b[0m\u001b[0;34m(\u001b[0m\u001b[0minput\u001b[0m\u001b[0;34m)\u001b[0m\u001b[0;34m\u001b[0m\u001b[0;34m\u001b[0m\u001b[0m\n\u001b[0m",
            "\u001b[0;32m/usr/local/lib/python3.7/dist-packages/torch/nn/modules/module.py\u001b[0m in \u001b[0;36m_call_impl\u001b[0;34m(self, *input, **kwargs)\u001b[0m\n\u001b[1;32m    887\u001b[0m             \u001b[0mresult\u001b[0m \u001b[0;34m=\u001b[0m \u001b[0mself\u001b[0m\u001b[0;34m.\u001b[0m\u001b[0m_slow_forward\u001b[0m\u001b[0;34m(\u001b[0m\u001b[0;34m*\u001b[0m\u001b[0minput\u001b[0m\u001b[0;34m,\u001b[0m \u001b[0;34m**\u001b[0m\u001b[0mkwargs\u001b[0m\u001b[0;34m)\u001b[0m\u001b[0;34m\u001b[0m\u001b[0;34m\u001b[0m\u001b[0m\n\u001b[1;32m    888\u001b[0m         \u001b[0;32melse\u001b[0m\u001b[0;34m:\u001b[0m\u001b[0;34m\u001b[0m\u001b[0;34m\u001b[0m\u001b[0m\n\u001b[0;32m--> 889\u001b[0;31m             \u001b[0mresult\u001b[0m \u001b[0;34m=\u001b[0m \u001b[0mself\u001b[0m\u001b[0;34m.\u001b[0m\u001b[0mforward\u001b[0m\u001b[0;34m(\u001b[0m\u001b[0;34m*\u001b[0m\u001b[0minput\u001b[0m\u001b[0;34m,\u001b[0m \u001b[0;34m**\u001b[0m\u001b[0mkwargs\u001b[0m\u001b[0;34m)\u001b[0m\u001b[0;34m\u001b[0m\u001b[0;34m\u001b[0m\u001b[0m\n\u001b[0m\u001b[1;32m    890\u001b[0m         for hook in itertools.chain(\n\u001b[1;32m    891\u001b[0m                 \u001b[0m_global_forward_hooks\u001b[0m\u001b[0;34m.\u001b[0m\u001b[0mvalues\u001b[0m\u001b[0;34m(\u001b[0m\u001b[0;34m)\u001b[0m\u001b[0;34m,\u001b[0m\u001b[0;34m\u001b[0m\u001b[0;34m\u001b[0m\u001b[0m\n",
            "\u001b[0;32m/usr/local/lib/python3.7/dist-packages/torch/nn/modules/container.py\u001b[0m in \u001b[0;36mforward\u001b[0;34m(self, input)\u001b[0m\n\u001b[1;32m    117\u001b[0m     \u001b[0;32mdef\u001b[0m \u001b[0mforward\u001b[0m\u001b[0;34m(\u001b[0m\u001b[0mself\u001b[0m\u001b[0;34m,\u001b[0m \u001b[0minput\u001b[0m\u001b[0;34m)\u001b[0m\u001b[0;34m:\u001b[0m\u001b[0;34m\u001b[0m\u001b[0;34m\u001b[0m\u001b[0m\n\u001b[1;32m    118\u001b[0m         \u001b[0;32mfor\u001b[0m \u001b[0mmodule\u001b[0m \u001b[0;32min\u001b[0m \u001b[0mself\u001b[0m\u001b[0;34m:\u001b[0m\u001b[0;34m\u001b[0m\u001b[0;34m\u001b[0m\u001b[0m\n\u001b[0;32m--> 119\u001b[0;31m             \u001b[0minput\u001b[0m \u001b[0;34m=\u001b[0m \u001b[0mmodule\u001b[0m\u001b[0;34m(\u001b[0m\u001b[0minput\u001b[0m\u001b[0;34m)\u001b[0m\u001b[0;34m\u001b[0m\u001b[0;34m\u001b[0m\u001b[0m\n\u001b[0m\u001b[1;32m    120\u001b[0m         \u001b[0;32mreturn\u001b[0m \u001b[0minput\u001b[0m\u001b[0;34m\u001b[0m\u001b[0;34m\u001b[0m\u001b[0m\n\u001b[1;32m    121\u001b[0m \u001b[0;34m\u001b[0m\u001b[0m\n",
            "\u001b[0;32m/usr/local/lib/python3.7/dist-packages/torch/nn/modules/module.py\u001b[0m in \u001b[0;36m_call_impl\u001b[0;34m(self, *input, **kwargs)\u001b[0m\n\u001b[1;32m    887\u001b[0m             \u001b[0mresult\u001b[0m \u001b[0;34m=\u001b[0m \u001b[0mself\u001b[0m\u001b[0;34m.\u001b[0m\u001b[0m_slow_forward\u001b[0m\u001b[0;34m(\u001b[0m\u001b[0;34m*\u001b[0m\u001b[0minput\u001b[0m\u001b[0;34m,\u001b[0m \u001b[0;34m**\u001b[0m\u001b[0mkwargs\u001b[0m\u001b[0;34m)\u001b[0m\u001b[0;34m\u001b[0m\u001b[0;34m\u001b[0m\u001b[0m\n\u001b[1;32m    888\u001b[0m         \u001b[0;32melse\u001b[0m\u001b[0;34m:\u001b[0m\u001b[0;34m\u001b[0m\u001b[0;34m\u001b[0m\u001b[0m\n\u001b[0;32m--> 889\u001b[0;31m             \u001b[0mresult\u001b[0m \u001b[0;34m=\u001b[0m \u001b[0mself\u001b[0m\u001b[0;34m.\u001b[0m\u001b[0mforward\u001b[0m\u001b[0;34m(\u001b[0m\u001b[0;34m*\u001b[0m\u001b[0minput\u001b[0m\u001b[0;34m,\u001b[0m \u001b[0;34m**\u001b[0m\u001b[0mkwargs\u001b[0m\u001b[0;34m)\u001b[0m\u001b[0;34m\u001b[0m\u001b[0;34m\u001b[0m\u001b[0m\n\u001b[0m\u001b[1;32m    890\u001b[0m         for hook in itertools.chain(\n\u001b[1;32m    891\u001b[0m                 \u001b[0m_global_forward_hooks\u001b[0m\u001b[0;34m.\u001b[0m\u001b[0mvalues\u001b[0m\u001b[0;34m(\u001b[0m\u001b[0;34m)\u001b[0m\u001b[0;34m,\u001b[0m\u001b[0;34m\u001b[0m\u001b[0;34m\u001b[0m\u001b[0m\n",
            "\u001b[0;32m/usr/local/lib/python3.7/dist-packages/torch/nn/modules/conv.py\u001b[0m in \u001b[0;36mforward\u001b[0;34m(self, input)\u001b[0m\n\u001b[1;32m    397\u001b[0m \u001b[0;34m\u001b[0m\u001b[0m\n\u001b[1;32m    398\u001b[0m     \u001b[0;32mdef\u001b[0m \u001b[0mforward\u001b[0m\u001b[0;34m(\u001b[0m\u001b[0mself\u001b[0m\u001b[0;34m,\u001b[0m \u001b[0minput\u001b[0m\u001b[0;34m:\u001b[0m \u001b[0mTensor\u001b[0m\u001b[0;34m)\u001b[0m \u001b[0;34m->\u001b[0m \u001b[0mTensor\u001b[0m\u001b[0;34m:\u001b[0m\u001b[0;34m\u001b[0m\u001b[0;34m\u001b[0m\u001b[0m\n\u001b[0;32m--> 399\u001b[0;31m         \u001b[0;32mreturn\u001b[0m \u001b[0mself\u001b[0m\u001b[0;34m.\u001b[0m\u001b[0m_conv_forward\u001b[0m\u001b[0;34m(\u001b[0m\u001b[0minput\u001b[0m\u001b[0;34m,\u001b[0m \u001b[0mself\u001b[0m\u001b[0;34m.\u001b[0m\u001b[0mweight\u001b[0m\u001b[0;34m,\u001b[0m \u001b[0mself\u001b[0m\u001b[0;34m.\u001b[0m\u001b[0mbias\u001b[0m\u001b[0;34m)\u001b[0m\u001b[0;34m\u001b[0m\u001b[0;34m\u001b[0m\u001b[0m\n\u001b[0m\u001b[1;32m    400\u001b[0m \u001b[0;34m\u001b[0m\u001b[0m\n\u001b[1;32m    401\u001b[0m \u001b[0;32mclass\u001b[0m \u001b[0mConv3d\u001b[0m\u001b[0;34m(\u001b[0m\u001b[0m_ConvNd\u001b[0m\u001b[0;34m)\u001b[0m\u001b[0;34m:\u001b[0m\u001b[0;34m\u001b[0m\u001b[0;34m\u001b[0m\u001b[0m\n",
            "\u001b[0;32m/usr/local/lib/python3.7/dist-packages/torch/nn/modules/conv.py\u001b[0m in \u001b[0;36m_conv_forward\u001b[0;34m(self, input, weight, bias)\u001b[0m\n\u001b[1;32m    394\u001b[0m                             _pair(0), self.dilation, self.groups)\n\u001b[1;32m    395\u001b[0m         return F.conv2d(input, weight, bias, self.stride,\n\u001b[0;32m--> 396\u001b[0;31m                         self.padding, self.dilation, self.groups)\n\u001b[0m\u001b[1;32m    397\u001b[0m \u001b[0;34m\u001b[0m\u001b[0m\n\u001b[1;32m    398\u001b[0m     \u001b[0;32mdef\u001b[0m \u001b[0mforward\u001b[0m\u001b[0;34m(\u001b[0m\u001b[0mself\u001b[0m\u001b[0;34m,\u001b[0m \u001b[0minput\u001b[0m\u001b[0;34m:\u001b[0m \u001b[0mTensor\u001b[0m\u001b[0;34m)\u001b[0m \u001b[0;34m->\u001b[0m \u001b[0mTensor\u001b[0m\u001b[0;34m:\u001b[0m\u001b[0;34m\u001b[0m\u001b[0;34m\u001b[0m\u001b[0m\n",
            "\u001b[0;31mRuntimeError\u001b[0m: Given groups=1, weight of size [128, 11, 4, 4], expected input[64, 1, 64, 64] to have 11 channels, but got 1 channels instead"
          ]
        }
      ]
    },
    {
      "cell_type": "code",
      "metadata": {
        "id": "Y3-DLTUBfqRy"
      },
      "source": [
        "print(disc_output.shape)"
      ],
      "execution_count": null,
      "outputs": []
    },
    {
      "cell_type": "code",
      "metadata": {
        "id": "VlMYk9H7ft1J",
        "colab": {
          "base_uri": "https://localhost:8080/",
          "height": 285
        },
        "outputId": "46aa6f5c-56ff-4fba-dbc8-ceca96e401e8"
      },
      "source": [
        "plt.imshow(gen_output[0].detach().cpu().numpy().transpose(1,2,0).squeeze(2))"
      ],
      "execution_count": null,
      "outputs": [
        {
          "output_type": "execute_result",
          "data": {
            "text/plain": [
              "<matplotlib.image.AxesImage at 0x7f64e29d85d0>"
            ]
          },
          "metadata": {
            "tags": []
          },
          "execution_count": 18
        },
        {
          "output_type": "display_data",
          "data": {
            "image/png": "[encoded data removed]",
            "text/plain": [
              "<Figure size 432x288 with 1 Axes>"
            ]
          },
          "metadata": {
            "tags": [],
            "needs_background": "light"
          }
        }
      ]
    },
    {
      "cell_type": "code",
      "metadata": {
        "id": "c6TLlNB8Oq2N"
      },
      "source": [
        "print(disc_output[0])"
      ],
      "execution_count": null,
      "outputs": []
    },
    {
      "cell_type": "code",
      "metadata": {
        "id": "DWQc_GZVFIKu"
      },
      "source": [
        "len(dataloader.dataset)"
      ],
      "execution_count": null,
      "outputs": []
    },
    {
      "cell_type": "code",
      "metadata": {
        "id": "y84AiRS8uTvF"
      },
      "source": [
        "temp = torch.tensor([[1], [3], [2]])"
      ],
      "execution_count": null,
      "outputs": []
    },
    {
      "cell_type": "code",
      "metadata": {
        "id": "24o1muB_uMpg"
      },
      "source": [
        "temp_one = torch.nn.functional.one_hot(temp)"
      ],
      "execution_count": null,
      "outputs": []
    },
    {
      "cell_type": "code",
      "metadata": {
        "id": "WafuHsOvvB-A"
      },
      "source": [
        "print(temp_one)"
      ],
      "execution_count": null,
      "outputs": []
    },
    {
      "cell_type": "code",
      "metadata": {
        "id": "UMQskaODvPil"
      },
      "source": [
        "temp_one = temp_one.squeeze()"
      ],
      "execution_count": null,
      "outputs": []
    },
    {
      "cell_type": "code",
      "metadata": {
        "id": "OihRT1AHu0Vm"
      },
      "source": [
        "print(temp.shape, temp_one.unsqueeze(-1).unsqueeze(-1).shape)"
      ],
      "execution_count": null,
      "outputs": []
    },
    {
      "cell_type": "code",
      "metadata": {
        "id": "UWOzMWAivM34"
      },
      "source": [
        "iterator = iter(dataloader)\n",
        "batch = next(iterator)"
      ],
      "execution_count": null,
      "outputs": []
    },
    {
      "cell_type": "code",
      "metadata": {
        "colab": {
          "base_uri": "https://localhost:8080/"
        },
        "id": "AJdCK69VxIDF",
        "outputId": "1bf2e505-6962-4757-c9ef-29259962cb79"
      },
      "source": [
        "batch[0].shape"
      ],
      "execution_count": null,
      "outputs": [
        {
          "output_type": "execute_result",
          "data": {
            "text/plain": [
              "torch.Size([128, 1, 64, 64])"
            ]
          },
          "metadata": {
            "tags": []
          },
          "execution_count": 22
        }
      ]
    },
    {
      "cell_type": "code",
      "metadata": {
        "id": "YsM2Q7-E3QDU"
      },
      "source": [
        "temp_target = batch[1]\n",
        "for temp in temp_target:\n",
        "  print(temp.item())"
      ],
      "execution_count": null,
      "outputs": []
    },
    {
      "cell_type": "code",
      "metadata": {
        "id": "pDPF_jGF0qjA"
      },
      "source": [
        "res = [x.item() for x in batch[1]]"
      ],
      "execution_count": null,
      "outputs": []
    },
    {
      "cell_type": "code",
      "metadata": {
        "id": "6p3sGS1k0_c0"
      },
      "source": [
        "print(res)"
      ],
      "execution_count": null,
      "outputs": []
    },
    {
      "cell_type": "code",
      "metadata": {
        "id": "XBouyPaR1FoO"
      },
      "source": [
        "temp = [[1,2,3],[4,5,6]]\n",
        "temp[:][0,2] = 1000"
      ],
      "execution_count": null,
      "outputs": []
    },
    {
      "cell_type": "code",
      "metadata": {
        "id": "6gP9bTVe3nPq"
      },
      "source": [
        "temp = torch.randn((10,5,3))"
      ],
      "execution_count": null,
      "outputs": []
    },
    {
      "cell_type": "code",
      "metadata": {
        "id": "-vUqIZod3qhF"
      },
      "source": [
        "temp[0,1,:] = 1000"
      ],
      "execution_count": null,
      "outputs": []
    },
    {
      "cell_type": "code",
      "metadata": {
        "id": "OrrxAf4E3zd5"
      },
      "source": [
        "print(temp)"
      ],
      "execution_count": null,
      "outputs": []
    },
    {
      "cell_type": "code",
      "metadata": {
        "id": "XAre0rkVsAf5",
        "colab": {
          "base_uri": "https://localhost:8080/",
          "height": 557,
          "referenced_widgets": [
            "a344046b94914d0496d96b2ba4ecad98",
            "0bd9c4a8b57c44719dc5eca6ea9ebc00",
            "50265d5af9ed469d81115914a38307d3",
            "3bba042a37e349659c30f5c8a7178848",
            "338ce163797349c3b5728cd326f3df49",
            "1111317cf03145d787e72471e022c13b",
            "4571fc8c6d094a55a74ef38147e31a0e",
            "be80b8ea8b2547449d4f8d37692f12e1",
            "4ed83441f8a74a4996f9f888954bffb7",
            "d73023226d114e43ba067b77720edb69",
            "83477d46ad6b41418bd82ecbb1f360df",
            "5758e2b8a59941f98b828a34ec53656f",
            "4b230deed0144833a4497d5565380eca",
            "59df80ca47474ab39bfe665658eb8b79",
            "78c7d5787f594be4bf90fdf6a6e7dcbb",
            "8a6b7627cbd746e28e3d69db426fe483",
            "cfdd5e1610874b648c02d01649537400",
            "ee259c8cf31e47cebe25041bf5d6f3d5",
            "f1f3f522cc334ba29785a25d2b685f92",
            "384fea0063504552b979459b5880df19",
            "08d4781ef959460e8a620b361c5a2021",
            "e863ee94e626495aaa9de55c405a3878",
            "6fbd68d493274211a55b16feab0246c2",
            "9793e9fe2a254f6fbd2e670f0f7d1bac",
            "a13ae0cb4bc4487fb4e2db2f5fb427f1",
            "c1b780aa371e4b7fb3e0bd486b21c22b",
            "ff3065102cc947e58f5a53dcbce22699",
            "3a10dc87d8e149ff8e110507104bdd8f",
            "2102fa8ef8a641bd88e528ff24edba35",
            "e50062fde1c749858c56f3b0bf72142e",
            "1d2eb3c573ab4a39af5993f45a254369",
            "7be802172fd04326aef9d2fb50ec7cc8",
            "e3cf30d7ac1b408588a8ef757cf744b2",
            "b97b676507ef4d818804b346861eaa6a",
            "a38c1e020fb6489eb43652738d53174e",
            "24d41a61a97145d6b069e04ac49aae34",
            "e6a6ab25f6e44a999007619533875053",
            "0004927fc79a47dc8a99d85065954f7b",
            "772c37677cc747489e3da718491eeb96",
            "3bcf9ee43fa3412a83b07e5a54e85d54",
            "b320373e520e442c897a36844e32756a",
            "4c19dd2716714717933c4e6d3eba56c7",
            "02237c41e07c4be8aa196655b8df686b",
            "9d5d1821f51340ffa476910e2cb47f15",
            "6d60299fbb9642508ed32aed6dcd4d09",
            "bc6cd4bf951e45b59d056bfa4fc23005",
            "eb4c2ca1a4b04a15b5aa69d1902d1d9d",
            "6e69c8cea46647f588b6a9ff8a2e0a8d",
            "6cede17bb10e44568e7b6fcae3e6e280",
            "c4f19c91fad7432d86bfbf75f3d6534a",
            "a3fc5bec238146bd84c722ebfd5f8d85",
            "4a22a2403d9c4d6bad5693b2e08b123c",
            "973ffc06ac3e4645b581ade1faacab07",
            "227587a001b94e8aab96f7fe14ccaa8c",
            "9c75fbe1c72246fdacf25a79358a2552",
            "11558a444032498eab36b17c9d2aee72"
          ]
        },
        "outputId": "3e60180f-5f7f-4ae7-ade0-8b25f3534faf"
      },
      "source": [
        "######## writing the trainning loop\n",
        "\n",
        "## Weight initialization\n",
        "netD.apply(weights_init)\n",
        "netG.apply(weights_init)\n",
        "\n",
        "optimizerD = optim.Adam(netD.parameters(), lr=lr, betas=(beta1, 0.999))\n",
        "optimizerG = optim.Adam(netG.parameters(), lr=lr, betas=(beta1, 0.999))\n",
        "\n",
        "\n",
        "train_gen_losses, train_disc_losses, train_counter = [], [], []\n",
        "\n",
        "for epoch in range(num_epochs):\n",
        "  gen_loss, disc_loss = 0,0 \n",
        "  tqdm_bar = (tqdm(dataloader, \n",
        "                   desc=f'Training Epoch {epoch}', \n",
        "                   total = int(len(dataloader))))\n",
        "\n",
        "  for batch_idx, (imgs, targets) in enumerate(tqdm_bar):\n",
        "\n",
        "    netG.train(); netD.train()\n",
        "    batch_size = imgs.shape[0] ## important step so that there is no error in case the last batch is not of the required size\n",
        "    real_images = imgs.to(device)\n",
        "\n",
        "    # obtain one hot vectors\n",
        "    targets = targets.to(device)\n",
        "    targets_one_hot = torch.nn.functional.one_hot(targets).squeeze().unsqueeze(-1).unsqueeze(-1)\n",
        "\n",
        "    # concatenate the vectors to the end to noise input\n",
        "    \n",
        "    real_labels = torch.full((batch_size,1,1,1), 0.9, dtype=torch.float, device=device)\n",
        "    fake_labels = torch.full((batch_size,1,1,1), 0.1, dtype=torch.float, device=device)\n",
        "    \n",
        "    noise = torch.randn(batch_size, nz, 1, 1,device=device)\n",
        "    noise_with_targets = torch.cat((noise, targets_one_hot), 1)\n",
        "\n",
        "    targets_with_one_channel_on = torch.zeros((batch_size, 10, imgs.shape[2], imgs.shape[2])).to(device)\n",
        "    for i, target in enumerate(targets):\n",
        "      targets_with_one_channel_on[i, target.item(), :, :] = 1  \n",
        "    ## Generator\n",
        "    netG.zero_grad()\n",
        "    gen_output = netG(noise_with_targets)\n",
        "    disc_output = netD(torch.cat((gen_output, targets_with_one_channel_on), 1))\n",
        "\n",
        "    loss_G = criterion(disc_output, real_labels)\n",
        "    loss_G.backward()\n",
        "    optimizerG.step()\n",
        "\n",
        "    \n",
        "\n",
        "    \n",
        "\n",
        "    ##Discriminator\n",
        "    netD.zero_grad()\n",
        "    real_images_with_labels = torch.cat((real_images, targets_with_one_channel_on), 1)\n",
        "    output_real = netD(real_images_with_labels)\n",
        "    D_loss_real = criterion(output_real, real_labels)\n",
        "\n",
        "    fake_images_with_labels = torch.cat((gen_output.detach(), targets_with_one_channel_on), 1)\n",
        "    output_fake = netD(fake_images_with_labels)\n",
        "    D_loss_fake = criterion(output_fake, fake_labels)\n",
        "    loss_D = (D_loss_real + D_loss_fake)/2\n",
        "    loss_D.backward()\n",
        "    optimizerD.step()\n",
        "    \n",
        "    gen_loss += loss_G.item()\n",
        "    train_gen_losses.append(loss_G.item())\n",
        "    disc_loss+= loss_D.item()\n",
        "    train_disc_losses.append(loss_D.item())\n",
        "    \n",
        "\n",
        "    train_counter.append(batch_idx*batch_size + imgs.size(0) + epoch*len(dataloader.dataset))\n",
        "    tqdm_bar.set_postfix(gen_loss = gen_loss/(batch_idx+1), disc_loss = disc_loss/(batch_idx+1))\n",
        "\n",
        "\n",
        "  if(True):\n",
        "      # torch.save({\n",
        "      #       'epoch': epoch+1,\n",
        "      #       'generator_state_dict': generator.state_dict(),\n",
        "      #       'optimizer_state_dict': optimizer_G.state_dict(),\n",
        "      #       'loss': loss,\n",
        "      #       ...\n",
        "      #       }, PATH)\n",
        "\n",
        "      # torch.save({\n",
        "      #       'epoch': epoch+1,\n",
        "      #       'discriminator_state_dict': discriminator.state_dict(),\n",
        "      #       'optimizer_state_dict': optimizer.state_dict(),\n",
        "      #       'loss': loss,\n",
        "      #       ...\n",
        "      #       }, PATH)\n",
        "      torch.save({\n",
        "            'discriminator_state_dict': netD.state_dict(),\n",
        "            'generator_state_dict': netG.state_dict(),\n",
        "            'optimizer_G_state_dict': optimizerG.state_dict(),\n",
        "            'optimizer_D_state_dict': optimizerD.state_dict(),\n",
        "            'epoch': epoch+1,\n",
        "            }, \"/content/drive/MyDrive/cgan_one_hot_coursera_weights/checkpt{}.pt\".format(epoch+1))\n",
        "      \n"
      ],
      "execution_count": null,
      "outputs": [
        {
          "output_type": "display_data",
          "data": {
            "application/vnd.jupyter.widget-view+json": {
              "model_id": "a344046b94914d0496d96b2ba4ecad98",
              "version_minor": 0,
              "version_major": 2
            },
            "text/plain": [
              "HBox(children=(FloatProgress(value=0.0, description='Training Epoch 0', max=469.0, style=ProgressStyle(descrip…"
            ]
          },
          "metadata": {
            "tags": []
          }
        },
        {
          "output_type": "stream",
          "text": [
            "\n"
          ],
          "name": "stdout"
        },
        {
          "output_type": "display_data",
          "data": {
            "application/vnd.jupyter.widget-view+json": {
              "model_id": "4ed83441f8a74a4996f9f888954bffb7",
              "version_minor": 0,
              "version_major": 2
            },
            "text/plain": [
              "HBox(children=(FloatProgress(value=0.0, description='Training Epoch 1', max=469.0, style=ProgressStyle(descrip…"
            ]
          },
          "metadata": {
            "tags": []
          }
        },
        {
          "output_type": "stream",
          "text": [
            "\n"
          ],
          "name": "stdout"
        },
        {
          "output_type": "display_data",
          "data": {
            "application/vnd.jupyter.widget-view+json": {
              "model_id": "cfdd5e1610874b648c02d01649537400",
              "version_minor": 0,
              "version_major": 2
            },
            "text/plain": [
              "HBox(children=(FloatProgress(value=0.0, description='Training Epoch 2', max=469.0, style=ProgressStyle(descrip…"
            ]
          },
          "metadata": {
            "tags": []
          }
        },
        {
          "output_type": "stream",
          "text": [
            "\n"
          ],
          "name": "stdout"
        },
        {
          "output_type": "display_data",
          "data": {
            "application/vnd.jupyter.widget-view+json": {
              "model_id": "a13ae0cb4bc4487fb4e2db2f5fb427f1",
              "version_minor": 0,
              "version_major": 2
            },
            "text/plain": [
              "HBox(children=(FloatProgress(value=0.0, description='Training Epoch 3', max=469.0, style=ProgressStyle(descrip…"
            ]
          },
          "metadata": {
            "tags": []
          }
        },
        {
          "output_type": "stream",
          "text": [
            "\n"
          ],
          "name": "stdout"
        },
        {
          "output_type": "display_data",
          "data": {
            "application/vnd.jupyter.widget-view+json": {
              "model_id": "e3cf30d7ac1b408588a8ef757cf744b2",
              "version_minor": 0,
              "version_major": 2
            },
            "text/plain": [
              "HBox(children=(FloatProgress(value=0.0, description='Training Epoch 4', max=469.0, style=ProgressStyle(descrip…"
            ]
          },
          "metadata": {
            "tags": []
          }
        },
        {
          "output_type": "stream",
          "text": [
            "\n"
          ],
          "name": "stdout"
        },
        {
          "output_type": "display_data",
          "data": {
            "application/vnd.jupyter.widget-view+json": {
              "model_id": "b320373e520e442c897a36844e32756a",
              "version_minor": 0,
              "version_major": 2
            },
            "text/plain": [
              "HBox(children=(FloatProgress(value=0.0, description='Training Epoch 5', max=469.0, style=ProgressStyle(descrip…"
            ]
          },
          "metadata": {
            "tags": []
          }
        },
        {
          "output_type": "stream",
          "text": [
            "\n"
          ],
          "name": "stdout"
        },
        {
          "output_type": "display_data",
          "data": {
            "application/vnd.jupyter.widget-view+json": {
              "model_id": "6cede17bb10e44568e7b6fcae3e6e280",
              "version_minor": 0,
              "version_major": 2
            },
            "text/plain": [
              "HBox(children=(FloatProgress(value=0.0, description='Training Epoch 6', max=469.0, style=ProgressStyle(descrip…"
            ]
          },
          "metadata": {
            "tags": []
          }
        },
        {
          "output_type": "error",
          "ename": "KeyboardInterrupt",
          "evalue": "ignored",
          "traceback": [
            "\u001b[0;31m---------------------------------------------------------------------------\u001b[0m",
            "\u001b[0;31mKeyboardInterrupt\u001b[0m                         Traceback (most recent call last)",
            "\u001b[0;32m<ipython-input-27-9ac6f2f7146d>\u001b[0m in \u001b[0;36m<module>\u001b[0;34m()\u001b[0m\n\u001b[1;32m     64\u001b[0m     \u001b[0moptimizerD\u001b[0m\u001b[0;34m.\u001b[0m\u001b[0mstep\u001b[0m\u001b[0;34m(\u001b[0m\u001b[0;34m)\u001b[0m\u001b[0;34m\u001b[0m\u001b[0;34m\u001b[0m\u001b[0m\n\u001b[1;32m     65\u001b[0m \u001b[0;34m\u001b[0m\u001b[0m\n\u001b[0;32m---> 66\u001b[0;31m     \u001b[0mgen_loss\u001b[0m \u001b[0;34m+=\u001b[0m \u001b[0mloss_G\u001b[0m\u001b[0;34m.\u001b[0m\u001b[0mitem\u001b[0m\u001b[0;34m(\u001b[0m\u001b[0;34m)\u001b[0m\u001b[0;34m\u001b[0m\u001b[0;34m\u001b[0m\u001b[0m\n\u001b[0m\u001b[1;32m     67\u001b[0m     \u001b[0mtrain_gen_losses\u001b[0m\u001b[0;34m.\u001b[0m\u001b[0mappend\u001b[0m\u001b[0;34m(\u001b[0m\u001b[0mloss_G\u001b[0m\u001b[0;34m.\u001b[0m\u001b[0mitem\u001b[0m\u001b[0;34m(\u001b[0m\u001b[0;34m)\u001b[0m\u001b[0;34m)\u001b[0m\u001b[0;34m\u001b[0m\u001b[0;34m\u001b[0m\u001b[0m\n\u001b[1;32m     68\u001b[0m     \u001b[0mdisc_loss\u001b[0m\u001b[0;34m+=\u001b[0m \u001b[0mloss_D\u001b[0m\u001b[0;34m.\u001b[0m\u001b[0mitem\u001b[0m\u001b[0;34m(\u001b[0m\u001b[0;34m)\u001b[0m\u001b[0;34m\u001b[0m\u001b[0;34m\u001b[0m\u001b[0m\n",
            "\u001b[0;31mKeyboardInterrupt\u001b[0m: "
          ]
        }
      ]
    },
    {
      "cell_type": "code",
      "metadata": {
        "colab": {
          "base_uri": "https://localhost:8080/",
          "height": 537
        },
        "id": "Z0_RwUKII9EY",
        "outputId": "92f83bf7-e7d2-40d1-be4c-92bd4a9eaf93"
      },
      "source": [
        "fig = go.Figure()\n",
        "fig.add_trace(go.Scatter(x=train_counter, y=train_gen_losses, mode='lines', name='Train Generator Loss'))\n",
        "##fig.add_trace(go.Scatter(x=test_counter, y=test_gen_losses, marker_symbol='star-diamond', \n",
        "                        ## marker_color='orange', marker_line_width=1, marker_size=9, mode='markers', name='Test Generator Loss'))\n",
        "fig.update_layout(\n",
        "    width=1000,\n",
        "    height=500,\n",
        "    title=\"Train vs. Test Generator Loss\",\n",
        "    xaxis_title=\"Number of training examples seen\",\n",
        "    yaxis_title=\"Adversarial + Content Loss\"),\n",
        "fig.show()"
      ],
      "execution_count": null,
      "outputs": [
        {
          "output_type": "display_data",
          "data": {
            "text/html": [
              "<html>\n",
              "<head><meta charset=\"utf-8\" /></head>\n",
              "<body>\n",
              "    <div>\n",
              "            <script src=\"https://cdnjs.cloudflare.com/ajax/libs/mathjax/2.7.5/MathJax.js?config=TeX-AMS-MML_SVG\"></script><script type=\"text/javascript\">if (window.MathJax) {MathJax.Hub.Config({SVG: {font: \"STIX-Web\"}});}</script>\n",
              "                <script type=\"text/javascript\">window.PlotlyConfig = {MathJaxConfig: 'local'};</script>\n",
              "        <script src=\"https://cdn.plot.ly/plotly-latest.min.js\"></script>    \n",
              "            <div id=\"2c339830-75d8-4d0d-a3d7-6f007bae114f\" class=\"plotly-graph-div\" style=\"height:500px; width:1000px;\"></div>\n",
              "            <script type=\"text/javascript\">\n",
              "                \n",
              "                    window.PLOTLYENV=window.PLOTLYENV || {};\n",
              "                    \n",
              "                if (document.getElementById(\"2c339830-75d8-4d0d-a3d7-6f007bae114f\")) {\n",
              "                    Plotly.newPlot(\n",
              "                        '2c339830-75d8-4d0d-a3d7-6f007bae114f',\n",
              "                        [{\"mode\": \"lines\", \"name\": \"Train Generator Loss\", \"type\": \"scatter\", \"x\": [128, 256, 384, 512, 640, 768, 896, 1024, 1152, 1280, 1408, 1536, 1664, 1792, 1920, 2048, 2176, 2304, 2432, 2560, 2688, 2816, 2944, 3072, 3200, 3328, 3456, 3584, 3712, 3840, 3968, 4096, 4224, 4352, 4480, 4608, 4736, 4864, 4992, 5120, 5248, 5376, 5504, 5632, 5760, 5888, 6016, 6144, 6272, 6400, 6528, 6656, 6784, 6912, 7040, 7168, 7296, 7424, 7552, 7680, 7808, 7936, 8064, 8192, 8320, 8448, 8576, 8704, 8832, 8960, 9088, 9216, 9344, 9472, 9600, 9728, 9856, 9984, 10112, 10240, 10368, 10496, 10624, 10752, 10880, 11008, 11136, 11264, 11392, 11520, 11648, 11776, 11904, 12032, 12160, 12288, 12416, 12544, 12672, 12800, 12928, 13056, 13184, 13312, 13440, 13568, 13696, 13824, 13952, 14080, 14208, 14336, 14464, 14592, 14720, 14848, 14976, 15104, 15232, 15360, 15488, 15616, 15744, 15872, 16000, 16128, 16256, 16384, 16512, 16640, 16768, 16896, 17024, 17152, 17280, 17408, 17536, 17664, 17792, 17920, 18048, 18176, 18304, 18432, 18560, 18688, 18816, 18944, 19072, 19200, 19328, 19456, 19584, 19712, 19840, 19968, 20096, 20224, 20352, 20480, 20608, 20736, 20864, 20992, 21120, 21248, 21376, 21504, 21632, 21760, 21888, 22016, 22144, 22272, 22400, 22528, 22656, 22784, 22912, 23040, 23168, 23296, 23424, 23552, 23680, 23808, 23936, 24064, 24192, 24320, 24448, 24576, 24704, 24832, 24960, 25088, 25216, 25344, 25472, 25600, 25728, 25856, 25984, 26112, 26240, 26368, 26496, 26624, 26752, 26880, 27008, 27136, 27264, 27392, 27520, 27648, 27776, 27904, 28032, 28160, 28288, 28416, 28544, 28672, 28800, 28928, 29056, 29184, 29312, 29440, 29568, 29696, 29824, 29952, 30080, 30208, 30336, 30464, 30592, 30720, 30848, 30976, 31104, 31232, 31360, 31488, 31616, 31744, 31872, 32000, 32128, 32256, 32384, 32512, 32640, 32768, 32896, 33024, 33152, 33280, 33408, 33536, 33664, 33792, 33920, 34048, 34176, 34304, 34432, 34560, 34688, 34816, 34944, 35072, 35200, 35328, 35456, 35584, 35712, 35840, 35968, 36096, 36224, 36352, 36480, 36608, 36736, 36864, 36992, 37120, 37248, 37376, 37504, 37632, 37760, 37888, 38016, 38144, 38272, 38400, 38528, 38656, 38784, 38912, 39040, 39168, 39296, 39424, 39552, 39680, 39808, 39936, 40064, 40192, 40320, 40448, 40576, 40704, 40832, 40960, 41088, 41216, 41344, 41472, 41600, 41728, 41856, 41984, 42112, 42240, 42368, 42496, 42624, 42752, 42880, 43008, 43136, 43264, 43392, 43520, 43648, 43776, 43904, 44032, 44160, 44288, 44416, 44544, 44672, 44800, 44928, 45056, 45184, 45312, 45440, 45568, 45696, 45824, 45952, 46080, 46208, 46336, 46464, 46592, 46720, 46848, 46976, 47104, 47232, 47360, 47488, 47616, 47744, 47872, 48000, 48128, 48256, 48384, 48512, 48640, 48768, 48896, 49024, 49152, 49280, 49408, 49536, 49664, 49792, 49920, 50048, 50176, 50304, 50432, 50560, 50688, 50816, 50944, 51072, 51200, 51328, 51456, 51584, 51712, 51840, 51968, 52096, 52224, 52352, 52480, 52608, 52736, 52864, 52992, 53120, 53248, 53376, 53504, 53632, 53760, 53888, 54016, 54144, 54272, 54400, 54528, 54656, 54784, 54912, 55040, 55168, 55296, 55424, 55552, 55680, 55808, 55936, 56064, 56192, 56320, 56448, 56576, 56704, 56832, 56960, 57088, 57216, 57344, 57472, 57600, 57728, 57856, 57984, 58112, 58240, 58368, 58496, 58624, 58752, 58880, 59008, 59136, 59264, 59392, 59520, 59648, 59776, 59904, 45024, 60128, 60256, 60384, 60512, 60640, 60768, 60896, 61024, 61152, 61280, 61408, 61536, 61664, 61792, 61920, 62048, 62176, 62304, 62432, 62560, 62688, 62816, 62944, 63072, 63200, 63328, 63456, 63584, 63712, 63840, 63968, 64096, 64224, 64352, 64480, 64608, 64736, 64864, 64992, 65120, 65248, 65376, 65504, 65632, 65760, 65888, 66016, 66144, 66272, 66400, 66528, 66656, 66784, 66912, 67040, 67168, 67296, 67424, 67552, 67680, 67808, 67936, 68064, 68192, 68320, 68448, 68576, 68704, 68832, 68960, 69088, 69216, 69344, 69472, 69600, 69728, 69856, 69984, 70112, 70240, 70368, 70496, 70624, 70752, 70880, 71008, 71136, 71264, 71392, 71520, 71648, 71776, 71904, 72032, 72160, 72288, 72416, 72544, 72672, 72800, 72928, 73056, 73184, 73312, 73440, 73568, 73696, 73824, 73952, 74080, 74208, 74336, 74464, 74592, 74720, 74848, 74976, 75104, 75232, 75360, 75488, 75616, 75744, 75872, 76000, 76128, 76256, 76384, 76512, 76640, 76768, 76896, 77024, 77152, 77280, 77408, 77536, 77664, 77792, 77920, 78048, 78176, 78304, 78432, 78560, 78688, 78816, 78944, 79072, 79200, 79328, 79456, 79584, 79712, 79840, 79968, 80096, 80224, 80352, 80480, 80608, 80736, 80864, 80992, 81120, 81248, 81376, 81504, 81632, 81760, 81888, 82016, 82144, 82272, 82400, 82528, 82656, 82784, 82912, 83040, 83168, 83296, 83424, 83552, 83680, 83808, 83936, 84064, 84192, 84320, 84448, 84576, 84704, 84832, 84960, 85088, 85216, 85344, 85472, 85600, 85728, 85856, 85984, 86112, 86240, 86368, 86496, 86624, 86752, 86880, 87008, 87136, 87264, 87392, 87520, 87648, 87776, 87904, 88032, 88160, 88288, 88416, 88544, 88672, 88800, 88928, 89056, 89184, 89312, 89440, 89568, 89696, 89824, 89952, 90080, 90208, 90336, 90464, 90592, 90720, 90848, 90976, 91104, 91232, 91360, 91488, 91616, 91744, 91872, 92000, 92128, 92256, 92384, 92512, 92640, 92768, 92896, 93024, 93152, 93280, 93408, 93536, 93664, 93792, 93920, 94048, 94176, 94304, 94432, 94560, 94688, 94816, 94944, 95072, 95200, 95328, 95456, 95584, 95712, 95840, 95968, 96096, 96224, 96352, 96480, 96608, 96736, 96864, 96992, 97120, 97248, 97376, 97504, 97632, 97760, 97888, 98016, 98144, 98272, 98400, 98528, 98656, 98784, 98912, 99040, 99168, 99296, 99424, 99552, 99680, 99808, 99936, 100064, 100192, 100320, 100448, 100576, 100704, 100832, 100960, 101088, 101216, 101344, 101472, 101600, 101728, 101856, 101984, 102112, 102240, 102368, 102496, 102624, 102752, 102880, 103008, 103136, 103264, 103392, 103520, 103648, 103776, 103904, 104032, 104160, 104288, 104416, 104544, 104672, 104800, 104928, 105056, 105184, 105312, 105440, 105568, 105696, 105824, 105952, 106080, 106208, 106336, 106464, 106592, 106720, 106848, 106976, 107104, 107232, 107360, 107488, 107616, 107744, 107872, 108000, 108128, 108256, 108384, 108512, 108640, 108768, 108896, 109024, 109152, 109280, 109408, 109536, 109664, 109792, 109920, 110048, 110176, 110304, 110432, 110560, 110688, 110816, 110944, 111072, 111200, 111328, 111456, 111584, 111712, 111840, 111968, 112096, 112224, 112352, 112480, 112608, 112736, 112864, 112992, 113120, 113248, 113376, 113504, 113632, 113760, 113888, 114016, 114144, 114272, 114400, 114528, 114656, 114784, 114912, 115040, 115168, 115296, 115424, 115552, 115680, 115808, 115936, 116064, 116192, 116320, 116448, 116576, 116704, 116832, 116960, 117088, 117216, 117344, 117472, 117600, 117728, 117856, 117984, 118112, 118240, 118368, 118496, 118624, 118752, 118880, 119008, 119136, 119264, 119392, 119520, 119648, 119776, 119904, 105024, 120128, 120256, 120384, 120512, 120640, 120768, 120896, 121024, 121152, 121280, 121408, 121536, 121664, 121792, 121920, 122048, 122176, 122304, 122432, 122560, 122688, 122816, 122944, 123072, 123200, 123328, 123456, 123584, 123712, 123840, 123968, 124096, 124224, 124352, 124480, 124608, 124736, 124864, 124992, 125120, 125248, 125376, 125504, 125632, 125760, 125888, 126016, 126144, 126272, 126400, 126528, 126656, 126784, 126912, 127040, 127168, 127296, 127424, 127552, 127680, 127808, 127936, 128064, 128192, 128320, 128448, 128576, 128704, 128832, 128960, 129088, 129216, 129344, 129472, 129600, 129728, 129856, 129984, 130112, 130240, 130368, 130496, 130624, 130752, 130880, 131008, 131136, 131264, 131392, 131520, 131648, 131776, 131904, 132032, 132160, 132288, 132416, 132544, 132672, 132800, 132928, 133056, 133184, 133312, 133440, 133568, 133696, 133824, 133952, 134080, 134208, 134336, 134464, 134592, 134720, 134848, 134976, 135104, 135232, 135360, 135488, 135616, 135744, 135872, 136000, 136128, 136256, 136384, 136512, 136640, 136768, 136896, 137024, 137152, 137280, 137408, 137536, 137664, 137792, 137920, 138048, 138176, 138304, 138432, 138560, 138688, 138816, 138944, 139072, 139200, 139328, 139456, 139584, 139712, 139840, 139968, 140096, 140224, 140352, 140480, 140608, 140736, 140864, 140992, 141120, 141248, 141376, 141504, 141632, 141760, 141888, 142016, 142144, 142272, 142400, 142528, 142656, 142784, 142912, 143040, 143168, 143296, 143424, 143552, 143680, 143808, 143936, 144064, 144192, 144320, 144448, 144576, 144704, 144832, 144960, 145088, 145216, 145344, 145472, 145600, 145728, 145856, 145984, 146112, 146240, 146368, 146496, 146624, 146752, 146880, 147008, 147136, 147264, 147392, 147520, 147648, 147776, 147904, 148032, 148160, 148288, 148416, 148544, 148672, 148800, 148928, 149056, 149184, 149312, 149440, 149568, 149696, 149824, 149952, 150080, 150208, 150336, 150464, 150592, 150720, 150848, 150976, 151104, 151232, 151360, 151488, 151616, 151744, 151872, 152000, 152128, 152256, 152384, 152512, 152640, 152768, 152896, 153024, 153152, 153280, 153408, 153536, 153664, 153792, 153920, 154048, 154176, 154304, 154432, 154560, 154688, 154816, 154944, 155072, 155200, 155328, 155456, 155584, 155712, 155840, 155968, 156096, 156224, 156352, 156480, 156608, 156736, 156864, 156992, 157120, 157248, 157376, 157504, 157632, 157760, 157888, 158016, 158144, 158272, 158400, 158528, 158656, 158784, 158912, 159040, 159168, 159296, 159424, 159552, 159680, 159808, 159936, 160064, 160192, 160320, 160448, 160576, 160704, 160832, 160960, 161088, 161216, 161344, 161472, 161600, 161728, 161856, 161984, 162112, 162240, 162368, 162496, 162624, 162752, 162880, 163008, 163136, 163264, 163392, 163520, 163648, 163776, 163904, 164032, 164160, 164288, 164416, 164544, 164672, 164800, 164928, 165056, 165184, 165312, 165440, 165568, 165696, 165824, 165952, 166080, 166208, 166336, 166464, 166592, 166720, 166848, 166976, 167104, 167232, 167360, 167488, 167616, 167744, 167872, 168000, 168128, 168256, 168384, 168512, 168640, 168768, 168896, 169024, 169152, 169280, 169408, 169536, 169664, 169792, 169920, 170048, 170176, 170304, 170432, 170560, 170688, 170816, 170944, 171072, 171200, 171328, 171456, 171584, 171712, 171840, 171968, 172096, 172224, 172352, 172480, 172608, 172736, 172864, 172992, 173120, 173248, 173376, 173504, 173632, 173760, 173888, 174016, 174144, 174272, 174400, 174528, 174656, 174784, 174912, 175040, 175168, 175296, 175424, 175552, 175680, 175808, 175936, 176064, 176192, 176320, 176448, 176576, 176704, 176832, 176960, 177088, 177216, 177344, 177472, 177600, 177728, 177856, 177984, 178112, 178240, 178368, 178496, 178624, 178752, 178880, 179008, 179136, 179264, 179392, 179520, 179648, 179776, 179904, 165024, 180128, 180256, 180384, 180512, 180640, 180768, 180896, 181024, 181152, 181280, 181408, 181536, 181664, 181792, 181920, 182048, 182176, 182304, 182432, 182560, 182688, 182816, 182944, 183072, 183200, 183328, 183456, 183584, 183712, 183840, 183968, 184096, 184224, 184352, 184480, 184608, 184736, 184864, 184992, 185120, 185248, 185376, 185504, 185632, 185760, 185888, 186016, 186144, 186272, 186400, 186528, 186656, 186784, 186912, 187040, 187168, 187296, 187424, 187552, 187680, 187808, 187936, 188064, 188192, 188320, 188448, 188576, 188704, 188832, 188960, 189088, 189216, 189344, 189472, 189600, 189728, 189856, 189984, 190112, 190240, 190368, 190496, 190624, 190752, 190880, 191008, 191136, 191264, 191392, 191520, 191648, 191776, 191904, 192032, 192160, 192288, 192416, 192544, 192672, 192800, 192928, 193056, 193184, 193312, 193440, 193568, 193696, 193824, 193952, 194080, 194208, 194336, 194464, 194592, 194720, 194848, 194976, 195104, 195232, 195360, 195488, 195616, 195744, 195872, 196000, 196128, 196256, 196384, 196512, 196640, 196768, 196896, 197024, 197152, 197280, 197408, 197536, 197664, 197792, 197920, 198048, 198176, 198304, 198432, 198560, 198688, 198816, 198944, 199072, 199200, 199328, 199456, 199584, 199712, 199840, 199968, 200096, 200224, 200352, 200480, 200608, 200736, 200864, 200992, 201120, 201248, 201376, 201504, 201632, 201760, 201888, 202016, 202144, 202272, 202400, 202528, 202656, 202784, 202912, 203040, 203168, 203296, 203424, 203552, 203680, 203808, 203936, 204064, 204192, 204320, 204448, 204576, 204704, 204832, 204960, 205088, 205216, 205344, 205472, 205600, 205728, 205856, 205984, 206112, 206240, 206368, 206496, 206624, 206752, 206880, 207008, 207136, 207264, 207392, 207520, 207648, 207776, 207904, 208032, 208160, 208288, 208416, 208544, 208672, 208800, 208928, 209056, 209184, 209312, 209440, 209568, 209696, 209824, 209952, 210080, 210208, 210336, 210464, 210592, 210720, 210848, 210976, 211104, 211232, 211360, 211488, 211616, 211744, 211872, 212000, 212128, 212256, 212384, 212512, 212640, 212768, 212896, 213024, 213152, 213280, 213408, 213536, 213664, 213792, 213920, 214048, 214176, 214304, 214432, 214560, 214688, 214816, 214944, 215072, 215200, 215328, 215456, 215584, 215712, 215840, 215968, 216096, 216224, 216352, 216480, 216608, 216736, 216864, 216992, 217120, 217248, 217376, 217504, 217632, 217760, 217888, 218016, 218144, 218272, 218400, 218528, 218656, 218784, 218912, 219040, 219168, 219296, 219424, 219552, 219680, 219808, 219936, 220064, 220192, 220320, 220448, 220576, 220704, 220832, 220960, 221088, 221216, 221344, 221472, 221600, 221728, 221856, 221984, 222112, 222240, 222368, 222496, 222624, 222752, 222880, 223008, 223136, 223264, 223392, 223520, 223648, 223776, 223904, 224032, 224160, 224288, 224416, 224544, 224672, 224800, 224928, 225056, 225184, 225312, 225440, 225568, 225696, 225824, 225952, 226080, 226208, 226336, 226464, 226592, 226720, 226848, 226976, 227104, 227232, 227360, 227488, 227616, 227744, 227872, 228000, 228128, 228256, 228384, 228512, 228640, 228768, 228896, 229024, 229152, 229280, 229408, 229536, 229664, 229792, 229920, 230048, 230176, 230304, 230432, 230560, 230688, 230816, 230944, 231072, 231200, 231328, 231456, 231584, 231712, 231840, 231968, 232096, 232224, 232352, 232480, 232608, 232736, 232864, 232992, 233120, 233248, 233376, 233504, 233632, 233760, 233888, 234016, 234144, 234272, 234400, 234528, 234656, 234784, 234912, 235040, 235168, 235296, 235424, 235552, 235680, 235808, 235936, 236064, 236192, 236320, 236448, 236576, 236704, 236832, 236960, 237088, 237216, 237344, 237472, 237600, 237728, 237856, 237984, 238112, 238240, 238368, 238496, 238624, 238752, 238880, 239008, 239136, 239264, 239392, 239520, 239648, 239776, 239904, 225024, 240128, 240256, 240384, 240512, 240640, 240768, 240896, 241024, 241152, 241280, 241408, 241536, 241664, 241792, 241920, 242048, 242176, 242304, 242432, 242560, 242688, 242816, 242944, 243072, 243200, 243328, 243456, 243584, 243712, 243840, 243968, 244096, 244224, 244352, 244480, 244608, 244736, 244864, 244992, 245120, 245248, 245376, 245504, 245632, 245760, 245888, 246016, 246144, 246272, 246400, 246528, 246656, 246784, 246912, 247040, 247168, 247296, 247424, 247552, 247680, 247808, 247936, 248064, 248192, 248320, 248448, 248576, 248704, 248832, 248960, 249088, 249216, 249344, 249472, 249600, 249728, 249856, 249984, 250112, 250240, 250368, 250496, 250624, 250752, 250880, 251008, 251136, 251264, 251392, 251520, 251648, 251776, 251904, 252032, 252160, 252288, 252416, 252544, 252672, 252800, 252928, 253056, 253184, 253312, 253440, 253568, 253696, 253824, 253952, 254080, 254208, 254336, 254464, 254592, 254720, 254848, 254976, 255104, 255232, 255360, 255488, 255616, 255744, 255872, 256000, 256128, 256256, 256384, 256512, 256640, 256768, 256896, 257024, 257152, 257280, 257408, 257536, 257664, 257792, 257920, 258048, 258176, 258304, 258432, 258560, 258688, 258816, 258944, 259072, 259200, 259328, 259456, 259584, 259712, 259840, 259968, 260096, 260224, 260352, 260480, 260608, 260736, 260864, 260992, 261120, 261248, 261376, 261504, 261632, 261760, 261888, 262016, 262144, 262272, 262400, 262528, 262656, 262784, 262912, 263040, 263168, 263296, 263424, 263552, 263680, 263808, 263936, 264064, 264192, 264320, 264448, 264576, 264704, 264832, 264960, 265088, 265216, 265344, 265472, 265600, 265728, 265856, 265984, 266112, 266240, 266368, 266496, 266624, 266752, 266880, 267008, 267136, 267264, 267392, 267520, 267648, 267776, 267904, 268032, 268160, 268288, 268416, 268544, 268672, 268800, 268928, 269056, 269184, 269312, 269440, 269568, 269696, 269824, 269952, 270080, 270208, 270336, 270464, 270592, 270720, 270848, 270976, 271104, 271232, 271360, 271488, 271616, 271744, 271872, 272000, 272128, 272256, 272384, 272512, 272640, 272768, 272896, 273024, 273152, 273280, 273408, 273536, 273664, 273792, 273920, 274048, 274176, 274304, 274432, 274560, 274688, 274816, 274944, 275072, 275200, 275328, 275456, 275584, 275712, 275840, 275968, 276096, 276224, 276352, 276480, 276608, 276736, 276864, 276992, 277120, 277248, 277376, 277504, 277632, 277760, 277888, 278016, 278144, 278272, 278400, 278528, 278656, 278784, 278912, 279040, 279168, 279296, 279424, 279552, 279680, 279808, 279936, 280064, 280192, 280320, 280448, 280576, 280704, 280832, 280960, 281088, 281216, 281344, 281472, 281600, 281728, 281856, 281984, 282112, 282240, 282368, 282496, 282624, 282752, 282880, 283008, 283136, 283264, 283392, 283520, 283648, 283776, 283904, 284032, 284160, 284288, 284416, 284544, 284672, 284800, 284928, 285056, 285184, 285312, 285440, 285568, 285696, 285824, 285952, 286080, 286208, 286336, 286464, 286592, 286720, 286848, 286976, 287104, 287232, 287360, 287488, 287616, 287744, 287872, 288000, 288128, 288256, 288384, 288512, 288640, 288768, 288896, 289024, 289152, 289280, 289408, 289536, 289664, 289792, 289920, 290048, 290176, 290304, 290432, 290560, 290688, 290816, 290944, 291072, 291200, 291328, 291456, 291584, 291712, 291840, 291968, 292096, 292224, 292352, 292480, 292608, 292736, 292864, 292992, 293120, 293248, 293376, 293504, 293632, 293760, 293888, 294016, 294144, 294272, 294400, 294528, 294656, 294784, 294912, 295040, 295168, 295296, 295424, 295552, 295680, 295808, 295936, 296064, 296192, 296320, 296448, 296576, 296704, 296832, 296960, 297088, 297216, 297344, 297472, 297600, 297728, 297856, 297984, 298112, 298240, 298368, 298496, 298624, 298752, 298880, 299008, 299136, 299264, 299392, 299520, 299648, 299776, 299904, 285024, 300128, 300256, 300384, 300512, 300640, 300768, 300896, 301024, 301152, 301280, 301408, 301536, 301664, 301792, 301920, 302048, 302176, 302304, 302432, 302560, 302688, 302816, 302944, 303072, 303200, 303328, 303456, 303584, 303712, 303840, 303968, 304096, 304224, 304352, 304480, 304608, 304736, 304864, 304992, 305120, 305248, 305376, 305504, 305632, 305760, 305888, 306016, 306144, 306272, 306400, 306528, 306656, 306784, 306912, 307040, 307168, 307296, 307424, 307552, 307680, 307808, 307936, 308064, 308192, 308320, 308448, 308576, 308704, 308832, 308960, 309088, 309216, 309344, 309472, 309600, 309728, 309856, 309984, 310112, 310240, 310368, 310496, 310624, 310752, 310880, 311008, 311136, 311264, 311392, 311520, 311648, 311776, 311904, 312032, 312160, 312288, 312416, 312544, 312672, 312800, 312928, 313056, 313184, 313312, 313440, 313568, 313696, 313824, 313952, 314080, 314208, 314336, 314464, 314592, 314720, 314848, 314976, 315104, 315232, 315360, 315488, 315616, 315744, 315872, 316000, 316128, 316256, 316384, 316512, 316640, 316768, 316896, 317024, 317152, 317280, 317408, 317536, 317664, 317792, 317920, 318048, 318176, 318304, 318432, 318560, 318688, 318816, 318944, 319072, 319200, 319328, 319456, 319584, 319712, 319840, 319968, 320096, 320224, 320352, 320480, 320608, 320736, 320864, 320992, 321120, 321248, 321376, 321504, 321632, 321760, 321888, 322016, 322144, 322272, 322400, 322528, 322656, 322784, 322912, 323040, 323168, 323296, 323424, 323552, 323680, 323808, 323936, 324064, 324192, 324320, 324448, 324576, 324704, 324832, 324960, 325088, 325216, 325344, 325472, 325600, 325728, 325856, 325984, 326112, 326240, 326368, 326496, 326624, 326752, 326880, 327008, 327136, 327264, 327392, 327520, 327648, 327776, 327904, 328032, 328160, 328288, 328416, 328544, 328672, 328800, 328928, 329056, 329184, 329312, 329440, 329568, 329696, 329824, 329952, 330080, 330208, 330336, 330464, 330592, 330720, 330848, 330976, 331104, 331232, 331360, 331488, 331616, 331744, 331872, 332000, 332128, 332256, 332384, 332512, 332640, 332768, 332896, 333024, 333152, 333280, 333408, 333536, 333664, 333792, 333920, 334048, 334176, 334304, 334432, 334560, 334688, 334816, 334944, 335072, 335200, 335328, 335456, 335584, 335712, 335840, 335968, 336096, 336224, 336352, 336480, 336608, 336736, 336864, 336992, 337120, 337248, 337376, 337504, 337632, 337760, 337888, 338016, 338144, 338272, 338400, 338528, 338656, 338784, 338912, 339040, 339168, 339296, 339424, 339552, 339680, 339808, 339936, 340064, 340192, 340320, 340448, 340576, 340704, 340832, 340960, 341088, 341216, 341344, 341472, 341600, 341728, 341856, 341984, 342112, 342240, 342368, 342496, 342624, 342752, 342880, 343008, 343136, 343264, 343392, 343520, 343648, 343776, 343904, 344032, 344160, 344288, 344416, 344544, 344672, 344800, 344928, 345056, 345184, 345312, 345440, 345568, 345696, 345824, 345952, 346080, 346208, 346336, 346464, 346592, 346720, 346848, 346976, 347104, 347232, 347360, 347488, 347616, 347744, 347872, 348000, 348128, 348256, 348384, 348512, 348640, 348768, 348896, 349024, 349152, 349280, 349408, 349536, 349664, 349792, 349920, 350048, 350176, 350304, 350432, 350560, 350688, 350816, 350944, 351072, 351200, 351328, 351456, 351584, 351712, 351840, 351968, 352096, 352224, 352352, 352480, 352608, 352736, 352864, 352992, 353120, 353248, 353376, 353504, 353632, 353760, 353888, 354016, 354144, 354272, 354400, 354528, 354656, 354784, 354912, 355040, 355168, 355296, 355424, 355552, 355680, 355808, 355936, 356064, 356192, 356320, 356448, 356576, 356704, 356832, 356960, 357088, 357216, 357344, 357472, 357600, 357728, 357856, 357984, 358112, 358240, 358368, 358496, 358624, 358752, 358880, 359008, 359136, 359264, 359392, 359520, 359648, 359776, 359904, 345024, 360128, 360256, 360384, 360512, 360640, 360768, 360896, 361024, 361152, 361280, 361408, 361536, 361664, 361792, 361920, 362048, 362176, 362304, 362432, 362560, 362688, 362816, 362944, 363072, 363200, 363328, 363456, 363584, 363712, 363840, 363968, 364096, 364224, 364352, 364480, 364608, 364736, 364864, 364992, 365120, 365248, 365376, 365504, 365632, 365760, 365888, 366016, 366144, 366272, 366400, 366528, 366656, 366784, 366912, 367040, 367168, 367296, 367424, 367552, 367680, 367808, 367936, 368064, 368192, 368320, 368448, 368576, 368704, 368832, 368960, 369088, 369216, 369344, 369472, 369600, 369728, 369856, 369984, 370112, 370240, 370368, 370496, 370624, 370752, 370880, 371008, 371136, 371264, 371392, 371520, 371648, 371776, 371904, 372032, 372160, 372288, 372416, 372544, 372672, 372800, 372928, 373056, 373184, 373312, 373440, 373568, 373696, 373824, 373952, 374080, 374208, 374336, 374464, 374592, 374720, 374848, 374976, 375104, 375232, 375360, 375488, 375616, 375744, 375872, 376000, 376128, 376256, 376384, 376512, 376640, 376768, 376896, 377024, 377152, 377280, 377408, 377536, 377664, 377792, 377920, 378048, 378176, 378304, 378432, 378560, 378688, 378816, 378944, 379072, 379200, 379328, 379456, 379584, 379712, 379840, 379968, 380096, 380224, 380352, 380480, 380608, 380736, 380864, 380992, 381120, 381248, 381376, 381504, 381632, 381760, 381888, 382016, 382144], \"y\": [0.7219168543815613, 9.491565704345703, 3.9510490894317627, 3.4251255989074707, 5.312341213226318, 3.8789520263671875, 4.022206783294678, 2.961918830871582, 5.637866973876953, 2.430910110473633, 10.457189559936523, 3.2825589179992676, 3.8289072513580322, 2.393845319747925, 4.8226823806762695, 1.0322145223617554, 12.938251495361328, 5.881739616394043, 0.8254268169403076, 7.420347213745117, 7.042974948883057, 3.1690382957458496, 1.4670718908309937, 3.3642380237579346, 2.173089027404785, 2.5976743698120117, 2.1865234375, 2.217146396636963, 2.5946388244628906, 5.058135509490967, 1.473950743675232, 5.201732158660889, 2.0425453186035156, 3.03542423248291, 1.481204867362976, 4.577411651611328, 1.2909592390060425, 4.155557632446289, 2.3875913619995117, 1.2361085414886475, 5.20261287689209, 0.7901943325996399, 7.51388692855835, 3.916107177734375, 0.78248131275177, 4.4080963134765625, 2.9087181091308594, 0.813732385635376, 4.728500843048096, 1.709399938583374, 2.1826701164245605, 2.4581522941589355, 1.5785186290740967, 2.1467063426971436, 1.8620696067810059, 2.6182093620300293, 1.2184422016143799, 3.2000255584716797, 1.2878553867340088, 2.219149589538574, 1.9149539470672607, 1.6392265558242798, 2.7293853759765625, 1.0206751823425293, 4.541843414306641, 1.2954775094985962, 2.024780035018921, 3.112859010696411, 1.178403615951538, 3.2193565368652344, 1.7609211206436157, 1.889028549194336, 2.999701976776123, 1.481889247894287, 2.717320680618286, 1.210860252380371, 2.046387195587158, 2.7992300987243652, 1.3632636070251465, 1.9184486865997314, 3.486689567565918, 1.1241371631622314, 3.432478904724121, 0.7174519896507263, 4.241046905517578, 0.48842743039131165, 5.407663822174072, 1.2156989574432373, 1.209427833557129, 3.3310019969940186, 0.9246382713317871, 1.6092302799224854, 1.9137084484100342, 1.1569575071334839, 1.62050199508667, 2.000974655151367, 1.0397067070007324, 2.9247899055480957, 0.7934125661849976, 2.6724987030029297, 0.8121283054351807, 2.732191801071167, 0.8653414249420166, 1.8448617458343506, 1.866170883178711, 0.975831925868988, 2.1729609966278076, 1.6913193464279175, 1.1480276584625244, 1.9775968790054321, 1.1823009252548218, 1.4675800800323486, 1.9352397918701172, 0.9070295095443726, 1.8991141319274902, 1.3238987922668457, 1.3850911855697632, 1.4728753566741943, 1.1721477508544922, 2.2499122619628906, 0.9531266093254089, 1.91514253616333, 1.1844595670700073, 1.5986839532852173, 1.3034696578979492, 1.487794280052185, 1.347242832183838, 1.0737088918685913, 2.814864158630371, 0.5246507525444031, 5.088303565979004, 0.7098268270492554, 1.6440668106079102, 2.1267380714416504, 0.6373275518417358, 2.21675968170166, 0.9991496205329895, 1.2492530345916748, 1.0198166370391846, 1.152275562286377, 2.4526093006134033, 1.1268939971923828, 1.92091703414917, 1.6435433626174927, 1.3841443061828613, 1.3964662551879883, 1.0812492370605469, 1.9755617380142212, 0.4374473989009857, 4.186396598815918, 0.9832496047019958, 0.7450915575027466, 2.3293297290802, 0.6657849550247192, 1.64164400100708, 1.0160984992980957, 1.4122991561889648, 1.2221291065216064, 0.8864584565162659, 1.7979025840759277, 0.8628542423248291, 1.280320405960083, 1.4097081422805786, 0.823218822479248, 1.7625927925109863, 0.8301976919174194, 1.6166733503341675, 1.0937471389770508, 1.535699486732483, 1.3701839447021484, 1.2781429290771484, 1.4155983924865723, 0.5169873237609863, 3.7093868255615234, 0.4772789776325226, 2.284968137741089, 1.1485226154327393, 1.0944509506225586, 1.1238045692443848, 1.2570433616638184, 1.2639038562774658, 1.007472038269043, 1.7630534172058105, 1.637969970703125, 1.1120778322219849, 1.9285249710083008, 0.9809796810150146, 1.3580029010772705, 1.791693925857544, 0.41678065061569214, 3.898254871368408, 0.9804532527923584, 1.1096563339233398, 1.402134895324707, 1.0638179779052734, 0.9384669065475464, 2.3474583625793457, 0.6844404935836792, 2.3505001068115234, 0.9031513929367065, 1.7092546224594116, 0.5960458517074585, 2.325627326965332, 0.5155313611030579, 2.9154536724090576, 0.6946234107017517, 1.4527342319488525, 1.088527798652649, 0.9525721669197083, 1.0962212085723877, 1.5623981952667236, 1.0288004875183105, 1.4699366092681885, 1.5710958242416382, 0.7337743043899536, 2.1337873935699463, 0.73577481508255, 1.9120187759399414, 0.6981227993965149, 2.2487075328826904, 0.8131623864173889, 1.3279948234558105, 1.4215850830078125, 0.5912207961082458, 2.510300636291504, 0.8072619438171387, 1.1861209869384766, 1.7432122230529785, 0.6511469483375549, 1.7822765111923218, 1.012176275253296, 1.0001842975616455, 1.5428489446640015, 1.0920735597610474, 1.1620912551879883, 1.3966586589813232, 0.8300184011459351, 1.570681095123291, 0.8360585570335388, 1.7327744960784912, 0.9455429911613464, 1.2065544128417969, 1.5438106060028076, 0.9402608871459961, 1.7402243614196777, 0.8672982454299927, 1.726498007774353, 0.7137777805328369, 1.430875301361084, 1.0839107036590576, 0.9962317943572998, 1.3224689960479736, 1.2897186279296875, 0.9481801986694336, 2.075204372406006, 0.9372047781944275, 1.568969488143921, 1.050707221031189, 1.1596667766571045, 1.0482354164123535, 1.1346862316131592, 1.058444619178772, 1.3697372674942017, 1.137986183166504, 1.2426671981811523, 1.1770269870758057, 1.3968243598937988, 0.8960609436035156, 2.147451877593994, 0.7620425224304199, 2.1633687019348145, 0.7723820805549622, 2.4062933921813965, 0.6694091558456421, 1.9563534259796143, 0.80662602186203, 1.5524173974990845, 1.4196574687957764, 1.1249234676361084, 1.6171680688858032, 1.3505476713180542, 1.053255319595337, 2.084841728210449, 0.5599492788314819, 2.797978162765503, 0.8306012153625488, 1.205628752708435, 1.6113184690475464, 1.0520018339157104, 1.0229759216308594, 1.2999050617218018, 1.2809163331985474, 1.380930781364441, 1.2133647203445435, 1.4221822023391724, 1.1129825115203857, 1.6365199089050293, 0.8024090528488159, 1.6550474166870117, 0.9085208177566528, 1.0949373245239258, 2.9280264377593994, 0.4014438986778259, 3.594959020614624, 1.716606616973877, 0.46622154116630554, 2.5632548332214355, 1.0547677278518677, 0.6682579517364502, 1.7774300575256348, 0.9545199871063232, 1.286789894104004, 0.9553542733192444, 1.275830626487732, 1.2242586612701416, 1.2280597686767578, 1.374650001525879, 1.1748560667037964, 1.5372146368026733, 0.9362091422080994, 1.3513140678405762, 0.8574213981628418, 2.023634672164917, 0.6986629962921143, 2.0995936393737793, 1.1191201210021973, 1.1591076850891113, 1.8024592399597168, 0.956647515296936, 1.5825343132019043, 1.2872226238250732, 1.0332173109054565, 1.858534574508667, 0.8625054359436035, 1.341663122177124, 1.6361517906188965, 0.8790467381477356, 2.0102105140686035, 1.0471028089523315, 1.281933307647705, 1.6667022705078125, 0.9946922063827515, 1.57008957862854, 1.0350240468978882, 1.3843529224395752, 0.9374008178710938, 1.4076132774353027, 1.2880611419677734, 1.3076138496398926, 1.227811574935913, 1.299479603767395, 1.2133581638336182, 1.4355175495147705, 0.837705671787262, 1.7365431785583496, 0.8533186912536621, 1.7896783351898193, 1.0249099731445312, 1.5124876499176025, 1.1297098398208618, 1.5443707704544067, 1.2623546123504639, 1.3022408485412598, 1.316999077796936, 1.1190853118896484, 1.5932985544204712, 1.4173545837402344, 1.2689261436462402, 1.7486592531204224, 0.9888505935668945, 1.9544206857681274, 1.3800230026245117, 1.4811551570892334, 1.14913010597229, 1.8268543481826782, 0.6992131471633911, 2.9295597076416016, 0.49197083711624146, 2.568943500518799, 0.9393779039382935, 1.3464279174804688, 1.1076617240905762, 1.4108877182006836, 1.2343873977661133, 1.2393068075180054, 1.442350149154663, 1.0859968662261963, 1.3475472927093506, 1.311821699142456, 1.3878666162490845, 1.1097428798675537, 1.4035725593566895, 1.5752811431884766, 1.0677661895751953, 1.4042248725891113, 1.8076996803283691, 0.9503365755081177, 1.814801573753357, 1.2043718099594116, 1.3215949535369873, 1.3410886526107788, 1.1714379787445068, 1.5410332679748535, 0.8910409212112427, 2.451934814453125, 0.5048689246177673, 3.5755391120910645, 0.7026870250701904, 1.8439338207244873, 1.336277723312378, 1.3207646608352661, 1.2921911478042603, 1.4366281032562256, 1.2971172332763672, 1.1313233375549316, 1.358103632926941, 1.3559471368789673, 1.1911160945892334, 1.60541832447052, 1.3629283905029297, 1.060539722442627, 2.0368876457214355, 0.8348954319953918, 1.755234718322754, 1.2645950317382812, 1.2348161935806274, 1.4868032932281494, 0.8754870891571045, 2.2262518405914307, 0.8964053392410278, 2.3925023078918457, 1.1499775648117065, 1.9534239768981934, 1.235255241394043, 1.1186926364898682, 1.8178038597106934, 1.035797357559204, 1.5834578275680542, 0.8465338945388794, 2.370772123336792, 0.8319602608680725, 1.8338932991027832, 1.2416584491729736, 1.4866394996643066, 1.309767484664917, 1.531813383102417, 1.0339953899383545, 1.5301411151885986, 1.2062681913375854, 1.190242886543274, 1.4790220260620117, 1.254606008529663, 1.1775987148284912, 1.3282397985458374, 1.221947193145752, 1.7275842428207397, 1.010771632194519, 1.9525377750396729, 1.1557899713516235, 1.535447597503662, 1.6585946083068848, 1.018639326095581, 1.8946048021316528, 0.7866394519805908, 2.0293173789978027, 0.7316937446594238, 2.0120363235473633, 1.3023285865783691, 1.2285046577453613, 1.521732211112976, 1.39351487159729, 1.40157151222229, 1.5378477573394775, 1.3325632810592651, 1.6054248809814453, 1.2122666835784912, 1.955716848373413, 0.7411332726478577, 2.2958550453186035, 0.7808224558830261, 1.8769500255584717, 1.325336217880249, 1.0640013217926025, 1.734510064125061, 1.5963062047958374, 1.0942888259887695, 1.8567540645599365, 1.0562829971313477, 2.0235092639923096, 0.7574151754379272, 2.4715585708618164, 0.6636815071105957, 1.8963046073913574, 0.8476601243019104, 1.5258455276489258, 1.1364028453826904, 1.4224653244018555, 1.6294341087341309, 1.3258451223373413, 1.2953248023986816, 1.561503529548645, 1.094869613647461, 2.100470781326294, 0.8192384243011475, 2.340961456298828, 0.9194740056991577, 1.4135236740112305, 1.2103922367095947, 1.1710177659988403, 1.340430736541748, 0.9749743938446045, 1.5455079078674316, 0.8538644909858704, 2.058541774749756, 1.0139997005462646, 2.106550931930542, 1.5626132488250732, 1.254612684249878, 1.9323824644088745, 1.024657964706421, 1.4499728679656982, 1.2688238620758057, 1.0769413709640503, 1.609159231185913, 1.1304447650909424, 1.1465660333633423, 1.739227056503296, 0.9977971911430359, 1.9978258609771729, 1.1003564596176147, 1.8182374238967896, 1.5969935655593872, 1.4418059587478638, 1.717623233795166, 1.0126445293426514, 2.1733880043029785, 0.8053814172744751, 1.8010493516921997, 1.0434921979904175, 1.0555429458618164, 1.2929867506027222, 0.9826787114143372, 1.4833627939224243, 1.4204752445220947, 1.3855984210968018, 1.0969258546829224, 2.187436819076538, 0.8860652446746826, 2.444408893585205, 0.7522303462028503, 2.1664035320281982, 0.9414734840393066, 1.687566876411438, 0.984844982624054, 1.3168730735778809, 1.289232850074768, 1.2199680805206299, 1.6930699348449707, 0.8339532017707825, 2.0917296409606934, 1.026567816734314, 1.4654600620269775, 1.1152094602584839, 1.6372172832489014, 1.1872727870941162, 1.0815231800079346, 1.8084511756896973, 0.7819373607635498, 1.8734374046325684, 0.7516783475875854, 1.6590192317962646, 1.357568383216858, 1.2269010543823242, 1.1031489372253418, 2.0827860832214355, 1.030121088027954, 1.5952728986740112, 1.408937692642212, 1.223164439201355, 1.4404408931732178, 1.3435410261154175, 1.1150062084197998, 1.4979071617126465, 1.0394830703735352, 1.4092392921447754, 1.3086873292922974, 1.424356460571289, 1.530335545539856, 1.2847682237625122, 1.6020774841308594, 1.509648084640503, 1.1414077281951904, 1.2910842895507812, 1.48569917678833, 0.661352813243866, 2.4420080184936523, 0.6907626390457153, 1.7824677228927612, 1.064268946647644, 2.0596566200256348, 0.9901037216186523, 1.7771155834197998, 1.1925805807113647, 1.2949362993240356, 1.4212669134140015, 1.014394998550415, 1.6431410312652588, 0.8377175331115723, 1.8549175262451172, 0.842207133769989, 1.7945570945739746, 1.377182960510254, 1.220931053161621, 1.392162799835205, 1.364886999130249, 1.2137033939361572, 1.2034834623336792, 1.4535562992095947, 1.0106244087219238, 1.2853764295578003, 1.4353986978530884, 0.9554072618484497, 1.8877935409545898, 0.7720298767089844, 2.007737636566162, 0.7711212038993835, 1.6671817302703857, 1.3865128755569458, 1.1651673316955566, 1.697270393371582, 1.055946946144104, 1.527429223060608, 1.1914806365966797, 0.9475606083869934, 1.6991546154022217, 0.8118593692779541, 1.6611881256103516, 0.9494573473930359, 1.637577772140503, 1.4500725269317627, 1.080936312675476, 1.827687382698059, 1.2996256351470947, 1.1565654277801514, 1.238675594329834, 1.8252971172332764, 0.8552677631378174, 1.438618540763855, 1.084340214729309, 1.613406777381897, 0.7105669379234314, 1.7692286968231201, 0.9006190299987793, 1.276989221572876, 1.39982008934021, 1.2090187072753906, 0.9823241233825684, 1.7305887937545776, 1.0227785110473633, 1.4401494264602661, 1.047919511795044, 1.3855319023132324, 0.8971680402755737, 1.2204351425170898, 0.8467730283737183, 1.6825270652770996, 0.8173130750656128, 1.6449947357177734, 1.1592297554016113, 1.5008336305618286, 1.2940447330474854, 1.109810471534729, 1.718867301940918, 0.7039921283721924, 2.4408693313598633, 0.6257843971252441, 1.8899784088134766, 1.1288278102874756, 0.9630268812179565, 1.6589823961257935, 0.8934363126754761, 1.372225046157837, 1.311933994293213, 1.1168487071990967, 1.1817491054534912, 1.4141674041748047, 0.9985866546630859, 1.3475199937820435, 1.0049922466278076, 1.2203372716903687, 1.0253139734268188, 1.7547123432159424, 0.80686354637146, 1.4127973318099976, 0.9945027828216553, 1.4215002059936523, 1.007967233657837, 1.526641607284546, 0.7237163782119751, 2.2362051010131836, 0.8626149892807007, 1.375890851020813, 1.207588791847229, 1.0862996578216553, 1.385920763015747, 0.936906635761261, 1.2440122365951538, 1.4477596282958984, 0.6749613285064697, 2.456282138824463, 0.657089352607727, 1.8281102180480957, 1.1453361511230469, 1.0465006828308105, 1.3747739791870117, 1.0922011137008667, 0.8304691314697266, 1.8165385723114014, 0.6459875106811523, 1.5888218879699707, 1.0107693672180176, 1.2708725929260254, 1.0230398178100586, 1.5605080127716064, 1.0230464935302734, 1.181970477104187, 1.1473052501678467, 1.0409326553344727, 1.3731660842895508, 0.8397342562675476, 1.421278476715088, 0.8204379081726074, 1.4326304197311401, 0.7740672826766968, 1.4846899509429932, 1.0278290510177612, 1.0237833261489868, 1.3193879127502441, 1.064066767692566, 1.2271230220794678, 0.8861461877822876, 1.3511178493499756, 0.8670554161071777, 1.233389973640442, 0.8907564878463745, 1.3298641443252563, 0.7988274097442627, 1.642794132232666, 0.8728141784667969, 1.3452284336090088, 1.1522011756896973, 1.1289403438568115, 1.1611051559448242, 1.0107656717300415, 1.0782641172409058, 1.2408169507980347, 0.9402047991752625, 1.1254758834838867, 1.0246329307556152, 1.1044416427612305, 1.1737699508666992, 0.8769917488098145, 1.3679803609848022, 0.9531508684158325, 1.283156394958496, 1.0749567747116089, 1.2638286352157593, 1.0352673530578613, 0.8736692070960999, 1.3913483619689941, 0.7000068426132202, 1.7845168113708496, 0.6773401498794556, 1.9537010192871094, 0.7643636465072632, 1.3981022834777832, 0.8638200759887695, 1.3424503803253174, 0.8502923250198364, 1.2443652153015137, 0.9536469578742981, 1.4044032096862793, 0.9814793467521667, 1.0604137182235718, 1.1936087608337402, 0.8645401000976562, 1.3659086227416992, 0.9063977003097534, 1.1165298223495483, 1.083638072013855, 0.9758001565933228, 1.0459314584732056, 1.1186416149139404, 1.0168583393096924, 1.1551740169525146, 1.0096673965454102, 1.2491374015808105, 0.9952747821807861, 1.156454086303711, 0.9503157138824463, 1.1065802574157715, 0.9047755599021912, 1.318040370941162, 0.81193608045578, 1.432557463645935, 0.728121817111969, 1.4280734062194824, 0.6993340253829956, 1.9410929679870605, 0.46872732043266296, 2.243032455444336, 0.7884462475776672, 0.755500316619873, 1.3826608657836914, 1.0063728094100952, 0.9862314462661743, 0.8981963396072388, 1.1860722303390503, 0.9116983413696289, 0.9822476506233215, 0.7411495447158813, 1.2916394472122192, 0.7507078051567078, 1.0311169624328613, 1.1937823295593262, 0.6413320302963257, 1.5073801279067993, 0.6838204860687256, 1.6048989295959473, 0.6512685418128967, 1.3844332695007324, 0.8298918008804321, 1.1045753955841064, 1.0609228610992432, 0.9464010000228882, 0.9381722211837769, 1.1414403915405273, 0.7493411898612976, 1.6112605333328247, 0.6736722588539124, 1.3032675981521606, 1.1077649593353271, 0.8685821294784546, 1.3459603786468506, 0.7008057832717896, 1.4073545932769775, 0.7547457218170166, 1.0583455562591553, 0.9384750127792358, 1.0630437135696411, 0.970186173915863, 0.9634220600128174, 0.8965084552764893, 1.1805390119552612, 0.8494951725006104, 1.2071512937545776, 0.7162728309631348, 1.2397024631500244, 0.792710542678833, 1.1125925779342651, 0.9831633567810059, 0.8241791129112244, 1.3952903747558594, 0.45198729634284973, 2.471163749694824, 0.5958511233329773, 1.0588090419769287, 0.9339427947998047, 0.9614050388336182, 0.8156214952468872, 1.0566439628601074, 0.8837544918060303, 1.039711594581604, 0.8884876370429993, 1.166588306427002, 0.8913710117340088, 1.0595483779907227, 0.7917729616165161, 1.1823170185089111, 0.8365985155105591, 0.9838913679122925, 1.0020664930343628, 0.8286977410316467, 1.1645554304122925, 0.7928141355514526, 1.2372641563415527, 0.6790211200714111, 1.3898025751113892, 0.642153263092041, 1.4502283334732056, 0.5611755847930908, 1.3985586166381836, 0.8243298530578613, 0.760895848274231, 1.0474789142608643, 0.7940409779548645, 1.220005989074707, 0.9143114686012268, 0.9293460249900818, 1.1265430450439453, 0.8425193428993225, 1.1890652179718018, 0.6687030792236328, 1.3509747982025146, 0.825261116027832, 1.052366018295288, 0.7160948514938354, 1.6936626434326172, 0.5661159753799438, 1.585710048675537, 0.7084596753120422, 1.2615803480148315, 0.9110640287399292, 1.1287176609039307, 0.847028911113739, 1.102348804473877, 0.6865918040275574, 1.602140188217163, 0.5917640924453735, 1.0302202701568604, 1.0428105592727661, 0.9050021171569824, 0.8411403894424438, 1.0897560119628906, 0.8701879978179932, 1.020383358001709, 0.6862115859985352, 1.3926948308944702, 0.7050734758377075, 1.0887271165847778, 1.383834719657898, 0.595525860786438, 1.5138064622879028, 0.7250632047653198, 0.9873558282852173, 0.8121331930160522, 1.1265308856964111, 0.6210429072380066, 1.7488527297973633, 0.5915815234184265, 1.3186049461364746, 0.8556768894195557, 0.8477265238761902, 1.3238846063613892, 0.47907042503356934, 1.5539096593856812, 0.8149031400680542, 0.9355995655059814, 1.032945156097412, 0.7527875900268555, 1.5266916751861572, 0.5439487099647522, 1.0752153396606445, 1.059033751487732, 0.7189893126487732, 1.153348445892334, 0.7775375843048096, 0.9913107752799988, 0.829975426197052, 0.897676408290863, 1.1828577518463135, 0.6851544976234436, 1.4584319591522217, 0.6505948305130005, 1.189701795578003, 0.7973231077194214, 0.9513150453567505, 0.9361875653266907, 0.9343628883361816, 0.956077516078949, 1.0038177967071533, 0.7698564529418945, 1.0662994384765625, 0.883827805519104, 1.1588679552078247, 0.7178366184234619, 1.3783231973648071, 0.6664428114891052, 1.3018438816070557, 0.654107928276062, 1.488969087600708, 0.5484715700149536, 1.4678822755813599, 0.7087656259536743, 1.102285623550415, 0.7395285367965698, 1.1142951250076294, 0.7975822687149048, 0.9845155477523804, 0.9619694948196411, 0.9739965200424194, 0.9504263401031494, 1.2128229141235352, 0.7927308082580566, 1.4325213432312012, 0.5350958108901978, 1.6258937120437622, 0.6085019111633301, 1.220872163772583, 0.9732495546340942, 0.8516151905059814, 0.9923638701438904, 1.005860447883606, 0.7854589223861694, 1.1237658262252808, 0.874895453453064, 0.9452815055847168, 0.9218689799308777, 1.036307454109192, 0.6374592781066895, 1.6961302757263184, 0.5057049989700317, 1.5418418645858765, 0.6954424381256104, 0.8867720365524292, 1.1660857200622559, 0.7506914138793945, 1.1866732835769653, 0.8566069602966309, 0.7086192965507507, 1.0417957305908203, 0.8488816022872925, 0.9417176842689514, 0.9667989611625671, 0.7995614409446716, 1.115538239479065, 0.7139483690261841, 1.3325210809707642, 0.6802505254745483, 1.3072693347930908, 0.6635230779647827, 1.1223886013031006, 0.9572011232376099, 0.7247974276542664, 1.2406339645385742, 0.7334280014038086, 1.1710968017578125, 0.6855318546295166, 1.3561229705810547, 0.6976498961448669, 1.382908821105957, 0.6076371073722839, 1.5970193147659302, 0.629804253578186, 1.1933122873306274, 0.9152683019638062, 0.7595847845077515, 1.1146893501281738, 0.8561735153198242, 0.9474490284919739, 1.041884183883667, 0.6862601041793823, 1.6168302297592163, 0.4784741699695587, 1.8429802656173706, 0.5830575227737427, 1.1439826488494873, 0.8342876434326172, 1.1820862293243408, 0.5840682983398438, 1.269343614578247, 0.8098392486572266, 0.7761311531066895, 1.2043393850326538, 0.548018753528595, 1.3644707202911377, 0.7735458612442017, 0.9750769734382629, 0.9595788717269897, 0.97845858335495, 0.8597460985183716, 0.9767658710479736, 0.9580718278884888, 0.8160429000854492, 1.0297259092330933, 0.8274859189987183, 1.133832335472107, 0.63679438829422, 1.7103017568588257, 0.572536826133728, 1.3332834243774414, 0.9676849842071533, 0.645807147026062, 1.601811408996582, 0.7229251861572266, 1.1791906356811523, 0.854224443435669, 0.8942654132843018, 1.150914192199707, 0.710304856300354, 1.2477025985717773, 0.7462019920349121, 0.9947987198829651, 0.7496527433395386, 1.2751591205596924, 0.6941086053848267, 1.418748140335083, 0.7962353825569153, 1.1444423198699951, 0.6986186504364014, 1.0661293268203735, 0.7658560872077942, 0.8858848214149475, 1.0627681016921997, 0.9528446197509766, 0.8549911379814148, 1.0007349252700806, 0.8547543287277222, 0.8461938500404358, 0.9103899002075195, 1.0648422241210938, 0.8508442640304565, 1.123131513595581, 0.8403208255767822, 1.0734736919403076, 0.7757844924926758, 1.0260581970214844, 0.7712809443473816, 1.1487723588943481, 0.6259527802467346, 1.6572755575180054, 0.5615979433059692, 1.7118126153945923, 0.6545582413673401, 1.4050520658493042, 0.688158392906189, 1.1940135955810547, 0.7076311111450195, 1.0119857788085938, 0.8312195539474487, 1.0205293893814087, 1.0504621267318726, 0.8766762018203735, 0.9765872955322266, 0.9786591529846191, 0.7317690253257751, 1.5250526666641235, 0.47042930126190186, 1.7183477878570557, 0.7018001675605774, 1.0451817512512207, 1.1975219249725342, 0.5452114939689636, 1.745102047920227, 0.5346018671989441, 1.4327019453048706, 0.7563180923461914, 0.8707181811332703, 1.2917587757110596, 0.6764557957649231, 1.1299608945846558, 0.9988913536071777, 0.8880788087844849, 1.1161093711853027, 0.8796454668045044, 1.0183634757995605, 0.7576415538787842, 1.149553894996643, 0.7878285050392151, 1.2028990983963013, 0.63363116979599, 1.3547285795211792, 0.6167235970497131, 1.337002158164978, 0.823927640914917, 0.9639738202095032, 1.127478003501892, 0.6952390670776367, 1.5110929012298584, 0.767370879650116, 1.4388586282730103, 0.6728923320770264, 1.2177914381027222, 0.6218615770339966, 1.5076173543930054, 0.5741387605667114, 1.3007621765136719, 0.7976535558700562, 0.8020681142807007, 1.4092273712158203, 0.4761943221092224, 1.7088329792022705, 0.6157840490341187, 1.724839687347412, 0.6121729016304016, 1.5600030422210693, 0.7362196445465088, 0.785772442817688, 1.144774317741394, 0.7032427191734314, 1.0703389644622803, 0.8110861778259277, 0.9636392593383789, 1.0389361381530762, 0.7892626523971558, 0.9687855243682861, 1.1581971645355225, 0.5311707854270935, 2.0307302474975586, 0.6450772881507874, 1.0995298624038696, 0.8749351501464844, 0.9586526155471802, 0.7673596143722534, 1.1844452619552612, 0.5224680304527283, 1.5467878580093384, 0.6794418096542358, 1.161576271057129, 0.724010169506073, 0.988021731376648, 0.9270180463790894, 0.9150918126106262, 0.9714928269386292, 1.008206844329834, 1.0464081764221191, 0.8010738492012024, 1.1616863012313843, 0.6975695490837097, 1.2952709197998047, 0.7053658366203308, 1.2718772888183594, 0.6582849025726318, 1.4128252267837524, 0.5232290029525757, 1.7016832828521729, 0.6270835399627686, 1.2686882019042969, 0.8760178089141846, 0.8905265927314758, 1.2269974946975708, 0.6697260141372681, 1.5082883834838867, 0.49476003646850586, 1.5433268547058105, 0.8105535507202148, 0.8253288865089417, 1.0200661420822144, 0.8756110072135925, 1.0611062049865723, 0.8531895875930786, 0.9932166934013367, 1.3990416526794434, 0.4433518648147583, 2.6369738578796387, 0.6206189393997192, 0.7727974653244019, 1.3158798217773438, 0.8804977536201477, 0.8498290181159973, 0.9951965808868408, 0.8900399208068848, 0.9051885604858398, 0.7908989191055298, 1.2689845561981201, 0.7421000003814697, 1.105637788772583, 1.0287895202636719, 0.8831737041473389, 1.02858304977417, 0.7686066627502441, 0.942619264125824, 0.9986542463302612, 1.0605688095092773, 0.8318811655044556, 1.140702724456787, 0.8648085594177246, 1.0302096605300903, 0.655830442905426, 2.0062694549560547, 0.42319798469543457, 1.7595030069351196, 0.6943782567977905, 0.8901865482330322, 1.1558253765106201, 0.6541707515716553, 1.273662805557251, 0.7720171809196472, 0.9646993279457092, 1.120283603668213, 0.7883234620094299, 0.9955123662948608, 1.0394220352172852, 0.6816514134407043, 1.2040066719055176, 0.6468108892440796, 1.5303781032562256, 0.5455851554870605, 1.4768342971801758, 0.866170346736908, 0.9166066646575928, 0.9591092467308044, 1.0261578559875488, 0.9224963188171387, 0.8737609386444092, 0.904568076133728, 0.9440308809280396, 0.8876317739486694, 0.9165440201759338, 1.1605870723724365, 0.7051094770431519, 1.5854899883270264, 0.524715781211853, 2.145811080932617, 0.5323629975318909, 1.2776598930358887, 0.825203537940979, 0.9542852640151978, 0.8129214644432068, 1.022635817527771, 0.7838006019592285, 1.029693841934204, 0.9668915867805481, 0.816990077495575, 1.0474953651428223, 0.7843271493911743, 1.1665974855422974, 0.7657808661460876, 1.264107584953308, 0.7483850717544556, 1.34209144115448, 0.6029605269432068, 1.6839001178741455, 0.45586419105529785, 1.834916353225708, 0.4944579303264618, 1.4443269968032837, 0.7379255294799805, 0.9019128680229187, 1.2860653400421143, 0.5600299835205078, 1.46953547000885, 0.7472054362297058, 0.9818960428237915, 0.9312341809272766, 0.990509033203125, 0.9387036561965942, 0.7239931225776672, 1.423221230506897, 0.4816550016403198, 1.7983698844909668, 0.6730241179466248, 1.0404324531555176, 1.227063536643982, 0.6491120457649231, 1.4404453039169312, 0.7121514081954956, 0.9139549136161804, 1.2251989841461182, 0.6082322597503662, 1.277058720588684, 0.7818971872329712, 0.9577752947807312, 0.9271703362464905, 1.1719603538513184, 0.6296872496604919, 1.993538498878479, 0.5024609565734863, 1.457780122756958, 0.6732305288314819, 1.2765944004058838, 0.6783064603805542, 0.9871667623519897, 0.8887994289398193, 0.8808987140655518, 0.8468973636627197, 1.0813549757003784, 0.7712492942810059, 1.206211805343628, 0.6375637054443359, 1.4355275630950928, 0.6822118163108826, 1.0945205688476562, 0.7932285666465759, 0.9688119888305664, 0.8375867605209351, 1.2022204399108887, 0.5938338041305542, 1.9201782941818237, 0.4818291664123535, 1.667039394378662, 0.7591817378997803, 0.8031513094902039, 1.434546709060669, 0.7073720097541809, 1.121809482574463, 0.8613504767417908, 0.9694912433624268, 1.0386673212051392, 0.9003199338912964, 0.936779260635376, 1.077920913696289, 0.7284507751464844, 1.560533881187439, 0.4957069754600525, 1.6276483535766602, 0.8118208646774292, 0.9271091818809509, 1.1503584384918213, 0.7305481433868408, 1.2751410007476807, 0.5597056746482849, 1.562031626701355, 0.6707693934440613, 0.9893708229064941, 0.9787650108337402, 0.7752596735954285, 1.1666736602783203, 0.8840760588645935, 0.9443433284759521, 0.9911426305770874, 0.870185136795044, 1.2572550773620605, 0.67853844165802, 1.917468786239624, 0.552739143371582, 1.5148321390151978, 0.718596875667572, 1.2152955532073975, 0.6063721776008606, 1.4195247888565063, 0.7292400002479553, 1.148776650428772, 0.9326602220535278, 1.1504418849945068, 0.7933290600776672, 1.1863181591033936, 0.8072523474693298, 1.0572130680084229, 0.8128857612609863, 1.358070731163025, 0.5303060412406921, 1.8891162872314453, 0.5844084024429321, 1.2483265399932861, 0.9730995893478394, 0.7516506314277649, 1.3945353031158447, 0.5778579711914062, 1.5209770202636719, 0.6727698445320129, 1.0715523958206177, 0.8129156827926636, 1.1931073665618896, 0.5774590969085693, 2.009951591491699, 0.5424326658248901, 1.6541407108306885, 0.5531426668167114, 1.1848700046539307, 0.9143215417861938, 0.752518892288208, 1.3295865058898926, 0.5040063858032227, 1.717225193977356, 0.5521615743637085, 1.2537848949432373, 0.8693379759788513, 0.8453594446182251, 0.9760929942131042, 0.8868128061294556, 0.9835155010223389, 0.8780649900436401, 0.9971651434898376, 0.9334294199943542, 0.8427112102508545, 1.2389827966690063, 0.7841970920562744, 1.3288220167160034, 0.7605593204498291, 1.0932903289794922, 0.9129016995429993, 1.0553066730499268, 0.949262261390686, 1.093013882637024, 0.7887794971466064, 1.6298909187316895, 0.6929183602333069, 1.9491550922393799, 0.5190944671630859, 2.8883113861083984, 0.4783579707145691, 1.896474838256836, 0.5518771409988403, 1.838655710220337, 0.6544772386550903, 1.1007843017578125, 0.8304294347763062, 1.0168538093566895, 0.7433752417564392, 1.3022440671920776, 0.8539972305297852, 1.3312692642211914, 0.7960197925567627, 1.316592812538147, 0.7470638155937195, 1.463088035583496, 0.4837160110473633, 2.337380886077881, 0.5356225967407227, 1.1289880275726318, 0.8555225133895874, 0.7650570869445801, 1.2154877185821533, 0.6559492349624634, 1.1738908290863037, 0.8924217820167542, 1.0354307889938354, 0.9604406356811523, 0.9234659671783447, 0.9154434204101562, 0.9655343294143677, 1.0226144790649414, 0.9288820624351501, 1.1356792449951172, 0.908176839351654, 1.1419459581375122, 0.6702926158905029, 2.412470817565918, 0.4096579849720001, 2.028109312057495, 0.6914749145507812, 1.0524609088897705, 0.9403424263000488, 1.07697331905365, 0.8089935183525085, 1.1208958625793457, 0.7720944285392761, 1.0165550708770752, 0.9330337047576904, 0.9875534772872925, 0.8775066137313843, 1.1893974542617798, 0.7798246145248413, 1.1604557037353516, 1.140326738357544, 0.6947288513183594, 2.4881234169006348, 0.37548285722732544, 2.9453861713409424, 0.6598538160324097, 0.7882431745529175, 1.2564153671264648, 0.6766528487205505, 1.0191378593444824, 0.8845746517181396, 0.7340284585952759, 0.9890233278274536, 0.9476085901260376, 0.937908411026001, 0.9840438365936279, 0.7953057289123535, 1.0930161476135254, 0.9960845708847046, 0.8236004114151001, 1.1825847625732422, 0.8184384107589722, 1.3313885927200317, 0.5438618659973145, 1.9233282804489136, 0.6261565089225769, 1.0272548198699951, 1.1340429782867432, 0.7998934984207153, 1.211925745010376, 0.8304877877235413, 0.9209690093994141, 1.0284781455993652, 1.0082603693008423, 1.0507893562316895, 0.8411521911621094, 1.8573484420776367, 0.3961793780326843, 2.714057207107544, 0.6237877607345581, 0.8143816590309143, 1.0928382873535156, 0.8164764642715454, 0.8445783853530884, 1.104942798614502, 0.7670068740844727, 1.2769991159439087, 0.6562427878379822, 1.321760654449463, 0.967483639717102, 0.9452828168869019, 1.0020246505737305, 1.0320839881896973, 0.8411197662353516, 1.241206169128418, 0.6656879186630249, 2.0878658294677734, 0.401335209608078, 1.9745497703552246, 0.7514851093292236, 0.8623638153076172, 1.2086265087127686, 0.7469335198402405, 1.2646048069000244, 0.6742472052574158, 1.360024094581604, 0.7114593386650085, 1.084157943725586, 1.0728240013122559, 0.6507506370544434, 1.9030182361602783, 0.480147123336792, 1.879709243774414, 0.6538393497467041, 1.3543102741241455, 0.7717382907867432, 1.148186445236206, 0.8196943998336792, 1.1959857940673828, 0.7867351770401001, 1.2533619403839111, 0.7459996938705444, 1.377616286277771, 0.7292239665985107, 1.2607767581939697, 0.7444804310798645, 1.5658490657806396, 0.5296660661697388, 1.9250938892364502, 0.49417832493782043, 1.8127309083938599, 0.7352243661880493, 1.2649774551391602, 0.8185190558433533, 1.2245559692382812, 1.0057696104049683, 0.7613515853881836, 1.4305987358093262, 0.7344998717308044, 1.5389505624771118, 0.6813817620277405, 1.8012113571166992, 0.6374144554138184, 1.5419673919677734, 0.8499195575714111, 1.303285837173462, 0.9235846996307373, 1.122771978378296, 0.7381399869918823, 1.7887213230133057, 0.6040366291999817, 2.166090488433838, 0.5710926055908203, 1.8916596174240112, 0.818362832069397, 1.159659504890442, 0.9479947686195374, 1.0678496360778809, 1.1460702419281006, 1.0372025966644287, 1.1871521472930908, 0.9090617895126343, 1.234757900238037, 1.0453829765319824, 0.8848999738693237, 2.1569511890411377, 0.37649381160736084, 3.7115089893341064, 0.8305277824401855, 0.6466333866119385, 1.4014464616775513, 0.7531871795654297, 0.9249954223632812, 0.911779522895813, 1.0926580429077148, 0.6641687154769897, 1.266315221786499, 0.7209352254867554, 1.1991350650787354, 0.7342394590377808, 1.1517030000686646, 1.0252429246902466, 0.7553650140762329, 1.4931520223617554, 0.7228091359138489, 1.578331708908081, 0.5646045207977295, 2.243743896484375, 0.5608603954315186, 1.5729355812072754, 0.6942967176437378, 1.3654390573501587, 0.9106017351150513, 0.9144130349159241, 1.2112990617752075, 0.7143592238426208, 1.4359930753707886, 0.7334069013595581, 1.5061222314834595, 0.8483242392539978, 1.033682942390442, 1.121633768081665, 0.8737448453903198, 1.402750015258789, 0.8582702279090881, 1.4753997325897217, 1.1045434474945068, 0.8331878185272217, 1.6827349662780762, 0.4588651657104492, 2.852904796600342, 0.6642942428588867, 1.322495460510254, 0.9279342889785767, 0.9301337003707886, 1.0571789741516113, 1.1768667697906494, 0.9687907695770264, 1.311152696609497, 0.8059481382369995, 1.3946490287780762, 0.7150881290435791, 1.712605595588684, 0.6476914882659912, 1.5176867246627808, 0.7031512260437012, 1.4830139875411987, 0.8267338275909424, 1.712419033050537, 0.7908822298049927, 1.9686833620071411, 0.6507059335708618, 1.9219305515289307, 0.7219738364219666, 2.347397804260254, 0.6825770735740662, 2.3555052280426025, 0.9752224087715149, 1.882526159286499, 0.8763761520385742, 1.552897334098816, 0.7678667306900024, 1.8713264465332031, 0.6665986180305481, 2.327291965484619, 0.6450707912445068, 1.8944456577301025, 0.5222474336624146, 2.218554735183716, 0.8218621015548706, 1.1117863655090332, 1.4073066711425781, 0.8350726366043091, 1.2091360092163086, 1.3395483493804932, 0.8447158336639404, 2.0321431159973145, 0.4835905432701111, 2.5234594345092773, 0.7637799978256226, 1.1889570951461792, 1.1356709003448486, 0.9562211632728577, 1.404616355895996, 0.7898902893066406, 1.450919270515442, 0.7169389128684998, 1.5532314777374268, 0.6889358162879944, 2.226062774658203, 0.5844653248786926, 2.0135579109191895, 0.59543776512146, 1.7831275463104248, 0.773185133934021, 1.32715904712677, 1.0647590160369873, 1.1616237163543701, 0.9787646532058716, 1.3846148252487183, 0.7973207831382751, 1.6471508741378784, 0.5743399262428284, 2.116466999053955, 0.6686584949493408, 1.8829214572906494, 0.7311850786209106, 1.7663841247558594, 0.7281231880187988, 1.914095401763916, 0.7288808822631836, 1.6588127613067627, 1.016963243484497, 1.1818300485610962, 1.2260229587554932, 1.0099762678146362, 1.2513368129730225, 1.4407124519348145, 0.9589219689369202, 1.7423343658447266, 0.6818696856498718, 2.7808690071105957, 0.6896917819976807, 1.8578219413757324, 0.5196455717086792, 2.540043354034424, 0.6268365383148193, 1.685715913772583, 0.8162710666656494, 1.1150978803634644, 1.4302241802215576, 0.6601648330688477, 2.0535035133361816, 0.5799715518951416, 1.630239486694336, 1.064413070678711, 0.9375895261764526, 1.3136634826660156, 1.065001130104065, 1.203223705291748, 1.4903910160064697, 0.792216420173645, 2.108520030975342, 0.45816534757614136, 2.478961944580078, 0.9881002902984619, 1.3879507780075073, 0.7976248264312744, 2.5071165561676025, 0.4286420941352844, 2.8836638927459717, 1.2099473476409912, 0.7497391104698181, 1.9899981021881104, 0.7220585346221924, 1.3247569799423218, 1.4302759170532227, 1.008248209953308, 1.4051899909973145, 1.1136616468429565, 1.1768909692764282, 1.2366530895233154, 1.1205613613128662, 1.1033928394317627, 1.422241449356079, 0.8164501190185547, 1.7993955612182617, 0.5713354349136353, 2.8308284282684326, 0.734632670879364, 1.6101452112197876, 0.6965417861938477, 2.1666078567504883, 0.6350942850112915, 2.1279914379119873, 0.6970080733299255, 1.7613708972930908, 0.8284130692481995, 1.5530362129211426, 0.9219729900360107, 1.3930282592773438, 1.082058310508728, 1.1605890989303589, 1.3869785070419312, 0.9531520009040833, 1.2905192375183105, 0.9503178596496582, 1.7691259384155273, 0.7804804444313049, 2.6521778106689453, 0.5424116253852844, 2.307582139968872, 0.675010085105896, 1.7130053043365479, 1.3070968389511108, 1.1867761611938477, 1.0065605640411377, 1.7383021116256714, 0.6100432872772217, 2.6251943111419678, 0.706334114074707, 1.9517266750335693, 0.9986109733581543, 1.1924399137496948, 1.4340821504592896, 0.7308716773986816, 2.17922043800354, 0.7468060255050659, 2.2028446197509766, 1.0474748611450195, 1.530516505241394, 1.5201969146728516, 0.7031064033508301, 2.779937744140625, 0.6490981578826904, 2.3534741401672363, 0.5526888370513916, 1.866553783416748, 0.9236057996749878, 1.0426912307739258, 1.1922314167022705, 1.1320321559906006, 1.1423836946487427, 1.1143617630004883, 0.9458724856376648, 2.075688600540161, 0.40208879113197327, 2.8860363960266113, 0.9266831874847412, 1.0482600927352905, 1.4867364168167114, 0.7170583009719849, 1.4877123832702637, 0.6976971626281738, 1.7705864906311035, 0.6925422549247742, 1.66050124168396, 0.9526159763336182, 1.0363255739212036, 1.5984649658203125, 1.0191760063171387, 1.4087133407592773, 1.4533660411834717, 0.7819465398788452, 1.721757411956787, 0.7010754942893982, 2.146444320678711, 1.388625979423523, 0.8635263442993164, 2.059662342071533, 0.7863327264785767, 1.7395612001419067, 1.2612946033477783, 0.9657579064369202, 1.8697869777679443, 0.7633359432220459, 2.215503692626953, 0.8082544207572937, 1.9618098735809326, 0.7580434083938599, 2.2901716232299805, 0.9675132036209106, 1.7778490781784058, 1.2639200687408447, 1.1484066247940063, 1.480405330657959, 1.1058473587036133, 1.999739646911621, 0.9304832816123962, 2.2544565200805664, 1.043621301651001, 1.7987669706344604, 0.9141853451728821, 2.0958287715911865, 0.6663201451301575, 3.3900229930877686, 0.698414146900177, 2.3746023178100586, 0.5257373452186584, 3.346593141555786, 0.8811548352241516, 1.251621961593628, 1.372225046157837, 0.9160506129264832, 1.3943209648132324, 1.0031092166900635, 1.2352044582366943, 1.2693228721618652, 1.1169002056121826, 1.2834798097610474, 1.3285605907440186, 1.04762864112854, 1.4317703247070312, 0.8637174367904663, 2.280087471008301, 0.6461991667747498, 2.6001503467559814, 1.1490222215652466, 1.0861408710479736, 2.0436668395996094, 0.5147634744644165, 2.6677873134613037, 1.089464545249939, 0.9066019654273987, 1.7669403553009033, 0.8850187063217163, 1.34071946144104, 1.615161657333374, 0.7888539433479309, 1.7376316785812378, 0.8497880101203918, 1.5971529483795166, 1.112968921661377, 1.4378788471221924, 1.6444998979568481, 1.6863837242126465, 0.9724968075752258, 1.883347511291504, 0.8077511787414551, 1.9877804517745972, 0.7935463190078735, 2.310647487640381, 0.826554000377655, 2.738558292388916, 0.5052796602249146, 2.8035099506378174, 0.8731495141983032, 1.1958544254302979, 1.3955011367797852, 1.2399518489837646, 1.580081582069397, 1.37742280960083, 1.090321660041809, 1.628659963607788, 0.6921956539154053, 2.980391025543213, 0.5082524418830872, 3.131923198699951, 1.131000280380249, 1.0192066431045532, 1.9292216300964355, 0.48465412855148315, 2.870063066482544, 1.436441421508789, 0.7379920482635498, 1.555066466331482, 1.4557266235351562, 0.9740909337997437, 2.210162878036499, 0.9203512072563171, 1.918654203414917, 0.8159102201461792, 1.4374897480010986, 1.1903681755065918, 1.1753697395324707, 1.684431791305542, 1.1066360473632812, 1.7781362533569336, 0.9636938571929932, 2.0819993019104004, 0.8396750688552856, 1.2166674137115479, 1.4974555969238281, 1.1721429824829102, 1.9035887718200684, 1.541003704071045, 1.4233667850494385, 1.4562454223632812, 1.3755435943603516, 1.5451979637145996, 1.71221923828125, 1.2926723957061768, 1.9163877964019775, 0.8203679919242859, 2.9981894493103027, 0.6053106188774109, 4.4500837326049805, 0.5256526470184326, 2.1429355144500732, 1.0054500102996826, 0.7618940472602844, 1.3463079929351807, 0.8492543697357178, 2.0126161575317383, 1.3839387893676758, 1.1552419662475586, 0.9969891309738159, 1.7857226133346558, 0.9767957925796509, 1.7360084056854248, 1.3698995113372803, 0.9291492700576782, 2.051068067550659, 0.560004711151123, 2.1867403984069824, 1.2393367290496826, 0.9020239114761353, 2.026729106903076, 0.9537777900695801, 2.0273845195770264, 1.1640548706054688, 1.4069145917892456, 1.2595751285552979, 1.1551258563995361, 1.606752872467041, 0.6361961364746094, 3.4423298835754395, 0.6671581268310547, 2.6371123790740967, 0.9404278993606567, 1.1764335632324219, 1.6222409009933472, 0.7466252446174622, 1.5386052131652832, 0.8958754539489746, 1.8940593004226685, 1.0036799907684326, 1.598097324371338, 1.3023948669433594, 1.281313419342041, 1.05247163772583, 1.6062049865722656, 0.9262874126434326, 2.166403293609619, 1.0723659992218018, 1.8346360921859741, 1.3851354122161865, 1.636901617050171, 1.1893045902252197, 1.7160999774932861, 1.0235790014266968, 2.4447784423828125, 0.7872891426086426, 2.2616963386535645, 0.5676909685134888, 3.299654006958008, 0.6545619964599609, 2.098604679107666, 0.9707366228103638, 1.2337754964828491, 1.8038480281829834, 0.7727217674255371, 1.592310905456543, 1.447493314743042, 1.199114441871643, 1.721120834350586, 0.9404084086418152, 2.0203003883361816, 0.7177764177322388, 2.368818521499634, 0.6592153310775757, 2.652623176574707, 1.3080272674560547, 1.1415736675262451, 2.0521321296691895, 0.855843186378479, 1.7498699426651, 1.1161187887191772, 1.3650232553482056, 1.4848895072937012, 1.711348056793213, 1.2162377834320068, 2.21260929107666, 1.0100387334823608, 2.148409605026245, 1.2323155403137207, 1.8849999904632568, 1.6628506183624268, 1.7933759689331055, 1.510615587234497, 1.8643132448196411, 1.213131070137024, 2.698538303375244, 0.5132750868797302, 4.087246894836426, 0.7020139694213867, 1.863947868347168, 0.9520798921585083, 1.372357964515686, 1.3689396381378174, 1.5412451028823853, 1.4023572206497192, 1.7294925451278687, 1.1171566247940063, 1.4654675722122192, 0.9223453402519226, 2.2764906883239746, 0.5365350246429443, 3.2133395671844482, 1.2517646551132202, 0.954269289970398, 2.54917573928833, 0.4936802089214325, 4.378268241882324, 1.365609049797058, 0.715245246887207, 2.3117926120758057, 0.5387186408042908, 2.2110838890075684, 1.4346716403961182, 1.037886381149292, 2.3191580772399902, 1.1180789470672607, 1.126358985900879, 1.3873579502105713, 0.8675069212913513, 2.1997218132019043, 0.7245545387268066, 2.1410090923309326, 1.1706264019012451, 1.3192682266235352, 1.5095837116241455, 1.2350490093231201, 1.2768645286560059, 1.327329397201538, 1.1710838079452515, 1.6146278381347656, 1.7071136236190796, 1.1898024082183838, 2.0429601669311523, 0.862769365310669, 2.0471558570861816, 0.7956777811050415, 1.8151483535766602, 0.9435741305351257, 1.910287857055664, 0.9837406277656555, 1.5662147998809814, 1.3625680208206177, 1.533092975616455, 1.2350349426269531, 2.026325225830078, 0.9541481733322144, 2.2299294471740723, 1.1423100233078003, 2.1139163970947266, 1.391859769821167, 1.7222033739089966, 0.998448371887207, 2.836773633956909, 0.8534774780273438, 2.4944334030151367, 0.5659915208816528, 3.7605485916137695, 1.0702214241027832, 1.5632277727127075, 1.1184972524642944, 2.1772897243499756, 0.6206978559494019, 3.061929941177368, 1.7065331935882568, 0.7682219743728638, 2.819709062576294, 0.9118705987930298, 1.2144761085510254, 1.5537102222442627, 0.7875120639801025, 2.6598281860351562, 0.5374520421028137, 3.158041477203369, 1.706678867340088, 0.8490987420082092, 1.634620189666748, 1.188499927520752, 1.065201759338379, 1.4258263111114502, 1.5655895471572876, 1.3593499660491943, 1.974839687347412, 1.5311903953552246, 1.0220975875854492, 2.656653881072998, 0.5337766408920288, 4.024051189422607, 1.279289722442627, 0.7405768632888794, 2.7917983531951904, 0.7049076557159424, 1.648991346359253, 1.7297327518463135, 0.8822339773178101, 1.5530855655670166, 0.9847905039787292, 1.3474169969558716, 1.107619047164917, 1.5474984645843506, 1.450540542602539, 1.2774806022644043, 1.7288782596588135, 0.9191902279853821, 1.8431776762008667, 0.9698489904403687, 1.777858018875122, 0.8048819303512573, 2.8108646869659424, 1.1942684650421143, 1.4845776557922363, 1.6122188568115234, 1.3869552612304688, 1.5726332664489746, 1.6001019477844238, 1.1127632856369019, 2.7116572856903076, 0.5176492929458618, 4.111149311065674, 0.8416353464126587, 1.7170946598052979, 1.230686902999878, 1.137022614479065, 1.520116925239563, 0.9887910485267639, 1.6619154214859009, 1.094130277633667, 1.7025065422058105, 0.863814115524292, 2.1901142597198486, 1.1708545684814453, 1.2602094411849976, 1.488469123840332, 1.2465871572494507, 1.116816759109497, 1.9246124029159546, 0.7152544260025024, 3.9287350177764893, 0.5211506485939026, 2.923640727996826, 1.8749239444732666, 0.7529459595680237, 2.105954647064209, 1.2718877792358398, 1.0174421072006226, 1.6784555912017822, 1.0134226083755493, 1.315301775932312, 1.6261537075042725, 1.1943557262420654, 1.4046790599822998, 1.8041776418685913, 0.9419035911560059, 1.90812349319458, 0.936191737651825, 1.8292207717895508, 0.9585855007171631, 2.341785430908203, 1.0321025848388672, 1.8931543827056885, 1.4705253839492798, 1.3485403060913086, 1.5145103931427002, 1.231236219406128, 1.2527657747268677, 1.3382086753845215, 2.3838067054748535, 2.4151389598846436, 0.7437953948974609, 4.768985748291016, 1.688701868057251, 0.6502559781074524, 3.46280837059021, 0.7257747650146484, 2.038585662841797, 0.9051161408424377, 1.106945276260376, 1.1724975109100342, 1.1560384035110474, 1.8318777084350586, 1.0676801204681396, 1.5448046922683716, 1.1788666248321533, 1.7790939807891846, 0.847929835319519, 2.791813373565674, 0.6826076507568359, 2.9378628730773926, 1.126389980316162, 0.8778045773506165, 2.474048376083374, 0.5294667482376099, 2.9382901191711426, 1.0224878787994385, 1.1358344554901123, 2.5007355213165283, 0.6076345443725586, 2.683574914932251, 1.1375764608383179, 0.9125975370407104, 1.7869987487792969, 1.0841374397277832, 1.562730073928833, 1.447540521621704, 1.8228422403335571, 1.0273041725158691, 2.1617064476013184, 0.980616569519043, 1.6169147491455078, 1.2323604822158813, 1.4010013341903687, 1.3294587135314941, 1.468059778213501, 1.3693305253982544, 1.931339979171753, 0.915595293045044, 2.729527711868286, 0.8384459614753723, 2.4408726692199707, 0.9105350971221924, 1.6820892095565796, 1.4953261613845825, 0.991788387298584, 2.246471643447876, 0.7124466300010681, 2.5702414512634277, 1.0369608402252197, 2.1180992126464844, 1.506324052810669, 1.5251165628433228, 1.4204856157302856, 1.5785958766937256, 0.8812382817268372, 2.672274112701416, 1.1253198385238647, 1.8821840286254883, 1.9444758892059326, 1.1392344236373901, 1.446659803390503, 1.642261028289795, 1.3483716249465942, 2.8068056106567383, 1.0211830139160156, 2.001373767852783, 1.5185726881027222, 1.2677940130233765, 2.424232244491577, 0.9407591819763184, 2.4699909687042236, 0.8241043090820312, 3.1395621299743652, 0.9563351273536682, 2.204044818878174, 1.3938496112823486, 1.5965522527694702, 1.3170626163482666, 2.1280007362365723, 2.1523523330688477, 1.2652696371078491, 1.5274546146392822, 1.9639016389846802, 0.862636148929596, 3.054837465286255, 1.3556487560272217, 1.1675639152526855, 2.7309584617614746, 0.8822711706161499, 2.09503173828125, 1.153311014175415, 1.177302360534668, 2.4712088108062744, 0.6480978727340698, 3.0254745483398438, 1.40596604347229, 0.7869049310684204, 3.462552070617676, 0.9683759212493896, 1.2899430990219116, 1.6524536609649658, 0.6573476791381836, 2.7943248748779297, 0.6891316175460815, 2.0171847343444824, 0.9430721402168274, 1.7749741077423096, 0.6966331601142883, 3.205205202102661, 1.6247334480285645, 0.7792762517929077, 2.7177977561950684, 0.9196145534515381, 0.9573424458503723, 2.0378289222717285, 0.732102632522583, 2.314920425415039, 1.2175493240356445, 1.219200849533081, 1.732680320739746, 1.034217357635498, 2.280205488204956, 1.3038995265960693, 1.5547544956207275, 1.1306027173995972, 1.289335012435913, 2.040348529815674, 0.8598581552505493, 3.1954803466796875, 1.8259572982788086, 1.1256463527679443, 2.112804651260376, 0.9066945910453796, 1.800298810005188, 0.6950217485427856, 3.410783290863037, 0.8535679578781128, 1.8386763334274292, 1.5205254554748535, 0.9854265451431274, 1.1691663265228271, 1.489470362663269, 1.0604932308197021, 2.5470471382141113, 0.6483451724052429, 3.262507438659668, 1.3017165660858154, 0.678825855255127, 3.076369285583496, 0.8735314607620239, 0.9036952257156372, 2.409609794616699, 0.5632186532020569, 2.494483709335327, 1.730521321296692, 1.2014716863632202, 1.0996121168136597, 1.8315613269805908, 0.6761850118637085, 2.036865234375, 2.074286460876465, 0.595943033695221, 2.393092155456543, 1.0151478052139282, 1.2002702951431274, 1.385641098022461, 1.4098314046859741, 1.2861251831054688, 1.7491919994354248, 1.2961158752441406, 1.4260270595550537, 1.9333288669586182, 0.8926939368247986, 1.9723074436187744, 0.8787530064582825, 1.9374562501907349, 1.7088044881820679, 1.2411023378372192, 1.6844027042388916, 1.6528812646865845, 1.389109492301941, 1.496955394744873, 1.7509390115737915, 1.1237380504608154, 3.1234524250030518, 0.6056607961654663, 3.9131641387939453, 1.4463953971862793, 0.7011839151382446, 3.0059289932250977, 0.9477894306182861, 1.0014028549194336, 2.1788201332092285, 0.779228925704956, 1.9731168746948242, 1.6284847259521484, 1.0682411193847656, 1.6609790325164795, 1.2201261520385742, 1.323390007019043, 2.0667686462402344, 0.9922086000442505, 2.341778516769409, 0.7317368984222412, 2.658318042755127, 0.8610146641731262, 1.8319052457809448, 1.080255150794983, 2.1654868125915527, 1.2693488597869873, 1.4938647747039795, 1.4600036144256592, 1.1824842691421509, 2.2624893188476562, 0.9451439380645752, 2.0296525955200195, 1.9119969606399536, 1.4720659255981445, 1.8299027681350708, 1.8496052026748657, 1.3868786096572876, 1.3786603212356567, 2.1383533477783203, 1.5960201025009155, 1.9338679313659668, 1.8606116771697998, 1.0873591899871826, 3.1570305824279785, 0.46289753913879395, 5.1075239181518555, 1.3969240188598633, 0.572802722454071, 2.9973394870758057, 0.7363553047180176, 1.3877793550491333, 1.2993905544281006, 1.3372468948364258, 1.2648773193359375, 1.1654126644134521, 1.2357392311096191, 1.663055181503296, 1.0898700952529907, 1.2819467782974243, 1.2497777938842773, 1.4905035495758057, 0.9499212503433228, 2.245640754699707, 0.9306305646896362, 1.9164847135543823, 1.3119035959243774, 1.6636860370635986, 1.5329902172088623, 1.3838586807250977, 1.0612897872924805, 2.308396816253662, 0.4740833044052124, 4.3239970207214355, 1.8368477821350098, 0.7311208248138428, 2.2774925231933594, 1.2914130687713623, 1.1718287467956543, 1.901834487915039, 0.947279691696167, 1.9603118896484375, 0.6654205918312073, 2.2063205242156982, 0.9412095546722412, 1.6471240520477295, 1.5164015293121338, 1.3885838985443115, 1.2374286651611328, 1.4891058206558228, 1.0818229913711548, 1.7798707485198975, 0.7842553853988647, 2.9035263061523438, 0.8411791324615479, 2.299143075942993, 0.8065961599349976, 2.478025197982788, 0.6845390796661377, 1.9890823364257812, 1.1763405799865723, 1.2631551027297974, 1.6610896587371826, 1.2035623788833618, 1.5377498865127563, 1.4479386806488037, 1.6417638063430786, 1.3988487720489502, 1.4977757930755615, 1.7026251554489136, 1.0751750469207764, 1.9219290018081665, 1.0968737602233887, 1.7387282848358154, 1.9885814189910889, 1.2511193752288818, 2.1702170372009277, 1.3996458053588867, 1.8163079023361206, 1.3575620651245117, 2.1078944206237793, 1.5490798950195312, 1.5717146396636963, 2.222842216491699, 1.1288206577301025, 2.426088333129883, 1.0558009147644043, 2.237903594970703, 1.3613345623016357, 1.8809423446655273, 2.2006688117980957, 2.1828975677490234, 1.35829496383667, 2.211895227432251, 1.6467164754867554, 1.0480965375900269, 3.1484081745147705, 1.1010721921920776, 1.7815659046173096, 1.6346848011016846, 1.0266215801239014, 2.8205246925354004, 0.48923683166503906, 3.6852760314941406, 0.7587827444076538, 1.7193735837936401, 1.6077404022216797, 0.7028332948684692, 2.375308036804199, 1.127631425857544, 1.2123970985412598, 1.4732472896575928, 1.4739375114440918, 1.5560083389282227, 0.8453955054283142, 2.3330328464508057, 1.0195956230163574, 1.497809648513794, 1.6372528076171875, 1.2888613939285278, 0.8808163404464722, 2.7772324085235596, 0.8560205698013306, 2.0388717651367188, 1.0041455030441284, 2.306774139404297, 0.4832371771335602, 3.232544422149658, 0.9571424722671509, 1.323136806488037, 2.020561456680298, 1.0434616804122925, 1.5837488174438477, 1.576136827468872, 0.609827995300293, 3.3317203521728516, 0.8197785019874573, 1.59084153175354, 1.9090664386749268, 0.7423462867736816, 2.661998987197876, 0.8590813875198364, 2.1059067249298096, 0.9029403328895569, 1.667266607284546, 1.0584311485290527, 1.516887903213501, 0.6913846731185913, 3.255436897277832, 0.8610955476760864, 2.0453312397003174, 1.2914140224456787, 1.4200786352157593, 1.7925233840942383, 1.138907551765442, 1.8620140552520752, 0.9367890954017639, 2.3297929763793945, 1.379075288772583, 1.1442711353302002, 1.9474234580993652, 0.5683412551879883, 3.8094632625579834, 0.9126417636871338, 1.7857692241668701, 1.726542592048645, 1.0204787254333496, 1.8920128345489502, 1.0398372411727905, 1.4857239723205566, 1.3661246299743652, 1.2949703931808472, 1.6258496046066284, 1.466854453086853, 1.633514404296875, 0.9254516363143921, 2.7106833457946777, 0.6832901239395142, 2.6075751781463623, 1.1894762516021729, 1.3384170532226562, 2.0985748767852783, 1.1510101556777954, 1.4596035480499268, 1.9596731662750244, 0.8533520698547363, 2.951084852218628, 0.5074248909950256, 3.193977117538452, 1.1729648113250732, 1.4173920154571533, 2.270350456237793, 0.6848437786102295, 2.3628392219543457, 0.9290396571159363, 1.4162352085113525, 1.883485198020935, 0.7129980325698853, 2.487208127975464, 0.8929535150527954, 1.3992540836334229, 1.3653440475463867, 1.2490909099578857, 1.6750409603118896, 1.6341087818145752, 1.7504572868347168, 1.0851202011108398, 1.855912446975708, 0.916499674320221, 2.2003836631774902, 1.0219385623931885, 1.919112205505371, 1.4287612438201904, 1.766963005065918, 1.6791595220565796, 1.5298912525177002, 1.7842873334884644, 1.2601178884506226, 2.0047876834869385, 1.4564740657806396, 1.9421298503875732, 2.5355515480041504, 1.8800386190414429, 1.5647380352020264, 1.5067501068115234, 2.370854377746582, 1.04391348361969, 2.111833095550537, 2.256695032119751, 1.4852242469787598, 1.9937816858291626, 1.448454737663269, 1.4144210815429688, 2.389688014984131, 0.6455783843994141, 3.60959792137146, 0.8268783092498779, 2.252044200897217, 1.1341173648834229, 1.213881015777588, 1.7461843490600586, 1.0459730625152588, 3.89371919631958, 1.1224616765975952, 1.5678423643112183, 1.7937343120574951, 0.6262955665588379, 2.7809784412384033, 0.7452576160430908, 2.49267840385437, 1.4105215072631836, 1.349485158920288, 2.0052099227905273, 1.0567545890808105, 1.5883902311325073, 1.3234717845916748, 1.3741800785064697, 1.576343297958374, 1.962433099746704, 1.0099502801895142, 2.8453218936920166, 0.7190285921096802, 2.5916686058044434, 0.9040471911430359, 1.7974272966384888, 1.2957221269607544, 1.4500248432159424, 1.8773257732391357, 1.224008560180664, 1.7834298610687256, 1.4689406156539917, 1.7846002578735352, 2.041534662246704, 0.992514967918396, 2.708388566970825, 1.176920771598816, 1.7372527122497559, 1.7701443433761597, 1.0896716117858887, 2.413728713989258, 0.7982958555221558, 2.419140338897705, 0.857794463634491, 2.694002628326416, 0.8846181631088257, 2.246626138687134, 1.7843735218048096, 1.1641910076141357, 1.8818148374557495, 1.053041696548462, 1.9344053268432617, 1.8411177396774292, 0.8746204376220703, 2.882683753967285, 1.2517839670181274, 0.9475570917129517, 3.0019826889038086, 0.5571627616882324, 2.502455949783325, 1.1839501857757568, 1.8680986166000366, 1.0412774085998535, 1.3161970376968384, 2.464151382446289, 0.5209825038909912, 3.106527328491211, 1.2110191583633423, 1.3425049781799316, 2.2647690773010254, 0.9271267652511597, 2.4220399856567383, 0.7227836847305298, 2.1299190521240234, 1.3915176391601562, 1.1380608081817627, 1.7811800241470337, 1.7805404663085938, 1.5271265506744385, 1.8048131465911865, 1.5555946826934814, 1.3393162488937378, 1.9021506309509277, 1.3779693841934204, 1.4619998931884766, 1.9851495027542114, 1.00571608543396, 3.218613624572754, 0.9845730066299438, 1.2660149335861206, 2.4497880935668945, 0.4744935631752014, 4.626089096069336, 1.6179108619689941, 1.040822982788086, 2.1730785369873047, 0.4210450351238251, 2.314077615737915, 1.2957875728607178, 1.4697365760803223, 0.9717785120010376, 0.9791147112846375, 2.75191068649292, 0.8935614824295044, 1.625058650970459, 1.9501380920410156, 0.8687078952789307, 1.569200873374939, 1.610642433166504, 0.6366684436798096, 2.589991807937622, 1.3724122047424316, 0.9338780045509338, 2.331204652786255, 0.8591378927230835, 1.7443032264709473, 1.8265666961669922, 1.1446411609649658, 1.411924123764038, 1.4287112951278687, 1.2038064002990723, 1.6613092422485352, 1.2342939376831055, 2.1267879009246826, 1.6031575202941895, 1.7690900564193726, 1.999021291732788, 0.9109659194946289, 2.301706314086914, 1.4317924976348877, 1.093796968460083, 2.6031229496002197, 1.1544201374053955, 1.7008681297302246, 1.946795105934143, 1.2275186777114868, 1.9305261373519897, 1.052778959274292, 2.1361851692199707, 1.2963840961456299, 1.8327200412750244, 1.588121771812439, 1.8422428369522095, 0.9799847602844238, 3.40712833404541, 0.6833513975143433, 3.3972647190093994, 0.7963205575942993, 1.3945633172988892, 1.9609800577163696, 0.5924742221832275, 2.7428715229034424, 1.1265608072280884, 1.3553223609924316, 2.1292474269866943, 1.1856870651245117, 1.926917552947998, 0.8464637994766235, 2.065141201019287, 1.39260733127594, 1.3143608570098877, 1.8499810695648193, 1.5423545837402344, 1.3666388988494873, 2.109318256378174, 0.8383002281188965, 3.0867960453033447, 0.6710381507873535, 2.1507816314697266, 1.1329691410064697, 1.248746633529663, 1.7684779167175293, 0.7868954539299011, 2.7354345321655273, 1.4147839546203613, 1.3345379829406738, 2.145260810852051, 1.1279921531677246, 1.5039067268371582, 1.4642696380615234, 0.9743974208831787, 3.183349132537842, 0.6386702060699463, 3.054513931274414, 1.4036004543304443, 1.2970035076141357]}],\n",
              "                        {\"height\": 500, \"template\": {\"data\": {\"bar\": [{\"error_x\": {\"color\": \"#2a3f5f\"}, \"error_y\": {\"color\": \"#2a3f5f\"}, \"marker\": {\"line\": {\"color\": \"#E5ECF6\", \"width\": 0.5}}, \"type\": \"bar\"}], \"barpolar\": [{\"marker\": {\"line\": {\"color\": \"#E5ECF6\", \"width\": 0.5}}, \"type\": \"barpolar\"}], \"carpet\": [{\"aaxis\": {\"endlinecolor\": \"#2a3f5f\", \"gridcolor\": \"white\", \"linecolor\": \"white\", \"minorgridcolor\": \"white\", \"startlinecolor\": \"#2a3f5f\"}, \"baxis\": {\"endlinecolor\": \"#2a3f5f\", \"gridcolor\": \"white\", \"linecolor\": \"white\", \"minorgridcolor\": \"white\", \"startlinecolor\": \"#2a3f5f\"}, \"type\": \"carpet\"}], \"choropleth\": [{\"colorbar\": {\"outlinewidth\": 0, \"ticks\": \"\"}, \"type\": \"choropleth\"}], \"contour\": [{\"colorbar\": {\"outlinewidth\": 0, \"ticks\": \"\"}, \"colorscale\": [[0.0, \"#0d0887\"], [0.1111111111111111, \"#46039f\"], [0.2222222222222222, \"#7201a8\"], [0.3333333333333333, \"#9c179e\"], [0.4444444444444444, \"#bd3786\"], [0.5555555555555556, \"#d8576b\"], [0.6666666666666666, \"#ed7953\"], [0.7777777777777778, \"#fb9f3a\"], [0.8888888888888888, \"#fdca26\"], [1.0, \"#f0f921\"]], \"type\": \"contour\"}], \"contourcarpet\": [{\"colorbar\": {\"outlinewidth\": 0, \"ticks\": \"\"}, \"type\": \"contourcarpet\"}], \"heatmap\": [{\"colorbar\": {\"outlinewidth\": 0, \"ticks\": \"\"}, \"colorscale\": [[0.0, \"#0d0887\"], [0.1111111111111111, \"#46039f\"], [0.2222222222222222, \"#7201a8\"], [0.3333333333333333, \"#9c179e\"], [0.4444444444444444, \"#bd3786\"], [0.5555555555555556, \"#d8576b\"], [0.6666666666666666, \"#ed7953\"], [0.7777777777777778, \"#fb9f3a\"], [0.8888888888888888, \"#fdca26\"], [1.0, \"#f0f921\"]], \"type\": \"heatmap\"}], \"heatmapgl\": [{\"colorbar\": {\"outlinewidth\": 0, \"ticks\": \"\"}, \"colorscale\": [[0.0, \"#0d0887\"], [0.1111111111111111, \"#46039f\"], [0.2222222222222222, \"#7201a8\"], [0.3333333333333333, \"#9c179e\"], [0.4444444444444444, \"#bd3786\"], [0.5555555555555556, \"#d8576b\"], [0.6666666666666666, \"#ed7953\"], [0.7777777777777778, \"#fb9f3a\"], [0.8888888888888888, \"#fdca26\"], [1.0, \"#f0f921\"]], \"type\": \"heatmapgl\"}], \"histogram\": [{\"marker\": {\"colorbar\": {\"outlinewidth\": 0, \"ticks\": \"\"}}, \"type\": \"histogram\"}], \"histogram2d\": [{\"colorbar\": {\"outlinewidth\": 0, \"ticks\": \"\"}, \"colorscale\": [[0.0, \"#0d0887\"], [0.1111111111111111, \"#46039f\"], [0.2222222222222222, \"#7201a8\"], [0.3333333333333333, \"#9c179e\"], [0.4444444444444444, \"#bd3786\"], [0.5555555555555556, \"#d8576b\"], [0.6666666666666666, \"#ed7953\"], [0.7777777777777778, \"#fb9f3a\"], [0.8888888888888888, \"#fdca26\"], [1.0, \"#f0f921\"]], \"type\": \"histogram2d\"}], \"histogram2dcontour\": [{\"colorbar\": {\"outlinewidth\": 0, \"ticks\": \"\"}, \"colorscale\": [[0.0, \"#0d0887\"], [0.1111111111111111, \"#46039f\"], [0.2222222222222222, \"#7201a8\"], [0.3333333333333333, \"#9c179e\"], [0.4444444444444444, \"#bd3786\"], [0.5555555555555556, \"#d8576b\"], [0.6666666666666666, \"#ed7953\"], [0.7777777777777778, \"#fb9f3a\"], [0.8888888888888888, \"#fdca26\"], [1.0, \"#f0f921\"]], \"type\": \"histogram2dcontour\"}], \"mesh3d\": [{\"colorbar\": {\"outlinewidth\": 0, \"ticks\": \"\"}, \"type\": \"mesh3d\"}], \"parcoords\": [{\"line\": {\"colorbar\": {\"outlinewidth\": 0, \"ticks\": \"\"}}, \"type\": \"parcoords\"}], \"pie\": [{\"automargin\": true, \"type\": \"pie\"}], \"scatter\": [{\"marker\": {\"colorbar\": {\"outlinewidth\": 0, \"ticks\": \"\"}}, \"type\": \"scatter\"}], \"scatter3d\": [{\"line\": {\"colorbar\": {\"outlinewidth\": 0, \"ticks\": \"\"}}, \"marker\": {\"colorbar\": {\"outlinewidth\": 0, \"ticks\": \"\"}}, \"type\": \"scatter3d\"}], \"scattercarpet\": [{\"marker\": {\"colorbar\": {\"outlinewidth\": 0, \"ticks\": \"\"}}, \"type\": \"scattercarpet\"}], \"scattergeo\": [{\"marker\": {\"colorbar\": {\"outlinewidth\": 0, \"ticks\": \"\"}}, \"type\": \"scattergeo\"}], \"scattergl\": [{\"marker\": {\"colorbar\": {\"outlinewidth\": 0, \"ticks\": \"\"}}, \"type\": \"scattergl\"}], \"scattermapbox\": [{\"marker\": {\"colorbar\": {\"outlinewidth\": 0, \"ticks\": \"\"}}, \"type\": \"scattermapbox\"}], \"scatterpolar\": [{\"marker\": {\"colorbar\": {\"outlinewidth\": 0, \"ticks\": \"\"}}, \"type\": \"scatterpolar\"}], \"scatterpolargl\": [{\"marker\": {\"colorbar\": {\"outlinewidth\": 0, \"ticks\": \"\"}}, \"type\": \"scatterpolargl\"}], \"scatterternary\": [{\"marker\": {\"colorbar\": {\"outlinewidth\": 0, \"ticks\": \"\"}}, \"type\": \"scatterternary\"}], \"surface\": [{\"colorbar\": {\"outlinewidth\": 0, \"ticks\": \"\"}, \"colorscale\": [[0.0, \"#0d0887\"], [0.1111111111111111, \"#46039f\"], [0.2222222222222222, \"#7201a8\"], [0.3333333333333333, \"#9c179e\"], [0.4444444444444444, \"#bd3786\"], [0.5555555555555556, \"#d8576b\"], [0.6666666666666666, \"#ed7953\"], [0.7777777777777778, \"#fb9f3a\"], [0.8888888888888888, \"#fdca26\"], [1.0, \"#f0f921\"]], \"type\": \"surface\"}], \"table\": [{\"cells\": {\"fill\": {\"color\": \"#EBF0F8\"}, \"line\": {\"color\": \"white\"}}, \"header\": {\"fill\": {\"color\": \"#C8D4E3\"}, \"line\": {\"color\": \"white\"}}, \"type\": \"table\"}]}, \"layout\": {\"annotationdefaults\": {\"arrowcolor\": \"#2a3f5f\", \"arrowhead\": 0, \"arrowwidth\": 1}, \"coloraxis\": {\"colorbar\": {\"outlinewidth\": 0, \"ticks\": \"\"}}, \"colorscale\": {\"diverging\": [[0, \"#8e0152\"], [0.1, \"#c51b7d\"], [0.2, \"#de77ae\"], [0.3, \"#f1b6da\"], [0.4, \"#fde0ef\"], [0.5, \"#f7f7f7\"], [0.6, \"#e6f5d0\"], [0.7, \"#b8e186\"], [0.8, \"#7fbc41\"], [0.9, \"#4d9221\"], [1, \"#276419\"]], \"sequential\": [[0.0, \"#0d0887\"], [0.1111111111111111, \"#46039f\"], [0.2222222222222222, \"#7201a8\"], [0.3333333333333333, \"#9c179e\"], [0.4444444444444444, \"#bd3786\"], [0.5555555555555556, \"#d8576b\"], [0.6666666666666666, \"#ed7953\"], [0.7777777777777778, \"#fb9f3a\"], [0.8888888888888888, \"#fdca26\"], [1.0, \"#f0f921\"]], \"sequentialminus\": [[0.0, \"#0d0887\"], [0.1111111111111111, \"#46039f\"], [0.2222222222222222, \"#7201a8\"], [0.3333333333333333, \"#9c179e\"], [0.4444444444444444, \"#bd3786\"], [0.5555555555555556, \"#d8576b\"], [0.6666666666666666, \"#ed7953\"], [0.7777777777777778, \"#fb9f3a\"], [0.8888888888888888, \"#fdca26\"], [1.0, \"#f0f921\"]]}, \"colorway\": [\"#636efa\", \"#EF553B\", \"#00cc96\", \"#ab63fa\", \"#FFA15A\", \"#19d3f3\", \"#FF6692\", \"#B6E880\", \"#FF97FF\", \"#FECB52\"], \"font\": {\"color\": \"#2a3f5f\"}, \"geo\": {\"bgcolor\": \"white\", \"lakecolor\": \"white\", \"landcolor\": \"#E5ECF6\", \"showlakes\": true, \"showland\": true, \"subunitcolor\": \"white\"}, \"hoverlabel\": {\"align\": \"left\"}, \"hovermode\": \"closest\", \"mapbox\": {\"style\": \"light\"}, \"paper_bgcolor\": \"white\", \"plot_bgcolor\": \"#E5ECF6\", \"polar\": {\"angularaxis\": {\"gridcolor\": \"white\", \"linecolor\": \"white\", \"ticks\": \"\"}, \"bgcolor\": \"#E5ECF6\", \"radialaxis\": {\"gridcolor\": \"white\", \"linecolor\": \"white\", \"ticks\": \"\"}}, \"scene\": {\"xaxis\": {\"backgroundcolor\": \"#E5ECF6\", \"gridcolor\": \"white\", \"gridwidth\": 2, \"linecolor\": \"white\", \"showbackground\": true, \"ticks\": \"\", \"zerolinecolor\": \"white\"}, \"yaxis\": {\"backgroundcolor\": \"#E5ECF6\", \"gridcolor\": \"white\", \"gridwidth\": 2, \"linecolor\": \"white\", \"showbackground\": true, \"ticks\": \"\", \"zerolinecolor\": \"white\"}, \"zaxis\": {\"backgroundcolor\": \"#E5ECF6\", \"gridcolor\": \"white\", \"gridwidth\": 2, \"linecolor\": \"white\", \"showbackground\": true, \"ticks\": \"\", \"zerolinecolor\": \"white\"}}, \"shapedefaults\": {\"line\": {\"color\": \"#2a3f5f\"}}, \"ternary\": {\"aaxis\": {\"gridcolor\": \"white\", \"linecolor\": \"white\", \"ticks\": \"\"}, \"baxis\": {\"gridcolor\": \"white\", \"linecolor\": \"white\", \"ticks\": \"\"}, \"bgcolor\": \"#E5ECF6\", \"caxis\": {\"gridcolor\": \"white\", \"linecolor\": \"white\", \"ticks\": \"\"}}, \"title\": {\"x\": 0.05}, \"xaxis\": {\"automargin\": true, \"gridcolor\": \"white\", \"linecolor\": \"white\", \"ticks\": \"\", \"title\": {\"standoff\": 15}, \"zerolinecolor\": \"white\", \"zerolinewidth\": 2}, \"yaxis\": {\"automargin\": true, \"gridcolor\": \"white\", \"linecolor\": \"white\", \"ticks\": \"\", \"title\": {\"standoff\": 15}, \"zerolinecolor\": \"white\", \"zerolinewidth\": 2}}}, \"title\": {\"text\": \"Train vs. Test Generator Loss\"}, \"width\": 1000, \"xaxis\": {\"title\": {\"text\": \"Number of training examples seen\"}}, \"yaxis\": {\"title\": {\"text\": \"Adversarial + Content Loss\"}}},\n",
              "                        {\"responsive\": true}\n",
              "                    ).then(function(){\n",
              "                            \n",
              "var gd = document.getElementById('2c339830-75d8-4d0d-a3d7-6f007bae114f');\n",
              "var x = new MutationObserver(function (mutations, observer) {{\n",
              "        var display = window.getComputedStyle(gd).display;\n",
              "        if (!display || display === 'none') {{\n",
              "            console.log([gd, 'removed!']);\n",
              "            Plotly.purge(gd);\n",
              "            observer.disconnect();\n",
              "        }}\n",
              "}});\n",
              "\n",
              "// Listen for the removal of the full notebook cells\n",
              "var notebookContainer = gd.closest('#notebook-container');\n",
              "if (notebookContainer) {{\n",
              "    x.observe(notebookContainer, {childList: true});\n",
              "}}\n",
              "\n",
              "// Listen for the clearing of the current output cell\n",
              "var outputEl = gd.closest('.output');\n",
              "if (outputEl) {{\n",
              "    x.observe(outputEl, {childList: true});\n",
              "}}\n",
              "\n",
              "                        })\n",
              "                };\n",
              "                \n",
              "            </script>\n",
              "        </div>\n",
              "</body>\n",
              "</html>"
            ]
          },
          "metadata": {
            "tags": []
          }
        }
      ]
    },
    {
      "cell_type": "code",
      "metadata": {
        "colab": {
          "base_uri": "https://localhost:8080/",
          "height": 537
        },
        "id": "DrGX5N9DSNmY",
        "outputId": "6d1138c8-47b5-47b7-bc61-1c02e90160c3"
      },
      "source": [
        "fig = go.Figure()\n",
        "fig.add_trace(go.Scatter(x=train_counter, y=train_disc_losses, mode='lines', name='Train Discriminator Loss'))\n",
        "#fig.add_trace(go.Scatter(x=test_counter, y=test_disc_losses, marker_symbol='star-diamond', \n",
        " #                        marker_color='orange', marker_line_width=1, marker_size=9, mode='markers', name='Test Discriminator Loss'))\n",
        "fig.update_layout(\n",
        "    width=1000,\n",
        "    height=500,\n",
        "    title=\"Train vs. Test Discriminator Loss\",\n",
        "    xaxis_title=\"Number of training examples seen\",\n",
        "    yaxis_title=\"Adversarial Loss\"),\n",
        "fig.show()"
      ],
      "execution_count": null,
      "outputs": [
        {
          "output_type": "display_data",
          "data": {
            "text/html": [
              "<html>\n",
              "<head><meta charset=\"utf-8\" /></head>\n",
              "<body>\n",
              "    <div>\n",
              "            <script src=\"https://cdnjs.cloudflare.com/ajax/libs/mathjax/2.7.5/MathJax.js?config=TeX-AMS-MML_SVG\"></script><script type=\"text/javascript\">if (window.MathJax) {MathJax.Hub.Config({SVG: {font: \"STIX-Web\"}});}</script>\n",
              "                <script type=\"text/javascript\">window.PlotlyConfig = {MathJaxConfig: 'local'};</script>\n",
              "        <script src=\"https://cdn.plot.ly/plotly-latest.min.js\"></script>    \n",
              "            <div id=\"c935b3cd-1b50-4bc0-9136-7c8c30126a38\" class=\"plotly-graph-div\" style=\"height:500px; width:1000px;\"></div>\n",
              "            <script type=\"text/javascript\">\n",
              "                \n",
              "                    window.PLOTLYENV=window.PLOTLYENV || {};\n",
              "                    \n",
              "                if (document.getElementById(\"c935b3cd-1b50-4bc0-9136-7c8c30126a38\")) {\n",
              "                    Plotly.newPlot(\n",
              "                        'c935b3cd-1b50-4bc0-9136-7c8c30126a38',\n",
              "                        [{\"mode\": \"lines\", \"name\": \"Train Discriminator Loss\", \"type\": \"scatter\", \"x\": [128, 256, 384, 512, 640, 768, 896, 1024, 1152, 1280, 1408, 1536, 1664, 1792, 1920, 2048, 2176, 2304, 2432, 2560, 2688, 2816, 2944, 3072, 3200, 3328, 3456, 3584, 3712, 3840, 3968, 4096, 4224, 4352, 4480, 4608, 4736, 4864, 4992, 5120, 5248, 5376, 5504, 5632, 5760, 5888, 6016, 6144, 6272, 6400, 6528, 6656, 6784, 6912, 7040, 7168, 7296, 7424, 7552, 7680, 7808, 7936, 8064, 8192, 8320, 8448, 8576, 8704, 8832, 8960, 9088, 9216, 9344, 9472, 9600, 9728, 9856, 9984, 10112, 10240, 10368, 10496, 10624, 10752, 10880, 11008, 11136, 11264, 11392, 11520, 11648, 11776, 11904, 12032, 12160, 12288, 12416, 12544, 12672, 12800, 12928, 13056, 13184, 13312, 13440, 13568, 13696, 13824, 13952, 14080, 14208, 14336, 14464, 14592, 14720, 14848, 14976, 15104, 15232, 15360, 15488, 15616, 15744, 15872, 16000, 16128, 16256, 16384, 16512, 16640, 16768, 16896, 17024, 17152, 17280, 17408, 17536, 17664, 17792, 17920, 18048, 18176, 18304, 18432, 18560, 18688, 18816, 18944, 19072, 19200, 19328, 19456, 19584, 19712, 19840, 19968, 20096, 20224, 20352, 20480, 20608, 20736, 20864, 20992, 21120, 21248, 21376, 21504, 21632, 21760, 21888, 22016, 22144, 22272, 22400, 22528, 22656, 22784, 22912, 23040, 23168, 23296, 23424, 23552, 23680, 23808, 23936, 24064, 24192, 24320, 24448, 24576, 24704, 24832, 24960, 25088, 25216, 25344, 25472, 25600, 25728, 25856, 25984, 26112, 26240, 26368, 26496, 26624, 26752, 26880, 27008, 27136, 27264, 27392, 27520, 27648, 27776, 27904, 28032, 28160, 28288, 28416, 28544, 28672, 28800, 28928, 29056, 29184, 29312, 29440, 29568, 29696, 29824, 29952, 30080, 30208, 30336, 30464, 30592, 30720, 30848, 30976, 31104, 31232, 31360, 31488, 31616, 31744, 31872, 32000, 32128, 32256, 32384, 32512, 32640, 32768, 32896, 33024, 33152, 33280, 33408, 33536, 33664, 33792, 33920, 34048, 34176, 34304, 34432, 34560, 34688, 34816, 34944, 35072, 35200, 35328, 35456, 35584, 35712, 35840, 35968, 36096, 36224, 36352, 36480, 36608, 36736, 36864, 36992, 37120, 37248, 37376, 37504, 37632, 37760, 37888, 38016, 38144, 38272, 38400, 38528, 38656, 38784, 38912, 39040, 39168, 39296, 39424, 39552, 39680, 39808, 39936, 40064, 40192, 40320, 40448, 40576, 40704, 40832, 40960, 41088, 41216, 41344, 41472, 41600, 41728, 41856, 41984, 42112, 42240, 42368, 42496, 42624, 42752, 42880, 43008, 43136, 43264, 43392, 43520, 43648, 43776, 43904, 44032, 44160, 44288, 44416, 44544, 44672, 44800, 44928, 45056, 45184, 45312, 45440, 45568, 45696, 45824, 45952, 46080, 46208, 46336, 46464, 46592, 46720, 46848, 46976, 47104, 47232, 47360, 47488, 47616, 47744, 47872, 48000, 48128, 48256, 48384, 48512, 48640, 48768, 48896, 49024, 49152, 49280, 49408, 49536, 49664, 49792, 49920, 50048, 50176, 50304, 50432, 50560, 50688, 50816, 50944, 51072, 51200, 51328, 51456, 51584, 51712, 51840, 51968, 52096, 52224, 52352, 52480, 52608, 52736, 52864, 52992, 53120, 53248, 53376, 53504, 53632, 53760, 53888, 54016, 54144, 54272, 54400, 54528, 54656, 54784, 54912, 55040, 55168, 55296, 55424, 55552, 55680, 55808, 55936, 56064, 56192, 56320, 56448, 56576, 56704, 56832, 56960, 57088, 57216, 57344, 57472, 57600, 57728, 57856, 57984, 58112, 58240, 58368, 58496, 58624, 58752, 58880, 59008, 59136, 59264, 59392, 59520, 59648, 59776, 59904, 45024, 60128, 60256, 60384, 60512, 60640, 60768, 60896, 61024, 61152, 61280, 61408, 61536, 61664, 61792, 61920, 62048, 62176, 62304, 62432, 62560, 62688, 62816, 62944, 63072, 63200, 63328, 63456, 63584, 63712, 63840, 63968, 64096, 64224, 64352, 64480, 64608, 64736, 64864, 64992, 65120, 65248, 65376, 65504, 65632, 65760, 65888, 66016, 66144, 66272, 66400, 66528, 66656, 66784, 66912, 67040, 67168, 67296, 67424, 67552, 67680, 67808, 67936, 68064, 68192, 68320, 68448, 68576, 68704, 68832, 68960, 69088, 69216, 69344, 69472, 69600, 69728, 69856, 69984, 70112, 70240, 70368, 70496, 70624, 70752, 70880, 71008, 71136, 71264, 71392, 71520, 71648, 71776, 71904, 72032, 72160, 72288, 72416, 72544, 72672, 72800, 72928, 73056, 73184, 73312, 73440, 73568, 73696, 73824, 73952, 74080, 74208, 74336, 74464, 74592, 74720, 74848, 74976, 75104, 75232, 75360, 75488, 75616, 75744, 75872, 76000, 76128, 76256, 76384, 76512, 76640, 76768, 76896, 77024, 77152, 77280, 77408, 77536, 77664, 77792, 77920, 78048, 78176, 78304, 78432, 78560, 78688, 78816, 78944, 79072, 79200, 79328, 79456, 79584, 79712, 79840, 79968, 80096, 80224, 80352, 80480, 80608, 80736, 80864, 80992, 81120, 81248, 81376, 81504, 81632, 81760, 81888, 82016, 82144, 82272, 82400, 82528, 82656, 82784, 82912, 83040, 83168, 83296, 83424, 83552, 83680, 83808, 83936, 84064, 84192, 84320, 84448, 84576, 84704, 84832, 84960, 85088, 85216, 85344, 85472, 85600, 85728, 85856, 85984, 86112, 86240, 86368, 86496, 86624, 86752, 86880, 87008, 87136, 87264, 87392, 87520, 87648, 87776, 87904, 88032, 88160, 88288, 88416, 88544, 88672, 88800, 88928, 89056, 89184, 89312, 89440, 89568, 89696, 89824, 89952, 90080, 90208, 90336, 90464, 90592, 90720, 90848, 90976, 91104, 91232, 91360, 91488, 91616, 91744, 91872, 92000, 92128, 92256, 92384, 92512, 92640, 92768, 92896, 93024, 93152, 93280, 93408, 93536, 93664, 93792, 93920, 94048, 94176, 94304, 94432, 94560, 94688, 94816, 94944, 95072, 95200, 95328, 95456, 95584, 95712, 95840, 95968, 96096, 96224, 96352, 96480, 96608, 96736, 96864, 96992, 97120, 97248, 97376, 97504, 97632, 97760, 97888, 98016, 98144, 98272, 98400, 98528, 98656, 98784, 98912, 99040, 99168, 99296, 99424, 99552, 99680, 99808, 99936, 100064, 100192, 100320, 100448, 100576, 100704, 100832, 100960, 101088, 101216, 101344, 101472, 101600, 101728, 101856, 101984, 102112, 102240, 102368, 102496, 102624, 102752, 102880, 103008, 103136, 103264, 103392, 103520, 103648, 103776, 103904, 104032, 104160, 104288, 104416, 104544, 104672, 104800, 104928, 105056, 105184, 105312, 105440, 105568, 105696, 105824, 105952, 106080, 106208, 106336, 106464, 106592, 106720, 106848, 106976, 107104, 107232, 107360, 107488, 107616, 107744, 107872, 108000, 108128, 108256, 108384, 108512, 108640, 108768, 108896, 109024, 109152, 109280, 109408, 109536, 109664, 109792, 109920, 110048, 110176, 110304, 110432, 110560, 110688, 110816, 110944, 111072, 111200, 111328, 111456, 111584, 111712, 111840, 111968, 112096, 112224, 112352, 112480, 112608, 112736, 112864, 112992, 113120, 113248, 113376, 113504, 113632, 113760, 113888, 114016, 114144, 114272, 114400, 114528, 114656, 114784, 114912, 115040, 115168, 115296, 115424, 115552, 115680, 115808, 115936, 116064, 116192, 116320, 116448, 116576, 116704, 116832, 116960, 117088, 117216, 117344, 117472, 117600, 117728, 117856, 117984, 118112, 118240, 118368, 118496, 118624, 118752, 118880, 119008, 119136, 119264, 119392, 119520, 119648, 119776, 119904, 105024, 120128, 120256, 120384, 120512, 120640, 120768, 120896, 121024, 121152, 121280, 121408, 121536, 121664, 121792, 121920, 122048, 122176, 122304, 122432, 122560, 122688, 122816, 122944, 123072, 123200, 123328, 123456, 123584, 123712, 123840, 123968, 124096, 124224, 124352, 124480, 124608, 124736, 124864, 124992, 125120, 125248, 125376, 125504, 125632, 125760, 125888, 126016, 126144, 126272, 126400, 126528, 126656, 126784, 126912, 127040, 127168, 127296, 127424, 127552, 127680, 127808, 127936, 128064, 128192, 128320, 128448, 128576, 128704, 128832, 128960, 129088, 129216, 129344, 129472, 129600, 129728, 129856, 129984, 130112, 130240, 130368, 130496, 130624, 130752, 130880, 131008, 131136, 131264, 131392, 131520, 131648, 131776, 131904, 132032, 132160, 132288, 132416, 132544, 132672, 132800, 132928, 133056, 133184, 133312, 133440, 133568, 133696, 133824, 133952, 134080, 134208, 134336, 134464, 134592, 134720, 134848, 134976, 135104, 135232, 135360, 135488, 135616, 135744, 135872, 136000, 136128, 136256, 136384, 136512, 136640, 136768, 136896, 137024, 137152, 137280, 137408, 137536, 137664, 137792, 137920, 138048, 138176, 138304, 138432, 138560, 138688, 138816, 138944, 139072, 139200, 139328, 139456, 139584, 139712, 139840, 139968, 140096, 140224, 140352, 140480, 140608, 140736, 140864, 140992, 141120, 141248, 141376, 141504, 141632, 141760, 141888, 142016, 142144, 142272, 142400, 142528, 142656, 142784, 142912, 143040, 143168, 143296, 143424, 143552, 143680, 143808, 143936, 144064, 144192, 144320, 144448, 144576, 144704, 144832, 144960, 145088, 145216, 145344, 145472, 145600, 145728, 145856, 145984, 146112, 146240, 146368, 146496, 146624, 146752, 146880, 147008, 147136, 147264, 147392, 147520, 147648, 147776, 147904, 148032, 148160, 148288, 148416, 148544, 148672, 148800, 148928, 149056, 149184, 149312, 149440, 149568, 149696, 149824, 149952, 150080, 150208, 150336, 150464, 150592, 150720, 150848, 150976, 151104, 151232, 151360, 151488, 151616, 151744, 151872, 152000, 152128, 152256, 152384, 152512, 152640, 152768, 152896, 153024, 153152, 153280, 153408, 153536, 153664, 153792, 153920, 154048, 154176, 154304, 154432, 154560, 154688, 154816, 154944, 155072, 155200, 155328, 155456, 155584, 155712, 155840, 155968, 156096, 156224, 156352, 156480, 156608, 156736, 156864, 156992, 157120, 157248, 157376, 157504, 157632, 157760, 157888, 158016, 158144, 158272, 158400, 158528, 158656, 158784, 158912, 159040, 159168, 159296, 159424, 159552, 159680, 159808, 159936, 160064, 160192, 160320, 160448, 160576, 160704, 160832, 160960, 161088, 161216, 161344, 161472, 161600, 161728, 161856, 161984, 162112, 162240, 162368, 162496, 162624, 162752, 162880, 163008, 163136, 163264, 163392, 163520, 163648, 163776, 163904, 164032, 164160, 164288, 164416, 164544, 164672, 164800, 164928, 165056, 165184, 165312, 165440, 165568, 165696, 165824, 165952, 166080, 166208, 166336, 166464, 166592, 166720, 166848, 166976, 167104, 167232, 167360, 167488, 167616, 167744, 167872, 168000, 168128, 168256, 168384, 168512, 168640, 168768, 168896, 169024, 169152, 169280, 169408, 169536, 169664, 169792, 169920, 170048, 170176, 170304, 170432, 170560, 170688, 170816, 170944, 171072, 171200, 171328, 171456, 171584, 171712, 171840, 171968, 172096, 172224, 172352, 172480, 172608, 172736, 172864, 172992, 173120, 173248, 173376, 173504, 173632, 173760, 173888, 174016, 174144, 174272, 174400, 174528, 174656, 174784, 174912, 175040, 175168, 175296, 175424, 175552, 175680, 175808, 175936, 176064, 176192, 176320, 176448, 176576, 176704, 176832, 176960, 177088, 177216, 177344, 177472, 177600, 177728, 177856, 177984, 178112, 178240, 178368, 178496, 178624, 178752, 178880, 179008, 179136, 179264, 179392, 179520, 179648, 179776, 179904, 165024, 180128, 180256, 180384, 180512, 180640, 180768, 180896, 181024, 181152, 181280, 181408, 181536, 181664, 181792, 181920, 182048, 182176, 182304, 182432, 182560, 182688, 182816, 182944, 183072, 183200, 183328, 183456, 183584, 183712, 183840, 183968, 184096, 184224, 184352, 184480, 184608, 184736, 184864, 184992, 185120, 185248, 185376, 185504, 185632, 185760, 185888, 186016, 186144, 186272, 186400, 186528, 186656, 186784, 186912, 187040, 187168, 187296, 187424, 187552, 187680, 187808, 187936, 188064, 188192, 188320, 188448, 188576, 188704, 188832, 188960, 189088, 189216, 189344, 189472, 189600, 189728, 189856, 189984, 190112, 190240, 190368, 190496, 190624, 190752, 190880, 191008, 191136, 191264, 191392, 191520, 191648, 191776, 191904, 192032, 192160, 192288, 192416, 192544, 192672, 192800, 192928, 193056, 193184, 193312, 193440, 193568, 193696, 193824, 193952, 194080, 194208, 194336, 194464, 194592, 194720, 194848, 194976, 195104, 195232, 195360, 195488, 195616, 195744, 195872, 196000, 196128, 196256, 196384, 196512, 196640, 196768, 196896, 197024, 197152, 197280, 197408, 197536, 197664, 197792, 197920, 198048, 198176, 198304, 198432, 198560, 198688, 198816, 198944, 199072, 199200, 199328, 199456, 199584, 199712, 199840, 199968, 200096, 200224, 200352, 200480, 200608, 200736, 200864, 200992, 201120, 201248, 201376, 201504, 201632, 201760, 201888, 202016, 202144, 202272, 202400, 202528, 202656, 202784, 202912, 203040, 203168, 203296, 203424, 203552, 203680, 203808, 203936, 204064, 204192, 204320, 204448, 204576, 204704, 204832, 204960, 205088, 205216, 205344, 205472, 205600, 205728, 205856, 205984, 206112, 206240, 206368, 206496, 206624, 206752, 206880, 207008, 207136, 207264, 207392, 207520, 207648, 207776, 207904, 208032, 208160, 208288, 208416, 208544, 208672, 208800, 208928, 209056, 209184, 209312, 209440, 209568, 209696, 209824, 209952, 210080, 210208, 210336, 210464, 210592, 210720, 210848, 210976, 211104, 211232, 211360, 211488, 211616, 211744, 211872, 212000, 212128, 212256, 212384, 212512, 212640, 212768, 212896, 213024, 213152, 213280, 213408, 213536, 213664, 213792, 213920, 214048, 214176, 214304, 214432, 214560, 214688, 214816, 214944, 215072, 215200, 215328, 215456, 215584, 215712, 215840, 215968, 216096, 216224, 216352, 216480, 216608, 216736, 216864, 216992, 217120, 217248, 217376, 217504, 217632, 217760, 217888, 218016, 218144, 218272, 218400, 218528, 218656, 218784, 218912, 219040, 219168, 219296, 219424, 219552, 219680, 219808, 219936, 220064, 220192, 220320, 220448, 220576, 220704, 220832, 220960, 221088, 221216, 221344, 221472, 221600, 221728, 221856, 221984, 222112, 222240, 222368, 222496, 222624, 222752, 222880, 223008, 223136, 223264, 223392, 223520, 223648, 223776, 223904, 224032, 224160, 224288, 224416, 224544, 224672, 224800, 224928, 225056, 225184, 225312, 225440, 225568, 225696, 225824, 225952, 226080, 226208, 226336, 226464, 226592, 226720, 226848, 226976, 227104, 227232, 227360, 227488, 227616, 227744, 227872, 228000, 228128, 228256, 228384, 228512, 228640, 228768, 228896, 229024, 229152, 229280, 229408, 229536, 229664, 229792, 229920, 230048, 230176, 230304, 230432, 230560, 230688, 230816, 230944, 231072, 231200, 231328, 231456, 231584, 231712, 231840, 231968, 232096, 232224, 232352, 232480, 232608, 232736, 232864, 232992, 233120, 233248, 233376, 233504, 233632, 233760, 233888, 234016, 234144, 234272, 234400, 234528, 234656, 234784, 234912, 235040, 235168, 235296, 235424, 235552, 235680, 235808, 235936, 236064, 236192, 236320, 236448, 236576, 236704, 236832, 236960, 237088, 237216, 237344, 237472, 237600, 237728, 237856, 237984, 238112, 238240, 238368, 238496, 238624, 238752, 238880, 239008, 239136, 239264, 239392, 239520, 239648, 239776, 239904, 225024, 240128, 240256, 240384, 240512, 240640, 240768, 240896, 241024, 241152, 241280, 241408, 241536, 241664, 241792, 241920, 242048, 242176, 242304, 242432, 242560, 242688, 242816, 242944, 243072, 243200, 243328, 243456, 243584, 243712, 243840, 243968, 244096, 244224, 244352, 244480, 244608, 244736, 244864, 244992, 245120, 245248, 245376, 245504, 245632, 245760, 245888, 246016, 246144, 246272, 246400, 246528, 246656, 246784, 246912, 247040, 247168, 247296, 247424, 247552, 247680, 247808, 247936, 248064, 248192, 248320, 248448, 248576, 248704, 248832, 248960, 249088, 249216, 249344, 249472, 249600, 249728, 249856, 249984, 250112, 250240, 250368, 250496, 250624, 250752, 250880, 251008, 251136, 251264, 251392, 251520, 251648, 251776, 251904, 252032, 252160, 252288, 252416, 252544, 252672, 252800, 252928, 253056, 253184, 253312, 253440, 253568, 253696, 253824, 253952, 254080, 254208, 254336, 254464, 254592, 254720, 254848, 254976, 255104, 255232, 255360, 255488, 255616, 255744, 255872, 256000, 256128, 256256, 256384, 256512, 256640, 256768, 256896, 257024, 257152, 257280, 257408, 257536, 257664, 257792, 257920, 258048, 258176, 258304, 258432, 258560, 258688, 258816, 258944, 259072, 259200, 259328, 259456, 259584, 259712, 259840, 259968, 260096, 260224, 260352, 260480, 260608, 260736, 260864, 260992, 261120, 261248, 261376, 261504, 261632, 261760, 261888, 262016, 262144, 262272, 262400, 262528, 262656, 262784, 262912, 263040, 263168, 263296, 263424, 263552, 263680, 263808, 263936, 264064, 264192, 264320, 264448, 264576, 264704, 264832, 264960, 265088, 265216, 265344, 265472, 265600, 265728, 265856, 265984, 266112, 266240, 266368, 266496, 266624, 266752, 266880, 267008, 267136, 267264, 267392, 267520, 267648, 267776, 267904, 268032, 268160, 268288, 268416, 268544, 268672, 268800, 268928, 269056, 269184, 269312, 269440, 269568, 269696, 269824, 269952, 270080, 270208, 270336, 270464, 270592, 270720, 270848, 270976, 271104, 271232, 271360, 271488, 271616, 271744, 271872, 272000, 272128, 272256, 272384, 272512, 272640, 272768, 272896, 273024, 273152, 273280, 273408, 273536, 273664, 273792, 273920, 274048, 274176, 274304, 274432, 274560, 274688, 274816, 274944, 275072, 275200, 275328, 275456, 275584, 275712, 275840, 275968, 276096, 276224, 276352, 276480, 276608, 276736, 276864, 276992, 277120, 277248, 277376, 277504, 277632, 277760, 277888, 278016, 278144, 278272, 278400, 278528, 278656, 278784, 278912, 279040, 279168, 279296, 279424, 279552, 279680, 279808, 279936, 280064, 280192, 280320, 280448, 280576, 280704, 280832, 280960, 281088, 281216, 281344, 281472, 281600, 281728, 281856, 281984, 282112, 282240, 282368, 282496, 282624, 282752, 282880, 283008, 283136, 283264, 283392, 283520, 283648, 283776, 283904, 284032, 284160, 284288, 284416, 284544, 284672, 284800, 284928, 285056, 285184, 285312, 285440, 285568, 285696, 285824, 285952, 286080, 286208, 286336, 286464, 286592, 286720, 286848, 286976, 287104, 287232, 287360, 287488, 287616, 287744, 287872, 288000, 288128, 288256, 288384, 288512, 288640, 288768, 288896, 289024, 289152, 289280, 289408, 289536, 289664, 289792, 289920, 290048, 290176, 290304, 290432, 290560, 290688, 290816, 290944, 291072, 291200, 291328, 291456, 291584, 291712, 291840, 291968, 292096, 292224, 292352, 292480, 292608, 292736, 292864, 292992, 293120, 293248, 293376, 293504, 293632, 293760, 293888, 294016, 294144, 294272, 294400, 294528, 294656, 294784, 294912, 295040, 295168, 295296, 295424, 295552, 295680, 295808, 295936, 296064, 296192, 296320, 296448, 296576, 296704, 296832, 296960, 297088, 297216, 297344, 297472, 297600, 297728, 297856, 297984, 298112, 298240, 298368, 298496, 298624, 298752, 298880, 299008, 299136, 299264, 299392, 299520, 299648, 299776, 299904, 285024, 300128, 300256, 300384, 300512, 300640, 300768, 300896, 301024, 301152, 301280, 301408, 301536, 301664, 301792, 301920, 302048, 302176, 302304, 302432, 302560, 302688, 302816, 302944, 303072, 303200, 303328, 303456, 303584, 303712, 303840, 303968, 304096, 304224, 304352, 304480, 304608, 304736, 304864, 304992, 305120, 305248, 305376, 305504, 305632, 305760, 305888, 306016, 306144, 306272, 306400, 306528, 306656, 306784, 306912, 307040, 307168, 307296, 307424, 307552, 307680, 307808, 307936, 308064, 308192, 308320, 308448, 308576, 308704, 308832, 308960, 309088, 309216, 309344, 309472, 309600, 309728, 309856, 309984, 310112, 310240, 310368, 310496, 310624, 310752, 310880, 311008, 311136, 311264, 311392, 311520, 311648, 311776, 311904, 312032, 312160, 312288, 312416, 312544, 312672, 312800, 312928, 313056, 313184, 313312, 313440, 313568, 313696, 313824, 313952, 314080, 314208, 314336, 314464, 314592, 314720, 314848, 314976, 315104, 315232, 315360, 315488, 315616, 315744, 315872, 316000, 316128, 316256, 316384, 316512, 316640, 316768, 316896, 317024, 317152, 317280, 317408, 317536, 317664, 317792, 317920, 318048, 318176, 318304, 318432, 318560, 318688, 318816, 318944, 319072, 319200, 319328, 319456, 319584, 319712, 319840, 319968, 320096, 320224, 320352, 320480, 320608, 320736, 320864, 320992, 321120, 321248, 321376, 321504, 321632, 321760, 321888, 322016, 322144, 322272, 322400, 322528, 322656, 322784, 322912, 323040, 323168, 323296, 323424, 323552, 323680, 323808, 323936, 324064, 324192, 324320, 324448, 324576, 324704, 324832, 324960, 325088, 325216, 325344, 325472, 325600, 325728, 325856, 325984, 326112, 326240, 326368, 326496, 326624, 326752, 326880, 327008, 327136, 327264, 327392, 327520, 327648, 327776, 327904, 328032, 328160, 328288, 328416, 328544, 328672, 328800, 328928, 329056, 329184, 329312, 329440, 329568, 329696, 329824, 329952, 330080, 330208, 330336, 330464, 330592, 330720, 330848, 330976, 331104, 331232, 331360, 331488, 331616, 331744, 331872, 332000, 332128, 332256, 332384, 332512, 332640, 332768, 332896, 333024, 333152, 333280, 333408, 333536, 333664, 333792, 333920, 334048, 334176, 334304, 334432, 334560, 334688, 334816, 334944, 335072, 335200, 335328, 335456, 335584, 335712, 335840, 335968, 336096, 336224, 336352, 336480, 336608, 336736, 336864, 336992, 337120, 337248, 337376, 337504, 337632, 337760, 337888, 338016, 338144, 338272, 338400, 338528, 338656, 338784, 338912, 339040, 339168, 339296, 339424, 339552, 339680, 339808, 339936, 340064, 340192, 340320, 340448, 340576, 340704, 340832, 340960, 341088, 341216, 341344, 341472, 341600, 341728, 341856, 341984, 342112, 342240, 342368, 342496, 342624, 342752, 342880, 343008, 343136, 343264, 343392, 343520, 343648, 343776, 343904, 344032, 344160, 344288, 344416, 344544, 344672, 344800, 344928, 345056, 345184, 345312, 345440, 345568, 345696, 345824, 345952, 346080, 346208, 346336, 346464, 346592, 346720, 346848, 346976, 347104, 347232, 347360, 347488, 347616, 347744, 347872, 348000, 348128, 348256, 348384, 348512, 348640, 348768, 348896, 349024, 349152, 349280, 349408, 349536, 349664, 349792, 349920, 350048, 350176, 350304, 350432, 350560, 350688, 350816, 350944, 351072, 351200, 351328, 351456, 351584, 351712, 351840, 351968, 352096, 352224, 352352, 352480, 352608, 352736, 352864, 352992, 353120, 353248, 353376, 353504, 353632, 353760, 353888, 354016, 354144, 354272, 354400, 354528, 354656, 354784, 354912, 355040, 355168, 355296, 355424, 355552, 355680, 355808, 355936, 356064, 356192, 356320, 356448, 356576, 356704, 356832, 356960, 357088, 357216, 357344, 357472, 357600, 357728, 357856, 357984, 358112, 358240, 358368, 358496, 358624, 358752, 358880, 359008, 359136, 359264, 359392, 359520, 359648, 359776, 359904, 345024, 360128, 360256, 360384, 360512, 360640, 360768, 360896, 361024, 361152, 361280, 361408, 361536, 361664, 361792, 361920, 362048, 362176, 362304, 362432, 362560, 362688, 362816, 362944, 363072, 363200, 363328, 363456, 363584, 363712, 363840, 363968, 364096, 364224, 364352, 364480, 364608, 364736, 364864, 364992, 365120, 365248, 365376, 365504, 365632, 365760, 365888, 366016, 366144, 366272, 366400, 366528, 366656, 366784, 366912, 367040, 367168, 367296, 367424, 367552, 367680, 367808, 367936, 368064, 368192, 368320, 368448, 368576, 368704, 368832, 368960, 369088, 369216, 369344, 369472, 369600, 369728, 369856, 369984, 370112, 370240, 370368, 370496, 370624, 370752, 370880, 371008, 371136, 371264, 371392, 371520, 371648, 371776, 371904, 372032, 372160, 372288, 372416, 372544, 372672, 372800, 372928, 373056, 373184, 373312, 373440, 373568, 373696, 373824, 373952, 374080, 374208, 374336, 374464, 374592, 374720, 374848, 374976, 375104, 375232, 375360, 375488, 375616, 375744, 375872, 376000, 376128, 376256, 376384, 376512, 376640, 376768, 376896, 377024, 377152, 377280, 377408, 377536, 377664, 377792, 377920, 378048, 378176, 378304, 378432, 378560, 378688, 378816, 378944, 379072, 379200, 379328, 379456, 379584, 379712, 379840, 379968, 380096, 380224, 380352, 380480, 380608, 380736, 380864, 380992, 381120, 381248, 381376, 381504, 381632, 381760, 381888, 382016, 382144], \"y\": [0.970394492149353, 4.321298599243164, 1.2304422855377197, 1.4844026565551758, 1.20632004737854, 0.731381893157959, 1.0229802131652832, 1.033965826034546, 1.1291035413742065, 1.318710446357727, 1.7238520383834839, 1.0296510457992554, 0.5864802598953247, 0.7319339513778687, 0.7467565536499023, 1.469859004020691, 2.8791654109954834, 0.8256529569625854, 1.5092157125473022, 0.8198647499084473, 0.8798843622207642, 0.5389465093612671, 0.5811475515365601, 0.5877288579940796, 0.572192907333374, 0.5240172743797302, 0.49272415041923523, 0.6432679295539856, 1.1073023080825806, 0.9271048307418823, 0.836135983467102, 0.8126403093338013, 0.6146946549415588, 0.6505947113037109, 0.692322850227356, 0.7940986752510071, 0.6411391496658325, 0.6636708974838257, 0.4709309935569763, 0.5696819424629211, 1.0476703643798828, 1.2979798316955566, 1.2117317914962769, 0.5391470789909363, 0.7310751676559448, 0.720481812953949, 0.4711887240409851, 0.7251225709915161, 0.7533103823661804, 0.45950210094451904, 0.47390589118003845, 0.4343639612197876, 0.45000046491622925, 0.43417268991470337, 0.41826096177101135, 0.4716293215751648, 0.5147035717964172, 0.5548946261405945, 0.43891647458076477, 0.45026063919067383, 0.41201460361480713, 0.4361257553100586, 0.46946632862091064, 0.6091554164886475, 0.7059892416000366, 0.5195949673652649, 0.44958043098449707, 0.5575367212295532, 0.5742101669311523, 0.6388490796089172, 0.4030786156654358, 0.46807754039764404, 0.4628313183784485, 0.503457248210907, 0.532135009765625, 0.5591065883636475, 0.6659608483314514, 0.7306908965110779, 0.517002522945404, 0.4482802748680115, 0.4986189603805542, 0.5815115571022034, 0.6085249185562134, 0.7470892667770386, 1.0835822820663452, 1.2445132732391357, 1.3610150814056396, 0.6322362422943115, 0.6842106580734253, 0.8729103207588196, 0.5919198989868164, 0.4818805456161499, 0.5411806702613831, 0.5558456182479858, 0.5394595861434937, 0.5432875156402588, 0.5814050436019897, 0.8118462562561035, 0.8561687469482422, 0.7217059135437012, 0.5966396331787109, 0.6712627410888672, 0.6056246161460876, 0.5191001892089844, 0.6172761917114258, 0.7359093427658081, 0.7039219737052917, 0.6646765470504761, 0.636618971824646, 0.5660369396209717, 0.6041193604469299, 0.5287443995475769, 0.5613805055618286, 0.6912916898727417, 0.6353558301925659, 0.6513120532035828, 0.647435188293457, 0.6989814639091492, 0.7461259365081787, 0.657965898513794, 0.5606188178062439, 0.5018274784088135, 0.5327249765396118, 0.5259838700294495, 0.5728183388710022, 0.6116454601287842, 0.6804834008216858, 0.7570189833641052, 0.7852495908737183, 0.998274028301239, 1.4749703407287598, 0.7539232969284058, 0.5520879030227661, 0.6038976907730103, 0.7561814785003662, 0.7208332419395447, 0.6871618628501892, 0.6388204097747803, 0.6715976595878601, 0.9065608978271484, 0.996469259262085, 0.7676879167556763, 0.4913041889667511, 0.47750189900398254, 0.5633883476257324, 0.6116793155670166, 0.6558880805969238, 0.771499752998352, 1.0236306190490723, 1.3374160528182983, 0.5537136793136597, 0.68876051902771, 0.7673393487930298, 0.7288289070129395, 0.5777432918548584, 0.5880173444747925, 0.48131075501441956, 0.5076497197151184, 0.5668251514434814, 0.6307847499847412, 0.6317334771156311, 0.6115009784698486, 0.5752953886985779, 0.6480353474617004, 0.6218849420547485, 0.5983104705810547, 0.5586931109428406, 0.6459806561470032, 0.6775557994842529, 0.57294762134552, 0.4777931571006775, 0.5266929864883423, 0.8071333169937134, 1.34312105178833, 0.9105442762374878, 0.5890645980834961, 0.5182516574859619, 0.6098657846450806, 0.6165575981140137, 0.6846125721931458, 0.5512025356292725, 0.5896326303482056, 0.5360594391822815, 0.4789902865886688, 0.4829068183898926, 0.46198323369026184, 0.583889365196228, 0.6022957563400269, 0.656855583190918, 1.01382577419281, 0.9819568395614624, 0.532986044883728, 0.5736478567123413, 0.5542830228805542, 0.6058253049850464, 0.5762540102005005, 0.6519630551338196, 0.663482666015625, 0.5816683769226074, 0.5905193090438843, 0.6879531145095825, 0.7442868947982788, 0.8130749464035034, 0.7362953424453735, 0.8110154867172241, 0.6286451816558838, 0.547726035118103, 0.5814956426620483, 0.6295360326766968, 0.5984508991241455, 0.5522521734237671, 0.6157104969024658, 0.5640751123428345, 0.5467959046363831, 0.7246137857437134, 0.7005685567855835, 0.6250444650650024, 0.6358826160430908, 0.6276401877403259, 0.63376784324646, 0.6413745880126953, 0.6479682922363281, 0.5630367994308472, 0.7425744533538818, 0.8807023763656616, 0.6247031688690186, 0.5662850141525269, 0.5914333462715149, 0.7210608720779419, 0.6906185150146484, 0.5863674879074097, 0.5463739633560181, 0.5079559087753296, 0.5512349009513855, 0.5752778053283691, 0.5817949175834656, 0.678341269493103, 0.6424505710601807, 0.6364867687225342, 0.6003011465072632, 0.6055203676223755, 0.57117760181427, 0.5454005599021912, 0.566734790802002, 0.5538404583930969, 0.5847363471984863, 0.6180058717727661, 0.6559709310531616, 0.6199251413345337, 0.6379759311676025, 0.5924111604690552, 0.5192657113075256, 0.5190210342407227, 0.5588207840919495, 0.5721129179000854, 0.5271745920181274, 0.47400692105293274, 0.5429158210754395, 0.593815803527832, 0.6232995986938477, 0.6069878339767456, 0.5796302556991577, 0.5522452592849731, 0.5471075773239136, 0.5527374744415283, 0.5599268674850464, 0.5857590436935425, 0.6614707112312317, 0.6854293346405029, 0.679627001285553, 0.5933094024658203, 0.6413850784301758, 0.6917051672935486, 0.7165946960449219, 0.7751628756523132, 0.6653438806533813, 0.614077091217041, 0.5866212248802185, 0.5530736446380615, 0.584262490272522, 0.6514158844947815, 0.627960205078125, 0.6798377633094788, 0.8455931544303894, 0.8504214286804199, 0.5614460706710815, 0.5015583634376526, 0.49393031001091003, 0.607079029083252, 0.667324960231781, 0.6768431067466736, 0.6518008708953857, 0.5632352828979492, 0.4820978045463562, 0.4898747205734253, 0.565094530582428, 0.583082914352417, 0.6032031178474426, 0.5775182247161865, 0.6019034385681152, 0.5263497233390808, 0.8004187941551208, 1.2024459838867188, 0.850646436214447, 0.4592832326889038, 0.9378517866134644, 0.7549113631248474, 0.581116795539856, 0.6610044240951538, 0.6584490537643433, 0.5449322462081909, 0.5338014364242554, 0.5900031328201294, 0.5444638729095459, 0.5074245929718018, 0.5204428434371948, 0.48161831498146057, 0.4782170355319977, 0.4958813786506653, 0.5589288473129272, 0.559071958065033, 0.5923231840133667, 0.668865442276001, 0.6466202735900879, 0.5368320941925049, 0.5371451377868652, 0.5611735582351685, 0.6030603647232056, 0.5537666082382202, 0.5135719776153564, 0.5423436760902405, 0.6351731419563293, 0.6428356766700745, 0.6033412218093872, 0.6324983835220337, 0.6471759676933289, 0.6129422783851624, 0.6395283341407776, 0.5596210360527039, 0.5619111061096191, 0.5157427787780762, 0.5051109790802002, 0.5132240653038025, 0.5360431671142578, 0.5757198333740234, 0.6150509715080261, 0.5652903318405151, 0.5150657296180725, 0.5037949681282043, 0.5431408882141113, 0.5587818026542664, 0.49575185775756836, 0.5409014225006104, 0.5902937650680542, 0.6110882759094238, 0.6048448085784912, 0.5693734884262085, 0.5415122509002686, 0.5125575065612793, 0.49219557642936707, 0.4637719988822937, 0.4936836361885071, 0.48710891604423523, 0.5360368490219116, 0.5663804411888123, 0.5675696134567261, 0.546656608581543, 0.6057654619216919, 0.616372287273407, 0.5546049475669861, 0.5025091171264648, 0.4658008813858032, 0.5082112550735474, 0.5366681814193726, 0.5703483819961548, 0.6878939867019653, 0.8807467222213745, 0.9464629292488098, 0.8120840787887573, 0.5625808238983154, 0.5045355558395386, 0.5359624624252319, 0.529013991355896, 0.5491234064102173, 0.482934832572937, 0.5279788970947266, 0.5377088785171509, 0.5162070989608765, 0.5106306076049805, 0.47172510623931885, 0.481577068567276, 0.48331111669540405, 0.5114818811416626, 0.5057665109634399, 0.4975969195365906, 0.5470373630523682, 0.5744534134864807, 0.5172317624092102, 0.5018254518508911, 0.4954544007778168, 0.5486156940460205, 0.4966800808906555, 0.5713724493980408, 0.6353040933609009, 0.7361050844192505, 0.8748614192008972, 1.0283796787261963, 0.641488790512085, 0.6144344806671143, 0.558724582195282, 0.5274376273155212, 0.4918164610862732, 0.4420106112957001, 0.48634982109069824, 0.5292325615882874, 0.49038100242614746, 0.4686207175254822, 0.4816725254058838, 0.4465486407279968, 0.5020235776901245, 0.5423171520233154, 0.6128457188606262, 0.576683521270752, 0.525994062423706, 0.5004464387893677, 0.5414129495620728, 0.569287896156311, 0.5608397126197815, 0.6156305074691772, 0.574077844619751, 0.5112299919128418, 0.5160360932350159, 0.465726763010025, 0.5094637274742126, 0.5175547003746033, 0.5683733224868774, 0.5456340312957764, 0.6007449626922607, 0.6210495829582214, 0.6678236722946167, 0.6175742149353027, 0.6032558083534241, 0.4986778497695923, 0.46730226278305054, 0.5076366662979126, 0.5151231288909912, 0.5102367401123047, 0.5305346250534058, 0.5263582468032837, 0.5219510793685913, 0.5135514140129089, 0.5231144428253174, 0.5393095016479492, 0.5202913880348206, 0.5046813488006592, 0.5223352909088135, 0.5374087691307068, 0.5519427061080933, 0.5387262105941772, 0.5027849674224854, 0.5111649632453918, 0.5842850804328918, 0.6311099529266357, 0.659809947013855, 0.6731701493263245, 0.6561809778213501, 0.5911357402801514, 0.486456960439682, 0.5306023359298706, 0.5006307363510132, 0.46747368574142456, 0.4940118193626404, 0.4686867296695709, 0.5012277364730835, 0.513367772102356, 0.552013635635376, 0.6297250986099243, 0.7469968199729919, 0.6956748962402344, 0.6976228952407837, 0.5400623679161072, 0.5114359855651855, 0.5106774568557739, 0.5266641974449158, 0.4704521596431732, 0.4664079546928406, 0.49213963747024536, 0.49318546056747437, 0.5210965871810913, 0.6419344544410706, 0.6842135787010193, 0.7338827252388, 0.6469031572341919, 0.6087992191314697, 0.5905812382698059, 0.5453300476074219, 0.4914969205856323, 0.48069140315055847, 0.522763729095459, 0.5137754082679749, 0.5415302515029907, 0.5311175584793091, 0.518770694732666, 0.5839802026748657, 0.5394120216369629, 0.5607397556304932, 0.5324142575263977, 0.5485920906066895, 0.5679141283035278, 0.5892355442047119, 0.5919085144996643, 0.6001166105270386, 0.5823273062705994, 0.5429457426071167, 0.5470889806747437, 0.4478779733181, 0.45289647579193115, 0.4717445969581604, 0.5335544347763062, 0.5552229881286621, 0.5968784689903259, 0.5888378024101257, 0.5735540390014648, 0.5302234888076782, 0.5589820146560669, 0.6082277297973633, 0.564115047454834, 0.5586962699890137, 0.552109956741333, 0.49434930086135864, 0.46643948554992676, 0.4293908178806305, 0.451413094997406, 0.47949185967445374, 0.5182572603225708, 0.5424759984016418, 0.668721079826355, 0.7656592130661011, 0.7016007900238037, 0.6545047760009766, 0.589586615562439, 0.6586376428604126, 0.6147884726524353, 0.4965217113494873, 0.5132274627685547, 0.4990079998970032, 0.5046080350875854, 0.5477359890937805, 0.5610128045082092, 0.6176241636276245, 0.597922682762146, 0.5821148157119751, 0.5829461812973022, 0.5355052947998047, 0.559341311454773, 0.5515536069869995, 0.5959905982017517, 0.5770206451416016, 0.597062349319458, 0.5421930551528931, 0.5237618684768677, 0.4947717785835266, 0.4978431165218353, 0.5020045042037964, 0.5029064416885376, 0.5372632741928101, 0.5882362127304077, 0.6835955381393433, 0.7419158220291138, 0.6214132308959961, 0.5668594837188721, 0.5306358337402344, 0.510513424873352, 0.5115386247634888, 0.5476075410842896, 0.5128158926963806, 0.4477022588253021, 0.5256083011627197, 0.5998528003692627, 0.5935975909233093, 0.557068943977356, 0.559725284576416, 0.5611354112625122, 0.583552896976471, 0.5924314856529236, 0.6110550165176392, 0.5181795358657837, 0.5028508901596069, 0.4924347996711731, 0.4582115411758423, 0.5092678070068359, 0.5428110361099243, 0.5227283239364624, 0.577698826789856, 0.7325500249862671, 0.8010801672935486, 0.715586245059967, 0.6353396773338318, 0.5382363796234131, 0.558215856552124, 0.526515007019043, 0.5607296228408813, 0.517736554145813, 0.4970484972000122, 0.5051305294036865, 0.5494951605796814, 0.5415630340576172, 0.5929542183876038, 0.616985023021698, 0.5866054892539978, 0.556914746761322, 0.4936982989311218, 0.5571425557136536, 0.5699377655982971, 0.5555207133293152, 0.542064368724823, 0.5385230779647827, 0.5447614192962646, 0.5550661087036133, 0.5674028992652893, 0.6426945924758911, 0.6331433057785034, 0.6760684251785278, 0.6417288184165955, 0.6224990487098694, 0.6170275807380676, 0.5154517889022827, 0.46177375316619873, 0.4789847731590271, 0.4974801540374756, 0.5120061635971069, 0.4882228672504425, 0.5512652397155762, 0.6621052026748657, 0.654578447341919, 0.7154830098152161, 0.7531507611274719, 0.6671137809753418, 0.6469019651412964, 0.5498781800270081, 0.5288950204849243, 0.514305830001831, 0.48845335841178894, 0.5523576736450195, 0.566383957862854, 0.5584118366241455, 0.6311243772506714, 0.5608718395233154, 0.6634308099746704, 0.6830250024795532, 0.7012611031532288, 0.6476871967315674, 0.5890069603919983, 0.5330971479415894, 0.5305715799331665, 0.5294418334960938, 0.5455084443092346, 0.5519657135009766, 0.5003799200057983, 0.4884028136730194, 0.5380868911743164, 0.6027828454971313, 0.6395695209503174, 0.6748334169387817, 0.6834037899971008, 0.6498460173606873, 0.6317090392112732, 0.49530771374702454, 0.5089526176452637, 0.46809130907058716, 0.4976072907447815, 0.5282877683639526, 0.5685749053955078, 0.6625598669052124, 0.742489755153656, 0.7983008623123169, 0.7305394411087036, 0.6417003273963928, 0.6056758165359497, 0.6354058980941772, 0.6061326861381531, 0.581050455570221, 0.532209038734436, 0.5669351816177368, 0.542497992515564, 0.5475528240203857, 0.5937680602073669, 0.5762749910354614, 0.5726417303085327, 0.5657292604446411, 0.5520304441452026, 0.557891845703125, 0.5877987146377563, 0.5469911098480225, 0.5397911667823792, 0.512073278427124, 0.5451674461364746, 0.5708739161491394, 0.6474615335464478, 0.6564202308654785, 0.5910266637802124, 0.5611674785614014, 0.5542643070220947, 0.5917394161224365, 0.6137367486953735, 0.6015733480453491, 0.542000412940979, 0.570472240447998, 0.6467904448509216, 0.7869662046432495, 0.6884571313858032, 0.5881807208061218, 0.5607494115829468, 0.5224007368087769, 0.5462267398834229, 0.6006499528884888, 0.6431900262832642, 0.7244822382926941, 0.6948014497756958, 0.6450512409210205, 0.6133149862289429, 0.613433301448822, 0.5635625123977661, 0.5782572031021118, 0.5868359804153442, 0.5441638827323914, 0.562322735786438, 0.5941919088363647, 0.5757860541343689, 0.6181783080101013, 0.6148032546043396, 0.6486793756484985, 0.6890226602554321, 0.675234317779541, 0.5965259075164795, 0.5750353336334229, 0.5352946519851685, 0.5117843151092529, 0.5325164794921875, 0.6096593141555786, 0.6366136074066162, 0.6032834053039551, 0.6500903367996216, 0.5704709887504578, 0.6018052101135254, 0.6198671460151672, 0.6150039434432983, 0.6243413090705872, 0.6172318458557129, 0.5419281125068665, 0.5470275282859802, 0.5684394836425781, 0.5852758288383484, 0.6039648056030273, 0.5642528533935547, 0.561599850654602, 0.577197253704071, 0.5776890516281128, 0.588435173034668, 0.6014848947525024, 0.6178759336471558, 0.603040874004364, 0.6616014242172241, 0.5871292352676392, 0.564191460609436, 0.5455911159515381, 0.5700165033340454, 0.6212759017944336, 0.5727214813232422, 0.5960952639579773, 0.6427607536315918, 0.6993600726127625, 0.6381320357322693, 0.6991289854049683, 0.6419538259506226, 0.6292198896408081, 0.636236846446991, 0.5875781774520874, 0.6278452277183533, 0.5816469192504883, 0.5732023119926453, 0.5946425795555115, 0.5500026941299438, 0.5859007835388184, 0.6142057180404663, 0.621606707572937, 0.6429357528686523, 0.624737560749054, 0.5975489020347595, 0.6035791039466858, 0.6230254769325256, 0.5717917680740356, 0.5872654318809509, 0.5717833042144775, 0.5387265682220459, 0.5494771599769592, 0.5662527084350586, 0.610927939414978, 0.5874320268630981, 0.6040844917297363, 0.582679808139801, 0.5638126134872437, 0.5819900035858154, 0.6273274421691895, 0.6283268332481384, 0.6926239728927612, 0.6202600002288818, 0.6703020334243774, 0.8000800609588623, 0.9188947677612305, 0.8788770437240601, 0.7120958566665649, 0.6980066895484924, 0.6397901773452759, 0.6937193274497986, 0.6447945237159729, 0.7081714272499084, 0.6604734063148499, 0.6484968662261963, 0.612474799156189, 0.6167688965797424, 0.6214432716369629, 0.6108516454696655, 0.6049818396568298, 0.6246466636657715, 0.714105486869812, 0.6611794233322144, 0.6502466797828674, 0.6616875529289246, 0.7169437408447266, 0.6240033507347107, 0.5973252654075623, 0.5672014951705933, 0.6061779260635376, 0.5883690118789673, 0.5943549871444702, 0.628858745098114, 0.6314697265625, 0.7273133993148804, 0.7404782176017761, 0.6367106437683105, 0.5975542068481445, 0.6841791272163391, 0.6789999008178711, 0.7116707563400269, 0.695690929889679, 0.676276683807373, 0.6301651000976562, 0.6608777642250061, 0.6461239457130432, 0.5786335468292236, 0.6089142560958862, 0.6039110422134399, 0.6046327352523804, 0.6249816417694092, 0.6418471932411194, 0.6590945720672607, 0.6850010752677917, 0.6689046025276184, 0.6388894319534302, 0.6317994594573975, 0.625356912612915, 0.6799409985542297, 0.8596561551094055, 1.0039032697677612, 0.7058340907096863, 0.6104207634925842, 0.6507728695869446, 0.6445729732513428, 0.6550140380859375, 0.6220132112503052, 0.6491005420684814, 0.6477068066596985, 0.607202410697937, 0.6479547023773193, 0.6281494498252869, 0.6004390716552734, 0.6410324573516846, 0.6610056161880493, 0.6529330611228943, 0.6350834965705872, 0.6350163221359253, 0.6257784366607666, 0.639098048210144, 0.6558581590652466, 0.6724765300750732, 0.652741014957428, 0.6443213820457458, 0.6909034252166748, 0.7181382179260254, 0.7275280952453613, 0.6817364692687988, 0.6482317447662354, 0.6650605797767639, 0.6378430128097534, 0.6090848445892334, 0.6124187111854553, 0.569130003452301, 0.6025762557983398, 0.6187928915023804, 0.6460977792739868, 0.6256029009819031, 0.6419793367385864, 0.6531886458396912, 0.6503672003746033, 0.632866621017456, 0.7327961325645447, 0.7292070388793945, 0.7517430186271667, 0.7646974325180054, 0.70563805103302, 0.6919602155685425, 0.6145814657211304, 0.6070695519447327, 0.6126444339752197, 0.6163760423660278, 0.6613509654998779, 0.7442235350608826, 0.7401195764541626, 0.61869215965271, 0.5952860116958618, 0.6171490550041199, 0.6294275522232056, 0.5851027369499207, 0.650067925453186, 0.6441600322723389, 0.6673868894577026, 0.6974329948425293, 0.7001322507858276, 0.5675207376480103, 0.6097156405448914, 0.706272304058075, 0.7231451272964478, 0.6471518278121948, 0.6059471964836121, 0.6412123441696167, 0.6263337135314941, 0.6888806819915771, 0.7658677101135254, 0.7125584483146667, 0.6699110269546509, 0.6312075853347778, 0.6330768465995789, 0.7221056222915649, 0.8076736927032471, 0.7284497618675232, 0.662129282951355, 0.5957707166671753, 0.6141175627708435, 0.6130662560462952, 0.7178137898445129, 0.7639166116714478, 0.6878162622451782, 0.6201925277709961, 0.6154448986053467, 0.638841986656189, 0.6870180368423462, 0.6220404505729675, 0.6208953857421875, 0.6318330764770508, 0.5857083201408386, 0.6615976095199585, 0.6533845663070679, 0.6711912155151367, 0.6331897974014282, 0.6155417561531067, 0.5980740189552307, 0.63227778673172, 0.6277698278427124, 0.6167198419570923, 0.6290779113769531, 0.6609113216400146, 0.6221146583557129, 0.6211533546447754, 0.6339750289916992, 0.674715518951416, 0.6745775938034058, 0.6538918018341064, 0.6076219081878662, 0.669958770275116, 0.6775658130645752, 0.7780994772911072, 0.6563185453414917, 0.6485693454742432, 0.6261575222015381, 0.6543564796447754, 0.6619682312011719, 0.6788051128387451, 0.6436121463775635, 0.64234858751297, 0.6060214042663574, 0.5787887573242188, 0.5587821006774902, 0.5884918570518494, 0.6212680339813232, 0.7689517736434937, 0.8019546866416931, 0.7424758672714233, 0.5798618793487549, 0.5997614860534668, 0.638124942779541, 0.6076728701591492, 0.6082125306129456, 0.6447861194610596, 0.6332989931106567, 0.6476612091064453, 0.6051937341690063, 0.6100845336914062, 0.6651492714881897, 0.7132439613342285, 0.788078248500824, 0.8063929080963135, 0.7072800397872925, 0.676702082157135, 0.6383649706840515, 0.6396663784980774, 0.618391752243042, 0.625889241695404, 0.6520358324050903, 0.6860296726226807, 0.6343115568161011, 0.6346575617790222, 0.6214831471443176, 0.6240041255950928, 0.6202581524848938, 0.647124171257019, 0.6243113279342651, 0.6307933926582336, 0.6249852180480957, 0.651345431804657, 0.6430322527885437, 0.638188898563385, 0.6104210615158081, 0.6478915214538574, 0.6165016293525696, 0.6330794095993042, 0.6300158500671387, 0.6432421803474426, 0.6317329406738281, 0.637184739112854, 0.6437267661094666, 0.6671996116638184, 0.7013313174247742, 0.6758894920349121, 0.591033399105072, 0.6185346841812134, 0.6243951320648193, 0.6200721263885498, 0.6351609230041504, 0.6216722726821899, 0.607680082321167, 0.6686937808990479, 0.7257200479507446, 0.821016252040863, 0.8347368836402893, 0.7314352989196777, 0.6179875731468201, 0.6034711003303528, 0.6443793773651123, 0.7217651605606079, 0.6724545359611511, 0.6433581709861755, 0.6056590676307678, 0.6964831352233887, 0.7062450647354126, 0.6540462374687195, 0.6236135363578796, 0.6105709075927734, 0.5961103439331055, 0.5716121196746826, 0.6301500797271729, 0.6021915078163147, 0.6420327425003052, 0.6445578336715698, 0.6529715061187744, 0.6367385387420654, 0.6243375539779663, 0.695393443107605, 0.8174211382865906, 0.798383355140686, 0.6951649188995361, 0.6174696683883667, 0.688423752784729, 0.6564870476722717, 0.6434816122055054, 0.6206192970275879, 0.6279070377349854, 0.5894124507904053, 0.6177632808685303, 0.6327173709869385, 0.6290560364723206, 0.6864511370658875, 0.6669666767120361, 0.6647487878799438, 0.6297805905342102, 0.6554726958274841, 0.5973535776138306, 0.6466620564460754, 0.645793080329895, 0.6633850336074829, 0.694871187210083, 0.6552348136901855, 0.61259925365448, 0.5859708786010742, 0.5660247802734375, 0.5906136631965637, 0.637215256690979, 0.6378373503684998, 0.6541811227798462, 0.6053170561790466, 0.5874185562133789, 0.5936094522476196, 0.5717549324035645, 0.6567357778549194, 0.6091436743736267, 0.6402193307876587, 0.6252089738845825, 0.6318408250808716, 0.6733330488204956, 0.6881248354911804, 0.6577044725418091, 0.7381534576416016, 0.7404137849807739, 0.6797298192977905, 0.6541099548339844, 0.6954061985015869, 0.6284505128860474, 0.6743865609169006, 0.6374582648277283, 0.6009554862976074, 0.5819713473320007, 0.5919985771179199, 0.6421064138412476, 0.6259267330169678, 0.6099923253059387, 0.6593785285949707, 0.6923327445983887, 0.8043122291564941, 0.7338309288024902, 0.6440786719322205, 0.6434211134910583, 0.64021897315979, 0.7287380695343018, 0.801371693611145, 0.7626669406890869, 0.7002553343772888, 0.6504538059234619, 0.6392834186553955, 0.6306573152542114, 0.6765701174736023, 0.5983643531799316, 0.5861532688140869, 0.5954339504241943, 0.5890452861785889, 0.6260240077972412, 0.6167691946029663, 0.6208207607269287, 0.6317629814147949, 0.6096220016479492, 0.6189833879470825, 0.6849182844161987, 0.6409581899642944, 0.666663408279419, 0.6375812292098999, 0.6299871206283569, 0.6186938285827637, 0.6054263710975647, 0.6608368158340454, 0.6261036396026611, 0.6058465838432312, 0.6143710613250732, 0.6425561904907227, 0.6380417346954346, 0.6865675449371338, 0.7079136371612549, 0.6798207759857178, 0.6458505988121033, 0.6279817819595337, 0.6415365934371948, 0.698524534702301, 0.8280037045478821, 0.7683953046798706, 0.6737724542617798, 0.6497251987457275, 0.6855170726776123, 0.6485503315925598, 0.6490660905838013, 0.6416653394699097, 0.6217830181121826, 0.6254588961601257, 0.6497070789337158, 0.622658371925354, 0.6262954473495483, 0.6099358797073364, 0.6472640037536621, 0.5866525173187256, 0.6154444217681885, 0.7345849275588989, 0.7944658994674683, 0.679479718208313, 0.6053463220596313, 0.5971184968948364, 0.6203384399414062, 0.6439138650894165, 0.6673952341079712, 0.7468268275260925, 0.703962504863739, 0.6345250606536865, 0.6247639656066895, 0.6546768546104431, 0.6208187341690063, 0.5956227779388428, 0.5832427144050598, 0.5948584079742432, 0.558688223361969, 0.5836449861526489, 0.617160439491272, 0.6261273622512817, 0.6267303228378296, 0.6529003381729126, 0.6522471904754639, 0.6277695894241333, 0.6330982446670532, 0.6699730157852173, 0.7364537715911865, 0.7277519702911377, 0.6470646858215332, 0.6298481822013855, 0.6148461103439331, 0.5929901599884033, 0.6365125179290771, 0.692970871925354, 0.6961770057678223, 0.7377721071243286, 0.6491352915763855, 0.6346472501754761, 0.6399937272071838, 0.608206033706665, 0.6488791108131409, 0.6118460893630981, 0.5879445672035217, 0.570839524269104, 0.5912189483642578, 0.8370712995529175, 1.087357997894287, 0.687251091003418, 0.6294970512390137, 0.6397449374198914, 0.6055916547775269, 0.5878514051437378, 0.5844771862030029, 0.6292699575424194, 0.6318923830986023, 0.6226102709770203, 0.641040563583374, 0.6234543919563293, 0.5825121998786926, 0.5541422367095947, 0.5856695175170898, 0.629549503326416, 0.6348842978477478, 0.6096409559249878, 0.5939158201217651, 0.5536576509475708, 0.5871304273605347, 0.6397678852081299, 0.6128482818603516, 0.5889246463775635, 0.63299959897995, 0.7994716167449951, 0.8977863192558289, 0.8098042011260986, 0.6332162022590637, 0.6185177564620972, 0.6432242393493652, 0.6554930210113525, 0.626806378364563, 0.6331045031547546, 0.5996359586715698, 0.5881698131561279, 0.6111772060394287, 0.5623504519462585, 0.6174941062927246, 0.6408241987228394, 0.6568759083747864, 0.6398494839668274, 0.6707011461257935, 0.6929064989089966, 0.6198277473449707, 0.5772566199302673, 0.6063948273658752, 0.5839567184448242, 0.5976964831352234, 0.5977792739868164, 0.6428821086883545, 0.5900774002075195, 0.5840756893157959, 0.5837374925613403, 0.5661554336547852, 0.6148219704627991, 0.692536473274231, 0.7114765048027039, 0.7500319480895996, 0.8703102469444275, 0.747295618057251, 0.6403970718383789, 0.6112055778503418, 0.6026567220687866, 0.6357074975967407, 0.6064170598983765, 0.6380496621131897, 0.6051608324050903, 0.6016266345977783, 0.6108657717704773, 0.6022388935089111, 0.6201097965240479, 0.6342511773109436, 0.6431114673614502, 0.6851013898849487, 0.6288358569145203, 0.6451979279518127, 0.667573094367981, 0.791250467300415, 0.7981126308441162, 0.7805423736572266, 0.8098316788673401, 0.7050002813339233, 0.6116112470626831, 0.5738558769226074, 0.6387006640434265, 0.6887513995170593, 0.669938325881958, 0.6161063313484192, 0.5796644687652588, 0.5790277123451233, 0.568317711353302, 0.6006100177764893, 0.6465640068054199, 0.6564960479736328, 0.8019551038742065, 0.790477991104126, 0.6467383503913879, 0.5886726379394531, 0.5628073215484619, 0.6399598717689514, 0.6301405429840088, 0.6281828880310059, 0.5786212682723999, 0.621171236038208, 0.6736655235290527, 0.6503212451934814, 0.6078736186027527, 0.5738976001739502, 0.577440619468689, 0.5916105508804321, 0.6675187349319458, 0.8185011744499207, 0.7738155722618103, 0.6900233626365662, 0.6763529777526855, 0.6746004819869995, 0.6395962834358215, 0.63371741771698, 0.5970302820205688, 0.6312098503112793, 0.6045975685119629, 0.5929550528526306, 0.5900492668151855, 0.614666759967804, 0.6461494565010071, 0.6367962956428528, 0.6214793920516968, 0.6331737637519836, 0.5936468839645386, 0.596085250377655, 0.5859851837158203, 0.6136616468429565, 0.6611172556877136, 0.7882130146026611, 0.7795915007591248, 0.6828378438949585, 0.6167288422584534, 0.6465461850166321, 0.690055787563324, 0.6474168300628662, 0.6557834148406982, 0.5991948843002319, 0.6051030158996582, 0.623454213142395, 0.6257190704345703, 0.6288493871688843, 0.6044333577156067, 0.624966561794281, 0.702113151550293, 0.7311620712280273, 0.6867847442626953, 0.6065929532051086, 0.5880392789840698, 0.5903834104537964, 0.6270864605903625, 0.6484674215316772, 0.6745542287826538, 0.6773348450660706, 0.6307138800621033, 0.657355785369873, 0.6190202832221985, 0.6025481224060059, 0.586835503578186, 0.5996041297912598, 0.5982100367546082, 0.6353111267089844, 0.6092934608459473, 0.6229698061943054, 0.6719620227813721, 0.7194855213165283, 0.7813854813575745, 0.6588989496231079, 0.6380137205123901, 0.6295769214630127, 0.6563625931739807, 0.6294589042663574, 0.6232536435127258, 0.5842596292495728, 0.6081703901290894, 0.5489275455474854, 0.5720920562744141, 0.5771573781967163, 0.5764179229736328, 0.5867037773132324, 0.6073722243309021, 0.6404821872711182, 0.720028281211853, 0.8045023679733276, 0.6981849670410156, 0.5881752967834473, 0.6183634400367737, 0.602333664894104, 0.6214854717254639, 0.6816796064376831, 0.6672422885894775, 0.6341642141342163, 0.6306220293045044, 0.5902555584907532, 0.6098942756652832, 0.6916989684104919, 0.7968980669975281, 0.7506611347198486, 0.7190638184547424, 0.7181181907653809, 0.6182965636253357, 0.5856354832649231, 0.6126618385314941, 0.7217482328414917, 0.7260190844535828, 0.7309455871582031, 0.6955093741416931, 0.6026098132133484, 0.5926218032836914, 0.5990258455276489, 0.6077889204025269, 0.5883035659790039, 0.5790078043937683, 0.5787845849990845, 0.556601345539093, 0.5948010683059692, 0.5909510850906372, 0.6454371213912964, 0.6608048677444458, 0.6331666707992554, 0.5739126205444336, 0.5696558952331543, 0.5971359014511108, 0.5813323855400085, 0.5858134627342224, 0.5916820764541626, 0.5675694942474365, 0.6174833178520203, 0.6200687289237976, 0.5283380746841431, 0.7473310828208923, 0.8287836313247681, 0.7639535665512085, 0.6446149945259094, 0.7186673879623413, 0.7460983991622925, 0.6483807563781738, 0.5707509517669678, 0.5927220582962036, 0.6048535704612732, 0.6246846318244934, 0.5883509516716003, 0.5665373802185059, 0.5683492422103882, 0.5669044256210327, 0.5786539316177368, 0.5860262513160706, 0.6768559813499451, 0.767898678779602, 0.9026666283607483, 0.7274408936500549, 0.6181573867797852, 0.63978111743927, 0.6150557994842529, 0.6242185831069946, 0.64451003074646, 0.6072542667388916, 0.5726286768913269, 0.5770590305328369, 0.5997779369354248, 0.6005401611328125, 0.5945165157318115, 0.5727267265319824, 0.5465474128723145, 0.5400285720825195, 0.5575405359268188, 0.5610742568969727, 0.5845537185668945, 0.6291802525520325, 0.8586270809173584, 0.9410035610198975, 0.7460951805114746, 0.6438761949539185, 0.5571218729019165, 0.5816755294799805, 0.5668927431106567, 0.6089567542076111, 0.5882542133331299, 0.5893161296844482, 0.5674291253089905, 0.576823353767395, 0.552696168422699, 0.5596739053726196, 0.589977502822876, 0.5991235971450806, 0.5455186367034912, 0.5273460149765015, 0.6426471471786499, 0.965806245803833, 1.098005771636963, 1.2102564573287964, 0.6098264455795288, 0.5545433759689331, 0.6078875064849854, 0.6655067801475525, 0.6127877235412598, 0.6338427066802979, 0.637447714805603, 0.6061183214187622, 0.5742870569229126, 0.5422245264053345, 0.5605837106704712, 0.6312744617462158, 0.615379810333252, 0.5861177444458008, 0.5815805196762085, 0.5651301145553589, 0.5985813140869141, 0.6469991207122803, 0.7216532230377197, 0.7592626810073853, 0.6651709079742432, 0.5909295678138733, 0.5533373951911926, 0.5670005083084106, 0.5299839973449707, 0.5950159430503845, 0.5945413112640381, 0.61568284034729, 0.5613223910331726, 0.5864880084991455, 0.5853642225265503, 0.7278789281845093, 0.9627821445465088, 1.0855772495269775, 0.6710345149040222, 0.6350191235542297, 0.6111816763877869, 0.6099646091461182, 0.5988908410072327, 0.585206151008606, 0.5887359380722046, 0.5946844220161438, 0.6363638043403625, 0.5599789619445801, 0.541132926940918, 0.5279685258865356, 0.5756345987319946, 0.566429853439331, 0.5655200481414795, 0.5649570226669312, 0.6151167154312134, 0.7536948919296265, 0.91475909948349, 0.802388608455658, 0.6305063962936401, 0.5716206431388855, 0.5542854070663452, 0.5902053117752075, 0.6010509729385376, 0.6355156898498535, 0.6186485290527344, 0.6360559463500977, 0.5798122882843018, 0.5743863582611084, 0.60442054271698, 0.7653322219848633, 0.7525746822357178, 0.7284201383590698, 0.6558757424354553, 0.5583717226982117, 0.6095502972602844, 0.5679260492324829, 0.5660567283630371, 0.5276204347610474, 0.5685468912124634, 0.5491112470626831, 0.5969998836517334, 0.6107829809188843, 0.5900347232818604, 0.572178304195404, 0.5761123895645142, 0.6277302503585815, 0.7101462483406067, 0.7554096579551697, 0.7595229148864746, 0.6394115686416626, 0.5965429544448853, 0.5795400142669678, 0.5647740364074707, 0.5675303936004639, 0.5595071911811829, 0.5977851152420044, 0.6045787334442139, 0.5758790969848633, 0.573969841003418, 0.6517695188522339, 0.6666012406349182, 0.6501832008361816, 0.594609797000885, 0.575882077217102, 0.5414828062057495, 0.5956385731697083, 0.5425641536712646, 0.5830957293510437, 0.6539474725723267, 0.6838313341140747, 0.7142382860183716, 0.6646490097045898, 0.5234696865081787, 0.566012442111969, 0.529377818107605, 0.5465735197067261, 0.5370801687240601, 0.5407901406288147, 0.5461958646774292, 0.5461826920509338, 0.5486752390861511, 0.5308151841163635, 0.5154169797897339, 0.5211175680160522, 0.6763128042221069, 1.128706693649292, 1.5106805562973022, 0.6435739994049072, 0.6829807758331299, 0.6575626134872437, 0.6874024868011475, 0.5948123931884766, 0.5884421467781067, 0.661552369594574, 0.60710608959198, 0.5932126045227051, 0.5998150706291199, 0.6097842454910278, 0.5922916531562805, 0.5504237413406372, 0.5443603992462158, 0.5574901103973389, 0.566387414932251, 0.5693604946136475, 0.5759629011154175, 0.7004395723342896, 0.7684820890426636, 0.7099332213401794, 0.6607497930526733, 0.5928829312324524, 0.5331889390945435, 0.5233568549156189, 0.5455438494682312, 0.5895982980728149, 0.5981115102767944, 0.5636849403381348, 0.572601854801178, 0.5588617920875549, 0.5501600503921509, 0.5652809739112854, 0.5492950677871704, 0.536338210105896, 0.548190712928772, 0.5331516861915588, 0.5270642042160034, 0.5402206182479858, 0.5332505106925964, 0.6245447397232056, 0.8115277886390686, 1.1394163370132446, 0.6328074932098389, 0.5360082387924194, 0.5876868963241577, 0.5387443900108337, 0.5190876722335815, 0.4679926335811615, 0.5048404335975647, 0.5108153820037842, 0.5435597896575928, 0.5709590911865234, 0.6014438271522522, 0.574726939201355, 0.6128524541854858, 0.5971609950065613, 0.6184675693511963, 0.5924559831619263, 0.5459630489349365, 0.5351947546005249, 0.5456807613372803, 0.5780430436134338, 0.6387872695922852, 0.5742372274398804, 0.6014798283576965, 0.6155489087104797, 0.581636905670166, 0.5203568339347839, 0.4760405719280243, 0.4287651479244232, 0.5181758403778076, 0.5271072387695312, 0.5594489574432373, 0.5915414094924927, 0.6068805456161499, 0.632675051689148, 0.618089497089386, 0.6474865078926086, 0.7543617486953735, 0.7163504362106323, 0.5401192903518677, 0.4891829788684845, 0.5115051865577698, 0.5301917791366577, 0.4994566738605499, 0.509560763835907, 0.5209596157073975, 0.5922118425369263, 0.7680056095123291, 0.7693590521812439, 0.5682687759399414, 0.5049653649330139, 0.5503560304641724, 0.513862133026123, 0.5134849548339844, 0.5386237502098083, 0.5722463726997375, 0.602006196975708, 0.5811421871185303, 0.5981356501579285, 0.6903531551361084, 0.6623265147209167, 0.6946374177932739, 0.6656593084335327, 0.6149327754974365, 0.5816614627838135, 0.49675309658050537, 0.5150619745254517, 0.4886210560798645, 0.5233489274978638, 0.5323564410209656, 0.5297647714614868, 0.5752267837524414, 0.654628336429596, 0.6920026540756226, 0.6176416277885437, 0.6018854379653931, 0.5951942801475525, 0.5250698924064636, 0.5685958862304688, 0.6083419919013977, 0.6064779758453369, 0.557207465171814, 0.5134938955307007, 0.5104779005050659, 0.5246649384498596, 0.5157942771911621, 0.4727764427661896, 0.44475317001342773, 0.49482759833335876, 0.5800110101699829, 0.6406157612800598, 0.8380729556083679, 0.5956940650939941, 0.5722852945327759, 0.740759551525116, 0.764060378074646, 0.626324474811554, 0.5904459953308105, 0.5630227327346802, 0.5008406043052673, 0.5174259543418884, 0.6023752689361572, 0.6900469660758972, 0.6735419034957886, 0.5163046717643738, 0.5080363750457764, 0.5291186571121216, 0.5422786474227905, 0.5436168313026428, 0.47195157408714294, 0.4740968346595764, 0.560870349407196, 0.6554827690124512, 0.7888011932373047, 0.6939427256584167, 0.49269911646842957, 0.4460802376270294, 0.5573506951332092, 0.7216770648956299, 0.8805716037750244, 0.7115610837936401, 0.43300849199295044, 0.5511486530303955, 0.5943626761436462, 0.5692151784896851, 0.5199993848800659, 0.4845317304134369, 0.538305401802063, 0.4812088906764984, 0.46089935302734375, 0.48446404933929443, 0.5040152072906494, 0.5054529309272766, 0.474692702293396, 0.49061739444732666, 0.5330609083175659, 0.5951595306396484, 0.654198408126831, 0.6809725761413574, 0.5539544224739075, 0.5734517574310303, 0.5988335013389587, 0.6257398724555969, 0.6407306790351868, 0.5917947292327881, 0.5815710425376892, 0.5300556421279907, 0.5183101296424866, 0.4688396751880646, 0.48987847566604614, 0.506672739982605, 0.49446821212768555, 0.5143615007400513, 0.5039664506912231, 0.5098888874053955, 0.5467627048492432, 0.5356600880622864, 0.5125626921653748, 0.5221721529960632, 0.6317633986473083, 0.6924771666526794, 0.7428326606750488, 0.6248049736022949, 0.5041136145591736, 0.4469822645187378, 0.4507642090320587, 0.5039019584655762, 0.562191903591156, 0.6818479299545288, 0.6840928792953491, 0.5914424657821655, 0.5634406805038452, 0.480376273393631, 0.4614678919315338, 0.5104655027389526, 0.5639079809188843, 0.5854490995407104, 0.5522122383117676, 0.5013999938964844, 0.4649193286895752, 0.41572004556655884, 0.47476494312286377, 0.6345810890197754, 0.8590428829193115, 0.6458615064620972, 0.756842315196991, 0.7403934001922607, 0.5405258536338806, 0.5606076717376709, 0.5273312926292419, 0.5095968842506409, 0.482888400554657, 0.47860100865364075, 0.512515664100647, 0.5018267631530762, 0.661600649356842, 0.9468509554862976, 0.8797491788864136, 0.48284557461738586, 0.46465855836868286, 0.5413210988044739, 0.5719069838523865, 0.5831414461135864, 0.60719895362854, 0.5988008975982666, 0.5805997848510742, 0.5361247658729553, 0.554139256477356, 0.5275892019271851, 0.4768671691417694, 0.4789067208766937, 0.439774751663208, 0.4479912519454956, 0.5564062595367432, 0.6030296683311462, 0.5946682691574097, 0.5061912536621094, 0.4035355746746063, 0.4998047649860382, 0.5387266874313354, 0.5473017692565918, 0.5007504820823669, 0.43008553981781006, 0.4847312569618225, 0.5106444954872131, 0.5557940006256104, 0.5109812617301941, 0.5535060167312622, 0.5790146589279175, 0.5645579099655151, 0.622503936290741, 0.48486584424972534, 0.4413905739784241, 0.4719889163970947, 0.5403605699539185, 0.48787444829940796, 0.4582006335258484, 0.5135504603385925, 0.5373762249946594, 0.48962774872779846, 0.47890499234199524, 0.46473777294158936, 0.5056171417236328, 0.5227734446525574, 0.6122565269470215, 0.8292641043663025, 0.5859692096710205, 0.6134944558143616, 0.7643916606903076, 0.7016383409500122, 0.5170380473136902, 0.46558740735054016, 0.495871365070343, 0.5104900002479553, 0.4816938042640686, 0.5132439136505127, 0.46134746074676514, 0.4730803668498993, 0.4728034734725952, 0.4469796419143677, 0.453981876373291, 0.48458120226860046, 0.5003531575202942, 0.5304869413375854, 0.5688576698303223, 0.6344168186187744, 0.7042036056518555, 0.4333520531654358, 0.4560081958770752, 0.6626538634300232, 0.7531129717826843, 0.7153342962265015, 0.4545605182647705, 0.4967237114906311, 0.5438113212585449, 0.48040634393692017, 0.4513278305530548, 0.5004122257232666, 0.5563520193099976, 0.5486435294151306, 0.5064220428466797, 0.4938868284225464, 0.4754432439804077, 0.4279238283634186, 0.3824470341205597, 0.3955586552619934, 0.4893259108066559, 0.5298541188240051, 0.5209386944770813, 0.4982796311378479, 0.5320656299591064, 0.5814613103866577, 0.5987370014190674, 0.7225972414016724, 0.7771457433700562, 0.7391965389251709, 0.5184190273284912, 0.48461809754371643, 0.5441462993621826, 0.4557660222053528, 0.3987009525299072, 0.4610559344291687, 0.46999990940093994, 0.4821934700012207, 0.5815456509590149, 0.7354526519775391, 0.7460601329803467, 0.6581782102584839, 0.4555349051952362, 0.46968740224838257, 0.6353621482849121, 0.7393969893455505, 0.5239193439483643, 0.40569186210632324, 0.5647227764129639, 0.49819013476371765, 0.49569427967071533, 0.4788742959499359, 0.45663851499557495, 0.4790923297405243, 0.4826386272907257, 0.5225248336791992, 0.49541550874710083, 0.4874391555786133, 0.46865907311439514, 0.41711723804473877, 0.4373648762702942, 0.4246096611022949, 0.48126697540283203, 0.5427560210227966, 0.5203412175178528, 0.5236072540283203, 0.4841972589492798, 0.44090384244918823, 0.420490026473999, 0.3912743926048279, 0.3940417766571045, 0.43211254477500916, 0.4129801392555237, 0.38175642490386963, 0.39207565784454346, 0.4056102931499481, 0.4113260507583618, 0.5273689031600952, 0.8653018474578857, 0.7215984463691711, 1.2549207210540771, 0.7974035739898682, 0.43170034885406494, 0.5607511401176453, 0.6956181526184082, 0.7115175127983093, 0.595909595489502, 0.40235161781311035, 0.40687933564186096, 0.4544147253036499, 0.5040194988250732, 0.48161807656288147, 0.475692480802536, 0.4225269854068756, 0.39535272121429443, 0.4801770746707916, 0.6283079385757446, 0.6883962750434875, 0.529680609703064, 0.4463898539543152, 0.48937147855758667, 0.5077734589576721, 0.4698050916194916, 0.4127519130706787, 0.42555707693099976, 0.4176119267940521, 0.4490043818950653, 0.4593707323074341, 0.49976223707199097, 0.649575412273407, 0.8575873374938965, 0.6585259437561035, 0.60426926612854, 0.485147088766098, 0.4453754425048828, 0.5333507061004639, 0.5996773838996887, 0.5143439769744873, 0.5318603515625, 0.5242022275924683, 0.46078452467918396, 0.4327414929866791, 0.4280604124069214, 0.4725513160228729, 0.4729049503803253, 0.518265426158905, 0.5022947788238525, 0.48432430624961853, 0.4612221121788025, 0.42752158641815186, 0.3991248309612274, 0.3995041847229004, 0.4380609095096588, 0.4341517686843872, 0.4562772214412689, 0.48367226123809814, 0.5418106317520142, 0.5922393202781677, 0.6675889492034912, 0.8438583612442017, 0.6142786145210266, 0.570734441280365, 0.4690396785736084, 0.45647743344306946, 0.4886626899242401, 0.5766969323158264, 0.4918573498725891, 0.41306430101394653, 0.4447799623012543, 0.44362902641296387, 0.47682908177375793, 0.48254525661468506, 0.5745301842689514, 0.6341317296028137, 0.6194962859153748, 0.5816221237182617, 0.42076724767684937, 0.4509911835193634, 0.523452639579773, 0.5138863325119019, 0.48175370693206787, 0.45960375666618347, 0.43745851516723633, 0.4245307147502899, 0.40520358085632324, 0.42212575674057007, 0.45407599210739136, 0.46784740686416626, 0.4781455099582672, 0.4309749901294708, 0.4096653461456299, 0.37562254071235657, 0.3704819083213806, 0.37941044569015503, 0.3908492922782898, 0.42456406354904175, 0.5563634037971497, 0.7609401345252991, 1.142663836479187, 0.6028614044189453, 0.4791741371154785, 0.49933433532714844, 0.4742732048034668, 0.4360860586166382, 0.43926283717155457, 0.4046826958656311, 0.4216062128543854, 0.4667167067527771, 0.48008549213409424, 0.5148599743843079, 0.6147452592849731, 0.7952311635017395, 0.7146590948104858, 0.4344884157180786, 0.4770793318748474, 0.6628715395927429, 0.7626921534538269, 0.8938128352165222, 0.4105263948440552, 0.5820480585098267, 0.7421778440475464, 0.7091668844223022, 0.49254921078681946, 0.43897369503974915, 0.4434371590614319, 0.4111347496509552, 0.4302762448787689, 0.4755042791366577, 0.48499393463134766, 0.5091214179992676, 0.5054163932800293, 0.5846105217933655, 0.49700629711151123, 0.4310518801212311, 0.4221518039703369, 0.4204442501068115, 0.4341784715652466, 0.4381311535835266, 0.4887135624885559, 0.4648086428642273, 0.4395468235015869, 0.39010515809059143, 0.4047401547431946, 0.42775759100914, 0.5042827129364014, 0.547216534614563, 0.534366250038147, 0.49740105867385864, 0.4709978997707367, 0.47378015518188477, 0.4743668735027313, 0.44335854053497314, 0.428250789642334, 0.41156870126724243, 0.4288100004196167, 0.4658282399177551, 0.4899599552154541, 0.5122731924057007, 0.4413032829761505, 0.40255406498908997, 0.38507193326950073, 0.4178527593612671, 0.4588274359703064, 0.5835241675376892, 0.5413380861282349, 0.5571052432060242, 0.7194785475730896, 0.8057548999786377, 0.444738507270813, 0.4090094566345215, 0.4718446433544159, 0.5160101056098938, 0.6169776916503906, 0.5094830989837646, 0.36936816573143005, 0.5355958938598633, 0.6188989877700806, 0.5080487132072449, 0.4665466845035553, 0.5031523704528809, 0.5378908514976501, 0.6413705945014954, 0.6965701580047607, 0.5241779088973999, 0.3870256543159485, 0.5137707591056824, 0.4526556134223938, 0.4668506979942322, 0.49966347217559814, 0.43877655267715454, 0.40427905321121216, 0.3825964629650116, 0.378894567489624, 0.36917656660079956, 0.4454611539840698, 0.7167437076568604, 0.7454220056533813, 0.8183073401451111, 0.4015636742115021, 0.5545458793640137, 0.7749052047729492, 0.6042414307594299, 0.44646281003952026, 0.43012934923171997, 0.48435577750205994, 0.47879940271377563, 0.49392518401145935, 0.492883563041687, 0.48648661375045776, 0.4297257661819458, 0.41120243072509766, 0.4133017957210541, 0.4189457893371582, 0.4929520785808563, 0.45563989877700806, 0.46849068999290466, 0.5073285102844238, 0.5651721954345703, 0.5972582101821899, 0.42687690258026123, 0.39677754044532776, 0.4165845513343811, 0.412262499332428, 0.3955536484718323, 0.4006790816783905, 0.44743865728378296, 0.5688312649726868, 0.795772135257721, 1.0795789957046509, 0.5128299593925476, 0.4299924969673157, 0.43544527888298035, 0.47449618577957153, 0.46787524223327637, 0.4988325238227844, 0.47050583362579346, 0.4767833948135376, 0.4308146834373474, 0.5076732635498047, 0.5358215570449829, 0.482826292514801, 0.43699729442596436, 0.44674378633499146, 0.4580534100532532, 0.4633583724498749, 0.47772884368896484, 0.576562762260437, 0.990659236907959, 0.7686305046081543, 0.5365027189254761, 0.3700006902217865, 0.5340644121170044, 0.5099794864654541, 0.4191993772983551, 0.46569544076919556, 0.4676014482975006, 0.4802677035331726, 0.4614694118499756, 0.4271191358566284, 0.4356313943862915, 0.42424893379211426, 0.4376378655433655, 0.472713828086853, 0.45920929312705994, 0.4710958003997803, 0.4823804497718811, 0.47787991166114807, 0.47529542446136475, 0.4474930465221405, 0.38017451763153076, 0.39542341232299805, 0.4352123737335205, 0.4680865705013275, 0.4473925828933716, 0.4618145227432251, 0.4160591959953308, 0.4213671088218689, 0.36223602294921875, 0.583344578742981, 0.8472516536712646, 0.3677278459072113, 0.6317062973976135, 1.0678927898406982, 0.605010449886322, 0.43813014030456543, 0.5092153549194336, 0.5566213130950928, 0.49813133478164673, 0.4822382926940918, 0.43190640211105347, 0.43513157963752747, 0.45341718196868896, 0.44090181589126587, 0.43106555938720703, 0.5140345096588135, 0.5844663977622986, 0.6187038421630859, 0.5630477070808411, 0.44724732637405396, 0.4977327883243561, 0.6810754537582397, 0.7390705943107605, 0.7795099020004272, 0.452837735414505, 0.4101727604866028, 0.5617091655731201, 0.6521588563919067, 0.5618623495101929, 0.4340282678604126, 0.5030543208122253, 0.519951581954956, 0.5273587703704834, 0.45033422112464905, 0.4181051254272461, 0.3882651627063751, 0.4523293375968933, 0.45465484261512756, 0.46847009658813477, 0.43432486057281494, 0.44646862149238586, 0.43911975622177124, 0.42488205432891846, 0.3980869650840759, 0.40601229667663574, 0.42731913924217224, 0.47498348355293274, 0.49143290519714355, 0.5188155770301819, 0.5515923500061035, 0.49350300431251526, 0.4425962567329407, 0.4167436957359314, 0.45536744594573975, 0.548805832862854, 0.5645236968994141, 0.5405244827270508, 0.4636581838130951, 0.4201117753982544, 0.38228851556777954, 0.38061362504959106, 0.4028739035129547, 0.4500744640827179, 0.500485897064209, 0.5222383141517639, 0.45727044343948364, 0.3691665530204773, 0.40534472465515137, 0.43016570806503296, 0.4192907214164734, 0.4143342971801758, 0.39068803191185, 0.42825835943222046, 0.4460107982158661, 0.3984793424606323, 0.3853219151496887, 0.4099094569683075, 0.4560045003890991, 0.48515385389328003, 0.5418724417686462, 0.6093475818634033, 0.6635382175445557, 0.5088517665863037, 0.4508727788925171, 0.38765114545822144, 0.4042622745037079, 0.4038534462451935, 0.4124907851219177, 0.3491264581680298, 0.4002429246902466, 0.4139622151851654, 0.4258381724357605, 0.5013272762298584, 0.5903334617614746, 0.4009788930416107, 0.44910264015197754, 0.5234052538871765, 0.5287237167358398, 0.5269133448600769, 0.4338480532169342, 0.4369237422943115, 0.5490031242370605, 0.639532208442688, 0.6604576706886292, 0.3968958258628845, 0.5435499548912048, 0.8737932443618774, 0.48875659704208374, 0.4294287860393524, 0.4839639663696289, 0.6150728464126587, 0.6583870649337769, 0.5997138619422913, 0.43747478723526, 0.4891611933708191, 0.5587551593780518, 0.6173391938209534, 0.53617924451828, 0.3680962920188904, 0.534168004989624, 0.5833014249801636, 0.4800088107585907, 0.5150632262229919, 0.5486732721328735, 0.5869730710983276, 0.5040405988693237, 0.4407530725002289, 0.4331328570842743, 0.44485771656036377, 0.4428854286670685, 0.43096885085105896, 0.39296770095825195, 0.41106998920440674, 0.46301406621932983, 0.44522252678871155, 0.4793083071708679, 0.5062866806983948, 0.4411212205886841, 0.35587912797927856, 0.4229249954223633, 0.4496617019176483, 0.4894731938838959, 0.5391337871551514, 0.5766607522964478, 0.7087299227714539, 0.5096523761749268, 0.3835659325122833, 0.389806866645813, 0.5274940729141235, 0.48205530643463135, 0.47496551275253296, 0.4837452173233032, 0.5296928882598877, 0.6795443892478943, 0.6348727941513062, 0.4153696894645691, 0.5922542810440063, 0.9195531010627747, 0.5114367008209229, 0.5310387015342712, 0.7218484878540039, 0.7037749886512756, 0.4692429304122925, 0.4033966660499573, 0.4339476227760315, 0.46224117279052734, 0.5127612948417664, 0.5898173451423645, 0.4000827968120575, 0.4553229808807373, 0.6683659553527832, 0.5620969533920288, 0.45921123027801514, 0.46391257643699646, 0.48072412610054016, 0.508736252784729, 0.4584200084209442, 0.40907031297683716, 0.41042280197143555, 0.3930857479572296, 0.42989009618759155, 0.4974502921104431, 0.5073415637016296, 0.4865185618400574, 0.4128425717353821, 0.36859673261642456, 0.4122432470321655, 0.39116042852401733, 0.3801448941230774, 0.41655582189559937, 0.39389821887016296, 0.39802414178848267, 0.42257553339004517, 0.5759865045547485, 0.677571713924408, 0.8747742176055908, 0.4196048974990845, 0.5944104194641113, 0.7170672416687012, 0.4946432411670685, 0.49235448241233826, 0.5377271175384521, 0.5538554787635803, 0.4437420964241028, 0.41086500883102417, 0.4627188444137573, 0.4590812921524048, 0.44312232732772827, 0.45231419801712036, 0.4464092254638672, 0.45766010880470276, 0.44757527112960815, 0.566847562789917, 0.6334362030029297, 0.5300358533859253, 0.4512994885444641, 0.4441204071044922, 0.4278997480869293, 0.40306007862091064, 0.42031389474868774, 0.41669341921806335, 0.4263952076435089, 0.47740739583969116, 0.47294333577156067, 0.4247280955314636, 0.3872509002685547, 0.3880755603313446, 0.3703451156616211, 0.4039989113807678, 0.3931346535682678, 0.42803674936294556, 0.4042476415634155, 0.38375985622406006, 0.3580944538116455, 0.35088756680488586, 0.4311258792877197, 0.6568031311035156, 0.8284481763839722, 1.3876155614852905, 0.4184454679489136, 0.6688624620437622, 0.9917674660682678, 0.6234038472175598, 0.4247119426727295, 0.45211562514305115, 0.4962548613548279, 0.4812254309654236, 0.45805391669273376, 0.4491848349571228, 0.4277533292770386, 0.438591867685318, 0.45269668102264404, 0.44858303666114807, 0.4555124342441559, 0.47381454706192017, 0.46325111389160156, 0.4701554775238037, 0.43162110447883606, 0.435531884431839, 0.39460664987564087, 0.384412944316864, 0.4384509325027466, 0.4627230763435364, 0.6145305633544922, 0.8201563954353333, 0.7752113938331604, 0.3879655599594116, 0.5670170783996582, 0.5066835284233093, 0.4570419490337372, 0.4265232980251312, 0.45195117592811584, 0.4685886800289154, 0.4940023124217987, 0.6184120178222656, 0.6462469100952148, 0.4988567531108856, 0.44449618458747864, 0.39991065859794617, 0.4045192301273346, 0.42884230613708496, 0.4397675096988678, 0.4547593593597412, 0.4705445170402527, 0.5417225360870361, 0.653490424156189, 0.5247136950492859, 0.48885878920555115, 0.5501583814620972, 0.6127486228942871, 0.6022107005119324, 0.5225369930267334, 0.42886462807655334, 0.44652050733566284, 0.43257856369018555, 0.44894492626190186, 0.4296126961708069, 0.38619327545166016, 0.38608837127685547, 0.39040571451187134, 0.3928069472312927, 0.3847660422325134, 0.42906323075294495, 0.4686535596847534, 0.4212276339530945, 0.3955828547477722, 0.4049542546272278, 0.4331744909286499, 0.3997573256492615, 0.38427507877349854, 0.4031549096107483, 0.39131826162338257, 0.40618085861206055, 0.38147518038749695, 0.3638739287853241, 0.41336071491241455, 0.427808940410614, 0.43593183159828186, 0.4399391710758209, 0.44800442457199097, 0.42437461018562317, 0.3796917796134949, 0.3631310760974884, 0.35189226269721985, 0.3985406160354614, 0.46266689896583557, 0.3655533194541931, 0.44629427790641785, 0.6072958707809448, 0.45558038353919983, 0.38615232706069946, 0.3806849420070648, 0.447776734828949, 0.6635439991950989, 0.7812669277191162, 1.0107862949371338, 0.5551950931549072, 0.41172176599502563, 0.47545093297958374, 0.5708973407745361, 0.54170823097229, 0.47149619460105896, 0.4513496160507202, 0.45061156153678894, 0.4353310763835907, 0.5010429620742798, 0.5316836833953857, 0.5617452263832092, 0.480187326669693, 0.42306363582611084, 0.4638519287109375, 0.43339717388153076, 0.4910290539264679, 0.6140903234481812, 0.5005743503570557, 0.41777509450912476, 0.46382710337638855, 0.6122311353683472, 0.7812429070472717, 0.8266505002975464, 0.47437262535095215, 0.4244415760040283, 0.43926936388015747, 0.457741916179657, 0.4562576115131378, 0.46715545654296875, 0.6953366994857788, 0.8834291696548462, 0.5381571054458618, 0.397172212600708, 0.43778783082962036, 0.5533673763275146, 0.5705384016036987, 0.5047861337661743, 0.46414807438850403, 0.49410417675971985, 0.46000364422798157, 0.46747225522994995, 0.5027855634689331, 0.6185132265090942, 0.7007195353507996, 0.5501137375831604, 0.4604647159576416, 0.4274117946624756, 0.4139097332954407, 0.4407181739807129, 0.42683982849121094, 0.4699828028678894, 0.4856201708316803, 0.44109272956848145, 0.3940945863723755, 0.430355429649353, 0.5289421081542969, 0.6689714193344116, 0.8997113108634949, 0.550836443901062, 0.4153773784637451, 0.42187127470970154, 0.4504101276397705, 0.4263189435005188, 0.4694632291793823, 0.43664371967315674, 0.4391590356826782, 0.42525166273117065, 0.40128523111343384, 0.4086841940879822, 0.3971993923187256, 0.482761025428772, 0.577925443649292, 0.5900861620903015, 0.56448894739151, 0.4303045868873596, 0.39617133140563965, 0.4365660846233368, 0.44390541315078735, 0.4256604313850403, 0.4430712163448334, 0.5660759806632996, 0.7685494422912598, 0.7483032941818237, 0.7201396226882935, 0.42919933795928955, 0.3966212272644043, 0.4586579203605652, 0.5838556289672852, 0.5595256090164185, 0.4888767898082733, 0.4297003149986267, 0.46897587180137634, 0.5629396438598633, 0.5966455936431885, 0.4863090217113495, 0.4397571384906769, 0.4792388677597046, 0.4545159339904785, 0.40760961174964905, 0.39031124114990234, 0.3818913698196411, 0.42564335465431213, 0.4371471703052521, 0.4649432599544525, 0.476069837808609, 0.4548049569129944, 0.4084942638874054, 0.39271506667137146, 0.40200066566467285, 0.3724898397922516, 0.3842223584651947, 0.416806161403656, 0.4061209559440613, 0.3920167088508606, 0.396278977394104, 0.37091001868247986, 0.3829062283039093, 0.36330264806747437, 0.3679487705230713, 0.40274035930633545, 0.45740288496017456, 0.4720141887664795, 0.4028812646865845, 0.3430345058441162, 0.37575551867485046, 0.4124518632888794, 0.38269245624542236, 0.3899775743484497, 0.4806012213230133, 0.6270685195922852, 0.7331529259681702, 0.5435200929641724, 0.5063163042068481, 0.5023235082626343, 0.5618115663528442, 0.5150441527366638, 0.4431285560131073, 0.5741389989852905, 0.4344562888145447, 0.3928934633731842, 0.43102145195007324, 0.6317287683486938, 0.7908375263214111, 0.5929984450340271, 0.4636179804801941, 0.3862563967704773, 0.39165836572647095, 0.438995897769928, 0.437076210975647, 0.443202406167984, 0.43710026144981384, 0.43485701084136963, 0.40109163522720337, 0.3845190405845642, 0.45459121465682983, 0.5411499738693237, 0.565261721611023, 0.561894416809082, 0.5201171636581421, 0.44374653697013855, 0.4358175992965698, 0.40338775515556335, 0.39633670449256897, 0.4010365605354309, 0.39621996879577637, 0.39081519842147827, 0.37944361567497253, 0.38262540102005005, 0.47737228870391846, 0.5089927911758423, 0.4278757870197296, 0.38072043657302856, 0.4161446690559387, 0.4526202082633972, 0.4650912880897522, 0.5303488969802856, 0.5930184125900269, 0.5365375280380249, 0.5577043294906616, 0.49990564584732056, 0.392153799533844, 0.3624906539916992, 0.4138512909412384, 0.44581422209739685, 0.44472092390060425, 0.4037972390651703, 0.4189640283584595, 0.5375145673751831, 0.5591275691986084, 0.40095293521881104, 0.45641547441482544, 0.7248839139938354, 0.6860990524291992, 0.516055703163147, 0.41678357124328613, 0.41668981313705444, 0.4610830843448639, 0.4230194091796875, 0.5205239057540894, 0.7327065467834473, 0.7023279666900635, 0.40951043367385864, 0.40255242586135864, 0.4310239851474762, 0.4748852252960205, 0.5372638702392578, 0.5738812685012817, 0.5047183036804199, 0.4082340598106384, 0.45505446195602417, 0.3892562687397003, 0.3778284788131714, 0.3772861063480377, 0.377796471118927, 0.3777485489845276, 0.4007055461406708, 0.3841312527656555, 0.39767026901245117, 0.40575289726257324, 0.38851988315582275, 0.4393467307090759, 0.5548451542854309, 0.4800674319267273, 0.4056072235107422, 0.679120659828186, 0.8620661497116089, 1.050587773323059, 0.4222141206264496, 0.5036040544509888, 0.7582560777664185, 1.0170774459838867, 0.4614444971084595, 0.4774959087371826, 0.48179784417152405, 0.610811710357666, 0.5292096734046936, 0.6702558398246765, 0.5048588514328003, 0.402407169342041, 0.42814797163009644, 0.519772469997406, 0.4395357370376587, 0.5070376992225647, 0.6368939876556396, 0.5557264089584351, 0.396007776260376, 0.47360706329345703, 0.5509412884712219, 0.502582311630249, 0.42179080843925476, 0.4126282036304474, 0.43040305376052856, 0.4249306321144104, 0.4683905243873596, 0.4281710684299469, 0.4445723593235016, 0.4177342355251312, 0.3873705267906189, 0.37002456188201904, 0.35123342275619507, 0.4030224680900574, 0.479839026927948, 0.5271438956260681, 0.38034626841545105, 0.43711668252944946, 0.5063716173171997, 0.4197307825088501, 0.3717185854911804, 0.3871275782585144, 0.40800535678863525, 0.4664183259010315, 0.4607129693031311, 0.42011481523513794, 0.3945924639701843, 0.3681049346923828, 0.37726807594299316, 0.39429807662963867, 0.47707393765449524, 0.6332247257232666, 0.6591928005218506, 0.7837270498275757, 0.5518629550933838, 0.4184257984161377, 0.5581110715866089, 0.6542751789093018, 0.627800703048706, 0.45839518308639526, 0.43649303913116455, 0.4160228669643402, 0.4165172874927521, 0.46138352155685425, 0.5128211379051208, 0.48612457513809204, 0.39372652769088745, 0.41328373551368713, 0.39685091376304626, 0.3731040060520172, 0.39174339175224304, 0.4174897074699402, 0.49517425894737244, 0.6624559760093689, 0.5979708433151245, 0.49576395750045776, 0.4380611777305603, 0.4208138585090637, 0.49906402826309204, 0.5658341646194458, 0.542392909526825, 0.3878570795059204, 0.3938588500022888, 0.40696316957473755, 0.4195530414581299, 0.46358969807624817, 0.46794813871383667, 0.4748629331588745, 0.6235510110855103, 0.6414976119995117, 0.5620251893997192, 0.4119831919670105, 0.42380863428115845]}],\n",
              "                        {\"height\": 500, \"template\": {\"data\": {\"bar\": [{\"error_x\": {\"color\": \"#2a3f5f\"}, \"error_y\": {\"color\": \"#2a3f5f\"}, \"marker\": {\"line\": {\"color\": \"#E5ECF6\", \"width\": 0.5}}, \"type\": \"bar\"}], \"barpolar\": [{\"marker\": {\"line\": {\"color\": \"#E5ECF6\", \"width\": 0.5}}, \"type\": \"barpolar\"}], \"carpet\": [{\"aaxis\": {\"endlinecolor\": \"#2a3f5f\", \"gridcolor\": \"white\", \"linecolor\": \"white\", \"minorgridcolor\": \"white\", \"startlinecolor\": \"#2a3f5f\"}, \"baxis\": {\"endlinecolor\": \"#2a3f5f\", \"gridcolor\": \"white\", \"linecolor\": \"white\", \"minorgridcolor\": \"white\", \"startlinecolor\": \"#2a3f5f\"}, \"type\": \"carpet\"}], \"choropleth\": [{\"colorbar\": {\"outlinewidth\": 0, \"ticks\": \"\"}, \"type\": \"choropleth\"}], \"contour\": [{\"colorbar\": {\"outlinewidth\": 0, \"ticks\": \"\"}, \"colorscale\": [[0.0, \"#0d0887\"], [0.1111111111111111, \"#46039f\"], [0.2222222222222222, \"#7201a8\"], [0.3333333333333333, \"#9c179e\"], [0.4444444444444444, \"#bd3786\"], [0.5555555555555556, \"#d8576b\"], [0.6666666666666666, \"#ed7953\"], [0.7777777777777778, \"#fb9f3a\"], [0.8888888888888888, \"#fdca26\"], [1.0, \"#f0f921\"]], \"type\": \"contour\"}], \"contourcarpet\": [{\"colorbar\": {\"outlinewidth\": 0, \"ticks\": \"\"}, \"type\": \"contourcarpet\"}], \"heatmap\": [{\"colorbar\": {\"outlinewidth\": 0, \"ticks\": \"\"}, \"colorscale\": [[0.0, \"#0d0887\"], [0.1111111111111111, \"#46039f\"], [0.2222222222222222, \"#7201a8\"], [0.3333333333333333, \"#9c179e\"], [0.4444444444444444, \"#bd3786\"], [0.5555555555555556, \"#d8576b\"], [0.6666666666666666, \"#ed7953\"], [0.7777777777777778, \"#fb9f3a\"], [0.8888888888888888, \"#fdca26\"], [1.0, \"#f0f921\"]], \"type\": \"heatmap\"}], \"heatmapgl\": [{\"colorbar\": {\"outlinewidth\": 0, \"ticks\": \"\"}, \"colorscale\": [[0.0, \"#0d0887\"], [0.1111111111111111, \"#46039f\"], [0.2222222222222222, \"#7201a8\"], [0.3333333333333333, \"#9c179e\"], [0.4444444444444444, \"#bd3786\"], [0.5555555555555556, \"#d8576b\"], [0.6666666666666666, \"#ed7953\"], [0.7777777777777778, \"#fb9f3a\"], [0.8888888888888888, \"#fdca26\"], [1.0, \"#f0f921\"]], \"type\": \"heatmapgl\"}], \"histogram\": [{\"marker\": {\"colorbar\": {\"outlinewidth\": 0, \"ticks\": \"\"}}, \"type\": \"histogram\"}], \"histogram2d\": [{\"colorbar\": {\"outlinewidth\": 0, \"ticks\": \"\"}, \"colorscale\": [[0.0, \"#0d0887\"], [0.1111111111111111, \"#46039f\"], [0.2222222222222222, \"#7201a8\"], [0.3333333333333333, \"#9c179e\"], [0.4444444444444444, \"#bd3786\"], [0.5555555555555556, \"#d8576b\"], [0.6666666666666666, \"#ed7953\"], [0.7777777777777778, \"#fb9f3a\"], [0.8888888888888888, \"#fdca26\"], [1.0, \"#f0f921\"]], \"type\": \"histogram2d\"}], \"histogram2dcontour\": [{\"colorbar\": {\"outlinewidth\": 0, \"ticks\": \"\"}, \"colorscale\": [[0.0, \"#0d0887\"], [0.1111111111111111, \"#46039f\"], [0.2222222222222222, \"#7201a8\"], [0.3333333333333333, \"#9c179e\"], [0.4444444444444444, \"#bd3786\"], [0.5555555555555556, \"#d8576b\"], [0.6666666666666666, \"#ed7953\"], [0.7777777777777778, \"#fb9f3a\"], [0.8888888888888888, \"#fdca26\"], [1.0, \"#f0f921\"]], \"type\": \"histogram2dcontour\"}], \"mesh3d\": [{\"colorbar\": {\"outlinewidth\": 0, \"ticks\": \"\"}, \"type\": \"mesh3d\"}], \"parcoords\": [{\"line\": {\"colorbar\": {\"outlinewidth\": 0, \"ticks\": \"\"}}, \"type\": \"parcoords\"}], \"pie\": [{\"automargin\": true, \"type\": \"pie\"}], \"scatter\": [{\"marker\": {\"colorbar\": {\"outlinewidth\": 0, \"ticks\": \"\"}}, \"type\": \"scatter\"}], \"scatter3d\": [{\"line\": {\"colorbar\": {\"outlinewidth\": 0, \"ticks\": \"\"}}, \"marker\": {\"colorbar\": {\"outlinewidth\": 0, \"ticks\": \"\"}}, \"type\": \"scatter3d\"}], \"scattercarpet\": [{\"marker\": {\"colorbar\": {\"outlinewidth\": 0, \"ticks\": \"\"}}, \"type\": \"scattercarpet\"}], \"scattergeo\": [{\"marker\": {\"colorbar\": {\"outlinewidth\": 0, \"ticks\": \"\"}}, \"type\": \"scattergeo\"}], \"scattergl\": [{\"marker\": {\"colorbar\": {\"outlinewidth\": 0, \"ticks\": \"\"}}, \"type\": \"scattergl\"}], \"scattermapbox\": [{\"marker\": {\"colorbar\": {\"outlinewidth\": 0, \"ticks\": \"\"}}, \"type\": \"scattermapbox\"}], \"scatterpolar\": [{\"marker\": {\"colorbar\": {\"outlinewidth\": 0, \"ticks\": \"\"}}, \"type\": \"scatterpolar\"}], \"scatterpolargl\": [{\"marker\": {\"colorbar\": {\"outlinewidth\": 0, \"ticks\": \"\"}}, \"type\": \"scatterpolargl\"}], \"scatterternary\": [{\"marker\": {\"colorbar\": {\"outlinewidth\": 0, \"ticks\": \"\"}}, \"type\": \"scatterternary\"}], \"surface\": [{\"colorbar\": {\"outlinewidth\": 0, \"ticks\": \"\"}, \"colorscale\": [[0.0, \"#0d0887\"], [0.1111111111111111, \"#46039f\"], [0.2222222222222222, \"#7201a8\"], [0.3333333333333333, \"#9c179e\"], [0.4444444444444444, \"#bd3786\"], [0.5555555555555556, \"#d8576b\"], [0.6666666666666666, \"#ed7953\"], [0.7777777777777778, \"#fb9f3a\"], [0.8888888888888888, \"#fdca26\"], [1.0, \"#f0f921\"]], \"type\": \"surface\"}], \"table\": [{\"cells\": {\"fill\": {\"color\": \"#EBF0F8\"}, \"line\": {\"color\": \"white\"}}, \"header\": {\"fill\": {\"color\": \"#C8D4E3\"}, \"line\": {\"color\": \"white\"}}, \"type\": \"table\"}]}, \"layout\": {\"annotationdefaults\": {\"arrowcolor\": \"#2a3f5f\", \"arrowhead\": 0, \"arrowwidth\": 1}, \"coloraxis\": {\"colorbar\": {\"outlinewidth\": 0, \"ticks\": \"\"}}, \"colorscale\": {\"diverging\": [[0, \"#8e0152\"], [0.1, \"#c51b7d\"], [0.2, \"#de77ae\"], [0.3, \"#f1b6da\"], [0.4, \"#fde0ef\"], [0.5, \"#f7f7f7\"], [0.6, \"#e6f5d0\"], [0.7, \"#b8e186\"], [0.8, \"#7fbc41\"], [0.9, \"#4d9221\"], [1, \"#276419\"]], \"sequential\": [[0.0, \"#0d0887\"], [0.1111111111111111, \"#46039f\"], [0.2222222222222222, \"#7201a8\"], [0.3333333333333333, \"#9c179e\"], [0.4444444444444444, \"#bd3786\"], [0.5555555555555556, \"#d8576b\"], [0.6666666666666666, \"#ed7953\"], [0.7777777777777778, \"#fb9f3a\"], [0.8888888888888888, \"#fdca26\"], [1.0, \"#f0f921\"]], \"sequentialminus\": [[0.0, \"#0d0887\"], [0.1111111111111111, \"#46039f\"], [0.2222222222222222, \"#7201a8\"], [0.3333333333333333, \"#9c179e\"], [0.4444444444444444, \"#bd3786\"], [0.5555555555555556, \"#d8576b\"], [0.6666666666666666, \"#ed7953\"], [0.7777777777777778, \"#fb9f3a\"], [0.8888888888888888, \"#fdca26\"], [1.0, \"#f0f921\"]]}, \"colorway\": [\"#636efa\", \"#EF553B\", \"#00cc96\", \"#ab63fa\", \"#FFA15A\", \"#19d3f3\", \"#FF6692\", \"#B6E880\", \"#FF97FF\", \"#FECB52\"], \"font\": {\"color\": \"#2a3f5f\"}, \"geo\": {\"bgcolor\": \"white\", \"lakecolor\": \"white\", \"landcolor\": \"#E5ECF6\", \"showlakes\": true, \"showland\": true, \"subunitcolor\": \"white\"}, \"hoverlabel\": {\"align\": \"left\"}, \"hovermode\": \"closest\", \"mapbox\": {\"style\": \"light\"}, \"paper_bgcolor\": \"white\", \"plot_bgcolor\": \"#E5ECF6\", \"polar\": {\"angularaxis\": {\"gridcolor\": \"white\", \"linecolor\": \"white\", \"ticks\": \"\"}, \"bgcolor\": \"#E5ECF6\", \"radialaxis\": {\"gridcolor\": \"white\", \"linecolor\": \"white\", \"ticks\": \"\"}}, \"scene\": {\"xaxis\": {\"backgroundcolor\": \"#E5ECF6\", \"gridcolor\": \"white\", \"gridwidth\": 2, \"linecolor\": \"white\", \"showbackground\": true, \"ticks\": \"\", \"zerolinecolor\": \"white\"}, \"yaxis\": {\"backgroundcolor\": \"#E5ECF6\", \"gridcolor\": \"white\", \"gridwidth\": 2, \"linecolor\": \"white\", \"showbackground\": true, \"ticks\": \"\", \"zerolinecolor\": \"white\"}, \"zaxis\": {\"backgroundcolor\": \"#E5ECF6\", \"gridcolor\": \"white\", \"gridwidth\": 2, \"linecolor\": \"white\", \"showbackground\": true, \"ticks\": \"\", \"zerolinecolor\": \"white\"}}, \"shapedefaults\": {\"line\": {\"color\": \"#2a3f5f\"}}, \"ternary\": {\"aaxis\": {\"gridcolor\": \"white\", \"linecolor\": \"white\", \"ticks\": \"\"}, \"baxis\": {\"gridcolor\": \"white\", \"linecolor\": \"white\", \"ticks\": \"\"}, \"bgcolor\": \"#E5ECF6\", \"caxis\": {\"gridcolor\": \"white\", \"linecolor\": \"white\", \"ticks\": \"\"}}, \"title\": {\"x\": 0.05}, \"xaxis\": {\"automargin\": true, \"gridcolor\": \"white\", \"linecolor\": \"white\", \"ticks\": \"\", \"title\": {\"standoff\": 15}, \"zerolinecolor\": \"white\", \"zerolinewidth\": 2}, \"yaxis\": {\"automargin\": true, \"gridcolor\": \"white\", \"linecolor\": \"white\", \"ticks\": \"\", \"title\": {\"standoff\": 15}, \"zerolinecolor\": \"white\", \"zerolinewidth\": 2}}}, \"title\": {\"text\": \"Train vs. Test Discriminator Loss\"}, \"width\": 1000, \"xaxis\": {\"title\": {\"text\": \"Number of training examples seen\"}}, \"yaxis\": {\"title\": {\"text\": \"Adversarial Loss\"}}},\n",
              "                        {\"responsive\": true}\n",
              "                    ).then(function(){\n",
              "                            \n",
              "var gd = document.getElementById('c935b3cd-1b50-4bc0-9136-7c8c30126a38');\n",
              "var x = new MutationObserver(function (mutations, observer) {{\n",
              "        var display = window.getComputedStyle(gd).display;\n",
              "        if (!display || display === 'none') {{\n",
              "            console.log([gd, 'removed!']);\n",
              "            Plotly.purge(gd);\n",
              "            observer.disconnect();\n",
              "        }}\n",
              "}});\n",
              "\n",
              "// Listen for the removal of the full notebook cells\n",
              "var notebookContainer = gd.closest('#notebook-container');\n",
              "if (notebookContainer) {{\n",
              "    x.observe(notebookContainer, {childList: true});\n",
              "}}\n",
              "\n",
              "// Listen for the clearing of the current output cell\n",
              "var outputEl = gd.closest('.output');\n",
              "if (outputEl) {{\n",
              "    x.observe(outputEl, {childList: true});\n",
              "}}\n",
              "\n",
              "                        })\n",
              "                };\n",
              "                \n",
              "            </script>\n",
              "        </div>\n",
              "</body>\n",
              "</html>"
            ]
          },
          "metadata": {
            "tags": []
          }
        }
      ]
    },
    {
      "cell_type": "code",
      "metadata": {
        "id": "ySOs7jSfSYGB"
      },
      "source": [
        "target = torch.zeros((1,10,1,1)).to(device)\n",
        "target[:,4:6,:,:] = 1 ## modify the indexes here to get the corresponding images\n",
        "random_input = torch.cat((torch.randn(1,100,1,1).to(device), target), 1)\n",
        "gen_output = netG(random_input)"
      ],
      "execution_count": null,
      "outputs": []
    },
    {
      "cell_type": "code",
      "metadata": {
        "colab": {
          "base_uri": "https://localhost:8080/"
        },
        "id": "hIaRx4NqSYGC",
        "outputId": "d75347d2-d2e6-4169-9e8a-c49b90207e88"
      },
      "source": [
        "print(gen_output.shape)"
      ],
      "execution_count": null,
      "outputs": [
        {
          "output_type": "stream",
          "text": [
            "torch.Size([1, 1, 64, 64])\n"
          ],
          "name": "stdout"
        }
      ]
    },
    {
      "cell_type": "code",
      "metadata": {
        "colab": {
          "base_uri": "https://localhost:8080/",
          "height": 285
        },
        "id": "t3SLlOD4SYGC",
        "outputId": "fb7c9b51-b2d7-4917-c459-1674e91425d3"
      },
      "source": [
        "plt.imshow(gen_output[0].detach().cpu().numpy().transpose(1,2,0).squeeze(2))"
      ],
      "execution_count": null,
      "outputs": [
        {
          "output_type": "execute_result",
          "data": {
            "text/plain": [
              "<matplotlib.image.AxesImage at 0x7f63f8124a50>"
            ]
          },
          "metadata": {
            "tags": []
          },
          "execution_count": 70
        },
        {
          "output_type": "display_data",
          "data": {
            "image/png": "[encoded data removed]",
            "text/plain": [
              "<Figure size 432x288 with 1 Axes>"
            ]
          },
          "metadata": {
            "tags": [],
            "needs_background": "light"
          }
        }
      ]
    },
    {
      "cell_type": "code",
      "metadata": {
        "id": "1Gio5ijXITna"
      },
      "source": [
        "#### INFERENCES FROM THE OUTPUT OF GENERATOR ########\n",
        "1. When the index=i of the target is 1 and all others are zero then that number is produced\n",
        "2. When more than one indexes of target is one e.g. 1 and 2 index, then an image is produced which has shape with features of both the numbers"
      ],
      "execution_count": null,
      "outputs": []
    },
    {
      "cell_type": "code",
      "metadata": {
        "id": "CPzB-BMQSYGC"
      },
      "source": [
        "# disc_output = netD(gen_output)"
      ],
      "execution_count": null,
      "outputs": []
    },
    {
      "cell_type": "code",
      "metadata": {
        "id": "JSMYaTgGSYGC"
      },
      "source": [
        "# print(disc_output.shape)"
      ],
      "execution_count": null,
      "outputs": []
    },
    {
      "cell_type": "code",
      "metadata": {
        "id": "34PmGCTuSYGD"
      },
      "source": [
        "# print(disc_output[0])"
      ],
      "execution_count": null,
      "outputs": []
    },
    {
      "cell_type": "code",
      "metadata": {
        "id": "MUkdDVCGDG4h"
      },
      "source": [
        "# from google.colab import drive\n",
        "# drive.mount('/content/drive')"
      ],
      "execution_count": null,
      "outputs": []
    },
    {
      "cell_type": "code",
      "metadata": {
        "id": "ugv6CJ5UAw4N"
      },
      "source": [
        "# torch.save({\n",
        "#             'discriminator_state_dict': netD.state_dict(),\n",
        "#             'generator_state_dict': netG.state_dict(),\n",
        "#             'optimizer_G_state_dict': optimizerG.state_dict(),\n",
        "#             'optimizer_D_state_dict': optimizerD.state_dict(),\n",
        "#             'epoch': epoch+1,\n",
        "#             }, \"/content/drive/MyDrive/MNIST_data/checkpt{}.pt\".format(2))"
      ],
      "execution_count": null,
      "outputs": []
    },
    {
      "cell_type": "code",
      "metadata": {
        "id": "TzZZ-JA1d8gb"
      },
      "source": [
        ""
      ],
      "execution_count": null,
      "outputs": []
    },
    {
      "cell_type": "code",
      "metadata": {
        "id": "WMCgR4FpuQzw"
      },
      "source": [
        "# % cd /content/dataset/img_align_celeba\n",
        "# % ls"
      ],
      "execution_count": null,
      "outputs": []
    },
    {
      "cell_type": "code",
      "metadata": {
        "id": "x9tTWS8_TKcv"
      },
      "source": [
        "# ### inspecting the image properties of celebA dataset\n",
        "\n",
        "# from PIL import Image\n",
        "\n",
        "# im_temp = Image.open(\"/content/dataset/img_align_celeba/033275.jpg\")\n",
        "# trans1 = transforms.ToTensor()\n",
        "# trans2 = transforms.Compose([\n",
        "#                                             transforms.Resize((im_height,im_width)),\n",
        "#                                             transforms.CenterCrop((im_shape)),\n",
        "#                                             transforms.ToTensor(),\n",
        "#                                             transforms.Normalize(mean,std)\n",
        "#     ])\n",
        "# print(trans2(im_temp).shape)\n",
        "# plt.imshow(trans2(im_temp))"
      ],
      "execution_count": null,
      "outputs": []
    },
    {
      "cell_type": "code",
      "metadata": {
        "id": "86_TAvKTuqPb"
      },
      "source": [
        ""
      ],
      "execution_count": null,
      "outputs": []
    }
  ]
}