{
  "nbformat": 4,
  "nbformat_minor": 0,
  "metadata": {
    "colab": {
      "name": "DCGAN_MNIST.ipynb",
      "provenance": [],
      "mount_file_id": "17MIISIZ3_Oq20BbN7kOIgAx7P-rg_omF",
      "authorship_tag": "ABX9TyMiJ3kF/EP+hSupPBKPbZhT",
      "include_colab_link": true
    },
    "kernelspec": {
      "name": "python3",
      "display_name": "Python 3"
    },
    "language_info": {
      "name": "python"
    },
    "accelerator": "GPU",
    "widgets": {
      "application/vnd.jupyter.widget-state+json": {
        "934644af964644fb895bd8e477554819": {
          "model_module": "@jupyter-widgets/controls",
          "model_name": "HBoxModel",
          "state": {
            "_view_name": "HBoxView",
            "_dom_classes": [],
            "_model_name": "HBoxModel",
            "_view_module": "@jupyter-widgets/controls",
            "_model_module_version": "1.5.0",
            "_view_count": null,
            "_view_module_version": "1.5.0",
            "box_style": "",
            "layout": "IPY_MODEL_7765824b72204277974a17287a4200ad",
            "_model_module": "@jupyter-widgets/controls",
            "children": [
              "IPY_MODEL_5ab5d678b460466794e42ef744659762",
              "IPY_MODEL_344ad65394f14e6c9af9e6a670525c76"
            ]
          }
        },
        "7765824b72204277974a17287a4200ad": {
          "model_module": "@jupyter-widgets/base",
          "model_name": "LayoutModel",
          "state": {
            "_view_name": "LayoutView",
            "grid_template_rows": null,
            "right": null,
            "justify_content": null,
            "_view_module": "@jupyter-widgets/base",
            "overflow": null,
            "_model_module_version": "1.2.0",
            "_view_count": null,
            "flex_flow": null,
            "width": null,
            "min_width": null,
            "border": null,
            "align_items": null,
            "bottom": null,
            "_model_module": "@jupyter-widgets/base",
            "top": null,
            "grid_column": null,
            "overflow_y": null,
            "overflow_x": null,
            "grid_auto_flow": null,
            "grid_area": null,
            "grid_template_columns": null,
            "flex": null,
            "_model_name": "LayoutModel",
            "justify_items": null,
            "grid_row": null,
            "max_height": null,
            "align_content": null,
            "visibility": null,
            "align_self": null,
            "height": null,
            "min_height": null,
            "padding": null,
            "grid_auto_rows": null,
            "grid_gap": null,
            "max_width": null,
            "order": null,
            "_view_module_version": "1.2.0",
            "grid_template_areas": null,
            "object_position": null,
            "object_fit": null,
            "grid_auto_columns": null,
            "margin": null,
            "display": null,
            "left": null
          }
        },
        "5ab5d678b460466794e42ef744659762": {
          "model_module": "@jupyter-widgets/controls",
          "model_name": "FloatProgressModel",
          "state": {
            "_view_name": "ProgressView",
            "style": "IPY_MODEL_acc1fa74db4e4540aff19ebdd4cc63bd",
            "_dom_classes": [],
            "description": "",
            "_model_name": "FloatProgressModel",
            "bar_style": "success",
            "max": 9912422,
            "_view_module": "@jupyter-widgets/controls",
            "_model_module_version": "1.5.0",
            "value": 9912422,
            "_view_count": null,
            "_view_module_version": "1.5.0",
            "orientation": "horizontal",
            "min": 0,
            "description_tooltip": null,
            "_model_module": "@jupyter-widgets/controls",
            "layout": "IPY_MODEL_a68bc39df442437c8885131fe9c29c91"
          }
        },
        "344ad65394f14e6c9af9e6a670525c76": {
          "model_module": "@jupyter-widgets/controls",
          "model_name": "HTMLModel",
          "state": {
            "_view_name": "HTMLView",
            "style": "IPY_MODEL_eb6626cbe3574d56a8e570826da5a527",
            "_dom_classes": [],
            "description": "",
            "_model_name": "HTMLModel",
            "placeholder": "​",
            "_view_module": "@jupyter-widgets/controls",
            "_model_module_version": "1.5.0",
            "value": " 9913344/? [04:25&lt;00:00, 37295.29it/s]",
            "_view_count": null,
            "_view_module_version": "1.5.0",
            "description_tooltip": null,
            "_model_module": "@jupyter-widgets/controls",
            "layout": "IPY_MODEL_cb07a8d2d1004dc584961f9289019ac8"
          }
        },
        "acc1fa74db4e4540aff19ebdd4cc63bd": {
          "model_module": "@jupyter-widgets/controls",
          "model_name": "ProgressStyleModel",
          "state": {
            "_view_name": "StyleView",
            "_model_name": "ProgressStyleModel",
            "description_width": "initial",
            "_view_module": "@jupyter-widgets/base",
            "_model_module_version": "1.5.0",
            "_view_count": null,
            "_view_module_version": "1.2.0",
            "bar_color": null,
            "_model_module": "@jupyter-widgets/controls"
          }
        },
        "a68bc39df442437c8885131fe9c29c91": {
          "model_module": "@jupyter-widgets/base",
          "model_name": "LayoutModel",
          "state": {
            "_view_name": "LayoutView",
            "grid_template_rows": null,
            "right": null,
            "justify_content": null,
            "_view_module": "@jupyter-widgets/base",
            "overflow": null,
            "_model_module_version": "1.2.0",
            "_view_count": null,
            "flex_flow": null,
            "width": null,
            "min_width": null,
            "border": null,
            "align_items": null,
            "bottom": null,
            "_model_module": "@jupyter-widgets/base",
            "top": null,
            "grid_column": null,
            "overflow_y": null,
            "overflow_x": null,
            "grid_auto_flow": null,
            "grid_area": null,
            "grid_template_columns": null,
            "flex": null,
            "_model_name": "LayoutModel",
            "justify_items": null,
            "grid_row": null,
            "max_height": null,
            "align_content": null,
            "visibility": null,
            "align_self": null,
            "height": null,
            "min_height": null,
            "padding": null,
            "grid_auto_rows": null,
            "grid_gap": null,
            "max_width": null,
            "order": null,
            "_view_module_version": "1.2.0",
            "grid_template_areas": null,
            "object_position": null,
            "object_fit": null,
            "grid_auto_columns": null,
            "margin": null,
            "display": null,
            "left": null
          }
        },
        "eb6626cbe3574d56a8e570826da5a527": {
          "model_module": "@jupyter-widgets/controls",
          "model_name": "DescriptionStyleModel",
          "state": {
            "_view_name": "StyleView",
            "_model_name": "DescriptionStyleModel",
            "description_width": "",
            "_view_module": "@jupyter-widgets/base",
            "_model_module_version": "1.5.0",
            "_view_count": null,
            "_view_module_version": "1.2.0",
            "_model_module": "@jupyter-widgets/controls"
          }
        },
        "cb07a8d2d1004dc584961f9289019ac8": {
          "model_module": "@jupyter-widgets/base",
          "model_name": "LayoutModel",
          "state": {
            "_view_name": "LayoutView",
            "grid_template_rows": null,
            "right": null,
            "justify_content": null,
            "_view_module": "@jupyter-widgets/base",
            "overflow": null,
            "_model_module_version": "1.2.0",
            "_view_count": null,
            "flex_flow": null,
            "width": null,
            "min_width": null,
            "border": null,
            "align_items": null,
            "bottom": null,
            "_model_module": "@jupyter-widgets/base",
            "top": null,
            "grid_column": null,
            "overflow_y": null,
            "overflow_x": null,
            "grid_auto_flow": null,
            "grid_area": null,
            "grid_template_columns": null,
            "flex": null,
            "_model_name": "LayoutModel",
            "justify_items": null,
            "grid_row": null,
            "max_height": null,
            "align_content": null,
            "visibility": null,
            "align_self": null,
            "height": null,
            "min_height": null,
            "padding": null,
            "grid_auto_rows": null,
            "grid_gap": null,
            "max_width": null,
            "order": null,
            "_view_module_version": "1.2.0",
            "grid_template_areas": null,
            "object_position": null,
            "object_fit": null,
            "grid_auto_columns": null,
            "margin": null,
            "display": null,
            "left": null
          }
        },
        "4352b388d78648618b42c1efd55f0191": {
          "model_module": "@jupyter-widgets/controls",
          "model_name": "HBoxModel",
          "state": {
            "_view_name": "HBoxView",
            "_dom_classes": [],
            "_model_name": "HBoxModel",
            "_view_module": "@jupyter-widgets/controls",
            "_model_module_version": "1.5.0",
            "_view_count": null,
            "_view_module_version": "1.5.0",
            "box_style": "",
            "layout": "IPY_MODEL_2d129c08be3b4049bfeee0abdf4ee398",
            "_model_module": "@jupyter-widgets/controls",
            "children": [
              "IPY_MODEL_abfaf55177fc4282a6320d45e3ff361f",
              "IPY_MODEL_984073ee69c341faa7f0fca8804b93a6"
            ]
          }
        },
        "2d129c08be3b4049bfeee0abdf4ee398": {
          "model_module": "@jupyter-widgets/base",
          "model_name": "LayoutModel",
          "state": {
            "_view_name": "LayoutView",
            "grid_template_rows": null,
            "right": null,
            "justify_content": null,
            "_view_module": "@jupyter-widgets/base",
            "overflow": null,
            "_model_module_version": "1.2.0",
            "_view_count": null,
            "flex_flow": null,
            "width": null,
            "min_width": null,
            "border": null,
            "align_items": null,
            "bottom": null,
            "_model_module": "@jupyter-widgets/base",
            "top": null,
            "grid_column": null,
            "overflow_y": null,
            "overflow_x": null,
            "grid_auto_flow": null,
            "grid_area": null,
            "grid_template_columns": null,
            "flex": null,
            "_model_name": "LayoutModel",
            "justify_items": null,
            "grid_row": null,
            "max_height": null,
            "align_content": null,
            "visibility": null,
            "align_self": null,
            "height": null,
            "min_height": null,
            "padding": null,
            "grid_auto_rows": null,
            "grid_gap": null,
            "max_width": null,
            "order": null,
            "_view_module_version": "1.2.0",
            "grid_template_areas": null,
            "object_position": null,
            "object_fit": null,
            "grid_auto_columns": null,
            "margin": null,
            "display": null,
            "left": null
          }
        },
        "abfaf55177fc4282a6320d45e3ff361f": {
          "model_module": "@jupyter-widgets/controls",
          "model_name": "FloatProgressModel",
          "state": {
            "_view_name": "ProgressView",
            "style": "IPY_MODEL_8ddb6ec4d560421398104256e79af4e9",
            "_dom_classes": [],
            "description": "",
            "_model_name": "FloatProgressModel",
            "bar_style": "success",
            "max": 28881,
            "_view_module": "@jupyter-widgets/controls",
            "_model_module_version": "1.5.0",
            "value": 28881,
            "_view_count": null,
            "_view_module_version": "1.5.0",
            "orientation": "horizontal",
            "min": 0,
            "description_tooltip": null,
            "_model_module": "@jupyter-widgets/controls",
            "layout": "IPY_MODEL_5239aa66507b4846bb8b446a5fa72f51"
          }
        },
        "984073ee69c341faa7f0fca8804b93a6": {
          "model_module": "@jupyter-widgets/controls",
          "model_name": "HTMLModel",
          "state": {
            "_view_name": "HTMLView",
            "style": "IPY_MODEL_504e259e47db4caa967d008962dac150",
            "_dom_classes": [],
            "description": "",
            "_model_name": "HTMLModel",
            "placeholder": "​",
            "_view_module": "@jupyter-widgets/controls",
            "_model_module_version": "1.5.0",
            "value": " 29696/? [00:41&lt;00:00, 712.36it/s]",
            "_view_count": null,
            "_view_module_version": "1.5.0",
            "description_tooltip": null,
            "_model_module": "@jupyter-widgets/controls",
            "layout": "IPY_MODEL_abe95feb6582461f938cc3045d3ddc72"
          }
        },
        "8ddb6ec4d560421398104256e79af4e9": {
          "model_module": "@jupyter-widgets/controls",
          "model_name": "ProgressStyleModel",
          "state": {
            "_view_name": "StyleView",
            "_model_name": "ProgressStyleModel",
            "description_width": "initial",
            "_view_module": "@jupyter-widgets/base",
            "_model_module_version": "1.5.0",
            "_view_count": null,
            "_view_module_version": "1.2.0",
            "bar_color": null,
            "_model_module": "@jupyter-widgets/controls"
          }
        },
        "5239aa66507b4846bb8b446a5fa72f51": {
          "model_module": "@jupyter-widgets/base",
          "model_name": "LayoutModel",
          "state": {
            "_view_name": "LayoutView",
            "grid_template_rows": null,
            "right": null,
            "justify_content": null,
            "_view_module": "@jupyter-widgets/base",
            "overflow": null,
            "_model_module_version": "1.2.0",
            "_view_count": null,
            "flex_flow": null,
            "width": null,
            "min_width": null,
            "border": null,
            "align_items": null,
            "bottom": null,
            "_model_module": "@jupyter-widgets/base",
            "top": null,
            "grid_column": null,
            "overflow_y": null,
            "overflow_x": null,
            "grid_auto_flow": null,
            "grid_area": null,
            "grid_template_columns": null,
            "flex": null,
            "_model_name": "LayoutModel",
            "justify_items": null,
            "grid_row": null,
            "max_height": null,
            "align_content": null,
            "visibility": null,
            "align_self": null,
            "height": null,
            "min_height": null,
            "padding": null,
            "grid_auto_rows": null,
            "grid_gap": null,
            "max_width": null,
            "order": null,
            "_view_module_version": "1.2.0",
            "grid_template_areas": null,
            "object_position": null,
            "object_fit": null,
            "grid_auto_columns": null,
            "margin": null,
            "display": null,
            "left": null
          }
        },
        "504e259e47db4caa967d008962dac150": {
          "model_module": "@jupyter-widgets/controls",
          "model_name": "DescriptionStyleModel",
          "state": {
            "_view_name": "StyleView",
            "_model_name": "DescriptionStyleModel",
            "description_width": "",
            "_view_module": "@jupyter-widgets/base",
            "_model_module_version": "1.5.0",
            "_view_count": null,
            "_view_module_version": "1.2.0",
            "_model_module": "@jupyter-widgets/controls"
          }
        },
        "abe95feb6582461f938cc3045d3ddc72": {
          "model_module": "@jupyter-widgets/base",
          "model_name": "LayoutModel",
          "state": {
            "_view_name": "LayoutView",
            "grid_template_rows": null,
            "right": null,
            "justify_content": null,
            "_view_module": "@jupyter-widgets/base",
            "overflow": null,
            "_model_module_version": "1.2.0",
            "_view_count": null,
            "flex_flow": null,
            "width": null,
            "min_width": null,
            "border": null,
            "align_items": null,
            "bottom": null,
            "_model_module": "@jupyter-widgets/base",
            "top": null,
            "grid_column": null,
            "overflow_y": null,
            "overflow_x": null,
            "grid_auto_flow": null,
            "grid_area": null,
            "grid_template_columns": null,
            "flex": null,
            "_model_name": "LayoutModel",
            "justify_items": null,
            "grid_row": null,
            "max_height": null,
            "align_content": null,
            "visibility": null,
            "align_self": null,
            "height": null,
            "min_height": null,
            "padding": null,
            "grid_auto_rows": null,
            "grid_gap": null,
            "max_width": null,
            "order": null,
            "_view_module_version": "1.2.0",
            "grid_template_areas": null,
            "object_position": null,
            "object_fit": null,
            "grid_auto_columns": null,
            "margin": null,
            "display": null,
            "left": null
          }
        },
        "021012c3f9fb46318aec28e62a4311de": {
          "model_module": "@jupyter-widgets/controls",
          "model_name": "HBoxModel",
          "state": {
            "_view_name": "HBoxView",
            "_dom_classes": [],
            "_model_name": "HBoxModel",
            "_view_module": "@jupyter-widgets/controls",
            "_model_module_version": "1.5.0",
            "_view_count": null,
            "_view_module_version": "1.5.0",
            "box_style": "",
            "layout": "IPY_MODEL_20277fdaf6cd4e4197f9c28438fc50d1",
            "_model_module": "@jupyter-widgets/controls",
            "children": [
              "IPY_MODEL_d755fa3f10b8442f900e57068b4b084d",
              "IPY_MODEL_4922e0bcfec549abb2d0806d3f3c90ce"
            ]
          }
        },
        "20277fdaf6cd4e4197f9c28438fc50d1": {
          "model_module": "@jupyter-widgets/base",
          "model_name": "LayoutModel",
          "state": {
            "_view_name": "LayoutView",
            "grid_template_rows": null,
            "right": null,
            "justify_content": null,
            "_view_module": "@jupyter-widgets/base",
            "overflow": null,
            "_model_module_version": "1.2.0",
            "_view_count": null,
            "flex_flow": null,
            "width": null,
            "min_width": null,
            "border": null,
            "align_items": null,
            "bottom": null,
            "_model_module": "@jupyter-widgets/base",
            "top": null,
            "grid_column": null,
            "overflow_y": null,
            "overflow_x": null,
            "grid_auto_flow": null,
            "grid_area": null,
            "grid_template_columns": null,
            "flex": null,
            "_model_name": "LayoutModel",
            "justify_items": null,
            "grid_row": null,
            "max_height": null,
            "align_content": null,
            "visibility": null,
            "align_self": null,
            "height": null,
            "min_height": null,
            "padding": null,
            "grid_auto_rows": null,
            "grid_gap": null,
            "max_width": null,
            "order": null,
            "_view_module_version": "1.2.0",
            "grid_template_areas": null,
            "object_position": null,
            "object_fit": null,
            "grid_auto_columns": null,
            "margin": null,
            "display": null,
            "left": null
          }
        },
        "d755fa3f10b8442f900e57068b4b084d": {
          "model_module": "@jupyter-widgets/controls",
          "model_name": "FloatProgressModel",
          "state": {
            "_view_name": "ProgressView",
            "style": "IPY_MODEL_adfba6f282b9422692b84d6428fd8722",
            "_dom_classes": [],
            "description": "",
            "_model_name": "FloatProgressModel",
            "bar_style": "success",
            "max": 1648877,
            "_view_module": "@jupyter-widgets/controls",
            "_model_module_version": "1.5.0",
            "value": 1648877,
            "_view_count": null,
            "_view_module_version": "1.5.0",
            "orientation": "horizontal",
            "min": 0,
            "description_tooltip": null,
            "_model_module": "@jupyter-widgets/controls",
            "layout": "IPY_MODEL_4616259b475447358c8daff80d0eccab"
          }
        },
        "4922e0bcfec549abb2d0806d3f3c90ce": {
          "model_module": "@jupyter-widgets/controls",
          "model_name": "HTMLModel",
          "state": {
            "_view_name": "HTMLView",
            "style": "IPY_MODEL_4420c9530d754d5aac877fe944b298ce",
            "_dom_classes": [],
            "description": "",
            "_model_name": "HTMLModel",
            "placeholder": "​",
            "_view_module": "@jupyter-widgets/controls",
            "_model_module_version": "1.5.0",
            "value": " 1649664/? [00:41&lt;00:00, 40087.83it/s]",
            "_view_count": null,
            "_view_module_version": "1.5.0",
            "description_tooltip": null,
            "_model_module": "@jupyter-widgets/controls",
            "layout": "IPY_MODEL_5cfd25ed3c33460b872c03963509b56a"
          }
        },
        "adfba6f282b9422692b84d6428fd8722": {
          "model_module": "@jupyter-widgets/controls",
          "model_name": "ProgressStyleModel",
          "state": {
            "_view_name": "StyleView",
            "_model_name": "ProgressStyleModel",
            "description_width": "initial",
            "_view_module": "@jupyter-widgets/base",
            "_model_module_version": "1.5.0",
            "_view_count": null,
            "_view_module_version": "1.2.0",
            "bar_color": null,
            "_model_module": "@jupyter-widgets/controls"
          }
        },
        "4616259b475447358c8daff80d0eccab": {
          "model_module": "@jupyter-widgets/base",
          "model_name": "LayoutModel",
          "state": {
            "_view_name": "LayoutView",
            "grid_template_rows": null,
            "right": null,
            "justify_content": null,
            "_view_module": "@jupyter-widgets/base",
            "overflow": null,
            "_model_module_version": "1.2.0",
            "_view_count": null,
            "flex_flow": null,
            "width": null,
            "min_width": null,
            "border": null,
            "align_items": null,
            "bottom": null,
            "_model_module": "@jupyter-widgets/base",
            "top": null,
            "grid_column": null,
            "overflow_y": null,
            "overflow_x": null,
            "grid_auto_flow": null,
            "grid_area": null,
            "grid_template_columns": null,
            "flex": null,
            "_model_name": "LayoutModel",
            "justify_items": null,
            "grid_row": null,
            "max_height": null,
            "align_content": null,
            "visibility": null,
            "align_self": null,
            "height": null,
            "min_height": null,
            "padding": null,
            "grid_auto_rows": null,
            "grid_gap": null,
            "max_width": null,
            "order": null,
            "_view_module_version": "1.2.0",
            "grid_template_areas": null,
            "object_position": null,
            "object_fit": null,
            "grid_auto_columns": null,
            "margin": null,
            "display": null,
            "left": null
          }
        },
        "4420c9530d754d5aac877fe944b298ce": {
          "model_module": "@jupyter-widgets/controls",
          "model_name": "DescriptionStyleModel",
          "state": {
            "_view_name": "StyleView",
            "_model_name": "DescriptionStyleModel",
            "description_width": "",
            "_view_module": "@jupyter-widgets/base",
            "_model_module_version": "1.5.0",
            "_view_count": null,
            "_view_module_version": "1.2.0",
            "_model_module": "@jupyter-widgets/controls"
          }
        },
        "5cfd25ed3c33460b872c03963509b56a": {
          "model_module": "@jupyter-widgets/base",
          "model_name": "LayoutModel",
          "state": {
            "_view_name": "LayoutView",
            "grid_template_rows": null,
            "right": null,
            "justify_content": null,
            "_view_module": "@jupyter-widgets/base",
            "overflow": null,
            "_model_module_version": "1.2.0",
            "_view_count": null,
            "flex_flow": null,
            "width": null,
            "min_width": null,
            "border": null,
            "align_items": null,
            "bottom": null,
            "_model_module": "@jupyter-widgets/base",
            "top": null,
            "grid_column": null,
            "overflow_y": null,
            "overflow_x": null,
            "grid_auto_flow": null,
            "grid_area": null,
            "grid_template_columns": null,
            "flex": null,
            "_model_name": "LayoutModel",
            "justify_items": null,
            "grid_row": null,
            "max_height": null,
            "align_content": null,
            "visibility": null,
            "align_self": null,
            "height": null,
            "min_height": null,
            "padding": null,
            "grid_auto_rows": null,
            "grid_gap": null,
            "max_width": null,
            "order": null,
            "_view_module_version": "1.2.0",
            "grid_template_areas": null,
            "object_position": null,
            "object_fit": null,
            "grid_auto_columns": null,
            "margin": null,
            "display": null,
            "left": null
          }
        },
        "da8cb9c76c1d4eb9a09e08e36aa88dbd": {
          "model_module": "@jupyter-widgets/controls",
          "model_name": "HBoxModel",
          "state": {
            "_view_name": "HBoxView",
            "_dom_classes": [],
            "_model_name": "HBoxModel",
            "_view_module": "@jupyter-widgets/controls",
            "_model_module_version": "1.5.0",
            "_view_count": null,
            "_view_module_version": "1.5.0",
            "box_style": "",
            "layout": "IPY_MODEL_d5a84702e17e4e5e94d6bd3576093afa",
            "_model_module": "@jupyter-widgets/controls",
            "children": [
              "IPY_MODEL_fdccaec04c6b4cca98beae257f77935c",
              "IPY_MODEL_361a381258524b6f880f6e2131ce20f7"
            ]
          }
        },
        "d5a84702e17e4e5e94d6bd3576093afa": {
          "model_module": "@jupyter-widgets/base",
          "model_name": "LayoutModel",
          "state": {
            "_view_name": "LayoutView",
            "grid_template_rows": null,
            "right": null,
            "justify_content": null,
            "_view_module": "@jupyter-widgets/base",
            "overflow": null,
            "_model_module_version": "1.2.0",
            "_view_count": null,
            "flex_flow": null,
            "width": null,
            "min_width": null,
            "border": null,
            "align_items": null,
            "bottom": null,
            "_model_module": "@jupyter-widgets/base",
            "top": null,
            "grid_column": null,
            "overflow_y": null,
            "overflow_x": null,
            "grid_auto_flow": null,
            "grid_area": null,
            "grid_template_columns": null,
            "flex": null,
            "_model_name": "LayoutModel",
            "justify_items": null,
            "grid_row": null,
            "max_height": null,
            "align_content": null,
            "visibility": null,
            "align_self": null,
            "height": null,
            "min_height": null,
            "padding": null,
            "grid_auto_rows": null,
            "grid_gap": null,
            "max_width": null,
            "order": null,
            "_view_module_version": "1.2.0",
            "grid_template_areas": null,
            "object_position": null,
            "object_fit": null,
            "grid_auto_columns": null,
            "margin": null,
            "display": null,
            "left": null
          }
        },
        "fdccaec04c6b4cca98beae257f77935c": {
          "model_module": "@jupyter-widgets/controls",
          "model_name": "FloatProgressModel",
          "state": {
            "_view_name": "ProgressView",
            "style": "IPY_MODEL_6b9a5b05f5d644b09f0196b000d52dc4",
            "_dom_classes": [],
            "description": "",
            "_model_name": "FloatProgressModel",
            "bar_style": "success",
            "max": 4542,
            "_view_module": "@jupyter-widgets/controls",
            "_model_module_version": "1.5.0",
            "value": 4542,
            "_view_count": null,
            "_view_module_version": "1.5.0",
            "orientation": "horizontal",
            "min": 0,
            "description_tooltip": null,
            "_model_module": "@jupyter-widgets/controls",
            "layout": "IPY_MODEL_6ca0c4e5f96346db809432eebb4be61b"
          }
        },
        "361a381258524b6f880f6e2131ce20f7": {
          "model_module": "@jupyter-widgets/controls",
          "model_name": "HTMLModel",
          "state": {
            "_view_name": "HTMLView",
            "style": "IPY_MODEL_1dc19582a11c42269c97c166fed303f6",
            "_dom_classes": [],
            "description": "",
            "_model_name": "HTMLModel",
            "placeholder": "​",
            "_view_module": "@jupyter-widgets/controls",
            "_model_module_version": "1.5.0",
            "value": " 5120/? [00:00&lt;00:00, 23841.59it/s]",
            "_view_count": null,
            "_view_module_version": "1.5.0",
            "description_tooltip": null,
            "_model_module": "@jupyter-widgets/controls",
            "layout": "IPY_MODEL_067535d4cdce4ee8be746e6572c6cfa1"
          }
        },
        "6b9a5b05f5d644b09f0196b000d52dc4": {
          "model_module": "@jupyter-widgets/controls",
          "model_name": "ProgressStyleModel",
          "state": {
            "_view_name": "StyleView",
            "_model_name": "ProgressStyleModel",
            "description_width": "initial",
            "_view_module": "@jupyter-widgets/base",
            "_model_module_version": "1.5.0",
            "_view_count": null,
            "_view_module_version": "1.2.0",
            "bar_color": null,
            "_model_module": "@jupyter-widgets/controls"
          }
        },
        "6ca0c4e5f96346db809432eebb4be61b": {
          "model_module": "@jupyter-widgets/base",
          "model_name": "LayoutModel",
          "state": {
            "_view_name": "LayoutView",
            "grid_template_rows": null,
            "right": null,
            "justify_content": null,
            "_view_module": "@jupyter-widgets/base",
            "overflow": null,
            "_model_module_version": "1.2.0",
            "_view_count": null,
            "flex_flow": null,
            "width": null,
            "min_width": null,
            "border": null,
            "align_items": null,
            "bottom": null,
            "_model_module": "@jupyter-widgets/base",
            "top": null,
            "grid_column": null,
            "overflow_y": null,
            "overflow_x": null,
            "grid_auto_flow": null,
            "grid_area": null,
            "grid_template_columns": null,
            "flex": null,
            "_model_name": "LayoutModel",
            "justify_items": null,
            "grid_row": null,
            "max_height": null,
            "align_content": null,
            "visibility": null,
            "align_self": null,
            "height": null,
            "min_height": null,
            "padding": null,
            "grid_auto_rows": null,
            "grid_gap": null,
            "max_width": null,
            "order": null,
            "_view_module_version": "1.2.0",
            "grid_template_areas": null,
            "object_position": null,
            "object_fit": null,
            "grid_auto_columns": null,
            "margin": null,
            "display": null,
            "left": null
          }
        },
        "1dc19582a11c42269c97c166fed303f6": {
          "model_module": "@jupyter-widgets/controls",
          "model_name": "DescriptionStyleModel",
          "state": {
            "_view_name": "StyleView",
            "_model_name": "DescriptionStyleModel",
            "description_width": "",
            "_view_module": "@jupyter-widgets/base",
            "_model_module_version": "1.5.0",
            "_view_count": null,
            "_view_module_version": "1.2.0",
            "_model_module": "@jupyter-widgets/controls"
          }
        },
        "067535d4cdce4ee8be746e6572c6cfa1": {
          "model_module": "@jupyter-widgets/base",
          "model_name": "LayoutModel",
          "state": {
            "_view_name": "LayoutView",
            "grid_template_rows": null,
            "right": null,
            "justify_content": null,
            "_view_module": "@jupyter-widgets/base",
            "overflow": null,
            "_model_module_version": "1.2.0",
            "_view_count": null,
            "flex_flow": null,
            "width": null,
            "min_width": null,
            "border": null,
            "align_items": null,
            "bottom": null,
            "_model_module": "@jupyter-widgets/base",
            "top": null,
            "grid_column": null,
            "overflow_y": null,
            "overflow_x": null,
            "grid_auto_flow": null,
            "grid_area": null,
            "grid_template_columns": null,
            "flex": null,
            "_model_name": "LayoutModel",
            "justify_items": null,
            "grid_row": null,
            "max_height": null,
            "align_content": null,
            "visibility": null,
            "align_self": null,
            "height": null,
            "min_height": null,
            "padding": null,
            "grid_auto_rows": null,
            "grid_gap": null,
            "max_width": null,
            "order": null,
            "_view_module_version": "1.2.0",
            "grid_template_areas": null,
            "object_position": null,
            "object_fit": null,
            "grid_auto_columns": null,
            "margin": null,
            "display": null,
            "left": null
          }
        },
        "abab0f34ef414c6b85262f03484a30a3": {
          "model_module": "@jupyter-widgets/controls",
          "model_name": "HBoxModel",
          "state": {
            "_view_name": "HBoxView",
            "_dom_classes": [],
            "_model_name": "HBoxModel",
            "_view_module": "@jupyter-widgets/controls",
            "_model_module_version": "1.5.0",
            "_view_count": null,
            "_view_module_version": "1.5.0",
            "box_style": "",
            "layout": "IPY_MODEL_f19db44c6ce642bfa1ecf07b03973be4",
            "_model_module": "@jupyter-widgets/controls",
            "children": [
              "IPY_MODEL_ed9c4d6d0f664e59afd24f87f6bcaf3b",
              "IPY_MODEL_5a57a59bc3ce490f85d535b06620c7b1"
            ]
          }
        },
        "f19db44c6ce642bfa1ecf07b03973be4": {
          "model_module": "@jupyter-widgets/base",
          "model_name": "LayoutModel",
          "state": {
            "_view_name": "LayoutView",
            "grid_template_rows": null,
            "right": null,
            "justify_content": null,
            "_view_module": "@jupyter-widgets/base",
            "overflow": null,
            "_model_module_version": "1.2.0",
            "_view_count": null,
            "flex_flow": null,
            "width": null,
            "min_width": null,
            "border": null,
            "align_items": null,
            "bottom": null,
            "_model_module": "@jupyter-widgets/base",
            "top": null,
            "grid_column": null,
            "overflow_y": null,
            "overflow_x": null,
            "grid_auto_flow": null,
            "grid_area": null,
            "grid_template_columns": null,
            "flex": null,
            "_model_name": "LayoutModel",
            "justify_items": null,
            "grid_row": null,
            "max_height": null,
            "align_content": null,
            "visibility": null,
            "align_self": null,
            "height": null,
            "min_height": null,
            "padding": null,
            "grid_auto_rows": null,
            "grid_gap": null,
            "max_width": null,
            "order": null,
            "_view_module_version": "1.2.0",
            "grid_template_areas": null,
            "object_position": null,
            "object_fit": null,
            "grid_auto_columns": null,
            "margin": null,
            "display": null,
            "left": null
          }
        },
        "ed9c4d6d0f664e59afd24f87f6bcaf3b": {
          "model_module": "@jupyter-widgets/controls",
          "model_name": "FloatProgressModel",
          "state": {
            "_view_name": "ProgressView",
            "style": "IPY_MODEL_449cdc8a838f44309f90d08bf06d4081",
            "_dom_classes": [],
            "description": "Training Epoch 0: 100%",
            "_model_name": "FloatProgressModel",
            "bar_style": "success",
            "max": 469,
            "_view_module": "@jupyter-widgets/controls",
            "_model_module_version": "1.5.0",
            "value": 469,
            "_view_count": null,
            "_view_module_version": "1.5.0",
            "orientation": "horizontal",
            "min": 0,
            "description_tooltip": null,
            "_model_module": "@jupyter-widgets/controls",
            "layout": "IPY_MODEL_10de5cb9f0f84c4498ac51f25418483e"
          }
        },
        "5a57a59bc3ce490f85d535b06620c7b1": {
          "model_module": "@jupyter-widgets/controls",
          "model_name": "HTMLModel",
          "state": {
            "_view_name": "HTMLView",
            "style": "IPY_MODEL_49d2dc7405764d4db882b039d2ed615d",
            "_dom_classes": [],
            "description": "",
            "_model_name": "HTMLModel",
            "placeholder": "​",
            "_view_module": "@jupyter-widgets/controls",
            "_model_module_version": "1.5.0",
            "value": " 469/469 [36:56&lt;00:00,  4.73s/it, disc_loss=1.52, gen_loss=13.1]",
            "_view_count": null,
            "_view_module_version": "1.5.0",
            "description_tooltip": null,
            "_model_module": "@jupyter-widgets/controls",
            "layout": "IPY_MODEL_f178ad0dc9104d0984e75f905f46a39b"
          }
        },
        "449cdc8a838f44309f90d08bf06d4081": {
          "model_module": "@jupyter-widgets/controls",
          "model_name": "ProgressStyleModel",
          "state": {
            "_view_name": "StyleView",
            "_model_name": "ProgressStyleModel",
            "description_width": "initial",
            "_view_module": "@jupyter-widgets/base",
            "_model_module_version": "1.5.0",
            "_view_count": null,
            "_view_module_version": "1.2.0",
            "bar_color": null,
            "_model_module": "@jupyter-widgets/controls"
          }
        },
        "10de5cb9f0f84c4498ac51f25418483e": {
          "model_module": "@jupyter-widgets/base",
          "model_name": "LayoutModel",
          "state": {
            "_view_name": "LayoutView",
            "grid_template_rows": null,
            "right": null,
            "justify_content": null,
            "_view_module": "@jupyter-widgets/base",
            "overflow": null,
            "_model_module_version": "1.2.0",
            "_view_count": null,
            "flex_flow": null,
            "width": null,
            "min_width": null,
            "border": null,
            "align_items": null,
            "bottom": null,
            "_model_module": "@jupyter-widgets/base",
            "top": null,
            "grid_column": null,
            "overflow_y": null,
            "overflow_x": null,
            "grid_auto_flow": null,
            "grid_area": null,
            "grid_template_columns": null,
            "flex": null,
            "_model_name": "LayoutModel",
            "justify_items": null,
            "grid_row": null,
            "max_height": null,
            "align_content": null,
            "visibility": null,
            "align_self": null,
            "height": null,
            "min_height": null,
            "padding": null,
            "grid_auto_rows": null,
            "grid_gap": null,
            "max_width": null,
            "order": null,
            "_view_module_version": "1.2.0",
            "grid_template_areas": null,
            "object_position": null,
            "object_fit": null,
            "grid_auto_columns": null,
            "margin": null,
            "display": null,
            "left": null
          }
        },
        "49d2dc7405764d4db882b039d2ed615d": {
          "model_module": "@jupyter-widgets/controls",
          "model_name": "DescriptionStyleModel",
          "state": {
            "_view_name": "StyleView",
            "_model_name": "DescriptionStyleModel",
            "description_width": "",
            "_view_module": "@jupyter-widgets/base",
            "_model_module_version": "1.5.0",
            "_view_count": null,
            "_view_module_version": "1.2.0",
            "_model_module": "@jupyter-widgets/controls"
          }
        },
        "f178ad0dc9104d0984e75f905f46a39b": {
          "model_module": "@jupyter-widgets/base",
          "model_name": "LayoutModel",
          "state": {
            "_view_name": "LayoutView",
            "grid_template_rows": null,
            "right": null,
            "justify_content": null,
            "_view_module": "@jupyter-widgets/base",
            "overflow": null,
            "_model_module_version": "1.2.0",
            "_view_count": null,
            "flex_flow": null,
            "width": null,
            "min_width": null,
            "border": null,
            "align_items": null,
            "bottom": null,
            "_model_module": "@jupyter-widgets/base",
            "top": null,
            "grid_column": null,
            "overflow_y": null,
            "overflow_x": null,
            "grid_auto_flow": null,
            "grid_area": null,
            "grid_template_columns": null,
            "flex": null,
            "_model_name": "LayoutModel",
            "justify_items": null,
            "grid_row": null,
            "max_height": null,
            "align_content": null,
            "visibility": null,
            "align_self": null,
            "height": null,
            "min_height": null,
            "padding": null,
            "grid_auto_rows": null,
            "grid_gap": null,
            "max_width": null,
            "order": null,
            "_view_module_version": "1.2.0",
            "grid_template_areas": null,
            "object_position": null,
            "object_fit": null,
            "grid_auto_columns": null,
            "margin": null,
            "display": null,
            "left": null
          }
        },
        "cc059539f2c343bb9d70f13f77490292": {
          "model_module": "@jupyter-widgets/controls",
          "model_name": "HBoxModel",
          "state": {
            "_view_name": "HBoxView",
            "_dom_classes": [],
            "_model_name": "HBoxModel",
            "_view_module": "@jupyter-widgets/controls",
            "_model_module_version": "1.5.0",
            "_view_count": null,
            "_view_module_version": "1.5.0",
            "box_style": "",
            "layout": "IPY_MODEL_f0e5537a2902407ba3fa4fcb18338009",
            "_model_module": "@jupyter-widgets/controls",
            "children": [
              "IPY_MODEL_3641a33dbbda4d58b9d699d8460689e2",
              "IPY_MODEL_b0e2dc2dd91d4df18e2dd7dfcda25fd9"
            ]
          }
        },
        "f0e5537a2902407ba3fa4fcb18338009": {
          "model_module": "@jupyter-widgets/base",
          "model_name": "LayoutModel",
          "state": {
            "_view_name": "LayoutView",
            "grid_template_rows": null,
            "right": null,
            "justify_content": null,
            "_view_module": "@jupyter-widgets/base",
            "overflow": null,
            "_model_module_version": "1.2.0",
            "_view_count": null,
            "flex_flow": null,
            "width": null,
            "min_width": null,
            "border": null,
            "align_items": null,
            "bottom": null,
            "_model_module": "@jupyter-widgets/base",
            "top": null,
            "grid_column": null,
            "overflow_y": null,
            "overflow_x": null,
            "grid_auto_flow": null,
            "grid_area": null,
            "grid_template_columns": null,
            "flex": null,
            "_model_name": "LayoutModel",
            "justify_items": null,
            "grid_row": null,
            "max_height": null,
            "align_content": null,
            "visibility": null,
            "align_self": null,
            "height": null,
            "min_height": null,
            "padding": null,
            "grid_auto_rows": null,
            "grid_gap": null,
            "max_width": null,
            "order": null,
            "_view_module_version": "1.2.0",
            "grid_template_areas": null,
            "object_position": null,
            "object_fit": null,
            "grid_auto_columns": null,
            "margin": null,
            "display": null,
            "left": null
          }
        },
        "3641a33dbbda4d58b9d699d8460689e2": {
          "model_module": "@jupyter-widgets/controls",
          "model_name": "FloatProgressModel",
          "state": {
            "_view_name": "ProgressView",
            "style": "IPY_MODEL_62994394002e416388615bf2ebcb8060",
            "_dom_classes": [],
            "description": "Training Epoch 1: 100%",
            "_model_name": "FloatProgressModel",
            "bar_style": "success",
            "max": 469,
            "_view_module": "@jupyter-widgets/controls",
            "_model_module_version": "1.5.0",
            "value": 469,
            "_view_count": null,
            "_view_module_version": "1.5.0",
            "orientation": "horizontal",
            "min": 0,
            "description_tooltip": null,
            "_model_module": "@jupyter-widgets/controls",
            "layout": "IPY_MODEL_01dda4e218e64e908d07f1ca1a89544d"
          }
        },
        "b0e2dc2dd91d4df18e2dd7dfcda25fd9": {
          "model_module": "@jupyter-widgets/controls",
          "model_name": "HTMLModel",
          "state": {
            "_view_name": "HTMLView",
            "style": "IPY_MODEL_4c36f5e0fe8142bcbd8f79844f92263e",
            "_dom_classes": [],
            "description": "",
            "_model_name": "HTMLModel",
            "placeholder": "​",
            "_view_module": "@jupyter-widgets/controls",
            "_model_module_version": "1.5.0",
            "value": " 469/469 [30:06&lt;00:00,  3.85s/it, disc_loss=0.555, gen_loss=1.52]",
            "_view_count": null,
            "_view_module_version": "1.5.0",
            "description_tooltip": null,
            "_model_module": "@jupyter-widgets/controls",
            "layout": "IPY_MODEL_423d7ea34c674918a1ee3593f9153bae"
          }
        },
        "62994394002e416388615bf2ebcb8060": {
          "model_module": "@jupyter-widgets/controls",
          "model_name": "ProgressStyleModel",
          "state": {
            "_view_name": "StyleView",
            "_model_name": "ProgressStyleModel",
            "description_width": "initial",
            "_view_module": "@jupyter-widgets/base",
            "_model_module_version": "1.5.0",
            "_view_count": null,
            "_view_module_version": "1.2.0",
            "bar_color": null,
            "_model_module": "@jupyter-widgets/controls"
          }
        },
        "01dda4e218e64e908d07f1ca1a89544d": {
          "model_module": "@jupyter-widgets/base",
          "model_name": "LayoutModel",
          "state": {
            "_view_name": "LayoutView",
            "grid_template_rows": null,
            "right": null,
            "justify_content": null,
            "_view_module": "@jupyter-widgets/base",
            "overflow": null,
            "_model_module_version": "1.2.0",
            "_view_count": null,
            "flex_flow": null,
            "width": null,
            "min_width": null,
            "border": null,
            "align_items": null,
            "bottom": null,
            "_model_module": "@jupyter-widgets/base",
            "top": null,
            "grid_column": null,
            "overflow_y": null,
            "overflow_x": null,
            "grid_auto_flow": null,
            "grid_area": null,
            "grid_template_columns": null,
            "flex": null,
            "_model_name": "LayoutModel",
            "justify_items": null,
            "grid_row": null,
            "max_height": null,
            "align_content": null,
            "visibility": null,
            "align_self": null,
            "height": null,
            "min_height": null,
            "padding": null,
            "grid_auto_rows": null,
            "grid_gap": null,
            "max_width": null,
            "order": null,
            "_view_module_version": "1.2.0",
            "grid_template_areas": null,
            "object_position": null,
            "object_fit": null,
            "grid_auto_columns": null,
            "margin": null,
            "display": null,
            "left": null
          }
        },
        "4c36f5e0fe8142bcbd8f79844f92263e": {
          "model_module": "@jupyter-widgets/controls",
          "model_name": "DescriptionStyleModel",
          "state": {
            "_view_name": "StyleView",
            "_model_name": "DescriptionStyleModel",
            "description_width": "",
            "_view_module": "@jupyter-widgets/base",
            "_model_module_version": "1.5.0",
            "_view_count": null,
            "_view_module_version": "1.2.0",
            "_model_module": "@jupyter-widgets/controls"
          }
        },
        "423d7ea34c674918a1ee3593f9153bae": {
          "model_module": "@jupyter-widgets/base",
          "model_name": "LayoutModel",
          "state": {
            "_view_name": "LayoutView",
            "grid_template_rows": null,
            "right": null,
            "justify_content": null,
            "_view_module": "@jupyter-widgets/base",
            "overflow": null,
            "_model_module_version": "1.2.0",
            "_view_count": null,
            "flex_flow": null,
            "width": null,
            "min_width": null,
            "border": null,
            "align_items": null,
            "bottom": null,
            "_model_module": "@jupyter-widgets/base",
            "top": null,
            "grid_column": null,
            "overflow_y": null,
            "overflow_x": null,
            "grid_auto_flow": null,
            "grid_area": null,
            "grid_template_columns": null,
            "flex": null,
            "_model_name": "LayoutModel",
            "justify_items": null,
            "grid_row": null,
            "max_height": null,
            "align_content": null,
            "visibility": null,
            "align_self": null,
            "height": null,
            "min_height": null,
            "padding": null,
            "grid_auto_rows": null,
            "grid_gap": null,
            "max_width": null,
            "order": null,
            "_view_module_version": "1.2.0",
            "grid_template_areas": null,
            "object_position": null,
            "object_fit": null,
            "grid_auto_columns": null,
            "margin": null,
            "display": null,
            "left": null
          }
        },
        "74424f4bdcba45458f98535e80dbb395": {
          "model_module": "@jupyter-widgets/controls",
          "model_name": "HBoxModel",
          "state": {
            "_view_name": "HBoxView",
            "_dom_classes": [],
            "_model_name": "HBoxModel",
            "_view_module": "@jupyter-widgets/controls",
            "_model_module_version": "1.5.0",
            "_view_count": null,
            "_view_module_version": "1.5.0",
            "box_style": "",
            "layout": "IPY_MODEL_18c6f032a3cf4e44b231676b846a4c40",
            "_model_module": "@jupyter-widgets/controls",
            "children": [
              "IPY_MODEL_c0abebc743d84628a1c71c3e91ab06ad",
              "IPY_MODEL_73235262aaf2470ea158d34d677154e2"
            ]
          }
        },
        "18c6f032a3cf4e44b231676b846a4c40": {
          "model_module": "@jupyter-widgets/base",
          "model_name": "LayoutModel",
          "state": {
            "_view_name": "LayoutView",
            "grid_template_rows": null,
            "right": null,
            "justify_content": null,
            "_view_module": "@jupyter-widgets/base",
            "overflow": null,
            "_model_module_version": "1.2.0",
            "_view_count": null,
            "flex_flow": null,
            "width": null,
            "min_width": null,
            "border": null,
            "align_items": null,
            "bottom": null,
            "_model_module": "@jupyter-widgets/base",
            "top": null,
            "grid_column": null,
            "overflow_y": null,
            "overflow_x": null,
            "grid_auto_flow": null,
            "grid_area": null,
            "grid_template_columns": null,
            "flex": null,
            "_model_name": "LayoutModel",
            "justify_items": null,
            "grid_row": null,
            "max_height": null,
            "align_content": null,
            "visibility": null,
            "align_self": null,
            "height": null,
            "min_height": null,
            "padding": null,
            "grid_auto_rows": null,
            "grid_gap": null,
            "max_width": null,
            "order": null,
            "_view_module_version": "1.2.0",
            "grid_template_areas": null,
            "object_position": null,
            "object_fit": null,
            "grid_auto_columns": null,
            "margin": null,
            "display": null,
            "left": null
          }
        },
        "c0abebc743d84628a1c71c3e91ab06ad": {
          "model_module": "@jupyter-widgets/controls",
          "model_name": "FloatProgressModel",
          "state": {
            "_view_name": "ProgressView",
            "style": "IPY_MODEL_1be4b5f0342d4139b6ba5cd06adfada6",
            "_dom_classes": [],
            "description": "Training Epoch 2: 100%",
            "_model_name": "FloatProgressModel",
            "bar_style": "success",
            "max": 469,
            "_view_module": "@jupyter-widgets/controls",
            "_model_module_version": "1.5.0",
            "value": 469,
            "_view_count": null,
            "_view_module_version": "1.5.0",
            "orientation": "horizontal",
            "min": 0,
            "description_tooltip": null,
            "_model_module": "@jupyter-widgets/controls",
            "layout": "IPY_MODEL_455a7f1ecbb84e35a6471a3b7daf2b68"
          }
        },
        "73235262aaf2470ea158d34d677154e2": {
          "model_module": "@jupyter-widgets/controls",
          "model_name": "HTMLModel",
          "state": {
            "_view_name": "HTMLView",
            "style": "IPY_MODEL_c0973f9c0c104d89927519f97838278e",
            "_dom_classes": [],
            "description": "",
            "_model_name": "HTMLModel",
            "placeholder": "​",
            "_view_module": "@jupyter-widgets/controls",
            "_model_module_version": "1.5.0",
            "value": " 469/469 [13:38&lt;00:00,  1.75s/it, disc_loss=0.537, gen_loss=1.51]",
            "_view_count": null,
            "_view_module_version": "1.5.0",
            "description_tooltip": null,
            "_model_module": "@jupyter-widgets/controls",
            "layout": "IPY_MODEL_0bf2e8ca8e6c48fcae7b27b5a317a0ec"
          }
        },
        "1be4b5f0342d4139b6ba5cd06adfada6": {
          "model_module": "@jupyter-widgets/controls",
          "model_name": "ProgressStyleModel",
          "state": {
            "_view_name": "StyleView",
            "_model_name": "ProgressStyleModel",
            "description_width": "initial",
            "_view_module": "@jupyter-widgets/base",
            "_model_module_version": "1.5.0",
            "_view_count": null,
            "_view_module_version": "1.2.0",
            "bar_color": null,
            "_model_module": "@jupyter-widgets/controls"
          }
        },
        "455a7f1ecbb84e35a6471a3b7daf2b68": {
          "model_module": "@jupyter-widgets/base",
          "model_name": "LayoutModel",
          "state": {
            "_view_name": "LayoutView",
            "grid_template_rows": null,
            "right": null,
            "justify_content": null,
            "_view_module": "@jupyter-widgets/base",
            "overflow": null,
            "_model_module_version": "1.2.0",
            "_view_count": null,
            "flex_flow": null,
            "width": null,
            "min_width": null,
            "border": null,
            "align_items": null,
            "bottom": null,
            "_model_module": "@jupyter-widgets/base",
            "top": null,
            "grid_column": null,
            "overflow_y": null,
            "overflow_x": null,
            "grid_auto_flow": null,
            "grid_area": null,
            "grid_template_columns": null,
            "flex": null,
            "_model_name": "LayoutModel",
            "justify_items": null,
            "grid_row": null,
            "max_height": null,
            "align_content": null,
            "visibility": null,
            "align_self": null,
            "height": null,
            "min_height": null,
            "padding": null,
            "grid_auto_rows": null,
            "grid_gap": null,
            "max_width": null,
            "order": null,
            "_view_module_version": "1.2.0",
            "grid_template_areas": null,
            "object_position": null,
            "object_fit": null,
            "grid_auto_columns": null,
            "margin": null,
            "display": null,
            "left": null
          }
        },
        "c0973f9c0c104d89927519f97838278e": {
          "model_module": "@jupyter-widgets/controls",
          "model_name": "DescriptionStyleModel",
          "state": {
            "_view_name": "StyleView",
            "_model_name": "DescriptionStyleModel",
            "description_width": "",
            "_view_module": "@jupyter-widgets/base",
            "_model_module_version": "1.5.0",
            "_view_count": null,
            "_view_module_version": "1.2.0",
            "_model_module": "@jupyter-widgets/controls"
          }
        },
        "0bf2e8ca8e6c48fcae7b27b5a317a0ec": {
          "model_module": "@jupyter-widgets/base",
          "model_name": "LayoutModel",
          "state": {
            "_view_name": "LayoutView",
            "grid_template_rows": null,
            "right": null,
            "justify_content": null,
            "_view_module": "@jupyter-widgets/base",
            "overflow": null,
            "_model_module_version": "1.2.0",
            "_view_count": null,
            "flex_flow": null,
            "width": null,
            "min_width": null,
            "border": null,
            "align_items": null,
            "bottom": null,
            "_model_module": "@jupyter-widgets/base",
            "top": null,
            "grid_column": null,
            "overflow_y": null,
            "overflow_x": null,
            "grid_auto_flow": null,
            "grid_area": null,
            "grid_template_columns": null,
            "flex": null,
            "_model_name": "LayoutModel",
            "justify_items": null,
            "grid_row": null,
            "max_height": null,
            "align_content": null,
            "visibility": null,
            "align_self": null,
            "height": null,
            "min_height": null,
            "padding": null,
            "grid_auto_rows": null,
            "grid_gap": null,
            "max_width": null,
            "order": null,
            "_view_module_version": "1.2.0",
            "grid_template_areas": null,
            "object_position": null,
            "object_fit": null,
            "grid_auto_columns": null,
            "margin": null,
            "display": null,
            "left": null
          }
        },
        "fada77d63f6449ae848244b74c03e61d": {
          "model_module": "@jupyter-widgets/controls",
          "model_name": "HBoxModel",
          "state": {
            "_view_name": "HBoxView",
            "_dom_classes": [],
            "_model_name": "HBoxModel",
            "_view_module": "@jupyter-widgets/controls",
            "_model_module_version": "1.5.0",
            "_view_count": null,
            "_view_module_version": "1.5.0",
            "box_style": "",
            "layout": "IPY_MODEL_713b31bd0159455f82f4dcf5586ad1d3",
            "_model_module": "@jupyter-widgets/controls",
            "children": [
              "IPY_MODEL_789efbb5a752475a8377ee73f0a37c72",
              "IPY_MODEL_fe7ceb854c434b69bbee4d72a3aa58f4"
            ]
          }
        },
        "713b31bd0159455f82f4dcf5586ad1d3": {
          "model_module": "@jupyter-widgets/base",
          "model_name": "LayoutModel",
          "state": {
            "_view_name": "LayoutView",
            "grid_template_rows": null,
            "right": null,
            "justify_content": null,
            "_view_module": "@jupyter-widgets/base",
            "overflow": null,
            "_model_module_version": "1.2.0",
            "_view_count": null,
            "flex_flow": null,
            "width": null,
            "min_width": null,
            "border": null,
            "align_items": null,
            "bottom": null,
            "_model_module": "@jupyter-widgets/base",
            "top": null,
            "grid_column": null,
            "overflow_y": null,
            "overflow_x": null,
            "grid_auto_flow": null,
            "grid_area": null,
            "grid_template_columns": null,
            "flex": null,
            "_model_name": "LayoutModel",
            "justify_items": null,
            "grid_row": null,
            "max_height": null,
            "align_content": null,
            "visibility": null,
            "align_self": null,
            "height": null,
            "min_height": null,
            "padding": null,
            "grid_auto_rows": null,
            "grid_gap": null,
            "max_width": null,
            "order": null,
            "_view_module_version": "1.2.0",
            "grid_template_areas": null,
            "object_position": null,
            "object_fit": null,
            "grid_auto_columns": null,
            "margin": null,
            "display": null,
            "left": null
          }
        },
        "789efbb5a752475a8377ee73f0a37c72": {
          "model_module": "@jupyter-widgets/controls",
          "model_name": "FloatProgressModel",
          "state": {
            "_view_name": "ProgressView",
            "style": "IPY_MODEL_f630e18592324c76b99887b91a63bf1f",
            "_dom_classes": [],
            "description": "Training Epoch 3: 100%",
            "_model_name": "FloatProgressModel",
            "bar_style": "success",
            "max": 469,
            "_view_module": "@jupyter-widgets/controls",
            "_model_module_version": "1.5.0",
            "value": 469,
            "_view_count": null,
            "_view_module_version": "1.5.0",
            "orientation": "horizontal",
            "min": 0,
            "description_tooltip": null,
            "_model_module": "@jupyter-widgets/controls",
            "layout": "IPY_MODEL_dadd1a07dd2b45e3967c4760b87f56fa"
          }
        },
        "fe7ceb854c434b69bbee4d72a3aa58f4": {
          "model_module": "@jupyter-widgets/controls",
          "model_name": "HTMLModel",
          "state": {
            "_view_name": "HTMLView",
            "style": "IPY_MODEL_16d84a97817a48c4b3e2e133e389811b",
            "_dom_classes": [],
            "description": "",
            "_model_name": "HTMLModel",
            "placeholder": "​",
            "_view_module": "@jupyter-widgets/controls",
            "_model_module_version": "1.5.0",
            "value": " 469/469 [16:28&lt;00:00,  2.11s/it, disc_loss=0.488, gen_loss=1.7]",
            "_view_count": null,
            "_view_module_version": "1.5.0",
            "description_tooltip": null,
            "_model_module": "@jupyter-widgets/controls",
            "layout": "IPY_MODEL_273fc56f6f74403b9e964d5e89bf67b9"
          }
        },
        "f630e18592324c76b99887b91a63bf1f": {
          "model_module": "@jupyter-widgets/controls",
          "model_name": "ProgressStyleModel",
          "state": {
            "_view_name": "StyleView",
            "_model_name": "ProgressStyleModel",
            "description_width": "initial",
            "_view_module": "@jupyter-widgets/base",
            "_model_module_version": "1.5.0",
            "_view_count": null,
            "_view_module_version": "1.2.0",
            "bar_color": null,
            "_model_module": "@jupyter-widgets/controls"
          }
        },
        "dadd1a07dd2b45e3967c4760b87f56fa": {
          "model_module": "@jupyter-widgets/base",
          "model_name": "LayoutModel",
          "state": {
            "_view_name": "LayoutView",
            "grid_template_rows": null,
            "right": null,
            "justify_content": null,
            "_view_module": "@jupyter-widgets/base",
            "overflow": null,
            "_model_module_version": "1.2.0",
            "_view_count": null,
            "flex_flow": null,
            "width": null,
            "min_width": null,
            "border": null,
            "align_items": null,
            "bottom": null,
            "_model_module": "@jupyter-widgets/base",
            "top": null,
            "grid_column": null,
            "overflow_y": null,
            "overflow_x": null,
            "grid_auto_flow": null,
            "grid_area": null,
            "grid_template_columns": null,
            "flex": null,
            "_model_name": "LayoutModel",
            "justify_items": null,
            "grid_row": null,
            "max_height": null,
            "align_content": null,
            "visibility": null,
            "align_self": null,
            "height": null,
            "min_height": null,
            "padding": null,
            "grid_auto_rows": null,
            "grid_gap": null,
            "max_width": null,
            "order": null,
            "_view_module_version": "1.2.0",
            "grid_template_areas": null,
            "object_position": null,
            "object_fit": null,
            "grid_auto_columns": null,
            "margin": null,
            "display": null,
            "left": null
          }
        },
        "16d84a97817a48c4b3e2e133e389811b": {
          "model_module": "@jupyter-widgets/controls",
          "model_name": "DescriptionStyleModel",
          "state": {
            "_view_name": "StyleView",
            "_model_name": "DescriptionStyleModel",
            "description_width": "",
            "_view_module": "@jupyter-widgets/base",
            "_model_module_version": "1.5.0",
            "_view_count": null,
            "_view_module_version": "1.2.0",
            "_model_module": "@jupyter-widgets/controls"
          }
        },
        "273fc56f6f74403b9e964d5e89bf67b9": {
          "model_module": "@jupyter-widgets/base",
          "model_name": "LayoutModel",
          "state": {
            "_view_name": "LayoutView",
            "grid_template_rows": null,
            "right": null,
            "justify_content": null,
            "_view_module": "@jupyter-widgets/base",
            "overflow": null,
            "_model_module_version": "1.2.0",
            "_view_count": null,
            "flex_flow": null,
            "width": null,
            "min_width": null,
            "border": null,
            "align_items": null,
            "bottom": null,
            "_model_module": "@jupyter-widgets/base",
            "top": null,
            "grid_column": null,
            "overflow_y": null,
            "overflow_x": null,
            "grid_auto_flow": null,
            "grid_area": null,
            "grid_template_columns": null,
            "flex": null,
            "_model_name": "LayoutModel",
            "justify_items": null,
            "grid_row": null,
            "max_height": null,
            "align_content": null,
            "visibility": null,
            "align_self": null,
            "height": null,
            "min_height": null,
            "padding": null,
            "grid_auto_rows": null,
            "grid_gap": null,
            "max_width": null,
            "order": null,
            "_view_module_version": "1.2.0",
            "grid_template_areas": null,
            "object_position": null,
            "object_fit": null,
            "grid_auto_columns": null,
            "margin": null,
            "display": null,
            "left": null
          }
        },
        "90bae125bb514ece957091025b9d04e3": {
          "model_module": "@jupyter-widgets/controls",
          "model_name": "HBoxModel",
          "state": {
            "_view_name": "HBoxView",
            "_dom_classes": [],
            "_model_name": "HBoxModel",
            "_view_module": "@jupyter-widgets/controls",
            "_model_module_version": "1.5.0",
            "_view_count": null,
            "_view_module_version": "1.5.0",
            "box_style": "",
            "layout": "IPY_MODEL_181ad99b00a248ae9552701692746ddb",
            "_model_module": "@jupyter-widgets/controls",
            "children": [
              "IPY_MODEL_f336ccb9915042e9bb5418f335a4c4a2",
              "IPY_MODEL_0d9275f024994309b2b11933c920cb9b"
            ]
          }
        },
        "181ad99b00a248ae9552701692746ddb": {
          "model_module": "@jupyter-widgets/base",
          "model_name": "LayoutModel",
          "state": {
            "_view_name": "LayoutView",
            "grid_template_rows": null,
            "right": null,
            "justify_content": null,
            "_view_module": "@jupyter-widgets/base",
            "overflow": null,
            "_model_module_version": "1.2.0",
            "_view_count": null,
            "flex_flow": null,
            "width": null,
            "min_width": null,
            "border": null,
            "align_items": null,
            "bottom": null,
            "_model_module": "@jupyter-widgets/base",
            "top": null,
            "grid_column": null,
            "overflow_y": null,
            "overflow_x": null,
            "grid_auto_flow": null,
            "grid_area": null,
            "grid_template_columns": null,
            "flex": null,
            "_model_name": "LayoutModel",
            "justify_items": null,
            "grid_row": null,
            "max_height": null,
            "align_content": null,
            "visibility": null,
            "align_self": null,
            "height": null,
            "min_height": null,
            "padding": null,
            "grid_auto_rows": null,
            "grid_gap": null,
            "max_width": null,
            "order": null,
            "_view_module_version": "1.2.0",
            "grid_template_areas": null,
            "object_position": null,
            "object_fit": null,
            "grid_auto_columns": null,
            "margin": null,
            "display": null,
            "left": null
          }
        },
        "f336ccb9915042e9bb5418f335a4c4a2": {
          "model_module": "@jupyter-widgets/controls",
          "model_name": "FloatProgressModel",
          "state": {
            "_view_name": "ProgressView",
            "style": "IPY_MODEL_31ece16d64094a0fb95a94899318c124",
            "_dom_classes": [],
            "description": "Training Epoch 4: 100%",
            "_model_name": "FloatProgressModel",
            "bar_style": "success",
            "max": 469,
            "_view_module": "@jupyter-widgets/controls",
            "_model_module_version": "1.5.0",
            "value": 469,
            "_view_count": null,
            "_view_module_version": "1.5.0",
            "orientation": "horizontal",
            "min": 0,
            "description_tooltip": null,
            "_model_module": "@jupyter-widgets/controls",
            "layout": "IPY_MODEL_81792aeab1c949cfaac3feea7711a488"
          }
        },
        "0d9275f024994309b2b11933c920cb9b": {
          "model_module": "@jupyter-widgets/controls",
          "model_name": "HTMLModel",
          "state": {
            "_view_name": "HTMLView",
            "style": "IPY_MODEL_cee95e1331f0474891be898a32f1e86a",
            "_dom_classes": [],
            "description": "",
            "_model_name": "HTMLModel",
            "placeholder": "​",
            "_view_module": "@jupyter-widgets/controls",
            "_model_module_version": "1.5.0",
            "value": " 469/469 [09:35&lt;00:00,  1.23s/it, disc_loss=0.496, gen_loss=1.66]",
            "_view_count": null,
            "_view_module_version": "1.5.0",
            "description_tooltip": null,
            "_model_module": "@jupyter-widgets/controls",
            "layout": "IPY_MODEL_4118b3e855f4466b8946b0e7072fc2fa"
          }
        },
        "31ece16d64094a0fb95a94899318c124": {
          "model_module": "@jupyter-widgets/controls",
          "model_name": "ProgressStyleModel",
          "state": {
            "_view_name": "StyleView",
            "_model_name": "ProgressStyleModel",
            "description_width": "initial",
            "_view_module": "@jupyter-widgets/base",
            "_model_module_version": "1.5.0",
            "_view_count": null,
            "_view_module_version": "1.2.0",
            "bar_color": null,
            "_model_module": "@jupyter-widgets/controls"
          }
        },
        "81792aeab1c949cfaac3feea7711a488": {
          "model_module": "@jupyter-widgets/base",
          "model_name": "LayoutModel",
          "state": {
            "_view_name": "LayoutView",
            "grid_template_rows": null,
            "right": null,
            "justify_content": null,
            "_view_module": "@jupyter-widgets/base",
            "overflow": null,
            "_model_module_version": "1.2.0",
            "_view_count": null,
            "flex_flow": null,
            "width": null,
            "min_width": null,
            "border": null,
            "align_items": null,
            "bottom": null,
            "_model_module": "@jupyter-widgets/base",
            "top": null,
            "grid_column": null,
            "overflow_y": null,
            "overflow_x": null,
            "grid_auto_flow": null,
            "grid_area": null,
            "grid_template_columns": null,
            "flex": null,
            "_model_name": "LayoutModel",
            "justify_items": null,
            "grid_row": null,
            "max_height": null,
            "align_content": null,
            "visibility": null,
            "align_self": null,
            "height": null,
            "min_height": null,
            "padding": null,
            "grid_auto_rows": null,
            "grid_gap": null,
            "max_width": null,
            "order": null,
            "_view_module_version": "1.2.0",
            "grid_template_areas": null,
            "object_position": null,
            "object_fit": null,
            "grid_auto_columns": null,
            "margin": null,
            "display": null,
            "left": null
          }
        },
        "cee95e1331f0474891be898a32f1e86a": {
          "model_module": "@jupyter-widgets/controls",
          "model_name": "DescriptionStyleModel",
          "state": {
            "_view_name": "StyleView",
            "_model_name": "DescriptionStyleModel",
            "description_width": "",
            "_view_module": "@jupyter-widgets/base",
            "_model_module_version": "1.5.0",
            "_view_count": null,
            "_view_module_version": "1.2.0",
            "_model_module": "@jupyter-widgets/controls"
          }
        },
        "4118b3e855f4466b8946b0e7072fc2fa": {
          "model_module": "@jupyter-widgets/base",
          "model_name": "LayoutModel",
          "state": {
            "_view_name": "LayoutView",
            "grid_template_rows": null,
            "right": null,
            "justify_content": null,
            "_view_module": "@jupyter-widgets/base",
            "overflow": null,
            "_model_module_version": "1.2.0",
            "_view_count": null,
            "flex_flow": null,
            "width": null,
            "min_width": null,
            "border": null,
            "align_items": null,
            "bottom": null,
            "_model_module": "@jupyter-widgets/base",
            "top": null,
            "grid_column": null,
            "overflow_y": null,
            "overflow_x": null,
            "grid_auto_flow": null,
            "grid_area": null,
            "grid_template_columns": null,
            "flex": null,
            "_model_name": "LayoutModel",
            "justify_items": null,
            "grid_row": null,
            "max_height": null,
            "align_content": null,
            "visibility": null,
            "align_self": null,
            "height": null,
            "min_height": null,
            "padding": null,
            "grid_auto_rows": null,
            "grid_gap": null,
            "max_width": null,
            "order": null,
            "_view_module_version": "1.2.0",
            "grid_template_areas": null,
            "object_position": null,
            "object_fit": null,
            "grid_auto_columns": null,
            "margin": null,
            "display": null,
            "left": null
          }
        },
        "8aa0e33fcf2d4c13a0193dee3636ed45": {
          "model_module": "@jupyter-widgets/controls",
          "model_name": "HBoxModel",
          "state": {
            "_view_name": "HBoxView",
            "_dom_classes": [],
            "_model_name": "HBoxModel",
            "_view_module": "@jupyter-widgets/controls",
            "_model_module_version": "1.5.0",
            "_view_count": null,
            "_view_module_version": "1.5.0",
            "box_style": "",
            "layout": "IPY_MODEL_068cfb64deef4b01975f7f9a5fbee6f7",
            "_model_module": "@jupyter-widgets/controls",
            "children": [
              "IPY_MODEL_ccfe139e7e2e4af09f17337e24196f73",
              "IPY_MODEL_51c5c67a4774466d812443bd829784fb"
            ]
          }
        },
        "068cfb64deef4b01975f7f9a5fbee6f7": {
          "model_module": "@jupyter-widgets/base",
          "model_name": "LayoutModel",
          "state": {
            "_view_name": "LayoutView",
            "grid_template_rows": null,
            "right": null,
            "justify_content": null,
            "_view_module": "@jupyter-widgets/base",
            "overflow": null,
            "_model_module_version": "1.2.0",
            "_view_count": null,
            "flex_flow": null,
            "width": null,
            "min_width": null,
            "border": null,
            "align_items": null,
            "bottom": null,
            "_model_module": "@jupyter-widgets/base",
            "top": null,
            "grid_column": null,
            "overflow_y": null,
            "overflow_x": null,
            "grid_auto_flow": null,
            "grid_area": null,
            "grid_template_columns": null,
            "flex": null,
            "_model_name": "LayoutModel",
            "justify_items": null,
            "grid_row": null,
            "max_height": null,
            "align_content": null,
            "visibility": null,
            "align_self": null,
            "height": null,
            "min_height": null,
            "padding": null,
            "grid_auto_rows": null,
            "grid_gap": null,
            "max_width": null,
            "order": null,
            "_view_module_version": "1.2.0",
            "grid_template_areas": null,
            "object_position": null,
            "object_fit": null,
            "grid_auto_columns": null,
            "margin": null,
            "display": null,
            "left": null
          }
        },
        "ccfe139e7e2e4af09f17337e24196f73": {
          "model_module": "@jupyter-widgets/controls",
          "model_name": "FloatProgressModel",
          "state": {
            "_view_name": "ProgressView",
            "style": "IPY_MODEL_cd03287af7fe4a0581f19d6ff69718c6",
            "_dom_classes": [],
            "description": "Training Epoch 5:  41%",
            "_model_name": "FloatProgressModel",
            "bar_style": "danger",
            "max": 469,
            "_view_module": "@jupyter-widgets/controls",
            "_model_module_version": "1.5.0",
            "value": 190,
            "_view_count": null,
            "_view_module_version": "1.5.0",
            "orientation": "horizontal",
            "min": 0,
            "description_tooltip": null,
            "_model_module": "@jupyter-widgets/controls",
            "layout": "IPY_MODEL_091ec005009646fab5c13d9419ee1ec4"
          }
        },
        "51c5c67a4774466d812443bd829784fb": {
          "model_module": "@jupyter-widgets/controls",
          "model_name": "HTMLModel",
          "state": {
            "_view_name": "HTMLView",
            "style": "IPY_MODEL_9919bb2b64094a7caf57ef02a0fd5115",
            "_dom_classes": [],
            "description": "",
            "_model_name": "HTMLModel",
            "placeholder": "​",
            "_view_module": "@jupyter-widgets/controls",
            "_model_module_version": "1.5.0",
            "value": " 190/469 [02:46&lt;04:02,  1.15it/s, disc_loss=0.486, gen_loss=1.65]",
            "_view_count": null,
            "_view_module_version": "1.5.0",
            "description_tooltip": null,
            "_model_module": "@jupyter-widgets/controls",
            "layout": "IPY_MODEL_dcb01924e9b042d58cd2025c6ac31bc8"
          }
        },
        "cd03287af7fe4a0581f19d6ff69718c6": {
          "model_module": "@jupyter-widgets/controls",
          "model_name": "ProgressStyleModel",
          "state": {
            "_view_name": "StyleView",
            "_model_name": "ProgressStyleModel",
            "description_width": "initial",
            "_view_module": "@jupyter-widgets/base",
            "_model_module_version": "1.5.0",
            "_view_count": null,
            "_view_module_version": "1.2.0",
            "bar_color": null,
            "_model_module": "@jupyter-widgets/controls"
          }
        },
        "091ec005009646fab5c13d9419ee1ec4": {
          "model_module": "@jupyter-widgets/base",
          "model_name": "LayoutModel",
          "state": {
            "_view_name": "LayoutView",
            "grid_template_rows": null,
            "right": null,
            "justify_content": null,
            "_view_module": "@jupyter-widgets/base",
            "overflow": null,
            "_model_module_version": "1.2.0",
            "_view_count": null,
            "flex_flow": null,
            "width": null,
            "min_width": null,
            "border": null,
            "align_items": null,
            "bottom": null,
            "_model_module": "@jupyter-widgets/base",
            "top": null,
            "grid_column": null,
            "overflow_y": null,
            "overflow_x": null,
            "grid_auto_flow": null,
            "grid_area": null,
            "grid_template_columns": null,
            "flex": null,
            "_model_name": "LayoutModel",
            "justify_items": null,
            "grid_row": null,
            "max_height": null,
            "align_content": null,
            "visibility": null,
            "align_self": null,
            "height": null,
            "min_height": null,
            "padding": null,
            "grid_auto_rows": null,
            "grid_gap": null,
            "max_width": null,
            "order": null,
            "_view_module_version": "1.2.0",
            "grid_template_areas": null,
            "object_position": null,
            "object_fit": null,
            "grid_auto_columns": null,
            "margin": null,
            "display": null,
            "left": null
          }
        },
        "9919bb2b64094a7caf57ef02a0fd5115": {
          "model_module": "@jupyter-widgets/controls",
          "model_name": "DescriptionStyleModel",
          "state": {
            "_view_name": "StyleView",
            "_model_name": "DescriptionStyleModel",
            "description_width": "",
            "_view_module": "@jupyter-widgets/base",
            "_model_module_version": "1.5.0",
            "_view_count": null,
            "_view_module_version": "1.2.0",
            "_model_module": "@jupyter-widgets/controls"
          }
        },
        "dcb01924e9b042d58cd2025c6ac31bc8": {
          "model_module": "@jupyter-widgets/base",
          "model_name": "LayoutModel",
          "state": {
            "_view_name": "LayoutView",
            "grid_template_rows": null,
            "right": null,
            "justify_content": null,
            "_view_module": "@jupyter-widgets/base",
            "overflow": null,
            "_model_module_version": "1.2.0",
            "_view_count": null,
            "flex_flow": null,
            "width": null,
            "min_width": null,
            "border": null,
            "align_items": null,
            "bottom": null,
            "_model_module": "@jupyter-widgets/base",
            "top": null,
            "grid_column": null,
            "overflow_y": null,
            "overflow_x": null,
            "grid_auto_flow": null,
            "grid_area": null,
            "grid_template_columns": null,
            "flex": null,
            "_model_name": "LayoutModel",
            "justify_items": null,
            "grid_row": null,
            "max_height": null,
            "align_content": null,
            "visibility": null,
            "align_self": null,
            "height": null,
            "min_height": null,
            "padding": null,
            "grid_auto_rows": null,
            "grid_gap": null,
            "max_width": null,
            "order": null,
            "_view_module_version": "1.2.0",
            "grid_template_areas": null,
            "object_position": null,
            "object_fit": null,
            "grid_auto_columns": null,
            "margin": null,
            "display": null,
            "left": null
          }
        }
      }
    }
  },
  "cells": [
    {
      "cell_type": "markdown",
      "metadata": {
        "id": "view-in-github",
        "colab_type": "text"
      },
      "source": [
        "<a href=\"https://colab.research.google.com/github/aashishpiitk/from-Scratch/blob/master/DCGAN_MNIST.ipynb\" target=\"_parent\"><img src=\"https://colab.research.google.com/assets/colab-badge.svg\" alt=\"Open In Colab\"/></a>"
      ]
    },
    {
      "cell_type": "code",
      "metadata": {
        "colab": {
          "base_uri": "https://localhost:8080/"
        },
        "id": "qZDNt1oeUMUD",
        "outputId": "71bfa4f8-a73e-4908-8c29-bd0f34c65b38"
      },
      "source": [
        "import argparse\n",
        "import os\n",
        "import random\n",
        "import torch\n",
        "import torch.nn as nn\n",
        "import torch.nn.parallel\n",
        "import torch.backends.cudnn as cudnn\n",
        "import torch.optim as optim\n",
        "import torch.utils.data\n",
        "import torchvision.datasets as dset\n",
        "import torchvision.transforms as transforms\n",
        "import torchvision.utils as vutils\n",
        "import numpy as np\n",
        "import matplotlib.pyplot as plt\n",
        "import matplotlib.animation as animation\n",
        "from IPython.display import HTML\n",
        "import numpy as np\n",
        "import pandas as pd\n",
        "import os, math, sys\n",
        "import glob, itertools\n",
        "import argparse, random\n",
        "\n",
        "import torch\n",
        "import torch.nn as nn\n",
        "import torch.nn.functional as F\n",
        "from torch.autograd import Variable\n",
        "from torchvision.models import vgg19\n",
        "import torchvision.transforms as transforms\n",
        "from torch.utils.data import DataLoader, Dataset\n",
        "from torchvision.utils import save_image, make_grid\n",
        "\n",
        "import plotly\n",
        "import plotly.express as px\n",
        "import plotly.graph_objects as go\n",
        "import matplotlib.pyplot as plt\n",
        "\n",
        "from PIL import Image\n",
        "from tqdm import tqdm_notebook as tqdm\n",
        "from sklearn.model_selection import train_test_split\n",
        "import torchvision.datasets as datasets\n",
        "random.seed(42)\n",
        "import warnings\n",
        "warnings.filterwarnings(\"ignore\")\n",
        "\n",
        "import math\n",
        "\n",
        "manualSeed = 999\n",
        "#manualSeed = random.randint(1, 10000) # use if you want new results\n",
        "print(\"Random Seed: \", manualSeed)\n",
        "random.seed(manualSeed)\n",
        "torch.manual_seed(manualSeed)"
      ],
      "execution_count": null,
      "outputs": [
        {
          "output_type": "stream",
          "text": [
            "Random Seed:  999\n"
          ],
          "name": "stdout"
        },
        {
          "output_type": "execute_result",
          "data": {
            "text/plain": [
              "<torch._C.Generator at 0x7fe65219c590>"
            ]
          },
          "metadata": {
            "tags": []
          },
          "execution_count": 1
        }
      ]
    },
    {
      "cell_type": "code",
      "metadata": {
        "id": "ARkitfJ1Wijv"
      },
      "source": [
        "### preparing the celebA dataset\n",
        "\n",
        "% mkdir /content/dataset\n"
      ],
      "execution_count": null,
      "outputs": []
    },
    {
      "cell_type": "code",
      "metadata": {
        "id": "nIIHyjGqvaeJ"
      },
      "source": [
        ""
      ],
      "execution_count": null,
      "outputs": []
    },
    {
      "cell_type": "code",
      "metadata": {
        "id": "eZ_X5qWXHzEb"
      },
      "source": [
        "# Root directory for dataset\n",
        "dataset_path = \"/content/dataset/img_align_celeba\"\n",
        "\n",
        "# Number of workers for dataloader\n",
        "workers = 2\n",
        "\n",
        "# Batch size during training\n",
        "batch_size = 128\n",
        "\n",
        "# Spatial size of training images. All images will be resized to this\n",
        "#   size using a transformer.\n",
        "im_shape = (64,64)\n",
        "\n",
        "# Number of channels in the training images. For color images this is 3\n",
        "nc = 1\n",
        "\n",
        "# Size of z latent vector (i.e. size of generator input)\n",
        "nz = 100 ## nz denotes the number of channels\n",
        "\n",
        "# Size of feature maps in generator\n",
        "ngf = 128\n",
        "\n",
        "# Size of feature maps in discriminator\n",
        "ndf = 128\n",
        "\n",
        "# Number of training epochs\n",
        "num_epochs = 10\n",
        "\n",
        "# Learning rate for optimizers\n",
        "lr = 0.0002\n",
        "\n",
        "# Beta1 hyperparam for Adam optimizers\n",
        "beta1 = 0.5\n",
        "\n",
        "# Number of GPUs available. Use 0 for CPU mode.\n",
        "ngpu = 1"
      ],
      "execution_count": null,
      "outputs": []
    },
    {
      "cell_type": "code",
      "metadata": {
        "colab": {
          "base_uri": "https://localhost:8080/",
          "height": 539,
          "referenced_widgets": [
            "934644af964644fb895bd8e477554819",
            "7765824b72204277974a17287a4200ad",
            "5ab5d678b460466794e42ef744659762",
            "344ad65394f14e6c9af9e6a670525c76",
            "acc1fa74db4e4540aff19ebdd4cc63bd",
            "a68bc39df442437c8885131fe9c29c91",
            "eb6626cbe3574d56a8e570826da5a527",
            "cb07a8d2d1004dc584961f9289019ac8",
            "4352b388d78648618b42c1efd55f0191",
            "2d129c08be3b4049bfeee0abdf4ee398",
            "abfaf55177fc4282a6320d45e3ff361f",
            "984073ee69c341faa7f0fca8804b93a6",
            "8ddb6ec4d560421398104256e79af4e9",
            "5239aa66507b4846bb8b446a5fa72f51",
            "504e259e47db4caa967d008962dac150",
            "abe95feb6582461f938cc3045d3ddc72",
            "021012c3f9fb46318aec28e62a4311de",
            "20277fdaf6cd4e4197f9c28438fc50d1",
            "d755fa3f10b8442f900e57068b4b084d",
            "4922e0bcfec549abb2d0806d3f3c90ce",
            "adfba6f282b9422692b84d6428fd8722",
            "4616259b475447358c8daff80d0eccab",
            "4420c9530d754d5aac877fe944b298ce",
            "5cfd25ed3c33460b872c03963509b56a",
            "da8cb9c76c1d4eb9a09e08e36aa88dbd",
            "d5a84702e17e4e5e94d6bd3576093afa",
            "fdccaec04c6b4cca98beae257f77935c",
            "361a381258524b6f880f6e2131ce20f7",
            "6b9a5b05f5d644b09f0196b000d52dc4",
            "6ca0c4e5f96346db809432eebb4be61b",
            "1dc19582a11c42269c97c166fed303f6",
            "067535d4cdce4ee8be746e6572c6cfa1"
          ]
        },
        "id": "HtTceyEWvEME",
        "outputId": "a54dab26-db01-4c2c-ce2e-46386373e449"
      },
      "source": [
        "my_transforms = transforms.Compose([\n",
        "    transforms.Resize((64,64)),\n",
        "    transforms.ToTensor(),\n",
        "    transforms.Normalize((0.5,),(0.5,)),\n",
        "    ])\n",
        "\n",
        "dataset = datasets.MNIST(root='/content/dataset', train=True, transform=my_transforms, download=True)\n",
        "dataloader = DataLoader(dataset, batch_size=batch_size, shuffle=True, num_workers=2)"
      ],
      "execution_count": null,
      "outputs": [
        {
          "output_type": "stream",
          "text": [
            "Downloading http://yann.lecun.com/exdb/mnist/train-images-idx3-ubyte.gz\n",
            "Downloading http://yann.lecun.com/exdb/mnist/train-images-idx3-ubyte.gz to /content/dataset/MNIST/raw/train-images-idx3-ubyte.gz\n"
          ],
          "name": "stdout"
        },
        {
          "output_type": "display_data",
          "data": {
            "application/vnd.jupyter.widget-view+json": {
              "model_id": "934644af964644fb895bd8e477554819",
              "version_minor": 0,
              "version_major": 2
            },
            "text/plain": [
              "HBox(children=(FloatProgress(value=0.0, max=9912422.0), HTML(value='')))"
            ]
          },
          "metadata": {
            "tags": []
          }
        },
        {
          "output_type": "stream",
          "text": [
            "\n",
            "Extracting /content/dataset/MNIST/raw/train-images-idx3-ubyte.gz to /content/dataset/MNIST/raw\n",
            "\n",
            "Downloading http://yann.lecun.com/exdb/mnist/train-labels-idx1-ubyte.gz\n",
            "Downloading http://yann.lecun.com/exdb/mnist/train-labels-idx1-ubyte.gz to /content/dataset/MNIST/raw/train-labels-idx1-ubyte.gz\n"
          ],
          "name": "stdout"
        },
        {
          "output_type": "display_data",
          "data": {
            "application/vnd.jupyter.widget-view+json": {
              "model_id": "4352b388d78648618b42c1efd55f0191",
              "version_minor": 0,
              "version_major": 2
            },
            "text/plain": [
              "HBox(children=(FloatProgress(value=0.0, max=28881.0), HTML(value='')))"
            ]
          },
          "metadata": {
            "tags": []
          }
        },
        {
          "output_type": "stream",
          "text": [
            "\n",
            "Extracting /content/dataset/MNIST/raw/train-labels-idx1-ubyte.gz to /content/dataset/MNIST/raw\n",
            "\n",
            "Downloading http://yann.lecun.com/exdb/mnist/t10k-images-idx3-ubyte.gz\n",
            "Downloading http://yann.lecun.com/exdb/mnist/t10k-images-idx3-ubyte.gz to /content/dataset/MNIST/raw/t10k-images-idx3-ubyte.gz\n"
          ],
          "name": "stdout"
        },
        {
          "output_type": "display_data",
          "data": {
            "application/vnd.jupyter.widget-view+json": {
              "model_id": "021012c3f9fb46318aec28e62a4311de",
              "version_minor": 0,
              "version_major": 2
            },
            "text/plain": [
              "HBox(children=(FloatProgress(value=0.0, max=1648877.0), HTML(value='')))"
            ]
          },
          "metadata": {
            "tags": []
          }
        },
        {
          "output_type": "stream",
          "text": [
            "\n",
            "Extracting /content/dataset/MNIST/raw/t10k-images-idx3-ubyte.gz to /content/dataset/MNIST/raw\n",
            "\n",
            "Downloading http://yann.lecun.com/exdb/mnist/t10k-labels-idx1-ubyte.gz\n",
            "Downloading http://yann.lecun.com/exdb/mnist/t10k-labels-idx1-ubyte.gz to /content/dataset/MNIST/raw/t10k-labels-idx1-ubyte.gz\n"
          ],
          "name": "stdout"
        },
        {
          "output_type": "display_data",
          "data": {
            "application/vnd.jupyter.widget-view+json": {
              "model_id": "da8cb9c76c1d4eb9a09e08e36aa88dbd",
              "version_minor": 0,
              "version_major": 2
            },
            "text/plain": [
              "HBox(children=(FloatProgress(value=0.0, max=4542.0), HTML(value='')))"
            ]
          },
          "metadata": {
            "tags": []
          }
        },
        {
          "output_type": "stream",
          "text": [
            "\n",
            "Extracting /content/dataset/MNIST/raw/t10k-labels-idx1-ubyte.gz to /content/dataset/MNIST/raw\n",
            "\n",
            "Processing...\n",
            "Done!\n"
          ],
          "name": "stdout"
        }
      ]
    },
    {
      "cell_type": "code",
      "metadata": {
        "colab": {
          "base_uri": "https://localhost:8080/"
        },
        "id": "EVwZlcSewm3h",
        "outputId": "2341153d-e8ef-4c44-e1ce-d095c5b10470"
      },
      "source": [
        "len(dataloader)"
      ],
      "execution_count": null,
      "outputs": [
        {
          "output_type": "execute_result",
          "data": {
            "text/plain": [
              "469"
            ]
          },
          "metadata": {
            "tags": []
          },
          "execution_count": 5
        }
      ]
    },
    {
      "cell_type": "code",
      "metadata": {
        "id": "rJBWUaCrOZnF"
      },
      "source": [
        "# custom weights initialization called on netG and netD\n",
        "\n",
        "def weights_init(m):\n",
        "    classname = m.__class__.__name__\n",
        "    if classname.find('Conv') != -1:\n",
        "        nn.init.normal_(m.weight.data, 0.0, 0.02)\n",
        "    elif classname.find('BatchNorm') != -1:\n",
        "        nn.init.normal_(m.weight.data, 1.0, 0.02)\n",
        "        nn.init.constant_(m.bias.data, 0)"
      ],
      "execution_count": null,
      "outputs": []
    },
    {
      "cell_type": "code",
      "metadata": {
        "id": "u1TUD2OcWBOr"
      },
      "source": [
        "## Writing my first generator code\n",
        "\n",
        "class Generator(nn.Module):\n",
        "  def __init__(self, ngpu):\n",
        "    super(Generator, self).__init__()\n",
        "    self.ngpu = ngpu\n",
        "    self.net = nn.Sequential(\n",
        "        # input is Z (noise vector) going into a transpose convolution\n",
        "        nn.ConvTranspose2d(nz, ngf*8, kernel_size=4, stride=1, padding=0,bias=False),\n",
        "        nn.BatchNorm2d(ngf*8),  # batchnorm on 4d input, with one dimension for number of images and one for channels, the first argument is the numner of features\n",
        "        nn.ReLU(inplace=True),\n",
        "\n",
        "        # state size ==== (ngf*8) x 4 x 4 ## think of it as applying a conv with kernel=(4x4) with stride 1 on (ngf*8) x 4 x4, then result would be (ngf*8)x1x1\n",
        "        nn.ConvTranspose2d(ngf*8, ngf*4, 4, stride=2, padding=1, bias=False),\n",
        "        nn.BatchNorm2d(ngf*4),\n",
        "        nn.ReLU(True),\n",
        "\n",
        "        # state size == (ngf*4) x 8 x 8\n",
        "        nn.ConvTranspose2d(ngf*4, ngf*2, 4, stride=2, padding=1, bias=False),\n",
        "        nn.BatchNorm2d(ngf*2),\n",
        "        nn.ReLU(True),\n",
        "\n",
        "        # state size == (ngf*2) x 16 x 16\n",
        "        nn.ConvTranspose2d(ngf*2, ngf, 4, stride=2, padding=1, bias=False),\n",
        "        nn.BatchNorm2d(ngf),\n",
        "        nn.ReLU(True),\n",
        "\n",
        "        # state size == (ngf) x 32 x 32\n",
        "        nn.ConvTranspose2d(ngf, nc, 4, 2, 1, bias=False),\n",
        "        nn.Tanh()\n",
        "    )\n",
        "\n",
        "  def forward(self, input):\n",
        "    return self.net(input)"
      ],
      "execution_count": null,
      "outputs": []
    },
    {
      "cell_type": "code",
      "metadata": {
        "id": "RE1LQfi0Oodi"
      },
      "source": [
        "# Decide which device we want to run on\n",
        "device = torch.device(\"cuda:0\" if (torch.cuda.is_available() and ngpu > 0) else \"cpu\")"
      ],
      "execution_count": null,
      "outputs": []
    },
    {
      "cell_type": "code",
      "metadata": {
        "id": "o0XWo-AqOa75"
      },
      "source": [
        "##### Writing my first disciminator\n",
        "class Discriminator(nn.Module):\n",
        "  def __init__(self, ngpu):\n",
        "    super(Discriminator, self).__init__()\n",
        "    self.ngpu = ngpu\n",
        "    self.net = nn.Sequential(\n",
        "        # input is (nc) x 64 x 64 with extra first dimension for number of images(batch_size)\n",
        "        nn.Conv2d(nc, ndf, 4, 2, 1, bias=False),\n",
        "        nn.LeakyReLU(0.2, inplace=True),\n",
        "\n",
        "        # state size === (ndf) x 32 x 32\n",
        "       nn.Conv2d(ndf, ndf*2, 4, 2,1, bias=False),\n",
        "       nn.BatchNorm2d(ndf*2),\n",
        "       nn.LeakyReLU(0.2, inplace=True),\n",
        "      # state size. (ndf*2) x 16 x 16\n",
        "      nn.Conv2d(ndf * 2, ndf * 4, 4, 2, 1, bias=False),\n",
        "      nn.BatchNorm2d(ndf * 4),\n",
        "      nn.LeakyReLU(0.2, inplace=True),\n",
        "      # state size. (ndf*4) x 8 x 8\n",
        "      nn.Conv2d(ndf * 4, ndf * 8, 4, 2, 1, bias=False),\n",
        "      nn.BatchNorm2d(ndf * 8),\n",
        "      nn.LeakyReLU(0.2, inplace=True),\n",
        "      # state size. (ndf*8) x 4 x 4\n",
        "      nn.Conv2d(ndf * 8, 1, 4, 1, 0, bias=False),\n",
        "      # state size is (batch_size, 1, 1, 1)\n",
        "      nn.Sigmoid() ## as it is case of binary classification\n",
        "      # final state size is a sigle float value \n",
        "    )\n",
        "    self.output_shape = (1,1,1)\n",
        "\n",
        "  def forward(self, input):\n",
        "   return self.net(input)"
      ],
      "execution_count": null,
      "outputs": []
    },
    {
      "cell_type": "code",
      "metadata": {
        "colab": {
          "base_uri": "https://localhost:8080/"
        },
        "id": "vGdKT7iNRi_z",
        "outputId": "dc5b9ab5-3d16-420a-f5c4-4964ef8aa6f8"
      },
      "source": [
        "# Create the Discriminator\n",
        "netD = Discriminator(ngpu).to(device)\n",
        "\n",
        "# Handle multi-gpu if desired\n",
        "if (device.type == 'cuda') and (ngpu > 1):\n",
        "    netD = nn.DataParallel(netD, list(range(ngpu)))\n",
        "\n",
        "# Apply the weights_init function to randomly initialize all weights\n",
        "#  to mean=0, stdev=0.2.\n",
        "netD.apply(weights_init)\n",
        "\n",
        "# Print the model\n",
        "print(netD)"
      ],
      "execution_count": null,
      "outputs": [
        {
          "output_type": "stream",
          "text": [
            "Discriminator(\n",
            "  (net): Sequential(\n",
            "    (0): Conv2d(1, 128, kernel_size=(4, 4), stride=(2, 2), padding=(1, 1), bias=False)\n",
            "    (1): LeakyReLU(negative_slope=0.2, inplace=True)\n",
            "    (2): Conv2d(128, 256, kernel_size=(4, 4), stride=(2, 2), padding=(1, 1), bias=False)\n",
            "    (3): BatchNorm2d(256, eps=1e-05, momentum=0.1, affine=True, track_running_stats=True)\n",
            "    (4): LeakyReLU(negative_slope=0.2, inplace=True)\n",
            "    (5): Conv2d(256, 512, kernel_size=(4, 4), stride=(2, 2), padding=(1, 1), bias=False)\n",
            "    (6): BatchNorm2d(512, eps=1e-05, momentum=0.1, affine=True, track_running_stats=True)\n",
            "    (7): LeakyReLU(negative_slope=0.2, inplace=True)\n",
            "    (8): Conv2d(512, 1024, kernel_size=(4, 4), stride=(2, 2), padding=(1, 1), bias=False)\n",
            "    (9): BatchNorm2d(1024, eps=1e-05, momentum=0.1, affine=True, track_running_stats=True)\n",
            "    (10): LeakyReLU(negative_slope=0.2, inplace=True)\n",
            "    (11): Conv2d(1024, 1, kernel_size=(4, 4), stride=(1, 1), bias=False)\n",
            "    (12): Sigmoid()\n",
            "  )\n",
            ")\n"
          ],
          "name": "stdout"
        }
      ]
    },
    {
      "cell_type": "code",
      "metadata": {
        "colab": {
          "base_uri": "https://localhost:8080/"
        },
        "id": "Pk_pi-7UNZUr",
        "outputId": "7b828c52-871a-4fb0-ae3e-4c085d1e11f0"
      },
      "source": [
        "# create a generator\n",
        "netG = Generator(ngpu).to(device)\n",
        "\n",
        "# Handle multi-gpu if desired\n",
        "if (device.type == 'cuda') and (ngpu > 1):\n",
        "    netG = nn.DataParallel(netG, list(range(ngpu)))\n",
        "\n",
        "# Apply the weights_init function to randomly initialize all weights\n",
        "#  to mean=0, stdev=0.2.\n",
        "netG.apply(weights_init)\n",
        "\n",
        "# Print the model\n",
        "print(netG)"
      ],
      "execution_count": null,
      "outputs": [
        {
          "output_type": "stream",
          "text": [
            "Generator(\n",
            "  (net): Sequential(\n",
            "    (0): ConvTranspose2d(100, 1024, kernel_size=(4, 4), stride=(1, 1), bias=False)\n",
            "    (1): BatchNorm2d(1024, eps=1e-05, momentum=0.1, affine=True, track_running_stats=True)\n",
            "    (2): ReLU(inplace=True)\n",
            "    (3): ConvTranspose2d(1024, 512, kernel_size=(4, 4), stride=(2, 2), padding=(1, 1), bias=False)\n",
            "    (4): BatchNorm2d(512, eps=1e-05, momentum=0.1, affine=True, track_running_stats=True)\n",
            "    (5): ReLU(inplace=True)\n",
            "    (6): ConvTranspose2d(512, 256, kernel_size=(4, 4), stride=(2, 2), padding=(1, 1), bias=False)\n",
            "    (7): BatchNorm2d(256, eps=1e-05, momentum=0.1, affine=True, track_running_stats=True)\n",
            "    (8): ReLU(inplace=True)\n",
            "    (9): ConvTranspose2d(256, 128, kernel_size=(4, 4), stride=(2, 2), padding=(1, 1), bias=False)\n",
            "    (10): BatchNorm2d(128, eps=1e-05, momentum=0.1, affine=True, track_running_stats=True)\n",
            "    (11): ReLU(inplace=True)\n",
            "    (12): ConvTranspose2d(128, 1, kernel_size=(4, 4), stride=(2, 2), padding=(1, 1), bias=False)\n",
            "    (13): Tanh()\n",
            "  )\n",
            ")\n"
          ],
          "name": "stdout"
        }
      ]
    },
    {
      "cell_type": "code",
      "metadata": {
        "id": "ahqFER-CRr92"
      },
      "source": [
        "######### Now we enter the training part\n",
        "\n",
        "\n",
        "# initialize BCE loss function\n",
        "criterion = nn.BCELoss()\n",
        "\n",
        "# Create batch of latent vectors that we will use to visualize\n",
        "#  the progression of the generator\n",
        "fixed_noise = torch.randn(64, nz, 1, 1, device=device)\n",
        "\n",
        "# Establish convention for real and fake labels during training\n",
        "real_label = 1.\n",
        "fake_label = 0.\n",
        "\n",
        "# Setup Adam optimizers for both G and D\n",
        "optimizerD = optim.Adam(netD.parameters(), lr=lr, betas=(beta1, 0.999))\n",
        "optimizerG = optim.Adam(netG.parameters(), lr=lr, betas=(beta1, 0.999))"
      ],
      "execution_count": null,
      "outputs": []
    },
    {
      "cell_type": "code",
      "metadata": {
        "id": "_VtC57cGM4E8"
      },
      "source": [
        ""
      ],
      "execution_count": null,
      "outputs": []
    },
    {
      "cell_type": "code",
      "metadata": {
        "id": "nF1LPWpZSasU"
      },
      "source": [
        "# ########## Training loop\n",
        "\n",
        "# # lists to keep track of the progress\n",
        "\n",
        "# img_list = []\n",
        "# G_losses = []\n",
        "# D_losses = []\n",
        "# iters = 0\n",
        "\n",
        "# print(\"Starting Training Loop\")\n",
        "# # For each epoch\n",
        "# for epoch in range(num_epochs):\n",
        "#   #for each batch in dataloader\n",
        "#   for i, data in enumerate(dataloader, 0):\n",
        "\n",
        "#   ############################\n",
        "#         # (1) Update D network: maximize log(D(x)) + log(1 - D(G(z))),as we want to detect fake images\n",
        "#         ###########################\n",
        "#     ## train with all real batch\n",
        "#     netD.zero_grad() # initialize all the gradients as zero\n",
        "#     # format batch\n",
        "#     real_cpu = data[0].to(device)\n",
        "#     b_size = real_cpu.size(0) ## batch size\n",
        "#     label = torch.full((b_size,), real_label, dtype=torch.float, device=device)\n",
        "#     # forward pass real batch through D\n",
        "#     output = netD(real_cpu).view(-1)\n",
        "#     # calculate loss on all real batch\n",
        "#     errD_real = criterion(output, label)\n",
        "#     # calculate gradients for D in backward pass\n",
        "#     errD_real.backward()\n",
        "#     D_x = output.mean().item()\n",
        "\n",
        "#     ## Train with all-fake batch\n",
        "#     # generate batch of latent vectors\n",
        "#     noise = torch.randn(b_size, nz, 1, 1, device=device)\n",
        "#     # generate fake image with Generator model by passing the random vector\n",
        "#     fake = netG(noise)\n",
        "#     label.fill_(fake_label)\n",
        "\n",
        "#     # classify all fake batch with D\n",
        "#     output = netD(fake.detach()).view(-1)\n"
      ],
      "execution_count": null,
      "outputs": []
    },
    {
      "cell_type": "code",
      "metadata": {
        "id": "m5TR3UH_vsXF"
      },
      "source": [
        "## output of generator would be (batch_size, 3, 218, 178) ---> (batch_size, 3, 64, 64)\n",
        "## input of generator wouuld be (batch_size, nz, 1, 1)\n",
        "## input of discriminator is = output of discriminator = (batch_size, 3, 218, 178) ---> (batch_size, 3, 64, 64)\n",
        "## output of discriminator is ()"
      ],
      "execution_count": null,
      "outputs": []
    },
    {
      "cell_type": "code",
      "metadata": {
        "id": "dUhmQHA1cK0D"
      },
      "source": [
        "gen_output = netG(torch.randn(64,100,1,1).to(device))"
      ],
      "execution_count": null,
      "outputs": []
    },
    {
      "cell_type": "code",
      "metadata": {
        "colab": {
          "base_uri": "https://localhost:8080/"
        },
        "id": "cFzr6OXCbNkF",
        "outputId": "d2b04bb5-4b40-4e37-b3b0-b893693dc7b5"
      },
      "source": [
        "print(gen_output.shape)"
      ],
      "execution_count": null,
      "outputs": [
        {
          "output_type": "stream",
          "text": [
            "torch.Size([64, 1, 64, 64])\n"
          ],
          "name": "stdout"
        }
      ]
    },
    {
      "cell_type": "code",
      "metadata": {
        "id": "6NMiDPVQcPFc"
      },
      "source": [
        "disc_output = netD(gen_output)"
      ],
      "execution_count": null,
      "outputs": []
    },
    {
      "cell_type": "code",
      "metadata": {
        "colab": {
          "base_uri": "https://localhost:8080/"
        },
        "id": "Y3-DLTUBfqRy",
        "outputId": "fe26fe86-d6b1-4b12-ff9c-c71b7c029926"
      },
      "source": [
        "print(disc_output.shape)"
      ],
      "execution_count": null,
      "outputs": [
        {
          "output_type": "stream",
          "text": [
            "torch.Size([64, 1, 1, 1])\n"
          ],
          "name": "stdout"
        }
      ]
    },
    {
      "cell_type": "code",
      "metadata": {
        "id": "VlMYk9H7ft1J",
        "colab": {
          "base_uri": "https://localhost:8080/",
          "height": 285
        },
        "outputId": "fe56c16f-906d-4f52-da84-0933e39f8d22"
      },
      "source": [
        "plt.imshow(gen_output[0].detach().cpu().numpy().transpose(1,2,0).squeeze(2))"
      ],
      "execution_count": null,
      "outputs": [
        {
          "output_type": "execute_result",
          "data": {
            "text/plain": [
              "<matplotlib.image.AxesImage at 0x7fe636232e90>"
            ]
          },
          "metadata": {
            "tags": []
          },
          "execution_count": 54
        },
        {
          "output_type": "display_data",
          "data": {
            "image/png": "[encoded data removed]",
            "text/plain": [
              "<Figure size 432x288 with 1 Axes>"
            ]
          },
          "metadata": {
            "tags": [],
            "needs_background": "light"
          }
        }
      ]
    },
    {
      "cell_type": "code",
      "metadata": {
        "colab": {
          "base_uri": "https://localhost:8080/"
        },
        "id": "c6TLlNB8Oq2N",
        "outputId": "c1647d8a-dbb9-4033-fc22-91accadbd4a5"
      },
      "source": [
        "print(disc_output[0])"
      ],
      "execution_count": null,
      "outputs": [
        {
          "output_type": "stream",
          "text": [
            "tensor([[[0.3949]]], device='cuda:0', grad_fn=<SelectBackward>)\n"
          ],
          "name": "stdout"
        }
      ]
    },
    {
      "cell_type": "code",
      "metadata": {
        "colab": {
          "base_uri": "https://localhost:8080/"
        },
        "id": "DWQc_GZVFIKu",
        "outputId": "129ae989-74f8-4884-9bfe-93acefb26914"
      },
      "source": [
        "len(dataloader.dataset)"
      ],
      "execution_count": null,
      "outputs": [
        {
          "output_type": "execute_result",
          "data": {
            "text/plain": [
              "60000"
            ]
          },
          "metadata": {
            "tags": []
          },
          "execution_count": 55
        }
      ]
    },
    {
      "cell_type": "code",
      "metadata": {
        "id": "XAre0rkVsAf5",
        "colab": {
          "base_uri": "https://localhost:8080/",
          "height": 508,
          "referenced_widgets": [
            "abab0f34ef414c6b85262f03484a30a3",
            "f19db44c6ce642bfa1ecf07b03973be4",
            "ed9c4d6d0f664e59afd24f87f6bcaf3b",
            "5a57a59bc3ce490f85d535b06620c7b1",
            "449cdc8a838f44309f90d08bf06d4081",
            "10de5cb9f0f84c4498ac51f25418483e",
            "49d2dc7405764d4db882b039d2ed615d",
            "f178ad0dc9104d0984e75f905f46a39b",
            "cc059539f2c343bb9d70f13f77490292",
            "f0e5537a2902407ba3fa4fcb18338009",
            "3641a33dbbda4d58b9d699d8460689e2",
            "b0e2dc2dd91d4df18e2dd7dfcda25fd9",
            "62994394002e416388615bf2ebcb8060",
            "01dda4e218e64e908d07f1ca1a89544d",
            "4c36f5e0fe8142bcbd8f79844f92263e",
            "423d7ea34c674918a1ee3593f9153bae",
            "74424f4bdcba45458f98535e80dbb395",
            "18c6f032a3cf4e44b231676b846a4c40",
            "c0abebc743d84628a1c71c3e91ab06ad",
            "73235262aaf2470ea158d34d677154e2",
            "1be4b5f0342d4139b6ba5cd06adfada6",
            "455a7f1ecbb84e35a6471a3b7daf2b68",
            "c0973f9c0c104d89927519f97838278e",
            "0bf2e8ca8e6c48fcae7b27b5a317a0ec",
            "fada77d63f6449ae848244b74c03e61d",
            "713b31bd0159455f82f4dcf5586ad1d3",
            "789efbb5a752475a8377ee73f0a37c72",
            "fe7ceb854c434b69bbee4d72a3aa58f4",
            "f630e18592324c76b99887b91a63bf1f",
            "dadd1a07dd2b45e3967c4760b87f56fa",
            "16d84a97817a48c4b3e2e133e389811b",
            "273fc56f6f74403b9e964d5e89bf67b9",
            "90bae125bb514ece957091025b9d04e3",
            "181ad99b00a248ae9552701692746ddb",
            "f336ccb9915042e9bb5418f335a4c4a2",
            "0d9275f024994309b2b11933c920cb9b",
            "31ece16d64094a0fb95a94899318c124",
            "81792aeab1c949cfaac3feea7711a488",
            "cee95e1331f0474891be898a32f1e86a",
            "4118b3e855f4466b8946b0e7072fc2fa",
            "8aa0e33fcf2d4c13a0193dee3636ed45",
            "068cfb64deef4b01975f7f9a5fbee6f7",
            "ccfe139e7e2e4af09f17337e24196f73",
            "51c5c67a4774466d812443bd829784fb",
            "cd03287af7fe4a0581f19d6ff69718c6",
            "091ec005009646fab5c13d9419ee1ec4",
            "9919bb2b64094a7caf57ef02a0fd5115",
            "dcb01924e9b042d58cd2025c6ac31bc8"
          ]
        },
        "outputId": "dfd36e3c-b7f6-490f-bd9c-444e06d948c2"
      },
      "source": [
        "######## writing the trainning loop\n",
        "\n",
        "## Weight initialization\n",
        "netD.apply(weights_init)\n",
        "netG.apply(weights_init)\n",
        "\n",
        "optimizerD = optim.Adam(netD.parameters(), lr=lr, betas=(beta1, 0.999))\n",
        "optimizerG = optim.Adam(netG.parameters(), lr=lr, betas=(beta1, 0.999))\n",
        "\n",
        "\n",
        "train_gen_losses, train_disc_losses, train_counter = [], [], []\n",
        "\n",
        "for epoch in range(num_epochs):\n",
        "  gen_loss, disc_loss = 0,0 \n",
        "  tqdm_bar = (tqdm(dataloader, \n",
        "                   desc=f'Training Epoch {epoch}', \n",
        "                   total = int(len(dataloader))))\n",
        "\n",
        "  for batch_idx, (imgs, targets) in enumerate(tqdm_bar):\n",
        "\n",
        "    netG.train(); netD.train()\n",
        "    batch_size = imgs.shape[0] ## important step so that there is no error in case the last batch is not of the required size\n",
        "    real_images = imgs.to(device)\n",
        "    \n",
        "    real_labels = torch.full((batch_size,1,1,1), 0.9, dtype=torch.float, device=device)\n",
        "    fake_labels = torch.full((batch_size,1,1,1), 0.1, dtype=torch.float, device=device)\n",
        "    \n",
        "    noise = torch.randn(batch_size, nz, 1, 1,device=device)\n",
        "    ## Generator\n",
        "    netG.zero_grad()\n",
        "    gen_output = netG(noise)\n",
        "    disc_output = netD(gen_output)\n",
        "\n",
        "    loss_G = criterion(disc_output, real_labels)\n",
        "    loss_G.backward()\n",
        "    optimizerG.step()\n",
        "\n",
        "    \n",
        "\n",
        "\n",
        "    ##Discriminator\n",
        "    netD.zero_grad()\n",
        "    output_real = netD(real_images)\n",
        "    D_loss_real = criterion(output_real, real_labels)\n",
        "    output_fake = netD(gen_output.detach())\n",
        "\n",
        "    D_loss_fake = criterion(output_fake, fake_labels)\n",
        "    loss_D = (D_loss_real + D_loss_fake)/2\n",
        "    loss_D.backward()\n",
        "    optimizerD.step()\n",
        "    \n",
        "    gen_loss += loss_G.item()\n",
        "    train_gen_losses.append(loss_G.item())\n",
        "    disc_loss+= loss_D.item()\n",
        "    train_disc_losses.append(loss_D.item())\n",
        "    \n",
        "\n",
        "    train_counter.append(batch_idx*batch_size + imgs.size(0) + epoch*len(dataloader.dataset))\n",
        "    tqdm_bar.set_postfix(gen_loss = gen_loss/(batch_idx+1), disc_loss = disc_loss/(batch_idx+1))\n",
        "\n",
        "\n",
        "  if(True):\n",
        "      # torch.save({\n",
        "      #       'epoch': epoch+1,\n",
        "      #       'generator_state_dict': generator.state_dict(),\n",
        "      #       'optimizer_state_dict': optimizer_G.state_dict(),\n",
        "      #       'loss': loss,\n",
        "      #       ...\n",
        "      #       }, PATH)\n",
        "\n",
        "      # torch.save({\n",
        "      #       'epoch': epoch+1,\n",
        "      #       'discriminator_state_dict': discriminator.state_dict(),\n",
        "      #       'optimizer_state_dict': optimizer.state_dict(),\n",
        "      #       'loss': loss,\n",
        "      #       ...\n",
        "      #       }, PATH)\n",
        "      torch.save({\n",
        "            'discriminator_state_dict': netD.state_dict(),\n",
        "            'generator_state_dict': netG.state_dict(),\n",
        "            'optimizer_G_state_dict': optimizerG.state_dict(),\n",
        "            'optimizer_D_state_dict': optimizerD.state_dict(),\n",
        "            'epoch': epoch+1,\n",
        "            }, \"/content/drive/MyDrive/MNIST_data/checkpt{}.pt\".format(epoch+1))\n"
      ],
      "execution_count": null,
      "outputs": [
        {
          "output_type": "display_data",
          "data": {
            "application/vnd.jupyter.widget-view+json": {
              "model_id": "abab0f34ef414c6b85262f03484a30a3",
              "version_minor": 0,
              "version_major": 2
            },
            "text/plain": [
              "HBox(children=(FloatProgress(value=0.0, description='Training Epoch 0', max=469.0, style=ProgressStyle(descrip…"
            ]
          },
          "metadata": {
            "tags": []
          }
        },
        {
          "output_type": "stream",
          "text": [
            "\n"
          ],
          "name": "stdout"
        },
        {
          "output_type": "display_data",
          "data": {
            "application/vnd.jupyter.widget-view+json": {
              "model_id": "cc059539f2c343bb9d70f13f77490292",
              "version_minor": 0,
              "version_major": 2
            },
            "text/plain": [
              "HBox(children=(FloatProgress(value=0.0, description='Training Epoch 1', max=469.0, style=ProgressStyle(descrip…"
            ]
          },
          "metadata": {
            "tags": []
          }
        },
        {
          "output_type": "stream",
          "text": [
            "\n"
          ],
          "name": "stdout"
        },
        {
          "output_type": "display_data",
          "data": {
            "application/vnd.jupyter.widget-view+json": {
              "model_id": "74424f4bdcba45458f98535e80dbb395",
              "version_minor": 0,
              "version_major": 2
            },
            "text/plain": [
              "HBox(children=(FloatProgress(value=0.0, description='Training Epoch 2', max=469.0, style=ProgressStyle(descrip…"
            ]
          },
          "metadata": {
            "tags": []
          }
        },
        {
          "output_type": "stream",
          "text": [
            "\n"
          ],
          "name": "stdout"
        },
        {
          "output_type": "display_data",
          "data": {
            "application/vnd.jupyter.widget-view+json": {
              "model_id": "fada77d63f6449ae848244b74c03e61d",
              "version_minor": 0,
              "version_major": 2
            },
            "text/plain": [
              "HBox(children=(FloatProgress(value=0.0, description='Training Epoch 3', max=469.0, style=ProgressStyle(descrip…"
            ]
          },
          "metadata": {
            "tags": []
          }
        },
        {
          "output_type": "stream",
          "text": [
            "\n"
          ],
          "name": "stdout"
        },
        {
          "output_type": "display_data",
          "data": {
            "application/vnd.jupyter.widget-view+json": {
              "model_id": "90bae125bb514ece957091025b9d04e3",
              "version_minor": 0,
              "version_major": 2
            },
            "text/plain": [
              "HBox(children=(FloatProgress(value=0.0, description='Training Epoch 4', max=469.0, style=ProgressStyle(descrip…"
            ]
          },
          "metadata": {
            "tags": []
          }
        },
        {
          "output_type": "stream",
          "text": [
            "\n"
          ],
          "name": "stdout"
        },
        {
          "output_type": "display_data",
          "data": {
            "application/vnd.jupyter.widget-view+json": {
              "model_id": "8aa0e33fcf2d4c13a0193dee3636ed45",
              "version_minor": 0,
              "version_major": 2
            },
            "text/plain": [
              "HBox(children=(FloatProgress(value=0.0, description='Training Epoch 5', max=469.0, style=ProgressStyle(descrip…"
            ]
          },
          "metadata": {
            "tags": []
          }
        },
        {
          "output_type": "error",
          "ename": "KeyboardInterrupt",
          "evalue": "ignored",
          "traceback": [
            "\u001b[0;31m---------------------------------------------------------------------------\u001b[0m",
            "\u001b[0;31mKeyboardInterrupt\u001b[0m                         Traceback (most recent call last)",
            "\u001b[0;32m<ipython-input-61-84c3e37cff5d>\u001b[0m in \u001b[0;36m<module>\u001b[0;34m()\u001b[0m\n\u001b[1;32m     50\u001b[0m     \u001b[0moptimizerD\u001b[0m\u001b[0;34m.\u001b[0m\u001b[0mstep\u001b[0m\u001b[0;34m(\u001b[0m\u001b[0;34m)\u001b[0m\u001b[0;34m\u001b[0m\u001b[0;34m\u001b[0m\u001b[0m\n\u001b[1;32m     51\u001b[0m \u001b[0;34m\u001b[0m\u001b[0m\n\u001b[0;32m---> 52\u001b[0;31m     \u001b[0mgen_loss\u001b[0m \u001b[0;34m+=\u001b[0m \u001b[0mloss_G\u001b[0m\u001b[0;34m.\u001b[0m\u001b[0mitem\u001b[0m\u001b[0;34m(\u001b[0m\u001b[0;34m)\u001b[0m\u001b[0;34m\u001b[0m\u001b[0;34m\u001b[0m\u001b[0m\n\u001b[0m\u001b[1;32m     53\u001b[0m     \u001b[0mtrain_gen_losses\u001b[0m\u001b[0;34m.\u001b[0m\u001b[0mappend\u001b[0m\u001b[0;34m(\u001b[0m\u001b[0mloss_G\u001b[0m\u001b[0;34m.\u001b[0m\u001b[0mitem\u001b[0m\u001b[0;34m(\u001b[0m\u001b[0;34m)\u001b[0m\u001b[0;34m)\u001b[0m\u001b[0;34m\u001b[0m\u001b[0;34m\u001b[0m\u001b[0m\n\u001b[1;32m     54\u001b[0m     \u001b[0mdisc_loss\u001b[0m\u001b[0;34m+=\u001b[0m \u001b[0mloss_D\u001b[0m\u001b[0;34m.\u001b[0m\u001b[0mitem\u001b[0m\u001b[0;34m(\u001b[0m\u001b[0;34m)\u001b[0m\u001b[0;34m\u001b[0m\u001b[0;34m\u001b[0m\u001b[0m\n",
            "\u001b[0;31mKeyboardInterrupt\u001b[0m: "
          ]
        }
      ]
    },
    {
      "cell_type": "code",
      "metadata": {
        "colab": {
          "base_uri": "https://localhost:8080/",
          "height": 537
        },
        "id": "Z0_RwUKII9EY",
        "outputId": "ccdd5bfe-c005-4957-8f3c-0e183d9d9514"
      },
      "source": [
        "fig = go.Figure()\n",
        "fig.add_trace(go.Scatter(x=train_counter, y=train_gen_losses, mode='lines', name='Train Generator Loss'))\n",
        "##fig.add_trace(go.Scatter(x=test_counter, y=test_gen_losses, marker_symbol='star-diamond', \n",
        "                        ## marker_color='orange', marker_line_width=1, marker_size=9, mode='markers', name='Test Generator Loss'))\n",
        "fig.update_layout(\n",
        "    width=1000,\n",
        "    height=500,\n",
        "    title=\"Train vs. Test Generator Loss\",\n",
        "    xaxis_title=\"Number of training examples seen\",\n",
        "    yaxis_title=\"Adversarial + Content Loss\"),\n",
        "fig.show()"
      ],
      "execution_count": null,
      "outputs": [
        {
          "output_type": "display_data",
          "data": {
            "text/html": [
              "<html>\n",
              "<head><meta charset=\"utf-8\" /></head>\n",
              "<body>\n",
              "    <div>\n",
              "            <script src=\"https://cdnjs.cloudflare.com/ajax/libs/mathjax/2.7.5/MathJax.js?config=TeX-AMS-MML_SVG\"></script><script type=\"text/javascript\">if (window.MathJax) {MathJax.Hub.Config({SVG: {font: \"STIX-Web\"}});}</script>\n",
              "                <script type=\"text/javascript\">window.PlotlyConfig = {MathJaxConfig: 'local'};</script>\n",
              "        <script src=\"https://cdn.plot.ly/plotly-latest.min.js\"></script>    \n",
              "            <div id=\"a3cddf45-a7aa-42cd-a1fc-760b64b73afd\" class=\"plotly-graph-div\" style=\"height:500px; width:1000px;\"></div>\n",
              "            <script type=\"text/javascript\">\n",
              "                \n",
              "                    window.PLOTLYENV=window.PLOTLYENV || {};\n",
              "                    \n",
              "                if (document.getElementById(\"a3cddf45-a7aa-42cd-a1fc-760b64b73afd\")) {\n",
              "                    Plotly.newPlot(\n",
              "                        'a3cddf45-a7aa-42cd-a1fc-760b64b73afd',\n",
              "                        [{\"mode\": \"lines\", \"name\": \"Train Generator Loss\", \"type\": \"scatter\", \"x\": [128, 256, 384, 512, 640, 768, 896, 1024, 1152, 1280, 1408, 1536, 1664, 1792, 1920, 2048, 2176, 2304, 2432, 2560, 2688, 2816, 2944, 3072, 3200, 3328, 3456, 3584, 3712, 3840, 3968, 4096, 4224, 4352, 4480, 4608, 4736, 4864, 4992, 5120, 5248, 5376, 5504, 5632, 5760, 5888, 6016, 6144, 6272, 6400, 6528, 6656, 6784, 6912, 7040, 7168, 7296, 7424, 7552, 7680, 7808, 7936, 8064, 8192, 8320, 8448, 8576, 8704, 8832, 8960, 9088, 9216, 9344, 9472, 9600, 9728, 9856, 9984, 10112, 10240, 10368, 10496, 10624, 10752, 10880, 11008, 11136, 11264, 11392, 11520, 11648, 11776, 11904, 12032, 12160, 12288, 12416, 12544, 12672, 12800, 12928, 13056, 13184, 13312, 13440, 13568, 13696, 13824, 13952, 14080, 14208, 14336, 14464, 14592, 14720, 14848, 14976, 15104, 15232, 15360, 15488, 15616, 15744, 15872, 16000, 16128, 16256, 16384, 16512, 16640, 16768, 16896, 17024, 17152, 17280, 17408, 17536, 17664, 17792, 17920, 18048, 18176, 18304, 18432, 18560, 18688, 18816, 18944, 19072, 19200, 19328, 19456, 19584, 19712, 19840, 19968, 20096, 20224, 20352, 20480, 20608, 20736, 20864, 20992, 21120, 21248, 21376, 21504, 21632, 21760, 21888, 22016, 22144, 22272, 22400, 22528, 22656, 22784, 22912, 23040, 23168, 23296, 23424, 23552, 23680, 23808, 23936, 24064, 24192, 24320, 24448, 24576, 24704, 24832, 24960, 25088, 25216, 25344, 25472, 25600, 25728, 25856, 25984, 26112, 26240, 26368, 26496, 26624, 26752, 26880, 27008, 27136, 27264, 27392, 27520, 27648, 27776, 27904, 28032, 28160, 28288, 28416, 28544, 28672, 28800, 28928, 29056, 29184, 29312, 29440, 29568, 29696, 29824, 29952, 30080, 30208, 30336, 30464, 30592, 30720, 30848, 30976, 31104, 31232, 31360, 31488, 31616, 31744, 31872, 32000, 32128, 32256, 32384, 32512, 32640, 32768, 32896, 33024, 33152, 33280, 33408, 33536, 33664, 33792, 33920, 34048, 34176, 34304, 34432, 34560, 34688, 34816, 34944, 35072, 35200, 35328, 35456, 35584, 35712, 35840, 35968, 36096, 36224, 36352, 36480, 36608, 36736, 36864, 36992, 37120, 37248, 37376, 37504, 37632, 37760, 37888, 38016, 38144, 38272, 38400, 38528, 38656, 38784, 38912, 39040, 39168, 39296, 39424, 39552, 39680, 39808, 39936, 40064, 40192, 40320, 40448, 40576, 40704, 40832, 40960, 41088, 41216, 41344, 41472, 41600, 41728, 41856, 41984, 42112, 42240, 42368, 42496, 42624, 42752, 42880, 43008, 43136, 43264, 43392, 43520, 43648, 43776, 43904, 44032, 44160, 44288, 44416, 44544, 44672, 44800, 44928, 45056, 45184, 45312, 45440, 45568, 45696, 45824, 45952, 46080, 46208, 46336, 46464, 46592, 46720, 46848, 46976, 47104, 47232, 47360, 47488, 47616, 47744, 47872, 48000, 48128, 48256, 48384, 48512, 48640, 48768, 48896, 49024, 49152, 49280, 49408, 49536, 49664, 49792, 49920, 50048, 50176, 50304, 50432, 50560, 50688, 50816, 50944, 51072, 51200, 51328, 51456, 51584, 51712, 51840, 51968, 52096, 52224, 52352, 52480, 52608, 52736, 52864, 52992, 53120, 53248, 53376, 53504, 53632, 53760, 53888, 54016, 54144, 54272, 54400, 54528, 54656, 54784, 54912, 55040, 55168, 55296, 55424, 55552, 55680, 55808, 55936, 56064, 56192, 56320, 56448, 56576, 56704, 56832, 56960, 57088, 57216, 57344, 57472, 57600, 57728, 57856, 57984, 58112, 58240, 58368, 58496, 58624, 58752, 58880, 59008, 59136, 59264, 59392, 59520, 59648, 59776, 59904, 45024, 60128, 60256, 60384, 60512, 60640, 60768, 60896, 61024, 61152, 61280, 61408, 61536, 61664, 61792, 61920, 62048, 62176, 62304, 62432, 62560, 62688, 62816, 62944, 63072, 63200, 63328, 63456, 63584, 63712, 63840, 63968, 64096, 64224, 64352, 64480, 64608, 64736, 64864, 64992, 65120, 65248, 65376, 65504, 65632, 65760, 65888, 66016, 66144, 66272, 66400, 66528, 66656, 66784, 66912, 67040, 67168, 67296, 67424, 67552, 67680, 67808, 67936, 68064, 68192, 68320, 68448, 68576, 68704, 68832, 68960, 69088, 69216, 69344, 69472, 69600, 69728, 69856, 69984, 70112, 70240, 70368, 70496, 70624, 70752, 70880, 71008, 71136, 71264, 71392, 71520, 71648, 71776, 71904, 72032, 72160, 72288, 72416, 72544, 72672, 72800, 72928, 73056, 73184, 73312, 73440, 73568, 73696, 73824, 73952, 74080, 74208, 74336, 74464, 74592, 74720, 74848, 74976, 75104, 75232, 75360, 75488, 75616, 75744, 75872, 76000, 76128, 76256, 76384, 76512, 76640, 76768, 76896, 77024, 77152, 77280, 77408, 77536, 77664, 77792, 77920, 78048, 78176, 78304, 78432, 78560, 78688, 78816, 78944, 79072, 79200, 79328, 79456, 79584, 79712, 79840, 79968, 80096, 80224, 80352, 80480, 80608, 80736, 80864, 80992, 81120, 81248, 81376, 81504, 81632, 81760, 81888, 82016, 82144, 82272, 82400, 82528, 82656, 82784, 82912, 83040, 83168, 83296, 83424, 83552, 83680, 83808, 83936, 84064, 84192, 84320, 84448, 84576, 84704, 84832, 84960, 85088, 85216, 85344, 85472, 85600, 85728, 85856, 85984, 86112, 86240, 86368, 86496, 86624, 86752, 86880, 87008, 87136, 87264, 87392, 87520, 87648, 87776, 87904, 88032, 88160, 88288, 88416, 88544, 88672, 88800, 88928, 89056, 89184, 89312, 89440, 89568, 89696, 89824, 89952, 90080, 90208, 90336, 90464, 90592, 90720, 90848, 90976, 91104, 91232, 91360, 91488, 91616, 91744, 91872, 92000, 92128, 92256, 92384, 92512, 92640, 92768, 92896, 93024, 93152, 93280, 93408, 93536, 93664, 93792, 93920, 94048, 94176, 94304, 94432, 94560, 94688, 94816, 94944, 95072, 95200, 95328, 95456, 95584, 95712, 95840, 95968, 96096, 96224, 96352, 96480, 96608, 96736, 96864, 96992, 97120, 97248, 97376, 97504, 97632, 97760, 97888, 98016, 98144, 98272, 98400, 98528, 98656, 98784, 98912, 99040, 99168, 99296, 99424, 99552, 99680, 99808, 99936, 100064, 100192, 100320, 100448, 100576, 100704, 100832, 100960, 101088, 101216, 101344, 101472, 101600, 101728, 101856, 101984, 102112, 102240, 102368, 102496, 102624, 102752, 102880, 103008, 103136, 103264, 103392, 103520, 103648, 103776, 103904, 104032, 104160, 104288, 104416, 104544, 104672, 104800, 104928, 105056, 105184, 105312, 105440, 105568, 105696, 105824, 105952, 106080, 106208, 106336, 106464, 106592, 106720, 106848, 106976, 107104, 107232, 107360, 107488, 107616, 107744, 107872, 108000, 108128, 108256, 108384, 108512, 108640, 108768, 108896, 109024, 109152, 109280, 109408, 109536, 109664, 109792, 109920, 110048, 110176, 110304, 110432, 110560, 110688, 110816, 110944, 111072, 111200, 111328, 111456, 111584, 111712, 111840, 111968, 112096, 112224, 112352, 112480, 112608, 112736, 112864, 112992, 113120, 113248, 113376, 113504, 113632, 113760, 113888, 114016, 114144, 114272, 114400, 114528, 114656, 114784, 114912, 115040, 115168, 115296, 115424, 115552, 115680, 115808, 115936, 116064, 116192, 116320, 116448, 116576, 116704, 116832, 116960, 117088, 117216, 117344, 117472, 117600, 117728, 117856, 117984, 118112, 118240, 118368, 118496, 118624, 118752, 118880, 119008, 119136, 119264, 119392, 119520, 119648, 119776, 119904, 105024, 120128, 120256, 120384, 120512, 120640, 120768, 120896, 121024, 121152, 121280, 121408, 121536, 121664, 121792, 121920, 122048, 122176, 122304, 122432, 122560, 122688, 122816, 122944, 123072, 123200, 123328, 123456, 123584, 123712, 123840, 123968, 124096, 124224, 124352, 124480, 124608, 124736, 124864, 124992, 125120, 125248, 125376, 125504, 125632, 125760, 125888, 126016, 126144, 126272, 126400, 126528, 126656, 126784, 126912, 127040, 127168, 127296, 127424, 127552, 127680, 127808, 127936, 128064, 128192, 128320, 128448, 128576, 128704, 128832, 128960, 129088, 129216, 129344, 129472, 129600, 129728, 129856, 129984, 130112, 130240, 130368, 130496, 130624, 130752, 130880, 131008, 131136, 131264, 131392, 131520, 131648, 131776, 131904, 132032, 132160, 132288, 132416, 132544, 132672, 132800, 132928, 133056, 133184, 133312, 133440, 133568, 133696, 133824, 133952, 134080, 134208, 134336, 134464, 134592, 134720, 134848, 134976, 135104, 135232, 135360, 135488, 135616, 135744, 135872, 136000, 136128, 136256, 136384, 136512, 136640, 136768, 136896, 137024, 137152, 137280, 137408, 137536, 137664, 137792, 137920, 138048, 138176, 138304, 138432, 138560, 138688, 138816, 138944, 139072, 139200, 139328, 139456, 139584, 139712, 139840, 139968, 140096, 140224, 140352, 140480, 140608, 140736, 140864, 140992, 141120, 141248, 141376, 141504, 141632, 141760, 141888, 142016, 142144, 142272, 142400, 142528, 142656, 142784, 142912, 143040, 143168, 143296, 143424, 143552, 143680, 143808, 143936, 144064, 144192, 144320, 144448, 144576, 144704, 144832, 144960, 145088, 145216, 145344, 145472, 145600, 145728, 145856, 145984, 146112, 146240, 146368, 146496, 146624, 146752, 146880, 147008, 147136, 147264, 147392, 147520, 147648, 147776, 147904, 148032, 148160, 148288, 148416, 148544, 148672, 148800, 148928, 149056, 149184, 149312, 149440, 149568, 149696, 149824, 149952, 150080, 150208, 150336, 150464, 150592, 150720, 150848, 150976, 151104, 151232, 151360, 151488, 151616, 151744, 151872, 152000, 152128, 152256, 152384, 152512, 152640, 152768, 152896, 153024, 153152, 153280, 153408, 153536, 153664, 153792, 153920, 154048, 154176, 154304, 154432, 154560, 154688, 154816, 154944, 155072, 155200, 155328, 155456, 155584, 155712, 155840, 155968, 156096, 156224, 156352, 156480, 156608, 156736, 156864, 156992, 157120, 157248, 157376, 157504, 157632, 157760, 157888, 158016, 158144, 158272, 158400, 158528, 158656, 158784, 158912, 159040, 159168, 159296, 159424, 159552, 159680, 159808, 159936, 160064, 160192, 160320, 160448, 160576, 160704, 160832, 160960, 161088, 161216, 161344, 161472, 161600, 161728, 161856, 161984, 162112, 162240, 162368, 162496, 162624, 162752, 162880, 163008, 163136, 163264, 163392, 163520, 163648, 163776, 163904, 164032, 164160, 164288, 164416, 164544, 164672, 164800, 164928, 165056, 165184, 165312, 165440, 165568, 165696, 165824, 165952, 166080, 166208, 166336, 166464, 166592, 166720, 166848, 166976, 167104, 167232, 167360, 167488, 167616, 167744, 167872, 168000, 168128, 168256, 168384, 168512, 168640, 168768, 168896, 169024, 169152, 169280, 169408, 169536, 169664, 169792, 169920, 170048, 170176, 170304, 170432, 170560, 170688, 170816, 170944, 171072, 171200, 171328, 171456, 171584, 171712, 171840, 171968, 172096, 172224, 172352, 172480, 172608, 172736, 172864, 172992, 173120, 173248, 173376, 173504, 173632, 173760, 173888, 174016, 174144, 174272, 174400, 174528, 174656, 174784, 174912, 175040, 175168, 175296, 175424, 175552, 175680, 175808, 175936, 176064, 176192, 176320, 176448, 176576, 176704, 176832, 176960, 177088, 177216, 177344, 177472, 177600, 177728, 177856, 177984, 178112, 178240, 178368, 178496, 178624, 178752, 178880, 179008, 179136, 179264, 179392, 179520, 179648, 179776, 179904, 165024, 180128, 180256, 180384, 180512, 180640, 180768, 180896, 181024, 181152, 181280, 181408, 181536, 181664, 181792, 181920, 182048, 182176, 182304, 182432, 182560, 182688, 182816, 182944, 183072, 183200, 183328, 183456, 183584, 183712, 183840, 183968, 184096, 184224, 184352, 184480, 184608, 184736, 184864, 184992, 185120, 185248, 185376, 185504, 185632, 185760, 185888, 186016, 186144, 186272, 186400, 186528, 186656, 186784, 186912, 187040, 187168, 187296, 187424, 187552, 187680, 187808, 187936, 188064, 188192, 188320, 188448, 188576, 188704, 188832, 188960, 189088, 189216, 189344, 189472, 189600, 189728, 189856, 189984, 190112, 190240, 190368, 190496, 190624, 190752, 190880, 191008, 191136, 191264, 191392, 191520, 191648, 191776, 191904, 192032, 192160, 192288, 192416, 192544, 192672, 192800, 192928, 193056, 193184, 193312, 193440, 193568, 193696, 193824, 193952, 194080, 194208, 194336, 194464, 194592, 194720, 194848, 194976, 195104, 195232, 195360, 195488, 195616, 195744, 195872, 196000, 196128, 196256, 196384, 196512, 196640, 196768, 196896, 197024, 197152, 197280, 197408, 197536, 197664, 197792, 197920, 198048, 198176, 198304, 198432, 198560, 198688, 198816, 198944, 199072, 199200, 199328, 199456, 199584, 199712, 199840, 199968, 200096, 200224, 200352, 200480, 200608, 200736, 200864, 200992, 201120, 201248, 201376, 201504, 201632, 201760, 201888, 202016, 202144, 202272, 202400, 202528, 202656, 202784, 202912, 203040, 203168, 203296, 203424, 203552, 203680, 203808, 203936, 204064, 204192, 204320, 204448, 204576, 204704, 204832, 204960, 205088, 205216, 205344, 205472, 205600, 205728, 205856, 205984, 206112, 206240, 206368, 206496, 206624, 206752, 206880, 207008, 207136, 207264, 207392, 207520, 207648, 207776, 207904, 208032, 208160, 208288, 208416, 208544, 208672, 208800, 208928, 209056, 209184, 209312, 209440, 209568, 209696, 209824, 209952, 210080, 210208, 210336, 210464, 210592, 210720, 210848, 210976, 211104, 211232, 211360, 211488, 211616, 211744, 211872, 212000, 212128, 212256, 212384, 212512, 212640, 212768, 212896, 213024, 213152, 213280, 213408, 213536, 213664, 213792, 213920, 214048, 214176, 214304, 214432, 214560, 214688, 214816, 214944, 215072, 215200, 215328, 215456, 215584, 215712, 215840, 215968, 216096, 216224, 216352, 216480, 216608, 216736, 216864, 216992, 217120, 217248, 217376, 217504, 217632, 217760, 217888, 218016, 218144, 218272, 218400, 218528, 218656, 218784, 218912, 219040, 219168, 219296, 219424, 219552, 219680, 219808, 219936, 220064, 220192, 220320, 220448, 220576, 220704, 220832, 220960, 221088, 221216, 221344, 221472, 221600, 221728, 221856, 221984, 222112, 222240, 222368, 222496, 222624, 222752, 222880, 223008, 223136, 223264, 223392, 223520, 223648, 223776, 223904, 224032, 224160, 224288, 224416, 224544, 224672, 224800, 224928, 225056, 225184, 225312, 225440, 225568, 225696, 225824, 225952, 226080, 226208, 226336, 226464, 226592, 226720, 226848, 226976, 227104, 227232, 227360, 227488, 227616, 227744, 227872, 228000, 228128, 228256, 228384, 228512, 228640, 228768, 228896, 229024, 229152, 229280, 229408, 229536, 229664, 229792, 229920, 230048, 230176, 230304, 230432, 230560, 230688, 230816, 230944, 231072, 231200, 231328, 231456, 231584, 231712, 231840, 231968, 232096, 232224, 232352, 232480, 232608, 232736, 232864, 232992, 233120, 233248, 233376, 233504, 233632, 233760, 233888, 234016, 234144, 234272, 234400, 234528, 234656, 234784, 234912, 235040, 235168, 235296, 235424, 235552, 235680, 235808, 235936, 236064, 236192, 236320, 236448, 236576, 236704, 236832, 236960, 237088, 237216, 237344, 237472, 237600, 237728, 237856, 237984, 238112, 238240, 238368, 238496, 238624, 238752, 238880, 239008, 239136, 239264, 239392, 239520, 239648, 239776, 239904, 225024, 240128, 240256, 240384, 240512, 240640, 240768, 240896, 241024, 241152, 241280, 241408, 241536, 241664, 241792, 241920, 242048, 242176, 242304, 242432, 242560, 242688, 242816, 242944, 243072, 243200, 243328, 243456, 243584, 243712, 243840, 243968, 244096, 244224, 244352, 244480, 244608, 244736, 244864, 244992, 245120, 245248, 245376, 245504, 245632, 245760, 245888, 246016, 246144, 246272, 246400, 246528, 246656, 246784, 246912, 247040, 247168, 247296, 247424, 247552, 247680, 247808, 247936, 248064, 248192, 248320, 248448, 248576, 248704, 248832, 248960, 249088, 249216, 249344, 249472, 249600, 249728, 249856, 249984, 250112, 250240, 250368, 250496, 250624, 250752, 250880, 251008, 251136, 251264, 251392, 251520, 251648, 251776, 251904, 252032, 252160, 252288, 252416, 252544, 252672, 252800, 252928, 253056, 253184, 253312, 253440, 253568, 253696, 253824, 253952, 254080, 254208, 254336, 254464, 254592, 254720, 254848, 254976, 255104, 255232, 255360, 255488, 255616, 255744, 255872, 256000, 256128, 256256, 256384, 256512, 256640, 256768, 256896, 257024, 257152, 257280, 257408, 257536, 257664, 257792, 257920, 258048, 258176, 258304, 258432, 258560, 258688, 258816, 258944, 259072, 259200, 259328, 259456, 259584, 259712, 259840, 259968, 260096, 260224, 260352, 260480, 260608, 260736, 260864, 260992, 261120, 261248, 261376, 261504, 261632, 261760, 261888, 262016, 262144, 262272, 262400, 262528, 262656, 262784, 262912, 263040, 263168, 263296, 263424, 263552, 263680, 263808, 263936, 264064, 264192, 264320, 264448, 264576, 264704, 264832, 264960, 265088, 265216, 265344, 265472, 265600, 265728, 265856, 265984, 266112, 266240, 266368, 266496, 266624, 266752, 266880, 267008, 267136, 267264, 267392, 267520, 267648, 267776, 267904, 268032, 268160, 268288, 268416, 268544, 268672, 268800, 268928, 269056, 269184, 269312, 269440, 269568, 269696, 269824, 269952, 270080, 270208, 270336, 270464, 270592, 270720, 270848, 270976, 271104, 271232, 271360, 271488, 271616, 271744, 271872, 272000, 272128, 272256, 272384, 272512, 272640, 272768, 272896, 273024, 273152, 273280, 273408, 273536, 273664, 273792, 273920, 274048, 274176, 274304, 274432, 274560, 274688, 274816, 274944, 275072, 275200, 275328, 275456, 275584, 275712, 275840, 275968, 276096, 276224, 276352, 276480, 276608, 276736, 276864, 276992, 277120, 277248, 277376, 277504, 277632, 277760, 277888, 278016, 278144, 278272, 278400, 278528, 278656, 278784, 278912, 279040, 279168, 279296, 279424, 279552, 279680, 279808, 279936, 280064, 280192, 280320, 280448, 280576, 280704, 280832, 280960, 281088, 281216, 281344, 281472, 281600, 281728, 281856, 281984, 282112, 282240, 282368, 282496, 282624, 282752, 282880, 283008, 283136, 283264, 283392, 283520, 283648, 283776, 283904, 284032, 284160, 284288, 284416, 284544, 284672, 284800, 284928, 285056, 285184, 285312, 285440, 285568, 285696, 285824, 285952, 286080, 286208, 286336, 286464, 286592, 286720, 286848, 286976, 287104, 287232, 287360, 287488, 287616, 287744, 287872, 288000, 288128, 288256, 288384, 288512, 288640, 288768, 288896, 289024, 289152, 289280, 289408, 289536, 289664, 289792, 289920, 290048, 290176, 290304, 290432, 290560, 290688, 290816, 290944, 291072, 291200, 291328, 291456, 291584, 291712, 291840, 291968, 292096, 292224, 292352, 292480, 292608, 292736, 292864, 292992, 293120, 293248, 293376, 293504, 293632, 293760, 293888, 294016, 294144, 294272, 294400, 294528, 294656, 294784, 294912, 295040, 295168, 295296, 295424, 295552, 295680, 295808, 295936, 296064, 296192, 296320, 296448, 296576, 296704, 296832, 296960, 297088, 297216, 297344, 297472, 297600, 297728, 297856, 297984, 298112, 298240, 298368, 298496, 298624, 298752, 298880, 299008, 299136, 299264, 299392, 299520, 299648, 299776, 299904, 285024, 300128, 300256, 300384, 300512, 300640, 300768, 300896, 301024, 301152, 301280, 301408, 301536, 301664, 301792, 301920, 302048, 302176, 302304, 302432, 302560, 302688, 302816, 302944, 303072, 303200, 303328, 303456, 303584, 303712, 303840, 303968, 304096, 304224, 304352, 304480, 304608, 304736, 304864, 304992, 305120, 305248, 305376, 305504, 305632, 305760, 305888, 306016, 306144, 306272, 306400, 306528, 306656, 306784, 306912, 307040, 307168, 307296, 307424, 307552, 307680, 307808, 307936, 308064, 308192, 308320, 308448, 308576, 308704, 308832, 308960, 309088, 309216, 309344, 309472, 309600, 309728, 309856, 309984, 310112, 310240, 310368, 310496, 310624, 310752, 310880, 311008, 311136, 311264, 311392, 311520, 311648, 311776, 311904, 312032, 312160, 312288, 312416, 312544, 312672, 312800, 312928, 313056, 313184, 313312, 313440, 313568, 313696, 313824, 313952, 314080, 314208, 314336, 314464, 314592, 314720, 314848, 314976, 315104, 315232, 315360, 315488, 315616, 315744, 315872, 316000, 316128, 316256, 316384, 316512, 316640, 316768, 316896, 317024, 317152, 317280, 317408, 317536, 317664, 317792, 317920, 318048, 318176, 318304, 318432, 318560, 318688, 318816, 318944, 319072, 319200, 319328, 319456, 319584, 319712, 319840, 319968, 320096, 320224, 320352, 320480, 320608, 320736, 320864, 320992, 321120, 321248, 321376, 321504, 321632, 321760, 321888, 322016, 322144, 322272, 322400, 322528, 322656, 322784, 322912, 323040, 323168, 323296, 323424, 323552, 323680, 323808, 323936, 324064, 324192, 324320], \"y\": [1.1455292701721191, 0.6437540054321289, 18.115262985229492, 9.705238342285156, 1.3815391063690186, 10.683005332946777, 6.455036163330078, 0.9731018543243408, 20.28192138671875, 16.82778549194336, 0.6033627986907959, 20.156597137451172, 8.330222129821777, 1.0157809257507324, 28.05748748779297, 38.42108154296875, 40.58171844482422, 41.89624786376953, 43.252384185791016, 43.731163024902344, 43.71665573120117, 43.934818267822266, 43.841957092285156, 43.67743682861328, 43.731849670410156, 43.61469268798828, 43.42652893066406, 43.484222412109375, 43.31013488769531, 43.685726165771484, 42.91755676269531, 43.196144104003906, 43.55071258544922, 42.8529052734375, 43.21620178222656, 43.77959442138672, 41.276824951171875, 40.526309967041016, 41.28928756713867, 42.10087585449219, 42.69072723388672, 40.69157028198242, 40.51658248901367, 41.23058319091797, 41.81281661987305, 41.580753326416016, 41.372947692871094, 41.32551574707031, 41.33164596557617, 41.295562744140625, 41.275123596191406, 41.406105041503906, 40.77165222167969, 40.96033477783203, 41.6757698059082, 39.46021270751953, 38.845149993896484, 39.59817886352539, 40.7060432434082, 41.22474670410156, 38.79081344604492, 38.198692321777344, 38.87236022949219, 39.62864685058594, 40.16676712036133, 39.630226135253906, 39.79542541503906, 39.67387008666992, 39.34543991088867, 39.433258056640625, 39.16227340698242, 39.52610778808594, 39.255958557128906, 38.75752639770508, 39.4385986328125, 39.65992736816406, 38.46465301513672, 38.740394592285156, 39.549198150634766, 38.105186462402344, 38.461238861083984, 39.10637664794922, 38.41990280151367, 38.753875732421875, 38.71416091918945, 38.35551452636719, 38.468875885009766, 38.636634826660156, 38.515037536621094, 38.362796783447266, 38.510868072509766, 38.18336486816406, 38.45029067993164, 38.128028869628906, 38.36784362792969, 38.00415802001953, 38.35502624511719, 37.446502685546875, 37.76469039916992, 38.263484954833984, 35.97979736328125, 36.09053039550781, 36.71380615234375, 37.981109619140625, 34.86195373535156, 34.07049560546875, 34.419776916503906, 34.665164947509766, 33.742862701416016, 32.46873474121094, 26.267757415771484, 1.0103892087936401, 31.42524528503418, 23.45029067993164, 9.737321853637695, 8.474555969238281, 8.57280158996582, 2.7441136837005615, 30.828460693359375, 29.090906143188477, 14.430615425109863, 1.3132070302963257, 48.16980743408203, 43.879249572753906, 39.79199981689453, 38.07225036621094, 37.21921157836914, 37.492347717285156, 37.91794204711914, 38.21575927734375, 39.205413818359375, 39.74077606201172, 40.095008850097656, 39.36133575439453, 39.04696273803711, 39.19538879394531, 39.08852005004883, 38.44211959838867, 38.09491729736328, 38.48386764526367, 38.096435546875, 38.09130096435547, 37.7503547668457, 37.284915924072266, 37.46002197265625, 37.19317626953125, 37.15715026855469, 36.99498748779297, 36.89911651611328, 36.779502868652344, 36.17650604248047, 35.67498779296875, 35.23248291015625, 34.01435089111328, 32.046875, 29.089309692382812, 22.019054412841797, 4.674280166625977, 0.6270769834518433, 33.344871520996094, 29.42306137084961, 14.349949836730957, 2.245889663696289, 7.3033881187438965, 6.82171106338501, 1.132070541381836, 8.77545166015625, 3.4941067695617676, 0.5857596397399902, 8.47715950012207, 5.8747358322143555, 1.0258492231369019, 4.000823974609375, 3.69807767868042, 1.5086636543273926, 1.8158260583877563, 2.580880880355835, 1.3379945755004883, 1.6467523574829102, 1.626039743423462, 0.9991132020950317, 4.808783531188965, 0.8711839914321899, 3.163402557373047, 2.011768341064453, 1.0857586860656738, 4.365192413330078, 1.55818510055542, 1.1388916969299316, 3.6968564987182617, 1.0287563800811768, 2.5127031803131104, 1.1652485132217407, 2.463376522064209, 0.8717155456542969, 4.236301422119141, 0.881888747215271, 3.50408935546875, 1.636110544204712, 1.4540088176727295, 2.473618745803833, 0.4715164303779602, 9.444686889648438, 3.825991630554199, 0.38947808742523193, 9.035466194152832, 6.595440864562988, 1.271510362625122, 1.4287662506103516, 2.7690608501434326, 1.179212212562561, 1.4743081331253052, 1.5125558376312256, 1.3854023218154907, 1.769364356994629, 2.0417025089263916, 1.180068850517273, 1.9360076189041138, 1.0418074131011963, 2.4120872020721436, 1.0363141298294067, 2.12066912651062, 1.2731014490127563, 1.384852409362793, 1.6268365383148193, 0.8560107946395874, 3.4043729305267334, 0.47242748737335205, 5.363651275634766, 1.1829626560211182, 1.2340257167816162, 2.826565980911255, 0.7443009614944458, 5.133947372436523, 0.8569440841674805, 3.0379765033721924, 2.013230085372925, 1.2558138370513916, 1.9198881387710571, 0.8600969910621643, 2.8339858055114746, 0.8376028537750244, 3.0515565872192383, 1.411393404006958, 1.5350818634033203, 1.4124500751495361, 1.860651969909668, 0.692023754119873, 5.039105415344238, 0.8257277607917786, 2.185563802719116, 1.6994013786315918, 1.0347568988800049, 2.059725761413574, 0.4934890568256378, 6.552020072937012, 1.9933221340179443, 0.6059152483940125, 6.1119489669799805, 1.5289247035980225, 0.6122434139251709, 6.299732208251953, 0.7892795205116272, 2.595567226409912, 1.631113052368164, 1.5895006656646729, 1.7392078638076782, 1.1493651866912842, 3.118136405944824, 0.6815937161445618, 4.053793907165527, 1.0953755378723145, 2.4071083068847656, 1.6165990829467773, 1.714552640914917, 1.487641453742981, 1.719148874282837, 1.5988565683364868, 1.3095417022705078, 2.440899610519409, 0.7100477814674377, 5.210957050323486, 0.6795421838760376, 2.780484199523926, 1.4267960786819458, 2.2250633239746094, 0.8604875802993774, 3.782201051712036, 0.6578143239021301, 4.229733943939209, 0.5249149203300476, 4.034075736999512, 1.1937719583511353, 1.482380986213684, 2.345625162124634, 0.9456027746200562, 3.1643221378326416, 0.8420958518981934, 2.8321752548217773, 1.127120018005371, 2.6373729705810547, 0.9348623752593994, 2.6799259185791016, 1.0006437301635742, 2.2582249641418457, 1.283612847328186, 2.1245176792144775, 0.841388463973999, 4.0845489501953125, 0.3912236988544464, 3.9301211833953857, 0.8524332046508789, 2.4899840354919434, 1.446853756904602, 1.8849642276763916, 1.1232036352157593, 1.9953898191452026, 1.2683652639389038, 2.1206750869750977, 1.1861743927001953, 2.179281711578369, 1.2279161214828491, 2.5344767570495605, 1.3316611051559448, 2.0238711833953857, 1.762267827987671, 1.6043813228607178, 1.4730156660079956, 1.9736433029174805, 1.0416218042373657, 3.0874462127685547, 0.5132797360420227, 4.35836124420166, 0.8004427552223206, 3.6659231185913086, 0.40194618701934814, 4.539717674255371, 1.382767677307129, 1.228145718574524, 2.463947296142578, 0.8137944936752319, 2.813549518585205, 0.7501094937324524, 3.066746711730957, 1.0437381267547607, 2.4185292720794678, 1.5422981977462769, 1.7436065673828125, 1.702132225036621, 1.6626458168029785, 1.6625523567199707, 1.6865487098693848, 1.6072866916656494, 1.4214906692504883, 1.8823519945144653, 1.9546879529953003, 1.4625611305236816, 1.9103968143463135, 1.890312910079956, 1.4047693014144897, 2.464284896850586, 0.8642396926879883, 3.2793540954589844, 0.718647837638855, 3.5372018814086914, 1.1660878658294678, 1.901559591293335, 2.3348193168640137, 0.8859090805053711, 3.188680410385132, 0.8652055263519287, 2.603344678878784, 1.4044597148895264, 2.082113742828369, 1.5648198127746582, 2.0166687965393066, 1.350274682044983, 2.2321157455444336, 1.3036692142486572, 2.3797876834869385, 1.3318591117858887, 2.2722725868225098, 1.2970445156097412, 2.413116455078125, 1.0881853103637695, 2.7349448204040527, 1.3213086128234863, 2.5329208374023438, 1.5593385696411133, 1.6928458213806152, 2.4008233547210693, 1.3553013801574707, 2.669581413269043, 1.0551507472991943, 2.8637332916259766, 1.372401475906372, 2.258803129196167, 1.1820809841156006, 2.83718204498291, 1.1499369144439697, 3.49054217338562, 0.6724076867103577, 4.838747024536133, 0.4067736566066742, 2.153721332550049, 1.4122365713119507, 0.9525344967842102, 1.7165579795837402, 0.9407355785369873, 1.5978457927703857, 0.6832460761070251, 2.7879276275634766, 0.5863968133926392, 2.5932374000549316, 1.058743953704834, 1.691990852355957, 1.223777174949646, 1.6727043390274048, 1.0248653888702393, 2.5617997646331787, 0.725216269493103, 3.4522757530212402, 0.9548532962799072, 2.114069938659668, 1.3783024549484253, 1.617943525314331, 1.5092501640319824, 1.3913179636001587, 1.2116632461547852, 2.00827693939209, 0.9011523723602295, 2.977874755859375, 0.7339291572570801, 3.206141948699951, 1.4100732803344727, 1.784659743309021, 1.5997014045715332, 1.58418607711792, 1.9345625638961792, 1.0294630527496338, 3.288048267364502, 0.9544624090194702, 2.6158671379089355, 2.1207547187805176, 1.3629460334777832, 2.588963508605957, 1.1608953475952148, 2.6280903816223145, 1.0115516185760498, 3.2838454246520996, 0.7217142581939697, 3.5856757164001465, 1.248706579208374, 1.971417784690857, 2.0162272453308105, 1.2869529724121094, 2.180778980255127, 1.430686116218567, 1.9822258949279785, 1.2898826599121094, 2.5433387756347656, 1.18351411819458, 2.75032377243042, 2.032698154449463, 1.5134053230285645, 2.3113110065460205, 1.811684250831604, 1.889826774597168, 1.7668139934539795, 2.0502681732177734, 1.7577645778656006, 2.003063201904297, 1.460914134979248, 2.2206976413726807, 1.2543094158172607, 2.8832366466522217, 0.8824342489242554, 3.8673057556152344, 1.251922607421875, 2.2184457778930664, 1.829819917678833, 1.9533480405807495, 1.8598045110702515, 1.8991494178771973, 1.782016634941101, 2.0314321517944336, 1.1730835437774658, 3.2502403259277344, 0.8235054612159729, 3.7802979946136475, 0.6668963432312012, 11.399129867553711, 0.47246354818344116, 3.8414483070373535, 1.4456281661987305, 0.515775203704834, 3.0416791439056396, 1.0683526992797852, 1.5977973937988281, 1.242316484451294, 1.750326156616211, 1.1271458864212036, 1.6934304237365723, 0.8354126214981079, 2.1932148933410645, 0.3776765763759613, 3.1922314167022705, 0.9532447457313538, 1.0099750757217407, 1.7416613101959229, 0.9187983274459839, 1.5253500938415527, 0.9940301775932312, 1.5952739715576172, 0.9770283102989197, 1.5711859464645386, 0.8303842544555664, 2.225503444671631, 0.6783493757247925, 2.276008129119873, 1.0043185949325562, 1.4655061960220337, 1.624559998512268, 1.2638967037200928, 1.2793024778366089, 1.2872353792190552, 1.1437115669250488, 1.4243299961090088, 1.165666103363037, 1.4818624258041382, 1.4201726913452148, 1.5926268100738525, 1.105184555053711, 1.8011131286621094, 0.8903993368148804, 2.047651529312134, 0.7518094778060913, 2.809116840362549, 0.6791857481002808, 2.496795177459717, 0.8042892217636108, 2.2744054794311523, 0.4838050901889801, 3.298004150390625, 0.7245429754257202, 1.7361748218536377, 1.0984044075012207, 1.4632856845855713, 1.2894055843353271, 1.3056678771972656, 1.5297378301620483, 1.3586398363113403, 1.499588966369629, 1.4335126876831055, 1.6359299421310425, 1.0552611351013184, 2.0228190422058105, 0.8767878413200378, 2.3077735900878906, 1.0959686040878296, 1.748978614807129, 1.137863278388977, 2.4733152389526367, 0.5810724496841431, 3.5511293411254883, 0.45481228828430176, 2.3075480461120605, 1.0944586992263794, 1.159657597541809, 1.4885257482528687, 1.0707204341888428, 1.3271543979644775, 1.2561064958572388, 1.4437940120697021, 1.3956446647644043, 1.191291332244873, 1.8664923906326294, 1.0669825077056885, 2.2067041397094727, 0.9286157488822937, 2.2947986125946045, 0.8515225648880005, 2.80210542678833, 0.49384987354278564, 5.379557132720947, 0.46148258447647095, 1.895714521408081, 1.64854097366333, 0.7260898947715759, 2.2006049156188965, 0.7552139163017273, 1.5282137393951416, 1.216956377029419, 1.1775341033935547, 1.7280000448226929, 1.0380539894104004, 1.675734043121338, 1.2746310234069824, 1.4799766540527344, 1.366908311843872, 1.4620389938354492, 1.2395644187927246, 1.5279369354248047, 1.3532915115356445, 1.320141315460205, 1.6012904644012451, 1.1290614604949951, 1.99481201171875, 0.9599485397338867, 2.0924277305603027, 0.580213189125061, 3.7880496978759766, 0.5195821523666382, 1.9202420711517334, 1.157823085784912, 1.3578845262527466, 1.0962865352630615, 1.4962446689605713, 0.8116905689239502, 2.0052433013916016, 0.7839018106460571, 1.7086741924285889, 0.8243672251701355, 1.9316530227661133, 0.8632423877716064, 2.2229371070861816, 0.8947829604148865, 2.1229076385498047, 1.1126880645751953, 1.7045050859451294, 1.3921763896942139, 1.3565189838409424, 1.3719220161437988, 1.7645176649093628, 1.0651021003723145, 2.2080349922180176, 1.0127265453338623, 2.509758234024048, 0.3933022618293762, 4.50156307220459, 1.0653307437896729, 0.8536686897277832, 2.4420008659362793, 0.5966975688934326, 2.198735237121582, 0.7957844138145447, 1.6084439754486084, 1.2523448467254639, 0.9564574956893921, 1.6504911184310913, 0.8672975301742554, 1.6339361667633057, 0.7362262010574341, 1.8886687755584717, 0.9042894840240479, 1.7373828887939453, 1.259965181350708, 1.3300747871398926, 1.5178356170654297, 1.2953999042510986, 1.2211378812789917, 1.579808235168457, 1.1744475364685059, 1.5860626697540283, 1.242661714553833, 1.7258461713790894, 1.152148723602295, 1.961267352104187, 1.401626706123352, 1.6558232307434082, 1.3891674280166626, 1.51499605178833, 1.6152763366699219, 1.2847506999969482, 1.6173025369644165, 1.1793606281280518, 2.1121416091918945, 1.0236127376556396, 2.454298734664917, 0.6858173608779907, 3.8108248710632324, 0.4223344922065735, 2.246868133544922, 1.3657201528549194, 1.1128720045089722, 1.5257872343063354, 0.8909671306610107, 1.877413034439087, 0.6994367837905884, 2.2767391204833984, 0.669235348701477, 2.389655828475952, 0.9555212259292603, 1.6404249668121338, 1.3744494915008545, 1.5234265327453613, 1.4200918674468994, 1.5051696300506592, 1.3692636489868164, 1.7265598773956299, 1.3467661142349243, 1.602281093597412, 1.3239943981170654, 1.9583239555358887, 1.0472089052200317, 2.5057387351989746, 0.6930657625198364, 3.652348041534424, 0.632688045501709, 2.8955349922180176, 0.43761545419692993, 2.7729172706604004, 0.5014871954917908, 2.194467067718506, 0.6493515968322754, 1.7466825246810913, 0.6897707581520081, 1.615238070487976, 0.8065341711044312, 1.6250078678131104, 0.7247340083122253, 1.9321379661560059, 0.8026767373085022, 1.578794002532959, 0.9507491588592529, 1.4621332883834839, 0.7473731637001038, 2.0356037616729736, 0.5986220836639404, 2.2156355381011963, 0.7262799143791199, 1.8399410247802734, 1.0318108797073364, 1.4942044019699097, 1.1713154315948486, 1.4638481140136719, 1.3223979473114014, 1.2031913995742798, 1.325758934020996, 1.300925374031067, 1.20085608959198, 1.3712060451507568, 0.9251687526702881, 2.0119216442108154, 0.4776790142059326, 3.721299409866333, 0.5418335199356079, 2.112560987472534, 1.143754482269287, 1.3335436582565308, 1.3526114225387573, 1.3633453845977783, 1.6076991558074951, 0.9595576524734497, 2.2095947265625, 0.5985633730888367, 2.7608227729797363, 0.7061178684234619, 2.0033161640167236, 1.208788275718689, 1.488325595855713, 1.7588332891464233, 0.9726336002349854, 1.887195348739624, 1.369424819946289, 1.5486642122268677, 1.2022550106048584, 1.7599501609802246, 0.9608847498893738, 2.2645528316497803, 0.7943029403686523, 3.0046024322509766, 0.3847496211528778, 3.272153377532959, 1.271525263786316, 1.0353813171386719, 2.1558609008789062, 0.6345733404159546, 2.588876247406006, 1.0649172067642212, 1.1661380529403687, 2.2998270988464355, 0.7232912182807922, 2.2583494186401367, 1.0334891080856323, 1.6157312393188477, 1.3626682758331299, 1.3442668914794922, 1.3477895259857178, 1.4366183280944824, 1.4515551328659058, 1.308057427406311, 1.558042287826538, 1.3438572883605957, 1.775219202041626, 0.8867282867431641, 2.413339614868164, 0.7941103577613831, 2.490795135498047, 1.0573973655700684, 1.736626148223877, 0.7964291572570801, 2.3026609420776367, 0.513615608215332, 3.3186469078063965, 1.3098645210266113, 1.1912715435028076, 1.7139233350753784, 1.11920166015625, 2.0599660873413086, 0.8424513339996338, 2.341298818588257, 0.7685567140579224, 2.734372854232788, 0.6896281242370605, 3.8264598846435547, 0.5601134896278381, 3.1572651863098145, 0.4759060740470886, 2.1680941581726074, 0.8088530898094177, 1.4584964513778687, 0.8951106071472168, 1.4679157733917236, 0.8279861807823181, 1.87887442111969, 0.7018632888793945, 1.9649162292480469, 0.7424999475479126, 1.8146697282791138, 1.0163369178771973, 1.2949347496032715, 1.3666566610336304, 0.8311122059822083, 2.078516960144043, 0.5544147491455078, 2.734640121459961, 0.8790289759635925, 1.8361499309539795, 0.820915699005127, 2.0806682109832764, 0.655531644821167, 2.4355580806732178, 1.121533751487732, 1.5576705932617188, 1.4390668869018555, 1.324571132659912, 1.4586033821105957, 1.4610495567321777, 1.2602498531341553, 1.4150573015213013, 1.475494623184204, 1.1827757358551025, 1.7507045269012451, 0.8772275447845459, 2.2303876876831055, 0.7197268605232239, 2.8641676902770996, 0.4838661551475525, 3.739337921142578, 0.40744537115097046, 2.2118892669677734, 1.0110975503921509, 1.174649953842163, 1.3066675662994385, 1.0218751430511475, 1.6984927654266357, 0.8196444511413574, 1.8960611820220947, 0.9029788970947266, 1.6377781629562378, 1.0043363571166992, 1.5421781539916992, 1.287189245223999, 1.2631542682647705, 1.5015709400177002, 1.2459640502929688, 1.63907790184021, 0.9186203479766846, 2.173610210418701, 0.8948656916618347, 1.9989380836486816, 0.8862892985343933, 2.1034367084503174, 1.3660240173339844, 1.4483983516693115, 1.699023723602295, 0.9860253930091858, 2.389312744140625, 1.0732002258300781, 1.9535537958145142, 0.4682232141494751, 4.088183879852295, 0.6464883089065552, 1.5736864805221558, 1.6175522804260254, 0.6284373998641968, 2.408745288848877, 0.6526587009429932, 1.8640605211257935, 0.9036273956298828, 1.729856252670288, 1.1353079080581665, 1.420412302017212, 1.4699374437332153, 1.1758091449737549, 1.8407098054885864, 0.9236666560173035, 2.1072330474853516, 1.1753857135772705, 1.2643322944641113, 1.6180834770202637, 0.9815679788589478, 1.8513610363006592, 0.923510730266571, 2.2878990173339844, 0.9665592908859253, 1.9127578735351562, 1.1852469444274902, 2.219702959060669, 0.5365186929702759, 3.075901508331299, 0.6665423512458801, 2.022559642791748, 0.9305109977722168, 1.763784408569336, 1.2888808250427246, 1.257122278213501, 1.5190448760986328, 1.4915738105773926, 1.4233942031860352, 1.7083796262741089, 1.174942970275879, 1.9088377952575684, 1.2454586029052734, 1.549809217453003, 1.4965572357177734, 1.173506259918213, 2.1852080821990967, 1.039421558380127, 2.4942498207092285, 0.4452665448188782, 3.672029495239258, 0.8007230162620544, 1.5643243789672852, 1.1908210515975952, 1.195976734161377, 1.6084108352661133, 0.6959633231163025, 2.6339268684387207, 0.52238929271698, 3.7325029373168945, 0.5124485492706299, 2.852104663848877, 0.5776592493057251, 1.6565865278244019, 1.1470229625701904, 1.1702927350997925, 1.2686727046966553, 1.0375208854675293, 1.3993964195251465, 0.8364888429641724, 1.7848402261734009, 0.8482169508934021, 1.6358954906463623, 0.9283862709999084, 1.7357251644134521, 0.665972888469696, 2.3875417709350586, 0.7163277268409729, 2.0889105796813965, 0.7746340036392212, 1.8527781963348389, 0.9181922078132629, 1.6177127361297607, 1.0216838121414185, 1.8836978673934937, 1.1424081325531006, 1.3508121967315674, 1.3526228666305542, 1.1351512670516968, 1.7289419174194336, 0.8383061289787292, 2.4593734741210938, 0.5241062045097351, 2.933669328689575, 0.7534109354019165, 2.0353002548217773, 0.8893505930900574, 1.842857003211975, 1.0937615633010864, 1.65697181224823, 1.2216789722442627, 1.4312176704406738, 1.5110197067260742, 1.3665618896484375, 1.5684075355529785, 1.4478824138641357, 1.689301609992981, 0.712514340877533, 3.1309876441955566, 0.7437750101089478, 2.416428327560425, 0.438138484954834, 3.0347659587860107, 0.6502595543861389, 1.9112969636917114, 1.2383143901824951, 1.106593370437622, 1.8067009449005127, 1.01450777053833, 1.5025858879089355, 0.9708253741264343, 1.709972858428955, 1.0753161907196045, 1.7170077562332153, 1.154388189315796, 1.572817087173462, 1.6861411333084106, 1.135898232460022, 1.7526929378509521, 1.2455289363861084, 1.572095274925232, 1.280077576637268, 1.5295085906982422, 1.2144155502319336, 2.304006576538086, 0.5838591456413269, 3.5218558311462402, 0.8943228721618652, 2.4318017959594727, 0.43413883447647095, 3.727128028869629, 0.5543262362480164, 1.4411561489105225, 1.5075987577438354, 0.7370631098747253, 1.8308833837509155, 0.7696340084075928, 1.6647878885269165, 0.9152991771697998, 1.2734893560409546, 1.2598512172698975, 0.8903865218162537, 2.048274040222168, 0.6517409682273865, 2.3029048442840576, 0.8093715310096741, 1.7468091249465942, 1.1022772789001465, 1.4657610654830933, 1.079434871673584, 1.405493140220642, 1.5464540719985962, 0.9500312805175781, 1.9466816186904907, 1.115101933479309, 1.6764230728149414, 1.0285391807556152, 2.2690696716308594, 0.5466757416725159, 3.2633299827575684, 0.6276377439498901, 2.334007740020752, 0.5907043218612671, 2.665102481842041, 0.6945236325263977, 1.8124432563781738, 1.108031988143921, 1.1586430072784424, 1.5028423070907593, 1.2158136367797852, 1.6924123764038086, 1.160658597946167, 1.4813673496246338, 1.2193526029586792, 1.6305174827575684, 1.2030487060546875, 1.5570088624954224, 1.5050039291381836, 1.2340633869171143, 1.811167597770691, 0.9110758304595947, 1.9470103979110718, 1.1685229539871216, 1.9059406518936157, 1.042003870010376, 2.0582261085510254, 1.1017653942108154, 2.2024312019348145, 0.7548527121543884, 3.082165241241455, 0.4765721559524536, 4.361435413360596, 0.45711153745651245, 2.0120739936828613, 0.9988898038864136, 1.232611060142517, 0.9883020520210266, 1.2944214344024658, 1.1024456024169922, 1.3298263549804688, 1.0810697078704834, 1.3839404582977295, 0.8663648366928101, 1.9930123090744019, 0.7235089540481567, 2.179513454437256, 0.8881161212921143, 1.5802706480026245, 1.342821717262268, 1.1075550317764282, 1.4979352951049805, 1.2781766653060913, 1.4267473220825195, 1.2440016269683838, 1.6640055179595947, 1.089176058769226, 1.7768044471740723, 0.9531525373458862, 2.0853428840637207, 0.7849813103675842, 2.9428040981292725, 0.5343854427337646, 3.265904426574707, 0.5243768692016602, 2.2409911155700684, 0.9378740191459656, 1.3192121982574463, 1.0960237979888916, 1.2185633182525635, 1.234926700592041, 1.1027991771697998, 1.6518850326538086, 0.9404081702232361, 1.7165732383728027, 1.0501737594604492, 1.3010501861572266, 1.2896820306777954, 1.3923826217651367, 1.191511869430542, 1.7960076332092285, 0.7718360424041748, 3.0626258850097656, 0.5106140375137329, 2.610579013824463, 0.878807544708252, 1.6212055683135986, 1.3595366477966309, 1.1333764791488647, 1.8406856060028076, 0.7846711277961731, 2.2117326259613037, 0.9041075110435486, 1.6503877639770508, 1.4688546657562256, 1.2669215202331543, 1.8203864097595215, 1.0979149341583252, 2.0738563537597656, 0.9582101106643677, 2.427867889404297, 0.8353084921836853, 2.6317708492279053, 0.8648077845573425, 2.4154856204986572, 0.7604749798774719, 2.358304500579834, 0.6305712461471558, 2.3508615493774414, 0.5417957305908203, 2.4506912231445312, 1.1254056692123413, 1.2146718502044678, 1.7447550296783447, 0.8120107650756836, 2.4373228549957275, 1.0436270236968994, 1.5219805240631104, 1.6144906282424927, 1.102870225906372, 1.996690034866333, 1.0251175165176392, 1.7469215393066406, 1.291595697402954, 2.0133907794952393, 0.9932348728179932, 2.2582101821899414, 0.8594163060188293, 2.385331630706787, 0.7154703140258789, 2.793386697769165, 0.7574671506881714, 2.8237221240997314, 0.4014434218406677, 3.2909412384033203, 0.7091807126998901, 1.5905619859695435, 1.1616795063018799, 1.3248112201690674, 1.1607069969177246, 1.4861764907836914, 1.1064871549606323, 1.3764009475708008, 1.2611756324768066, 1.1702250242233276, 1.5823564529418945, 0.841566264629364, 2.1910924911499023, 0.7920510768890381, 2.047804117202759, 1.0557115077972412, 1.5495338439941406, 1.3736631870269775, 1.4026875495910645, 1.663612961769104, 1.231071949005127, 2.2378597259521484, 0.5959508419036865, 3.168247699737549, 0.8109970688819885, 1.848177194595337, 0.8319789171218872, 2.3510212898254395, 0.7667521834373474, 1.8565188646316528, 1.2232091426849365, 1.4504404067993164, 1.6036324501037598, 1.2103116512298584, 2.2237751483917236, 0.9421518445014954, 2.182729721069336, 1.2498950958251953, 1.8120523691177368, 1.5757355690002441, 1.5495328903198242, 1.3490744829177856, 2.2392327785491943, 0.903392493724823, 2.4609081745147705, 1.12588632106781, 2.373889923095703, 0.5703034400939941, 3.792692184448242, 0.4872952401638031, 2.6758341789245605, 0.6754657030105591, 1.8701261281967163, 1.04879891872406, 1.5362797975540161, 0.9467470645904541, 1.6715141534805298, 0.8313542604446411, 2.192365884780884, 0.9136184453964233, 1.8870007991790771, 1.3179893493652344, 1.3491275310516357, 1.6543846130371094, 1.0856822729110718, 1.72206449508667, 1.3147703409194946, 1.4795074462890625, 0.9877076745033264, 2.385636329650879, 0.5445822477340698, 3.092921257019043, 0.8137174844741821, 2.2833805084228516, 0.6587132215499878, 2.390688896179199, 1.2218796014785767, 1.2449651956558228, 1.4952497482299805, 1.3515703678131104, 1.3890810012817383, 1.3220508098602295, 1.6324925422668457, 1.2401875257492065, 2.2229959964752197, 0.6993449926376343, 2.8409628868103027, 0.8379052877426147, 2.5734920501708984, 0.6786137819290161, 2.367445945739746, 1.1918532848358154, 1.222191572189331, 1.7188599109649658, 0.9246866106987, 2.0088794231414795, 1.2081398963928223, 1.4985201358795166, 1.7988407611846924, 0.834398090839386, 3.0910725593566895, 0.6137676239013672, 2.5326645374298096, 0.9596823453903198, 1.7648868560791016, 1.181091547012329, 1.5189131498336792, 1.507136583328247, 1.3072905540466309, 1.839318037033081, 0.7850102186203003, 2.6321001052856445, 0.9909332990646362, 1.935191035270691, 1.047330379486084, 2.22025203704834, 0.7492774724960327, 2.5600156784057617, 0.862350344657898, 2.2370593547821045, 0.9296658039093018, 1.9169871807098389, 1.3027029037475586, 1.7784655094146729, 1.1087565422058105, 2.2241780757904053, 1.1133747100830078, 2.0576601028442383, 0.9244824647903442, 2.5411133766174316, 1.1850483417510986, 2.189439296722412, 1.3630609512329102, 1.9374949932098389, 1.626093864440918, 1.5500909090042114, 2.3275113105773926, 1.4566386938095093, 1.4226598739624023, 2.6653788089752197, 0.6752127408981323, 3.310117244720459, 0.5688972473144531, 4.616916656494141, 0.47771015763282776, 3.300311326980591, 0.8337804079055786, 1.380169153213501, 0.8730005025863647, 1.6467885971069336, 0.9781162738800049, 1.6448698043823242, 0.899451494216919, 1.598402976989746, 0.9369232654571533, 1.7845014333724976, 1.0369518995285034, 1.96051824092865, 0.9173693656921387, 2.459707736968994, 0.5034812688827515, 2.6021337509155273, 0.8612328767776489, 1.6487573385238647, 1.2576842308044434, 1.4692684412002563, 1.332892656326294, 1.423208236694336, 1.3698844909667969, 1.3425142765045166, 1.7118680477142334, 1.0006694793701172, 2.217510461807251, 0.7892916202545166, 2.390742778778076, 0.9384852647781372, 2.41909122467041, 0.4322376251220703, 3.8567209243774414, 0.6012999415397644, 1.747749924659729, 1.2132618427276611, 1.0031304359436035, 1.9235094785690308, 0.658989429473877, 2.5595080852508545, 0.7090579271316528, 2.0848608016967773, 1.1880427598953247, 1.3465709686279297, 1.6607303619384766, 1.2616342306137085, 1.779012680053711, 0.8866151571273804, 2.423931121826172, 0.6928654313087463, 2.833308458328247, 0.9510507583618164, 2.036825656890869, 1.41910719871521, 1.380889892578125, 1.8479554653167725, 1.1396942138671875, 1.8194832801818848, 1.4640167951583862, 1.4527382850646973, 1.6804554462432861, 1.6211495399475098, 1.6546332836151123, 1.4361186027526855, 1.769988775253296, 1.4931552410125732, 2.333686590194702, 1.6859771013259888, 1.45195734500885, 2.714888095855713, 0.6802281141281128, 3.116952896118164, 1.298006296157837, 1.2751684188842773, 2.6169958114624023, 0.605862557888031, 3.0015220642089844, 1.0347269773483276, 1.8078408241271973, 1.8725943565368652, 1.029789686203003, 2.0801634788513184, 0.9812789559364319, 2.3798718452453613, 1.090045690536499, 1.9717981815338135, 1.1053777933120728, 2.136657953262329, 1.749405860900879, 1.4647390842437744, 2.0546607971191406, 1.1611311435699463, 2.3413100242614746, 1.2190117835998535, 2.126269817352295, 1.242271065711975, 1.9190316200256348, 1.5829744338989258, 2.559256076812744, 1.3854548931121826, 2.043394088745117, 1.7319681644439697, 1.3977383375167847, 2.4350643157958984, 0.7756794095039368, 3.2646570205688477, 0.8913814425468445, 2.7820539474487305, 0.8708842396736145, 3.325550079345703, 0.45268404483795166, 4.127348899841309, 0.6291054487228394, 3.7034010887145996, 0.5061618685722351, 3.206094741821289, 0.8746299743652344, 2.1029109954833984, 0.9417133331298828, 2.401975154876709, 0.4855780601501465, 3.7451863288879395, 1.0276988744735718, 1.4628918170928955, 1.833852767944336, 1.0339093208312988, 1.8391852378845215, 1.0318673849105835, 1.3712759017944336, 1.2270818948745728, 1.9840338230133057, 1.2140488624572754, 1.7906558513641357, 0.863864004611969, 2.488945484161377, 0.5829235911369324, 3.46293306350708, 0.7591961622238159, 2.767927646636963, 0.8237751722335815, 1.807158350944519, 0.925118088722229, 1.5098276138305664, 0.7711868286132812, 2.399552822113037, 0.7224886417388916, 2.1098783016204834, 1.1893482208251953, 1.072439432144165, 1.3773858547210693, 1.0366265773773193, 1.783646583557129, 1.0937306880950928, 1.8056803941726685, 1.1351265907287598, 1.6563377380371094, 0.96454256772995, 2.593575954437256, 0.4956766366958618, 3.7832698822021484, 1.1129522323608398, 1.0469543933868408, 2.088561534881592, 0.6684945821762085, 2.230593204498291, 0.9976842403411865, 1.7396605014801025, 1.450007438659668, 1.4055187702178955, 1.4561684131622314, 1.3328362703323364, 1.5776994228363037, 1.4896395206451416, 1.4889580011367798, 1.3913233280181885, 2.012514591217041, 1.2100214958190918, 1.7714195251464844, 1.0902211666107178, 2.320141553878784, 0.802771270275116, 2.985865592956543, 0.891467809677124, 2.5185184478759766, 0.9684323072433472, 1.726876974105835, 1.2611072063446045, 1.6762406826019287, 1.6328482627868652, 1.6050755977630615, 1.3028287887573242, 1.8210067749023438, 1.6178011894226074, 1.8605788946151733, 1.631157398223877, 1.410321831703186, 2.229980945587158, 1.1645326614379883, 2.487866163253784, 1.8270009756088257, 1.3781068325042725, 2.4572463035583496, 1.1579957008361816, 2.3186888694763184, 1.2001856565475464, 2.2645263671875, 1.42161226272583, 2.2151379585266113, 2.1748342514038086, 1.3311257362365723, 1.955268144607544, 1.8366888761520386, 1.7827656269073486, 1.6896443367004395, 1.9811882972717285, 1.244882583618164, 2.524648666381836, 1.0870590209960938, 3.1898608207702637, 0.7130773067474365, 4.206320762634277, 0.4226026237010956, 4.60528564453125, 0.4731103181838989, 2.1416378021240234, 0.8531212210655212, 1.5197120904922485, 0.7955396175384521, 1.5049163103103638, 0.6274404525756836, 2.015368938446045, 0.5862709283828735, 2.5449273586273193, 0.8948490619659424, 1.7486404180526733, 1.2645113468170166, 1.1301093101501465, 1.1623730659484863, 1.423919439315796, 1.0966131687164307, 1.7140884399414062, 1.0491914749145508, 2.0607948303222656, 0.9414265155792236, 2.4957759380340576, 0.587748646736145, 3.0175282955169678, 0.7698413133621216, 1.871052861213684, 1.6540555953979492, 0.8734026551246643, 2.3690457344055176, 0.9279594421386719, 1.643277883529663, 1.4781782627105713, 1.1525323390960693, 1.7628750801086426, 1.0285234451293945, 2.208552837371826, 1.235732078552246, 1.7040057182312012, 1.2536829710006714, 1.8620531558990479, 1.011497974395752, 2.1335878372192383, 1.1183991432189941, 2.5216526985168457, 0.8394590616226196, 2.5142247676849365, 1.338321566581726, 1.592667579650879, 1.272392988204956, 1.9139838218688965, 0.980032742023468, 2.509492874145508, 1.3218190670013428, 1.9408128261566162, 1.562380075454712, 1.3658115863800049, 2.0056018829345703, 0.8061271905899048, 3.169438362121582, 1.4965052604675293, 1.4494118690490723, 1.6677346229553223, 0.6234725713729858, 4.001260757446289, 0.38118863105773926, 4.061655044555664, 1.0483393669128418, 1.0783371925354004, 1.8388826847076416, 0.441340833902359, 3.4622533321380615, 0.8145833611488342, 1.5016814470291138, 1.4864646196365356, 1.1947215795516968, 1.2536840438842773, 1.0264217853546143, 1.5141620635986328, 1.0301250219345093, 2.214231491088867, 0.7358908653259277, 2.53825044631958, 0.6123965978622437, 2.4651565551757812, 1.0730130672454834, 1.4703642129898071, 1.8224631547927856, 0.9162830710411072, 2.148075580596924, 0.8109445571899414, 2.2316627502441406, 1.1389586925506592, 1.6853678226470947, 1.5591034889221191, 1.3185127973556519, 1.7889599800109863, 1.1755322217941284, 1.869920015335083, 1.1820369958877563, 2.2983384132385254, 1.0028834342956543, 2.1763553619384766, 1.192386507987976, 1.8656405210494995, 1.0729821920394897, 2.547006607055664, 1.150471806526184, 2.525613307952881, 0.872280478477478, 3.027620792388916, 1.0369460582733154, 2.120800018310547, 1.1002755165100098, 2.3869709968566895, 0.7059733867645264, 3.635887861251831, 0.9968920350074768, 2.3349502086639404, 1.2615916728973389, 1.6462188959121704, 1.5171022415161133, 1.692683219909668, 1.520202398300171, 1.9668354988098145, 1.1817350387573242, 3.031862735748291, 1.273629903793335, 1.8100453615188599, 1.7743072509765625, 1.2500674724578857, 2.2219715118408203, 1.1593053340911865, 2.998683452606201, 1.4786691665649414, 1.6149168014526367, 2.19801926612854, 1.3906307220458984, 1.9538509845733643, 1.7946248054504395, 1.4015772342681885, 2.1385750770568848, 1.7040095329284668, 1.8438222408294678, 2.4072110652923584, 1.4787594079971313, 1.898228645324707, 2.0916335582733154, 1.6753990650177002, 2.3283610343933105, 2.0810065269470215, 1.6150035858154297, 2.1540462970733643, 1.6010055541992188, 1.8688563108444214, 2.4767839908599854, 2.076819896697998, 1.2824735641479492, 2.836247205734253, 0.9784287214279175, 3.1701979637145996, 0.3895222544670105, 5.745194435119629, 1.127697467803955, 1.0832569599151611, 2.306591272354126, 0.4616023302078247, 2.3662960529327393, 1.1576485633850098, 1.1567482948303223, 1.8960645198822021, 0.8234151601791382, 2.3413939476013184, 0.4738773703575134, 3.9282374382019043, 0.9739457368850708, 1.2732539176940918, 1.8011248111724854, 0.6790822744369507, 2.58376407623291, 0.8042528629302979, 2.542524814605713, 1.1450910568237305, 1.4144442081451416, 1.47471022605896, 1.242663860321045, 1.5510258674621582, 1.3404035568237305, 1.448562741279602, 1.4164819717407227, 1.8407883644104004, 0.7229198217391968, 3.304410696029663, 0.6828449368476868, 2.6348886489868164, 0.9470398426055908, 1.423952579498291, 1.7057698965072632, 0.7464417815208435, 2.3849217891693115, 0.8599611520767212, 2.098559856414795, 1.481973648071289, 1.1755691766738892, 1.7512433528900146, 1.2122671604156494, 1.8364307880401611, 1.243519902229309, 2.0320308208465576, 1.3261970281600952, 2.266483783721924, 1.183380126953125, 2.227940082550049, 0.7150797843933105, 3.0087499618530273, 0.8517357707023621, 2.383370876312256, 1.1904619932174683, 1.451991319656372, 1.9340691566467285, 0.9766775369644165, 2.3628053665161133, 0.7899239659309387, 3.315145969390869, 1.013509750366211, 2.0568790435791016, 1.530738115310669, 1.3215947151184082, 1.9421906471252441, 1.1283836364746094, 2.6188511848449707, 0.8711794018745422, 2.5417230129241943, 1.090543508529663, 2.0731029510498047, 1.2013154029846191, 2.3271241188049316, 0.9292925000190735, 3.012620210647583, 0.859334409236908, 2.306291341781616, 1.2392616271972656, 1.5719022750854492, 1.4982941150665283, 2.083364486694336, 1.8135737180709839, 2.1831541061401367, 1.3161346912384033, 2.3351171016693115, 0.9167944192886353, 3.213867664337158, 0.9707201719284058, 2.316481590270996, 1.855208158493042, 1.4092918634414673, 1.6564549207687378, 1.8404297828674316, 2.181239128112793, 2.327319622039795, 1.5323140621185303, 2.305846691131592, 1.7818450927734375, 1.943185567855835, 1.7189102172851562, 1.895661473274231, 2.286807060241699, 2.1652753353118896, 1.8329761028289795, 1.6454286575317383, 2.199263572692871, 1.9937858581542969, 1.732102870941162, 2.3939528465270996, 1.6444889307022095, 1.9947915077209473, 2.0060784816741943, 2.2853994369506836, 1.7154479026794434, 2.137092113494873, 1.7703580856323242, 1.877819299697876, 2.331271171569824, 2.1053645610809326, 1.7989497184753418, 2.0266475677490234, 2.4068193435668945, 2.4192943572998047, 1.5121901035308838, 2.015383720397949, 2.1021432876586914, 1.6383634805679321, 1.694202184677124, 2.7987945079803467, 1.2137253284454346, 2.4694418907165527, 1.0395557880401611, 3.155592441558838, 0.6326082944869995, 6.048218250274658, 0.37384235858917236, 3.4431233406066895, 0.5407841205596924, 1.8507463932037354, 1.0428568124771118, 1.502364993095398, 1.2391955852508545, 0.8811758160591125, 1.3416061401367188, 0.7788659334182739, 1.9640309810638428, 0.7295359373092651, 3.2225546836853027, 0.8622767925262451, 1.9944308996200562, 1.213378667831421, 0.9656534194946289, 1.5683269500732422, 0.5217427611351013, 2.8390207290649414, 0.9585644006729126, 1.8677363395690918, 1.2413811683654785, 1.475888967514038, 0.9620695114135742, 1.507917881011963, 0.7013571858406067, 3.2110402584075928, 0.8834003806114197, 2.2675349712371826, 1.310100793838501, 1.1199097633361816, 1.6849372386932373, 0.9748516082763672, 1.9979557991027832, 0.8872748017311096, 2.5625157356262207, 1.1463543176651, 1.5523087978363037, 1.8636829853057861, 0.711849570274353, 3.0144076347351074, 0.7031988501548767, 3.2415218353271484, 1.005995273590088, 1.731606364250183, 1.7260147333145142, 0.7629097700119019, 2.294952869415283, 0.4283335208892822, 4.365960597991943, 1.1961543560028076, 1.602773666381836, 1.626429557800293, 0.7106100916862488, 2.0821328163146973, 0.5534675121307373, 3.524367332458496, 1.2941179275512695, 1.0922088623046875, 2.1718478202819824, 0.8735507726669312, 1.5062978267669678, 1.1938031911849976, 1.1634976863861084, 2.0623621940612793, 1.0336140394210815, 1.7218096256256104, 1.0785391330718994, 2.284548759460449, 1.1377437114715576, 2.4259867668151855, 1.2399286031723022, 1.5718449354171753, 1.2337936162948608, 1.771363615989685, 1.445041537284851, 2.0085651874542236, 1.3302106857299805, 1.8961236476898193, 1.2866644859313965, 1.959733247756958, 1.0402653217315674, 2.477417230606079, 0.8902066946029663, 3.2818832397460938, 0.8062411546707153, 2.594989776611328, 0.7213517427444458, 2.62957763671875, 0.7903759479522705, 2.282370090484619, 1.381075143814087, 1.3559491634368896, 2.0369338989257812, 1.177679419517517, 1.5860662460327148, 1.8137151002883911, 1.1188685894012451, 2.4339630603790283, 0.9263029098510742, 2.3943662643432617, 1.1372320652008057, 1.9885653257369995, 1.3101750612258911, 1.3580678701400757, 2.6037354469299316, 0.8921727538108826, 3.0397188663482666, 0.7764333486557007, 2.8782105445861816, 1.428442358970642, 1.3561474084854126, 2.5258636474609375, 0.5518190264701843, 4.1788482666015625, 0.8009966015815735, 2.285306453704834, 1.2272770404815674, 1.2250640392303467, 1.7457728385925293, 0.8968983888626099, 3.160576820373535, 0.6941006183624268, 2.643176317214966, 1.2722530364990234, 1.5670137405395508, 1.7393208742141724, 1.1672065258026123, 3.0390031337738037, 0.9024050831794739, 2.865201950073242, 0.7798587679862976, 2.6061367988586426, 1.506587028503418, 1.418243646621704, 2.511514186859131, 1.1393475532531738, 2.479945659637451, 0.9755755662918091, 2.3224196434020996, 1.4124720096588135, 1.7659353017807007, 1.6096900701522827, 1.616097331047058, 1.8874671459197998, 1.8009071350097656, 1.710979700088501, 2.030388832092285, 1.1473649740219116, 3.7127981185913086, 1.2055083513259888, 1.9086772203445435, 1.8562877178192139, 1.3452423810958862, 1.9253236055374146, 1.5420303344726562, 1.6995327472686768, 1.8202884197235107, 1.720619797706604, 1.738290548324585, 1.803831934928894, 2.2805659770965576, 2.8297629356384277, 1.1591410636901855, 2.8879032135009766, 2.595980644226074, 1.2810534238815308, 2.689044237136841, 1.8618385791778564, 1.3720879554748535, 2.4428834915161133, 0.9876121878623962, 2.622201442718506, 1.4282925128936768, 2.1161444187164307, 1.6122466325759888, 1.9211971759796143, 1.1181846857070923, 2.874431610107422, 0.5971047878265381, 5.61093807220459, 0.8666372299194336, 2.4799394607543945, 0.4687430262565613, 2.9386801719665527, 0.52118980884552, 2.0805461406707764, 0.726754903793335, 1.947066068649292, 0.8883525133132935, 1.3764703273773193, 1.329361915588379, 1.2127459049224854, 0.885767936706543, 2.0048060417175293, 0.6788127422332764, 2.645832061767578, 0.9031139612197876, 1.9345258474349976, 1.3280353546142578, 1.0885416269302368, 2.2211713790893555, 0.43470269441604614, 3.4921555519104004, 1.5595295429229736, 1.04841947555542, 2.4202020168304443, 1.3448505401611328, 1.5289649963378906, 1.5421208143234253, 1.171135663986206, 1.5452804565429688, 1.403913974761963, 1.49874746799469, 2.0755391120910645, 0.9136782884597778, 3.047638416290283, 0.7032580375671387, 2.381850242614746, 1.0571696758270264, 1.6315873861312866, 1.6397762298583984, 1.0796668529510498, 2.481154441833496, 0.9082356691360474, 2.514761447906494, 0.6547993421554565, 3.6329197883605957, 1.0434757471084595, 1.616481065750122, 1.6853394508361816, 1.3018889427185059, 1.4887278079986572, 1.5724910497665405, 1.4809659719467163, 1.4829297065734863, 1.4533129930496216, 1.3539904356002808, 2.679698944091797, 0.7891359329223633, 3.434941291809082, 0.9499759078025818, 2.351395845413208, 0.9803892970085144, 2.0994057655334473, 0.5634927749633789, 4.119974136352539, 0.7087774276733398, 2.2967581748962402, 1.39585542678833, 1.7085750102996826, 1.4469407796859741, 1.5277810096740723, 1.2730798721313477, 2.5035359859466553, 0.43060025572776794, 4.967609405517578, 1.1561610698699951, 1.1463665962219238, 2.1630117893218994, 0.6778819561004639, 2.664748430252075, 1.1297128200531006, 1.165244460105896, 2.5460212230682373, 0.5260810852050781, 3.5400633811950684, 1.5407155752182007, 1.2423206567764282, 2.074747323989868, 0.7303128242492676, 2.4159300327301025, 1.118955373764038, 1.551491618156433, 1.8351352214813232, 1.5646891593933105, 1.2631421089172363, 1.8107539415359497, 1.046666145324707, 2.11814022064209, 1.1735552549362183, 2.2125091552734375, 1.512555480003357, 1.729433298110962, 1.45560622215271, 1.9932682514190674, 1.2536535263061523, 2.1612634658813477, 1.5377650260925293, 2.042815685272217, 2.1984314918518066, 1.493760108947754, 1.751467227935791, 2.342294454574585, 1.413802981376648, 2.0276193618774414, 2.062703847885132, 1.4337769746780396, 1.8725316524505615, 2.3335139751434326, 1.7785680294036865, 1.6911191940307617, 2.3015007972717285, 1.9450275897979736, 1.7914061546325684, 2.2550086975097656, 1.9607954025268555, 1.5491688251495361, 2.041210174560547, 2.048816204071045, 2.0192930698394775, 2.3168489933013916, 2.0395848751068115, 1.6933658123016357, 2.201120138168335, 1.8380258083343506, 1.8197332620620728, 1.9177534580230713, 2.0772006511688232, 1.634031057357788, 2.209782838821411, 1.9360958337783813, 1.8666317462921143, 2.1512722969055176, 2.0190939903259277, 1.9520771503448486, 2.3122358322143555, 1.5023468732833862, 2.5627384185791016, 1.0479220151901245, 2.627993106842041, 0.8320232629776001, 4.35396146774292, 0.5679139494895935, 4.635258674621582, 0.39917391538619995, 2.676039218902588, 1.2193249464035034, 0.6967449188232422, 1.5655633211135864, 0.4302266240119934, 2.078481912612915, 0.6119159460067749, 1.325929880142212, 1.2793803215026855, 0.9374332427978516, 1.036264419555664, 0.93418288230896, 1.2907519340515137, 0.5512381792068481, 1.786165714263916, 0.5135126709938049, 2.093761920928955, 0.9896411895751953, 1.2391035556793213, 1.6151957511901855, 1.1461560726165771, 1.0390669107437134, 1.5188865661621094, 0.5583186745643616, 2.447714328765869, 0.6225841045379639, 1.7271826267242432, 1.2138181924819946, 0.9652140140533447, 2.0055935382843018, 0.6671542525291443, 2.2843551635742188, 0.8109560012817383, 1.428619384765625, 1.3908686637878418, 1.0318238735198975, 1.8004353046417236, 0.8461832404136658, 2.439279317855835, 1.0225563049316406, 1.5103614330291748, 1.0847142934799194, 1.3251702785491943, 1.0259311199188232, 2.6353819370269775, 0.9770697355270386, 2.2137935161590576, 1.2821874618530273, 1.3275765180587769, 1.1279759407043457, 1.8021996021270752, 0.7170989513397217, 3.406867742538452, 0.9430577754974365, 1.9450037479400635, 0.9435019493103027, 2.1942999362945557, 0.43847498297691345, 3.8894834518432617, 0.9139318466186523, 1.8373663425445557, 0.7193504571914673, 2.5619492530822754, 0.4136745035648346, 2.7086968421936035, 0.6031520366668701, 1.4682657718658447, 1.8452001810073853, 1.3638906478881836, 1.106015920639038, 1.8527023792266846, 0.8812146782875061, 1.4939454793930054, 1.135282039642334, 1.193272590637207, 1.7060601711273193, 1.340908408164978, 1.6785080432891846, 1.616832971572876, 1.1070733070373535, 2.3067421913146973, 0.6508225202560425, 2.991346836090088, 0.9829431772232056, 2.1512410640716553, 1.201458215713501, 1.6192669868469238, 1.1337939500808716, 1.6033449172973633, 0.9251103401184082, 2.6448140144348145, 0.7214565873146057, 2.4410128593444824, 1.796879768371582, 0.9211056232452393, 2.868414878845215, 0.6954247951507568, 2.2418017387390137, 1.3275175094604492, 1.517419695854187, 1.560009241104126, 1.683334231376648, 1.571448802947998, 1.3323030471801758, 1.7165484428405762, 1.1841542720794678, 2.5495944023132324, 1.1885871887207031, 1.9246997833251953, 1.1768362522125244, 2.093402862548828, 1.1128616333007812, 2.424990177154541, 1.578453540802002, 1.9165270328521729, 1.6228957176208496, 1.8549221754074097, 1.2641870975494385, 2.2115349769592285, 1.1445646286010742, 2.375655174255371, 1.3082774877548218, 1.9426794052124023, 1.490098476409912, 1.9768520593643188, 0.9833962917327881, 3.5681722164154053, 0.680270254611969, 3.9042165279388428, 0.6527078151702881, 2.4802258014678955, 0.4808918237686157, 3.164766788482666, 0.523406982421875, 2.2651872634887695, 1.1682775020599365, 1.4011085033416748, 1.1992219686508179, 1.2045660018920898, 1.1714727878570557, 1.4536787271499634, 1.019811987876892, 2.1958723068237305, 1.2472249269485474, 1.5781644582748413, 1.4969903230667114, 1.226951241493225, 1.3912925720214844, 1.5075583457946777, 1.7383455038070679, 1.6010215282440186, 1.5816701650619507, 1.9219646453857422, 0.6626781225204468, 3.7515664100646973, 0.9377762675285339, 2.1650214195251465, 1.570573329925537, 1.202275276184082, 1.1605963706970215, 1.6662477254867554, 0.5513197779655457, 4.6360602378845215, 1.0082883834838867, 1.6447497606277466, 1.3603256940841675, 0.9748013615608215, 1.9042441844940186, 0.45755502581596375, 4.674437522888184, 1.8195936679840088, 0.892158567905426, 1.8481066226959229, 1.2474499940872192, 0.9604251384735107, 1.4987056255340576, 0.8015189170837402, 2.1735661029815674, 1.3559497594833374, 1.3804525136947632, 1.8277862071990967, 1.1458452939987183, 2.0778493881225586, 1.402643084526062, 1.9477230310440063, 1.2656761407852173, 1.4860138893127441, 1.5675997734069824, 1.3676562309265137, 2.477743625640869, 1.227492094039917, 1.9780974388122559, 1.697669267654419, 1.8864002227783203, 1.2288477420806885, 2.2300333976745605, 1.3862826824188232, 2.1195414066314697, 2.2104883193969727, 1.6282470226287842, 1.6892263889312744, 1.942217469215393, 1.4206719398498535, 2.402763843536377, 1.618896484375, 1.9282917976379395, 1.7451838254928589, 1.8946130275726318, 1.6070404052734375, 2.0861001014709473, 1.9286863803863525, 2.2768499851226807, 1.866992473602295, 1.5225999355316162, 2.5352818965911865, 0.874186635017395, 3.206968069076538, 0.7128282189369202, 4.4859819412231445, 0.3808784484863281, 3.775879144668579, 1.1382360458374023, 1.043684959411621, 1.727079153060913, 0.7280337810516357, 1.9029200077056885, 0.9802871942520142, 2.093417167663574, 1.056316614151001, 1.363342523574829, 1.0176820755004883, 1.6905406713485718, 0.7342523336410522, 3.098464012145996, 0.8086591958999634, 1.7521381378173828, 1.555809497833252, 0.8270866870880127, 1.5759679079055786, 1.045060396194458, 2.2631564140319824, 1.2544358968734741, 1.8480379581451416, 1.4057596921920776, 1.1837207078933716, 1.939753770828247, 0.8083065748214722, 3.036653995513916, 0.8320068120956421, 1.8804397583007812, 1.2505064010620117, 1.3788138628005981, 1.6079258918762207, 1.6458849906921387, 1.8600208759307861, 1.2134476900100708, 2.490983486175537, 0.6573307514190674, 3.271294116973877, 1.0751124620437622, 1.6753809452056885, 2.0493927001953125, 0.8466216325759888, 2.7143921852111816, 0.5543389320373535, 3.2655491828918457, 0.9029302597045898, 2.0290331840515137, 1.054618000984192, 2.1127827167510986, 0.7160887718200684, 3.4287631511688232, 0.9827069640159607, 1.622750163078308, 1.9559402465820312, 0.6448467373847961, 3.164951801300049, 0.8350868225097656, 1.8723632097244263, 2.128870725631714, 1.0533947944641113, 1.5302890539169312, 1.0927330255508423, 2.0207228660583496, 0.8827349543571472, 2.9439032077789307, 1.2834901809692383, 1.5360851287841797, 1.6478749513626099, 0.9549922347068787, 2.6027588844299316, 0.9999344944953918, 2.2399652004241943, 1.6280500888824463, 1.2878694534301758, 1.7117239236831665, 1.2478787899017334, 2.252890110015869, 1.0764068365097046, 2.5449717044830322, 1.362359881401062, 1.2304697036743164, 2.3804268836975098, 0.6549469232559204, 4.89576530456543, 1.219266653060913, 0.9451999664306641, 2.944232225418091, 0.3861531913280487, 4.132094860076904, 0.7308425903320312, 1.6002384424209595, 1.7138677835464478, 0.8540659546852112, 1.5662684440612793, 0.9240484237670898, 1.1976876258850098, 1.1859747171401978, 1.189788818359375, 1.708254337310791, 1.0279862880706787, 1.9647316932678223, 1.1206989288330078, 1.4330044984817505, 1.383821964263916, 1.1681184768676758, 1.7631052732467651, 1.3099113702774048, 1.737116813659668, 1.5510201454162598, 1.4235440492630005, 1.7249054908752441, 1.611222267150879, 1.4867253303527832, 1.8930168151855469]}],\n",
              "                        {\"height\": 500, \"template\": {\"data\": {\"bar\": [{\"error_x\": {\"color\": \"#2a3f5f\"}, \"error_y\": {\"color\": \"#2a3f5f\"}, \"marker\": {\"line\": {\"color\": \"#E5ECF6\", \"width\": 0.5}}, \"type\": \"bar\"}], \"barpolar\": [{\"marker\": {\"line\": {\"color\": \"#E5ECF6\", \"width\": 0.5}}, \"type\": \"barpolar\"}], \"carpet\": [{\"aaxis\": {\"endlinecolor\": \"#2a3f5f\", \"gridcolor\": \"white\", \"linecolor\": \"white\", \"minorgridcolor\": \"white\", \"startlinecolor\": \"#2a3f5f\"}, \"baxis\": {\"endlinecolor\": \"#2a3f5f\", \"gridcolor\": \"white\", \"linecolor\": \"white\", \"minorgridcolor\": \"white\", \"startlinecolor\": \"#2a3f5f\"}, \"type\": \"carpet\"}], \"choropleth\": [{\"colorbar\": {\"outlinewidth\": 0, \"ticks\": \"\"}, \"type\": \"choropleth\"}], \"contour\": [{\"colorbar\": {\"outlinewidth\": 0, \"ticks\": \"\"}, \"colorscale\": [[0.0, \"#0d0887\"], [0.1111111111111111, \"#46039f\"], [0.2222222222222222, \"#7201a8\"], [0.3333333333333333, \"#9c179e\"], [0.4444444444444444, \"#bd3786\"], [0.5555555555555556, \"#d8576b\"], [0.6666666666666666, \"#ed7953\"], [0.7777777777777778, \"#fb9f3a\"], [0.8888888888888888, \"#fdca26\"], [1.0, \"#f0f921\"]], \"type\": \"contour\"}], \"contourcarpet\": [{\"colorbar\": {\"outlinewidth\": 0, \"ticks\": \"\"}, \"type\": \"contourcarpet\"}], \"heatmap\": [{\"colorbar\": {\"outlinewidth\": 0, \"ticks\": \"\"}, \"colorscale\": [[0.0, \"#0d0887\"], [0.1111111111111111, \"#46039f\"], [0.2222222222222222, \"#7201a8\"], [0.3333333333333333, \"#9c179e\"], [0.4444444444444444, \"#bd3786\"], [0.5555555555555556, \"#d8576b\"], [0.6666666666666666, \"#ed7953\"], [0.7777777777777778, \"#fb9f3a\"], [0.8888888888888888, \"#fdca26\"], [1.0, \"#f0f921\"]], \"type\": \"heatmap\"}], \"heatmapgl\": [{\"colorbar\": {\"outlinewidth\": 0, \"ticks\": \"\"}, \"colorscale\": [[0.0, \"#0d0887\"], [0.1111111111111111, \"#46039f\"], [0.2222222222222222, \"#7201a8\"], [0.3333333333333333, \"#9c179e\"], [0.4444444444444444, \"#bd3786\"], [0.5555555555555556, \"#d8576b\"], [0.6666666666666666, \"#ed7953\"], [0.7777777777777778, \"#fb9f3a\"], [0.8888888888888888, \"#fdca26\"], [1.0, \"#f0f921\"]], \"type\": \"heatmapgl\"}], \"histogram\": [{\"marker\": {\"colorbar\": {\"outlinewidth\": 0, \"ticks\": \"\"}}, \"type\": \"histogram\"}], \"histogram2d\": [{\"colorbar\": {\"outlinewidth\": 0, \"ticks\": \"\"}, \"colorscale\": [[0.0, \"#0d0887\"], [0.1111111111111111, \"#46039f\"], [0.2222222222222222, \"#7201a8\"], [0.3333333333333333, \"#9c179e\"], [0.4444444444444444, \"#bd3786\"], [0.5555555555555556, \"#d8576b\"], [0.6666666666666666, \"#ed7953\"], [0.7777777777777778, \"#fb9f3a\"], [0.8888888888888888, \"#fdca26\"], [1.0, \"#f0f921\"]], \"type\": \"histogram2d\"}], \"histogram2dcontour\": [{\"colorbar\": {\"outlinewidth\": 0, \"ticks\": \"\"}, \"colorscale\": [[0.0, \"#0d0887\"], [0.1111111111111111, \"#46039f\"], [0.2222222222222222, \"#7201a8\"], [0.3333333333333333, \"#9c179e\"], [0.4444444444444444, \"#bd3786\"], [0.5555555555555556, \"#d8576b\"], [0.6666666666666666, \"#ed7953\"], [0.7777777777777778, \"#fb9f3a\"], [0.8888888888888888, \"#fdca26\"], [1.0, \"#f0f921\"]], \"type\": \"histogram2dcontour\"}], \"mesh3d\": [{\"colorbar\": {\"outlinewidth\": 0, \"ticks\": \"\"}, \"type\": \"mesh3d\"}], \"parcoords\": [{\"line\": {\"colorbar\": {\"outlinewidth\": 0, \"ticks\": \"\"}}, \"type\": \"parcoords\"}], \"pie\": [{\"automargin\": true, \"type\": \"pie\"}], \"scatter\": [{\"marker\": {\"colorbar\": {\"outlinewidth\": 0, \"ticks\": \"\"}}, \"type\": \"scatter\"}], \"scatter3d\": [{\"line\": {\"colorbar\": {\"outlinewidth\": 0, \"ticks\": \"\"}}, \"marker\": {\"colorbar\": {\"outlinewidth\": 0, \"ticks\": \"\"}}, \"type\": \"scatter3d\"}], \"scattercarpet\": [{\"marker\": {\"colorbar\": {\"outlinewidth\": 0, \"ticks\": \"\"}}, \"type\": \"scattercarpet\"}], \"scattergeo\": [{\"marker\": {\"colorbar\": {\"outlinewidth\": 0, \"ticks\": \"\"}}, \"type\": \"scattergeo\"}], \"scattergl\": [{\"marker\": {\"colorbar\": {\"outlinewidth\": 0, \"ticks\": \"\"}}, \"type\": \"scattergl\"}], \"scattermapbox\": [{\"marker\": {\"colorbar\": {\"outlinewidth\": 0, \"ticks\": \"\"}}, \"type\": \"scattermapbox\"}], \"scatterpolar\": [{\"marker\": {\"colorbar\": {\"outlinewidth\": 0, \"ticks\": \"\"}}, \"type\": \"scatterpolar\"}], \"scatterpolargl\": [{\"marker\": {\"colorbar\": {\"outlinewidth\": 0, \"ticks\": \"\"}}, \"type\": \"scatterpolargl\"}], \"scatterternary\": [{\"marker\": {\"colorbar\": {\"outlinewidth\": 0, \"ticks\": \"\"}}, \"type\": \"scatterternary\"}], \"surface\": [{\"colorbar\": {\"outlinewidth\": 0, \"ticks\": \"\"}, \"colorscale\": [[0.0, \"#0d0887\"], [0.1111111111111111, \"#46039f\"], [0.2222222222222222, \"#7201a8\"], [0.3333333333333333, \"#9c179e\"], [0.4444444444444444, \"#bd3786\"], [0.5555555555555556, \"#d8576b\"], [0.6666666666666666, \"#ed7953\"], [0.7777777777777778, \"#fb9f3a\"], [0.8888888888888888, \"#fdca26\"], [1.0, \"#f0f921\"]], \"type\": \"surface\"}], \"table\": [{\"cells\": {\"fill\": {\"color\": \"#EBF0F8\"}, \"line\": {\"color\": \"white\"}}, \"header\": {\"fill\": {\"color\": \"#C8D4E3\"}, \"line\": {\"color\": \"white\"}}, \"type\": \"table\"}]}, \"layout\": {\"annotationdefaults\": {\"arrowcolor\": \"#2a3f5f\", \"arrowhead\": 0, \"arrowwidth\": 1}, \"coloraxis\": {\"colorbar\": {\"outlinewidth\": 0, \"ticks\": \"\"}}, \"colorscale\": {\"diverging\": [[0, \"#8e0152\"], [0.1, \"#c51b7d\"], [0.2, \"#de77ae\"], [0.3, \"#f1b6da\"], [0.4, \"#fde0ef\"], [0.5, \"#f7f7f7\"], [0.6, \"#e6f5d0\"], [0.7, \"#b8e186\"], [0.8, \"#7fbc41\"], [0.9, \"#4d9221\"], [1, \"#276419\"]], \"sequential\": [[0.0, \"#0d0887\"], [0.1111111111111111, \"#46039f\"], [0.2222222222222222, \"#7201a8\"], [0.3333333333333333, \"#9c179e\"], [0.4444444444444444, \"#bd3786\"], [0.5555555555555556, \"#d8576b\"], [0.6666666666666666, \"#ed7953\"], [0.7777777777777778, \"#fb9f3a\"], [0.8888888888888888, \"#fdca26\"], [1.0, \"#f0f921\"]], \"sequentialminus\": [[0.0, \"#0d0887\"], [0.1111111111111111, \"#46039f\"], [0.2222222222222222, \"#7201a8\"], [0.3333333333333333, \"#9c179e\"], [0.4444444444444444, \"#bd3786\"], [0.5555555555555556, \"#d8576b\"], [0.6666666666666666, \"#ed7953\"], [0.7777777777777778, \"#fb9f3a\"], [0.8888888888888888, \"#fdca26\"], [1.0, \"#f0f921\"]]}, \"colorway\": [\"#636efa\", \"#EF553B\", \"#00cc96\", \"#ab63fa\", \"#FFA15A\", \"#19d3f3\", \"#FF6692\", \"#B6E880\", \"#FF97FF\", \"#FECB52\"], \"font\": {\"color\": \"#2a3f5f\"}, \"geo\": {\"bgcolor\": \"white\", \"lakecolor\": \"white\", \"landcolor\": \"#E5ECF6\", \"showlakes\": true, \"showland\": true, \"subunitcolor\": \"white\"}, \"hoverlabel\": {\"align\": \"left\"}, \"hovermode\": \"closest\", \"mapbox\": {\"style\": \"light\"}, \"paper_bgcolor\": \"white\", \"plot_bgcolor\": \"#E5ECF6\", \"polar\": {\"angularaxis\": {\"gridcolor\": \"white\", \"linecolor\": \"white\", \"ticks\": \"\"}, \"bgcolor\": \"#E5ECF6\", \"radialaxis\": {\"gridcolor\": \"white\", \"linecolor\": \"white\", \"ticks\": \"\"}}, \"scene\": {\"xaxis\": {\"backgroundcolor\": \"#E5ECF6\", \"gridcolor\": \"white\", \"gridwidth\": 2, \"linecolor\": \"white\", \"showbackground\": true, \"ticks\": \"\", \"zerolinecolor\": \"white\"}, \"yaxis\": {\"backgroundcolor\": \"#E5ECF6\", \"gridcolor\": \"white\", \"gridwidth\": 2, \"linecolor\": \"white\", \"showbackground\": true, \"ticks\": \"\", \"zerolinecolor\": \"white\"}, \"zaxis\": {\"backgroundcolor\": \"#E5ECF6\", \"gridcolor\": \"white\", \"gridwidth\": 2, \"linecolor\": \"white\", \"showbackground\": true, \"ticks\": \"\", \"zerolinecolor\": \"white\"}}, \"shapedefaults\": {\"line\": {\"color\": \"#2a3f5f\"}}, \"ternary\": {\"aaxis\": {\"gridcolor\": \"white\", \"linecolor\": \"white\", \"ticks\": \"\"}, \"baxis\": {\"gridcolor\": \"white\", \"linecolor\": \"white\", \"ticks\": \"\"}, \"bgcolor\": \"#E5ECF6\", \"caxis\": {\"gridcolor\": \"white\", \"linecolor\": \"white\", \"ticks\": \"\"}}, \"title\": {\"x\": 0.05}, \"xaxis\": {\"automargin\": true, \"gridcolor\": \"white\", \"linecolor\": \"white\", \"ticks\": \"\", \"title\": {\"standoff\": 15}, \"zerolinecolor\": \"white\", \"zerolinewidth\": 2}, \"yaxis\": {\"automargin\": true, \"gridcolor\": \"white\", \"linecolor\": \"white\", \"ticks\": \"\", \"title\": {\"standoff\": 15}, \"zerolinecolor\": \"white\", \"zerolinewidth\": 2}}}, \"title\": {\"text\": \"Train vs. Test Generator Loss\"}, \"width\": 1000, \"xaxis\": {\"title\": {\"text\": \"Number of training examples seen\"}}, \"yaxis\": {\"title\": {\"text\": \"Adversarial + Content Loss\"}}},\n",
              "                        {\"responsive\": true}\n",
              "                    ).then(function(){\n",
              "                            \n",
              "var gd = document.getElementById('a3cddf45-a7aa-42cd-a1fc-760b64b73afd');\n",
              "var x = new MutationObserver(function (mutations, observer) {{\n",
              "        var display = window.getComputedStyle(gd).display;\n",
              "        if (!display || display === 'none') {{\n",
              "            console.log([gd, 'removed!']);\n",
              "            Plotly.purge(gd);\n",
              "            observer.disconnect();\n",
              "        }}\n",
              "}});\n",
              "\n",
              "// Listen for the removal of the full notebook cells\n",
              "var notebookContainer = gd.closest('#notebook-container');\n",
              "if (notebookContainer) {{\n",
              "    x.observe(notebookContainer, {childList: true});\n",
              "}}\n",
              "\n",
              "// Listen for the clearing of the current output cell\n",
              "var outputEl = gd.closest('.output');\n",
              "if (outputEl) {{\n",
              "    x.observe(outputEl, {childList: true});\n",
              "}}\n",
              "\n",
              "                        })\n",
              "                };\n",
              "                \n",
              "            </script>\n",
              "        </div>\n",
              "</body>\n",
              "</html>"
            ]
          },
          "metadata": {
            "tags": []
          }
        }
      ]
    },
    {
      "cell_type": "code",
      "metadata": {
        "colab": {
          "base_uri": "https://localhost:8080/",
          "height": 537
        },
        "id": "DrGX5N9DSNmY",
        "outputId": "3b477d6f-7e91-4ee1-b737-b8087cf812ca"
      },
      "source": [
        "fig = go.Figure()\n",
        "fig.add_trace(go.Scatter(x=train_counter, y=train_disc_losses, mode='lines', name='Train Discriminator Loss'))\n",
        "#fig.add_trace(go.Scatter(x=test_counter, y=test_disc_losses, marker_symbol='star-diamond', \n",
        " #                        marker_color='orange', marker_line_width=1, marker_size=9, mode='markers', name='Test Discriminator Loss'))\n",
        "fig.update_layout(\n",
        "    width=1000,\n",
        "    height=500,\n",
        "    title=\"Train vs. Test Discriminator Loss\",\n",
        "    xaxis_title=\"Number of training examples seen\",\n",
        "    yaxis_title=\"Adversarial Loss\"),\n",
        "fig.show()"
      ],
      "execution_count": null,
      "outputs": [
        {
          "output_type": "display_data",
          "data": {
            "text/html": [
              "<html>\n",
              "<head><meta charset=\"utf-8\" /></head>\n",
              "<body>\n",
              "    <div>\n",
              "            <script src=\"https://cdnjs.cloudflare.com/ajax/libs/mathjax/2.7.5/MathJax.js?config=TeX-AMS-MML_SVG\"></script><script type=\"text/javascript\">if (window.MathJax) {MathJax.Hub.Config({SVG: {font: \"STIX-Web\"}});}</script>\n",
              "                <script type=\"text/javascript\">window.PlotlyConfig = {MathJaxConfig: 'local'};</script>\n",
              "        <script src=\"https://cdn.plot.ly/plotly-latest.min.js\"></script>    \n",
              "            <div id=\"c8e33be9-4911-4860-9d43-d29ef5cc1439\" class=\"plotly-graph-div\" style=\"height:500px; width:1000px;\"></div>\n",
              "            <script type=\"text/javascript\">\n",
              "                \n",
              "                    window.PLOTLYENV=window.PLOTLYENV || {};\n",
              "                    \n",
              "                if (document.getElementById(\"c8e33be9-4911-4860-9d43-d29ef5cc1439\")) {\n",
              "                    Plotly.newPlot(\n",
              "                        'c8e33be9-4911-4860-9d43-d29ef5cc1439',\n",
              "                        [{\"mode\": \"lines\", \"name\": \"Train Discriminator Loss\", \"type\": \"scatter\", \"x\": [128, 256, 384, 512, 640, 768, 896, 1024, 1152, 1280, 1408, 1536, 1664, 1792, 1920, 2048, 2176, 2304, 2432, 2560, 2688, 2816, 2944, 3072, 3200, 3328, 3456, 3584, 3712, 3840, 3968, 4096, 4224, 4352, 4480, 4608, 4736, 4864, 4992, 5120, 5248, 5376, 5504, 5632, 5760, 5888, 6016, 6144, 6272, 6400, 6528, 6656, 6784, 6912, 7040, 7168, 7296, 7424, 7552, 7680, 7808, 7936, 8064, 8192, 8320, 8448, 8576, 8704, 8832, 8960, 9088, 9216, 9344, 9472, 9600, 9728, 9856, 9984, 10112, 10240, 10368, 10496, 10624, 10752, 10880, 11008, 11136, 11264, 11392, 11520, 11648, 11776, 11904, 12032, 12160, 12288, 12416, 12544, 12672, 12800, 12928, 13056, 13184, 13312, 13440, 13568, 13696, 13824, 13952, 14080, 14208, 14336, 14464, 14592, 14720, 14848, 14976, 15104, 15232, 15360, 15488, 15616, 15744, 15872, 16000, 16128, 16256, 16384, 16512, 16640, 16768, 16896, 17024, 17152, 17280, 17408, 17536, 17664, 17792, 17920, 18048, 18176, 18304, 18432, 18560, 18688, 18816, 18944, 19072, 19200, 19328, 19456, 19584, 19712, 19840, 19968, 20096, 20224, 20352, 20480, 20608, 20736, 20864, 20992, 21120, 21248, 21376, 21504, 21632, 21760, 21888, 22016, 22144, 22272, 22400, 22528, 22656, 22784, 22912, 23040, 23168, 23296, 23424, 23552, 23680, 23808, 23936, 24064, 24192, 24320, 24448, 24576, 24704, 24832, 24960, 25088, 25216, 25344, 25472, 25600, 25728, 25856, 25984, 26112, 26240, 26368, 26496, 26624, 26752, 26880, 27008, 27136, 27264, 27392, 27520, 27648, 27776, 27904, 28032, 28160, 28288, 28416, 28544, 28672, 28800, 28928, 29056, 29184, 29312, 29440, 29568, 29696, 29824, 29952, 30080, 30208, 30336, 30464, 30592, 30720, 30848, 30976, 31104, 31232, 31360, 31488, 31616, 31744, 31872, 32000, 32128, 32256, 32384, 32512, 32640, 32768, 32896, 33024, 33152, 33280, 33408, 33536, 33664, 33792, 33920, 34048, 34176, 34304, 34432, 34560, 34688, 34816, 34944, 35072, 35200, 35328, 35456, 35584, 35712, 35840, 35968, 36096, 36224, 36352, 36480, 36608, 36736, 36864, 36992, 37120, 37248, 37376, 37504, 37632, 37760, 37888, 38016, 38144, 38272, 38400, 38528, 38656, 38784, 38912, 39040, 39168, 39296, 39424, 39552, 39680, 39808, 39936, 40064, 40192, 40320, 40448, 40576, 40704, 40832, 40960, 41088, 41216, 41344, 41472, 41600, 41728, 41856, 41984, 42112, 42240, 42368, 42496, 42624, 42752, 42880, 43008, 43136, 43264, 43392, 43520, 43648, 43776, 43904, 44032, 44160, 44288, 44416, 44544, 44672, 44800, 44928, 45056, 45184, 45312, 45440, 45568, 45696, 45824, 45952, 46080, 46208, 46336, 46464, 46592, 46720, 46848, 46976, 47104, 47232, 47360, 47488, 47616, 47744, 47872, 48000, 48128, 48256, 48384, 48512, 48640, 48768, 48896, 49024, 49152, 49280, 49408, 49536, 49664, 49792, 49920, 50048, 50176, 50304, 50432, 50560, 50688, 50816, 50944, 51072, 51200, 51328, 51456, 51584, 51712, 51840, 51968, 52096, 52224, 52352, 52480, 52608, 52736, 52864, 52992, 53120, 53248, 53376, 53504, 53632, 53760, 53888, 54016, 54144, 54272, 54400, 54528, 54656, 54784, 54912, 55040, 55168, 55296, 55424, 55552, 55680, 55808, 55936, 56064, 56192, 56320, 56448, 56576, 56704, 56832, 56960, 57088, 57216, 57344, 57472, 57600, 57728, 57856, 57984, 58112, 58240, 58368, 58496, 58624, 58752, 58880, 59008, 59136, 59264, 59392, 59520, 59648, 59776, 59904, 45024, 60128, 60256, 60384, 60512, 60640, 60768, 60896, 61024, 61152, 61280, 61408, 61536, 61664, 61792, 61920, 62048, 62176, 62304, 62432, 62560, 62688, 62816, 62944, 63072, 63200, 63328, 63456, 63584, 63712, 63840, 63968, 64096, 64224, 64352, 64480, 64608, 64736, 64864, 64992, 65120, 65248, 65376, 65504, 65632, 65760, 65888, 66016, 66144, 66272, 66400, 66528, 66656, 66784, 66912, 67040, 67168, 67296, 67424, 67552, 67680, 67808, 67936, 68064, 68192, 68320, 68448, 68576, 68704, 68832, 68960, 69088, 69216, 69344, 69472, 69600, 69728, 69856, 69984, 70112, 70240, 70368, 70496, 70624, 70752, 70880, 71008, 71136, 71264, 71392, 71520, 71648, 71776, 71904, 72032, 72160, 72288, 72416, 72544, 72672, 72800, 72928, 73056, 73184, 73312, 73440, 73568, 73696, 73824, 73952, 74080, 74208, 74336, 74464, 74592, 74720, 74848, 74976, 75104, 75232, 75360, 75488, 75616, 75744, 75872, 76000, 76128, 76256, 76384, 76512, 76640, 76768, 76896, 77024, 77152, 77280, 77408, 77536, 77664, 77792, 77920, 78048, 78176, 78304, 78432, 78560, 78688, 78816, 78944, 79072, 79200, 79328, 79456, 79584, 79712, 79840, 79968, 80096, 80224, 80352, 80480, 80608, 80736, 80864, 80992, 81120, 81248, 81376, 81504, 81632, 81760, 81888, 82016, 82144, 82272, 82400, 82528, 82656, 82784, 82912, 83040, 83168, 83296, 83424, 83552, 83680, 83808, 83936, 84064, 84192, 84320, 84448, 84576, 84704, 84832, 84960, 85088, 85216, 85344, 85472, 85600, 85728, 85856, 85984, 86112, 86240, 86368, 86496, 86624, 86752, 86880, 87008, 87136, 87264, 87392, 87520, 87648, 87776, 87904, 88032, 88160, 88288, 88416, 88544, 88672, 88800, 88928, 89056, 89184, 89312, 89440, 89568, 89696, 89824, 89952, 90080, 90208, 90336, 90464, 90592, 90720, 90848, 90976, 91104, 91232, 91360, 91488, 91616, 91744, 91872, 92000, 92128, 92256, 92384, 92512, 92640, 92768, 92896, 93024, 93152, 93280, 93408, 93536, 93664, 93792, 93920, 94048, 94176, 94304, 94432, 94560, 94688, 94816, 94944, 95072, 95200, 95328, 95456, 95584, 95712, 95840, 95968, 96096, 96224, 96352, 96480, 96608, 96736, 96864, 96992, 97120, 97248, 97376, 97504, 97632, 97760, 97888, 98016, 98144, 98272, 98400, 98528, 98656, 98784, 98912, 99040, 99168, 99296, 99424, 99552, 99680, 99808, 99936, 100064, 100192, 100320, 100448, 100576, 100704, 100832, 100960, 101088, 101216, 101344, 101472, 101600, 101728, 101856, 101984, 102112, 102240, 102368, 102496, 102624, 102752, 102880, 103008, 103136, 103264, 103392, 103520, 103648, 103776, 103904, 104032, 104160, 104288, 104416, 104544, 104672, 104800, 104928, 105056, 105184, 105312, 105440, 105568, 105696, 105824, 105952, 106080, 106208, 106336, 106464, 106592, 106720, 106848, 106976, 107104, 107232, 107360, 107488, 107616, 107744, 107872, 108000, 108128, 108256, 108384, 108512, 108640, 108768, 108896, 109024, 109152, 109280, 109408, 109536, 109664, 109792, 109920, 110048, 110176, 110304, 110432, 110560, 110688, 110816, 110944, 111072, 111200, 111328, 111456, 111584, 111712, 111840, 111968, 112096, 112224, 112352, 112480, 112608, 112736, 112864, 112992, 113120, 113248, 113376, 113504, 113632, 113760, 113888, 114016, 114144, 114272, 114400, 114528, 114656, 114784, 114912, 115040, 115168, 115296, 115424, 115552, 115680, 115808, 115936, 116064, 116192, 116320, 116448, 116576, 116704, 116832, 116960, 117088, 117216, 117344, 117472, 117600, 117728, 117856, 117984, 118112, 118240, 118368, 118496, 118624, 118752, 118880, 119008, 119136, 119264, 119392, 119520, 119648, 119776, 119904, 105024, 120128, 120256, 120384, 120512, 120640, 120768, 120896, 121024, 121152, 121280, 121408, 121536, 121664, 121792, 121920, 122048, 122176, 122304, 122432, 122560, 122688, 122816, 122944, 123072, 123200, 123328, 123456, 123584, 123712, 123840, 123968, 124096, 124224, 124352, 124480, 124608, 124736, 124864, 124992, 125120, 125248, 125376, 125504, 125632, 125760, 125888, 126016, 126144, 126272, 126400, 126528, 126656, 126784, 126912, 127040, 127168, 127296, 127424, 127552, 127680, 127808, 127936, 128064, 128192, 128320, 128448, 128576, 128704, 128832, 128960, 129088, 129216, 129344, 129472, 129600, 129728, 129856, 129984, 130112, 130240, 130368, 130496, 130624, 130752, 130880, 131008, 131136, 131264, 131392, 131520, 131648, 131776, 131904, 132032, 132160, 132288, 132416, 132544, 132672, 132800, 132928, 133056, 133184, 133312, 133440, 133568, 133696, 133824, 133952, 134080, 134208, 134336, 134464, 134592, 134720, 134848, 134976, 135104, 135232, 135360, 135488, 135616, 135744, 135872, 136000, 136128, 136256, 136384, 136512, 136640, 136768, 136896, 137024, 137152, 137280, 137408, 137536, 137664, 137792, 137920, 138048, 138176, 138304, 138432, 138560, 138688, 138816, 138944, 139072, 139200, 139328, 139456, 139584, 139712, 139840, 139968, 140096, 140224, 140352, 140480, 140608, 140736, 140864, 140992, 141120, 141248, 141376, 141504, 141632, 141760, 141888, 142016, 142144, 142272, 142400, 142528, 142656, 142784, 142912, 143040, 143168, 143296, 143424, 143552, 143680, 143808, 143936, 144064, 144192, 144320, 144448, 144576, 144704, 144832, 144960, 145088, 145216, 145344, 145472, 145600, 145728, 145856, 145984, 146112, 146240, 146368, 146496, 146624, 146752, 146880, 147008, 147136, 147264, 147392, 147520, 147648, 147776, 147904, 148032, 148160, 148288, 148416, 148544, 148672, 148800, 148928, 149056, 149184, 149312, 149440, 149568, 149696, 149824, 149952, 150080, 150208, 150336, 150464, 150592, 150720, 150848, 150976, 151104, 151232, 151360, 151488, 151616, 151744, 151872, 152000, 152128, 152256, 152384, 152512, 152640, 152768, 152896, 153024, 153152, 153280, 153408, 153536, 153664, 153792, 153920, 154048, 154176, 154304, 154432, 154560, 154688, 154816, 154944, 155072, 155200, 155328, 155456, 155584, 155712, 155840, 155968, 156096, 156224, 156352, 156480, 156608, 156736, 156864, 156992, 157120, 157248, 157376, 157504, 157632, 157760, 157888, 158016, 158144, 158272, 158400, 158528, 158656, 158784, 158912, 159040, 159168, 159296, 159424, 159552, 159680, 159808, 159936, 160064, 160192, 160320, 160448, 160576, 160704, 160832, 160960, 161088, 161216, 161344, 161472, 161600, 161728, 161856, 161984, 162112, 162240, 162368, 162496, 162624, 162752, 162880, 163008, 163136, 163264, 163392, 163520, 163648, 163776, 163904, 164032, 164160, 164288, 164416, 164544, 164672, 164800, 164928, 165056, 165184, 165312, 165440, 165568, 165696, 165824, 165952, 166080, 166208, 166336, 166464, 166592, 166720, 166848, 166976, 167104, 167232, 167360, 167488, 167616, 167744, 167872, 168000, 168128, 168256, 168384, 168512, 168640, 168768, 168896, 169024, 169152, 169280, 169408, 169536, 169664, 169792, 169920, 170048, 170176, 170304, 170432, 170560, 170688, 170816, 170944, 171072, 171200, 171328, 171456, 171584, 171712, 171840, 171968, 172096, 172224, 172352, 172480, 172608, 172736, 172864, 172992, 173120, 173248, 173376, 173504, 173632, 173760, 173888, 174016, 174144, 174272, 174400, 174528, 174656, 174784, 174912, 175040, 175168, 175296, 175424, 175552, 175680, 175808, 175936, 176064, 176192, 176320, 176448, 176576, 176704, 176832, 176960, 177088, 177216, 177344, 177472, 177600, 177728, 177856, 177984, 178112, 178240, 178368, 178496, 178624, 178752, 178880, 179008, 179136, 179264, 179392, 179520, 179648, 179776, 179904, 165024, 180128, 180256, 180384, 180512, 180640, 180768, 180896, 181024, 181152, 181280, 181408, 181536, 181664, 181792, 181920, 182048, 182176, 182304, 182432, 182560, 182688, 182816, 182944, 183072, 183200, 183328, 183456, 183584, 183712, 183840, 183968, 184096, 184224, 184352, 184480, 184608, 184736, 184864, 184992, 185120, 185248, 185376, 185504, 185632, 185760, 185888, 186016, 186144, 186272, 186400, 186528, 186656, 186784, 186912, 187040, 187168, 187296, 187424, 187552, 187680, 187808, 187936, 188064, 188192, 188320, 188448, 188576, 188704, 188832, 188960, 189088, 189216, 189344, 189472, 189600, 189728, 189856, 189984, 190112, 190240, 190368, 190496, 190624, 190752, 190880, 191008, 191136, 191264, 191392, 191520, 191648, 191776, 191904, 192032, 192160, 192288, 192416, 192544, 192672, 192800, 192928, 193056, 193184, 193312, 193440, 193568, 193696, 193824, 193952, 194080, 194208, 194336, 194464, 194592, 194720, 194848, 194976, 195104, 195232, 195360, 195488, 195616, 195744, 195872, 196000, 196128, 196256, 196384, 196512, 196640, 196768, 196896, 197024, 197152, 197280, 197408, 197536, 197664, 197792, 197920, 198048, 198176, 198304, 198432, 198560, 198688, 198816, 198944, 199072, 199200, 199328, 199456, 199584, 199712, 199840, 199968, 200096, 200224, 200352, 200480, 200608, 200736, 200864, 200992, 201120, 201248, 201376, 201504, 201632, 201760, 201888, 202016, 202144, 202272, 202400, 202528, 202656, 202784, 202912, 203040, 203168, 203296, 203424, 203552, 203680, 203808, 203936, 204064, 204192, 204320, 204448, 204576, 204704, 204832, 204960, 205088, 205216, 205344, 205472, 205600, 205728, 205856, 205984, 206112, 206240, 206368, 206496, 206624, 206752, 206880, 207008, 207136, 207264, 207392, 207520, 207648, 207776, 207904, 208032, 208160, 208288, 208416, 208544, 208672, 208800, 208928, 209056, 209184, 209312, 209440, 209568, 209696, 209824, 209952, 210080, 210208, 210336, 210464, 210592, 210720, 210848, 210976, 211104, 211232, 211360, 211488, 211616, 211744, 211872, 212000, 212128, 212256, 212384, 212512, 212640, 212768, 212896, 213024, 213152, 213280, 213408, 213536, 213664, 213792, 213920, 214048, 214176, 214304, 214432, 214560, 214688, 214816, 214944, 215072, 215200, 215328, 215456, 215584, 215712, 215840, 215968, 216096, 216224, 216352, 216480, 216608, 216736, 216864, 216992, 217120, 217248, 217376, 217504, 217632, 217760, 217888, 218016, 218144, 218272, 218400, 218528, 218656, 218784, 218912, 219040, 219168, 219296, 219424, 219552, 219680, 219808, 219936, 220064, 220192, 220320, 220448, 220576, 220704, 220832, 220960, 221088, 221216, 221344, 221472, 221600, 221728, 221856, 221984, 222112, 222240, 222368, 222496, 222624, 222752, 222880, 223008, 223136, 223264, 223392, 223520, 223648, 223776, 223904, 224032, 224160, 224288, 224416, 224544, 224672, 224800, 224928, 225056, 225184, 225312, 225440, 225568, 225696, 225824, 225952, 226080, 226208, 226336, 226464, 226592, 226720, 226848, 226976, 227104, 227232, 227360, 227488, 227616, 227744, 227872, 228000, 228128, 228256, 228384, 228512, 228640, 228768, 228896, 229024, 229152, 229280, 229408, 229536, 229664, 229792, 229920, 230048, 230176, 230304, 230432, 230560, 230688, 230816, 230944, 231072, 231200, 231328, 231456, 231584, 231712, 231840, 231968, 232096, 232224, 232352, 232480, 232608, 232736, 232864, 232992, 233120, 233248, 233376, 233504, 233632, 233760, 233888, 234016, 234144, 234272, 234400, 234528, 234656, 234784, 234912, 235040, 235168, 235296, 235424, 235552, 235680, 235808, 235936, 236064, 236192, 236320, 236448, 236576, 236704, 236832, 236960, 237088, 237216, 237344, 237472, 237600, 237728, 237856, 237984, 238112, 238240, 238368, 238496, 238624, 238752, 238880, 239008, 239136, 239264, 239392, 239520, 239648, 239776, 239904, 225024, 240128, 240256, 240384, 240512, 240640, 240768, 240896, 241024, 241152, 241280, 241408, 241536, 241664, 241792, 241920, 242048, 242176, 242304, 242432, 242560, 242688, 242816, 242944, 243072, 243200, 243328, 243456, 243584, 243712, 243840, 243968, 244096, 244224, 244352, 244480, 244608, 244736, 244864, 244992, 245120, 245248, 245376, 245504, 245632, 245760, 245888, 246016, 246144, 246272, 246400, 246528, 246656, 246784, 246912, 247040, 247168, 247296, 247424, 247552, 247680, 247808, 247936, 248064, 248192, 248320, 248448, 248576, 248704, 248832, 248960, 249088, 249216, 249344, 249472, 249600, 249728, 249856, 249984, 250112, 250240, 250368, 250496, 250624, 250752, 250880, 251008, 251136, 251264, 251392, 251520, 251648, 251776, 251904, 252032, 252160, 252288, 252416, 252544, 252672, 252800, 252928, 253056, 253184, 253312, 253440, 253568, 253696, 253824, 253952, 254080, 254208, 254336, 254464, 254592, 254720, 254848, 254976, 255104, 255232, 255360, 255488, 255616, 255744, 255872, 256000, 256128, 256256, 256384, 256512, 256640, 256768, 256896, 257024, 257152, 257280, 257408, 257536, 257664, 257792, 257920, 258048, 258176, 258304, 258432, 258560, 258688, 258816, 258944, 259072, 259200, 259328, 259456, 259584, 259712, 259840, 259968, 260096, 260224, 260352, 260480, 260608, 260736, 260864, 260992, 261120, 261248, 261376, 261504, 261632, 261760, 261888, 262016, 262144, 262272, 262400, 262528, 262656, 262784, 262912, 263040, 263168, 263296, 263424, 263552, 263680, 263808, 263936, 264064, 264192, 264320, 264448, 264576, 264704, 264832, 264960, 265088, 265216, 265344, 265472, 265600, 265728, 265856, 265984, 266112, 266240, 266368, 266496, 266624, 266752, 266880, 267008, 267136, 267264, 267392, 267520, 267648, 267776, 267904, 268032, 268160, 268288, 268416, 268544, 268672, 268800, 268928, 269056, 269184, 269312, 269440, 269568, 269696, 269824, 269952, 270080, 270208, 270336, 270464, 270592, 270720, 270848, 270976, 271104, 271232, 271360, 271488, 271616, 271744, 271872, 272000, 272128, 272256, 272384, 272512, 272640, 272768, 272896, 273024, 273152, 273280, 273408, 273536, 273664, 273792, 273920, 274048, 274176, 274304, 274432, 274560, 274688, 274816, 274944, 275072, 275200, 275328, 275456, 275584, 275712, 275840, 275968, 276096, 276224, 276352, 276480, 276608, 276736, 276864, 276992, 277120, 277248, 277376, 277504, 277632, 277760, 277888, 278016, 278144, 278272, 278400, 278528, 278656, 278784, 278912, 279040, 279168, 279296, 279424, 279552, 279680, 279808, 279936, 280064, 280192, 280320, 280448, 280576, 280704, 280832, 280960, 281088, 281216, 281344, 281472, 281600, 281728, 281856, 281984, 282112, 282240, 282368, 282496, 282624, 282752, 282880, 283008, 283136, 283264, 283392, 283520, 283648, 283776, 283904, 284032, 284160, 284288, 284416, 284544, 284672, 284800, 284928, 285056, 285184, 285312, 285440, 285568, 285696, 285824, 285952, 286080, 286208, 286336, 286464, 286592, 286720, 286848, 286976, 287104, 287232, 287360, 287488, 287616, 287744, 287872, 288000, 288128, 288256, 288384, 288512, 288640, 288768, 288896, 289024, 289152, 289280, 289408, 289536, 289664, 289792, 289920, 290048, 290176, 290304, 290432, 290560, 290688, 290816, 290944, 291072, 291200, 291328, 291456, 291584, 291712, 291840, 291968, 292096, 292224, 292352, 292480, 292608, 292736, 292864, 292992, 293120, 293248, 293376, 293504, 293632, 293760, 293888, 294016, 294144, 294272, 294400, 294528, 294656, 294784, 294912, 295040, 295168, 295296, 295424, 295552, 295680, 295808, 295936, 296064, 296192, 296320, 296448, 296576, 296704, 296832, 296960, 297088, 297216, 297344, 297472, 297600, 297728, 297856, 297984, 298112, 298240, 298368, 298496, 298624, 298752, 298880, 299008, 299136, 299264, 299392, 299520, 299648, 299776, 299904, 285024, 300128, 300256, 300384, 300512, 300640, 300768, 300896, 301024, 301152, 301280, 301408, 301536, 301664, 301792, 301920, 302048, 302176, 302304, 302432, 302560, 302688, 302816, 302944, 303072, 303200, 303328, 303456, 303584, 303712, 303840, 303968, 304096, 304224, 304352, 304480, 304608, 304736, 304864, 304992, 305120, 305248, 305376, 305504, 305632, 305760, 305888, 306016, 306144, 306272, 306400, 306528, 306656, 306784, 306912, 307040, 307168, 307296, 307424, 307552, 307680, 307808, 307936, 308064, 308192, 308320, 308448, 308576, 308704, 308832, 308960, 309088, 309216, 309344, 309472, 309600, 309728, 309856, 309984, 310112, 310240, 310368, 310496, 310624, 310752, 310880, 311008, 311136, 311264, 311392, 311520, 311648, 311776, 311904, 312032, 312160, 312288, 312416, 312544, 312672, 312800, 312928, 313056, 313184, 313312, 313440, 313568, 313696, 313824, 313952, 314080, 314208, 314336, 314464, 314592, 314720, 314848, 314976, 315104, 315232, 315360, 315488, 315616, 315744, 315872, 316000, 316128, 316256, 316384, 316512, 316640, 316768, 316896, 317024, 317152, 317280, 317408, 317536, 317664, 317792, 317920, 318048, 318176, 318304, 318432, 318560, 318688, 318816, 318944, 319072, 319200, 319328, 319456, 319584, 319712, 319840, 319968, 320096, 320224, 320352, 320480, 320608, 320736, 320864, 320992, 321120, 321248, 321376, 321504, 321632, 321760, 321888, 322016, 322144, 322272, 322400, 322528, 322656, 322784, 322912, 323040, 323168, 323296, 323424, 323552, 323680, 323808, 323936, 324064, 324192, 324320], \"y\": [1.1174166202545166, 7.572033405303955, 5.703272819519043, 5.035731315612793, 11.14668083190918, 4.202460765838623, 2.933873176574707, 6.570496082305908, 1.937495470046997, 1.4037587642669678, 1.4685266017913818, 1.7173302173614502, 0.9497994780540466, 5.624243259429932, 1.9943569898605347, 2.6603686809539795, 2.6520473957061768, 2.860814332962036, 2.7226712703704834, 2.739403247833252, 2.6784698963165283, 2.677180051803589, 2.6717305183410645, 2.651554584503174, 2.660079002380371, 2.640181303024292, 2.625058889389038, 2.6280031204223633, 2.6341705322265625, 2.656594753265381, 2.6256184577941895, 2.5949454307556152, 2.6391053199768066, 2.650528907775879, 2.614875078201294, 2.77763032913208, 2.8705132007598877, 3.140284538269043, 2.7846813201904297, 2.600365161895752, 2.748958110809326, 2.7201485633850098, 2.7418649196624756, 2.642259359359741, 2.6326677799224854, 2.5188000202178955, 2.521211862564087, 2.5092337131500244, 2.5002100467681885, 2.4893696308135986, 2.477539539337158, 2.5018184185028076, 2.503978967666626, 2.4680051803588867, 2.629328727722168, 2.6887893676757812, 2.8123931884765625, 2.606879711151123, 2.4834084510803223, 2.6520698070526123, 2.663422107696533, 2.7604002952575684, 2.573437452316284, 2.4595208168029785, 2.479797601699829, 2.4564833641052246, 2.431123971939087, 2.4003090858459473, 2.3770740032196045, 2.3837132453918457, 2.379246473312378, 2.3784971237182617, 2.3785271644592285, 2.3922717571258545, 2.3909525871276855, 2.4254631996154785, 2.404103994369507, 2.3887786865234375, 2.463869333267212, 2.4100849628448486, 2.3857932090759277, 2.4311327934265137, 2.3925209045410156, 2.3699676990509033, 2.35016131401062, 2.3240840435028076, 2.3248939514160156, 2.328033924102783, 2.317561626434326, 2.310915470123291, 2.3167662620544434, 2.297044277191162, 2.315615653991699, 2.2984395027160645, 2.310685157775879, 2.3010220527648926, 2.3236429691314697, 2.3055150508880615, 2.282388925552368, 2.396754264831543, 2.413386821746826, 2.456604480743408, 2.318781852722168, 2.4466452598571777, 2.3055481910705566, 2.349416971206665, 2.204543352127075, 2.176628828048706, 2.1125195026397705, 2.0115106105804443, 1.649466872215271, 0.8051878809928894, 4.884039878845215, 2.8516793251037598, 47.6683349609375, 42.12227249145508, 3.897606372833252, 3.171016216278076, 2.7060372829437256, 2.4632115364074707, 1.4481027126312256, 6.509068012237549, 8.870521545410156, 3.2259092330932617, 4.075729846954346, 4.56734561920166, 4.348735809326172, 4.2625274658203125, 3.788963794708252, 3.178050994873047, 2.708116054534912, 2.605900287628174, 2.6246016025543213, 2.460592746734619, 2.4487600326538086, 2.4197142124176025, 2.4222207069396973, 2.408113479614258, 2.342474937438965, 2.3438057899475098, 2.3163716793060303, 2.301759958267212, 2.2872314453125, 2.2614381313323975, 2.2780795097351074, 2.249601125717163, 2.247373104095459, 2.2329845428466797, 2.228687047958374, 2.2234010696411133, 2.185514211654663, 2.156073570251465, 2.1342179775238037, 2.0648038387298584, 1.9558806419372559, 1.7899417877197266, 1.397956371307373, 0.561475396156311, 2.835613965988159, 8.160775184631348, 4.002105712890625, 2.0127105712890625, 13.025491714477539, 1.742023229598999, 1.1952807903289795, 1.642962098121643, 1.502044439315796, 0.9390614628791809, 2.292024612426758, 1.2833235263824463, 0.6594731211662292, 0.7363909482955933, 0.596785843372345, 0.5455564856529236, 0.4747324585914612, 0.4330337345600128, 0.42549556493759155, 0.4348483681678772, 0.40707826614379883, 0.4271100163459778, 0.5073087215423584, 0.8658224940299988, 0.5720471143722534, 0.4316592216491699, 0.4050530195236206, 0.46577727794647217, 0.6000553369522095, 0.41075724363327026, 0.438263863325119, 0.5127682685852051, 0.493211954832077, 0.4363759458065033, 0.4327846169471741, 0.4291670024394989, 0.49811646342277527, 0.6402400732040405, 0.5353649854660034, 0.44663089513778687, 0.39222097396850586, 0.3990338146686554, 0.48036110401153564, 0.7885233759880066, 1.4259915351867676, 0.4585629999637604, 1.755722999572754, 1.4393283128738403, 0.6682966351509094, 0.6860649585723877, 0.4653317928314209, 0.4603111147880554, 0.4967944025993347, 0.5388914942741394, 0.4421289563179016, 0.44818228483200073, 0.39983069896698, 0.3791007399559021, 0.44153472781181335, 0.43429088592529297, 0.46770593523979187, 0.4698285162448883, 0.46113115549087524, 0.42867788672447205, 0.430284321308136, 0.39792293310165405, 0.428860604763031, 0.4963337182998657, 0.6501766443252563, 0.8659528493881226, 0.9459141492843628, 0.4645611345767975, 0.43221795558929443, 0.5277220010757446, 0.6650185585021973, 1.0789934396743774, 0.6023223400115967, 0.4017343819141388, 0.38896316289901733, 0.43659329414367676, 0.5095881223678589, 0.5211766958236694, 0.5636519193649292, 0.5305965542793274, 0.45338916778564453, 0.39930325746536255, 0.4139392673969269, 0.4535787105560303, 0.4536253809928894, 0.6157995462417603, 0.8955560922622681, 0.5654675960540771, 0.39100393652915955, 0.388893723487854, 0.5023144483566284, 0.5746488571166992, 0.7949826717376709, 1.1137943267822266, 0.43850943446159363, 0.755189836025238, 0.91731858253479, 0.4561941921710968, 0.6915306448936462, 1.3937158584594727, 0.6513371467590332, 0.41405344009399414, 0.40295088291168213, 0.4017487168312073, 0.4059358835220337, 0.44020116329193115, 0.5711756944656372, 0.6616125106811523, 0.6949366331100464, 0.5397313833236694, 0.4168984293937683, 0.49449968338012695, 0.4083849787712097, 0.44227609038352966, 0.40572309494018555, 0.4302769899368286, 0.4487004280090332, 0.4514198303222656, 0.5977219343185425, 0.9179571866989136, 0.7727075219154358, 0.508391261100769, 0.49873197078704834, 0.4948233366012573, 0.5571460723876953, 0.6912275552749634, 0.6898314952850342, 0.8796658515930176, 0.8559575080871582, 0.6938344240188599, 0.47412848472595215, 0.4265124201774597, 0.4924503266811371, 0.5460520386695862, 0.5998716950416565, 0.6574715375900269, 0.5047171115875244, 0.5085665583610535, 0.4893288016319275, 0.5171905755996704, 0.4997258186340332, 0.5012876391410828, 0.4424295127391815, 0.4224904179573059, 0.4355643689632416, 0.5677022933959961, 0.9360415935516357, 1.1968786716461182, 0.9811956882476807, 0.6113160848617554, 0.4122579097747803, 0.41567641496658325, 0.41670599579811096, 0.4473381042480469, 0.43605026602745056, 0.42887043952941895, 0.4491052031517029, 0.4495331645011902, 0.4307432472705841, 0.4321841597557068, 0.4116877317428589, 0.40480631589889526, 0.374080091714859, 0.38329410552978516, 0.3998226225376129, 0.4052993953227997, 0.4064561724662781, 0.46925702691078186, 0.6084049940109253, 0.7673822045326233, 0.9606443643569946, 0.6747595071792603, 0.7882357239723206, 1.1615722179412842, 0.8057639598846436, 0.4436405599117279, 0.43921446800231934, 0.49934327602386475, 0.5787147283554077, 0.6309345364570618, 0.6054072380065918, 0.5765659809112549, 0.5134466290473938, 0.3987686336040497, 0.3946759104728699, 0.3901427686214447, 0.38665324449539185, 0.3885731101036072, 0.39175406098365784, 0.37624824047088623, 0.41007086634635925, 0.4206199645996094, 0.3841020166873932, 0.37475186586380005, 0.38924533128738403, 0.3724479377269745, 0.37728017568588257, 0.3935842216014862, 0.42919039726257324, 0.5171550512313843, 0.5911034345626831, 0.6080989241600037, 0.6077481508255005, 0.4386093020439148, 0.3662651479244232, 0.4294198453426361, 0.5174713134765625, 0.5905318856239319, 0.5078049302101135, 0.44170743227005005, 0.40854257345199585, 0.37611737847328186, 0.38209861516952515, 0.37953799962997437, 0.39156126976013184, 0.38637879490852356, 0.40428268909454346, 0.4005085229873657, 0.4006873071193695, 0.40505725145339966, 0.40849775075912476, 0.43175411224365234, 0.45997339487075806, 0.44452428817749023, 0.42398756742477417, 0.39432579278945923, 0.3707234263420105, 0.3670966327190399, 0.3678492605686188, 0.3927736282348633, 0.4163792133331299, 0.4510481357574463, 0.4549260139465332, 0.3918398916721344, 0.3914898931980133, 0.42349761724472046, 0.45486292243003845, 0.47190579771995544, 0.7657583951950073, 0.6679296493530273, 1.5277493000030518, 1.0517772436141968, 0.6072266101837158, 0.5357846021652222, 0.5533770322799683, 0.4892306327819824, 0.5235361456871033, 0.5795341730117798, 0.6179347038269043, 0.6776161789894104, 0.772870659828186, 0.5446457266807556, 0.5021786093711853, 0.43001824617385864, 0.46144214272499084, 0.4586876630783081, 0.46377798914909363, 0.5427824854850769, 0.6390277147293091, 0.6575385332107544, 0.521744966506958, 0.4166192412376404, 0.41449716687202454, 0.4030635952949524, 0.47129297256469727, 0.41955113410949707, 0.43301212787628174, 0.43164849281311035, 0.4930833876132965, 0.5750086307525635, 0.5990198850631714, 0.5086517333984375, 0.4193439483642578, 0.3820924758911133, 0.39847511053085327, 0.39019662141799927, 0.4220723509788513, 0.4627525806427002, 0.5398187041282654, 0.507678747177124, 0.3926447331905365, 0.36412420868873596, 0.40070831775665283, 0.4251505732536316, 0.4243226945400238, 0.4276108145713806, 0.4742017090320587, 0.5592175722122192, 0.6124534606933594, 0.6101893186569214, 0.4183328449726105, 0.365378737449646, 0.38931506872177124, 0.4036045968532562, 0.41725340485572815, 0.38315966725349426, 0.3912450671195984, 0.3984086513519287, 0.4095619320869446, 0.433208167552948, 0.3834623098373413, 0.35565170645713806, 0.38201767206192017, 0.3676917850971222, 0.356434166431427, 0.36059850454330444, 0.3500005602836609, 0.34925219416618347, 0.35710781812667847, 0.36211127042770386, 0.37284988164901733, 0.3865463435649872, 0.4041273593902588, 0.45682358741760254, 0.5244762897491455, 0.5938498377799988, 0.49702027440071106, 0.3877882659435272, 0.36898308992385864, 0.3643431067466736, 0.3572375476360321, 0.35876065492630005, 0.3565603494644165, 0.3668997883796692, 0.4131389260292053, 0.5511637330055237, 0.6083043813705444, 0.8266938924789429, 0.7715153098106384, 4.702127456665039, 1.1280145645141602, 0.9835148453712463, 0.5790546536445618, 0.8863314390182495, 0.7011731863021851, 0.5954287648200989, 0.5078244209289551, 0.452607125043869, 0.43147367238998413, 0.47850823402404785, 0.5071620345115662, 0.5892623066902161, 0.6840636134147644, 1.1881625652313232, 0.9419406652450562, 0.5664631128311157, 0.521812915802002, 0.5362244844436646, 0.5762009024620056, 0.4993394613265991, 0.4921793043613434, 0.4959103465080261, 0.49269166588783264, 0.5183312892913818, 0.5346782207489014, 0.5800961852073669, 0.6148243546485901, 0.5601000189781189, 0.49083930253982544, 0.44182419776916504, 0.4309905767440796, 0.44961193203926086, 0.48079466819763184, 0.48169806599617004, 0.4853285849094391, 0.4665229916572571, 0.4565848112106323, 0.4413049817085266, 0.415447473526001, 0.42369189858436584, 0.45548003911972046, 0.47732818126678467, 0.5153232216835022, 0.524254560470581, 0.568901002407074, 0.625586986541748, 0.6132173538208008, 0.5886223912239075, 0.5538579225540161, 0.6392847895622253, 0.8298171758651733, 0.924702525138855, 0.6701782941818237, 0.526983380317688, 0.46765032410621643, 0.4417380392551422, 0.44875800609588623, 0.42347288131713867, 0.42036163806915283, 0.42390021681785583, 0.3969830870628357, 0.4019125699996948, 0.4294969439506531, 0.4399593770503998, 0.47871240973472595, 0.5058574676513672, 0.4877731204032898, 0.4466250538825989, 0.4623463749885559, 0.4384458363056183, 0.530112087726593, 0.7071840763092041, 1.1416434049606323, 0.9175485372543335, 0.563860297203064, 0.5321125984191895, 0.5113356113433838, 0.5174771547317505, 0.5007020235061646, 0.4895799458026886, 0.451528400182724, 0.42243415117263794, 0.4299955368041992, 0.4171621799468994, 0.43090370297431946, 0.4337620437145233, 0.44753745198249817, 0.479167103767395, 0.491542786359787, 0.5230273008346558, 0.6721910238265991, 0.877619743347168, 2.1023566722869873, 1.0968589782714844, 0.4955146908760071, 0.5498883128166199, 0.6104053854942322, 0.6124153137207031, 0.6138928532600403, 0.5131809115409851, 0.46301865577697754, 0.44176483154296875, 0.45757466554641724, 0.46650904417037964, 0.4155692458152771, 0.4469960331916809, 0.4154723882675171, 0.41474783420562744, 0.4197224974632263, 0.4310239553451538, 0.405483603477478, 0.403362512588501, 0.4138302505016327, 0.4178471565246582, 0.4219467341899872, 0.4505455791950226, 0.4614778161048889, 0.539428174495697, 0.7188193798065186, 1.3244520425796509, 1.005460500717163, 0.5240397453308105, 0.480121374130249, 0.45387861132621765, 0.48377472162246704, 0.4806738495826721, 0.5576201677322388, 0.5378232598304749, 0.5629814863204956, 0.5070621371269226, 0.5293155312538147, 0.5068419575691223, 0.5184252858161926, 0.47714439034461975, 0.5095446109771729, 0.45631080865859985, 0.4430438280105591, 0.40793901681900024, 0.4175356924533844, 0.40972965955734253, 0.41222095489501953, 0.4212825298309326, 0.44137218594551086, 0.4582870304584503, 0.45268359780311584, 0.6659303903579712, 1.3370305299758911, 1.352951169013977, 0.6621220111846924, 0.5894829034805298, 0.7327936291694641, 0.6926167011260986, 0.6486315131187439, 0.5738425254821777, 0.5289415121078491, 0.501958966255188, 0.4868347942829132, 0.539507269859314, 0.5288152694702148, 0.5346671342849731, 0.6076620221138, 0.5845881104469299, 0.5312594771385193, 0.49215781688690186, 0.4583883285522461, 0.43543195724487305, 0.44977614283561707, 0.4375035762786865, 0.4344301223754883, 0.4382580816745758, 0.43892931938171387, 0.43388038873672485, 0.4092494249343872, 0.43034738302230835, 0.4278814494609833, 0.4295313358306885, 0.3946954011917114, 0.40224945545196533, 0.41197824478149414, 0.3927973806858063, 0.4012637734413147, 0.4146221876144409, 0.4106766879558563, 0.422283798456192, 0.4378436207771301, 0.45794886350631714, 0.524634599685669, 0.6692590713500977, 1.1798681020736694, 1.1432666778564453, 0.6423063278198242, 0.47553205490112305, 0.5110881328582764, 0.5493119955062866, 0.5435416102409363, 0.5492271184921265, 0.5923818945884705, 0.6279405951499939, 0.6122667789459229, 0.5713558197021484, 0.5090782642364502, 0.45427924394607544, 0.4086838364601135, 0.40712183713912964, 0.40010589361190796, 0.4122234880924225, 0.4180944263935089, 0.38937991857528687, 0.4050876498222351, 0.41104191541671753, 0.3955954909324646, 0.4164419174194336, 0.43940550088882446, 0.49869856238365173, 0.5817434787750244, 1.0740182399749756, 0.7324510812759399, 0.7741954326629639, 1.0743178129196167, 0.9476951360702515, 0.883582353591919, 0.7319997549057007, 0.6660276055335999, 0.646669328212738, 0.6248233318328857, 0.5900270938873291, 0.5482471585273743, 0.5693596601486206, 0.5766967535018921, 0.5791363716125488, 0.5618857145309448, 0.51312255859375, 0.5241453647613525, 0.5138263702392578, 0.5841337442398071, 0.6531921625137329, 0.7001426219940186, 0.6568199992179871, 0.6198163032531738, 0.5185825824737549, 0.5046645998954773, 0.4772363603115082, 0.48429203033447266, 0.4468994736671448, 0.45955735445022583, 0.46478375792503357, 0.44388818740844727, 0.455807626247406, 0.4415334463119507, 0.49818718433380127, 0.49240678548812866, 0.591780424118042, 0.7983342409133911, 0.9439043998718262, 0.7281194925308228, 0.5218580961227417, 0.46479249000549316, 0.47323817014694214, 0.46040260791778564, 0.43471136689186096, 0.4387161135673523, 0.471413791179657, 0.5564044117927551, 0.673897385597229, 0.7018000483512878, 0.624584972858429, 0.4817645847797394, 0.42322346568107605, 0.42367058992385864, 0.43157652020454407, 0.4775007367134094, 0.44148480892181396, 0.4051821827888489, 0.39826837182044983, 0.4418729245662689, 0.44930803775787354, 0.4653707444667816, 0.5149791240692139, 0.5393003821372986, 0.8085908889770508, 1.23026704788208, 0.8211318254470825, 0.46877893805503845, 0.5078687071800232, 0.5712342262268066, 0.6695171594619751, 0.6267147064208984, 0.44740092754364014, 0.43275490403175354, 0.6022341251373291, 0.6297831535339355, 0.5469650030136108, 0.4682468771934509, 0.4329158365726471, 0.4261432886123657, 0.42252039909362793, 0.41830283403396606, 0.4148131012916565, 0.41869258880615234, 0.42068397998809814, 0.405333012342453, 0.41081511974334717, 0.43727797269821167, 0.494268536567688, 0.5326199531555176, 0.5510584115982056, 0.5770159959793091, 0.46729013323783875, 0.47642695903778076, 0.5243974924087524, 0.6743850708007812, 0.800629198551178, 0.5673258304595947, 0.44690749049186707, 0.44861626625061035, 0.4503379464149475, 0.4416466951370239, 0.49392634630203247, 0.5101826190948486, 0.504866898059845, 0.56136155128479, 0.6183187961578369, 0.6463356018066406, 1.1977788209915161, 0.8458743691444397, 0.8962801694869995, 0.911531388759613, 0.6991335153579712, 0.5604701042175293, 0.5221468210220337, 0.5473952889442444, 0.5403412580490112, 0.5354112386703491, 0.565682053565979, 0.5988397598266602, 0.5896829962730408, 0.563896656036377, 0.5158199071884155, 0.5154948234558105, 0.46619153022766113, 0.49979835748672485, 0.5673759579658508, 0.6629871129989624, 0.7688363194465637, 0.6643120050430298, 0.5326225757598877, 0.49153077602386475, 0.5492470264434814, 0.6074665784835815, 0.6417579650878906, 0.571938157081604, 0.4535643458366394, 0.42796289920806885, 0.43999284505844116, 0.43015411496162415, 0.4195850193500519, 0.43006035685539246, 0.443947970867157, 0.41848817467689514, 0.426723837852478, 0.4375419616699219, 0.4602543115615845, 0.48398324847221375, 0.5544342994689941, 0.5718212723731995, 0.7373857498168945, 0.8480832576751709, 1.2085609436035156, 1.0492219924926758, 0.6721792221069336, 0.4979740083217621, 0.4870213568210602, 0.5023139715194702, 0.5044028759002686, 0.4659135341644287, 0.5428406000137329, 0.5241429209709167, 0.5084143877029419, 0.5078113079071045, 0.47879505157470703, 0.46367043256759644, 0.440967857837677, 0.4333205819129944, 0.42290225625038147, 0.43242889642715454, 0.4617811441421509, 0.4858441948890686, 0.47874024510383606, 0.5145716667175293, 0.514939546585083, 0.49866992235183716, 0.4410255253314972, 0.4048757553100586, 0.4007352590560913, 0.4356305003166199, 0.46471279859542847, 0.5740214586257935, 0.4766094386577606, 0.5359609127044678, 0.9169875383377075, 1.3559141159057617, 0.6519620418548584, 0.4857505261898041, 0.4855785369873047, 0.633733332157135, 0.738334059715271, 0.6497963070869446, 0.5563901662826538, 0.5039572715759277, 0.4524456262588501, 0.47327789664268494, 0.4187936782836914, 0.4370104670524597, 0.44973188638687134, 0.4358070492744446, 0.47673845291137695, 0.48732370138168335, 0.4403288960456848, 0.44893115758895874, 0.44648945331573486, 0.4771478772163391, 0.4736526608467102, 0.4852049946784973, 0.47053074836730957, 0.47443413734436035, 0.45273375511169434, 0.441847562789917, 0.5401595234870911, 0.7215664386749268, 0.8152099847793579, 0.6189277172088623, 0.5405837297439575, 0.5362997055053711, 0.47269579768180847, 0.43345582485198975, 0.4592174291610718, 0.4212498664855957, 0.410218745470047, 0.4040672183036804, 0.4244617223739624, 0.4368937909603119, 0.42106151580810547, 0.4151163399219513, 0.41598302125930786, 0.41974061727523804, 0.42375993728637695, 0.45110079646110535, 0.4454294443130493, 0.5693166255950928, 0.908824622631073, 1.1025227308273315, 0.6357354521751404, 0.5122149586677551, 0.46703118085861206, 0.45427289605140686, 0.5110612511634827, 0.5821330547332764, 0.7384845614433289, 0.7957468032836914, 1.2239407300949097, 0.8412606716156006, 0.8225193023681641, 0.8019248247146606, 0.5955494046211243, 0.5052560567855835, 0.5052070021629333, 0.48180055618286133, 0.4949663281440735, 0.5147997140884399, 0.5211105942726135, 0.5470789670944214, 0.5219863653182983, 0.5187520384788513, 0.5070669651031494, 0.5873293876647949, 0.620617151260376, 0.6170719265937805, 0.5894033908843994, 0.560157835483551, 0.559088408946991, 0.5169183611869812, 0.5016621947288513, 0.5142215490341187, 0.48855066299438477, 0.4539254903793335, 0.4378981590270996, 0.4751357436180115, 0.4437672197818756, 0.44528627395629883, 0.4863843023777008, 0.5244149565696716, 0.6042605638504028, 0.7386031150817871, 0.7384323477745056, 0.5849783420562744, 0.5081016421318054, 0.5226856470108032, 0.4883418083190918, 0.44673222303390503, 0.4366554915904999, 0.43204861879348755, 0.43180400133132935, 0.42746371030807495, 0.4129565954208374, 0.4173724055290222, 0.3891851305961609, 0.47349849343299866, 0.5589682459831238, 0.7439471483230591, 0.5862483978271484, 0.7503336668014526, 0.9300395250320435, 0.7947837114334106, 0.645806074142456, 0.5461664199829102, 0.48569318652153015, 0.4488127827644348, 0.4832307696342468, 0.4888520836830139, 0.4796588718891144, 0.4801996350288391, 0.49417638778686523, 0.45388418436050415, 0.4530920088291168, 0.4825271964073181, 0.39941099286079407, 0.4142289459705353, 0.4347184896469116, 0.42305490374565125, 0.4118444323539734, 0.4190390110015869, 0.4390861988067627, 0.42164039611816406, 0.4192834794521332, 0.5086946487426758, 0.6625815033912659, 1.149824857711792, 0.5371813774108887, 0.5846080183982849, 0.9749844670295715, 1.2590540647506714, 0.8831721544265747, 0.5805671811103821, 0.596685528755188, 0.5928651094436646, 0.6246235370635986, 0.5803949236869812, 0.5400265455245972, 0.5352417826652527, 0.5049241781234741, 0.5319170355796814, 0.5323423743247986, 0.621544599533081, 0.6241904497146606, 0.5718279480934143, 0.5386693477630615, 0.4475623369216919, 0.4636895954608917, 0.46221625804901123, 0.4796677231788635, 0.4673854112625122, 0.45546263456344604, 0.4845554828643799, 0.4642798900604248, 0.4548913240432739, 0.45139753818511963, 0.45656728744506836, 0.5454899668693542, 0.7746562361717224, 0.9731806516647339, 0.7035309076309204, 0.6018925309181213, 0.6717250347137451, 0.7026330828666687, 0.620491623878479, 0.5073180198669434, 0.48529285192489624, 0.47055959701538086, 0.4665101170539856, 0.4282955527305603, 0.42301082611083984, 0.4494435787200928, 0.4289294183254242, 0.4412361681461334, 0.4384514093399048, 0.42036640644073486, 0.4170275926589966, 0.3992243707180023, 0.4078681170940399, 0.47403815388679504, 0.49808269739151, 0.4712728261947632, 0.4333202838897705, 0.44192102551460266, 0.46381816267967224, 0.47503405809402466, 0.44542479515075684, 0.5117124319076538, 0.5460967421531677, 0.930419921875, 0.909808874130249, 1.3925690650939941, 0.9147767424583435, 0.6011071801185608, 0.5218967199325562, 0.5009918212890625, 0.5174936652183533, 0.49105072021484375, 0.4896461069583893, 0.4612566828727722, 0.47023916244506836, 0.508175253868103, 0.5153073072433472, 0.5567730665206909, 0.5635329484939575, 0.573615550994873, 0.5095730423927307, 0.5212250351905823, 0.48174530267715454, 0.4964146018028259, 0.5056078433990479, 0.45523011684417725, 0.4387142062187195, 0.44003984332084656, 0.4339221715927124, 0.4529418349266052, 0.45094090700149536, 0.4735049605369568, 0.47996097803115845, 0.5307194590568542, 0.7096946239471436, 0.8188819289207458, 1.093885898590088, 0.9591643810272217, 0.6343315839767456, 0.5102512836456299, 0.4837871193885803, 0.4848898947238922, 0.4708841145038605, 0.47373509407043457, 0.4588603675365448, 0.4637475609779358, 0.4778846204280853, 0.5078537464141846, 0.47299903631210327, 0.46315455436706543, 0.44891759753227234, 0.44813865423202515, 0.43733713030815125, 0.4696081876754761, 0.5682308673858643, 0.8005013465881348, 0.7815234661102295, 0.6585105657577515, 0.5563351511955261, 0.45754408836364746, 0.44236356019973755, 0.45175111293792725, 0.482740581035614, 0.5386004447937012, 0.5344749093055725, 0.5033846497535706, 0.43543875217437744, 0.4263444244861603, 0.4379841089248657, 0.4065590798854828, 0.4270261228084564, 0.4473164677619934, 0.4647226333618164, 0.5034767389297485, 0.5228397846221924, 0.6869381666183472, 0.5383402109146118, 0.5444738864898682, 0.5695430636405945, 0.6424699425697327, 0.6400980949401855, 0.6902323961257935, 0.748634934425354, 0.642348051071167, 0.48746123909950256, 0.4674231708049774, 0.49909424781799316, 0.5430178642272949, 0.5501551628112793, 0.46334490180015564, 0.42319098114967346, 0.4456089437007904, 0.44512611627578735, 0.4504280686378479, 0.44936445355415344, 0.4402053952217102, 0.4159198999404907, 0.4275133013725281, 0.4615347981452942, 0.4609943628311157, 0.5021283626556396, 0.5745220184326172, 0.6038601398468018, 0.6284264326095581, 0.6179417371749878, 0.7951143980026245, 1.151347279548645, 0.9788390398025513, 0.7159668803215027, 0.527090311050415, 0.46856969594955444, 0.44687727093696594, 0.4472164213657379, 0.4518566131591797, 0.44013452529907227, 0.46614667773246765, 0.4423694610595703, 0.4486115574836731, 0.4875287711620331, 0.527471661567688, 0.5700183510780334, 0.5404640436172485, 0.4759414792060852, 0.4760145843029022, 0.450383722782135, 0.4325329661369324, 0.3932350277900696, 0.420743852853775, 0.41688066720962524, 0.4709569215774536, 0.6924057006835938, 0.7472487092018127, 0.5252898931503296, 0.5012631416320801, 0.523898184299469, 0.530893087387085, 0.5467451214790344, 0.49293792247772217, 0.4379597306251526, 0.4307955503463745, 0.42820096015930176, 0.4241163432598114, 0.4736388921737671, 0.4802743196487427, 0.443744421005249, 0.41851213574409485, 0.39592358469963074, 0.3945869505405426, 0.39507338404655457, 0.4042094051837921, 0.4270385503768921, 0.49146804213523865, 0.6319860816001892, 0.44783490896224976, 0.46057209372520447, 0.6927922964096069, 1.0809729099273682, 0.8545935153961182, 0.7398779392242432, 0.6263154745101929, 0.5336418151855469, 0.4860801696777344, 0.4717702269554138, 0.5449777245521545, 0.5105409026145935, 0.5333914160728455, 0.5102372765541077, 0.48444753885269165, 0.4400838613510132, 0.42319560050964355, 0.4172813594341278, 0.43822020292282104, 0.45985543727874756, 0.4243074953556061, 0.4193330705165863, 0.436984658241272, 0.4590776562690735, 0.5667637586593628, 0.7278755903244019, 0.8516146540641785, 0.5767569541931152, 0.5948275923728943, 0.6696498394012451, 0.5335208177566528, 0.43851229548454285, 0.44854074716567993, 0.4554089903831482, 0.42072826623916626, 0.4358661472797394, 0.4420381188392639, 0.4005780518054962, 0.4281652867794037, 0.4733419418334961, 0.606608510017395, 0.7188617587089539, 0.5393068790435791, 0.607702910900116, 0.6313603520393372, 0.5288876295089722, 0.43759721517562866, 0.42930471897125244, 0.49750056862831116, 0.496229887008667, 0.48629090189933777, 0.42335259914398193, 0.4302273988723755, 0.44178900122642517, 0.518493115901947, 0.6752415299415588, 0.7173704504966736, 0.6789188385009766, 0.5156530737876892, 0.49107587337493896, 0.43538814783096313, 0.43825244903564453, 0.41393598914146423, 0.42167243361473083, 0.45407143235206604, 0.5418938398361206, 0.5635228157043457, 0.4839347302913666, 0.4776197373867035, 0.44970548152923584, 0.4688551127910614, 0.5454369783401489, 0.6164425611495972, 0.515203595161438, 0.48735910654067993, 0.4801643490791321, 0.46010011434555054, 0.41540372371673584, 0.43375593423843384, 0.4498463273048401, 0.4252522587776184, 0.4412775933742523, 0.4697706699371338, 0.472002774477005, 0.45730060338974, 0.4213310480117798, 0.40334197878837585, 0.3897317051887512, 0.37058866024017334, 0.3849756717681885, 0.3715203106403351, 0.3794878125190735, 0.3771370053291321, 0.39042872190475464, 0.4803042411804199, 0.6088817119598389, 0.7408711910247803, 0.7388967871665955, 1.6266056299209595, 1.2072608470916748, 0.7041429877281189, 0.5567620992660522, 0.5119735598564148, 0.6038126945495605, 0.5102980732917786, 0.5000025033950806, 0.47019708156585693, 0.5090940594673157, 0.511009931564331, 0.5133277177810669, 0.4579395353794098, 0.4557262659072876, 0.4722518026828766, 0.48357734084129333, 0.6471651792526245, 0.7393393516540527, 0.6658196449279785, 0.5318187475204468, 0.4422423243522644, 0.4317973852157593, 0.42315012216567993, 0.42885294556617737, 0.4045505225658417, 0.4120633602142334, 0.4102543294429779, 0.42382436990737915, 0.45657894015312195, 0.4835098087787628, 0.5215471982955933, 0.6234155893325806, 0.5110977292060852, 0.6118861436843872, 0.8826082944869995, 0.990291178226471, 0.7788023948669434, 0.5568506717681885, 0.48193496465682983, 0.4933604896068573, 0.5196117162704468, 0.6477996110916138, 0.6772445440292358, 0.6215096116065979, 0.48443230986595154, 0.46187824010849, 0.4125869870185852, 0.40073227882385254, 0.421933650970459, 0.429917573928833, 0.48378342390060425, 0.558975875377655, 0.6048865914344788, 0.579255998134613, 0.49014413356781006, 0.440593421459198, 0.4189325273036957, 0.3979531526565552, 0.414521723985672, 0.425842821598053, 0.4173744022846222, 0.38935428857803345, 0.4151920974254608, 0.3863023519515991, 0.3726434111595154, 0.3908897638320923, 0.3841404318809509, 0.3914089798927307, 0.37194332480430603, 0.3930242657661438, 0.3607107996940613, 0.3818197250366211, 0.47096675634384155, 0.5965343713760376, 0.6609590649604797, 0.4192809462547302, 0.40664932131767273, 0.5558286309242249, 0.6800400018692017, 0.6082181930541992, 0.4513123631477356, 0.3784578740596771, 0.4052965044975281, 0.4459412693977356, 0.4905983507633209, 0.4618017077445984, 0.46154916286468506, 0.4290890693664551, 0.46148979663848877, 0.44063663482666016, 0.39848291873931885, 0.3718861937522888, 0.38041558861732483, 0.3909904658794403, 0.42379245162010193, 0.39788562059402466, 0.4129098951816559, 0.40524017810821533, 0.40203744173049927, 0.40370091795921326, 0.37118789553642273, 0.38479018211364746, 0.38903164863586426, 0.37190601229667664, 0.3891664743423462, 0.38207581639289856, 0.42116981744766235, 0.5739367008209229, 0.6254111528396606, 0.5200870633125305, 0.5451418161392212, 0.5215176343917847, 0.661642849445343, 0.8726796507835388, 0.8537582159042358, 0.8436959981918335, 1.0010837316513062, 0.8569658398628235, 0.5950373411178589, 0.5486509203910828, 0.4263165593147278, 0.49603885412216187, 0.5535807013511658, 0.7956850528717041, 0.8759949207305908, 0.46933549642562866, 0.4214931130409241, 0.42448943853378296, 0.46510905027389526, 0.44675761461257935, 0.4792819023132324, 0.4950902462005615, 0.4278353452682495, 0.41181355714797974, 0.4220174551010132, 0.42320573329925537, 0.5010201930999756, 0.5680690407752991, 0.7019805908203125, 1.2798254489898682, 0.5687609910964966, 0.5402079820632935, 0.5604466199874878, 0.4794957935810089, 0.48696768283843994, 0.5329943895339966, 0.5680302381515503, 0.5955060124397278, 0.5982900857925415, 0.44750434160232544, 0.4535297751426697, 0.4989876449108124, 0.4835479259490967, 0.48730579018592834, 0.4334492087364197, 0.43510693311691284, 0.4183793067932129, 0.4478990435600281, 0.4508998990058899, 0.47720468044281006, 0.5515536069869995, 0.7721866965293884, 0.7636802792549133, 0.4765860438346863, 0.46405038237571716, 0.5689775943756104, 0.5899252891540527, 0.5421651601791382, 0.47492510080337524, 0.41299301385879517, 0.39781180024147034, 0.4200470447540283, 0.4116034209728241, 0.42259377241134644, 0.38744544982910156, 0.4026535749435425, 0.4079534709453583, 0.3940146565437317, 0.40746891498565674, 0.42040014266967773, 0.4240783452987671, 0.44325804710388184, 0.46925806999206543, 0.540395975112915, 0.5580143928527832, 0.565477192401886, 0.5280728340148926, 0.4783180356025696, 0.470237135887146, 0.42332854866981506, 0.38726991415023804, 0.39203840494155884, 0.3831479549407959, 0.4128307104110718, 0.3871389627456665, 0.37005168199539185, 0.3663562536239624, 0.37192073464393616, 0.3874204754829407, 0.40671923756599426, 0.4175177216529846, 0.3955116868019104, 0.35444706678390503, 0.3866862952709198, 0.4148486256599426, 0.42478880286216736, 0.41894084215164185, 0.41622036695480347, 0.4143935441970825, 0.384037047624588, 0.36227768659591675, 0.35429054498672485, 0.38633841276168823, 0.3913532495498657, 0.3634124994277954, 0.3531273305416107, 0.35661566257476807, 0.37320661544799805, 0.3949614465236664, 0.445738822221756, 0.4378046989440918, 0.5097076296806335, 0.6192454695701599, 1.2953068017959595, 1.011486530303955, 1.4014511108398438, 1.0849330425262451, 0.6526191830635071, 0.5742933750152588, 0.5422326326370239, 0.5592300891876221, 0.5662927627563477, 0.6635499000549316, 0.7367446422576904, 0.6927213668823242, 0.570536196231842, 0.520982027053833, 0.4349600076675415, 0.43592333793640137, 0.4958852231502533, 0.5169535279273987, 0.4612250328063965, 0.45835810899734497, 0.42522063851356506, 0.45322948694229126, 0.4351887106895447, 0.4835466146469116, 0.538970947265625, 0.6621556878089905, 0.7129787802696228, 0.5594438910484314, 0.41699016094207764, 0.43637555837631226, 0.4906473755836487, 0.4999343752861023, 0.4799138903617859, 0.4345186650753021, 0.40440618991851807, 0.4399941563606262, 0.42700517177581787, 0.4572886824607849, 0.4469248652458191, 0.40445542335510254, 0.4122162461280823, 0.4342118799686432, 0.43886035680770874, 0.46110010147094727, 0.43352773785591125, 0.42582881450653076, 0.4640651345252991, 0.5261709690093994, 0.4570111334323883, 0.39268770813941956, 0.3841765522956848, 0.42170825600624084, 0.4250885248184204, 0.46163713932037354, 0.4594070613384247, 0.41082853078842163, 0.3659582734107971, 0.4035143256187439, 0.386083722114563, 0.4406445324420929, 0.5223683714866638, 0.7127975225448608, 0.3871952295303345, 0.4008161127567291, 0.45011094212532043, 0.6262737512588501, 1.276876449584961, 1.162335991859436, 0.9050856232643127, 0.49907195568084717, 0.4621427655220032, 0.6808465123176575, 0.926694393157959, 0.8976582884788513, 0.541907548904419, 0.43633994460105896, 0.40713703632354736, 0.4421555995941162, 0.5219513177871704, 0.4899170994758606, 0.48201262950897217, 0.46234428882598877, 0.45772749185562134, 0.5498920679092407, 0.6187101006507874, 0.6602001190185547, 0.5733726024627686, 0.4403733015060425, 0.42456090450286865, 0.4114610552787781, 0.48212915658950806, 0.5401959419250488, 0.5375264883041382, 0.478159099817276, 0.4323134422302246, 0.3860134780406952, 0.41141241788864136, 0.406283438205719, 0.3911174535751343, 0.42119520902633667, 0.4108874499797821, 0.41725847125053406, 0.44712620973587036, 0.45304766297340393, 0.4351900815963745, 0.42504626512527466, 0.4429675340652466, 0.443430632352829, 0.43509575724601746, 0.4271773099899292, 0.47781193256378174, 0.5183985233306885, 0.5027903318405151, 0.46892815828323364, 0.4348655641078949, 0.4454765021800995, 0.5105656385421753, 0.5711042881011963, 0.6134684681892395, 0.48700037598609924, 0.40689438581466675, 0.40947216749191284, 0.4027445912361145, 0.404304563999176, 0.3959089517593384, 0.3757933974266052, 0.3889158368110657, 0.4109010696411133, 0.4326367974281311, 0.4110262989997864, 0.3773554861545563, 0.3799043297767639, 0.4070276618003845, 0.41452842950820923, 0.4106580317020416, 0.4317837357521057, 0.3853086233139038, 0.3585948348045349, 0.4043351709842682, 0.3775605261325836, 0.3633142113685608, 0.3667061924934387, 0.38056084513664246, 0.3684425354003906, 0.3601034879684448, 0.3484678864479065, 0.36519595980644226, 0.37161529064178467, 0.34891390800476074, 0.3706322908401489, 0.35887134075164795, 0.3499242067337036, 0.34191450476646423, 0.3616374135017395, 0.3663988709449768, 0.3645058274269104, 0.3494664430618286, 0.3516044616699219, 0.3429456651210785, 0.39382797479629517, 0.4894881844520569, 0.48833662271499634, 0.7731869220733643, 1.1174875497817993, 1.621307134628296, 0.5287495255470276, 0.5299673676490784, 0.6812321543693542, 0.9514693021774292, 0.6375219225883484, 0.5394774079322815, 0.48153209686279297, 0.4312722682952881, 0.5441563129425049, 0.5567314028739929, 0.7875999808311462, 0.866378664970398, 0.4911110997200012, 0.42028576135635376, 0.5385841727256775, 0.5989785194396973, 0.6289677023887634, 0.5390771627426147, 0.4677489399909973, 0.4202961325645447, 0.412681519985199, 0.44671809673309326, 0.40704208612442017, 0.4170179069042206, 0.4196320176124573, 0.40297070145606995, 0.3895414173603058, 0.43722790479660034, 0.5729011297225952, 0.7184913158416748, 0.6285836696624756, 0.5573717951774597, 0.477582186460495, 0.42083123326301575, 0.500339150428772, 0.5720887780189514, 0.5703668594360352, 0.5215262174606323, 0.4348836839199066, 0.395734041929245, 0.4312407374382019, 0.4180074632167816, 0.4168834090232849, 0.3963180482387543, 0.40699735283851624, 0.41139447689056396, 0.39079946279525757, 0.3947743773460388, 0.41238653659820557, 0.4564550817012787, 0.5638798475265503, 0.6767798662185669, 0.5256029367446899, 0.4701814651489258, 0.4201139509677887, 0.39943167567253113, 0.410788357257843, 0.46637779474258423, 0.5195077657699585, 0.5520336031913757, 0.5852053165435791, 0.45490843057632446, 0.3906033933162689, 0.39432230591773987, 0.40320509672164917, 0.413388192653656, 0.42144590616226196, 0.45868420600891113, 0.5263336896896362, 0.5093660950660706, 0.44024786353111267, 0.40889203548431396, 0.41942739486694336, 0.46726924180984497, 0.48628443479537964, 0.5079006552696228, 0.5071687698364258, 0.4477875232696533, 0.40440836548805237, 0.4127349555492401, 0.3834054470062256, 0.3715781569480896, 0.3555462658405304, 0.35082244873046875, 0.3912408947944641, 0.4258494973182678, 0.4810638427734375, 0.556148111820221, 0.4753759801387787, 0.36689049005508423, 0.36764952540397644, 0.39209669828414917, 0.38418981432914734, 0.363735169172287, 0.353237509727478, 0.3409811556339264, 0.36489057540893555, 0.36018696427345276, 0.34849658608436584, 0.3476586937904358, 0.35295653343200684, 0.3489046096801758, 0.34757930040359497, 0.3426547050476074, 0.3485252857208252, 0.3641341030597687, 0.35187822580337524, 0.342828631401062, 0.3473876118659973, 0.36014530062675476, 0.35901331901550293, 0.3488462269306183, 0.34624966979026794, 0.34258124232292175, 0.3562479615211487, 0.35176390409469604, 0.35664814710617065, 0.3513408303260803, 0.34565529227256775, 0.341863751411438, 0.3460060954093933, 0.34500813484191895, 0.34557926654815674, 0.3450384736061096, 0.3692910075187683, 0.3793785274028778, 0.35002297163009644, 0.3553847670555115, 0.36462587118148804, 0.38063913583755493, 0.4118346571922302, 0.43579983711242676, 0.4426339864730835, 0.6380704045295715, 0.6672560572624207, 2.114626407623291, 1.1860120296478271, 0.9265141487121582, 0.8424729704856873, 0.5653115510940552, 0.4644383192062378, 0.42611557245254517, 0.443534255027771, 0.5297037363052368, 0.5290006995201111, 0.5758801698684692, 0.5427090525627136, 0.572837233543396, 0.6089090704917908, 0.5399421453475952, 0.4035254120826721, 0.44113898277282715, 0.5088329315185547, 0.6335746049880981, 0.739680826663971, 0.6711380481719971, 0.468048095703125, 0.41175276041030884, 0.40462151169776917, 0.4382072687149048, 0.493785560131073, 0.5478143692016602, 0.6052537560462952, 0.6064131259918213, 0.5212249159812927, 0.40579092502593994, 0.4219486713409424, 0.44011518359184265, 0.4627724885940552, 0.4668195843696594, 0.48530060052871704, 0.510330080986023, 0.5075123310089111, 0.4384675621986389, 0.3928973078727722, 0.4358375668525696, 0.5835681557655334, 0.6338251829147339, 0.6234554052352905, 0.6510928273200989, 0.485690176486969, 0.37474071979522705, 0.4227672219276428, 0.5453072786331177, 0.7596156597137451, 0.8782829642295837, 0.9861087799072266, 0.48196759819984436, 0.39108768105506897, 0.47410130500793457, 0.611960768699646, 0.743537425994873, 0.7403074502944946, 0.6145270466804504, 0.41749492287635803, 0.44924014806747437, 0.4879462420940399, 0.5001295804977417, 0.45394158363342285, 0.47410425543785095, 0.4470632076263428, 0.4386119544506073, 0.44638264179229736, 0.4243353307247162, 0.4398123025894165, 0.43672433495521545, 0.42057111859321594, 0.4037927985191345, 0.4011163115501404, 0.43271881341934204, 0.42279568314552307, 0.4049695134162903, 0.3737742304801941, 0.38815608620643616, 0.3950202465057373, 0.39863741397857666, 0.3938223719596863, 0.42213183641433716, 0.4480708837509155, 0.5180561542510986, 0.5296936631202698, 0.5847598314285278, 0.5639556646347046, 0.5252712368965149, 0.6046730279922485, 0.6028825640678406, 0.5432954430580139, 0.45092231035232544, 0.39772534370422363, 0.3891066312789917, 0.43621209263801575, 0.41057783365249634, 0.39627090096473694, 0.3801645040512085, 0.4329855144023895, 0.4672195613384247, 0.4802537262439728, 0.4588332772254944, 0.42859986424446106, 0.41418859362602234, 0.4044385552406311, 0.3967389166355133, 0.4344494640827179, 0.4966176152229309, 0.5712307691574097, 0.5716737508773804, 0.48015132546424866, 0.40427812933921814, 0.39584797620773315, 0.524630069732666, 0.7422018051147461, 0.8118555545806885, 0.5796695947647095, 0.4631190896034241, 0.4404021203517914, 0.44203025102615356, 0.45016831159591675, 0.4866912066936493, 0.5609835982322693, 0.603825032711029, 0.4663902223110199, 0.4115954041481018, 0.3931940495967865, 0.4227439761161804, 0.42034244537353516, 0.4374379813671112, 0.49701952934265137, 0.4995327889919281, 0.5549800395965576, 0.46017247438430786, 0.39102765917778015, 0.3880884051322937, 0.412905752658844, 0.43526357412338257, 0.44903719425201416, 0.4686993658542633, 0.4393094778060913, 0.3829815983772278, 0.3759007751941681, 0.37503406405448914, 0.37150073051452637, 0.3585951030254364, 0.35585469007492065, 0.3540276885032654, 0.38707396388053894, 0.4275311529636383, 0.5040836334228516, 0.4417799413204193, 0.3745935559272766, 0.3686369061470032, 0.39448654651641846, 0.37943482398986816, 0.3747808635234833, 0.36182987689971924, 0.352461040019989, 0.3627805709838867, 0.36409375071525574, 0.36109280586242676, 0.34313613176345825, 0.3596404194831848, 0.41620224714279175, 0.4060610830783844, 0.34609255194664, 0.40555644035339355, 0.37772947549819946, 0.34621989727020264, 0.3829030394554138, 0.41157639026641846, 0.4566444456577301, 0.4484595060348511, 0.38664141297340393, 0.3642452359199524, 0.3588433861732483, 0.37958967685699463, 0.4300379753112793, 0.5442347526550293, 0.7205122113227844, 1.4660661220550537, 0.6104018688201904, 0.5990608930587769, 0.9157877564430237, 0.8346658945083618, 0.7883803844451904, 0.6861945390701294, 0.6681747436523438, 0.569341778755188, 0.519332230091095, 0.47874313592910767, 0.4378318786621094, 0.4731632173061371, 0.5134026408195496, 0.49818307161331177, 0.5841832160949707, 0.5333085060119629, 0.508350133895874, 0.44155943393707275, 0.39992964267730713, 0.44781070947647095, 0.6110885143280029, 0.9629791975021362, 0.7786927223205566, 0.4049040973186493, 0.4511581361293793, 0.45167145133018494, 0.3914560079574585, 0.3933809697628021, 0.4157481789588928, 0.4333677887916565, 0.43688255548477173, 0.4178004860877991, 0.3854285776615143, 0.40160202980041504, 0.47626614570617676, 0.6039155721664429, 0.6150161027908325, 0.5220722556114197, 0.4628452658653259, 0.4093879163265228, 0.42069604992866516, 0.4404945373535156, 0.4655303955078125, 0.49068930745124817, 0.5509006977081299, 0.6063909530639648, 0.6412595510482788, 0.47494593262672424, 0.3918097913265228, 0.4285374879837036, 0.3992342948913574, 0.42166411876678467, 0.38229066133499146, 0.4026060402393341, 0.40494030714035034, 0.40508097410202026, 0.39940619468688965, 0.4478803277015686, 0.5536072850227356, 0.6554412841796875, 0.5114980936050415, 0.4600173532962799, 0.4568348526954651, 0.5455982089042664, 0.6827597618103027, 0.7678709030151367, 0.6206153631210327, 0.4337952733039856, 0.41647353768348694, 0.37549859285354614, 0.39870408177375793, 0.410824179649353, 0.40407595038414, 0.5299503803253174, 0.8917714357376099, 1.0296422243118286, 0.45768678188323975, 0.4432837963104248, 0.5511782169342041, 0.5993722081184387, 0.5574955940246582, 0.46167701482772827, 0.44406670331954956, 0.6014950275421143, 0.7899305820465088, 0.6310878992080688, 0.3849811851978302, 0.41488999128341675, 0.45154112577438354, 0.55363929271698, 0.5805723667144775, 0.4377064108848572, 0.38132521510124207, 0.3690623939037323, 0.38661640882492065, 0.3935058116912842, 0.4405927062034607, 0.4421651363372803, 0.4336269497871399, 0.4109102785587311, 0.38417673110961914, 0.3723613917827606, 0.3738420009613037, 0.3799055814743042, 0.38975587487220764, 0.39780038595199585, 0.3903731107711792, 0.3648048937320709, 0.357584685087204, 0.3613932728767395, 0.3765121102333069, 0.3607754707336426, 0.38901692628860474, 0.3781259059906006, 0.3534657955169678, 0.3652936518192291, 0.3789036273956299, 0.3666175603866577, 0.364444375038147, 0.34813734889030457, 0.3582766056060791, 0.3710291385650635, 0.34735846519470215, 0.3548751473426819, 0.3525776267051697, 0.34615379571914673, 0.36136314272880554, 0.36822235584259033, 0.3500713109970093, 0.3422994613647461, 0.3397274315357208, 0.340422660112381, 0.35377728939056396, 0.35548701882362366, 0.3507881462574005, 0.34733855724334717, 0.3502870798110962, 0.35120052099227905, 0.35318681597709656, 0.35004544258117676, 0.34451183676719666, 0.3444794714450836, 0.34500595927238464, 0.3425595164299011, 0.3441339135169983, 0.3462064266204834, 0.36574187874794006, 0.4101872146129608, 0.44948849081993103, 0.5155091881752014, 0.5627349615097046, 1.1248829364776611, 0.7214670181274414, 1.6271255016326904, 1.6294927597045898, 0.804172933101654, 0.5448703765869141, 0.6993352174758911, 0.7203323841094971, 0.8846749067306519, 0.9242773056030273, 0.7044593691825867, 0.5091828107833862, 0.510624885559082, 0.5555033683776855, 0.5260380506515503, 0.5377999544143677, 0.6016369462013245, 0.6837918758392334, 0.7936786413192749, 0.7414082884788513, 0.5982605814933777, 0.5247787833213806, 0.4354287385940552, 0.4346362054347992, 0.44993075728416443, 0.5045576095581055, 0.5359036922454834, 0.675515353679657, 0.7259650230407715, 0.699943482875824, 0.5189979076385498, 0.4654199481010437, 0.47964656352996826, 0.5069639682769775, 0.6035348176956177, 0.5943166017532349, 0.5298126935958862, 0.467584490776062, 0.4404991865158081, 0.4683520793914795, 0.5060826539993286, 0.5173861980438232, 0.4242110550403595, 0.4637884497642517, 0.43755337595939636, 0.48422756791114807, 0.49303916096687317, 0.4821058511734009, 0.48128536343574524, 0.47198569774627686, 0.40080392360687256, 0.4123368561267853, 0.4563055634498596, 0.45912158489227295, 0.5167983770370483, 0.5835365056991577, 0.6272931694984436, 0.4880932867527008, 0.42344212532043457, 0.4733242988586426, 0.6164270639419556, 0.9606621265411377, 0.9549457430839539, 0.5148499011993408, 0.48488107323646545, 0.6038055419921875, 0.7046464681625366, 0.9253183603286743, 0.9486836194992065, 0.6867556571960449, 0.4683613181114197, 0.42980116605758667, 0.4277517795562744, 0.4420424699783325, 0.47966066002845764, 0.48412445187568665, 0.4578937590122223, 0.481198787689209, 0.4476567506790161, 0.4008031487464905, 0.412396103143692, 0.3743212819099426, 0.3918185830116272, 0.4243637025356293, 0.5329594612121582, 0.6191684007644653, 0.6468755602836609, 0.4842607080936432, 0.45217257738113403, 0.41870397329330444, 0.4196758270263672, 0.4542558789253235, 0.46319806575775146, 0.4720337986946106, 0.5615867376327515, 0.5989267230033875, 0.48393768072128296, 0.39870238304138184, 0.49181121587753296, 0.5618982315063477, 0.580051600933075, 0.47215715050697327, 0.4233788251876831, 0.3908107578754425, 0.39733272790908813, 0.3803114891052246, 0.38670337200164795, 0.4140976071357727, 0.4280122220516205, 0.4199730157852173, 0.4138328433036804, 0.4229191243648529, 0.4192255735397339, 0.4159119427204132, 0.4285914897918701, 0.42282477021217346, 0.4196162223815918, 0.3691897988319397, 0.3633488416671753, 0.36152034997940063, 0.3868095576763153, 0.3933284282684326, 0.4251461327075958, 0.4237929582595825, 0.40537041425704956, 0.39369893074035645, 0.3904801607131958, 0.3729882538318634, 0.420916348695755, 0.4641835391521454, 0.6335954070091248, 0.6740793585777283, 1.154780387878418, 0.7949590086936951, 0.6631039381027222, 0.8533853888511658, 1.0041252374649048, 0.8980656862258911, 0.49160486459732056, 0.4563998579978943, 0.46518194675445557, 0.4519514739513397, 0.4697771370410919, 0.48097628355026245, 0.4671058654785156, 0.4836193919181824, 0.4640514850616455, 0.4133649468421936, 0.3907148540019989, 0.4339553117752075, 0.44497308135032654, 0.45557382702827454, 0.3792486786842346, 0.3860801160335541, 0.36508703231811523, 0.37562867999076843, 0.4200070798397064, 0.5983489751815796, 0.8818672299385071, 0.5184217691421509, 0.39147570729255676, 0.3833739459514618, 0.4464569687843323, 0.4739815294742584, 0.5328699350357056, 0.7106434106826782, 0.9458043575286865, 0.5056580305099487, 0.3921353816986084, 0.44261986017227173, 0.5088883638381958, 0.6275372505187988, 0.8423702716827393, 0.8403244614601135, 0.38698655366897583, 0.5026938319206238, 0.47125479578971863, 0.43218445777893066, 0.5196114182472229, 0.5313938856124878, 0.549375057220459, 0.4756717085838318, 0.4167094826698303, 0.3977077007293701, 0.4211983382701874, 0.4244530200958252, 0.38629862666130066, 0.3872711956501007, 0.39553511142730713, 0.4021575450897217, 0.40754157304763794, 0.4139457941055298, 0.39993810653686523, 0.4069325923919678, 0.4098721742630005, 0.3746681809425354, 0.3706716001033783, 0.3723497986793518, 0.4002004861831665, 0.41782304644584656, 0.3766527771949768, 0.3665804862976074, 0.3495080769062042, 0.3601278066635132, 0.36353179812431335, 0.3750176727771759, 0.3797752559185028, 0.40073251724243164, 0.37222903966903687, 0.3568305969238281, 0.3609856367111206, 0.3542405664920807, 0.36235249042510986, 0.36357301473617554, 0.3478262722492218, 0.3457547426223755, 0.3486643433570862, 0.36328017711639404, 0.41368335485458374, 0.4969264268875122, 0.7238005995750427, 0.6179131865501404, 1.192224383354187, 1.2899986505508423, 0.7006891369819641, 0.48255595564842224, 0.4940621852874756, 0.5088396668434143, 0.5847620368003845, 0.5254981517791748, 0.4652491807937622, 0.42087987065315247, 0.4642043709754944, 0.457781583070755, 0.46979907155036926, 0.5307939052581787, 0.5748428702354431, 0.6297223567962646, 0.56254643201828, 0.4099881649017334, 0.46380624175071716, 0.5279667377471924, 0.5250952243804932, 0.4702757000923157, 0.41162025928497314, 0.4052220582962036, 0.3846094012260437, 0.42342501878738403, 0.42072081565856934, 0.47919297218322754, 0.5161492824554443, 0.5722578763961792, 0.5173799991607666, 0.42977240681648254, 0.43328970670700073, 0.44800856709480286, 0.39995837211608887, 0.3686237633228302, 0.38287851214408875, 0.40503114461898804, 0.44930243492126465, 0.5983381271362305, 0.7089998722076416, 0.4617425501346588, 0.3792932629585266, 0.39462509751319885, 0.5076766610145569, 0.5747866630554199, 0.7002224922180176, 0.7539175748825073, 0.5353060960769653, 0.4236605763435364, 0.46003562211990356, 0.5335490107536316, 0.5859160423278809, 0.5590665936470032, 0.4649367332458496, 0.3751099109649658, 0.4450320899486542, 0.5974446535110474, 0.7045546770095825, 0.5389925241470337, 0.37806373834609985, 0.3863028287887573, 0.4475887417793274, 0.45093297958374023, 0.44465139508247375, 0.4751133322715759, 0.48582643270492554, 0.45998266339302063, 0.40191397070884705, 0.38162633776664734, 0.4354248344898224, 0.4619808793067932, 0.4655148684978485, 0.44976866245269775, 0.3921809792518616, 0.3785743713378906, 0.3998933434486389, 0.4206240773200989, 0.4013814926147461, 0.4447522759437561, 0.44190895557403564, 0.38294416666030884, 0.396325021982193, 0.41125422716140747, 0.5149506330490112, 0.6213864088058472, 0.8290425539016724, 0.45556455850601196, 0.48856204748153687, 1.059875249862671, 1.08482027053833, 1.1056950092315674, 0.6683125495910645, 0.4351908564567566, 0.4817052483558655, 0.5195435881614685, 0.5218980312347412, 0.5185606479644775, 0.5238602757453918, 0.502482533454895, 0.46825918555259705, 0.4581168591976166, 0.4471059739589691, 0.4664331078529358, 0.4295482635498047, 0.43974384665489197, 0.42659562826156616, 0.4450162649154663, 0.4275078773498535, 0.4027312397956848, 0.37618863582611084, 0.38808363676071167, 0.396960586309433, 0.3799130618572235, 0.37754181027412415, 0.37826603651046753, 0.40232613682746887]}],\n",
              "                        {\"height\": 500, \"template\": {\"data\": {\"bar\": [{\"error_x\": {\"color\": \"#2a3f5f\"}, \"error_y\": {\"color\": \"#2a3f5f\"}, \"marker\": {\"line\": {\"color\": \"#E5ECF6\", \"width\": 0.5}}, \"type\": \"bar\"}], \"barpolar\": [{\"marker\": {\"line\": {\"color\": \"#E5ECF6\", \"width\": 0.5}}, \"type\": \"barpolar\"}], \"carpet\": [{\"aaxis\": {\"endlinecolor\": \"#2a3f5f\", \"gridcolor\": \"white\", \"linecolor\": \"white\", \"minorgridcolor\": \"white\", \"startlinecolor\": \"#2a3f5f\"}, \"baxis\": {\"endlinecolor\": \"#2a3f5f\", \"gridcolor\": \"white\", \"linecolor\": \"white\", \"minorgridcolor\": \"white\", \"startlinecolor\": \"#2a3f5f\"}, \"type\": \"carpet\"}], \"choropleth\": [{\"colorbar\": {\"outlinewidth\": 0, \"ticks\": \"\"}, \"type\": \"choropleth\"}], \"contour\": [{\"colorbar\": {\"outlinewidth\": 0, \"ticks\": \"\"}, \"colorscale\": [[0.0, \"#0d0887\"], [0.1111111111111111, \"#46039f\"], [0.2222222222222222, \"#7201a8\"], [0.3333333333333333, \"#9c179e\"], [0.4444444444444444, \"#bd3786\"], [0.5555555555555556, \"#d8576b\"], [0.6666666666666666, \"#ed7953\"], [0.7777777777777778, \"#fb9f3a\"], [0.8888888888888888, \"#fdca26\"], [1.0, \"#f0f921\"]], \"type\": \"contour\"}], \"contourcarpet\": [{\"colorbar\": {\"outlinewidth\": 0, \"ticks\": \"\"}, \"type\": \"contourcarpet\"}], \"heatmap\": [{\"colorbar\": {\"outlinewidth\": 0, \"ticks\": \"\"}, \"colorscale\": [[0.0, \"#0d0887\"], [0.1111111111111111, \"#46039f\"], [0.2222222222222222, \"#7201a8\"], [0.3333333333333333, \"#9c179e\"], [0.4444444444444444, \"#bd3786\"], [0.5555555555555556, \"#d8576b\"], [0.6666666666666666, \"#ed7953\"], [0.7777777777777778, \"#fb9f3a\"], [0.8888888888888888, \"#fdca26\"], [1.0, \"#f0f921\"]], \"type\": \"heatmap\"}], \"heatmapgl\": [{\"colorbar\": {\"outlinewidth\": 0, \"ticks\": \"\"}, \"colorscale\": [[0.0, \"#0d0887\"], [0.1111111111111111, \"#46039f\"], [0.2222222222222222, \"#7201a8\"], [0.3333333333333333, \"#9c179e\"], [0.4444444444444444, \"#bd3786\"], [0.5555555555555556, \"#d8576b\"], [0.6666666666666666, \"#ed7953\"], [0.7777777777777778, \"#fb9f3a\"], [0.8888888888888888, \"#fdca26\"], [1.0, \"#f0f921\"]], \"type\": \"heatmapgl\"}], \"histogram\": [{\"marker\": {\"colorbar\": {\"outlinewidth\": 0, \"ticks\": \"\"}}, \"type\": \"histogram\"}], \"histogram2d\": [{\"colorbar\": {\"outlinewidth\": 0, \"ticks\": \"\"}, \"colorscale\": [[0.0, \"#0d0887\"], [0.1111111111111111, \"#46039f\"], [0.2222222222222222, \"#7201a8\"], [0.3333333333333333, \"#9c179e\"], [0.4444444444444444, \"#bd3786\"], [0.5555555555555556, \"#d8576b\"], [0.6666666666666666, \"#ed7953\"], [0.7777777777777778, \"#fb9f3a\"], [0.8888888888888888, \"#fdca26\"], [1.0, \"#f0f921\"]], \"type\": \"histogram2d\"}], \"histogram2dcontour\": [{\"colorbar\": {\"outlinewidth\": 0, \"ticks\": \"\"}, \"colorscale\": [[0.0, \"#0d0887\"], [0.1111111111111111, \"#46039f\"], [0.2222222222222222, \"#7201a8\"], [0.3333333333333333, \"#9c179e\"], [0.4444444444444444, \"#bd3786\"], [0.5555555555555556, \"#d8576b\"], [0.6666666666666666, \"#ed7953\"], [0.7777777777777778, \"#fb9f3a\"], [0.8888888888888888, \"#fdca26\"], [1.0, \"#f0f921\"]], \"type\": \"histogram2dcontour\"}], \"mesh3d\": [{\"colorbar\": {\"outlinewidth\": 0, \"ticks\": \"\"}, \"type\": \"mesh3d\"}], \"parcoords\": [{\"line\": {\"colorbar\": {\"outlinewidth\": 0, \"ticks\": \"\"}}, \"type\": \"parcoords\"}], \"pie\": [{\"automargin\": true, \"type\": \"pie\"}], \"scatter\": [{\"marker\": {\"colorbar\": {\"outlinewidth\": 0, \"ticks\": \"\"}}, \"type\": \"scatter\"}], \"scatter3d\": [{\"line\": {\"colorbar\": {\"outlinewidth\": 0, \"ticks\": \"\"}}, \"marker\": {\"colorbar\": {\"outlinewidth\": 0, \"ticks\": \"\"}}, \"type\": \"scatter3d\"}], \"scattercarpet\": [{\"marker\": {\"colorbar\": {\"outlinewidth\": 0, \"ticks\": \"\"}}, \"type\": \"scattercarpet\"}], \"scattergeo\": [{\"marker\": {\"colorbar\": {\"outlinewidth\": 0, \"ticks\": \"\"}}, \"type\": \"scattergeo\"}], \"scattergl\": [{\"marker\": {\"colorbar\": {\"outlinewidth\": 0, \"ticks\": \"\"}}, \"type\": \"scattergl\"}], \"scattermapbox\": [{\"marker\": {\"colorbar\": {\"outlinewidth\": 0, \"ticks\": \"\"}}, \"type\": \"scattermapbox\"}], \"scatterpolar\": [{\"marker\": {\"colorbar\": {\"outlinewidth\": 0, \"ticks\": \"\"}}, \"type\": \"scatterpolar\"}], \"scatterpolargl\": [{\"marker\": {\"colorbar\": {\"outlinewidth\": 0, \"ticks\": \"\"}}, \"type\": \"scatterpolargl\"}], \"scatterternary\": [{\"marker\": {\"colorbar\": {\"outlinewidth\": 0, \"ticks\": \"\"}}, \"type\": \"scatterternary\"}], \"surface\": [{\"colorbar\": {\"outlinewidth\": 0, \"ticks\": \"\"}, \"colorscale\": [[0.0, \"#0d0887\"], [0.1111111111111111, \"#46039f\"], [0.2222222222222222, \"#7201a8\"], [0.3333333333333333, \"#9c179e\"], [0.4444444444444444, \"#bd3786\"], [0.5555555555555556, \"#d8576b\"], [0.6666666666666666, \"#ed7953\"], [0.7777777777777778, \"#fb9f3a\"], [0.8888888888888888, \"#fdca26\"], [1.0, \"#f0f921\"]], \"type\": \"surface\"}], \"table\": [{\"cells\": {\"fill\": {\"color\": \"#EBF0F8\"}, \"line\": {\"color\": \"white\"}}, \"header\": {\"fill\": {\"color\": \"#C8D4E3\"}, \"line\": {\"color\": \"white\"}}, \"type\": \"table\"}]}, \"layout\": {\"annotationdefaults\": {\"arrowcolor\": \"#2a3f5f\", \"arrowhead\": 0, \"arrowwidth\": 1}, \"coloraxis\": {\"colorbar\": {\"outlinewidth\": 0, \"ticks\": \"\"}}, \"colorscale\": {\"diverging\": [[0, \"#8e0152\"], [0.1, \"#c51b7d\"], [0.2, \"#de77ae\"], [0.3, \"#f1b6da\"], [0.4, \"#fde0ef\"], [0.5, \"#f7f7f7\"], [0.6, \"#e6f5d0\"], [0.7, \"#b8e186\"], [0.8, \"#7fbc41\"], [0.9, \"#4d9221\"], [1, \"#276419\"]], \"sequential\": [[0.0, \"#0d0887\"], [0.1111111111111111, \"#46039f\"], [0.2222222222222222, \"#7201a8\"], [0.3333333333333333, \"#9c179e\"], [0.4444444444444444, \"#bd3786\"], [0.5555555555555556, \"#d8576b\"], [0.6666666666666666, \"#ed7953\"], [0.7777777777777778, \"#fb9f3a\"], [0.8888888888888888, \"#fdca26\"], [1.0, \"#f0f921\"]], \"sequentialminus\": [[0.0, \"#0d0887\"], [0.1111111111111111, \"#46039f\"], [0.2222222222222222, \"#7201a8\"], [0.3333333333333333, \"#9c179e\"], [0.4444444444444444, \"#bd3786\"], [0.5555555555555556, \"#d8576b\"], [0.6666666666666666, \"#ed7953\"], [0.7777777777777778, \"#fb9f3a\"], [0.8888888888888888, \"#fdca26\"], [1.0, \"#f0f921\"]]}, \"colorway\": [\"#636efa\", \"#EF553B\", \"#00cc96\", \"#ab63fa\", \"#FFA15A\", \"#19d3f3\", \"#FF6692\", \"#B6E880\", \"#FF97FF\", \"#FECB52\"], \"font\": {\"color\": \"#2a3f5f\"}, \"geo\": {\"bgcolor\": \"white\", \"lakecolor\": \"white\", \"landcolor\": \"#E5ECF6\", \"showlakes\": true, \"showland\": true, \"subunitcolor\": \"white\"}, \"hoverlabel\": {\"align\": \"left\"}, \"hovermode\": \"closest\", \"mapbox\": {\"style\": \"light\"}, \"paper_bgcolor\": \"white\", \"plot_bgcolor\": \"#E5ECF6\", \"polar\": {\"angularaxis\": {\"gridcolor\": \"white\", \"linecolor\": \"white\", \"ticks\": \"\"}, \"bgcolor\": \"#E5ECF6\", \"radialaxis\": {\"gridcolor\": \"white\", \"linecolor\": \"white\", \"ticks\": \"\"}}, \"scene\": {\"xaxis\": {\"backgroundcolor\": \"#E5ECF6\", \"gridcolor\": \"white\", \"gridwidth\": 2, \"linecolor\": \"white\", \"showbackground\": true, \"ticks\": \"\", \"zerolinecolor\": \"white\"}, \"yaxis\": {\"backgroundcolor\": \"#E5ECF6\", \"gridcolor\": \"white\", \"gridwidth\": 2, \"linecolor\": \"white\", \"showbackground\": true, \"ticks\": \"\", \"zerolinecolor\": \"white\"}, \"zaxis\": {\"backgroundcolor\": \"#E5ECF6\", \"gridcolor\": \"white\", \"gridwidth\": 2, \"linecolor\": \"white\", \"showbackground\": true, \"ticks\": \"\", \"zerolinecolor\": \"white\"}}, \"shapedefaults\": {\"line\": {\"color\": \"#2a3f5f\"}}, \"ternary\": {\"aaxis\": {\"gridcolor\": \"white\", \"linecolor\": \"white\", \"ticks\": \"\"}, \"baxis\": {\"gridcolor\": \"white\", \"linecolor\": \"white\", \"ticks\": \"\"}, \"bgcolor\": \"#E5ECF6\", \"caxis\": {\"gridcolor\": \"white\", \"linecolor\": \"white\", \"ticks\": \"\"}}, \"title\": {\"x\": 0.05}, \"xaxis\": {\"automargin\": true, \"gridcolor\": \"white\", \"linecolor\": \"white\", \"ticks\": \"\", \"title\": {\"standoff\": 15}, \"zerolinecolor\": \"white\", \"zerolinewidth\": 2}, \"yaxis\": {\"automargin\": true, \"gridcolor\": \"white\", \"linecolor\": \"white\", \"ticks\": \"\", \"title\": {\"standoff\": 15}, \"zerolinecolor\": \"white\", \"zerolinewidth\": 2}}}, \"title\": {\"text\": \"Train vs. Test Discriminator Loss\"}, \"width\": 1000, \"xaxis\": {\"title\": {\"text\": \"Number of training examples seen\"}}, \"yaxis\": {\"title\": {\"text\": \"Adversarial Loss\"}}},\n",
              "                        {\"responsive\": true}\n",
              "                    ).then(function(){\n",
              "                            \n",
              "var gd = document.getElementById('c8e33be9-4911-4860-9d43-d29ef5cc1439');\n",
              "var x = new MutationObserver(function (mutations, observer) {{\n",
              "        var display = window.getComputedStyle(gd).display;\n",
              "        if (!display || display === 'none') {{\n",
              "            console.log([gd, 'removed!']);\n",
              "            Plotly.purge(gd);\n",
              "            observer.disconnect();\n",
              "        }}\n",
              "}});\n",
              "\n",
              "// Listen for the removal of the full notebook cells\n",
              "var notebookContainer = gd.closest('#notebook-container');\n",
              "if (notebookContainer) {{\n",
              "    x.observe(notebookContainer, {childList: true});\n",
              "}}\n",
              "\n",
              "// Listen for the clearing of the current output cell\n",
              "var outputEl = gd.closest('.output');\n",
              "if (outputEl) {{\n",
              "    x.observe(outputEl, {childList: true});\n",
              "}}\n",
              "\n",
              "                        })\n",
              "                };\n",
              "                \n",
              "            </script>\n",
              "        </div>\n",
              "</body>\n",
              "</html>"
            ]
          },
          "metadata": {
            "tags": []
          }
        }
      ]
    },
    {
      "cell_type": "code",
      "metadata": {
        "id": "HXacxflBSTsy"
      },
      "source": [
        ""
      ],
      "execution_count": null,
      "outputs": []
    },
    {
      "cell_type": "code",
      "metadata": {
        "id": "ySOs7jSfSYGB"
      },
      "source": [
        "gen_output = netG(torch.randn(64,100,1,1).to(device))"
      ],
      "execution_count": null,
      "outputs": []
    },
    {
      "cell_type": "code",
      "metadata": {
        "colab": {
          "base_uri": "https://localhost:8080/"
        },
        "id": "hIaRx4NqSYGC",
        "outputId": "9fa01350-d8dc-4e02-a4cb-a4c80f38a2c1"
      },
      "source": [
        "print(gen_output.shape)"
      ],
      "execution_count": null,
      "outputs": [
        {
          "output_type": "stream",
          "text": [
            "torch.Size([64, 1, 64, 64])\n"
          ],
          "name": "stdout"
        }
      ]
    },
    {
      "cell_type": "code",
      "metadata": {
        "id": "CPzB-BMQSYGC"
      },
      "source": [
        "disc_output = netD(gen_output)"
      ],
      "execution_count": null,
      "outputs": []
    },
    {
      "cell_type": "code",
      "metadata": {
        "colab": {
          "base_uri": "https://localhost:8080/"
        },
        "id": "JSMYaTgGSYGC",
        "outputId": "fe26fe86-d6b1-4b12-ff9c-c71b7c029926"
      },
      "source": [
        "print(disc_output.shape)"
      ],
      "execution_count": null,
      "outputs": [
        {
          "output_type": "stream",
          "text": [
            "torch.Size([64, 1, 1, 1])\n"
          ],
          "name": "stdout"
        }
      ]
    },
    {
      "cell_type": "code",
      "metadata": {
        "colab": {
          "base_uri": "https://localhost:8080/",
          "height": 285
        },
        "id": "t3SLlOD4SYGC",
        "outputId": "bf60b5c0-b168-40ff-b03f-8ff45b0f1278"
      },
      "source": [
        "plt.imshow(gen_output[0].detach().cpu().numpy().transpose(1,2,0).squeeze(2))"
      ],
      "execution_count": null,
      "outputs": [
        {
          "output_type": "execute_result",
          "data": {
            "text/plain": [
              "<matplotlib.image.AxesImage at 0x7fe5276e0510>"
            ]
          },
          "metadata": {
            "tags": []
          },
          "execution_count": 66
        },
        {
          "output_type": "display_data",
          "data": {
            "image/png": "[encoded data removed]",
            "text/plain": [
              "<Figure size 432x288 with 1 Axes>"
            ]
          },
          "metadata": {
            "tags": [],
            "needs_background": "light"
          }
        }
      ]
    },
    {
      "cell_type": "code",
      "metadata": {
        "colab": {
          "base_uri": "https://localhost:8080/"
        },
        "id": "34PmGCTuSYGD",
        "outputId": "c1647d8a-dbb9-4033-fc22-91accadbd4a5"
      },
      "source": [
        "print(disc_output[0])"
      ],
      "execution_count": null,
      "outputs": [
        {
          "output_type": "stream",
          "text": [
            "tensor([[[0.3949]]], device='cuda:0', grad_fn=<SelectBackward>)\n"
          ],
          "name": "stdout"
        }
      ]
    },
    {
      "cell_type": "code",
      "metadata": {
        "colab": {
          "base_uri": "https://localhost:8080/"
        },
        "id": "MUkdDVCGDG4h",
        "outputId": "6531714c-1c06-41cd-cb36-7ba04859cbc9"
      },
      "source": [
        "from google.colab import drive\n",
        "drive.mount('/content/drive')"
      ],
      "execution_count": null,
      "outputs": [
        {
          "output_type": "stream",
          "text": [
            "Mounted at /content/drive\n"
          ],
          "name": "stdout"
        }
      ]
    },
    {
      "cell_type": "code",
      "metadata": {
        "id": "ugv6CJ5UAw4N"
      },
      "source": [
        "torch.save({\n",
        "            'discriminator_state_dict': netD.state_dict(),\n",
        "            'generator_state_dict': netG.state_dict(),\n",
        "            'optimizer_G_state_dict': optimizerG.state_dict(),\n",
        "            'optimizer_D_state_dict': optimizerD.state_dict(),\n",
        "            'epoch': epoch+1,\n",
        "            }, \"/content/drive/MyDrive/MNIST_data/checkpt{}.pt\".format(2))"
      ],
      "execution_count": null,
      "outputs": []
    },
    {
      "cell_type": "code",
      "metadata": {
        "id": "TzZZ-JA1d8gb"
      },
      "source": [
        ""
      ],
      "execution_count": null,
      "outputs": []
    },
    {
      "cell_type": "code",
      "metadata": {
        "id": "WMCgR4FpuQzw"
      },
      "source": [
        "% cd /content/dataset/img_align_celeba\n",
        "% ls"
      ],
      "execution_count": null,
      "outputs": []
    },
    {
      "cell_type": "code",
      "metadata": {
        "id": "x9tTWS8_TKcv"
      },
      "source": [
        "### inspecting the image properties of celebA dataset\n",
        "\n",
        "from PIL import Image\n",
        "\n",
        "im_temp = Image.open(\"/content/dataset/img_align_celeba/033275.jpg\")\n",
        "trans1 = transforms.ToTensor()\n",
        "trans2 = transforms.Compose([\n",
        "                                            transforms.Resize((im_height,im_width)),\n",
        "                                            transforms.CenterCrop((im_shape)),\n",
        "                                            transforms.ToTensor(),\n",
        "                                            transforms.Normalize(mean,std)\n",
        "    ])\n",
        "print(trans2(im_temp).shape)\n",
        "plt.imshow(trans2(im_temp))"
      ],
      "execution_count": null,
      "outputs": []
    },
    {
      "cell_type": "code",
      "metadata": {
        "id": "86_TAvKTuqPb"
      },
      "source": [
        ""
      ],
      "execution_count": null,
      "outputs": []
    }
  ]
}