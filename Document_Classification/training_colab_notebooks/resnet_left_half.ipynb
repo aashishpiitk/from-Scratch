{
  "nbformat": 4,
  "nbformat_minor": 0,
  "metadata": {
    "colab": {
      "name": "resnet_left_half.ipynb",
      "provenance": [],
      "authorship_tag": "ABX9TyOIu4DHjzyO04l6uYX+fe2J",
      "include_colab_link": true
    },
    "kernelspec": {
      "name": "python3",
      "display_name": "Python 3"
    },
    "language_info": {
      "name": "python"
    },
    "widgets": {
      "application/vnd.jupyter.widget-state+json": {
        "ccc6190f94424f7688a19242ecb1fb9c": {
          "model_module": "@jupyter-widgets/controls",
          "model_name": "HBoxModel",
          "state": {
            "_view_name": "HBoxView",
            "_dom_classes": [],
            "_model_name": "HBoxModel",
            "_view_module": "@jupyter-widgets/controls",
            "_model_module_version": "1.5.0",
            "_view_count": null,
            "_view_module_version": "1.5.0",
            "box_style": "",
            "layout": "IPY_MODEL_b5ba484517c24eee93a2ac6809497a7b",
            "_model_module": "@jupyter-widgets/controls",
            "children": [
              "IPY_MODEL_7948d46201684d559d1cf57549a50a9a",
              "IPY_MODEL_baab47528cc24e6abe1161bc42fa8aa3"
            ]
          }
        },
        "b5ba484517c24eee93a2ac6809497a7b": {
          "model_module": "@jupyter-widgets/base",
          "model_name": "LayoutModel",
          "state": {
            "_view_name": "LayoutView",
            "grid_template_rows": null,
            "right": null,
            "justify_content": null,
            "_view_module": "@jupyter-widgets/base",
            "overflow": null,
            "_model_module_version": "1.2.0",
            "_view_count": null,
            "flex_flow": null,
            "width": null,
            "min_width": null,
            "border": null,
            "align_items": null,
            "bottom": null,
            "_model_module": "@jupyter-widgets/base",
            "top": null,
            "grid_column": null,
            "overflow_y": null,
            "overflow_x": null,
            "grid_auto_flow": null,
            "grid_area": null,
            "grid_template_columns": null,
            "flex": null,
            "_model_name": "LayoutModel",
            "justify_items": null,
            "grid_row": null,
            "max_height": null,
            "align_content": null,
            "visibility": null,
            "align_self": null,
            "height": null,
            "min_height": null,
            "padding": null,
            "grid_auto_rows": null,
            "grid_gap": null,
            "max_width": null,
            "order": null,
            "_view_module_version": "1.2.0",
            "grid_template_areas": null,
            "object_position": null,
            "object_fit": null,
            "grid_auto_columns": null,
            "margin": null,
            "display": null,
            "left": null
          }
        },
        "7948d46201684d559d1cf57549a50a9a": {
          "model_module": "@jupyter-widgets/controls",
          "model_name": "FloatProgressModel",
          "state": {
            "_view_name": "ProgressView",
            "style": "IPY_MODEL_cccc6281068c4bada9e30d323d61df46",
            "_dom_classes": [],
            "description": "100%",
            "_model_name": "FloatProgressModel",
            "bar_style": "success",
            "max": 46827520,
            "_view_module": "@jupyter-widgets/controls",
            "_model_module_version": "1.5.0",
            "value": 46827520,
            "_view_count": null,
            "_view_module_version": "1.5.0",
            "orientation": "horizontal",
            "min": 0,
            "description_tooltip": null,
            "_model_module": "@jupyter-widgets/controls",
            "layout": "IPY_MODEL_36c8ac06a09248128b958fed5262a8a4"
          }
        },
        "baab47528cc24e6abe1161bc42fa8aa3": {
          "model_module": "@jupyter-widgets/controls",
          "model_name": "HTMLModel",
          "state": {
            "_view_name": "HTMLView",
            "style": "IPY_MODEL_4353a822c24e43109f0e2f6adb8bda1b",
            "_dom_classes": [],
            "description": "",
            "_model_name": "HTMLModel",
            "placeholder": "​",
            "_view_module": "@jupyter-widgets/controls",
            "_model_module_version": "1.5.0",
            "value": " 44.7M/44.7M [00:00&lt;00:00, 53.2MB/s]",
            "_view_count": null,
            "_view_module_version": "1.5.0",
            "description_tooltip": null,
            "_model_module": "@jupyter-widgets/controls",
            "layout": "IPY_MODEL_693a30825951462b8a4b12a5853c7e20"
          }
        },
        "cccc6281068c4bada9e30d323d61df46": {
          "model_module": "@jupyter-widgets/controls",
          "model_name": "ProgressStyleModel",
          "state": {
            "_view_name": "StyleView",
            "_model_name": "ProgressStyleModel",
            "description_width": "initial",
            "_view_module": "@jupyter-widgets/base",
            "_model_module_version": "1.5.0",
            "_view_count": null,
            "_view_module_version": "1.2.0",
            "bar_color": null,
            "_model_module": "@jupyter-widgets/controls"
          }
        },
        "36c8ac06a09248128b958fed5262a8a4": {
          "model_module": "@jupyter-widgets/base",
          "model_name": "LayoutModel",
          "state": {
            "_view_name": "LayoutView",
            "grid_template_rows": null,
            "right": null,
            "justify_content": null,
            "_view_module": "@jupyter-widgets/base",
            "overflow": null,
            "_model_module_version": "1.2.0",
            "_view_count": null,
            "flex_flow": null,
            "width": null,
            "min_width": null,
            "border": null,
            "align_items": null,
            "bottom": null,
            "_model_module": "@jupyter-widgets/base",
            "top": null,
            "grid_column": null,
            "overflow_y": null,
            "overflow_x": null,
            "grid_auto_flow": null,
            "grid_area": null,
            "grid_template_columns": null,
            "flex": null,
            "_model_name": "LayoutModel",
            "justify_items": null,
            "grid_row": null,
            "max_height": null,
            "align_content": null,
            "visibility": null,
            "align_self": null,
            "height": null,
            "min_height": null,
            "padding": null,
            "grid_auto_rows": null,
            "grid_gap": null,
            "max_width": null,
            "order": null,
            "_view_module_version": "1.2.0",
            "grid_template_areas": null,
            "object_position": null,
            "object_fit": null,
            "grid_auto_columns": null,
            "margin": null,
            "display": null,
            "left": null
          }
        },
        "4353a822c24e43109f0e2f6adb8bda1b": {
          "model_module": "@jupyter-widgets/controls",
          "model_name": "DescriptionStyleModel",
          "state": {
            "_view_name": "StyleView",
            "_model_name": "DescriptionStyleModel",
            "description_width": "",
            "_view_module": "@jupyter-widgets/base",
            "_model_module_version": "1.5.0",
            "_view_count": null,
            "_view_module_version": "1.2.0",
            "_model_module": "@jupyter-widgets/controls"
          }
        },
        "693a30825951462b8a4b12a5853c7e20": {
          "model_module": "@jupyter-widgets/base",
          "model_name": "LayoutModel",
          "state": {
            "_view_name": "LayoutView",
            "grid_template_rows": null,
            "right": null,
            "justify_content": null,
            "_view_module": "@jupyter-widgets/base",
            "overflow": null,
            "_model_module_version": "1.2.0",
            "_view_count": null,
            "flex_flow": null,
            "width": null,
            "min_width": null,
            "border": null,
            "align_items": null,
            "bottom": null,
            "_model_module": "@jupyter-widgets/base",
            "top": null,
            "grid_column": null,
            "overflow_y": null,
            "overflow_x": null,
            "grid_auto_flow": null,
            "grid_area": null,
            "grid_template_columns": null,
            "flex": null,
            "_model_name": "LayoutModel",
            "justify_items": null,
            "grid_row": null,
            "max_height": null,
            "align_content": null,
            "visibility": null,
            "align_self": null,
            "height": null,
            "min_height": null,
            "padding": null,
            "grid_auto_rows": null,
            "grid_gap": null,
            "max_width": null,
            "order": null,
            "_view_module_version": "1.2.0",
            "grid_template_areas": null,
            "object_position": null,
            "object_fit": null,
            "grid_auto_columns": null,
            "margin": null,
            "display": null,
            "left": null
          }
        },
        "05b26074949245bca946f1f01ba4e611": {
          "model_module": "@jupyter-widgets/controls",
          "model_name": "HBoxModel",
          "state": {
            "_view_name": "HBoxView",
            "_dom_classes": [],
            "_model_name": "HBoxModel",
            "_view_module": "@jupyter-widgets/controls",
            "_model_module_version": "1.5.0",
            "_view_count": null,
            "_view_module_version": "1.5.0",
            "box_style": "",
            "layout": "IPY_MODEL_4f4844905efd450f9fbaf95f3d146c1e",
            "_model_module": "@jupyter-widgets/controls",
            "children": [
              "IPY_MODEL_43e608e52f384e89973175976281bdd2",
              "IPY_MODEL_8bdc7bfdf39a4f65860121767f0c795b"
            ]
          }
        },
        "4f4844905efd450f9fbaf95f3d146c1e": {
          "model_module": "@jupyter-widgets/base",
          "model_name": "LayoutModel",
          "state": {
            "_view_name": "LayoutView",
            "grid_template_rows": null,
            "right": null,
            "justify_content": null,
            "_view_module": "@jupyter-widgets/base",
            "overflow": null,
            "_model_module_version": "1.2.0",
            "_view_count": null,
            "flex_flow": null,
            "width": null,
            "min_width": null,
            "border": null,
            "align_items": null,
            "bottom": null,
            "_model_module": "@jupyter-widgets/base",
            "top": null,
            "grid_column": null,
            "overflow_y": null,
            "overflow_x": null,
            "grid_auto_flow": null,
            "grid_area": null,
            "grid_template_columns": null,
            "flex": null,
            "_model_name": "LayoutModel",
            "justify_items": null,
            "grid_row": null,
            "max_height": null,
            "align_content": null,
            "visibility": null,
            "align_self": null,
            "height": null,
            "min_height": null,
            "padding": null,
            "grid_auto_rows": null,
            "grid_gap": null,
            "max_width": null,
            "order": null,
            "_view_module_version": "1.2.0",
            "grid_template_areas": null,
            "object_position": null,
            "object_fit": null,
            "grid_auto_columns": null,
            "margin": null,
            "display": null,
            "left": null
          }
        },
        "43e608e52f384e89973175976281bdd2": {
          "model_module": "@jupyter-widgets/controls",
          "model_name": "FloatProgressModel",
          "state": {
            "_view_name": "ProgressView",
            "style": "IPY_MODEL_182c7b13e12344698b5123f626937a1f",
            "_dom_classes": [],
            "description": "Training Epoch 0 : 100%",
            "_model_name": "FloatProgressModel",
            "bar_style": "success",
            "max": 2125,
            "_view_module": "@jupyter-widgets/controls",
            "_model_module_version": "1.5.0",
            "value": 2125,
            "_view_count": null,
            "_view_module_version": "1.5.0",
            "orientation": "horizontal",
            "min": 0,
            "description_tooltip": null,
            "_model_module": "@jupyter-widgets/controls",
            "layout": "IPY_MODEL_69954d182e3b40a39e68388d8aa7745a"
          }
        },
        "8bdc7bfdf39a4f65860121767f0c795b": {
          "model_module": "@jupyter-widgets/controls",
          "model_name": "HTMLModel",
          "state": {
            "_view_name": "HTMLView",
            "style": "IPY_MODEL_d18f30d480644e9998841cbaa41a0444",
            "_dom_classes": [],
            "description": "",
            "_model_name": "HTMLModel",
            "placeholder": "​",
            "_view_module": "@jupyter-widgets/controls",
            "_model_module_version": "1.5.0",
            "value": " 2125/2125 [10:27&lt;00:00,  3.38it/s, acc=0.705, loss=1.03]",
            "_view_count": null,
            "_view_module_version": "1.5.0",
            "description_tooltip": null,
            "_model_module": "@jupyter-widgets/controls",
            "layout": "IPY_MODEL_0c6bdc52d6d44951a3f84571e815b771"
          }
        },
        "182c7b13e12344698b5123f626937a1f": {
          "model_module": "@jupyter-widgets/controls",
          "model_name": "ProgressStyleModel",
          "state": {
            "_view_name": "StyleView",
            "_model_name": "ProgressStyleModel",
            "description_width": "initial",
            "_view_module": "@jupyter-widgets/base",
            "_model_module_version": "1.5.0",
            "_view_count": null,
            "_view_module_version": "1.2.0",
            "bar_color": null,
            "_model_module": "@jupyter-widgets/controls"
          }
        },
        "69954d182e3b40a39e68388d8aa7745a": {
          "model_module": "@jupyter-widgets/base",
          "model_name": "LayoutModel",
          "state": {
            "_view_name": "LayoutView",
            "grid_template_rows": null,
            "right": null,
            "justify_content": null,
            "_view_module": "@jupyter-widgets/base",
            "overflow": null,
            "_model_module_version": "1.2.0",
            "_view_count": null,
            "flex_flow": null,
            "width": null,
            "min_width": null,
            "border": null,
            "align_items": null,
            "bottom": null,
            "_model_module": "@jupyter-widgets/base",
            "top": null,
            "grid_column": null,
            "overflow_y": null,
            "overflow_x": null,
            "grid_auto_flow": null,
            "grid_area": null,
            "grid_template_columns": null,
            "flex": null,
            "_model_name": "LayoutModel",
            "justify_items": null,
            "grid_row": null,
            "max_height": null,
            "align_content": null,
            "visibility": null,
            "align_self": null,
            "height": null,
            "min_height": null,
            "padding": null,
            "grid_auto_rows": null,
            "grid_gap": null,
            "max_width": null,
            "order": null,
            "_view_module_version": "1.2.0",
            "grid_template_areas": null,
            "object_position": null,
            "object_fit": null,
            "grid_auto_columns": null,
            "margin": null,
            "display": null,
            "left": null
          }
        },
        "d18f30d480644e9998841cbaa41a0444": {
          "model_module": "@jupyter-widgets/controls",
          "model_name": "DescriptionStyleModel",
          "state": {
            "_view_name": "StyleView",
            "_model_name": "DescriptionStyleModel",
            "description_width": "",
            "_view_module": "@jupyter-widgets/base",
            "_model_module_version": "1.5.0",
            "_view_count": null,
            "_view_module_version": "1.2.0",
            "_model_module": "@jupyter-widgets/controls"
          }
        },
        "0c6bdc52d6d44951a3f84571e815b771": {
          "model_module": "@jupyter-widgets/base",
          "model_name": "LayoutModel",
          "state": {
            "_view_name": "LayoutView",
            "grid_template_rows": null,
            "right": null,
            "justify_content": null,
            "_view_module": "@jupyter-widgets/base",
            "overflow": null,
            "_model_module_version": "1.2.0",
            "_view_count": null,
            "flex_flow": null,
            "width": null,
            "min_width": null,
            "border": null,
            "align_items": null,
            "bottom": null,
            "_model_module": "@jupyter-widgets/base",
            "top": null,
            "grid_column": null,
            "overflow_y": null,
            "overflow_x": null,
            "grid_auto_flow": null,
            "grid_area": null,
            "grid_template_columns": null,
            "flex": null,
            "_model_name": "LayoutModel",
            "justify_items": null,
            "grid_row": null,
            "max_height": null,
            "align_content": null,
            "visibility": null,
            "align_self": null,
            "height": null,
            "min_height": null,
            "padding": null,
            "grid_auto_rows": null,
            "grid_gap": null,
            "max_width": null,
            "order": null,
            "_view_module_version": "1.2.0",
            "grid_template_areas": null,
            "object_position": null,
            "object_fit": null,
            "grid_auto_columns": null,
            "margin": null,
            "display": null,
            "left": null
          }
        },
        "0a0ef5bc73a944cf839885a7f440880f": {
          "model_module": "@jupyter-widgets/controls",
          "model_name": "HBoxModel",
          "state": {
            "_view_name": "HBoxView",
            "_dom_classes": [],
            "_model_name": "HBoxModel",
            "_view_module": "@jupyter-widgets/controls",
            "_model_module_version": "1.5.0",
            "_view_count": null,
            "_view_module_version": "1.5.0",
            "box_style": "",
            "layout": "IPY_MODEL_2858241592cc4a6e81b047baef057380",
            "_model_module": "@jupyter-widgets/controls",
            "children": [
              "IPY_MODEL_e431c668d6db4c0a8cdde809d1107d1d",
              "IPY_MODEL_87ca2bef99884b4592343b4aa6c1b99e"
            ]
          }
        },
        "2858241592cc4a6e81b047baef057380": {
          "model_module": "@jupyter-widgets/base",
          "model_name": "LayoutModel",
          "state": {
            "_view_name": "LayoutView",
            "grid_template_rows": null,
            "right": null,
            "justify_content": null,
            "_view_module": "@jupyter-widgets/base",
            "overflow": null,
            "_model_module_version": "1.2.0",
            "_view_count": null,
            "flex_flow": null,
            "width": null,
            "min_width": null,
            "border": null,
            "align_items": null,
            "bottom": null,
            "_model_module": "@jupyter-widgets/base",
            "top": null,
            "grid_column": null,
            "overflow_y": null,
            "overflow_x": null,
            "grid_auto_flow": null,
            "grid_area": null,
            "grid_template_columns": null,
            "flex": null,
            "_model_name": "LayoutModel",
            "justify_items": null,
            "grid_row": null,
            "max_height": null,
            "align_content": null,
            "visibility": null,
            "align_self": null,
            "height": null,
            "min_height": null,
            "padding": null,
            "grid_auto_rows": null,
            "grid_gap": null,
            "max_width": null,
            "order": null,
            "_view_module_version": "1.2.0",
            "grid_template_areas": null,
            "object_position": null,
            "object_fit": null,
            "grid_auto_columns": null,
            "margin": null,
            "display": null,
            "left": null
          }
        },
        "e431c668d6db4c0a8cdde809d1107d1d": {
          "model_module": "@jupyter-widgets/controls",
          "model_name": "FloatProgressModel",
          "state": {
            "_view_name": "ProgressView",
            "style": "IPY_MODEL_5ae38c408f0d45d6855444aa0fc4f412",
            "_dom_classes": [],
            "description": "Testing Epoch 0 : 100%",
            "_model_name": "FloatProgressModel",
            "bar_style": "success",
            "max": 375,
            "_view_module": "@jupyter-widgets/controls",
            "_model_module_version": "1.5.0",
            "value": 375,
            "_view_count": null,
            "_view_module_version": "1.5.0",
            "orientation": "horizontal",
            "min": 0,
            "description_tooltip": null,
            "_model_module": "@jupyter-widgets/controls",
            "layout": "IPY_MODEL_daff436cb50d4031ad7f7f3d795b1891"
          }
        },
        "87ca2bef99884b4592343b4aa6c1b99e": {
          "model_module": "@jupyter-widgets/controls",
          "model_name": "HTMLModel",
          "state": {
            "_view_name": "HTMLView",
            "style": "IPY_MODEL_4334d1e52fd14fe2a6a6a5a9a6828cfb",
            "_dom_classes": [],
            "description": "",
            "_model_name": "HTMLModel",
            "placeholder": "​",
            "_view_module": "@jupyter-widgets/controls",
            "_model_module_version": "1.5.0",
            "value": " 375/375 [01:31&lt;00:00,  4.11it/s, acc=0.771, loss=0.796]",
            "_view_count": null,
            "_view_module_version": "1.5.0",
            "description_tooltip": null,
            "_model_module": "@jupyter-widgets/controls",
            "layout": "IPY_MODEL_c0aac93c1cab4b389474c0d0518b4032"
          }
        },
        "5ae38c408f0d45d6855444aa0fc4f412": {
          "model_module": "@jupyter-widgets/controls",
          "model_name": "ProgressStyleModel",
          "state": {
            "_view_name": "StyleView",
            "_model_name": "ProgressStyleModel",
            "description_width": "initial",
            "_view_module": "@jupyter-widgets/base",
            "_model_module_version": "1.5.0",
            "_view_count": null,
            "_view_module_version": "1.2.0",
            "bar_color": null,
            "_model_module": "@jupyter-widgets/controls"
          }
        },
        "daff436cb50d4031ad7f7f3d795b1891": {
          "model_module": "@jupyter-widgets/base",
          "model_name": "LayoutModel",
          "state": {
            "_view_name": "LayoutView",
            "grid_template_rows": null,
            "right": null,
            "justify_content": null,
            "_view_module": "@jupyter-widgets/base",
            "overflow": null,
            "_model_module_version": "1.2.0",
            "_view_count": null,
            "flex_flow": null,
            "width": null,
            "min_width": null,
            "border": null,
            "align_items": null,
            "bottom": null,
            "_model_module": "@jupyter-widgets/base",
            "top": null,
            "grid_column": null,
            "overflow_y": null,
            "overflow_x": null,
            "grid_auto_flow": null,
            "grid_area": null,
            "grid_template_columns": null,
            "flex": null,
            "_model_name": "LayoutModel",
            "justify_items": null,
            "grid_row": null,
            "max_height": null,
            "align_content": null,
            "visibility": null,
            "align_self": null,
            "height": null,
            "min_height": null,
            "padding": null,
            "grid_auto_rows": null,
            "grid_gap": null,
            "max_width": null,
            "order": null,
            "_view_module_version": "1.2.0",
            "grid_template_areas": null,
            "object_position": null,
            "object_fit": null,
            "grid_auto_columns": null,
            "margin": null,
            "display": null,
            "left": null
          }
        },
        "4334d1e52fd14fe2a6a6a5a9a6828cfb": {
          "model_module": "@jupyter-widgets/controls",
          "model_name": "DescriptionStyleModel",
          "state": {
            "_view_name": "StyleView",
            "_model_name": "DescriptionStyleModel",
            "description_width": "",
            "_view_module": "@jupyter-widgets/base",
            "_model_module_version": "1.5.0",
            "_view_count": null,
            "_view_module_version": "1.2.0",
            "_model_module": "@jupyter-widgets/controls"
          }
        },
        "c0aac93c1cab4b389474c0d0518b4032": {
          "model_module": "@jupyter-widgets/base",
          "model_name": "LayoutModel",
          "state": {
            "_view_name": "LayoutView",
            "grid_template_rows": null,
            "right": null,
            "justify_content": null,
            "_view_module": "@jupyter-widgets/base",
            "overflow": null,
            "_model_module_version": "1.2.0",
            "_view_count": null,
            "flex_flow": null,
            "width": null,
            "min_width": null,
            "border": null,
            "align_items": null,
            "bottom": null,
            "_model_module": "@jupyter-widgets/base",
            "top": null,
            "grid_column": null,
            "overflow_y": null,
            "overflow_x": null,
            "grid_auto_flow": null,
            "grid_area": null,
            "grid_template_columns": null,
            "flex": null,
            "_model_name": "LayoutModel",
            "justify_items": null,
            "grid_row": null,
            "max_height": null,
            "align_content": null,
            "visibility": null,
            "align_self": null,
            "height": null,
            "min_height": null,
            "padding": null,
            "grid_auto_rows": null,
            "grid_gap": null,
            "max_width": null,
            "order": null,
            "_view_module_version": "1.2.0",
            "grid_template_areas": null,
            "object_position": null,
            "object_fit": null,
            "grid_auto_columns": null,
            "margin": null,
            "display": null,
            "left": null
          }
        },
        "56620f5e3dc04b0288acd5f6a80391ac": {
          "model_module": "@jupyter-widgets/controls",
          "model_name": "HBoxModel",
          "state": {
            "_view_name": "HBoxView",
            "_dom_classes": [],
            "_model_name": "HBoxModel",
            "_view_module": "@jupyter-widgets/controls",
            "_model_module_version": "1.5.0",
            "_view_count": null,
            "_view_module_version": "1.5.0",
            "box_style": "",
            "layout": "IPY_MODEL_b7028cec59fb4b67b161eb224cb4b292",
            "_model_module": "@jupyter-widgets/controls",
            "children": [
              "IPY_MODEL_e063c467b6f04a37b322c9c2b5de9e0a",
              "IPY_MODEL_9090b9bec6a346d798395bb7daf65eb1"
            ]
          }
        },
        "b7028cec59fb4b67b161eb224cb4b292": {
          "model_module": "@jupyter-widgets/base",
          "model_name": "LayoutModel",
          "state": {
            "_view_name": "LayoutView",
            "grid_template_rows": null,
            "right": null,
            "justify_content": null,
            "_view_module": "@jupyter-widgets/base",
            "overflow": null,
            "_model_module_version": "1.2.0",
            "_view_count": null,
            "flex_flow": null,
            "width": null,
            "min_width": null,
            "border": null,
            "align_items": null,
            "bottom": null,
            "_model_module": "@jupyter-widgets/base",
            "top": null,
            "grid_column": null,
            "overflow_y": null,
            "overflow_x": null,
            "grid_auto_flow": null,
            "grid_area": null,
            "grid_template_columns": null,
            "flex": null,
            "_model_name": "LayoutModel",
            "justify_items": null,
            "grid_row": null,
            "max_height": null,
            "align_content": null,
            "visibility": null,
            "align_self": null,
            "height": null,
            "min_height": null,
            "padding": null,
            "grid_auto_rows": null,
            "grid_gap": null,
            "max_width": null,
            "order": null,
            "_view_module_version": "1.2.0",
            "grid_template_areas": null,
            "object_position": null,
            "object_fit": null,
            "grid_auto_columns": null,
            "margin": null,
            "display": null,
            "left": null
          }
        },
        "e063c467b6f04a37b322c9c2b5de9e0a": {
          "model_module": "@jupyter-widgets/controls",
          "model_name": "FloatProgressModel",
          "state": {
            "_view_name": "ProgressView",
            "style": "IPY_MODEL_ee1f6596336a4041a84616bd68354d3b",
            "_dom_classes": [],
            "description": "Training Epoch 1 : 100%",
            "_model_name": "FloatProgressModel",
            "bar_style": "success",
            "max": 2125,
            "_view_module": "@jupyter-widgets/controls",
            "_model_module_version": "1.5.0",
            "value": 2125,
            "_view_count": null,
            "_view_module_version": "1.5.0",
            "orientation": "horizontal",
            "min": 0,
            "description_tooltip": null,
            "_model_module": "@jupyter-widgets/controls",
            "layout": "IPY_MODEL_d504ac5240234f7e8283b7f68c789f6e"
          }
        },
        "9090b9bec6a346d798395bb7daf65eb1": {
          "model_module": "@jupyter-widgets/controls",
          "model_name": "HTMLModel",
          "state": {
            "_view_name": "HTMLView",
            "style": "IPY_MODEL_5c04321c13df4bffaff321c711a36017",
            "_dom_classes": [],
            "description": "",
            "_model_name": "HTMLModel",
            "placeholder": "​",
            "_view_module": "@jupyter-widgets/controls",
            "_model_module_version": "1.5.0",
            "value": " 2125/2125 [08:55&lt;00:00,  3.97it/s, acc=0.806, loss=0.645]",
            "_view_count": null,
            "_view_module_version": "1.5.0",
            "description_tooltip": null,
            "_model_module": "@jupyter-widgets/controls",
            "layout": "IPY_MODEL_eeeb46a54267482e97771d1c47dde4bf"
          }
        },
        "ee1f6596336a4041a84616bd68354d3b": {
          "model_module": "@jupyter-widgets/controls",
          "model_name": "ProgressStyleModel",
          "state": {
            "_view_name": "StyleView",
            "_model_name": "ProgressStyleModel",
            "description_width": "initial",
            "_view_module": "@jupyter-widgets/base",
            "_model_module_version": "1.5.0",
            "_view_count": null,
            "_view_module_version": "1.2.0",
            "bar_color": null,
            "_model_module": "@jupyter-widgets/controls"
          }
        },
        "d504ac5240234f7e8283b7f68c789f6e": {
          "model_module": "@jupyter-widgets/base",
          "model_name": "LayoutModel",
          "state": {
            "_view_name": "LayoutView",
            "grid_template_rows": null,
            "right": null,
            "justify_content": null,
            "_view_module": "@jupyter-widgets/base",
            "overflow": null,
            "_model_module_version": "1.2.0",
            "_view_count": null,
            "flex_flow": null,
            "width": null,
            "min_width": null,
            "border": null,
            "align_items": null,
            "bottom": null,
            "_model_module": "@jupyter-widgets/base",
            "top": null,
            "grid_column": null,
            "overflow_y": null,
            "overflow_x": null,
            "grid_auto_flow": null,
            "grid_area": null,
            "grid_template_columns": null,
            "flex": null,
            "_model_name": "LayoutModel",
            "justify_items": null,
            "grid_row": null,
            "max_height": null,
            "align_content": null,
            "visibility": null,
            "align_self": null,
            "height": null,
            "min_height": null,
            "padding": null,
            "grid_auto_rows": null,
            "grid_gap": null,
            "max_width": null,
            "order": null,
            "_view_module_version": "1.2.0",
            "grid_template_areas": null,
            "object_position": null,
            "object_fit": null,
            "grid_auto_columns": null,
            "margin": null,
            "display": null,
            "left": null
          }
        },
        "5c04321c13df4bffaff321c711a36017": {
          "model_module": "@jupyter-widgets/controls",
          "model_name": "DescriptionStyleModel",
          "state": {
            "_view_name": "StyleView",
            "_model_name": "DescriptionStyleModel",
            "description_width": "",
            "_view_module": "@jupyter-widgets/base",
            "_model_module_version": "1.5.0",
            "_view_count": null,
            "_view_module_version": "1.2.0",
            "_model_module": "@jupyter-widgets/controls"
          }
        },
        "eeeb46a54267482e97771d1c47dde4bf": {
          "model_module": "@jupyter-widgets/base",
          "model_name": "LayoutModel",
          "state": {
            "_view_name": "LayoutView",
            "grid_template_rows": null,
            "right": null,
            "justify_content": null,
            "_view_module": "@jupyter-widgets/base",
            "overflow": null,
            "_model_module_version": "1.2.0",
            "_view_count": null,
            "flex_flow": null,
            "width": null,
            "min_width": null,
            "border": null,
            "align_items": null,
            "bottom": null,
            "_model_module": "@jupyter-widgets/base",
            "top": null,
            "grid_column": null,
            "overflow_y": null,
            "overflow_x": null,
            "grid_auto_flow": null,
            "grid_area": null,
            "grid_template_columns": null,
            "flex": null,
            "_model_name": "LayoutModel",
            "justify_items": null,
            "grid_row": null,
            "max_height": null,
            "align_content": null,
            "visibility": null,
            "align_self": null,
            "height": null,
            "min_height": null,
            "padding": null,
            "grid_auto_rows": null,
            "grid_gap": null,
            "max_width": null,
            "order": null,
            "_view_module_version": "1.2.0",
            "grid_template_areas": null,
            "object_position": null,
            "object_fit": null,
            "grid_auto_columns": null,
            "margin": null,
            "display": null,
            "left": null
          }
        },
        "091037e06c7f45728d24d1a87022bfb0": {
          "model_module": "@jupyter-widgets/controls",
          "model_name": "HBoxModel",
          "state": {
            "_view_name": "HBoxView",
            "_dom_classes": [],
            "_model_name": "HBoxModel",
            "_view_module": "@jupyter-widgets/controls",
            "_model_module_version": "1.5.0",
            "_view_count": null,
            "_view_module_version": "1.5.0",
            "box_style": "",
            "layout": "IPY_MODEL_48dfebf1e34d4d3da35f30fed5252702",
            "_model_module": "@jupyter-widgets/controls",
            "children": [
              "IPY_MODEL_53efb02808b04498b26a9bb9cb16e256",
              "IPY_MODEL_563096debbb74610849db08052a17638"
            ]
          }
        },
        "48dfebf1e34d4d3da35f30fed5252702": {
          "model_module": "@jupyter-widgets/base",
          "model_name": "LayoutModel",
          "state": {
            "_view_name": "LayoutView",
            "grid_template_rows": null,
            "right": null,
            "justify_content": null,
            "_view_module": "@jupyter-widgets/base",
            "overflow": null,
            "_model_module_version": "1.2.0",
            "_view_count": null,
            "flex_flow": null,
            "width": null,
            "min_width": null,
            "border": null,
            "align_items": null,
            "bottom": null,
            "_model_module": "@jupyter-widgets/base",
            "top": null,
            "grid_column": null,
            "overflow_y": null,
            "overflow_x": null,
            "grid_auto_flow": null,
            "grid_area": null,
            "grid_template_columns": null,
            "flex": null,
            "_model_name": "LayoutModel",
            "justify_items": null,
            "grid_row": null,
            "max_height": null,
            "align_content": null,
            "visibility": null,
            "align_self": null,
            "height": null,
            "min_height": null,
            "padding": null,
            "grid_auto_rows": null,
            "grid_gap": null,
            "max_width": null,
            "order": null,
            "_view_module_version": "1.2.0",
            "grid_template_areas": null,
            "object_position": null,
            "object_fit": null,
            "grid_auto_columns": null,
            "margin": null,
            "display": null,
            "left": null
          }
        },
        "53efb02808b04498b26a9bb9cb16e256": {
          "model_module": "@jupyter-widgets/controls",
          "model_name": "FloatProgressModel",
          "state": {
            "_view_name": "ProgressView",
            "style": "IPY_MODEL_1bf2e04239734c66927183bd5aed2766",
            "_dom_classes": [],
            "description": "Testing Epoch 1 : 100%",
            "_model_name": "FloatProgressModel",
            "bar_style": "success",
            "max": 375,
            "_view_module": "@jupyter-widgets/controls",
            "_model_module_version": "1.5.0",
            "value": 375,
            "_view_count": null,
            "_view_module_version": "1.5.0",
            "orientation": "horizontal",
            "min": 0,
            "description_tooltip": null,
            "_model_module": "@jupyter-widgets/controls",
            "layout": "IPY_MODEL_46d297d1732c4d23a80676f61aa7b28f"
          }
        },
        "563096debbb74610849db08052a17638": {
          "model_module": "@jupyter-widgets/controls",
          "model_name": "HTMLModel",
          "state": {
            "_view_name": "HTMLView",
            "style": "IPY_MODEL_6d8e5e5a22814b5ea8453382dd5cbefb",
            "_dom_classes": [],
            "description": "",
            "_model_name": "HTMLModel",
            "placeholder": "​",
            "_view_module": "@jupyter-widgets/controls",
            "_model_module_version": "1.5.0",
            "value": " 375/375 [01:29&lt;00:00,  4.17it/s, acc=0.781, loss=0.775]",
            "_view_count": null,
            "_view_module_version": "1.5.0",
            "description_tooltip": null,
            "_model_module": "@jupyter-widgets/controls",
            "layout": "IPY_MODEL_875a7286489a4da39e04d9686aa4d9e5"
          }
        },
        "1bf2e04239734c66927183bd5aed2766": {
          "model_module": "@jupyter-widgets/controls",
          "model_name": "ProgressStyleModel",
          "state": {
            "_view_name": "StyleView",
            "_model_name": "ProgressStyleModel",
            "description_width": "initial",
            "_view_module": "@jupyter-widgets/base",
            "_model_module_version": "1.5.0",
            "_view_count": null,
            "_view_module_version": "1.2.0",
            "bar_color": null,
            "_model_module": "@jupyter-widgets/controls"
          }
        },
        "46d297d1732c4d23a80676f61aa7b28f": {
          "model_module": "@jupyter-widgets/base",
          "model_name": "LayoutModel",
          "state": {
            "_view_name": "LayoutView",
            "grid_template_rows": null,
            "right": null,
            "justify_content": null,
            "_view_module": "@jupyter-widgets/base",
            "overflow": null,
            "_model_module_version": "1.2.0",
            "_view_count": null,
            "flex_flow": null,
            "width": null,
            "min_width": null,
            "border": null,
            "align_items": null,
            "bottom": null,
            "_model_module": "@jupyter-widgets/base",
            "top": null,
            "grid_column": null,
            "overflow_y": null,
            "overflow_x": null,
            "grid_auto_flow": null,
            "grid_area": null,
            "grid_template_columns": null,
            "flex": null,
            "_model_name": "LayoutModel",
            "justify_items": null,
            "grid_row": null,
            "max_height": null,
            "align_content": null,
            "visibility": null,
            "align_self": null,
            "height": null,
            "min_height": null,
            "padding": null,
            "grid_auto_rows": null,
            "grid_gap": null,
            "max_width": null,
            "order": null,
            "_view_module_version": "1.2.0",
            "grid_template_areas": null,
            "object_position": null,
            "object_fit": null,
            "grid_auto_columns": null,
            "margin": null,
            "display": null,
            "left": null
          }
        },
        "6d8e5e5a22814b5ea8453382dd5cbefb": {
          "model_module": "@jupyter-widgets/controls",
          "model_name": "DescriptionStyleModel",
          "state": {
            "_view_name": "StyleView",
            "_model_name": "DescriptionStyleModel",
            "description_width": "",
            "_view_module": "@jupyter-widgets/base",
            "_model_module_version": "1.5.0",
            "_view_count": null,
            "_view_module_version": "1.2.0",
            "_model_module": "@jupyter-widgets/controls"
          }
        },
        "875a7286489a4da39e04d9686aa4d9e5": {
          "model_module": "@jupyter-widgets/base",
          "model_name": "LayoutModel",
          "state": {
            "_view_name": "LayoutView",
            "grid_template_rows": null,
            "right": null,
            "justify_content": null,
            "_view_module": "@jupyter-widgets/base",
            "overflow": null,
            "_model_module_version": "1.2.0",
            "_view_count": null,
            "flex_flow": null,
            "width": null,
            "min_width": null,
            "border": null,
            "align_items": null,
            "bottom": null,
            "_model_module": "@jupyter-widgets/base",
            "top": null,
            "grid_column": null,
            "overflow_y": null,
            "overflow_x": null,
            "grid_auto_flow": null,
            "grid_area": null,
            "grid_template_columns": null,
            "flex": null,
            "_model_name": "LayoutModel",
            "justify_items": null,
            "grid_row": null,
            "max_height": null,
            "align_content": null,
            "visibility": null,
            "align_self": null,
            "height": null,
            "min_height": null,
            "padding": null,
            "grid_auto_rows": null,
            "grid_gap": null,
            "max_width": null,
            "order": null,
            "_view_module_version": "1.2.0",
            "grid_template_areas": null,
            "object_position": null,
            "object_fit": null,
            "grid_auto_columns": null,
            "margin": null,
            "display": null,
            "left": null
          }
        },
        "043f85490888421eb504a8e6ca750732": {
          "model_module": "@jupyter-widgets/controls",
          "model_name": "HBoxModel",
          "state": {
            "_view_name": "HBoxView",
            "_dom_classes": [],
            "_model_name": "HBoxModel",
            "_view_module": "@jupyter-widgets/controls",
            "_model_module_version": "1.5.0",
            "_view_count": null,
            "_view_module_version": "1.5.0",
            "box_style": "",
            "layout": "IPY_MODEL_870c2b3c2c784ea4b546bf0cfbeab8e7",
            "_model_module": "@jupyter-widgets/controls",
            "children": [
              "IPY_MODEL_b6442dd877fc48c9b7cf86cb3749b66a",
              "IPY_MODEL_346d914112e34f66a68ae4fd26ffa8b8"
            ]
          }
        },
        "870c2b3c2c784ea4b546bf0cfbeab8e7": {
          "model_module": "@jupyter-widgets/base",
          "model_name": "LayoutModel",
          "state": {
            "_view_name": "LayoutView",
            "grid_template_rows": null,
            "right": null,
            "justify_content": null,
            "_view_module": "@jupyter-widgets/base",
            "overflow": null,
            "_model_module_version": "1.2.0",
            "_view_count": null,
            "flex_flow": null,
            "width": null,
            "min_width": null,
            "border": null,
            "align_items": null,
            "bottom": null,
            "_model_module": "@jupyter-widgets/base",
            "top": null,
            "grid_column": null,
            "overflow_y": null,
            "overflow_x": null,
            "grid_auto_flow": null,
            "grid_area": null,
            "grid_template_columns": null,
            "flex": null,
            "_model_name": "LayoutModel",
            "justify_items": null,
            "grid_row": null,
            "max_height": null,
            "align_content": null,
            "visibility": null,
            "align_self": null,
            "height": null,
            "min_height": null,
            "padding": null,
            "grid_auto_rows": null,
            "grid_gap": null,
            "max_width": null,
            "order": null,
            "_view_module_version": "1.2.0",
            "grid_template_areas": null,
            "object_position": null,
            "object_fit": null,
            "grid_auto_columns": null,
            "margin": null,
            "display": null,
            "left": null
          }
        },
        "b6442dd877fc48c9b7cf86cb3749b66a": {
          "model_module": "@jupyter-widgets/controls",
          "model_name": "FloatProgressModel",
          "state": {
            "_view_name": "ProgressView",
            "style": "IPY_MODEL_506a8847c35a40c5aa26783e6ea36ddc",
            "_dom_classes": [],
            "description": "Training Epoch 2 : 100%",
            "_model_name": "FloatProgressModel",
            "bar_style": "success",
            "max": 2125,
            "_view_module": "@jupyter-widgets/controls",
            "_model_module_version": "1.5.0",
            "value": 2125,
            "_view_count": null,
            "_view_module_version": "1.5.0",
            "orientation": "horizontal",
            "min": 0,
            "description_tooltip": null,
            "_model_module": "@jupyter-widgets/controls",
            "layout": "IPY_MODEL_8340fc72bda247e8aabac3941d53aafc"
          }
        },
        "346d914112e34f66a68ae4fd26ffa8b8": {
          "model_module": "@jupyter-widgets/controls",
          "model_name": "HTMLModel",
          "state": {
            "_view_name": "HTMLView",
            "style": "IPY_MODEL_975df29f0a1d4e45a1484fabd52a48cc",
            "_dom_classes": [],
            "description": "",
            "_model_name": "HTMLModel",
            "placeholder": "​",
            "_view_module": "@jupyter-widgets/controls",
            "_model_module_version": "1.5.0",
            "value": " 2125/2125 [08:54&lt;00:00,  3.97it/s, acc=0.864, loss=0.439]",
            "_view_count": null,
            "_view_module_version": "1.5.0",
            "description_tooltip": null,
            "_model_module": "@jupyter-widgets/controls",
            "layout": "IPY_MODEL_1db66ff9cf9f4ebc8b74186cfefb881a"
          }
        },
        "506a8847c35a40c5aa26783e6ea36ddc": {
          "model_module": "@jupyter-widgets/controls",
          "model_name": "ProgressStyleModel",
          "state": {
            "_view_name": "StyleView",
            "_model_name": "ProgressStyleModel",
            "description_width": "initial",
            "_view_module": "@jupyter-widgets/base",
            "_model_module_version": "1.5.0",
            "_view_count": null,
            "_view_module_version": "1.2.0",
            "bar_color": null,
            "_model_module": "@jupyter-widgets/controls"
          }
        },
        "8340fc72bda247e8aabac3941d53aafc": {
          "model_module": "@jupyter-widgets/base",
          "model_name": "LayoutModel",
          "state": {
            "_view_name": "LayoutView",
            "grid_template_rows": null,
            "right": null,
            "justify_content": null,
            "_view_module": "@jupyter-widgets/base",
            "overflow": null,
            "_model_module_version": "1.2.0",
            "_view_count": null,
            "flex_flow": null,
            "width": null,
            "min_width": null,
            "border": null,
            "align_items": null,
            "bottom": null,
            "_model_module": "@jupyter-widgets/base",
            "top": null,
            "grid_column": null,
            "overflow_y": null,
            "overflow_x": null,
            "grid_auto_flow": null,
            "grid_area": null,
            "grid_template_columns": null,
            "flex": null,
            "_model_name": "LayoutModel",
            "justify_items": null,
            "grid_row": null,
            "max_height": null,
            "align_content": null,
            "visibility": null,
            "align_self": null,
            "height": null,
            "min_height": null,
            "padding": null,
            "grid_auto_rows": null,
            "grid_gap": null,
            "max_width": null,
            "order": null,
            "_view_module_version": "1.2.0",
            "grid_template_areas": null,
            "object_position": null,
            "object_fit": null,
            "grid_auto_columns": null,
            "margin": null,
            "display": null,
            "left": null
          }
        },
        "975df29f0a1d4e45a1484fabd52a48cc": {
          "model_module": "@jupyter-widgets/controls",
          "model_name": "DescriptionStyleModel",
          "state": {
            "_view_name": "StyleView",
            "_model_name": "DescriptionStyleModel",
            "description_width": "",
            "_view_module": "@jupyter-widgets/base",
            "_model_module_version": "1.5.0",
            "_view_count": null,
            "_view_module_version": "1.2.0",
            "_model_module": "@jupyter-widgets/controls"
          }
        },
        "1db66ff9cf9f4ebc8b74186cfefb881a": {
          "model_module": "@jupyter-widgets/base",
          "model_name": "LayoutModel",
          "state": {
            "_view_name": "LayoutView",
            "grid_template_rows": null,
            "right": null,
            "justify_content": null,
            "_view_module": "@jupyter-widgets/base",
            "overflow": null,
            "_model_module_version": "1.2.0",
            "_view_count": null,
            "flex_flow": null,
            "width": null,
            "min_width": null,
            "border": null,
            "align_items": null,
            "bottom": null,
            "_model_module": "@jupyter-widgets/base",
            "top": null,
            "grid_column": null,
            "overflow_y": null,
            "overflow_x": null,
            "grid_auto_flow": null,
            "grid_area": null,
            "grid_template_columns": null,
            "flex": null,
            "_model_name": "LayoutModel",
            "justify_items": null,
            "grid_row": null,
            "max_height": null,
            "align_content": null,
            "visibility": null,
            "align_self": null,
            "height": null,
            "min_height": null,
            "padding": null,
            "grid_auto_rows": null,
            "grid_gap": null,
            "max_width": null,
            "order": null,
            "_view_module_version": "1.2.0",
            "grid_template_areas": null,
            "object_position": null,
            "object_fit": null,
            "grid_auto_columns": null,
            "margin": null,
            "display": null,
            "left": null
          }
        },
        "9294a0089021490985b3381a31c73584": {
          "model_module": "@jupyter-widgets/controls",
          "model_name": "HBoxModel",
          "state": {
            "_view_name": "HBoxView",
            "_dom_classes": [],
            "_model_name": "HBoxModel",
            "_view_module": "@jupyter-widgets/controls",
            "_model_module_version": "1.5.0",
            "_view_count": null,
            "_view_module_version": "1.5.0",
            "box_style": "",
            "layout": "IPY_MODEL_72cafa054d7d4fccad4930e53a5e05ed",
            "_model_module": "@jupyter-widgets/controls",
            "children": [
              "IPY_MODEL_7eca063f9b564fdab5eb98ac29bee134",
              "IPY_MODEL_fa3a28e95cfd4228b5d459275d05baeb"
            ]
          }
        },
        "72cafa054d7d4fccad4930e53a5e05ed": {
          "model_module": "@jupyter-widgets/base",
          "model_name": "LayoutModel",
          "state": {
            "_view_name": "LayoutView",
            "grid_template_rows": null,
            "right": null,
            "justify_content": null,
            "_view_module": "@jupyter-widgets/base",
            "overflow": null,
            "_model_module_version": "1.2.0",
            "_view_count": null,
            "flex_flow": null,
            "width": null,
            "min_width": null,
            "border": null,
            "align_items": null,
            "bottom": null,
            "_model_module": "@jupyter-widgets/base",
            "top": null,
            "grid_column": null,
            "overflow_y": null,
            "overflow_x": null,
            "grid_auto_flow": null,
            "grid_area": null,
            "grid_template_columns": null,
            "flex": null,
            "_model_name": "LayoutModel",
            "justify_items": null,
            "grid_row": null,
            "max_height": null,
            "align_content": null,
            "visibility": null,
            "align_self": null,
            "height": null,
            "min_height": null,
            "padding": null,
            "grid_auto_rows": null,
            "grid_gap": null,
            "max_width": null,
            "order": null,
            "_view_module_version": "1.2.0",
            "grid_template_areas": null,
            "object_position": null,
            "object_fit": null,
            "grid_auto_columns": null,
            "margin": null,
            "display": null,
            "left": null
          }
        },
        "7eca063f9b564fdab5eb98ac29bee134": {
          "model_module": "@jupyter-widgets/controls",
          "model_name": "FloatProgressModel",
          "state": {
            "_view_name": "ProgressView",
            "style": "IPY_MODEL_85cfbfd634ae45b2b33b272ffcc4b82a",
            "_dom_classes": [],
            "description": "Testing Epoch 2 : 100%",
            "_model_name": "FloatProgressModel",
            "bar_style": "success",
            "max": 375,
            "_view_module": "@jupyter-widgets/controls",
            "_model_module_version": "1.5.0",
            "value": 375,
            "_view_count": null,
            "_view_module_version": "1.5.0",
            "orientation": "horizontal",
            "min": 0,
            "description_tooltip": null,
            "_model_module": "@jupyter-widgets/controls",
            "layout": "IPY_MODEL_cf6040156eab4366a2c88942e4105947"
          }
        },
        "fa3a28e95cfd4228b5d459275d05baeb": {
          "model_module": "@jupyter-widgets/controls",
          "model_name": "HTMLModel",
          "state": {
            "_view_name": "HTMLView",
            "style": "IPY_MODEL_e3ec7885b85b40a58751c2079a786f4f",
            "_dom_classes": [],
            "description": "",
            "_model_name": "HTMLModel",
            "placeholder": "​",
            "_view_module": "@jupyter-widgets/controls",
            "_model_module_version": "1.5.0",
            "value": " 375/375 [01:31&lt;00:00,  4.11it/s, acc=0.779, loss=0.844]",
            "_view_count": null,
            "_view_module_version": "1.5.0",
            "description_tooltip": null,
            "_model_module": "@jupyter-widgets/controls",
            "layout": "IPY_MODEL_5962ce0ca3674d42bf61119fdc093adc"
          }
        },
        "85cfbfd634ae45b2b33b272ffcc4b82a": {
          "model_module": "@jupyter-widgets/controls",
          "model_name": "ProgressStyleModel",
          "state": {
            "_view_name": "StyleView",
            "_model_name": "ProgressStyleModel",
            "description_width": "initial",
            "_view_module": "@jupyter-widgets/base",
            "_model_module_version": "1.5.0",
            "_view_count": null,
            "_view_module_version": "1.2.0",
            "bar_color": null,
            "_model_module": "@jupyter-widgets/controls"
          }
        },
        "cf6040156eab4366a2c88942e4105947": {
          "model_module": "@jupyter-widgets/base",
          "model_name": "LayoutModel",
          "state": {
            "_view_name": "LayoutView",
            "grid_template_rows": null,
            "right": null,
            "justify_content": null,
            "_view_module": "@jupyter-widgets/base",
            "overflow": null,
            "_model_module_version": "1.2.0",
            "_view_count": null,
            "flex_flow": null,
            "width": null,
            "min_width": null,
            "border": null,
            "align_items": null,
            "bottom": null,
            "_model_module": "@jupyter-widgets/base",
            "top": null,
            "grid_column": null,
            "overflow_y": null,
            "overflow_x": null,
            "grid_auto_flow": null,
            "grid_area": null,
            "grid_template_columns": null,
            "flex": null,
            "_model_name": "LayoutModel",
            "justify_items": null,
            "grid_row": null,
            "max_height": null,
            "align_content": null,
            "visibility": null,
            "align_self": null,
            "height": null,
            "min_height": null,
            "padding": null,
            "grid_auto_rows": null,
            "grid_gap": null,
            "max_width": null,
            "order": null,
            "_view_module_version": "1.2.0",
            "grid_template_areas": null,
            "object_position": null,
            "object_fit": null,
            "grid_auto_columns": null,
            "margin": null,
            "display": null,
            "left": null
          }
        },
        "e3ec7885b85b40a58751c2079a786f4f": {
          "model_module": "@jupyter-widgets/controls",
          "model_name": "DescriptionStyleModel",
          "state": {
            "_view_name": "StyleView",
            "_model_name": "DescriptionStyleModel",
            "description_width": "",
            "_view_module": "@jupyter-widgets/base",
            "_model_module_version": "1.5.0",
            "_view_count": null,
            "_view_module_version": "1.2.0",
            "_model_module": "@jupyter-widgets/controls"
          }
        },
        "5962ce0ca3674d42bf61119fdc093adc": {
          "model_module": "@jupyter-widgets/base",
          "model_name": "LayoutModel",
          "state": {
            "_view_name": "LayoutView",
            "grid_template_rows": null,
            "right": null,
            "justify_content": null,
            "_view_module": "@jupyter-widgets/base",
            "overflow": null,
            "_model_module_version": "1.2.0",
            "_view_count": null,
            "flex_flow": null,
            "width": null,
            "min_width": null,
            "border": null,
            "align_items": null,
            "bottom": null,
            "_model_module": "@jupyter-widgets/base",
            "top": null,
            "grid_column": null,
            "overflow_y": null,
            "overflow_x": null,
            "grid_auto_flow": null,
            "grid_area": null,
            "grid_template_columns": null,
            "flex": null,
            "_model_name": "LayoutModel",
            "justify_items": null,
            "grid_row": null,
            "max_height": null,
            "align_content": null,
            "visibility": null,
            "align_self": null,
            "height": null,
            "min_height": null,
            "padding": null,
            "grid_auto_rows": null,
            "grid_gap": null,
            "max_width": null,
            "order": null,
            "_view_module_version": "1.2.0",
            "grid_template_areas": null,
            "object_position": null,
            "object_fit": null,
            "grid_auto_columns": null,
            "margin": null,
            "display": null,
            "left": null
          }
        },
        "563f96ea06f54fdaa2cb91c68654a13e": {
          "model_module": "@jupyter-widgets/controls",
          "model_name": "HBoxModel",
          "state": {
            "_view_name": "HBoxView",
            "_dom_classes": [],
            "_model_name": "HBoxModel",
            "_view_module": "@jupyter-widgets/controls",
            "_model_module_version": "1.5.0",
            "_view_count": null,
            "_view_module_version": "1.5.0",
            "box_style": "",
            "layout": "IPY_MODEL_d36a0168bfc447f99bd8e076d9e1499d",
            "_model_module": "@jupyter-widgets/controls",
            "children": [
              "IPY_MODEL_0943adfc5cfc449180295e3c7d1c4308",
              "IPY_MODEL_a61d9ff1556a4194aa2886768ca5b012"
            ]
          }
        },
        "d36a0168bfc447f99bd8e076d9e1499d": {
          "model_module": "@jupyter-widgets/base",
          "model_name": "LayoutModel",
          "state": {
            "_view_name": "LayoutView",
            "grid_template_rows": null,
            "right": null,
            "justify_content": null,
            "_view_module": "@jupyter-widgets/base",
            "overflow": null,
            "_model_module_version": "1.2.0",
            "_view_count": null,
            "flex_flow": null,
            "width": null,
            "min_width": null,
            "border": null,
            "align_items": null,
            "bottom": null,
            "_model_module": "@jupyter-widgets/base",
            "top": null,
            "grid_column": null,
            "overflow_y": null,
            "overflow_x": null,
            "grid_auto_flow": null,
            "grid_area": null,
            "grid_template_columns": null,
            "flex": null,
            "_model_name": "LayoutModel",
            "justify_items": null,
            "grid_row": null,
            "max_height": null,
            "align_content": null,
            "visibility": null,
            "align_self": null,
            "height": null,
            "min_height": null,
            "padding": null,
            "grid_auto_rows": null,
            "grid_gap": null,
            "max_width": null,
            "order": null,
            "_view_module_version": "1.2.0",
            "grid_template_areas": null,
            "object_position": null,
            "object_fit": null,
            "grid_auto_columns": null,
            "margin": null,
            "display": null,
            "left": null
          }
        },
        "0943adfc5cfc449180295e3c7d1c4308": {
          "model_module": "@jupyter-widgets/controls",
          "model_name": "FloatProgressModel",
          "state": {
            "_view_name": "ProgressView",
            "style": "IPY_MODEL_2d0ab46408b34c5ba94b4cb23eba4686",
            "_dom_classes": [],
            "description": "Training Epoch 3 :   3%",
            "_model_name": "FloatProgressModel",
            "bar_style": "",
            "max": 2125,
            "_view_module": "@jupyter-widgets/controls",
            "_model_module_version": "1.5.0",
            "value": 64,
            "_view_count": null,
            "_view_module_version": "1.5.0",
            "orientation": "horizontal",
            "min": 0,
            "description_tooltip": null,
            "_model_module": "@jupyter-widgets/controls",
            "layout": "IPY_MODEL_3784797e61cf4e659d65a16ce378a3c5"
          }
        },
        "a61d9ff1556a4194aa2886768ca5b012": {
          "model_module": "@jupyter-widgets/controls",
          "model_name": "HTMLModel",
          "state": {
            "_view_name": "HTMLView",
            "style": "IPY_MODEL_5af14a60f003437f81dc657b9981087a",
            "_dom_classes": [],
            "description": "",
            "_model_name": "HTMLModel",
            "placeholder": "​",
            "_view_module": "@jupyter-widgets/controls",
            "_model_module_version": "1.5.0",
            "value": " 64/2125 [00:18&lt;07:55,  4.33it/s, acc=0.937, loss=0.231]",
            "_view_count": null,
            "_view_module_version": "1.5.0",
            "description_tooltip": null,
            "_model_module": "@jupyter-widgets/controls",
            "layout": "IPY_MODEL_236881d631174ecea7ba1095f1274610"
          }
        },
        "2d0ab46408b34c5ba94b4cb23eba4686": {
          "model_module": "@jupyter-widgets/controls",
          "model_name": "ProgressStyleModel",
          "state": {
            "_view_name": "StyleView",
            "_model_name": "ProgressStyleModel",
            "description_width": "initial",
            "_view_module": "@jupyter-widgets/base",
            "_model_module_version": "1.5.0",
            "_view_count": null,
            "_view_module_version": "1.2.0",
            "bar_color": null,
            "_model_module": "@jupyter-widgets/controls"
          }
        },
        "3784797e61cf4e659d65a16ce378a3c5": {
          "model_module": "@jupyter-widgets/base",
          "model_name": "LayoutModel",
          "state": {
            "_view_name": "LayoutView",
            "grid_template_rows": null,
            "right": null,
            "justify_content": null,
            "_view_module": "@jupyter-widgets/base",
            "overflow": null,
            "_model_module_version": "1.2.0",
            "_view_count": null,
            "flex_flow": null,
            "width": null,
            "min_width": null,
            "border": null,
            "align_items": null,
            "bottom": null,
            "_model_module": "@jupyter-widgets/base",
            "top": null,
            "grid_column": null,
            "overflow_y": null,
            "overflow_x": null,
            "grid_auto_flow": null,
            "grid_area": null,
            "grid_template_columns": null,
            "flex": null,
            "_model_name": "LayoutModel",
            "justify_items": null,
            "grid_row": null,
            "max_height": null,
            "align_content": null,
            "visibility": null,
            "align_self": null,
            "height": null,
            "min_height": null,
            "padding": null,
            "grid_auto_rows": null,
            "grid_gap": null,
            "max_width": null,
            "order": null,
            "_view_module_version": "1.2.0",
            "grid_template_areas": null,
            "object_position": null,
            "object_fit": null,
            "grid_auto_columns": null,
            "margin": null,
            "display": null,
            "left": null
          }
        },
        "5af14a60f003437f81dc657b9981087a": {
          "model_module": "@jupyter-widgets/controls",
          "model_name": "DescriptionStyleModel",
          "state": {
            "_view_name": "StyleView",
            "_model_name": "DescriptionStyleModel",
            "description_width": "",
            "_view_module": "@jupyter-widgets/base",
            "_model_module_version": "1.5.0",
            "_view_count": null,
            "_view_module_version": "1.2.0",
            "_model_module": "@jupyter-widgets/controls"
          }
        },
        "236881d631174ecea7ba1095f1274610": {
          "model_module": "@jupyter-widgets/base",
          "model_name": "LayoutModel",
          "state": {
            "_view_name": "LayoutView",
            "grid_template_rows": null,
            "right": null,
            "justify_content": null,
            "_view_module": "@jupyter-widgets/base",
            "overflow": null,
            "_model_module_version": "1.2.0",
            "_view_count": null,
            "flex_flow": null,
            "width": null,
            "min_width": null,
            "border": null,
            "align_items": null,
            "bottom": null,
            "_model_module": "@jupyter-widgets/base",
            "top": null,
            "grid_column": null,
            "overflow_y": null,
            "overflow_x": null,
            "grid_auto_flow": null,
            "grid_area": null,
            "grid_template_columns": null,
            "flex": null,
            "_model_name": "LayoutModel",
            "justify_items": null,
            "grid_row": null,
            "max_height": null,
            "align_content": null,
            "visibility": null,
            "align_self": null,
            "height": null,
            "min_height": null,
            "padding": null,
            "grid_auto_rows": null,
            "grid_gap": null,
            "max_width": null,
            "order": null,
            "_view_module_version": "1.2.0",
            "grid_template_areas": null,
            "object_position": null,
            "object_fit": null,
            "grid_auto_columns": null,
            "margin": null,
            "display": null,
            "left": null
          }
        }
      }
    }
  },
  "cells": [
    {
      "cell_type": "markdown",
      "metadata": {
        "id": "view-in-github",
        "colab_type": "text"
      },
      "source": [
        "<a href=\"https://colab.research.google.com/github/aashishpiitkEigenlytics/lapsrn-document/blob/main/resnet_left_half.ipynb\" target=\"_parent\"><img src=\"https://colab.research.google.com/assets/colab-badge.svg\" alt=\"Open In Colab\"/></a>"
      ]
    },
    {
      "cell_type": "code",
      "metadata": {
        "colab": {
          "base_uri": "https://localhost:8080/"
        },
        "id": "CbDj15v4q-dM",
        "outputId": "5a398bb7-74ee-4284-abd2-c3feecb6999b"
      },
      "source": [
        "from google.colab import drive\n",
        "drive.mount('/content/drive')"
      ],
      "execution_count": null,
      "outputs": [
        {
          "output_type": "stream",
          "text": [
            "Mounted at /content/drive\n"
          ],
          "name": "stdout"
        }
      ]
    },
    {
      "cell_type": "code",
      "metadata": {
        "id": "9ka4JCmVEA7u"
      },
      "source": [
        "import numpy as np\n",
        "import pandas as pd\n",
        "import os, math, sys\n",
        "import glob, itertools\n",
        "import argparse, random\n",
        "\n",
        "import torch\n",
        "import torch.nn as nn\n",
        "import torch.nn.functional as F\n",
        "from torch.autograd import Variable\n",
        "from torchvision.models import vgg19\n",
        "import torchvision.models as models\n",
        "import torchvision.transforms as transforms\n",
        "from torch.utils.data import DataLoader, Dataset\n",
        "from torchvision.utils import save_image, make_grid\n",
        "\n",
        "import plotly\n",
        "import plotly.express as px\n",
        "import plotly.graph_objects as go\n",
        "import matplotlib.pyplot as plt\n",
        "\n",
        "from PIL import Image\n",
        "from tqdm import tqdm_notebook as tqdm\n",
        "from sklearn.model_selection import train_test_split\n",
        "\n",
        "random.seed(42)\n",
        "import warnings\n",
        "warnings.filterwarnings(\"ignore\")\n",
        "\n",
        "import math\n",
        "from pathlib import Path\n",
        "from torchsummary import summary\n",
        "import torchvision\n",
        "from PIL import Image, ImageOps\n",
        "\n",
        "device = 'cuda' if torch.cuda.is_available() else 'cpu'"
      ],
      "execution_count": null,
      "outputs": []
    },
    {
      "cell_type": "code",
      "metadata": {
        "id": "E-N0xePgwNUW"
      },
      "source": [
        "# number of epochs of training\n",
        "n_epochs = 50\n",
        "# name of the dataset\n",
        "dataset_path = \"/content/train/test/\"\n",
        "# size of the batches\n",
        "batch_size = 16\n",
        "# adam: learning rate\n",
        "lr = 0.00008\n",
        "# adam: decay of first order momentum of gradient\n",
        "b1 = 0.5\n",
        "# adam: decay of second order momentum of gradient\n",
        "b2 = 0.999\n",
        "# epoch from which to start lr decay\n",
        "decay_epoch = 100\n",
        "# number of cpu threads to use during batch generation\n",
        "n_cpu = 8\n",
        "# high res. image height\n",
        "hr_height = 64\n",
        "# high res. image width\n",
        "hr_width = 64\n",
        "# number of image channels\n",
        "channels = 1\n",
        "\n",
        "# os.makedirs(\"images\", exist_ok=True)\n",
        "# os.makedirs(\"saved_models\", exist_ok=True)\n",
        "\n",
        "cuda = torch.cuda.is_available()\n",
        "hr_shape = (hr_height, hr_width)\n",
        "\n"
      ],
      "execution_count": null,
      "outputs": []
    },
    {
      "cell_type": "code",
      "metadata": {
        "id": "e_p8HemOEnJR"
      },
      "source": [
        "! unzip -q /content/drive/MyDrive/rvl_cdip_test_dataset/rvl_cdip_test_dataset.zip -d /content/train"
      ],
      "execution_count": null,
      "outputs": []
    },
    {
      "cell_type": "code",
      "metadata": {
        "id": "Eq2_wMvwuO8n"
      },
      "source": [
        "doc2label = {\n",
        "    'advertisement':0,\n",
        "    'budget':1,\n",
        "    'email':2,\n",
        "    'file_folder':3,\n",
        "    'form':4,\n",
        "    'handwritten':5,\n",
        "    'invoice':6,\n",
        "    'letter':7,\n",
        "    'memo':8,\n",
        "    'news_article':9,\n",
        "    'presentation':10,\n",
        "    'questionnaire':11,\n",
        "    'resume':12,\n",
        "    'scientific_publication':13,\n",
        "    'scientific_report':14,\n",
        "    'specification':15\n",
        "}"
      ],
      "execution_count": null,
      "outputs": []
    },
    {
      "cell_type": "code",
      "metadata": {
        "id": "qmaqFRZJhbZs"
      },
      "source": [
        "train_path = []\n",
        "for path in Path('/content/train/content/train/test').rglob('*.tif'):\n",
        "  target = str(str(path).split('/')[-2])\n",
        "  train_path.append((path, doc2label[target]))"
      ],
      "execution_count": null,
      "outputs": []
    },
    {
      "cell_type": "code",
      "metadata": {
        "id": "Mkr4cd-1wkMp"
      },
      "source": [
        "class ImageDataset(Dataset):\n",
        "  def __init__(self, files):\n",
        "    #super(ImageDataset, self)\n",
        "\n",
        "    self.files = files\n",
        "    self.trans = transforms.Compose([\n",
        "                                transforms.Grayscale(),\n",
        "                                transforms.Resize((780,600)), \n",
        "                                transforms.ToTensor(),\n",
        "                                \n",
        "    ])\n",
        "    self.normalize = transforms.Normalize(mean=[0.485, 0.456, 0.406],\n",
        "                                      std=[0.229, 0.224, 0.225])\n",
        "    \n",
        "    self.trans2 = transforms.Resize((227,227))\n",
        "\n",
        "    #self.trans1 = transforms.ToTensor()\n",
        "  \n",
        "  def __getitem__(self, index):\n",
        "    img = Image.open(self.files[index % len(self.files)][0])\n",
        "    target = self.files[index % len(self.files)][1]\n",
        "    \n",
        "    output_dict = {\n",
        "        'targets' : torch.tensor(target),\n",
        "        'left' : self.create_left_half(img),\n",
        "    }\n",
        "\n",
        "    return output_dict\n",
        "  \n",
        "  def create_header(self, x):\n",
        "    # trans1 = transforms.ToTensor()\n",
        "    x = self.trans(x)\n",
        "    x = x.repeat_interleave(3, dim=0)\n",
        "    x=self.normalize(x)\n",
        "    x = x[:][:, :256, :]\n",
        "    return self.trans2(x)\n",
        "\n",
        "\n",
        "  def create_right_half(self, x):\n",
        "    x = self.trans(x)\n",
        "    x = x.repeat_interleave(3, dim=0)\n",
        "    x=self.normalize(x)\n",
        "    \n",
        "    x = x[:][:, 100:-100, -300:]\n",
        "    return self.trans2(x)\n",
        "  def create_left_half(self, x):\n",
        "    x = self.trans(x)\n",
        "    x = x.repeat_interleave(3, dim=0)\n",
        "    x=self.normalize(x)\n",
        "    x = x[:][:, 100:-100, :300]\n",
        "    return self.trans2(x)\n",
        "\n",
        "  def create_footer(self, x):\n",
        "    x = self.trans(x)\n",
        "    x = x.repeat_interleave(3, dim=0)\n",
        "    x=self.normalize(x)\n",
        "    x = x[:][:, -256:, :]\n",
        "    return self.trans2(x)\n",
        "\n",
        "  def create_holistic(self, x):\n",
        "    x = self.trans(x)\n",
        "    #print(x.shape)  (channels, h, w) not batch_size in dimensions\n",
        "    x = x.repeat_interleave(3, dim=0)\n",
        "    return self.normalize(x)\n",
        "\n",
        "  def __len__(self):\n",
        "      return len(self.files)\n"
      ],
      "execution_count": null,
      "outputs": []
    },
    {
      "cell_type": "code",
      "metadata": {
        "id": "9hIVq4noQz5f"
      },
      "source": [
        "# train_path = train_path[:len(train_path)//5]"
      ],
      "execution_count": null,
      "outputs": []
    },
    {
      "cell_type": "code",
      "metadata": {
        "colab": {
          "base_uri": "https://localhost:8080/"
        },
        "id": "QpdAhjNJ3Fjm",
        "outputId": "eee1ea24-6ca5-42b6-fa6c-73fe087a7988"
      },
      "source": [
        "len(train_path)"
      ],
      "execution_count": null,
      "outputs": [
        {
          "output_type": "execute_result",
          "data": {
            "text/plain": [
              "39996"
            ]
          },
          "metadata": {
            "tags": []
          },
          "execution_count": 9
        }
      ]
    },
    {
      "cell_type": "code",
      "metadata": {
        "id": "2XBEQUJFMdMt"
      },
      "source": [
        "## incorporate the labels somehow when preparing the dataset usign ImageDataset"
      ],
      "execution_count": null,
      "outputs": []
    },
    {
      "cell_type": "code",
      "metadata": {
        "id": "gyyzMFxB0w6V"
      },
      "source": [
        "train_paths, test_paths = train_test_split(train_path, test_size=0.15, random_state=42)\n",
        "train_paths = train_paths[:len(train_paths)]\n",
        "test_paths = test_paths[:len(test_paths)]\n",
        "\n",
        "#train_paths, test_paths = train_test_split(sorted(glob.glob(dataset_path + \"/*.*\")), test_size=0.02, random_state=42)\n",
        "train_dataloader = DataLoader(ImageDataset(train_paths), batch_size=batch_size, shuffle=True, num_workers=n_cpu)\n",
        "test_dataloader = DataLoader(ImageDataset(test_paths), batch_size=int(batch_size), shuffle=True, num_workers=n_cpu)"
      ],
      "execution_count": null,
      "outputs": []
    },
    {
      "cell_type": "code",
      "metadata": {
        "colab": {
          "base_uri": "https://localhost:8080/"
        },
        "id": "glyzIZDt3HjM",
        "outputId": "467d3974-17f6-452e-c92a-797037463a10"
      },
      "source": [
        "len(train_dataloader)"
      ],
      "execution_count": null,
      "outputs": [
        {
          "output_type": "execute_result",
          "data": {
            "text/plain": [
              "2125"
            ]
          },
          "metadata": {
            "tags": []
          },
          "execution_count": 12
        }
      ]
    },
    {
      "cell_type": "code",
      "metadata": {
        "colab": {
          "base_uri": "https://localhost:8080/"
        },
        "id": "NJEWdhXQTuaV",
        "outputId": "3c628949-6bd4-40d3-9ae2-73b818d6274f"
      },
      "source": [
        "print(len(test_dataloader))"
      ],
      "execution_count": null,
      "outputs": [
        {
          "output_type": "stream",
          "text": [
            "375\n"
          ],
          "name": "stdout"
        }
      ]
    },
    {
      "cell_type": "code",
      "metadata": {
        "id": "XMvAKM8IzRu_"
      },
      "source": [
        "# resnet18 = torchvision.models.resnet18(pretrained=True)"
      ],
      "execution_count": null,
      "outputs": []
    },
    {
      "cell_type": "code",
      "metadata": {
        "id": "FrPXu-ZpzXma"
      },
      "source": [
        "# print(resnet18)"
      ],
      "execution_count": null,
      "outputs": []
    },
    {
      "cell_type": "code",
      "metadata": {
        "id": "vSdVJ6ps0i6L"
      },
      "source": [
        "# resent18.children()"
      ],
      "execution_count": null,
      "outputs": []
    },
    {
      "cell_type": "code",
      "metadata": {
        "id": "tk5FAdP506ml"
      },
      "source": [
        "# for child_counter, child in enumerate(resnet18.children()):\n",
        "#   print(child)"
      ],
      "execution_count": null,
      "outputs": []
    },
    {
      "cell_type": "code",
      "metadata": {
        "id": "DKNw5S1p28sD"
      },
      "source": [
        "# for name, param in list(resnet18.named_parameters())[:-17]:\n",
        "#       print(name, param.shape, param.requires_grad)"
      ],
      "execution_count": null,
      "outputs": []
    },
    {
      "cell_type": "code",
      "metadata": {
        "id": "rsLPQN0C5Zwu"
      },
      "source": [
        "# feature_extractor = nn.Sequential(*list(resnet18.children())[:-1])\n",
        "# print(feature_extractor)"
      ],
      "execution_count": null,
      "outputs": []
    },
    {
      "cell_type": "code",
      "metadata": {
        "id": "s1Ae-lKwfyId"
      },
      "source": [
        "class ResNet18_fine_tune(nn.Module):\n",
        "  def __init__(self):\n",
        "    super(ResNet18_fine_tune, self).__init__()\n",
        "\n",
        "    self.resnet18_model = torchvision.models.resnet18(pretrained=True)\n",
        "    self.feature_extractor = nn.Sequential(*list(self.resnet18_model.children())[:-1])\n",
        "    \n",
        "    for (name, param) in (list(self.feature_extractor.named_parameters())[:-60]):\n",
        "      param.requires_grad = False\n",
        "    for (name, param) in (list(self.feature_extractor.named_parameters())[-60:]):\n",
        "      param.requires_grad = True\n",
        "\n",
        "    self.classifier = nn.Sequential(nn.Linear(512, 128, bias=True),\n",
        "                                    nn.ReLU(),\n",
        "                                    nn.Linear(128,16, bias=True))\n",
        "\n",
        "  def forward(self, x):\n",
        "    x=self.feature_extractor(x)\n",
        "    \n",
        "    x = self.classifier(torch.flatten(x, start_dim=1))\n",
        "    return x\n"
      ],
      "execution_count": null,
      "outputs": []
    },
    {
      "cell_type": "code",
      "metadata": {
        "colab": {
          "base_uri": "https://localhost:8080/",
          "height": 83,
          "referenced_widgets": [
            "ccc6190f94424f7688a19242ecb1fb9c",
            "b5ba484517c24eee93a2ac6809497a7b",
            "7948d46201684d559d1cf57549a50a9a",
            "baab47528cc24e6abe1161bc42fa8aa3",
            "cccc6281068c4bada9e30d323d61df46",
            "36c8ac06a09248128b958fed5262a8a4",
            "4353a822c24e43109f0e2f6adb8bda1b",
            "693a30825951462b8a4b12a5853c7e20"
          ]
        },
        "id": "Ok_eKuMCtOAv",
        "outputId": "147d667b-69cf-4f58-be1a-2198ef1eb1b8"
      },
      "source": [
        "resnet18_fine_tune = ResNet18_fine_tune().to(device)"
      ],
      "execution_count": null,
      "outputs": [
        {
          "output_type": "stream",
          "text": [
            "Downloading: \"https://download.pytorch.org/models/resnet18-5c106cde.pth\" to /root/.cache/torch/hub/checkpoints/resnet18-5c106cde.pth\n"
          ],
          "name": "stderr"
        },
        {
          "output_type": "display_data",
          "data": {
            "application/vnd.jupyter.widget-view+json": {
              "model_id": "ccc6190f94424f7688a19242ecb1fb9c",
              "version_minor": 0,
              "version_major": 2
            },
            "text/plain": [
              "HBox(children=(FloatProgress(value=0.0, max=46827520.0), HTML(value='')))"
            ]
          },
          "metadata": {
            "tags": []
          }
        },
        {
          "output_type": "stream",
          "text": [
            "\n"
          ],
          "name": "stdout"
        }
      ]
    },
    {
      "cell_type": "code",
      "metadata": {
        "id": "KKPRh_w9YPsW"
      },
      "source": [
        "# print(resnet18_fine_tune)"
      ],
      "execution_count": null,
      "outputs": []
    },
    {
      "cell_type": "code",
      "metadata": {
        "id": "HL96oDqS-BJT"
      },
      "source": [
        "# output = resnet18_fine_tune(torch.randn(3,3,780,600))"
      ],
      "execution_count": null,
      "outputs": []
    },
    {
      "cell_type": "code",
      "metadata": {
        "id": "0cT0UROI-8YK"
      },
      "source": [
        "# print(output.shape)"
      ],
      "execution_count": null,
      "outputs": []
    },
    {
      "cell_type": "code",
      "metadata": {
        "id": "NJYWw3JtTtuN"
      },
      "source": [
        "# print(type(vgg16_fine_tune_last_layer.feature_extractor.named_parameters()))"
      ],
      "execution_count": null,
      "outputs": []
    },
    {
      "cell_type": "code",
      "metadata": {
        "colab": {
          "base_uri": "https://localhost:8080/"
        },
        "id": "uykWFdc1ABjr",
        "outputId": "0a32d461-079c-4c68-ee6c-090680117921"
      },
      "source": [
        "for name, param in resnet18_fine_tune.named_parameters():\n",
        "    if param.requires_grad:\n",
        "        print(name)"
      ],
      "execution_count": null,
      "outputs": [
        {
          "output_type": "stream",
          "text": [
            "resnet18_model.conv1.weight\n",
            "resnet18_model.bn1.weight\n",
            "resnet18_model.bn1.bias\n",
            "resnet18_model.layer1.0.conv1.weight\n",
            "resnet18_model.layer1.0.bn1.weight\n",
            "resnet18_model.layer1.0.bn1.bias\n",
            "resnet18_model.layer1.0.conv2.weight\n",
            "resnet18_model.layer1.0.bn2.weight\n",
            "resnet18_model.layer1.0.bn2.bias\n",
            "resnet18_model.layer1.1.conv1.weight\n",
            "resnet18_model.layer1.1.bn1.weight\n",
            "resnet18_model.layer1.1.bn1.bias\n",
            "resnet18_model.layer1.1.conv2.weight\n",
            "resnet18_model.layer1.1.bn2.weight\n",
            "resnet18_model.layer1.1.bn2.bias\n",
            "resnet18_model.layer2.0.conv1.weight\n",
            "resnet18_model.layer2.0.bn1.weight\n",
            "resnet18_model.layer2.0.bn1.bias\n",
            "resnet18_model.layer2.0.conv2.weight\n",
            "resnet18_model.layer2.0.bn2.weight\n",
            "resnet18_model.layer2.0.bn2.bias\n",
            "resnet18_model.layer2.0.downsample.0.weight\n",
            "resnet18_model.layer2.0.downsample.1.weight\n",
            "resnet18_model.layer2.0.downsample.1.bias\n",
            "resnet18_model.layer2.1.conv1.weight\n",
            "resnet18_model.layer2.1.bn1.weight\n",
            "resnet18_model.layer2.1.bn1.bias\n",
            "resnet18_model.layer2.1.conv2.weight\n",
            "resnet18_model.layer2.1.bn2.weight\n",
            "resnet18_model.layer2.1.bn2.bias\n",
            "resnet18_model.layer3.0.conv1.weight\n",
            "resnet18_model.layer3.0.bn1.weight\n",
            "resnet18_model.layer3.0.bn1.bias\n",
            "resnet18_model.layer3.0.conv2.weight\n",
            "resnet18_model.layer3.0.bn2.weight\n",
            "resnet18_model.layer3.0.bn2.bias\n",
            "resnet18_model.layer3.0.downsample.0.weight\n",
            "resnet18_model.layer3.0.downsample.1.weight\n",
            "resnet18_model.layer3.0.downsample.1.bias\n",
            "resnet18_model.layer3.1.conv1.weight\n",
            "resnet18_model.layer3.1.bn1.weight\n",
            "resnet18_model.layer3.1.bn1.bias\n",
            "resnet18_model.layer3.1.conv2.weight\n",
            "resnet18_model.layer3.1.bn2.weight\n",
            "resnet18_model.layer3.1.bn2.bias\n",
            "resnet18_model.layer4.0.conv1.weight\n",
            "resnet18_model.layer4.0.bn1.weight\n",
            "resnet18_model.layer4.0.bn1.bias\n",
            "resnet18_model.layer4.0.conv2.weight\n",
            "resnet18_model.layer4.0.bn2.weight\n",
            "resnet18_model.layer4.0.bn2.bias\n",
            "resnet18_model.layer4.0.downsample.0.weight\n",
            "resnet18_model.layer4.0.downsample.1.weight\n",
            "resnet18_model.layer4.0.downsample.1.bias\n",
            "resnet18_model.layer4.1.conv1.weight\n",
            "resnet18_model.layer4.1.bn1.weight\n",
            "resnet18_model.layer4.1.bn1.bias\n",
            "resnet18_model.layer4.1.conv2.weight\n",
            "resnet18_model.layer4.1.bn2.weight\n",
            "resnet18_model.layer4.1.bn2.bias\n",
            "resnet18_model.fc.weight\n",
            "resnet18_model.fc.bias\n",
            "classifier.0.weight\n",
            "classifier.0.bias\n",
            "classifier.2.weight\n",
            "classifier.2.bias\n"
          ],
          "name": "stdout"
        }
      ]
    },
    {
      "cell_type": "code",
      "metadata": {
        "id": "ThwvgOfhtjTc"
      },
      "source": [
        "optimizer = torch.optim.Adam(filter(lambda p: p.requires_grad, resnet18_fine_tune.parameters()), \n",
        "                             lr=lr, betas=(b1, b2))\n",
        "\n",
        "criterion = nn.CrossEntropyLoss()"
      ],
      "execution_count": null,
      "outputs": []
    },
    {
      "cell_type": "code",
      "metadata": {
        "id": "BGPhnekZZ5Y1"
      },
      "source": [
        "# torch.cuda.empty_cache()"
      ],
      "execution_count": null,
      "outputs": []
    },
    {
      "cell_type": "code",
      "metadata": {
        "id": "S8oGs8coaJoD"
      },
      "source": [
        "# ## loading the weights\n",
        "# checkpoint = torch.load(\"/content/drive/MyDrive/vgg16_last_layer_fine_tune_rvl_cdip_checkpt16.pt\",map_location=torch.device(device))\n",
        "\n",
        "# vgg16_fine_tune_last_layer.load_state_dict(checkpoint['vgg16_fine_tune_last_layer'])\n",
        "# # vgg16_fine_tune_last_layer.load_state_dict()\n",
        "# optimizer.load_state_dict(checkpoint['optimizer_state_dict'])\n",
        "\n",
        "# vgg16_fine_tune_last_layer.train()"
      ],
      "execution_count": null,
      "outputs": []
    },
    {
      "cell_type": "code",
      "metadata": {
        "id": "ywchf_PsxWl5"
      },
      "source": [
        "# for param_tensor in vgg16_fine_tune_last_layer.state_dict():\n",
        "#   print(param_tensor, \"\\t\", vgg16_fine_tune_last_layer.state_dict()[param_tensor].size())"
      ],
      "execution_count": null,
      "outputs": []
    },
    {
      "cell_type": "code",
      "metadata": {
        "id": "u5W6CnM4yjWT"
      },
      "source": [
        "# # save only model.state_dict()['last_layer.weight'] and model.state_dict()['last_layer.bias']\n",
        "# new_state_dict = {}\n",
        "# layers = ['last_layer.weight', 'last_layer.bias']\n",
        "# for layer in layers:\n",
        "#   print(vgg16_fine_tune_last_layer.state_dict()[layer].shape)\n",
        "#   new_state_dict[layer] = vgg16_fine_tune_last_layer.state_dict()[layer]"
      ],
      "execution_count": null,
      "outputs": []
    },
    {
      "cell_type": "code",
      "metadata": {
        "id": "PyiH15Uz53ll"
      },
      "source": [
        "# for param_tensor in new_state_dict:\n",
        "#   print(param_tensor, \"\\t\", new_state_dict[param_tensor].size())"
      ],
      "execution_count": null,
      "outputs": []
    },
    {
      "cell_type": "code",
      "metadata": {
        "id": "NaEuGV8_7dqy"
      },
      "source": [
        "# ## loading the weights\n",
        "# checkpoint = torch.load(\"/content/drive/MyDrive/vgg16_with_normalisation_last_layer/checkpt8.pt\",map_location=torch.device(device))\n",
        "\n",
        "# new_state_dict = checkpoint['new_state_dict']\n",
        "# old_dict = vgg16_fine_tune_last_layer.state_dict()\n",
        "# layers = ['last_layer.0.weight', 'last_layer.0.bias', 'last_layer.2.weight', 'last_layer.2.bias', 'last_layer.4.weight', 'last_layer.4.bias']\n",
        "# for layer in layers:\n",
        "#   old_dict[layer] = new_state_dict[layer] \n",
        "# vgg16_fine_tune_last_layer.load_state_dict(old_dict)\n",
        "\n",
        "\n",
        "# #optimizer.load_state_dict(checkpoint['optimizer_state_dict'])\n",
        "\n",
        "# vgg16_fine_tune_last_layer.train()\n",
        "\n"
      ],
      "execution_count": null,
      "outputs": []
    },
    {
      "cell_type": "code",
      "metadata": {
        "id": "p6qba5XJ6Oc9"
      },
      "source": [
        "## we will save and load this dictionary only"
      ],
      "execution_count": null,
      "outputs": []
    },
    {
      "cell_type": "code",
      "metadata": {
        "id": "Ozk7oJn03QVJ"
      },
      "source": [
        "def accuracy(x, targets):\n",
        "  # receive the outputs of linear layer\n",
        "  # first apply softmax then take argmax to know the index\n",
        "  # then compare\n",
        "  # input will be (batch_size, )\n",
        "  probs = nn.functional.softmax(x)\n",
        "  labels = torch.argmax(probs, dim=1)\n",
        "\n",
        "  count=0\n",
        "  for label, target in zip(labels, targets):\n",
        "    #print(label, target)\n",
        "    if(label.item() == target.item()):\n",
        "      count+=1\n",
        "  \n",
        "  return count/labels.shape[0]\n",
        "\n"
      ],
      "execution_count": null,
      "outputs": []
    },
    {
      "cell_type": "code",
      "metadata": {
        "id": "2ahmi8ktVOps"
      },
      "source": [
        "# temp = torch.randn(2,1,227,227)"
      ],
      "execution_count": null,
      "outputs": []
    },
    {
      "cell_type": "code",
      "metadata": {
        "id": "f2savO4vVf7f"
      },
      "source": [
        "# _mean = temp[:,0,:,:].mean(axis=0)\n",
        "# print(_mean.shape)"
      ],
      "execution_count": null,
      "outputs": []
    },
    {
      "cell_type": "code",
      "metadata": {
        "colab": {
          "base_uri": "https://localhost:8080/",
          "height": 343,
          "referenced_widgets": [
            "05b26074949245bca946f1f01ba4e611",
            "4f4844905efd450f9fbaf95f3d146c1e",
            "43e608e52f384e89973175976281bdd2",
            "8bdc7bfdf39a4f65860121767f0c795b",
            "182c7b13e12344698b5123f626937a1f",
            "69954d182e3b40a39e68388d8aa7745a",
            "d18f30d480644e9998841cbaa41a0444",
            "0c6bdc52d6d44951a3f84571e815b771",
            "0a0ef5bc73a944cf839885a7f440880f",
            "2858241592cc4a6e81b047baef057380",
            "e431c668d6db4c0a8cdde809d1107d1d",
            "87ca2bef99884b4592343b4aa6c1b99e",
            "5ae38c408f0d45d6855444aa0fc4f412",
            "daff436cb50d4031ad7f7f3d795b1891",
            "4334d1e52fd14fe2a6a6a5a9a6828cfb",
            "c0aac93c1cab4b389474c0d0518b4032",
            "56620f5e3dc04b0288acd5f6a80391ac",
            "b7028cec59fb4b67b161eb224cb4b292",
            "e063c467b6f04a37b322c9c2b5de9e0a",
            "9090b9bec6a346d798395bb7daf65eb1",
            "ee1f6596336a4041a84616bd68354d3b",
            "d504ac5240234f7e8283b7f68c789f6e",
            "5c04321c13df4bffaff321c711a36017",
            "eeeb46a54267482e97771d1c47dde4bf",
            "091037e06c7f45728d24d1a87022bfb0",
            "48dfebf1e34d4d3da35f30fed5252702",
            "53efb02808b04498b26a9bb9cb16e256",
            "563096debbb74610849db08052a17638",
            "1bf2e04239734c66927183bd5aed2766",
            "46d297d1732c4d23a80676f61aa7b28f",
            "6d8e5e5a22814b5ea8453382dd5cbefb",
            "875a7286489a4da39e04d9686aa4d9e5",
            "043f85490888421eb504a8e6ca750732",
            "870c2b3c2c784ea4b546bf0cfbeab8e7",
            "b6442dd877fc48c9b7cf86cb3749b66a",
            "346d914112e34f66a68ae4fd26ffa8b8",
            "506a8847c35a40c5aa26783e6ea36ddc",
            "8340fc72bda247e8aabac3941d53aafc",
            "975df29f0a1d4e45a1484fabd52a48cc",
            "1db66ff9cf9f4ebc8b74186cfefb881a",
            "9294a0089021490985b3381a31c73584",
            "72cafa054d7d4fccad4930e53a5e05ed",
            "7eca063f9b564fdab5eb98ac29bee134",
            "fa3a28e95cfd4228b5d459275d05baeb",
            "85cfbfd634ae45b2b33b272ffcc4b82a",
            "cf6040156eab4366a2c88942e4105947",
            "e3ec7885b85b40a58751c2079a786f4f",
            "5962ce0ca3674d42bf61119fdc093adc",
            "563f96ea06f54fdaa2cb91c68654a13e",
            "d36a0168bfc447f99bd8e076d9e1499d",
            "0943adfc5cfc449180295e3c7d1c4308",
            "a61d9ff1556a4194aa2886768ca5b012",
            "2d0ab46408b34c5ba94b4cb23eba4686",
            "3784797e61cf4e659d65a16ce378a3c5",
            "5af14a60f003437f81dc657b9981087a",
            "236881d631174ecea7ba1095f1274610"
          ]
        },
        "id": "97S8TtiXPdmD",
        "outputId": "686d1e27-071c-441b-bb60-256ce2f52083"
      },
      "source": [
        "train_losses, test_losses = [], []\n",
        "train_acc, test_acc = [], []\n",
        "test_counter = [idx*len(test_dataloader.dataset) for idx in range(1, n_epochs+1)]\n",
        "train_counter = [idx*len(train_dataloader.dataset) for idx in range(1, n_epochs+1)]\n",
        "\n",
        "n_epochs = 7\n",
        "for epoch in range(n_epochs):\n",
        "\n",
        "  # Training loop\n",
        "  loss = 0\n",
        "  acc = 0\n",
        "  tqdm_bar = tqdm(train_dataloader, desc=f'Training Epoch {epoch} ', total=int(len(train_dataloader)))\n",
        "\n",
        "  for batch_idx, imgs in enumerate(tqdm_bar):\n",
        "\n",
        "    optimizer.zero_grad()\n",
        "\n",
        "\n",
        "    resnet18_fine_tune.train();\n",
        "\n",
        "    for key in imgs:\n",
        "      imgs[key] = imgs[key].to(device)\n",
        "\n",
        "    holistic_img = imgs['left']\n",
        "    targets = imgs['targets']\n",
        "\n",
        "    prediction = resnet18_fine_tune(holistic_img.to(device))\n",
        "\n",
        "    loss_calc = criterion(prediction.to(device), targets.to(device))\n",
        "\n",
        "    loss_calc.backward()\n",
        "    optimizer.step()\n",
        "\n",
        "    loss += loss_calc.item()\n",
        "    acc += accuracy(prediction.to(device), targets.to(device))\n",
        "    tqdm_bar.set_postfix(loss=loss/(batch_idx+1), acc = acc/(batch_idx+1))\n",
        "\n",
        "  train_losses.append(loss/len(train_dataloader)) ## divided by total number of batches\n",
        "\n",
        "\n",
        "\n",
        "  \n",
        "\n",
        "\n",
        "  ## Testing loop\n",
        "  loss = 0\n",
        "  acc = 0\n",
        "  tqdm_bar = tqdm(test_dataloader, desc=f'Testing Epoch {epoch} ', total=int(len(test_dataloader)))\n",
        "\n",
        "  for batch_idx, imgs in enumerate(tqdm_bar):\n",
        "\n",
        "    resnet18_fine_tune.eval();\n",
        "    \n",
        "    for key in imgs:\n",
        "      imgs[key] = imgs[key].to(device)\n",
        "\n",
        "    holistic_img = imgs['left']\n",
        "    targets = imgs['targets']\n",
        "\n",
        "    prediction = resnet18_fine_tune(holistic_img.to(device))\n",
        "\n",
        "    loss_calc = criterion(prediction.to(device), targets.to(device))\n",
        "\n",
        "    loss += loss_calc.item()\n",
        "    acc += accuracy(prediction.to(device), targets.to(device))\n",
        "    tqdm_bar.set_postfix(loss=loss/(batch_idx+1), acc = acc/(batch_idx+1))\n",
        "\n",
        "  test_losses.append(loss/len(test_dataloader)) ## divided by total number of batches\n",
        "\n",
        "  if(True):\n",
        "    torch.save({\n",
        "          \n",
        "          'resnet18_fine_tune' : resnet18_fine_tune.state_dict(),\n",
        "          'optimizer_state_dict': optimizer.state_dict(),\n",
        "          'train_loss' : train_losses[-1],\n",
        "          'test_loss' : test_losses[-1],\n",
        "          'epoch': epoch+1,\n",
        "          }, f\"/content/drive/MyDrive/resnet18_left/checkpt{epoch+1}.pt\")"
      ],
      "execution_count": null,
      "outputs": [
        {
          "output_type": "display_data",
          "data": {
            "application/vnd.jupyter.widget-view+json": {
              "model_id": "05b26074949245bca946f1f01ba4e611",
              "version_minor": 0,
              "version_major": 2
            },
            "text/plain": [
              "HBox(children=(FloatProgress(value=0.0, description='Training Epoch 0 ', max=2125.0, style=ProgressStyle(descr…"
            ]
          },
          "metadata": {
            "tags": []
          }
        },
        {
          "output_type": "stream",
          "text": [
            "\n"
          ],
          "name": "stdout"
        },
        {
          "output_type": "display_data",
          "data": {
            "application/vnd.jupyter.widget-view+json": {
              "model_id": "0a0ef5bc73a944cf839885a7f440880f",
              "version_minor": 0,
              "version_major": 2
            },
            "text/plain": [
              "HBox(children=(FloatProgress(value=0.0, description='Testing Epoch 0 ', max=375.0, style=ProgressStyle(descrip…"
            ]
          },
          "metadata": {
            "tags": []
          }
        },
        {
          "output_type": "stream",
          "text": [
            "\n"
          ],
          "name": "stdout"
        },
        {
          "output_type": "display_data",
          "data": {
            "application/vnd.jupyter.widget-view+json": {
              "model_id": "56620f5e3dc04b0288acd5f6a80391ac",
              "version_minor": 0,
              "version_major": 2
            },
            "text/plain": [
              "HBox(children=(FloatProgress(value=0.0, description='Training Epoch 1 ', max=2125.0, style=ProgressStyle(descr…"
            ]
          },
          "metadata": {
            "tags": []
          }
        },
        {
          "output_type": "stream",
          "text": [
            "\n"
          ],
          "name": "stdout"
        },
        {
          "output_type": "display_data",
          "data": {
            "application/vnd.jupyter.widget-view+json": {
              "model_id": "091037e06c7f45728d24d1a87022bfb0",
              "version_minor": 0,
              "version_major": 2
            },
            "text/plain": [
              "HBox(children=(FloatProgress(value=0.0, description='Testing Epoch 1 ', max=375.0, style=ProgressStyle(descrip…"
            ]
          },
          "metadata": {
            "tags": []
          }
        },
        {
          "output_type": "stream",
          "text": [
            "\n"
          ],
          "name": "stdout"
        },
        {
          "output_type": "display_data",
          "data": {
            "application/vnd.jupyter.widget-view+json": {
              "model_id": "043f85490888421eb504a8e6ca750732",
              "version_minor": 0,
              "version_major": 2
            },
            "text/plain": [
              "HBox(children=(FloatProgress(value=0.0, description='Training Epoch 2 ', max=2125.0, style=ProgressStyle(descr…"
            ]
          },
          "metadata": {
            "tags": []
          }
        },
        {
          "output_type": "stream",
          "text": [
            "\n"
          ],
          "name": "stdout"
        },
        {
          "output_type": "display_data",
          "data": {
            "application/vnd.jupyter.widget-view+json": {
              "model_id": "9294a0089021490985b3381a31c73584",
              "version_minor": 0,
              "version_major": 2
            },
            "text/plain": [
              "HBox(children=(FloatProgress(value=0.0, description='Testing Epoch 2 ', max=375.0, style=ProgressStyle(descrip…"
            ]
          },
          "metadata": {
            "tags": []
          }
        },
        {
          "output_type": "stream",
          "text": [
            "\n"
          ],
          "name": "stdout"
        },
        {
          "output_type": "display_data",
          "data": {
            "application/vnd.jupyter.widget-view+json": {
              "model_id": "563f96ea06f54fdaa2cb91c68654a13e",
              "version_minor": 0,
              "version_major": 2
            },
            "text/plain": [
              "HBox(children=(FloatProgress(value=0.0, description='Training Epoch 3 ', max=2125.0, style=ProgressStyle(descr…"
            ]
          },
          "metadata": {
            "tags": []
          }
        }
      ]
    },
    {
      "cell_type": "code",
      "metadata": {
        "id": "M7wXdfQrGSvF"
      },
      "source": [
        "## load the weights till epoch 9\n",
        "checkpoint = torch.load(\"/content/drive/MyDrive/resnet18_left/checkpt3.pt\",map_location=torch.device(device))\n",
        "resnet18_fine_tune.load_state_dict(checkpoint['resnet18_fine_tune'])\n",
        "optimizer.load_state_dict(checkpoint['optimizer_state_dict'])"
      ],
      "execution_count": null,
      "outputs": []
    },
    {
      "cell_type": "code",
      "metadata": {
        "id": "lffn2caJrdVu"
      },
      "source": [
        "## load the weights till epoch 9\n",
        "checkpoint = torch.load(\"/content/drive/MyDrive/resnet18_left/checkpt3.pt\",map_location=torch.device(device))\n",
        "resnet18_fine_tune.load_state_dict(checkpoint['resnet18_fine_tune'])\n",
        "optimizer.load_state_dict(checkpoint['optimizer_state_dict'])\n",
        "\n",
        "with torch.no_grad():\n",
        "  for batch_idx, batch in enumerate(train_dataloader):\n",
        "    # if(batch_idx == 10):\n",
        "    #   break\n",
        "    right_half = batch['left']\n",
        "    #holistic_img = holistic_img.repeat_interleave(3, dim=1)\n",
        "    feature_tensor = resnet18_fine_tune(right_half)\n",
        "    torch.save(feature_tensor, f'/content/drive/MyDrive/resnet18_left_features/train/{batch_idx}.pt')"
      ],
      "execution_count": null,
      "outputs": []
    },
    {
      "cell_type": "code",
      "metadata": {
        "id": "alUiQWnb62Pr"
      },
      "source": [
        "## load the weights till epoch 9\n",
        "checkpoint = torch.load(\"/content/drive/MyDrive/resnet18_left/checkpt3.pt\",map_location=torch.device(device))\n",
        "resnet18_fine_tune.load_state_dict(checkpoint['resnet18_fine_tune'])\n",
        "optimizer.load_state_dict(checkpoint['optimizer_state_dict'])\n",
        "\n",
        "with torch.no_grad():\n",
        "  for batch_idx, batch in enumerate(test_dataloader):\n",
        "    # if(batch_idx == 10):\n",
        "    #   break\n",
        "    right_half = batch['left']\n",
        "    #holistic_img = holistic_img.repeat_interleave(3, dim=1)\n",
        "    feature_tensor = resnet18_fine_tune(right_half)\n",
        "    torch.save(feature_tensor, f'/content/drive/MyDrive/resnet18_left_features/test/{batch_idx}.pt')"
      ],
      "execution_count": null,
      "outputs": []
    },
    {
      "cell_type": "code",
      "metadata": {
        "id": "JjemNBEjC1wl"
      },
      "source": [
        "# train_losses, test_losses = [], []\n",
        "# train_acc, test_acc = [], []\n",
        "# test_counter = [idx*len(test_dataloader.dataset) for idx in range(1, n_epochs+1)]\n",
        "# train_counter = [idx*len(train_dataloader.dataset) for idx in range(1, n_epochs+1)]\n",
        "\n",
        "# n_epochs = 25\n",
        "# for epoch in range(10,n_epochs):\n",
        "\n",
        "#   # Training loop\n",
        "#   loss = 0\n",
        "#   acc = 0\n",
        "#   tqdm_bar = tqdm(train_dataloader, desc=f'Training Epoch {epoch} ', total=int(len(train_dataloader)))\n",
        "\n",
        "#   for batch_idx, imgs in enumerate(tqdm_bar):\n",
        "\n",
        "#     optimizer.zero_grad()\n",
        "\n",
        "\n",
        "#     resnet18_fine_tune.train();\n",
        "\n",
        "#     for key in imgs:\n",
        "#       imgs[key] = imgs[key].to(device)\n",
        "\n",
        "#     holistic_img = imgs['holistic']\n",
        "#     targets = imgs['targets']\n",
        "#     # _mean = holistic_img[:,0,:,:].mean(axis=0)\n",
        "#     # _std  = holistic_img[:,0,:,:].std(axis=0)\n",
        "#     # holistic_img[:,0,:,:] = (holistic_img[:,0,:,:]-_mean)/_std\n",
        "\n",
        "#     ## convert the 1 channel image to 3 channel image\n",
        "#     #holistic_img_3 = holistic_img.repeat_interleave(3, dim=1)\n",
        "#     #holistic_img_3[:, 1:3, :, :] = 0\n",
        "\n",
        "#     prediction = resnet18_fine_tune(holistic_img.to(device))\n",
        "\n",
        "#     loss_calc = criterion(prediction.to(device), targets.to(device))\n",
        "\n",
        "#     loss_calc.backward()\n",
        "#     optimizer.step()\n",
        "\n",
        "#     loss += loss_calc.item()\n",
        "#     acc += accuracy(prediction.to(device), targets.to(device))\n",
        "#     tqdm_bar.set_postfix(loss=loss/(batch_idx+1), acc = acc/(batch_idx+1))\n",
        "\n",
        "#   train_losses.append(loss/len(train_dataloader)) ## divided by total number of batches\n",
        "\n",
        "\n",
        "\n",
        "  \n",
        "\n",
        "\n",
        "#   ## Testing loop\n",
        "#   loss = 0\n",
        "#   acc = 0\n",
        "#   tqdm_bar = tqdm(test_dataloader, desc=f'Testing Epoch {epoch} ', total=int(len(test_dataloader)))\n",
        "\n",
        "#   for batch_idx, imgs in enumerate(tqdm_bar):\n",
        "\n",
        "#     resnet18_fine_tune.eval();\n",
        "    \n",
        "#     for key in imgs:\n",
        "#       imgs[key] = imgs[key].to(device)\n",
        "\n",
        "#     holistic_img = imgs['holistic']\n",
        "#     targets = imgs['targets']\n",
        "#     # _mean = holistic_img[:,0,:,:].mean(axis=0)\n",
        "#     # _std  = holistic_img[:,0,:,:].std(axis=0)\n",
        "#     # holistic_img[:,0,:,:] = (holistic_img[:,0,:,:]-_mean)/_std\n",
        "    \n",
        "#     ## convert the 1 channel image to 3 channel image\n",
        "#     #holistic_img_3 = holistic_img.repeat_interleave(3, dim=1)\n",
        "    \n",
        "#     #holistic_img_3[:, 1:3, :, :] = 0\n",
        "    \n",
        "#     prediction = resnet18_fine_tune(holistic_img.to(device))\n",
        "\n",
        "#     loss_calc = criterion(prediction.to(device), targets.to(device))\n",
        "\n",
        "#     loss += loss_calc.item()\n",
        "#     acc += accuracy(prediction.to(device), targets.to(device))\n",
        "#     tqdm_bar.set_postfix(loss=loss/(batch_idx+1), acc = acc/(batch_idx+1))\n",
        "\n",
        "#   test_losses.append(loss/len(test_dataloader)) ## divided by total number of batches\n",
        "\n",
        "\n",
        "#   #new_state_dict = {}\n",
        "#   # layers = ['last_layer.weight', 'last_layer.bias']\n",
        "#   # for layer in layers:\n",
        "#   #   new_state_dict[layer] = vgg16_fine_tune_last_layer.state_dict()[layer]\n",
        "\n",
        "#   if(True):\n",
        "#     torch.save({\n",
        "          \n",
        "#           'resnet18_fine_tune' : resnet18_fine_tune.state_dict(),\n",
        "#           'optimizer_state_dict': optimizer.state_dict(),\n",
        "#           'train_loss' : train_losses[-1],\n",
        "#           'test_loss' : test_losses[-1],\n",
        "#           'epoch': epoch+1,\n",
        "#           }, f\"/content/drive/MyDrive/resnet18_fine_tune_all_four_blocks/checkpt{epoch+1}.pt\")"
      ],
      "execution_count": null,
      "outputs": []
    },
    {
      "cell_type": "code",
      "metadata": {
        "id": "3WJE5XkKO6kU"
      },
      "source": [
        "# train_paths, test_paths = train_test_split(train_path, test_size=0.1, random_state=42)\n",
        "# #train_paths = train_paths[:len(train_paths)]\n",
        "# test_paths = test_paths[:len(test_paths)]\n",
        "\n",
        "# #train_dataloader = DataLoader(ImageDataset(train_paths), batch_size=batch_size, shuffle=True, num_workers=n_cpu)\n",
        "# test_dataloader = DataLoader(ImageDataset(test_paths), batch_size=int(batch_size), shuffle=True, num_workers=n_cpu)"
      ],
      "execution_count": null,
      "outputs": []
    },
    {
      "cell_type": "code",
      "metadata": {
        "id": "I7z3c-_yEXWy"
      },
      "source": [
        "# ######## Evaluation loop\n",
        "# train_losses, test_losses = [], []\n",
        "# train_acc, test_acc = [], []\n",
        "# test_counter = [idx*len(test_dataloader.dataset) for idx in range(1, n_epochs+1)]\n",
        "# train_counter = [idx*len(train_dataloader.dataset) for idx in range(1, n_epochs+1)]\n",
        "\n",
        "# n_epochs = 1\n",
        "# for epoch in range(n_epochs):\n",
        "#   ## Testing loop\n",
        "#   loss = 0\n",
        "#   acc = 0\n",
        "#   tqdm_bar = tqdm(test_dataloader, desc=f'Testing Epoch {epoch} ', total=int(len(test_dataloader)))\n",
        "\n",
        "#   for batch_idx, imgs in enumerate(tqdm_bar):\n",
        "\n",
        "#     resnet18_fine_tune.eval();\n",
        "    \n",
        "#     for key in imgs:\n",
        "#       imgs[key] = imgs[key].to(device)\n",
        "\n",
        "#     holistic_img = imgs['holistic']\n",
        "#     targets = imgs['targets']\n",
        "    \n",
        "#     prediction = resnet18_fine_tune(holistic_img.to(device))\n",
        "\n",
        "#     loss_calc = criterion(prediction.to(device), targets.to(device))\n",
        "\n",
        "#     loss += loss_calc.item()\n",
        "#     acc += accuracy(prediction.to(device), targets.to(device))\n",
        "#     tqdm_bar.set_postfix(loss=loss/(batch_idx+1), acc = acc/(batch_idx+1))\n",
        "\n",
        "#   test_losses.append(loss/len(test_dataloader)) ## divided by total number of batches"
      ],
      "execution_count": null,
      "outputs": []
    }
  ]
}