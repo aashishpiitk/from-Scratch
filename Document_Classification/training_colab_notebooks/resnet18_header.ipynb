{
  "nbformat": 4,
  "nbformat_minor": 0,
  "metadata": {
    "colab": {
      "name": "resnet18_header.ipynb",
      "provenance": [],
      "collapsed_sections": [],
      "authorship_tag": "ABX9TyPqjjbQHXWVTFZC+3k1LDLl",
      "include_colab_link": true
    },
    "kernelspec": {
      "display_name": "Python 3",
      "name": "python3"
    },
    "language_info": {
      "name": "python"
    },
    "widgets": {
      "application/vnd.jupyter.widget-state+json": {
        "527317dbfc704c31931bf183c92f8a03": {
          "model_module": "@jupyter-widgets/controls",
          "model_name": "HBoxModel",
          "state": {
            "_view_name": "HBoxView",
            "_dom_classes": [],
            "_model_name": "HBoxModel",
            "_view_module": "@jupyter-widgets/controls",
            "_model_module_version": "1.5.0",
            "_view_count": null,
            "_view_module_version": "1.5.0",
            "box_style": "",
            "layout": "IPY_MODEL_0575838786e34306a2a30e3aa66478c7",
            "_model_module": "@jupyter-widgets/controls",
            "children": [
              "IPY_MODEL_a482147e696f476695b5b38909e95a72",
              "IPY_MODEL_3cf2d3b4bd0541419e79db4e3b12c988"
            ]
          }
        },
        "0575838786e34306a2a30e3aa66478c7": {
          "model_module": "@jupyter-widgets/base",
          "model_name": "LayoutModel",
          "state": {
            "_view_name": "LayoutView",
            "grid_template_rows": null,
            "right": null,
            "justify_content": null,
            "_view_module": "@jupyter-widgets/base",
            "overflow": null,
            "_model_module_version": "1.2.0",
            "_view_count": null,
            "flex_flow": null,
            "width": null,
            "min_width": null,
            "border": null,
            "align_items": null,
            "bottom": null,
            "_model_module": "@jupyter-widgets/base",
            "top": null,
            "grid_column": null,
            "overflow_y": null,
            "overflow_x": null,
            "grid_auto_flow": null,
            "grid_area": null,
            "grid_template_columns": null,
            "flex": null,
            "_model_name": "LayoutModel",
            "justify_items": null,
            "grid_row": null,
            "max_height": null,
            "align_content": null,
            "visibility": null,
            "align_self": null,
            "height": null,
            "min_height": null,
            "padding": null,
            "grid_auto_rows": null,
            "grid_gap": null,
            "max_width": null,
            "order": null,
            "_view_module_version": "1.2.0",
            "grid_template_areas": null,
            "object_position": null,
            "object_fit": null,
            "grid_auto_columns": null,
            "margin": null,
            "display": null,
            "left": null
          }
        },
        "a482147e696f476695b5b38909e95a72": {
          "model_module": "@jupyter-widgets/controls",
          "model_name": "FloatProgressModel",
          "state": {
            "_view_name": "ProgressView",
            "style": "IPY_MODEL_f2518d40036248a0b7486f44724b9278",
            "_dom_classes": [],
            "description": "100%",
            "_model_name": "FloatProgressModel",
            "bar_style": "success",
            "max": 46827520,
            "_view_module": "@jupyter-widgets/controls",
            "_model_module_version": "1.5.0",
            "value": 46827520,
            "_view_count": null,
            "_view_module_version": "1.5.0",
            "orientation": "horizontal",
            "min": 0,
            "description_tooltip": null,
            "_model_module": "@jupyter-widgets/controls",
            "layout": "IPY_MODEL_3aba401593334c298cba380b29de9f5e"
          }
        },
        "3cf2d3b4bd0541419e79db4e3b12c988": {
          "model_module": "@jupyter-widgets/controls",
          "model_name": "HTMLModel",
          "state": {
            "_view_name": "HTMLView",
            "style": "IPY_MODEL_b85e72b821fc4836abc70c98518a8b73",
            "_dom_classes": [],
            "description": "",
            "_model_name": "HTMLModel",
            "placeholder": "​",
            "_view_module": "@jupyter-widgets/controls",
            "_model_module_version": "1.5.0",
            "value": " 44.7M/44.7M [00:05&lt;00:00, 8.17MB/s]",
            "_view_count": null,
            "_view_module_version": "1.5.0",
            "description_tooltip": null,
            "_model_module": "@jupyter-widgets/controls",
            "layout": "IPY_MODEL_683a56f903314187b557cfc14ae2ee9a"
          }
        },
        "f2518d40036248a0b7486f44724b9278": {
          "model_module": "@jupyter-widgets/controls",
          "model_name": "ProgressStyleModel",
          "state": {
            "_view_name": "StyleView",
            "_model_name": "ProgressStyleModel",
            "description_width": "initial",
            "_view_module": "@jupyter-widgets/base",
            "_model_module_version": "1.5.0",
            "_view_count": null,
            "_view_module_version": "1.2.0",
            "bar_color": null,
            "_model_module": "@jupyter-widgets/controls"
          }
        },
        "3aba401593334c298cba380b29de9f5e": {
          "model_module": "@jupyter-widgets/base",
          "model_name": "LayoutModel",
          "state": {
            "_view_name": "LayoutView",
            "grid_template_rows": null,
            "right": null,
            "justify_content": null,
            "_view_module": "@jupyter-widgets/base",
            "overflow": null,
            "_model_module_version": "1.2.0",
            "_view_count": null,
            "flex_flow": null,
            "width": null,
            "min_width": null,
            "border": null,
            "align_items": null,
            "bottom": null,
            "_model_module": "@jupyter-widgets/base",
            "top": null,
            "grid_column": null,
            "overflow_y": null,
            "overflow_x": null,
            "grid_auto_flow": null,
            "grid_area": null,
            "grid_template_columns": null,
            "flex": null,
            "_model_name": "LayoutModel",
            "justify_items": null,
            "grid_row": null,
            "max_height": null,
            "align_content": null,
            "visibility": null,
            "align_self": null,
            "height": null,
            "min_height": null,
            "padding": null,
            "grid_auto_rows": null,
            "grid_gap": null,
            "max_width": null,
            "order": null,
            "_view_module_version": "1.2.0",
            "grid_template_areas": null,
            "object_position": null,
            "object_fit": null,
            "grid_auto_columns": null,
            "margin": null,
            "display": null,
            "left": null
          }
        },
        "b85e72b821fc4836abc70c98518a8b73": {
          "model_module": "@jupyter-widgets/controls",
          "model_name": "DescriptionStyleModel",
          "state": {
            "_view_name": "StyleView",
            "_model_name": "DescriptionStyleModel",
            "description_width": "",
            "_view_module": "@jupyter-widgets/base",
            "_model_module_version": "1.5.0",
            "_view_count": null,
            "_view_module_version": "1.2.0",
            "_model_module": "@jupyter-widgets/controls"
          }
        },
        "683a56f903314187b557cfc14ae2ee9a": {
          "model_module": "@jupyter-widgets/base",
          "model_name": "LayoutModel",
          "state": {
            "_view_name": "LayoutView",
            "grid_template_rows": null,
            "right": null,
            "justify_content": null,
            "_view_module": "@jupyter-widgets/base",
            "overflow": null,
            "_model_module_version": "1.2.0",
            "_view_count": null,
            "flex_flow": null,
            "width": null,
            "min_width": null,
            "border": null,
            "align_items": null,
            "bottom": null,
            "_model_module": "@jupyter-widgets/base",
            "top": null,
            "grid_column": null,
            "overflow_y": null,
            "overflow_x": null,
            "grid_auto_flow": null,
            "grid_area": null,
            "grid_template_columns": null,
            "flex": null,
            "_model_name": "LayoutModel",
            "justify_items": null,
            "grid_row": null,
            "max_height": null,
            "align_content": null,
            "visibility": null,
            "align_self": null,
            "height": null,
            "min_height": null,
            "padding": null,
            "grid_auto_rows": null,
            "grid_gap": null,
            "max_width": null,
            "order": null,
            "_view_module_version": "1.2.0",
            "grid_template_areas": null,
            "object_position": null,
            "object_fit": null,
            "grid_auto_columns": null,
            "margin": null,
            "display": null,
            "left": null
          }
        },
        "044d630ee6fd4b5e8f58da0db17f51a4": {
          "model_module": "@jupyter-widgets/controls",
          "model_name": "HBoxModel",
          "state": {
            "_view_name": "HBoxView",
            "_dom_classes": [],
            "_model_name": "HBoxModel",
            "_view_module": "@jupyter-widgets/controls",
            "_model_module_version": "1.5.0",
            "_view_count": null,
            "_view_module_version": "1.5.0",
            "box_style": "",
            "layout": "IPY_MODEL_d8604bfae0824cf193b7ea32f16b94de",
            "_model_module": "@jupyter-widgets/controls",
            "children": [
              "IPY_MODEL_95530f61c8104b97b17143a06dbf8919",
              "IPY_MODEL_4a9131c5873949328ec89ccc9606cebc"
            ]
          }
        },
        "d8604bfae0824cf193b7ea32f16b94de": {
          "model_module": "@jupyter-widgets/base",
          "model_name": "LayoutModel",
          "state": {
            "_view_name": "LayoutView",
            "grid_template_rows": null,
            "right": null,
            "justify_content": null,
            "_view_module": "@jupyter-widgets/base",
            "overflow": null,
            "_model_module_version": "1.2.0",
            "_view_count": null,
            "flex_flow": null,
            "width": null,
            "min_width": null,
            "border": null,
            "align_items": null,
            "bottom": null,
            "_model_module": "@jupyter-widgets/base",
            "top": null,
            "grid_column": null,
            "overflow_y": null,
            "overflow_x": null,
            "grid_auto_flow": null,
            "grid_area": null,
            "grid_template_columns": null,
            "flex": null,
            "_model_name": "LayoutModel",
            "justify_items": null,
            "grid_row": null,
            "max_height": null,
            "align_content": null,
            "visibility": null,
            "align_self": null,
            "height": null,
            "min_height": null,
            "padding": null,
            "grid_auto_rows": null,
            "grid_gap": null,
            "max_width": null,
            "order": null,
            "_view_module_version": "1.2.0",
            "grid_template_areas": null,
            "object_position": null,
            "object_fit": null,
            "grid_auto_columns": null,
            "margin": null,
            "display": null,
            "left": null
          }
        },
        "95530f61c8104b97b17143a06dbf8919": {
          "model_module": "@jupyter-widgets/controls",
          "model_name": "FloatProgressModel",
          "state": {
            "_view_name": "ProgressView",
            "style": "IPY_MODEL_2ebc1beaa1104ccf93159b15eb97445b",
            "_dom_classes": [],
            "description": "Training Epoch 0 : 100%",
            "_model_name": "FloatProgressModel",
            "bar_style": "success",
            "max": 2125,
            "_view_module": "@jupyter-widgets/controls",
            "_model_module_version": "1.5.0",
            "value": 2125,
            "_view_count": null,
            "_view_module_version": "1.5.0",
            "orientation": "horizontal",
            "min": 0,
            "description_tooltip": null,
            "_model_module": "@jupyter-widgets/controls",
            "layout": "IPY_MODEL_53371015b3fa471495e566f37682fce4"
          }
        },
        "4a9131c5873949328ec89ccc9606cebc": {
          "model_module": "@jupyter-widgets/controls",
          "model_name": "HTMLModel",
          "state": {
            "_view_name": "HTMLView",
            "style": "IPY_MODEL_e6b3a5d2c5e8498b86e4c4d7edc0e407",
            "_dom_classes": [],
            "description": "",
            "_model_name": "HTMLModel",
            "placeholder": "​",
            "_view_module": "@jupyter-widgets/controls",
            "_model_module_version": "1.5.0",
            "value": " 2125/2125 [22:04&lt;00:00,  1.60it/s, acc=0.316, loss=4.88]",
            "_view_count": null,
            "_view_module_version": "1.5.0",
            "description_tooltip": null,
            "_model_module": "@jupyter-widgets/controls",
            "layout": "IPY_MODEL_6edefda6ded84203b40066542d28e56a"
          }
        },
        "2ebc1beaa1104ccf93159b15eb97445b": {
          "model_module": "@jupyter-widgets/controls",
          "model_name": "ProgressStyleModel",
          "state": {
            "_view_name": "StyleView",
            "_model_name": "ProgressStyleModel",
            "description_width": "initial",
            "_view_module": "@jupyter-widgets/base",
            "_model_module_version": "1.5.0",
            "_view_count": null,
            "_view_module_version": "1.2.0",
            "bar_color": null,
            "_model_module": "@jupyter-widgets/controls"
          }
        },
        "53371015b3fa471495e566f37682fce4": {
          "model_module": "@jupyter-widgets/base",
          "model_name": "LayoutModel",
          "state": {
            "_view_name": "LayoutView",
            "grid_template_rows": null,
            "right": null,
            "justify_content": null,
            "_view_module": "@jupyter-widgets/base",
            "overflow": null,
            "_model_module_version": "1.2.0",
            "_view_count": null,
            "flex_flow": null,
            "width": null,
            "min_width": null,
            "border": null,
            "align_items": null,
            "bottom": null,
            "_model_module": "@jupyter-widgets/base",
            "top": null,
            "grid_column": null,
            "overflow_y": null,
            "overflow_x": null,
            "grid_auto_flow": null,
            "grid_area": null,
            "grid_template_columns": null,
            "flex": null,
            "_model_name": "LayoutModel",
            "justify_items": null,
            "grid_row": null,
            "max_height": null,
            "align_content": null,
            "visibility": null,
            "align_self": null,
            "height": null,
            "min_height": null,
            "padding": null,
            "grid_auto_rows": null,
            "grid_gap": null,
            "max_width": null,
            "order": null,
            "_view_module_version": "1.2.0",
            "grid_template_areas": null,
            "object_position": null,
            "object_fit": null,
            "grid_auto_columns": null,
            "margin": null,
            "display": null,
            "left": null
          }
        },
        "e6b3a5d2c5e8498b86e4c4d7edc0e407": {
          "model_module": "@jupyter-widgets/controls",
          "model_name": "DescriptionStyleModel",
          "state": {
            "_view_name": "StyleView",
            "_model_name": "DescriptionStyleModel",
            "description_width": "",
            "_view_module": "@jupyter-widgets/base",
            "_model_module_version": "1.5.0",
            "_view_count": null,
            "_view_module_version": "1.2.0",
            "_model_module": "@jupyter-widgets/controls"
          }
        },
        "6edefda6ded84203b40066542d28e56a": {
          "model_module": "@jupyter-widgets/base",
          "model_name": "LayoutModel",
          "state": {
            "_view_name": "LayoutView",
            "grid_template_rows": null,
            "right": null,
            "justify_content": null,
            "_view_module": "@jupyter-widgets/base",
            "overflow": null,
            "_model_module_version": "1.2.0",
            "_view_count": null,
            "flex_flow": null,
            "width": null,
            "min_width": null,
            "border": null,
            "align_items": null,
            "bottom": null,
            "_model_module": "@jupyter-widgets/base",
            "top": null,
            "grid_column": null,
            "overflow_y": null,
            "overflow_x": null,
            "grid_auto_flow": null,
            "grid_area": null,
            "grid_template_columns": null,
            "flex": null,
            "_model_name": "LayoutModel",
            "justify_items": null,
            "grid_row": null,
            "max_height": null,
            "align_content": null,
            "visibility": null,
            "align_self": null,
            "height": null,
            "min_height": null,
            "padding": null,
            "grid_auto_rows": null,
            "grid_gap": null,
            "max_width": null,
            "order": null,
            "_view_module_version": "1.2.0",
            "grid_template_areas": null,
            "object_position": null,
            "object_fit": null,
            "grid_auto_columns": null,
            "margin": null,
            "display": null,
            "left": null
          }
        },
        "42771edf756d4bc48d67a6f40258c453": {
          "model_module": "@jupyter-widgets/controls",
          "model_name": "HBoxModel",
          "state": {
            "_view_name": "HBoxView",
            "_dom_classes": [],
            "_model_name": "HBoxModel",
            "_view_module": "@jupyter-widgets/controls",
            "_model_module_version": "1.5.0",
            "_view_count": null,
            "_view_module_version": "1.5.0",
            "box_style": "",
            "layout": "IPY_MODEL_26efcc8bc9d34996a1fe41a7abb21d5d",
            "_model_module": "@jupyter-widgets/controls",
            "children": [
              "IPY_MODEL_2c53c89c9c864f97baa9d52ae1c431d3",
              "IPY_MODEL_535e9970340149be9de7ed011c6c1f25"
            ]
          }
        },
        "26efcc8bc9d34996a1fe41a7abb21d5d": {
          "model_module": "@jupyter-widgets/base",
          "model_name": "LayoutModel",
          "state": {
            "_view_name": "LayoutView",
            "grid_template_rows": null,
            "right": null,
            "justify_content": null,
            "_view_module": "@jupyter-widgets/base",
            "overflow": null,
            "_model_module_version": "1.2.0",
            "_view_count": null,
            "flex_flow": null,
            "width": null,
            "min_width": null,
            "border": null,
            "align_items": null,
            "bottom": null,
            "_model_module": "@jupyter-widgets/base",
            "top": null,
            "grid_column": null,
            "overflow_y": null,
            "overflow_x": null,
            "grid_auto_flow": null,
            "grid_area": null,
            "grid_template_columns": null,
            "flex": null,
            "_model_name": "LayoutModel",
            "justify_items": null,
            "grid_row": null,
            "max_height": null,
            "align_content": null,
            "visibility": null,
            "align_self": null,
            "height": null,
            "min_height": null,
            "padding": null,
            "grid_auto_rows": null,
            "grid_gap": null,
            "max_width": null,
            "order": null,
            "_view_module_version": "1.2.0",
            "grid_template_areas": null,
            "object_position": null,
            "object_fit": null,
            "grid_auto_columns": null,
            "margin": null,
            "display": null,
            "left": null
          }
        },
        "2c53c89c9c864f97baa9d52ae1c431d3": {
          "model_module": "@jupyter-widgets/controls",
          "model_name": "FloatProgressModel",
          "state": {
            "_view_name": "ProgressView",
            "style": "IPY_MODEL_cfd8f809848b415ab03fa7930eaeee77",
            "_dom_classes": [],
            "description": "Testing Epoch 0 : 100%",
            "_model_name": "FloatProgressModel",
            "bar_style": "success",
            "max": 375,
            "_view_module": "@jupyter-widgets/controls",
            "_model_module_version": "1.5.0",
            "value": 375,
            "_view_count": null,
            "_view_module_version": "1.5.0",
            "orientation": "horizontal",
            "min": 0,
            "description_tooltip": null,
            "_model_module": "@jupyter-widgets/controls",
            "layout": "IPY_MODEL_f91bd102fe8e409ba81f28d19b049629"
          }
        },
        "535e9970340149be9de7ed011c6c1f25": {
          "model_module": "@jupyter-widgets/controls",
          "model_name": "HTMLModel",
          "state": {
            "_view_name": "HTMLView",
            "style": "IPY_MODEL_355dc098ff6146de82f4f78dbbc1769c",
            "_dom_classes": [],
            "description": "",
            "_model_name": "HTMLModel",
            "placeholder": "​",
            "_view_module": "@jupyter-widgets/controls",
            "_model_module_version": "1.5.0",
            "value": " 375/375 [15:27&lt;00:00,  2.47s/it, acc=0.31, loss=5.3]",
            "_view_count": null,
            "_view_module_version": "1.5.0",
            "description_tooltip": null,
            "_model_module": "@jupyter-widgets/controls",
            "layout": "IPY_MODEL_26daf96e98564f109ba6ab5580e5180d"
          }
        },
        "cfd8f809848b415ab03fa7930eaeee77": {
          "model_module": "@jupyter-widgets/controls",
          "model_name": "ProgressStyleModel",
          "state": {
            "_view_name": "StyleView",
            "_model_name": "ProgressStyleModel",
            "description_width": "initial",
            "_view_module": "@jupyter-widgets/base",
            "_model_module_version": "1.5.0",
            "_view_count": null,
            "_view_module_version": "1.2.0",
            "bar_color": null,
            "_model_module": "@jupyter-widgets/controls"
          }
        },
        "f91bd102fe8e409ba81f28d19b049629": {
          "model_module": "@jupyter-widgets/base",
          "model_name": "LayoutModel",
          "state": {
            "_view_name": "LayoutView",
            "grid_template_rows": null,
            "right": null,
            "justify_content": null,
            "_view_module": "@jupyter-widgets/base",
            "overflow": null,
            "_model_module_version": "1.2.0",
            "_view_count": null,
            "flex_flow": null,
            "width": null,
            "min_width": null,
            "border": null,
            "align_items": null,
            "bottom": null,
            "_model_module": "@jupyter-widgets/base",
            "top": null,
            "grid_column": null,
            "overflow_y": null,
            "overflow_x": null,
            "grid_auto_flow": null,
            "grid_area": null,
            "grid_template_columns": null,
            "flex": null,
            "_model_name": "LayoutModel",
            "justify_items": null,
            "grid_row": null,
            "max_height": null,
            "align_content": null,
            "visibility": null,
            "align_self": null,
            "height": null,
            "min_height": null,
            "padding": null,
            "grid_auto_rows": null,
            "grid_gap": null,
            "max_width": null,
            "order": null,
            "_view_module_version": "1.2.0",
            "grid_template_areas": null,
            "object_position": null,
            "object_fit": null,
            "grid_auto_columns": null,
            "margin": null,
            "display": null,
            "left": null
          }
        },
        "355dc098ff6146de82f4f78dbbc1769c": {
          "model_module": "@jupyter-widgets/controls",
          "model_name": "DescriptionStyleModel",
          "state": {
            "_view_name": "StyleView",
            "_model_name": "DescriptionStyleModel",
            "description_width": "",
            "_view_module": "@jupyter-widgets/base",
            "_model_module_version": "1.5.0",
            "_view_count": null,
            "_view_module_version": "1.2.0",
            "_model_module": "@jupyter-widgets/controls"
          }
        },
        "26daf96e98564f109ba6ab5580e5180d": {
          "model_module": "@jupyter-widgets/base",
          "model_name": "LayoutModel",
          "state": {
            "_view_name": "LayoutView",
            "grid_template_rows": null,
            "right": null,
            "justify_content": null,
            "_view_module": "@jupyter-widgets/base",
            "overflow": null,
            "_model_module_version": "1.2.0",
            "_view_count": null,
            "flex_flow": null,
            "width": null,
            "min_width": null,
            "border": null,
            "align_items": null,
            "bottom": null,
            "_model_module": "@jupyter-widgets/base",
            "top": null,
            "grid_column": null,
            "overflow_y": null,
            "overflow_x": null,
            "grid_auto_flow": null,
            "grid_area": null,
            "grid_template_columns": null,
            "flex": null,
            "_model_name": "LayoutModel",
            "justify_items": null,
            "grid_row": null,
            "max_height": null,
            "align_content": null,
            "visibility": null,
            "align_self": null,
            "height": null,
            "min_height": null,
            "padding": null,
            "grid_auto_rows": null,
            "grid_gap": null,
            "max_width": null,
            "order": null,
            "_view_module_version": "1.2.0",
            "grid_template_areas": null,
            "object_position": null,
            "object_fit": null,
            "grid_auto_columns": null,
            "margin": null,
            "display": null,
            "left": null
          }
        },
        "4ec0a133a16e48d4bd6353a24067ec3c": {
          "model_module": "@jupyter-widgets/controls",
          "model_name": "HBoxModel",
          "state": {
            "_view_name": "HBoxView",
            "_dom_classes": [],
            "_model_name": "HBoxModel",
            "_view_module": "@jupyter-widgets/controls",
            "_model_module_version": "1.5.0",
            "_view_count": null,
            "_view_module_version": "1.5.0",
            "box_style": "",
            "layout": "IPY_MODEL_4c699ac6ffb140adbafeca04d11bfae6",
            "_model_module": "@jupyter-widgets/controls",
            "children": [
              "IPY_MODEL_904fbac548a44541b6109b91f1c8a037",
              "IPY_MODEL_8feff4b4e1614ace9396d66f88092999"
            ]
          }
        },
        "4c699ac6ffb140adbafeca04d11bfae6": {
          "model_module": "@jupyter-widgets/base",
          "model_name": "LayoutModel",
          "state": {
            "_view_name": "LayoutView",
            "grid_template_rows": null,
            "right": null,
            "justify_content": null,
            "_view_module": "@jupyter-widgets/base",
            "overflow": null,
            "_model_module_version": "1.2.0",
            "_view_count": null,
            "flex_flow": null,
            "width": null,
            "min_width": null,
            "border": null,
            "align_items": null,
            "bottom": null,
            "_model_module": "@jupyter-widgets/base",
            "top": null,
            "grid_column": null,
            "overflow_y": null,
            "overflow_x": null,
            "grid_auto_flow": null,
            "grid_area": null,
            "grid_template_columns": null,
            "flex": null,
            "_model_name": "LayoutModel",
            "justify_items": null,
            "grid_row": null,
            "max_height": null,
            "align_content": null,
            "visibility": null,
            "align_self": null,
            "height": null,
            "min_height": null,
            "padding": null,
            "grid_auto_rows": null,
            "grid_gap": null,
            "max_width": null,
            "order": null,
            "_view_module_version": "1.2.0",
            "grid_template_areas": null,
            "object_position": null,
            "object_fit": null,
            "grid_auto_columns": null,
            "margin": null,
            "display": null,
            "left": null
          }
        },
        "904fbac548a44541b6109b91f1c8a037": {
          "model_module": "@jupyter-widgets/controls",
          "model_name": "FloatProgressModel",
          "state": {
            "_view_name": "ProgressView",
            "style": "IPY_MODEL_205d0ef469534830a03fb7b06229a96a",
            "_dom_classes": [],
            "description": "Training Epoch 1 : 100%",
            "_model_name": "FloatProgressModel",
            "bar_style": "success",
            "max": 2125,
            "_view_module": "@jupyter-widgets/controls",
            "_model_module_version": "1.5.0",
            "value": 2125,
            "_view_count": null,
            "_view_module_version": "1.5.0",
            "orientation": "horizontal",
            "min": 0,
            "description_tooltip": null,
            "_model_module": "@jupyter-widgets/controls",
            "layout": "IPY_MODEL_ba7ed511dc4a4144a364be54a8b558fe"
          }
        },
        "8feff4b4e1614ace9396d66f88092999": {
          "model_module": "@jupyter-widgets/controls",
          "model_name": "HTMLModel",
          "state": {
            "_view_name": "HTMLView",
            "style": "IPY_MODEL_bb53a39b30094acfbc62ccac53782642",
            "_dom_classes": [],
            "description": "",
            "_model_name": "HTMLModel",
            "placeholder": "​",
            "_view_module": "@jupyter-widgets/controls",
            "_model_module_version": "1.5.0",
            "value": " 2125/2125 [14:19&lt;00:00,  2.47it/s, acc=0.315, loss=4.88]",
            "_view_count": null,
            "_view_module_version": "1.5.0",
            "description_tooltip": null,
            "_model_module": "@jupyter-widgets/controls",
            "layout": "IPY_MODEL_87b38b9d895b42b88c9c48b3143ba238"
          }
        },
        "205d0ef469534830a03fb7b06229a96a": {
          "model_module": "@jupyter-widgets/controls",
          "model_name": "ProgressStyleModel",
          "state": {
            "_view_name": "StyleView",
            "_model_name": "ProgressStyleModel",
            "description_width": "initial",
            "_view_module": "@jupyter-widgets/base",
            "_model_module_version": "1.5.0",
            "_view_count": null,
            "_view_module_version": "1.2.0",
            "bar_color": null,
            "_model_module": "@jupyter-widgets/controls"
          }
        },
        "ba7ed511dc4a4144a364be54a8b558fe": {
          "model_module": "@jupyter-widgets/base",
          "model_name": "LayoutModel",
          "state": {
            "_view_name": "LayoutView",
            "grid_template_rows": null,
            "right": null,
            "justify_content": null,
            "_view_module": "@jupyter-widgets/base",
            "overflow": null,
            "_model_module_version": "1.2.0",
            "_view_count": null,
            "flex_flow": null,
            "width": null,
            "min_width": null,
            "border": null,
            "align_items": null,
            "bottom": null,
            "_model_module": "@jupyter-widgets/base",
            "top": null,
            "grid_column": null,
            "overflow_y": null,
            "overflow_x": null,
            "grid_auto_flow": null,
            "grid_area": null,
            "grid_template_columns": null,
            "flex": null,
            "_model_name": "LayoutModel",
            "justify_items": null,
            "grid_row": null,
            "max_height": null,
            "align_content": null,
            "visibility": null,
            "align_self": null,
            "height": null,
            "min_height": null,
            "padding": null,
            "grid_auto_rows": null,
            "grid_gap": null,
            "max_width": null,
            "order": null,
            "_view_module_version": "1.2.0",
            "grid_template_areas": null,
            "object_position": null,
            "object_fit": null,
            "grid_auto_columns": null,
            "margin": null,
            "display": null,
            "left": null
          }
        },
        "bb53a39b30094acfbc62ccac53782642": {
          "model_module": "@jupyter-widgets/controls",
          "model_name": "DescriptionStyleModel",
          "state": {
            "_view_name": "StyleView",
            "_model_name": "DescriptionStyleModel",
            "description_width": "",
            "_view_module": "@jupyter-widgets/base",
            "_model_module_version": "1.5.0",
            "_view_count": null,
            "_view_module_version": "1.2.0",
            "_model_module": "@jupyter-widgets/controls"
          }
        },
        "87b38b9d895b42b88c9c48b3143ba238": {
          "model_module": "@jupyter-widgets/base",
          "model_name": "LayoutModel",
          "state": {
            "_view_name": "LayoutView",
            "grid_template_rows": null,
            "right": null,
            "justify_content": null,
            "_view_module": "@jupyter-widgets/base",
            "overflow": null,
            "_model_module_version": "1.2.0",
            "_view_count": null,
            "flex_flow": null,
            "width": null,
            "min_width": null,
            "border": null,
            "align_items": null,
            "bottom": null,
            "_model_module": "@jupyter-widgets/base",
            "top": null,
            "grid_column": null,
            "overflow_y": null,
            "overflow_x": null,
            "grid_auto_flow": null,
            "grid_area": null,
            "grid_template_columns": null,
            "flex": null,
            "_model_name": "LayoutModel",
            "justify_items": null,
            "grid_row": null,
            "max_height": null,
            "align_content": null,
            "visibility": null,
            "align_self": null,
            "height": null,
            "min_height": null,
            "padding": null,
            "grid_auto_rows": null,
            "grid_gap": null,
            "max_width": null,
            "order": null,
            "_view_module_version": "1.2.0",
            "grid_template_areas": null,
            "object_position": null,
            "object_fit": null,
            "grid_auto_columns": null,
            "margin": null,
            "display": null,
            "left": null
          }
        },
        "6c256153289b467ab7e1b3cd3198248a": {
          "model_module": "@jupyter-widgets/controls",
          "model_name": "HBoxModel",
          "state": {
            "_view_name": "HBoxView",
            "_dom_classes": [],
            "_model_name": "HBoxModel",
            "_view_module": "@jupyter-widgets/controls",
            "_model_module_version": "1.5.0",
            "_view_count": null,
            "_view_module_version": "1.5.0",
            "box_style": "",
            "layout": "IPY_MODEL_687a7fccfb274c688e46f17bfa701ea6",
            "_model_module": "@jupyter-widgets/controls",
            "children": [
              "IPY_MODEL_26c99694e7334cd1a9777d0ab6e8b708",
              "IPY_MODEL_a55f1bb0857f413fa8c22b483d9b0f6e"
            ]
          }
        },
        "687a7fccfb274c688e46f17bfa701ea6": {
          "model_module": "@jupyter-widgets/base",
          "model_name": "LayoutModel",
          "state": {
            "_view_name": "LayoutView",
            "grid_template_rows": null,
            "right": null,
            "justify_content": null,
            "_view_module": "@jupyter-widgets/base",
            "overflow": null,
            "_model_module_version": "1.2.0",
            "_view_count": null,
            "flex_flow": null,
            "width": null,
            "min_width": null,
            "border": null,
            "align_items": null,
            "bottom": null,
            "_model_module": "@jupyter-widgets/base",
            "top": null,
            "grid_column": null,
            "overflow_y": null,
            "overflow_x": null,
            "grid_auto_flow": null,
            "grid_area": null,
            "grid_template_columns": null,
            "flex": null,
            "_model_name": "LayoutModel",
            "justify_items": null,
            "grid_row": null,
            "max_height": null,
            "align_content": null,
            "visibility": null,
            "align_self": null,
            "height": null,
            "min_height": null,
            "padding": null,
            "grid_auto_rows": null,
            "grid_gap": null,
            "max_width": null,
            "order": null,
            "_view_module_version": "1.2.0",
            "grid_template_areas": null,
            "object_position": null,
            "object_fit": null,
            "grid_auto_columns": null,
            "margin": null,
            "display": null,
            "left": null
          }
        },
        "26c99694e7334cd1a9777d0ab6e8b708": {
          "model_module": "@jupyter-widgets/controls",
          "model_name": "FloatProgressModel",
          "state": {
            "_view_name": "ProgressView",
            "style": "IPY_MODEL_f8e3ea9b89e64412a41a767877713215",
            "_dom_classes": [],
            "description": "Testing Epoch 1 : 100%",
            "_model_name": "FloatProgressModel",
            "bar_style": "success",
            "max": 375,
            "_view_module": "@jupyter-widgets/controls",
            "_model_module_version": "1.5.0",
            "value": 375,
            "_view_count": null,
            "_view_module_version": "1.5.0",
            "orientation": "horizontal",
            "min": 0,
            "description_tooltip": null,
            "_model_module": "@jupyter-widgets/controls",
            "layout": "IPY_MODEL_eced92d118424ace9e238388bece5b5a"
          }
        },
        "a55f1bb0857f413fa8c22b483d9b0f6e": {
          "model_module": "@jupyter-widgets/controls",
          "model_name": "HTMLModel",
          "state": {
            "_view_name": "HTMLView",
            "style": "IPY_MODEL_4177ea66d1f34d30912b6f33983a84c9",
            "_dom_classes": [],
            "description": "",
            "_model_name": "HTMLModel",
            "placeholder": "​",
            "_view_module": "@jupyter-widgets/controls",
            "_model_module_version": "1.5.0",
            "value": " 375/375 [07:42&lt;00:00,  1.23s/it, acc=0.313, loss=5.24]",
            "_view_count": null,
            "_view_module_version": "1.5.0",
            "description_tooltip": null,
            "_model_module": "@jupyter-widgets/controls",
            "layout": "IPY_MODEL_a8d4cb42802649d1a72e1091d504f3e5"
          }
        },
        "f8e3ea9b89e64412a41a767877713215": {
          "model_module": "@jupyter-widgets/controls",
          "model_name": "ProgressStyleModel",
          "state": {
            "_view_name": "StyleView",
            "_model_name": "ProgressStyleModel",
            "description_width": "initial",
            "_view_module": "@jupyter-widgets/base",
            "_model_module_version": "1.5.0",
            "_view_count": null,
            "_view_module_version": "1.2.0",
            "bar_color": null,
            "_model_module": "@jupyter-widgets/controls"
          }
        },
        "eced92d118424ace9e238388bece5b5a": {
          "model_module": "@jupyter-widgets/base",
          "model_name": "LayoutModel",
          "state": {
            "_view_name": "LayoutView",
            "grid_template_rows": null,
            "right": null,
            "justify_content": null,
            "_view_module": "@jupyter-widgets/base",
            "overflow": null,
            "_model_module_version": "1.2.0",
            "_view_count": null,
            "flex_flow": null,
            "width": null,
            "min_width": null,
            "border": null,
            "align_items": null,
            "bottom": null,
            "_model_module": "@jupyter-widgets/base",
            "top": null,
            "grid_column": null,
            "overflow_y": null,
            "overflow_x": null,
            "grid_auto_flow": null,
            "grid_area": null,
            "grid_template_columns": null,
            "flex": null,
            "_model_name": "LayoutModel",
            "justify_items": null,
            "grid_row": null,
            "max_height": null,
            "align_content": null,
            "visibility": null,
            "align_self": null,
            "height": null,
            "min_height": null,
            "padding": null,
            "grid_auto_rows": null,
            "grid_gap": null,
            "max_width": null,
            "order": null,
            "_view_module_version": "1.2.0",
            "grid_template_areas": null,
            "object_position": null,
            "object_fit": null,
            "grid_auto_columns": null,
            "margin": null,
            "display": null,
            "left": null
          }
        },
        "4177ea66d1f34d30912b6f33983a84c9": {
          "model_module": "@jupyter-widgets/controls",
          "model_name": "DescriptionStyleModel",
          "state": {
            "_view_name": "StyleView",
            "_model_name": "DescriptionStyleModel",
            "description_width": "",
            "_view_module": "@jupyter-widgets/base",
            "_model_module_version": "1.5.0",
            "_view_count": null,
            "_view_module_version": "1.2.0",
            "_model_module": "@jupyter-widgets/controls"
          }
        },
        "a8d4cb42802649d1a72e1091d504f3e5": {
          "model_module": "@jupyter-widgets/base",
          "model_name": "LayoutModel",
          "state": {
            "_view_name": "LayoutView",
            "grid_template_rows": null,
            "right": null,
            "justify_content": null,
            "_view_module": "@jupyter-widgets/base",
            "overflow": null,
            "_model_module_version": "1.2.0",
            "_view_count": null,
            "flex_flow": null,
            "width": null,
            "min_width": null,
            "border": null,
            "align_items": null,
            "bottom": null,
            "_model_module": "@jupyter-widgets/base",
            "top": null,
            "grid_column": null,
            "overflow_y": null,
            "overflow_x": null,
            "grid_auto_flow": null,
            "grid_area": null,
            "grid_template_columns": null,
            "flex": null,
            "_model_name": "LayoutModel",
            "justify_items": null,
            "grid_row": null,
            "max_height": null,
            "align_content": null,
            "visibility": null,
            "align_self": null,
            "height": null,
            "min_height": null,
            "padding": null,
            "grid_auto_rows": null,
            "grid_gap": null,
            "max_width": null,
            "order": null,
            "_view_module_version": "1.2.0",
            "grid_template_areas": null,
            "object_position": null,
            "object_fit": null,
            "grid_auto_columns": null,
            "margin": null,
            "display": null,
            "left": null
          }
        },
        "537dd169e594403ab1f2b5ba291c38f7": {
          "model_module": "@jupyter-widgets/controls",
          "model_name": "HBoxModel",
          "state": {
            "_view_name": "HBoxView",
            "_dom_classes": [],
            "_model_name": "HBoxModel",
            "_view_module": "@jupyter-widgets/controls",
            "_model_module_version": "1.5.0",
            "_view_count": null,
            "_view_module_version": "1.5.0",
            "box_style": "",
            "layout": "IPY_MODEL_5845d9f4eed743c29d103d9b5444920f",
            "_model_module": "@jupyter-widgets/controls",
            "children": [
              "IPY_MODEL_17aa75e90df14f4f9dfba46e5db3267c",
              "IPY_MODEL_8df109a375d24bfc8724103c343cc5ce"
            ]
          }
        },
        "5845d9f4eed743c29d103d9b5444920f": {
          "model_module": "@jupyter-widgets/base",
          "model_name": "LayoutModel",
          "state": {
            "_view_name": "LayoutView",
            "grid_template_rows": null,
            "right": null,
            "justify_content": null,
            "_view_module": "@jupyter-widgets/base",
            "overflow": null,
            "_model_module_version": "1.2.0",
            "_view_count": null,
            "flex_flow": null,
            "width": null,
            "min_width": null,
            "border": null,
            "align_items": null,
            "bottom": null,
            "_model_module": "@jupyter-widgets/base",
            "top": null,
            "grid_column": null,
            "overflow_y": null,
            "overflow_x": null,
            "grid_auto_flow": null,
            "grid_area": null,
            "grid_template_columns": null,
            "flex": null,
            "_model_name": "LayoutModel",
            "justify_items": null,
            "grid_row": null,
            "max_height": null,
            "align_content": null,
            "visibility": null,
            "align_self": null,
            "height": null,
            "min_height": null,
            "padding": null,
            "grid_auto_rows": null,
            "grid_gap": null,
            "max_width": null,
            "order": null,
            "_view_module_version": "1.2.0",
            "grid_template_areas": null,
            "object_position": null,
            "object_fit": null,
            "grid_auto_columns": null,
            "margin": null,
            "display": null,
            "left": null
          }
        },
        "17aa75e90df14f4f9dfba46e5db3267c": {
          "model_module": "@jupyter-widgets/controls",
          "model_name": "FloatProgressModel",
          "state": {
            "_view_name": "ProgressView",
            "style": "IPY_MODEL_01d76f2adc054a80a2a9ea6c705c7124",
            "_dom_classes": [],
            "description": "Training Epoch 2 : 100%",
            "_model_name": "FloatProgressModel",
            "bar_style": "success",
            "max": 2125,
            "_view_module": "@jupyter-widgets/controls",
            "_model_module_version": "1.5.0",
            "value": 2125,
            "_view_count": null,
            "_view_module_version": "1.5.0",
            "orientation": "horizontal",
            "min": 0,
            "description_tooltip": null,
            "_model_module": "@jupyter-widgets/controls",
            "layout": "IPY_MODEL_01b43e1709cf47d283a8e9ede1021cd7"
          }
        },
        "8df109a375d24bfc8724103c343cc5ce": {
          "model_module": "@jupyter-widgets/controls",
          "model_name": "HTMLModel",
          "state": {
            "_view_name": "HTMLView",
            "style": "IPY_MODEL_8f18e008140244b69c3d5635b2be9706",
            "_dom_classes": [],
            "description": "",
            "_model_name": "HTMLModel",
            "placeholder": "​",
            "_view_module": "@jupyter-widgets/controls",
            "_model_module_version": "1.5.0",
            "value": " 2125/2125 [06:33&lt;00:00,  5.40it/s, acc=0.314, loss=4.89]",
            "_view_count": null,
            "_view_module_version": "1.5.0",
            "description_tooltip": null,
            "_model_module": "@jupyter-widgets/controls",
            "layout": "IPY_MODEL_8fbe3bfd47054725b5da5610cbceeb77"
          }
        },
        "01d76f2adc054a80a2a9ea6c705c7124": {
          "model_module": "@jupyter-widgets/controls",
          "model_name": "ProgressStyleModel",
          "state": {
            "_view_name": "StyleView",
            "_model_name": "ProgressStyleModel",
            "description_width": "initial",
            "_view_module": "@jupyter-widgets/base",
            "_model_module_version": "1.5.0",
            "_view_count": null,
            "_view_module_version": "1.2.0",
            "bar_color": null,
            "_model_module": "@jupyter-widgets/controls"
          }
        },
        "01b43e1709cf47d283a8e9ede1021cd7": {
          "model_module": "@jupyter-widgets/base",
          "model_name": "LayoutModel",
          "state": {
            "_view_name": "LayoutView",
            "grid_template_rows": null,
            "right": null,
            "justify_content": null,
            "_view_module": "@jupyter-widgets/base",
            "overflow": null,
            "_model_module_version": "1.2.0",
            "_view_count": null,
            "flex_flow": null,
            "width": null,
            "min_width": null,
            "border": null,
            "align_items": null,
            "bottom": null,
            "_model_module": "@jupyter-widgets/base",
            "top": null,
            "grid_column": null,
            "overflow_y": null,
            "overflow_x": null,
            "grid_auto_flow": null,
            "grid_area": null,
            "grid_template_columns": null,
            "flex": null,
            "_model_name": "LayoutModel",
            "justify_items": null,
            "grid_row": null,
            "max_height": null,
            "align_content": null,
            "visibility": null,
            "align_self": null,
            "height": null,
            "min_height": null,
            "padding": null,
            "grid_auto_rows": null,
            "grid_gap": null,
            "max_width": null,
            "order": null,
            "_view_module_version": "1.2.0",
            "grid_template_areas": null,
            "object_position": null,
            "object_fit": null,
            "grid_auto_columns": null,
            "margin": null,
            "display": null,
            "left": null
          }
        },
        "8f18e008140244b69c3d5635b2be9706": {
          "model_module": "@jupyter-widgets/controls",
          "model_name": "DescriptionStyleModel",
          "state": {
            "_view_name": "StyleView",
            "_model_name": "DescriptionStyleModel",
            "description_width": "",
            "_view_module": "@jupyter-widgets/base",
            "_model_module_version": "1.5.0",
            "_view_count": null,
            "_view_module_version": "1.2.0",
            "_model_module": "@jupyter-widgets/controls"
          }
        },
        "8fbe3bfd47054725b5da5610cbceeb77": {
          "model_module": "@jupyter-widgets/base",
          "model_name": "LayoutModel",
          "state": {
            "_view_name": "LayoutView",
            "grid_template_rows": null,
            "right": null,
            "justify_content": null,
            "_view_module": "@jupyter-widgets/base",
            "overflow": null,
            "_model_module_version": "1.2.0",
            "_view_count": null,
            "flex_flow": null,
            "width": null,
            "min_width": null,
            "border": null,
            "align_items": null,
            "bottom": null,
            "_model_module": "@jupyter-widgets/base",
            "top": null,
            "grid_column": null,
            "overflow_y": null,
            "overflow_x": null,
            "grid_auto_flow": null,
            "grid_area": null,
            "grid_template_columns": null,
            "flex": null,
            "_model_name": "LayoutModel",
            "justify_items": null,
            "grid_row": null,
            "max_height": null,
            "align_content": null,
            "visibility": null,
            "align_self": null,
            "height": null,
            "min_height": null,
            "padding": null,
            "grid_auto_rows": null,
            "grid_gap": null,
            "max_width": null,
            "order": null,
            "_view_module_version": "1.2.0",
            "grid_template_areas": null,
            "object_position": null,
            "object_fit": null,
            "grid_auto_columns": null,
            "margin": null,
            "display": null,
            "left": null
          }
        },
        "27613e5c81dc4b57b05807fad86d461a": {
          "model_module": "@jupyter-widgets/controls",
          "model_name": "HBoxModel",
          "state": {
            "_view_name": "HBoxView",
            "_dom_classes": [],
            "_model_name": "HBoxModel",
            "_view_module": "@jupyter-widgets/controls",
            "_model_module_version": "1.5.0",
            "_view_count": null,
            "_view_module_version": "1.5.0",
            "box_style": "",
            "layout": "IPY_MODEL_9f1cd5c60a23432e8991f7587f2566f4",
            "_model_module": "@jupyter-widgets/controls",
            "children": [
              "IPY_MODEL_2db34f79b93c4795928223f209a65b8a",
              "IPY_MODEL_a590dce9cf084ea5a0a88237e6e7e36a"
            ]
          }
        },
        "9f1cd5c60a23432e8991f7587f2566f4": {
          "model_module": "@jupyter-widgets/base",
          "model_name": "LayoutModel",
          "state": {
            "_view_name": "LayoutView",
            "grid_template_rows": null,
            "right": null,
            "justify_content": null,
            "_view_module": "@jupyter-widgets/base",
            "overflow": null,
            "_model_module_version": "1.2.0",
            "_view_count": null,
            "flex_flow": null,
            "width": null,
            "min_width": null,
            "border": null,
            "align_items": null,
            "bottom": null,
            "_model_module": "@jupyter-widgets/base",
            "top": null,
            "grid_column": null,
            "overflow_y": null,
            "overflow_x": null,
            "grid_auto_flow": null,
            "grid_area": null,
            "grid_template_columns": null,
            "flex": null,
            "_model_name": "LayoutModel",
            "justify_items": null,
            "grid_row": null,
            "max_height": null,
            "align_content": null,
            "visibility": null,
            "align_self": null,
            "height": null,
            "min_height": null,
            "padding": null,
            "grid_auto_rows": null,
            "grid_gap": null,
            "max_width": null,
            "order": null,
            "_view_module_version": "1.2.0",
            "grid_template_areas": null,
            "object_position": null,
            "object_fit": null,
            "grid_auto_columns": null,
            "margin": null,
            "display": null,
            "left": null
          }
        },
        "2db34f79b93c4795928223f209a65b8a": {
          "model_module": "@jupyter-widgets/controls",
          "model_name": "FloatProgressModel",
          "state": {
            "_view_name": "ProgressView",
            "style": "IPY_MODEL_e9c3441227794f9b8c2bfa331ad1b041",
            "_dom_classes": [],
            "description": "Testing Epoch 2 : 100%",
            "_model_name": "FloatProgressModel",
            "bar_style": "success",
            "max": 375,
            "_view_module": "@jupyter-widgets/controls",
            "_model_module_version": "1.5.0",
            "value": 375,
            "_view_count": null,
            "_view_module_version": "1.5.0",
            "orientation": "horizontal",
            "min": 0,
            "description_tooltip": null,
            "_model_module": "@jupyter-widgets/controls",
            "layout": "IPY_MODEL_f4c89fea7d8344d2a67385b61d009e61"
          }
        },
        "a590dce9cf084ea5a0a88237e6e7e36a": {
          "model_module": "@jupyter-widgets/controls",
          "model_name": "HTMLModel",
          "state": {
            "_view_name": "HTMLView",
            "style": "IPY_MODEL_55eac0d331dd429dac7773111194f9bd",
            "_dom_classes": [],
            "description": "",
            "_model_name": "HTMLModel",
            "placeholder": "​",
            "_view_module": "@jupyter-widgets/controls",
            "_model_module_version": "1.5.0",
            "value": " 375/375 [01:07&lt;00:00,  5.59it/s, acc=0.311, loss=5.24]",
            "_view_count": null,
            "_view_module_version": "1.5.0",
            "description_tooltip": null,
            "_model_module": "@jupyter-widgets/controls",
            "layout": "IPY_MODEL_cf5aef87fbdc4b92a15baf5e0c1a90a6"
          }
        },
        "e9c3441227794f9b8c2bfa331ad1b041": {
          "model_module": "@jupyter-widgets/controls",
          "model_name": "ProgressStyleModel",
          "state": {
            "_view_name": "StyleView",
            "_model_name": "ProgressStyleModel",
            "description_width": "initial",
            "_view_module": "@jupyter-widgets/base",
            "_model_module_version": "1.5.0",
            "_view_count": null,
            "_view_module_version": "1.2.0",
            "bar_color": null,
            "_model_module": "@jupyter-widgets/controls"
          }
        },
        "f4c89fea7d8344d2a67385b61d009e61": {
          "model_module": "@jupyter-widgets/base",
          "model_name": "LayoutModel",
          "state": {
            "_view_name": "LayoutView",
            "grid_template_rows": null,
            "right": null,
            "justify_content": null,
            "_view_module": "@jupyter-widgets/base",
            "overflow": null,
            "_model_module_version": "1.2.0",
            "_view_count": null,
            "flex_flow": null,
            "width": null,
            "min_width": null,
            "border": null,
            "align_items": null,
            "bottom": null,
            "_model_module": "@jupyter-widgets/base",
            "top": null,
            "grid_column": null,
            "overflow_y": null,
            "overflow_x": null,
            "grid_auto_flow": null,
            "grid_area": null,
            "grid_template_columns": null,
            "flex": null,
            "_model_name": "LayoutModel",
            "justify_items": null,
            "grid_row": null,
            "max_height": null,
            "align_content": null,
            "visibility": null,
            "align_self": null,
            "height": null,
            "min_height": null,
            "padding": null,
            "grid_auto_rows": null,
            "grid_gap": null,
            "max_width": null,
            "order": null,
            "_view_module_version": "1.2.0",
            "grid_template_areas": null,
            "object_position": null,
            "object_fit": null,
            "grid_auto_columns": null,
            "margin": null,
            "display": null,
            "left": null
          }
        },
        "55eac0d331dd429dac7773111194f9bd": {
          "model_module": "@jupyter-widgets/controls",
          "model_name": "DescriptionStyleModel",
          "state": {
            "_view_name": "StyleView",
            "_model_name": "DescriptionStyleModel",
            "description_width": "",
            "_view_module": "@jupyter-widgets/base",
            "_model_module_version": "1.5.0",
            "_view_count": null,
            "_view_module_version": "1.2.0",
            "_model_module": "@jupyter-widgets/controls"
          }
        },
        "cf5aef87fbdc4b92a15baf5e0c1a90a6": {
          "model_module": "@jupyter-widgets/base",
          "model_name": "LayoutModel",
          "state": {
            "_view_name": "LayoutView",
            "grid_template_rows": null,
            "right": null,
            "justify_content": null,
            "_view_module": "@jupyter-widgets/base",
            "overflow": null,
            "_model_module_version": "1.2.0",
            "_view_count": null,
            "flex_flow": null,
            "width": null,
            "min_width": null,
            "border": null,
            "align_items": null,
            "bottom": null,
            "_model_module": "@jupyter-widgets/base",
            "top": null,
            "grid_column": null,
            "overflow_y": null,
            "overflow_x": null,
            "grid_auto_flow": null,
            "grid_area": null,
            "grid_template_columns": null,
            "flex": null,
            "_model_name": "LayoutModel",
            "justify_items": null,
            "grid_row": null,
            "max_height": null,
            "align_content": null,
            "visibility": null,
            "align_self": null,
            "height": null,
            "min_height": null,
            "padding": null,
            "grid_auto_rows": null,
            "grid_gap": null,
            "max_width": null,
            "order": null,
            "_view_module_version": "1.2.0",
            "grid_template_areas": null,
            "object_position": null,
            "object_fit": null,
            "grid_auto_columns": null,
            "margin": null,
            "display": null,
            "left": null
          }
        },
        "01fe020abd204ed586bed3407a6effbd": {
          "model_module": "@jupyter-widgets/controls",
          "model_name": "HBoxModel",
          "state": {
            "_view_name": "HBoxView",
            "_dom_classes": [],
            "_model_name": "HBoxModel",
            "_view_module": "@jupyter-widgets/controls",
            "_model_module_version": "1.5.0",
            "_view_count": null,
            "_view_module_version": "1.5.0",
            "box_style": "",
            "layout": "IPY_MODEL_b92f9e8ec1c544c8800f6cf61d272e83",
            "_model_module": "@jupyter-widgets/controls",
            "children": [
              "IPY_MODEL_e25f0be27a3948bfa16f159ba57e9b51",
              "IPY_MODEL_f730f6db10f24d028cf5dcace71f3743"
            ]
          }
        },
        "b92f9e8ec1c544c8800f6cf61d272e83": {
          "model_module": "@jupyter-widgets/base",
          "model_name": "LayoutModel",
          "state": {
            "_view_name": "LayoutView",
            "grid_template_rows": null,
            "right": null,
            "justify_content": null,
            "_view_module": "@jupyter-widgets/base",
            "overflow": null,
            "_model_module_version": "1.2.0",
            "_view_count": null,
            "flex_flow": null,
            "width": null,
            "min_width": null,
            "border": null,
            "align_items": null,
            "bottom": null,
            "_model_module": "@jupyter-widgets/base",
            "top": null,
            "grid_column": null,
            "overflow_y": null,
            "overflow_x": null,
            "grid_auto_flow": null,
            "grid_area": null,
            "grid_template_columns": null,
            "flex": null,
            "_model_name": "LayoutModel",
            "justify_items": null,
            "grid_row": null,
            "max_height": null,
            "align_content": null,
            "visibility": null,
            "align_self": null,
            "height": null,
            "min_height": null,
            "padding": null,
            "grid_auto_rows": null,
            "grid_gap": null,
            "max_width": null,
            "order": null,
            "_view_module_version": "1.2.0",
            "grid_template_areas": null,
            "object_position": null,
            "object_fit": null,
            "grid_auto_columns": null,
            "margin": null,
            "display": null,
            "left": null
          }
        },
        "e25f0be27a3948bfa16f159ba57e9b51": {
          "model_module": "@jupyter-widgets/controls",
          "model_name": "FloatProgressModel",
          "state": {
            "_view_name": "ProgressView",
            "style": "IPY_MODEL_9bb16dd402824323bbb7468c90b53419",
            "_dom_classes": [],
            "description": "Training Epoch 3 :   5%",
            "_model_name": "FloatProgressModel",
            "bar_style": "",
            "max": 2125,
            "_view_module": "@jupyter-widgets/controls",
            "_model_module_version": "1.5.0",
            "value": 100,
            "_view_count": null,
            "_view_module_version": "1.5.0",
            "orientation": "horizontal",
            "min": 0,
            "description_tooltip": null,
            "_model_module": "@jupyter-widgets/controls",
            "layout": "IPY_MODEL_5fd3c19a560546229a2ddf8c9666fa2a"
          }
        },
        "f730f6db10f24d028cf5dcace71f3743": {
          "model_module": "@jupyter-widgets/controls",
          "model_name": "HTMLModel",
          "state": {
            "_view_name": "HTMLView",
            "style": "IPY_MODEL_aa7a06f27b434d2191a8e5af906bd591",
            "_dom_classes": [],
            "description": "",
            "_model_name": "HTMLModel",
            "placeholder": "​",
            "_view_module": "@jupyter-widgets/controls",
            "_model_module_version": "1.5.0",
            "value": " 100/2125 [00:20&lt;06:20,  5.32it/s, acc=0.312, loss=4.85]",
            "_view_count": null,
            "_view_module_version": "1.5.0",
            "description_tooltip": null,
            "_model_module": "@jupyter-widgets/controls",
            "layout": "IPY_MODEL_b49b00d511224255bd9a7c3d0f165119"
          }
        },
        "9bb16dd402824323bbb7468c90b53419": {
          "model_module": "@jupyter-widgets/controls",
          "model_name": "ProgressStyleModel",
          "state": {
            "_view_name": "StyleView",
            "_model_name": "ProgressStyleModel",
            "description_width": "initial",
            "_view_module": "@jupyter-widgets/base",
            "_model_module_version": "1.5.0",
            "_view_count": null,
            "_view_module_version": "1.2.0",
            "bar_color": null,
            "_model_module": "@jupyter-widgets/controls"
          }
        },
        "5fd3c19a560546229a2ddf8c9666fa2a": {
          "model_module": "@jupyter-widgets/base",
          "model_name": "LayoutModel",
          "state": {
            "_view_name": "LayoutView",
            "grid_template_rows": null,
            "right": null,
            "justify_content": null,
            "_view_module": "@jupyter-widgets/base",
            "overflow": null,
            "_model_module_version": "1.2.0",
            "_view_count": null,
            "flex_flow": null,
            "width": null,
            "min_width": null,
            "border": null,
            "align_items": null,
            "bottom": null,
            "_model_module": "@jupyter-widgets/base",
            "top": null,
            "grid_column": null,
            "overflow_y": null,
            "overflow_x": null,
            "grid_auto_flow": null,
            "grid_area": null,
            "grid_template_columns": null,
            "flex": null,
            "_model_name": "LayoutModel",
            "justify_items": null,
            "grid_row": null,
            "max_height": null,
            "align_content": null,
            "visibility": null,
            "align_self": null,
            "height": null,
            "min_height": null,
            "padding": null,
            "grid_auto_rows": null,
            "grid_gap": null,
            "max_width": null,
            "order": null,
            "_view_module_version": "1.2.0",
            "grid_template_areas": null,
            "object_position": null,
            "object_fit": null,
            "grid_auto_columns": null,
            "margin": null,
            "display": null,
            "left": null
          }
        },
        "aa7a06f27b434d2191a8e5af906bd591": {
          "model_module": "@jupyter-widgets/controls",
          "model_name": "DescriptionStyleModel",
          "state": {
            "_view_name": "StyleView",
            "_model_name": "DescriptionStyleModel",
            "description_width": "",
            "_view_module": "@jupyter-widgets/base",
            "_model_module_version": "1.5.0",
            "_view_count": null,
            "_view_module_version": "1.2.0",
            "_model_module": "@jupyter-widgets/controls"
          }
        },
        "b49b00d511224255bd9a7c3d0f165119": {
          "model_module": "@jupyter-widgets/base",
          "model_name": "LayoutModel",
          "state": {
            "_view_name": "LayoutView",
            "grid_template_rows": null,
            "right": null,
            "justify_content": null,
            "_view_module": "@jupyter-widgets/base",
            "overflow": null,
            "_model_module_version": "1.2.0",
            "_view_count": null,
            "flex_flow": null,
            "width": null,
            "min_width": null,
            "border": null,
            "align_items": null,
            "bottom": null,
            "_model_module": "@jupyter-widgets/base",
            "top": null,
            "grid_column": null,
            "overflow_y": null,
            "overflow_x": null,
            "grid_auto_flow": null,
            "grid_area": null,
            "grid_template_columns": null,
            "flex": null,
            "_model_name": "LayoutModel",
            "justify_items": null,
            "grid_row": null,
            "max_height": null,
            "align_content": null,
            "visibility": null,
            "align_self": null,
            "height": null,
            "min_height": null,
            "padding": null,
            "grid_auto_rows": null,
            "grid_gap": null,
            "max_width": null,
            "order": null,
            "_view_module_version": "1.2.0",
            "grid_template_areas": null,
            "object_position": null,
            "object_fit": null,
            "grid_auto_columns": null,
            "margin": null,
            "display": null,
            "left": null
          }
        }
      }
    }
  },
  "cells": [
    {
      "cell_type": "markdown",
      "metadata": {
        "id": "view-in-github",
        "colab_type": "text"
      },
      "source": [
        "<a href=\"https://colab.research.google.com/github/aashishpiitkEigenlytics/Super-Resolution/blob/main/resnet18_header.ipynb\" target=\"_parent\"><img src=\"https://colab.research.google.com/assets/colab-badge.svg\" alt=\"Open In Colab\"/></a>"
      ]
    },
    {
      "cell_type": "code",
      "metadata": {
        "colab": {
          "base_uri": "https://localhost:8080/"
        },
        "id": "CbDj15v4q-dM",
        "outputId": "5c57714c-2c6e-4423-9755-6ffb690104a7"
      },
      "source": [
        "from google.colab import drive\n",
        "drive.mount('/content/drive')"
      ],
      "execution_count": null,
      "outputs": [
        {
          "output_type": "stream",
          "text": [
            "Mounted at /content/drive\n"
          ],
          "name": "stdout"
        }
      ]
    },
    {
      "cell_type": "code",
      "metadata": {
        "id": "9ka4JCmVEA7u"
      },
      "source": [
        "import numpy as np\n",
        "import pandas as pd\n",
        "import os, math, sys\n",
        "import glob, itertools\n",
        "import argparse, random\n",
        "\n",
        "import torch\n",
        "import torch.nn as nn\n",
        "import torch.nn.functional as F\n",
        "from torch.autograd import Variable\n",
        "from torchvision.models import vgg19\n",
        "import torchvision.models as models\n",
        "import torchvision.transforms as transforms\n",
        "from torch.utils.data import DataLoader, Dataset\n",
        "from torchvision.utils import save_image, make_grid\n",
        "\n",
        "import plotly\n",
        "import plotly.express as px\n",
        "import plotly.graph_objects as go\n",
        "import matplotlib.pyplot as plt\n",
        "\n",
        "from PIL import Image\n",
        "from tqdm import tqdm_notebook as tqdm\n",
        "from sklearn.model_selection import train_test_split\n",
        "\n",
        "random.seed(42)\n",
        "import warnings\n",
        "warnings.filterwarnings(\"ignore\")\n",
        "\n",
        "import math\n",
        "from pathlib import Path\n",
        "from torchsummary import summary\n",
        "import torchvision\n",
        "from PIL import Image, ImageOps\n",
        "\n",
        "device = 'cuda' if torch.cuda.is_available() else 'cpu'"
      ],
      "execution_count": null,
      "outputs": []
    },
    {
      "cell_type": "code",
      "metadata": {
        "id": "E-N0xePgwNUW"
      },
      "source": [
        "# number of epochs of training\n",
        "n_epochs = 50\n",
        "# name of the dataset\n",
        "dataset_path = \"/content/train/test/\"\n",
        "# size of the batches\n",
        "batch_size = 16\n",
        "# adam: learning rate\n",
        "lr = 0.00008\n",
        "# adam: decay of first order momentum of gradient\n",
        "b1 = 0.5\n",
        "# adam: decay of second order momentum of gradient\n",
        "b2 = 0.999\n",
        "# epoch from which to start lr decay\n",
        "decay_epoch = 100\n",
        "# number of cpu threads to use during batch generation\n",
        "n_cpu = 8\n",
        "# high res. image height\n",
        "hr_height = 64\n",
        "# high res. image width\n",
        "hr_width = 64\n",
        "# number of image channels\n",
        "channels = 1\n",
        "\n",
        "# os.makedirs(\"images\", exist_ok=True)\n",
        "# os.makedirs(\"saved_models\", exist_ok=True)\n",
        "\n",
        "cuda = torch.cuda.is_available()\n",
        "hr_shape = (hr_height, hr_width)\n",
        "\n"
      ],
      "execution_count": null,
      "outputs": []
    },
    {
      "cell_type": "code",
      "metadata": {
        "id": "e_p8HemOEnJR"
      },
      "source": [
        "! unzip -q /content/drive/MyDrive/rvl_cdip_test_dataset/rvl_cdip_test_dataset.zip -d /content/train"
      ],
      "execution_count": null,
      "outputs": []
    },
    {
      "cell_type": "code",
      "metadata": {
        "id": "Eq2_wMvwuO8n"
      },
      "source": [
        "doc2label = {\n",
        "    'advertisement':0,\n",
        "    'budget':1,\n",
        "    'email':2,\n",
        "    'file_folder':3,\n",
        "    'form':4,\n",
        "    'handwritten':5,\n",
        "    'invoice':6,\n",
        "    'letter':7,\n",
        "    'memo':8,\n",
        "    'news_article':9,\n",
        "    'presentation':10,\n",
        "    'questionnaire':11,\n",
        "    'resume':12,\n",
        "    'scientific_publication':13,\n",
        "    'scientific_report':14,\n",
        "    'specification':15\n",
        "}"
      ],
      "execution_count": null,
      "outputs": []
    },
    {
      "cell_type": "code",
      "metadata": {
        "id": "qmaqFRZJhbZs"
      },
      "source": [
        "train_path = []\n",
        "for path in Path('/content/train/content/train/test').rglob('*.tif'):\n",
        "  target = str(str(path).split('/')[-2])\n",
        "  train_path.append((path, doc2label[target]))"
      ],
      "execution_count": null,
      "outputs": []
    },
    {
      "cell_type": "code",
      "metadata": {
        "id": "Mkr4cd-1wkMp"
      },
      "source": [
        "class ImageDataset(Dataset):\n",
        "  def __init__(self, files):\n",
        "    #super(ImageDataset, self)\n",
        "\n",
        "    self.files = files\n",
        "    self.trans = transforms.Compose([\n",
        "                                transforms.Grayscale(),\n",
        "                                transforms.Resize((780,600)), \n",
        "                                transforms.ToTensor(),\n",
        "                                \n",
        "    ])\n",
        "    self.normalize = transforms.Normalize(mean=[0.485, 0.456, 0.406],\n",
        "                                      std=[0.229, 0.224, 0.225])\n",
        "    \n",
        "    self.trans2 = transforms.Resize((227,227))\n",
        "\n",
        "    #self.trans1 = transforms.ToTensor()\n",
        "  \n",
        "  def __getitem__(self, index):\n",
        "    img = Image.open(self.files[index % len(self.files)][0])\n",
        "    target = self.files[index % len(self.files)][1]\n",
        "    \n",
        "    output_dict = {\n",
        "        'targets' : torch.tensor(target),\n",
        "        'header' : self.create_header(img),\n",
        "    }\n",
        "\n",
        "    return output_dict\n",
        "  \n",
        "  def create_header(self, x):\n",
        "    # trans1 = transforms.ToTensor()\n",
        "    x = self.trans(x)\n",
        "    x = x.repeat_interleave(3, dim=0)\n",
        "    x=self.normalize(x)\n",
        "    x = x[:][:, :256, :]\n",
        "    return self.trans2(x)\n",
        "\n",
        "\n",
        "  def create_right_half(self, x):\n",
        "    x = self.trans(x)\n",
        "\n",
        "    x = x[:][:, -300:, 100:-100]\n",
        "    return self.trans2(x)\n",
        "  def create_left_half(self, x):\n",
        "    x = self.trans(x)\n",
        "\n",
        "    x = x[:][:, :300, 100:-100]\n",
        "    return self.trans2(x)\n",
        "  def create_footer(self, x):\n",
        "    x = self.trans(x)\n",
        "\n",
        "    x = x[:][:, :, -256:]\n",
        "    return self.trans2(x)\n",
        "\n",
        "  def create_holistic(self, x):\n",
        "    x = self.trans(x)\n",
        "    #print(x.shape)  (channels, h, w) not batch_size in dimensions\n",
        "    x = x.repeat_interleave(3, dim=0)\n",
        "    return self.normalize(x)\n",
        "\n",
        "  def __len__(self):\n",
        "      return len(self.files)\n"
      ],
      "execution_count": null,
      "outputs": []
    },
    {
      "cell_type": "code",
      "metadata": {
        "id": "9hIVq4noQz5f"
      },
      "source": [
        "# train_path = train_path[:len(train_path)//5]"
      ],
      "execution_count": null,
      "outputs": []
    },
    {
      "cell_type": "code",
      "metadata": {
        "colab": {
          "base_uri": "https://localhost:8080/"
        },
        "id": "QpdAhjNJ3Fjm",
        "outputId": "b62d4165-0232-4eb5-9eea-4239bc2a43ba"
      },
      "source": [
        "len(train_path)"
      ],
      "execution_count": null,
      "outputs": [
        {
          "output_type": "execute_result",
          "data": {
            "text/plain": [
              "39996"
            ]
          },
          "metadata": {
            "tags": []
          },
          "execution_count": 9
        }
      ]
    },
    {
      "cell_type": "code",
      "metadata": {
        "id": "2XBEQUJFMdMt"
      },
      "source": [
        "## incorporate the labels somehow when preparing the dataset usign ImageDataset"
      ],
      "execution_count": null,
      "outputs": []
    },
    {
      "cell_type": "code",
      "metadata": {
        "id": "gyyzMFxB0w6V"
      },
      "source": [
        "train_paths, test_paths = train_test_split(train_path, test_size=0.15, random_state=42)\n",
        "train_paths = train_paths[:len(train_paths)]\n",
        "test_paths = test_paths[:len(test_paths)]\n",
        "\n",
        "#train_paths, test_paths = train_test_split(sorted(glob.glob(dataset_path + \"/*.*\")), test_size=0.02, random_state=42)\n",
        "train_dataloader = DataLoader(ImageDataset(train_paths), batch_size=batch_size, shuffle=True, num_workers=n_cpu)\n",
        "test_dataloader = DataLoader(ImageDataset(test_paths), batch_size=int(batch_size), shuffle=True, num_workers=n_cpu)"
      ],
      "execution_count": null,
      "outputs": []
    },
    {
      "cell_type": "code",
      "metadata": {
        "colab": {
          "base_uri": "https://localhost:8080/"
        },
        "id": "glyzIZDt3HjM",
        "outputId": "3bf4562e-f619-4cc6-f38d-883be700fef7"
      },
      "source": [
        "len(train_dataloader)"
      ],
      "execution_count": null,
      "outputs": [
        {
          "output_type": "execute_result",
          "data": {
            "text/plain": [
              "2125"
            ]
          },
          "metadata": {
            "tags": []
          },
          "execution_count": 12
        }
      ]
    },
    {
      "cell_type": "code",
      "metadata": {
        "colab": {
          "base_uri": "https://localhost:8080/"
        },
        "id": "NJEWdhXQTuaV",
        "outputId": "28e952ae-5795-4d97-d52a-a5f9e5d9f31e"
      },
      "source": [
        "print(len(test_dataloader))"
      ],
      "execution_count": null,
      "outputs": [
        {
          "output_type": "stream",
          "text": [
            "375\n"
          ],
          "name": "stdout"
        }
      ]
    },
    {
      "cell_type": "code",
      "metadata": {
        "id": "XMvAKM8IzRu_"
      },
      "source": [
        "# resnet18 = torchvision.models.resnet18(pretrained=True)"
      ],
      "execution_count": null,
      "outputs": []
    },
    {
      "cell_type": "code",
      "metadata": {
        "id": "FrPXu-ZpzXma"
      },
      "source": [
        "# print(resnet18)"
      ],
      "execution_count": null,
      "outputs": []
    },
    {
      "cell_type": "code",
      "metadata": {
        "id": "vSdVJ6ps0i6L"
      },
      "source": [
        "# resent18.children()"
      ],
      "execution_count": null,
      "outputs": []
    },
    {
      "cell_type": "code",
      "metadata": {
        "id": "tk5FAdP506ml"
      },
      "source": [
        "# for child_counter, child in enumerate(resnet18.children()):\n",
        "#   print(child)"
      ],
      "execution_count": null,
      "outputs": []
    },
    {
      "cell_type": "code",
      "metadata": {
        "id": "DKNw5S1p28sD"
      },
      "source": [
        "# for name, param in list(resnet18.named_parameters())[:-17]:\n",
        "#       print(name, param.shape, param.requires_grad)"
      ],
      "execution_count": null,
      "outputs": []
    },
    {
      "cell_type": "code",
      "metadata": {
        "id": "rsLPQN0C5Zwu"
      },
      "source": [
        "# feature_extractor = nn.Sequential(*list(resnet18.children())[:-1])\n",
        "# print(feature_extractor)"
      ],
      "execution_count": null,
      "outputs": []
    },
    {
      "cell_type": "code",
      "metadata": {
        "id": "s1Ae-lKwfyId"
      },
      "source": [
        "class ResNet18_fine_tune(nn.Module):\n",
        "  def __init__(self):\n",
        "    super(ResNet18_fine_tune, self).__init__()\n",
        "\n",
        "    self.resnet18_model = torchvision.models.resnet18(pretrained=True)\n",
        "    self.feature_extractor = nn.Sequential(*list(self.resnet18_model.children())[:-1])\n",
        "    \n",
        "    for (name, param) in (list(self.feature_extractor.named_parameters())[:-60]):\n",
        "      param.requires_grad = False\n",
        "    for (name, param) in (list(self.feature_extractor.named_parameters())[-60:]):\n",
        "      param.requires_grad = True\n",
        "\n",
        "    self.classifier = nn.Sequential(nn.Linear(512, 128, bias=True),\n",
        "                                    nn.ReLU(),\n",
        "                                    nn.Linear(128,16, bias=True))\n",
        "\n",
        "  def forward(self, x):\n",
        "    x=self.feature_extractor(x)\n",
        "    \n",
        "    x = self.classifier(torch.flatten(x, start_dim=1))\n",
        "    return x\n"
      ],
      "execution_count": null,
      "outputs": []
    },
    {
      "cell_type": "code",
      "metadata": {
        "id": "Ok_eKuMCtOAv",
        "colab": {
          "base_uri": "https://localhost:8080/",
          "height": 83,
          "referenced_widgets": [
            "527317dbfc704c31931bf183c92f8a03",
            "0575838786e34306a2a30e3aa66478c7",
            "a482147e696f476695b5b38909e95a72",
            "3cf2d3b4bd0541419e79db4e3b12c988",
            "f2518d40036248a0b7486f44724b9278",
            "3aba401593334c298cba380b29de9f5e",
            "b85e72b821fc4836abc70c98518a8b73",
            "683a56f903314187b557cfc14ae2ee9a"
          ]
        },
        "outputId": "cd9e6f26-aa81-4446-87e6-3cb424adced4"
      },
      "source": [
        "resnet18_fine_tune = ResNet18_fine_tune().to(device)"
      ],
      "execution_count": null,
      "outputs": [
        {
          "output_type": "stream",
          "text": [
            "Downloading: \"https://download.pytorch.org/models/resnet18-5c106cde.pth\" to /root/.cache/torch/hub/checkpoints/resnet18-5c106cde.pth\n"
          ],
          "name": "stderr"
        },
        {
          "output_type": "display_data",
          "data": {
            "application/vnd.jupyter.widget-view+json": {
              "model_id": "527317dbfc704c31931bf183c92f8a03",
              "version_minor": 0,
              "version_major": 2
            },
            "text/plain": [
              "HBox(children=(FloatProgress(value=0.0, max=46827520.0), HTML(value='')))"
            ]
          },
          "metadata": {
            "tags": []
          }
        },
        {
          "output_type": "stream",
          "text": [
            "\n"
          ],
          "name": "stdout"
        }
      ]
    },
    {
      "cell_type": "code",
      "metadata": {
        "id": "KKPRh_w9YPsW"
      },
      "source": [
        "# print(resnet18_fine_tune)"
      ],
      "execution_count": null,
      "outputs": []
    },
    {
      "cell_type": "code",
      "metadata": {
        "id": "HL96oDqS-BJT"
      },
      "source": [
        "# output = resnet18_fine_tune(torch.randn(3,3,780,600))"
      ],
      "execution_count": null,
      "outputs": []
    },
    {
      "cell_type": "code",
      "metadata": {
        "id": "0cT0UROI-8YK"
      },
      "source": [
        "# print(output.shape)"
      ],
      "execution_count": null,
      "outputs": []
    },
    {
      "cell_type": "code",
      "metadata": {
        "id": "NJYWw3JtTtuN"
      },
      "source": [
        "# print(type(vgg16_fine_tune_last_layer.feature_extractor.named_parameters()))"
      ],
      "execution_count": null,
      "outputs": []
    },
    {
      "cell_type": "code",
      "metadata": {
        "colab": {
          "base_uri": "https://localhost:8080/"
        },
        "id": "uykWFdc1ABjr",
        "outputId": "0a32d461-079c-4c68-ee6c-090680117921"
      },
      "source": [
        "for name, param in resnet18_fine_tune.named_parameters():\n",
        "    if param.requires_grad:\n",
        "        print(name)"
      ],
      "execution_count": null,
      "outputs": [
        {
          "output_type": "stream",
          "text": [
            "resnet18_model.conv1.weight\n",
            "resnet18_model.bn1.weight\n",
            "resnet18_model.bn1.bias\n",
            "resnet18_model.layer1.0.conv1.weight\n",
            "resnet18_model.layer1.0.bn1.weight\n",
            "resnet18_model.layer1.0.bn1.bias\n",
            "resnet18_model.layer1.0.conv2.weight\n",
            "resnet18_model.layer1.0.bn2.weight\n",
            "resnet18_model.layer1.0.bn2.bias\n",
            "resnet18_model.layer1.1.conv1.weight\n",
            "resnet18_model.layer1.1.bn1.weight\n",
            "resnet18_model.layer1.1.bn1.bias\n",
            "resnet18_model.layer1.1.conv2.weight\n",
            "resnet18_model.layer1.1.bn2.weight\n",
            "resnet18_model.layer1.1.bn2.bias\n",
            "resnet18_model.layer2.0.conv1.weight\n",
            "resnet18_model.layer2.0.bn1.weight\n",
            "resnet18_model.layer2.0.bn1.bias\n",
            "resnet18_model.layer2.0.conv2.weight\n",
            "resnet18_model.layer2.0.bn2.weight\n",
            "resnet18_model.layer2.0.bn2.bias\n",
            "resnet18_model.layer2.0.downsample.0.weight\n",
            "resnet18_model.layer2.0.downsample.1.weight\n",
            "resnet18_model.layer2.0.downsample.1.bias\n",
            "resnet18_model.layer2.1.conv1.weight\n",
            "resnet18_model.layer2.1.bn1.weight\n",
            "resnet18_model.layer2.1.bn1.bias\n",
            "resnet18_model.layer2.1.conv2.weight\n",
            "resnet18_model.layer2.1.bn2.weight\n",
            "resnet18_model.layer2.1.bn2.bias\n",
            "resnet18_model.layer3.0.conv1.weight\n",
            "resnet18_model.layer3.0.bn1.weight\n",
            "resnet18_model.layer3.0.bn1.bias\n",
            "resnet18_model.layer3.0.conv2.weight\n",
            "resnet18_model.layer3.0.bn2.weight\n",
            "resnet18_model.layer3.0.bn2.bias\n",
            "resnet18_model.layer3.0.downsample.0.weight\n",
            "resnet18_model.layer3.0.downsample.1.weight\n",
            "resnet18_model.layer3.0.downsample.1.bias\n",
            "resnet18_model.layer3.1.conv1.weight\n",
            "resnet18_model.layer3.1.bn1.weight\n",
            "resnet18_model.layer3.1.bn1.bias\n",
            "resnet18_model.layer3.1.conv2.weight\n",
            "resnet18_model.layer3.1.bn2.weight\n",
            "resnet18_model.layer3.1.bn2.bias\n",
            "resnet18_model.layer4.0.conv1.weight\n",
            "resnet18_model.layer4.0.bn1.weight\n",
            "resnet18_model.layer4.0.bn1.bias\n",
            "resnet18_model.layer4.0.conv2.weight\n",
            "resnet18_model.layer4.0.bn2.weight\n",
            "resnet18_model.layer4.0.bn2.bias\n",
            "resnet18_model.layer4.0.downsample.0.weight\n",
            "resnet18_model.layer4.0.downsample.1.weight\n",
            "resnet18_model.layer4.0.downsample.1.bias\n",
            "resnet18_model.layer4.1.conv1.weight\n",
            "resnet18_model.layer4.1.bn1.weight\n",
            "resnet18_model.layer4.1.bn1.bias\n",
            "resnet18_model.layer4.1.conv2.weight\n",
            "resnet18_model.layer4.1.bn2.weight\n",
            "resnet18_model.layer4.1.bn2.bias\n",
            "resnet18_model.fc.weight\n",
            "resnet18_model.fc.bias\n",
            "classifier.0.weight\n",
            "classifier.0.bias\n",
            "classifier.2.weight\n",
            "classifier.2.bias\n"
          ],
          "name": "stdout"
        }
      ]
    },
    {
      "cell_type": "code",
      "metadata": {
        "id": "ThwvgOfhtjTc"
      },
      "source": [
        "optimizer = torch.optim.Adam(filter(lambda p: p.requires_grad, resnet18_fine_tune.parameters()), \n",
        "                             lr=lr, betas=(b1, b2))\n",
        "\n",
        "criterion = nn.CrossEntropyLoss()"
      ],
      "execution_count": null,
      "outputs": []
    },
    {
      "cell_type": "code",
      "metadata": {
        "id": "BGPhnekZZ5Y1"
      },
      "source": [
        "# torch.cuda.empty_cache()"
      ],
      "execution_count": null,
      "outputs": []
    },
    {
      "cell_type": "code",
      "metadata": {
        "id": "S8oGs8coaJoD"
      },
      "source": [
        "# ## loading the weights\n",
        "# checkpoint = torch.load(\"/content/drive/MyDrive/vgg16_last_layer_fine_tune_rvl_cdip_checkpt16.pt\",map_location=torch.device(device))\n",
        "\n",
        "# vgg16_fine_tune_last_layer.load_state_dict(checkpoint['vgg16_fine_tune_last_layer'])\n",
        "# # vgg16_fine_tune_last_layer.load_state_dict()\n",
        "# optimizer.load_state_dict(checkpoint['optimizer_state_dict'])\n",
        "\n",
        "# vgg16_fine_tune_last_layer.train()"
      ],
      "execution_count": null,
      "outputs": []
    },
    {
      "cell_type": "code",
      "metadata": {
        "id": "ywchf_PsxWl5"
      },
      "source": [
        "# for param_tensor in vgg16_fine_tune_last_layer.state_dict():\n",
        "#   print(param_tensor, \"\\t\", vgg16_fine_tune_last_layer.state_dict()[param_tensor].size())"
      ],
      "execution_count": null,
      "outputs": []
    },
    {
      "cell_type": "code",
      "metadata": {
        "id": "u5W6CnM4yjWT"
      },
      "source": [
        "# # save only model.state_dict()['last_layer.weight'] and model.state_dict()['last_layer.bias']\n",
        "# new_state_dict = {}\n",
        "# layers = ['last_layer.weight', 'last_layer.bias']\n",
        "# for layer in layers:\n",
        "#   print(vgg16_fine_tune_last_layer.state_dict()[layer].shape)\n",
        "#   new_state_dict[layer] = vgg16_fine_tune_last_layer.state_dict()[layer]"
      ],
      "execution_count": null,
      "outputs": []
    },
    {
      "cell_type": "code",
      "metadata": {
        "id": "PyiH15Uz53ll"
      },
      "source": [
        "# for param_tensor in new_state_dict:\n",
        "#   print(param_tensor, \"\\t\", new_state_dict[param_tensor].size())"
      ],
      "execution_count": null,
      "outputs": []
    },
    {
      "cell_type": "code",
      "metadata": {
        "id": "NaEuGV8_7dqy"
      },
      "source": [
        "# ## loading the weights\n",
        "# checkpoint = torch.load(\"/content/drive/MyDrive/vgg16_with_normalisation_last_layer/checkpt8.pt\",map_location=torch.device(device))\n",
        "\n",
        "# new_state_dict = checkpoint['new_state_dict']\n",
        "# old_dict = vgg16_fine_tune_last_layer.state_dict()\n",
        "# layers = ['last_layer.0.weight', 'last_layer.0.bias', 'last_layer.2.weight', 'last_layer.2.bias', 'last_layer.4.weight', 'last_layer.4.bias']\n",
        "# for layer in layers:\n",
        "#   old_dict[layer] = new_state_dict[layer] \n",
        "# vgg16_fine_tune_last_layer.load_state_dict(old_dict)\n",
        "\n",
        "\n",
        "# #optimizer.load_state_dict(checkpoint['optimizer_state_dict'])\n",
        "\n",
        "# vgg16_fine_tune_last_layer.train()\n",
        "\n"
      ],
      "execution_count": null,
      "outputs": []
    },
    {
      "cell_type": "code",
      "metadata": {
        "id": "p6qba5XJ6Oc9"
      },
      "source": [
        "## we will save and load this dictionary only"
      ],
      "execution_count": null,
      "outputs": []
    },
    {
      "cell_type": "code",
      "metadata": {
        "id": "Ozk7oJn03QVJ"
      },
      "source": [
        "def accuracy(x, targets):\n",
        "  # receive the outputs of linear layer\n",
        "  # first apply softmax then take argmax to know the index\n",
        "  # then compare\n",
        "  # input will be (batch_size, )\n",
        "  probs = nn.functional.softmax(x)\n",
        "  labels = torch.argmax(probs, dim=1)\n",
        "\n",
        "  count=0\n",
        "  for label, target in zip(labels, targets):\n",
        "    #print(label, target)\n",
        "    if(label.item() == target.item()):\n",
        "      count+=1\n",
        "  \n",
        "  return count/labels.shape[0]\n",
        "\n"
      ],
      "execution_count": null,
      "outputs": []
    },
    {
      "cell_type": "code",
      "metadata": {
        "id": "2ahmi8ktVOps"
      },
      "source": [
        "# temp = torch.randn(2,1,227,227)"
      ],
      "execution_count": null,
      "outputs": []
    },
    {
      "cell_type": "code",
      "metadata": {
        "id": "f2savO4vVf7f"
      },
      "source": [
        "# _mean = temp[:,0,:,:].mean(axis=0)\n",
        "# print(_mean.shape)"
      ],
      "execution_count": null,
      "outputs": []
    },
    {
      "cell_type": "code",
      "metadata": {
        "colab": {
          "base_uri": "https://localhost:8080/",
          "height": 343,
          "referenced_widgets": [
            "044d630ee6fd4b5e8f58da0db17f51a4",
            "d8604bfae0824cf193b7ea32f16b94de",
            "95530f61c8104b97b17143a06dbf8919",
            "4a9131c5873949328ec89ccc9606cebc",
            "2ebc1beaa1104ccf93159b15eb97445b",
            "53371015b3fa471495e566f37682fce4",
            "e6b3a5d2c5e8498b86e4c4d7edc0e407",
            "6edefda6ded84203b40066542d28e56a",
            "42771edf756d4bc48d67a6f40258c453",
            "26efcc8bc9d34996a1fe41a7abb21d5d",
            "2c53c89c9c864f97baa9d52ae1c431d3",
            "535e9970340149be9de7ed011c6c1f25",
            "cfd8f809848b415ab03fa7930eaeee77",
            "f91bd102fe8e409ba81f28d19b049629",
            "355dc098ff6146de82f4f78dbbc1769c",
            "26daf96e98564f109ba6ab5580e5180d",
            "4ec0a133a16e48d4bd6353a24067ec3c",
            "4c699ac6ffb140adbafeca04d11bfae6",
            "904fbac548a44541b6109b91f1c8a037",
            "8feff4b4e1614ace9396d66f88092999",
            "205d0ef469534830a03fb7b06229a96a",
            "ba7ed511dc4a4144a364be54a8b558fe",
            "bb53a39b30094acfbc62ccac53782642",
            "87b38b9d895b42b88c9c48b3143ba238",
            "6c256153289b467ab7e1b3cd3198248a",
            "687a7fccfb274c688e46f17bfa701ea6",
            "26c99694e7334cd1a9777d0ab6e8b708",
            "a55f1bb0857f413fa8c22b483d9b0f6e",
            "f8e3ea9b89e64412a41a767877713215",
            "eced92d118424ace9e238388bece5b5a",
            "4177ea66d1f34d30912b6f33983a84c9",
            "a8d4cb42802649d1a72e1091d504f3e5",
            "537dd169e594403ab1f2b5ba291c38f7",
            "5845d9f4eed743c29d103d9b5444920f",
            "17aa75e90df14f4f9dfba46e5db3267c",
            "8df109a375d24bfc8724103c343cc5ce",
            "01d76f2adc054a80a2a9ea6c705c7124",
            "01b43e1709cf47d283a8e9ede1021cd7",
            "8f18e008140244b69c3d5635b2be9706",
            "8fbe3bfd47054725b5da5610cbceeb77",
            "27613e5c81dc4b57b05807fad86d461a",
            "9f1cd5c60a23432e8991f7587f2566f4",
            "2db34f79b93c4795928223f209a65b8a",
            "a590dce9cf084ea5a0a88237e6e7e36a",
            "e9c3441227794f9b8c2bfa331ad1b041",
            "f4c89fea7d8344d2a67385b61d009e61",
            "55eac0d331dd429dac7773111194f9bd",
            "cf5aef87fbdc4b92a15baf5e0c1a90a6",
            "01fe020abd204ed586bed3407a6effbd",
            "b92f9e8ec1c544c8800f6cf61d272e83",
            "e25f0be27a3948bfa16f159ba57e9b51",
            "f730f6db10f24d028cf5dcace71f3743",
            "9bb16dd402824323bbb7468c90b53419",
            "5fd3c19a560546229a2ddf8c9666fa2a",
            "aa7a06f27b434d2191a8e5af906bd591",
            "b49b00d511224255bd9a7c3d0f165119"
          ]
        },
        "id": "97S8TtiXPdmD",
        "outputId": "11466891-a28a-4e36-cb63-dd74470574de"
      },
      "source": [
        "train_losses, test_losses = [], []\n",
        "train_acc, test_acc = [], []\n",
        "test_counter = [idx*len(test_dataloader.dataset) for idx in range(1, n_epochs+1)]\n",
        "train_counter = [idx*len(train_dataloader.dataset) for idx in range(1, n_epochs+1)]\n",
        "\n",
        "n_epochs = 7\n",
        "for epoch in range(n_epochs):\n",
        "\n",
        "  # Training loop\n",
        "  loss = 0\n",
        "  acc = 0\n",
        "  tqdm_bar = tqdm(train_dataloader, desc=f'Training Epoch {epoch} ', total=int(len(train_dataloader)))\n",
        "\n",
        "  for batch_idx, imgs in enumerate(tqdm_bar):\n",
        "\n",
        "    optimizer.zero_grad()\n",
        "\n",
        "\n",
        "    resnet18_fine_tune.train();\n",
        "\n",
        "    for key in imgs:\n",
        "      imgs[key] = imgs[key].to(device)\n",
        "\n",
        "    holistic_img = imgs['header']\n",
        "    targets = imgs['targets']\n",
        "\n",
        "    prediction = resnet18_fine_tune(holistic_img.to(device))\n",
        "\n",
        "    loss_calc = criterion(prediction.to(device), targets.to(device))\n",
        "\n",
        "    loss_calc.backward()\n",
        "    optimizer.step()\n",
        "\n",
        "    loss += loss_calc.item()\n",
        "    acc += accuracy(prediction.to(device), targets.to(device))\n",
        "    tqdm_bar.set_postfix(loss=loss/(batch_idx+1), acc = acc/(batch_idx+1))\n",
        "\n",
        "  train_losses.append(loss/len(train_dataloader)) ## divided by total number of batches\n",
        "\n",
        "\n",
        "\n",
        "  \n",
        "\n",
        "\n",
        "  ## Testing loop\n",
        "  loss = 0\n",
        "  acc = 0\n",
        "  tqdm_bar = tqdm(test_dataloader, desc=f'Testing Epoch {epoch} ', total=int(len(test_dataloader)))\n",
        "\n",
        "  for batch_idx, imgs in enumerate(tqdm_bar):\n",
        "\n",
        "    resnet18_fine_tune.eval();\n",
        "    \n",
        "    for key in imgs:\n",
        "      imgs[key] = imgs[key].to(device)\n",
        "\n",
        "    holistic_img = imgs['header']\n",
        "    targets = imgs['targets']\n",
        "\n",
        "    prediction = resnet18_fine_tune(holistic_img.to(device))\n",
        "\n",
        "    loss_calc = criterion(prediction.to(device), targets.to(device))\n",
        "\n",
        "    loss += loss_calc.item()\n",
        "    acc += accuracy(prediction.to(device), targets.to(device))\n",
        "    tqdm_bar.set_postfix(loss=loss/(batch_idx+1), acc = acc/(batch_idx+1))\n",
        "\n",
        "  test_losses.append(loss/len(test_dataloader)) ## divided by total number of batches\n",
        "\n",
        "  if(True):\n",
        "    torch.save({\n",
        "          \n",
        "          'resnet18_fine_tune' : resnet18_fine_tune.state_dict(),\n",
        "          'optimizer_state_dict': optimizer.state_dict(),\n",
        "          'train_loss' : train_losses[-1],\n",
        "          'test_loss' : test_losses[-1],\n",
        "          'epoch': epoch+1,\n",
        "          }, f\"/content/drive/MyDrive/resnet18_header/checkpt{epoch+1}.pt\")"
      ],
      "execution_count": null,
      "outputs": [
        {
          "output_type": "display_data",
          "data": {
            "application/vnd.jupyter.widget-view+json": {
              "model_id": "044d630ee6fd4b5e8f58da0db17f51a4",
              "version_minor": 0,
              "version_major": 2
            },
            "text/plain": [
              "HBox(children=(FloatProgress(value=0.0, description='Training Epoch 0 ', max=2125.0, style=ProgressStyle(descr…"
            ]
          },
          "metadata": {
            "tags": []
          }
        },
        {
          "output_type": "stream",
          "text": [
            "\n"
          ],
          "name": "stdout"
        },
        {
          "output_type": "display_data",
          "data": {
            "application/vnd.jupyter.widget-view+json": {
              "model_id": "42771edf756d4bc48d67a6f40258c453",
              "version_minor": 0,
              "version_major": 2
            },
            "text/plain": [
              "HBox(children=(FloatProgress(value=0.0, description='Testing Epoch 0 ', max=375.0, style=ProgressStyle(descrip…"
            ]
          },
          "metadata": {
            "tags": []
          }
        },
        {
          "output_type": "stream",
          "text": [
            "\n"
          ],
          "name": "stdout"
        },
        {
          "output_type": "display_data",
          "data": {
            "application/vnd.jupyter.widget-view+json": {
              "model_id": "4ec0a133a16e48d4bd6353a24067ec3c",
              "version_minor": 0,
              "version_major": 2
            },
            "text/plain": [
              "HBox(children=(FloatProgress(value=0.0, description='Training Epoch 1 ', max=2125.0, style=ProgressStyle(descr…"
            ]
          },
          "metadata": {
            "tags": []
          }
        },
        {
          "output_type": "stream",
          "text": [
            "\n"
          ],
          "name": "stdout"
        },
        {
          "output_type": "display_data",
          "data": {
            "application/vnd.jupyter.widget-view+json": {
              "model_id": "6c256153289b467ab7e1b3cd3198248a",
              "version_minor": 0,
              "version_major": 2
            },
            "text/plain": [
              "HBox(children=(FloatProgress(value=0.0, description='Testing Epoch 1 ', max=375.0, style=ProgressStyle(descrip…"
            ]
          },
          "metadata": {
            "tags": []
          }
        },
        {
          "output_type": "stream",
          "text": [
            "\n"
          ],
          "name": "stdout"
        },
        {
          "output_type": "display_data",
          "data": {
            "application/vnd.jupyter.widget-view+json": {
              "model_id": "537dd169e594403ab1f2b5ba291c38f7",
              "version_minor": 0,
              "version_major": 2
            },
            "text/plain": [
              "HBox(children=(FloatProgress(value=0.0, description='Training Epoch 2 ', max=2125.0, style=ProgressStyle(descr…"
            ]
          },
          "metadata": {
            "tags": []
          }
        },
        {
          "output_type": "stream",
          "text": [
            "\n"
          ],
          "name": "stdout"
        },
        {
          "output_type": "display_data",
          "data": {
            "application/vnd.jupyter.widget-view+json": {
              "model_id": "27613e5c81dc4b57b05807fad86d461a",
              "version_minor": 0,
              "version_major": 2
            },
            "text/plain": [
              "HBox(children=(FloatProgress(value=0.0, description='Testing Epoch 2 ', max=375.0, style=ProgressStyle(descrip…"
            ]
          },
          "metadata": {
            "tags": []
          }
        },
        {
          "output_type": "stream",
          "text": [
            "\n"
          ],
          "name": "stdout"
        },
        {
          "output_type": "display_data",
          "data": {
            "application/vnd.jupyter.widget-view+json": {
              "model_id": "01fe020abd204ed586bed3407a6effbd",
              "version_minor": 0,
              "version_major": 2
            },
            "text/plain": [
              "HBox(children=(FloatProgress(value=0.0, description='Training Epoch 3 ', max=2125.0, style=ProgressStyle(descr…"
            ]
          },
          "metadata": {
            "tags": []
          }
        }
      ]
    },
    {
      "cell_type": "code",
      "metadata": {
        "id": "M7wXdfQrGSvF"
      },
      "source": [
        "## load the weights till epoch 9\n",
        "checkpoint = torch.load(\"/content/drive/MyDrive/resnet18_header/checkpt3.pt\",map_location=torch.device(device))\n",
        "resnet18_fine_tune.load_state_dict(checkpoint['resnet18_fine_tune'])\n",
        "optimizer.load_state_dict(checkpoint['optimizer_state_dict'])"
      ],
      "execution_count": null,
      "outputs": []
    },
    {
      "cell_type": "code",
      "metadata": {
        "id": "MQvQ-6qXtBAF"
      },
      "source": [
        "## load the weights till epoch 9\n",
        "checkpoint = torch.load(\"/content/drive/MyDrive/resnet18_header/checkpt3.pt\",map_location=torch.device(device))\n",
        "resnet18_fine_tune.load_state_dict(checkpoint['resnet18_fine_tune'])\n",
        "optimizer.load_state_dict(checkpoint['optimizer_state_dict'])\n",
        "\n",
        "with torch.no_grad():\n",
        "  for batch_idx, batch in enumerate(train_dataloader):\n",
        "    # if(batch_idx == 10):\n",
        "    #   break\n",
        "    right_half = batch['header']\n",
        "    #holistic_img = holistic_img.repeat_interleave(3, dim=1)\n",
        "    feature_tensor = resnet18_fine_tune(right_half)\n",
        "    torch.save(feature_tensor, f'/content/drive/MyDrive/resnet18_header_features/train/{batch_idx}.pt')"
      ],
      "execution_count": null,
      "outputs": []
    },
    {
      "cell_type": "code",
      "metadata": {
        "id": "zpZVvA1k6vX5"
      },
      "source": [
        "## load the weights till epoch 9\n",
        "checkpoint = torch.load(\"/content/drive/MyDrive/resnet18_header/checkpt3.pt\",map_location=torch.device(device))\n",
        "resnet18_fine_tune.load_state_dict(checkpoint['resnet18_fine_tune'])\n",
        "optimizer.load_state_dict(checkpoint['optimizer_state_dict'])\n",
        "\n",
        "with torch.no_grad():\n",
        "  for batch_idx, batch in enumerate(test_dataloader):\n",
        "    # if(batch_idx == 10):\n",
        "    #   break\n",
        "    right_half = batch['header']\n",
        "    #holistic_img = holistic_img.repeat_interleave(3, dim=1)\n",
        "    feature_tensor = resnet18_fine_tune(right_half)\n",
        "    torch.save(feature_tensor, f'/content/drive/MyDrive/resnet18_header_features/test/{batch_idx}.pt')"
      ],
      "execution_count": null,
      "outputs": []
    },
    {
      "cell_type": "code",
      "metadata": {
        "id": "JjemNBEjC1wl"
      },
      "source": [
        "# train_losses, test_losses = [], []\n",
        "# train_acc, test_acc = [], []\n",
        "# test_counter = [idx*len(test_dataloader.dataset) for idx in range(1, n_epochs+1)]\n",
        "# train_counter = [idx*len(train_dataloader.dataset) for idx in range(1, n_epochs+1)]\n",
        "\n",
        "# n_epochs = 25\n",
        "# for epoch in range(10,n_epochs):\n",
        "\n",
        "#   # Training loop\n",
        "#   loss = 0\n",
        "#   acc = 0\n",
        "#   tqdm_bar = tqdm(train_dataloader, desc=f'Training Epoch {epoch} ', total=int(len(train_dataloader)))\n",
        "\n",
        "#   for batch_idx, imgs in enumerate(tqdm_bar):\n",
        "\n",
        "#     optimizer.zero_grad()\n",
        "\n",
        "\n",
        "#     resnet18_fine_tune.train();\n",
        "\n",
        "#     for key in imgs:\n",
        "#       imgs[key] = imgs[key].to(device)\n",
        "\n",
        "#     holistic_img = imgs['holistic']\n",
        "#     targets = imgs['targets']\n",
        "#     # _mean = holistic_img[:,0,:,:].mean(axis=0)\n",
        "#     # _std  = holistic_img[:,0,:,:].std(axis=0)\n",
        "#     # holistic_img[:,0,:,:] = (holistic_img[:,0,:,:]-_mean)/_std\n",
        "\n",
        "#     ## convert the 1 channel image to 3 channel image\n",
        "#     #holistic_img_3 = holistic_img.repeat_interleave(3, dim=1)\n",
        "#     #holistic_img_3[:, 1:3, :, :] = 0\n",
        "\n",
        "#     prediction = resnet18_fine_tune(holistic_img.to(device))\n",
        "\n",
        "#     loss_calc = criterion(prediction.to(device), targets.to(device))\n",
        "\n",
        "#     loss_calc.backward()\n",
        "#     optimizer.step()\n",
        "\n",
        "#     loss += loss_calc.item()\n",
        "#     acc += accuracy(prediction.to(device), targets.to(device))\n",
        "#     tqdm_bar.set_postfix(loss=loss/(batch_idx+1), acc = acc/(batch_idx+1))\n",
        "\n",
        "#   train_losses.append(loss/len(train_dataloader)) ## divided by total number of batches\n",
        "\n",
        "\n",
        "\n",
        "  \n",
        "\n",
        "\n",
        "#   ## Testing loop\n",
        "#   loss = 0\n",
        "#   acc = 0\n",
        "#   tqdm_bar = tqdm(test_dataloader, desc=f'Testing Epoch {epoch} ', total=int(len(test_dataloader)))\n",
        "\n",
        "#   for batch_idx, imgs in enumerate(tqdm_bar):\n",
        "\n",
        "#     resnet18_fine_tune.eval();\n",
        "    \n",
        "#     for key in imgs:\n",
        "#       imgs[key] = imgs[key].to(device)\n",
        "\n",
        "#     holistic_img = imgs['holistic']\n",
        "#     targets = imgs['targets']\n",
        "#     # _mean = holistic_img[:,0,:,:].mean(axis=0)\n",
        "#     # _std  = holistic_img[:,0,:,:].std(axis=0)\n",
        "#     # holistic_img[:,0,:,:] = (holistic_img[:,0,:,:]-_mean)/_std\n",
        "    \n",
        "#     ## convert the 1 channel image to 3 channel image\n",
        "#     #holistic_img_3 = holistic_img.repeat_interleave(3, dim=1)\n",
        "    \n",
        "#     #holistic_img_3[:, 1:3, :, :] = 0\n",
        "    \n",
        "#     prediction = resnet18_fine_tune(holistic_img.to(device))\n",
        "\n",
        "#     loss_calc = criterion(prediction.to(device), targets.to(device))\n",
        "\n",
        "#     loss += loss_calc.item()\n",
        "#     acc += accuracy(prediction.to(device), targets.to(device))\n",
        "#     tqdm_bar.set_postfix(loss=loss/(batch_idx+1), acc = acc/(batch_idx+1))\n",
        "\n",
        "#   test_losses.append(loss/len(test_dataloader)) ## divided by total number of batches\n",
        "\n",
        "\n",
        "#   #new_state_dict = {}\n",
        "#   # layers = ['last_layer.weight', 'last_layer.bias']\n",
        "#   # for layer in layers:\n",
        "#   #   new_state_dict[layer] = vgg16_fine_tune_last_layer.state_dict()[layer]\n",
        "\n",
        "#   if(True):\n",
        "#     torch.save({\n",
        "          \n",
        "#           'resnet18_fine_tune' : resnet18_fine_tune.state_dict(),\n",
        "#           'optimizer_state_dict': optimizer.state_dict(),\n",
        "#           'train_loss' : train_losses[-1],\n",
        "#           'test_loss' : test_losses[-1],\n",
        "#           'epoch': epoch+1,\n",
        "#           }, f\"/content/drive/MyDrive/resnet18_fine_tune_all_four_blocks/checkpt{epoch+1}.pt\")"
      ],
      "execution_count": null,
      "outputs": []
    },
    {
      "cell_type": "code",
      "metadata": {
        "id": "3WJE5XkKO6kU"
      },
      "source": [
        "# train_paths, test_paths = train_test_split(train_path, test_size=0.1, random_state=42)\n",
        "# #train_paths = train_paths[:len(train_paths)]\n",
        "# test_paths = test_paths[:len(test_paths)]\n",
        "\n",
        "# #train_dataloader = DataLoader(ImageDataset(train_paths), batch_size=batch_size, shuffle=True, num_workers=n_cpu)\n",
        "# test_dataloader = DataLoader(ImageDataset(test_paths), batch_size=int(batch_size), shuffle=True, num_workers=n_cpu)"
      ],
      "execution_count": null,
      "outputs": []
    },
    {
      "cell_type": "code",
      "metadata": {
        "id": "I7z3c-_yEXWy"
      },
      "source": [
        "# ######## Evaluation loop\n",
        "# train_losses, test_losses = [], []\n",
        "# train_acc, test_acc = [], []\n",
        "# test_counter = [idx*len(test_dataloader.dataset) for idx in range(1, n_epochs+1)]\n",
        "# train_counter = [idx*len(train_dataloader.dataset) for idx in range(1, n_epochs+1)]\n",
        "\n",
        "# n_epochs = 1\n",
        "# for epoch in range(n_epochs):\n",
        "#   ## Testing loop\n",
        "#   loss = 0\n",
        "#   acc = 0\n",
        "#   tqdm_bar = tqdm(test_dataloader, desc=f'Testing Epoch {epoch} ', total=int(len(test_dataloader)))\n",
        "\n",
        "#   for batch_idx, imgs in enumerate(tqdm_bar):\n",
        "\n",
        "#     resnet18_fine_tune.eval();\n",
        "    \n",
        "#     for key in imgs:\n",
        "#       imgs[key] = imgs[key].to(device)\n",
        "\n",
        "#     holistic_img = imgs['holistic']\n",
        "#     targets = imgs['targets']\n",
        "    \n",
        "#     prediction = resnet18_fine_tune(holistic_img.to(device))\n",
        "\n",
        "#     loss_calc = criterion(prediction.to(device), targets.to(device))\n",
        "\n",
        "#     loss += loss_calc.item()\n",
        "#     acc += accuracy(prediction.to(device), targets.to(device))\n",
        "#     tqdm_bar.set_postfix(loss=loss/(batch_idx+1), acc = acc/(batch_idx+1))\n",
        "\n",
        "#   test_losses.append(loss/len(test_dataloader)) ## divided by total number of batches"
      ],
      "execution_count": null,
      "outputs": []
    }
  ]
}