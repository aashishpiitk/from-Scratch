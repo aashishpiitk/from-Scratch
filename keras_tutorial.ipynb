{
  "nbformat": 4,
  "nbformat_minor": 0,
  "metadata": {
    "colab": {
      "name": "Untitled4.ipynb",
      "provenance": [],
      "authorship_tag": "ABX9TyOD908doim5KAeEqzQmga/M",
      "include_colab_link": true
    },
    "kernelspec": {
      "name": "python3",
      "display_name": "Python 3"
    }
  },
  "cells": [
    {
      "cell_type": "markdown",
      "metadata": {
        "id": "view-in-github",
        "colab_type": "text"
      },
      "source": [
        "<a href=\"https://colab.research.google.com/github/aashishpiitk/from-Scratch/blob/master/keras_tutorial.ipynb\" target=\"_parent\"><img src=\"https://colab.research.google.com/assets/colab-badge.svg\" alt=\"Open In Colab\"/></a>"
      ]
    },
    {
      "cell_type": "code",
      "metadata": {
        "id": "1QOII5RXOEVt",
        "colab_type": "code",
        "colab": {
          "base_uri": "https://localhost:8080/",
          "height": 33
        },
        "outputId": "5c99a0c4-6810-4ef0-efbd-249a23cf147a"
      },
      "source": [
        "import numpy as np\n",
        "from keras import layers\n",
        "from keras.layers import Input, Dense, Activation, ZeroPadding2D, BatchNormalization, Flatten, Conv2D\n",
        "from keras.layers import AveragePooling2D, MaxPooling2D, Dropout, GlobalMaxPooling2D, GlobalAveragePooling2D\n",
        "from keras.models import Model\n",
        "from keras.preprocessing import image\n",
        "from keras.utils import layer_utils\n",
        "from keras.utils.data_utils import get_file\n",
        "from keras.applications.imagenet_utils import preprocess_input\n",
        "import pydot\n",
        "from IPython.display import SVG\n",
        "from keras.utils.vis_utils import model_to_dot\n",
        "from keras.utils import plot_model\n",
        "import matplotlib.pyplot as plt\n",
        "from matplotlib.pyplot import imshow\n"
      ],
      "execution_count": 1,
      "outputs": [
        {
          "output_type": "stream",
          "text": [
            "Using TensorFlow backend.\n"
          ],
          "name": "stderr"
        }
      ]
    },
    {
      "cell_type": "code",
      "metadata": {
        "id": "bzpP7JZ-SwKH",
        "colab_type": "code",
        "colab": {}
      },
      "source": [
        "def model(X_input):\n",
        "  X_input(Input(input_shape))\n",
        "  X=ZeroPadding2D((3,3))(X_input)\n",
        "  X=Conv2D(32,(7,7),strides=(1,1),name='conv0')(X)\n",
        "  X=BatchNormalization(axis=3,name='bn0')(X)\n",
        "  X=Activation('relu')(X)\n",
        "  X=MaxPooling2D((2,2),name='max_pool')(X)\n",
        "  X=Flatten()(X)\n",
        "  X=Dense(1,activation='sigmoid',name='fc')(X)\n",
        "  model=Model(inputs=X_input,outputs=X,name='FirstModel')\n",
        "  "
      ],
      "execution_count": 0,
      "outputs": []
    }
  ]
}