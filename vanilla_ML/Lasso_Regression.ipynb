{
 "cells": [
  {
   "cell_type": "code",
   "execution_count": 29,
   "metadata": {},
   "outputs": [],
   "source": [
    "import numpy as np"
   ]
  },
  {
   "cell_type": "code",
   "execution_count": 30,
   "metadata": {},
   "outputs": [],
   "source": [
    "def lassoCost(X,y,theta,lamda):\n",
    "    [m,n]=X.shape\n",
    "    H=np.dot(X,theta)\n",
    "    error=H-y\n",
    "    J=(1/(2*m))*sum(np.multiply(error,error))+(lamda/m)*sum(np.absolute(theta))\n",
    "    #rint(J,n,\"\\n\")\n",
    "    grad=np.multiply((1/m),(np.dot(X.T,error)))+(lamda/m)*np.divide((theta),(np.absolute(theta)))\n",
    "    return [J,grad]"
   ]
  },
  {
   "cell_type": "code",
   "execution_count": 31,
   "metadata": {},
   "outputs": [],
   "source": [
    "def gradient_descent(X,y,theta,alpha,num_iterations,lamda):\n",
    "    J_history=np.zeros([num_iterations,1])\n",
    "    for i in range(num_iterations):\n",
    "        a=lassoCost(X,y,theta,lamda)\n",
    "        J_history=a[0]\n",
    "        grad=a[1]\n",
    "        theta=theta-np.multiply(grad,alpha)\n",
    "    return theta"
   ]
  },
  {
   "cell_type": "code",
   "execution_count": 32,
   "metadata": {},
   "outputs": [],
   "source": [
    "def lasso_regression(X_train,y,theta,alpha,degree,X_test,num_iterations,lamda):\n",
    "    X=X_train\n",
    "    [m,n]=X.shape\n",
    "    theta=np.random.randn(X.shape[1],1)\n",
    "    theta=gradient_descent(X,y,theta,alpha,num_iterations,lamda)#n+1 * 1\n",
    "    #temp=np.ones([X.shape[0],1])\n",
    "    #X_test=np.append(temp,X_test,axis=1)\n",
    "    predict=np.dot(X_test,theta)\n",
    "    return predict,theta"
   ]
  },
  {
   "cell_type": "code",
   "execution_count": 33,
   "metadata": {},
   "outputs": [
    {
     "name": "stdout",
     "output_type": "stream",
     "text": [
      "[[0.89994205]\n",
      " [1.80031948]]\n"
     ]
    }
   ],
   "source": [
    "#demo for using this function\n",
    "X=np.array([[1,2],[3,4]])\n",
    "y=[[1],[2]]\n",
    "theta=[[0],[0],[0]]\n",
    "print((lasso_regression(X,y,theta,0.001,2,X,10000,1))[0])"
   ]
  }
 ],
 "metadata": {
  "kernelspec": {
   "display_name": "Python 3",
   "language": "python",
   "name": "python3"
  },
  "language_info": {
   "codemirror_mode": {
    "name": "ipython",
    "version": 3
   },
   "file_extension": ".py",
   "mimetype": "text/x-python",
   "name": "python",
   "nbconvert_exporter": "python",
   "pygments_lexer": "ipython3",
   "version": "3.6.9"
  }
 },
 "nbformat": 4,
 "nbformat_minor": 2
}
