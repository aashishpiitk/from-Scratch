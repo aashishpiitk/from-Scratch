{
  "nbformat": 4,
  "nbformat_minor": 0,
  "metadata": {
    "colab": {
      "name": "fashion_mnist_LeNet.ipynb",
      "provenance": [],
      "collapsed_sections": [],
      "machine_shape": "hm",
      "authorship_tag": "ABX9TyPIaFhzrtU4GEiDQ2wxBuGn",
      "include_colab_link": true
    },
    "kernelspec": {
      "name": "python3",
      "display_name": "Python 3"
    }
  },
  "cells": [
    {
      "cell_type": "markdown",
      "metadata": {
        "id": "view-in-github",
        "colab_type": "text"
      },
      "source": [
        "<a href=\"https://colab.research.google.com/github/aashishpiitk/from-Scratch/blob/master/fashion_mnist_LeNet.ipynb\" target=\"_parent\"><img src=\"https://colab.research.google.com/assets/colab-badge.svg\" alt=\"Open In Colab\"/></a>"
      ]
    },
    {
      "cell_type": "code",
      "metadata": {
        "id": "VwRPn0-eI54s",
        "colab_type": "code",
        "colab": {}
      },
      "source": [
        "#important note never use tensorflow.keras and keras at the same time as they are a lot different and can cause problems"
      ],
      "execution_count": 0,
      "outputs": []
    },
    {
      "cell_type": "code",
      "metadata": {
        "id": "1IYO37ktlwA2",
        "colab_type": "code",
        "colab": {}
      },
      "source": [
        "from tensorflow import keras         \n",
        "import tensorflow as tf\n",
        "from tensorflow.keras import Model\n",
        "from tensorflow.keras.layers import Conv2D,Dense,ReLU,Softmax,MaxPool2D,AvgPool2D,Input,BatchNormalization\n",
        "from tensorflow.keras.activations import tanh,sigmoid\n",
        "import numpy as np\n",
        "from tensorflow.keras.utils import to_categorical\n",
        "import matplotlib.pyplot as plt\n",
        "from tensorflow.keras.callbacks import ReduceLROnPlateau,EarlyStopping"
      ],
      "execution_count": 0,
      "outputs": []
    },
    {
      "cell_type": "code",
      "metadata": {
        "id": "QJ6s0-L8mRmz",
        "colab_type": "code",
        "colab": {}
      },
      "source": [
        "fashion_mnist=keras.datasets.fashion_mnist\n",
        "(x_train,y_train),(x_test,y_test) = fashion_mnist.load_data()\n"
      ],
      "execution_count": 0,
      "outputs": []
    },
    {
      "cell_type": "code",
      "metadata": {
        "id": "Up5K2z3f2a69",
        "colab_type": "code",
        "colab": {
          "base_uri": "https://localhost:8080/",
          "height": 264
        },
        "outputId": "b713390d-a540-4953-afa1-792f19432941"
      },
      "source": [
        "plt.figure()\n",
        "plt.imshow(x_train[1].reshape(28,28))\n",
        "plt.colorbar()\n",
        "plt.grid(False)\n",
        "plt.show()"
      ],
      "execution_count": 141,
      "outputs": [
        {
          "output_type": "display_data",
          "data": {
            "image/png": "[encoded data removed]",
            "text/plain": [
              "<Figure size 432x288 with 2 Axes>"
            ]
          },
          "metadata": {
            "tags": [],
            "needs_background": "light"
          }
        }
      ]
    },
    {
      "cell_type": "code",
      "metadata": {
        "id": "e1QJGNj7wSAC",
        "colab_type": "code",
        "colab": {}
      },
      "source": [
        "#preprocessing x_train\n",
        "x_train=x_train.reshape((-1,28,28,1))\n",
        "x_train=x_train.astype(\"float32\")\n",
        "\n",
        "#preprocessing x_test\n",
        "x_test=x_test.reshape((-1,28,28,1))\n",
        "x_test=x_test.astype(\"float32\")"
      ],
      "execution_count": 0,
      "outputs": []
    },
    {
      "cell_type": "code",
      "metadata": {
        "id": "iC5rZ5S_w0BC",
        "colab_type": "code",
        "colab": {
          "base_uri": "https://localhost:8080/",
          "height": 34
        },
        "outputId": "dcaaefaa-bfe4-453d-9c16-e668596ae949"
      },
      "source": [
        "x_train.dtype"
      ],
      "execution_count": 143,
      "outputs": [
        {
          "output_type": "execute_result",
          "data": {
            "text/plain": [
              "dtype('float32')"
            ]
          },
          "metadata": {
            "tags": []
          },
          "execution_count": 143
        }
      ]
    },
    {
      "cell_type": "code",
      "metadata": {
        "id": "Rzee080OnRxj",
        "colab_type": "code",
        "colab": {
          "base_uri": "https://localhost:8080/",
          "height": 34
        },
        "outputId": "6d619f1b-f5d2-4101-e067-20b04986dc2f"
      },
      "source": [
        "x_train.shape"
      ],
      "execution_count": 144,
      "outputs": [
        {
          "output_type": "execute_result",
          "data": {
            "text/plain": [
              "(60000, 28, 28, 1)"
            ]
          },
          "metadata": {
            "tags": []
          },
          "execution_count": 144
        }
      ]
    },
    {
      "cell_type": "code",
      "metadata": {
        "id": "N4UZ0qBYnVTV",
        "colab_type": "code",
        "colab": {}
      },
      "source": [
        "def LeNet(input_shape):\n",
        "  input=Input(shape=input_shape)           #declaring a placeholder\n",
        "  print(input_shape)\n",
        "  conv1=Conv2D(filters=6,kernel_size=3,padding=\"same\")(input)\n",
        "  bn=BatchNormalization(axis=3)(conv1)\n",
        "  conv1=ReLU()(bn)\n",
        "\n",
        "  pool1=Conv2D(6,2,(2,2))(conv1)\n",
        "  bn=BatchNormalization(axis=3)(pool1)\n",
        "  pool1=ReLU()(bn)\n",
        "\n",
        "  conv2=Conv2D(16,5,1)(pool1)\n",
        "  bn=BatchNormalization(axis=3)(conv2)\n",
        "  conv2=ReLU()(bn)\n",
        "\n",
        "  pool2=Conv2D(16,2,2)(conv2)\n",
        "  bn=BatchNormalization(axis=3)(pool2)\n",
        "  pool2=ReLU()(bn)\n",
        "\n",
        "  flatten=Conv2D(120,5)(pool2)\n",
        "  bn=BatchNormalization(axis=3)(flatten)\n",
        "  flatten=ReLU()(bn)\n",
        "\n",
        "\n",
        "  full1=Dense(84,activation=\"tanh\")(flatten)\n",
        "\n",
        "  full2=Dense(10,activation=\"softmax\")(full1)\n",
        "\n",
        "  full2=tf.reshape(full2,(-1,10))\n",
        "\n",
        "\n",
        "  model=Model(inputs=input,outputs=full2)      #creating a model with placeholder\n",
        "  return model"
      ],
      "execution_count": 0,
      "outputs": []
    },
    {
      "cell_type": "code",
      "metadata": {
        "id": "V-JMNQJTywie",
        "colab_type": "code",
        "colab": {}
      },
      "source": [
        ""
      ],
      "execution_count": 0,
      "outputs": []
    },
    {
      "cell_type": "code",
      "metadata": {
        "id": "X0QgSJu_xHHX",
        "colab_type": "code",
        "colab": {
          "base_uri": "https://localhost:8080/",
          "height": 34
        },
        "outputId": "072d7abd-ade1-4d61-84b3-e66e130075f1"
      },
      "source": [
        "#convert x_train to tensor and dtype=float32\n",
        "#x_train=tf.tensor(x_train)\n",
        "#convert y_train and y_test to one hot \n",
        "# y_train=y_train.reshape(-1,1)\n",
        "# y_test=y_test.reshape(-1,1)\n",
        "print(y_train.shape)"
      ],
      "execution_count": 146,
      "outputs": [
        {
          "output_type": "stream",
          "text": [
            "(60000,)\n"
          ],
          "name": "stdout"
        }
      ]
    },
    {
      "cell_type": "code",
      "metadata": {
        "id": "JlZO5cVT_DML",
        "colab_type": "code",
        "colab": {
          "base_uri": "https://localhost:8080/",
          "height": 34
        },
        "outputId": "979eecdc-fa22-4eb2-aa4c-24f98ae97a42"
      },
      "source": [
        "print(y_train.shape)"
      ],
      "execution_count": 147,
      "outputs": [
        {
          "output_type": "stream",
          "text": [
            "(60000,)\n"
          ],
          "name": "stdout"
        }
      ]
    },
    {
      "cell_type": "code",
      "metadata": {
        "id": "bpJNUyaY0YFY",
        "colab_type": "code",
        "colab": {
          "base_uri": "https://localhost:8080/",
          "height": 34
        },
        "outputId": "2083eec3-7a83-4a15-e588-bd26e10ef362"
      },
      "source": [
        "y_train=to_categorical(y_train,num_classes=10,dtype=\"float32\").reshape(60000,10)\n",
        "y_test=to_categorical(y_test,num_classes=10,dtype=\"float32\").reshape(-1,10)\n",
        "print(y_train.shape)"
      ],
      "execution_count": 148,
      "outputs": [
        {
          "output_type": "stream",
          "text": [
            "(60000, 10)\n"
          ],
          "name": "stdout"
        }
      ]
    },
    {
      "cell_type": "code",
      "metadata": {
        "id": "2xL-SB5tutfY",
        "colab_type": "code",
        "colab": {}
      },
      "source": [
        "def train(x_train,y_train):\n",
        "  model=LeNet(x_train.shape[1:4])\n",
        "  model.compile(loss=\"categorical_crossentropy\",\n",
        "                optimizer=\"adam\",\n",
        "                metrics=['accuracy'])\n",
        "  print(x_train.shape)\n",
        "  lr_reducer=ReduceLROnPlateau(factor=np.sqrt(0.1),\n",
        "                               cooldown=0,\n",
        "                               patience=5,\n",
        "                               min_lr=0.5e-6)#making an object from this class\n",
        "  early_stopper=EarlyStopping(min_delta=0.001,patience=10)\n",
        "  model.fit(x_train,\n",
        "            y_train,batch_size=60,\n",
        "            epochs=10,\n",
        "            callbacks=[lr_reducer, early_stopper])\n",
        "  \n",
        "  test_loss, test_acc = model.evaluate(x_test,  y_test, verbose=2)\n",
        "  print('\\nTest accuracy:', test_acc)"
      ],
      "execution_count": 0,
      "outputs": []
    },
    {
      "cell_type": "code",
      "metadata": {
        "id": "oFtEUk0O5wFf",
        "colab_type": "code",
        "colab": {
          "base_uri": "https://localhost:8080/",
          "height": 816
        },
        "outputId": "04cb5833-acfb-4099-a303-1c89aa54a428"
      },
      "source": [
        "train(x_train,y_train)"
      ],
      "execution_count": 150,
      "outputs": [
        {
          "output_type": "stream",
          "text": [
            "(28, 28, 1)\n",
            "(60000, 28, 28, 1)\n",
            "Epoch 1/10\n",
            " 999/1000 [============================>.] - ETA: 0s - loss: 0.4434 - accuracy: 0.8402WARNING:tensorflow:Reduce LR on plateau conditioned on metric `val_loss` which is not available. Available metrics are: loss,accuracy,lr\n",
            "WARNING:tensorflow:Early stopping conditioned on metric `val_loss` which is not available. Available metrics are: loss,accuracy,lr\n",
            "1000/1000 [==============================] - 34s 34ms/step - loss: 0.4433 - accuracy: 0.8403 - lr: 0.0010\n",
            "Epoch 2/10\n",
            " 999/1000 [============================>.] - ETA: 0s - loss: 0.3107 - accuracy: 0.8833WARNING:tensorflow:Reduce LR on plateau conditioned on metric `val_loss` which is not available. Available metrics are: loss,accuracy,lr\n",
            "WARNING:tensorflow:Early stopping conditioned on metric `val_loss` which is not available. Available metrics are: loss,accuracy,lr\n",
            "1000/1000 [==============================] - 34s 34ms/step - loss: 0.3107 - accuracy: 0.8834 - lr: 0.0010\n",
            "Epoch 3/10\n",
            " 999/1000 [============================>.] - ETA: 0s - loss: 0.2724 - accuracy: 0.8985WARNING:tensorflow:Reduce LR on plateau conditioned on metric `val_loss` which is not available. Available metrics are: loss,accuracy,lr\n",
            "WARNING:tensorflow:Early stopping conditioned on metric `val_loss` which is not available. Available metrics are: loss,accuracy,lr\n",
            "1000/1000 [==============================] - 34s 34ms/step - loss: 0.2724 - accuracy: 0.8984 - lr: 0.0010\n",
            "Epoch 4/10\n",
            " 999/1000 [============================>.] - ETA: 0s - loss: 0.2488 - accuracy: 0.9058WARNING:tensorflow:Reduce LR on plateau conditioned on metric `val_loss` which is not available. Available metrics are: loss,accuracy,lr\n",
            "WARNING:tensorflow:Early stopping conditioned on metric `val_loss` which is not available. Available metrics are: loss,accuracy,lr\n",
            "1000/1000 [==============================] - 34s 34ms/step - loss: 0.2488 - accuracy: 0.9058 - lr: 0.0010\n",
            "Epoch 5/10\n",
            " 999/1000 [============================>.] - ETA: 0s - loss: 0.2294 - accuracy: 0.9142WARNING:tensorflow:Reduce LR on plateau conditioned on metric `val_loss` which is not available. Available metrics are: loss,accuracy,lr\n",
            "WARNING:tensorflow:Early stopping conditioned on metric `val_loss` which is not available. Available metrics are: loss,accuracy,lr\n",
            "1000/1000 [==============================] - 34s 34ms/step - loss: 0.2293 - accuracy: 0.9142 - lr: 0.0010\n",
            "Epoch 6/10\n",
            " 999/1000 [============================>.] - ETA: 0s - loss: 0.2132 - accuracy: 0.9192WARNING:tensorflow:Reduce LR on plateau conditioned on metric `val_loss` which is not available. Available metrics are: loss,accuracy,lr\n",
            "WARNING:tensorflow:Early stopping conditioned on metric `val_loss` which is not available. Available metrics are: loss,accuracy,lr\n",
            "1000/1000 [==============================] - 34s 34ms/step - loss: 0.2133 - accuracy: 0.9191 - lr: 0.0010\n",
            "Epoch 7/10\n",
            " 999/1000 [============================>.] - ETA: 0s - loss: 0.1978 - accuracy: 0.9246WARNING:tensorflow:Reduce LR on plateau conditioned on metric `val_loss` which is not available. Available metrics are: loss,accuracy,lr\n",
            "WARNING:tensorflow:Early stopping conditioned on metric `val_loss` which is not available. Available metrics are: loss,accuracy,lr\n",
            "1000/1000 [==============================] - 34s 34ms/step - loss: 0.1977 - accuracy: 0.9247 - lr: 0.0010\n",
            "Epoch 8/10\n",
            " 999/1000 [============================>.] - ETA: 0s - loss: 0.1852 - accuracy: 0.9297WARNING:tensorflow:Reduce LR on plateau conditioned on metric `val_loss` which is not available. Available metrics are: loss,accuracy,lr\n",
            "WARNING:tensorflow:Early stopping conditioned on metric `val_loss` which is not available. Available metrics are: loss,accuracy,lr\n",
            "1000/1000 [==============================] - 34s 34ms/step - loss: 0.1852 - accuracy: 0.9297 - lr: 0.0010\n",
            "Epoch 9/10\n",
            " 999/1000 [============================>.] - ETA: 0s - loss: 0.1720 - accuracy: 0.9343WARNING:tensorflow:Reduce LR on plateau conditioned on metric `val_loss` which is not available. Available metrics are: loss,accuracy,lr\n",
            "WARNING:tensorflow:Early stopping conditioned on metric `val_loss` which is not available. Available metrics are: loss,accuracy,lr\n",
            "1000/1000 [==============================] - 34s 34ms/step - loss: 0.1720 - accuracy: 0.9343 - lr: 0.0010\n",
            "Epoch 10/10\n",
            " 999/1000 [============================>.] - ETA: 0s - loss: 0.1617 - accuracy: 0.9386WARNING:tensorflow:Reduce LR on plateau conditioned on metric `val_loss` which is not available. Available metrics are: loss,accuracy,lr\n",
            "WARNING:tensorflow:Early stopping conditioned on metric `val_loss` which is not available. Available metrics are: loss,accuracy,lr\n",
            "1000/1000 [==============================] - 34s 34ms/step - loss: 0.1617 - accuracy: 0.9385 - lr: 0.0010\n",
            "313/313 - 2s - loss: 0.3009 - accuracy: 0.8975\n",
            "\n",
            "Test accuracy: 0.8974999785423279\n"
          ],
          "name": "stdout"
        }
      ]
    },
    {
      "cell_type": "code",
      "metadata": {
        "id": "ZKdE2EuP9B8V",
        "colab_type": "code",
        "colab": {}
      },
      "source": [
        ""
      ],
      "execution_count": 0,
      "outputs": []
    }
  ]
}